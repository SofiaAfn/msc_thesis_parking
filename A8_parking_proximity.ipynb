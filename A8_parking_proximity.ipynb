{
 "cells": [
  {
   "cell_type": "code",
   "execution_count": null,
   "metadata": {},
   "outputs": [],
   "source": [
    "import json\n",
    "import numpy as np\n",
    "import pandas as pd\n",
    "import pyproj\n",
    "import plotly.graph_objects as go\n",
    "\n",
    "import parking_triangulation_utils"
   ]
  },
  {
   "cell_type": "code",
   "execution_count": null,
   "metadata": {},
   "outputs": [],
   "source": [
    "# load vehicle detections\n",
    "car_triangulations_df = pd.read_csv(\n",
    "    \"/home/sf_afn/Downloads/univrses_data/parked_car_triangulations_2023_04_24.csv\"\n",
    ")\n",
    "\n",
    "# Load the parking segments\n",
    "with open(\n",
    "    \"/home/sf_afn//Downloads/univrses_data/permitted_parking_linestrings.json\"\n",
    ") as user_file:\n",
    "    parking_json = json.load(user_file)\n"
   ]
  },
  {
   "cell_type": "code",
   "execution_count": null,
   "metadata": {},
   "outputs": [],
   "source": [
    "car_triangulations_df"
   ]
  },
  {
   "cell_type": "code",
   "execution_count": null,
   "metadata": {},
   "outputs": [],
   "source": [
    "# ----> 1. convert loaded df crs\n",
    "car_triangulations_df = parking_triangulation_utils.convert_crs(car_triangulations_df)\n",
    "detections = car_triangulations_df[\"xy_3011\"][:]\n",
    "# 2.\n",
    "car_triangulations_df[\"nearby_parking_ids\"] = car_triangulations_df.apply(\n",
    "    lambda row: parking_triangulation_utils.parking_proximity(\n",
    "        row[\"xy_3011\"], parking_json, radius=20\n",
    "    ),\n",
    "    axis=1,\n",
    ")\n",
    "\n",
    "\n",
    "# for point in detections:\n",
    "#     nearby_parking_ids = parking_triangulation_utils.parking_proximity(point,\n",
    "#                                                                        parking_json,\n",
    "#                                                                        radius= 20)\n"
   ]
  },
  {
   "cell_type": "code",
   "execution_count": null,
   "metadata": {},
   "outputs": [],
   "source": [
    "car_triangulations_df.info()\n"
   ]
  },
  {
   "cell_type": "code",
   "execution_count": null,
   "metadata": {},
   "outputs": [],
   "source": [
    "# ----> 3.\n",
    "# maybe like plot all car detections\n",
    "\n",
    "len(car_triangulations_df[\"nearby_parking_ids\"][1])"
   ]
  },
  {
   "cell_type": "code",
   "execution_count": null,
   "metadata": {},
   "outputs": [],
   "source": [
    "# check if a cell is an empty list\n",
    "mask = car_triangulations_df[\"nearby_parking_ids\"].apply(lambda x: len(x) != 0)\n",
    "\n",
    "car_tri_filtered_df = car_triangulations_df.loc[mask]"
   ]
  },
  {
   "cell_type": "code",
   "execution_count": null,
   "metadata": {},
   "outputs": [],
   "source": [
    "car_tri_filtered_df\n"
   ]
  },
  {
   "cell_type": "code",
   "execution_count": null,
   "metadata": {},
   "outputs": [],
   "source": [
    "def get_projections(parking_json, car_tri_filtered_df):\n",
    "    for each in car_tri_filtered_df[\"nearby_parking_ids\"]:\n",
    "        print(each)\n",
    "    # parking_triangulation_utils.parking_line_at_index(parking_json,)"
   ]
  },
  {
   "cell_type": "code",
   "execution_count": null,
   "metadata": {},
   "outputs": [],
   "source": [
    "car_tri_filtered_df[[\"xy_3011\", \"nearby_parking_ids\"]]"
   ]
  },
  {
   "cell_type": "code",
   "execution_count": null,
   "metadata": {},
   "outputs": [],
   "source": [
    "# from tqdm import tqdm"
   ]
  },
  {
   "cell_type": "code",
   "execution_count": null,
   "metadata": {},
   "outputs": [],
   "source": [
    "locate_closest_parking_idx(car_triangulations_df,parking_json)"
   ]
  },
  {
   "cell_type": "code",
   "execution_count": null,
   "metadata": {},
   "outputs": [],
   "source": [
    "for idx, row in car_tri_filtered_df.iterrows():\n",
    "    tri_point = row[\"xy_3011\"]\n",
    "    parking_lines_idx_list = row[\"nearby_parking_ids\"]\n",
    "    # print(parking_lines_idx_list)\n",
    "    if len(row[\"nearby_parking_ids\"]) == 1:\n",
    "        # print(idx,row['nearby_parking_ids'])\n",
    "        car_tri_filtered_df.loc[idx, \"closest_parking_id\"] = row[\"nearby_parking_ids\"][0]\n",
    "        # break\n",
    "        # print(idx,row['xy_3011'],row['closest_parking_line'])\n",
    "    else:\n",
    "        proj_dict = {}\n",
    "        for one_parking_line_id in row[\"nearby_parking_ids\"]:\n",
    "            parking_line_coords = parking_triangulation_utils.parking_line_at_index(\n",
    "                parking_json, one_parking_line_id\n",
    "            )\n",
    "            parking_line_p = [parking_line_coords[0], parking_line_coords[-1]]\n",
    "            \n",
    "            proj = parking_triangulation_utils.project_point_on_line_segment(\n",
    "                tri_point, parking_line_p\n",
    "            )\n",
    "            # print(idx,parking_line_coords[0],parking_line_coords[-1])\n",
    "            proj_dist = [np.linalg.norm(tri_point - proj)] #list\n",
    "\n",
    "            proj_dict[one_parking_line_id] = proj_dist \n",
    "            # print('got proj',proj_dist)\n",
    "        # print(proj_dict)\n",
    "        car_tri_filtered_df.loc[idx, \"closest_parking_id\"] = min(proj_dict, key=proj_dict.get)\n",
    "        car_tri_filtered_df.loc[idx, \"all_close_parking_id\"] = [proj_dict]\n",
    "        # print(tri_point,proj_list)\n",
    "\n",
    "        # print(one_parking_line)"
   ]
  },
  {
   "cell_type": "code",
   "execution_count": null,
   "metadata": {},
   "outputs": [],
   "source": []
  },
  {
   "cell_type": "code",
   "execution_count": null,
   "metadata": {},
   "outputs": [],
   "source": [
    "\n",
    "parking_json[\"features\"]"
   ]
  },
  {
   "cell_type": "code",
   "execution_count": null,
   "metadata": {},
   "outputs": [],
   "source": [
    "print(car_tri_filtered_df['all_close_parking_id'])"
   ]
  },
  {
   "cell_type": "code",
   "execution_count": null,
   "metadata": {},
   "outputs": [],
   "source": [
    "car_tri_filtered_df[:10]"
   ]
  },
  {
   "cell_type": "code",
   "execution_count": null,
   "metadata": {},
   "outputs": [],
   "source": [
    "#retrive geometry by parking line idx\n",
    "\n",
    "#copy the df for safe keeping\n",
    "\n",
    "car_tri_filtered_df_copy = car_tri_filtered_df.copy(deep= True)"
   ]
  },
  {
   "cell_type": "code",
   "execution_count": null,
   "metadata": {},
   "outputs": [],
   "source": [
    "car_tri_filtered_df_copy.head()"
   ]
  },
  {
   "cell_type": "code",
   "execution_count": null,
   "metadata": {},
   "outputs": [],
   "source": [
    "car_tri_filtered_df_copy['closest_parking_id']= car_tri_filtered_df_copy.apply(lambda r: int(r['closest_parking_id']),axis=1)"
   ]
  },
  {
   "cell_type": "code",
   "execution_count": null,
   "metadata": {},
   "outputs": [],
   "source": [
    "# add closest parking id geometry\n",
    "\n",
    "car_tri_filtered_df_copy['closest_parking_geom']= car_tri_filtered_df_copy.apply(lambda row: parking_triangulation_utils\n",
    "                                                       .parking_line_at_index(\n",
    "                                                           parking_json, row['closest_parking_id']), \n",
    "                                                            axis=1)"
   ]
  },
  {
   "cell_type": "markdown",
   "metadata": {},
   "source": []
  },
  {
   "cell_type": "code",
   "execution_count": null,
   "metadata": {},
   "outputs": [],
   "source": [
    "car_tri_filtered_df_copy['closest_parking_geom'].iloc[0]"
   ]
  },
  {
   "cell_type": "code",
   "execution_count": null,
   "metadata": {},
   "outputs": [],
   "source": [
    "import plotly.graph_objects as go"
   ]
  },
  {
   "cell_type": "code",
   "execution_count": null,
   "metadata": {},
   "outputs": [],
   "source": [
    "fig = go.Figure()\n",
    "#permitted parking all in blue\n",
    "fig.add_trace(\n",
    "    go.Scatter(\n",
    "        x=[\n",
    "            p[0]\n",
    "            for f in parking_json[\"features\"]\n",
    "            for p in f[\"geometry\"][\"coordinates\"] + [[None, None]]\n",
    "        ],\n",
    "        y=[\n",
    "            p[1]\n",
    "            for f in parking_json[\"features\"]\n",
    "            for p in f[\"geometry\"][\"coordinates\"] + [[None, None]]\n",
    "        ],\n",
    "        name=\"permitted_parking\",\n",
    "    )\n",
    ")\n",
    "traces = []\n",
    "# closest parking in red\n",
    "for idx, row in car_tri_filtered_df_copy.iterrows() :\n",
    "    trace = fig.add_trace(go.Scatter(x=[r[0] for r in row['closest_parking_geom']],\n",
    "                       y=[r[1] for r in row['closest_parking_geom']], \n",
    "                       name= f\"closest_parking_{row['closest_parking_id']}\", \n",
    "                       mode= 'lines', \n",
    "                       marker_color='red'\n",
    "                        ))               \n",
    "    #traces.append(trace)\n",
    "\n",
    "# plot the traces\n",
    "#fig = go.Figure(data=traces)\n",
    "\n",
    "# triangualtion point in ...\n",
    "fig.add_trace(\n",
    "    go.Scatter(\n",
    "        x=[\n",
    "            x for x in car_tri_filtered_df_copy['x_3011']\n",
    "            ],\n",
    "        y=[\n",
    "           y for y in car_tri_filtered_df_copy['y_3011'] \n",
    "            ],\n",
    "        name=\"Car triangulations\",\n",
    "        mode=\"markers\",\n",
    "        marker_color='green',\n",
    "        marker_size= 5\n",
    "              \n",
    "    )\n",
    ")\n",
    "\n",
    "fig.update_layout(\n",
    "    autosize= False,\n",
    "    width = 1200,\n",
    "    height = 1000\n",
    "    \n",
    ")\n",
    "fig.update_yaxes(\n",
    "    scaleanchor=\"x\")\n",
    "    \n",
    "\n",
    "fig.show()\n"
   ]
  },
  {
   "cell_type": "code",
   "execution_count": null,
   "metadata": {},
   "outputs": [],
   "source": [
    "car_tri_filtered_df_copy"
   ]
  },
  {
   "cell_type": "code",
   "execution_count": null,
   "metadata": {},
   "outputs": [],
   "source": [
    "# car_tri_filtered_df_copy.to_csv('car_tri.csv')"
   ]
  },
  {
   "cell_type": "code",
   "execution_count": null,
   "metadata": {},
   "outputs": [],
   "source": [
    "type(car_tri_filtered_df_copy.iloc[1]['closest_parking_id'])"
   ]
  },
  {
   "cell_type": "code",
   "execution_count": null,
   "metadata": {},
   "outputs": [],
   "source": [
    "parking_occ_df = pd.DataFrame()"
   ]
  },
  {
   "cell_type": "code",
   "execution_count": null,
   "metadata": {},
   "outputs": [],
   "source": [
    "parking_occ_df[['closest_parking_id','first_ts', 'last_ts']] =car_tri_filtered_df[['closest_parking_id',\n",
    "                                                                                'first_timestamp',\n",
    "                                                                                'last_timestamp']]"
   ]
  },
  {
   "cell_type": "code",
   "execution_count": null,
   "metadata": {},
   "outputs": [],
   "source": [
    "parking_occ_df['parking_count'] = car_tri_filtered_df_copy.groupby('closest_parking_id').count()['xy_3011'].values"
   ]
  },
  {
   "cell_type": "code",
   "execution_count": null,
   "metadata": {},
   "outputs": [],
   "source": [
    "parking_occ_df.index"
   ]
  },
  {
   "cell_type": "code",
   "execution_count": null,
   "metadata": {},
   "outputs": [],
   "source": [
    "parking_occ_df.reset_index(inplace=True)"
   ]
  },
  {
   "cell_type": "code",
   "execution_count": null,
   "metadata": {},
   "outputs": [],
   "source": [
    "parking_occ_df['closest_parking_id'] = parking_occ_df.apply(lambda r: int(r['closest_parking_id']),axis=1)\n",
    "parking_occ_df['closes_parking_geom'] = parking_occ_df.apply(lambda row: parking_triangulation_utils\n",
    "                                                       .parking_line_at_index(\n",
    "                                                           parking_json, row['closest_parking_id']), \n",
    "                                                            axis=1)"
   ]
  },
  {
   "cell_type": "code",
   "execution_count": null,
   "metadata": {},
   "outputs": [],
   "source": [
    "parking_occ_df"
   ]
  },
  {
   "cell_type": "code",
   "execution_count": null,
   "metadata": {},
   "outputs": [],
   "source": [
    "car_tri_filtered_df_copy.groupby('closest_parking_id').count()['xy_3011']"
   ]
  },
  {
   "cell_type": "code",
   "execution_count": null,
   "metadata": {},
   "outputs": [],
   "source": [
    "parking_id_grp_df.count()"
   ]
  },
  {
   "cell_type": "code",
   "execution_count": null,
   "metadata": {},
   "outputs": [],
   "source": [
    "parking_id_grp_df"
   ]
  },
  {
   "cell_type": "code",
   "execution_count": null,
   "metadata": {},
   "outputs": [],
   "source": []
  }
 ],
 "metadata": {
  "kernelspec": {
   "display_name": "prkng_v2_env",
   "language": "python",
   "name": "python3"
  },
  "language_info": {
   "codemirror_mode": {
    "name": "ipython",
    "version": 3
   },
   "file_extension": ".py",
   "mimetype": "text/x-python",
   "name": "python",
   "nbconvert_exporter": "python",
   "pygments_lexer": "ipython3",
   "version": "3.11.3"
  },
  "orig_nbformat": 4
 },
 "nbformat": 4,
 "nbformat_minor": 2
}
