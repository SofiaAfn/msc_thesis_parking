{
 "cells": [
  {
   "cell_type": "code",
   "execution_count": 1,
   "metadata": {},
   "outputs": [],
   "source": [
    "import plotly.graph_objects as go\n",
    "import numpy as np\n",
    "\n",
    "# import time\n",
    "import random\n",
    "import scipy.optimize\n",
    "import numpy as np\n",
    "import matplotlib.pyplot as plt\n",
    "import pandas as pd"
   ]
  },
  {
   "cell_type": "code",
   "execution_count": 2,
   "metadata": {},
   "outputs": [
    {
     "ename": "FileNotFoundError",
     "evalue": "[Errno 2] No such file or directory: '/home/sofia_afn/Insync/sofiaa720@gmail.com/Google Drive/masters_thesis/code_v1/msc_parking/univrses/data/Kris_updated_v2.csv'",
     "output_type": "error",
     "traceback": [
      "\u001b[0;31m---------------------------------------------------------------------------\u001b[0m",
      "\u001b[0;31mFileNotFoundError\u001b[0m                         Traceback (most recent call last)",
      "Cell \u001b[0;32mIn[2], line 1\u001b[0m\n\u001b[0;32m----> 1\u001b[0m data_df \u001b[38;5;241m=\u001b[39m pd\u001b[38;5;241m.\u001b[39mread_csv(\n\u001b[1;32m      2\u001b[0m     \u001b[38;5;124m\"\u001b[39m\u001b[38;5;124m/home/sofia_afn/Insync/sofiaa720@gmail.com/Google Drive/masters_thesis/code_v1/msc_parking/univrses/data/Kris_updated_v2.csv\u001b[39m\u001b[38;5;124m\"\u001b[39m\n\u001b[1;32m      3\u001b[0m )\n",
      "File \u001b[0;32m~/usr_sa/anaconda3/envs/prkng_v2_env/lib/python3.11/site-packages/pandas/io/parsers/readers.py:912\u001b[0m, in \u001b[0;36mread_csv\u001b[0;34m(filepath_or_buffer, sep, delimiter, header, names, index_col, usecols, dtype, engine, converters, true_values, false_values, skipinitialspace, skiprows, skipfooter, nrows, na_values, keep_default_na, na_filter, verbose, skip_blank_lines, parse_dates, infer_datetime_format, keep_date_col, date_parser, date_format, dayfirst, cache_dates, iterator, chunksize, compression, thousands, decimal, lineterminator, quotechar, quoting, doublequote, escapechar, comment, encoding, encoding_errors, dialect, on_bad_lines, delim_whitespace, low_memory, memory_map, float_precision, storage_options, dtype_backend)\u001b[0m\n\u001b[1;32m    899\u001b[0m kwds_defaults \u001b[38;5;241m=\u001b[39m _refine_defaults_read(\n\u001b[1;32m    900\u001b[0m     dialect,\n\u001b[1;32m    901\u001b[0m     delimiter,\n\u001b[0;32m   (...)\u001b[0m\n\u001b[1;32m    908\u001b[0m     dtype_backend\u001b[38;5;241m=\u001b[39mdtype_backend,\n\u001b[1;32m    909\u001b[0m )\n\u001b[1;32m    910\u001b[0m kwds\u001b[38;5;241m.\u001b[39mupdate(kwds_defaults)\n\u001b[0;32m--> 912\u001b[0m \u001b[38;5;28;01mreturn\u001b[39;00m _read(filepath_or_buffer, kwds)\n",
      "File \u001b[0;32m~/usr_sa/anaconda3/envs/prkng_v2_env/lib/python3.11/site-packages/pandas/io/parsers/readers.py:577\u001b[0m, in \u001b[0;36m_read\u001b[0;34m(filepath_or_buffer, kwds)\u001b[0m\n\u001b[1;32m    574\u001b[0m _validate_names(kwds\u001b[38;5;241m.\u001b[39mget(\u001b[38;5;124m\"\u001b[39m\u001b[38;5;124mnames\u001b[39m\u001b[38;5;124m\"\u001b[39m, \u001b[38;5;28;01mNone\u001b[39;00m))\n\u001b[1;32m    576\u001b[0m \u001b[38;5;66;03m# Create the parser.\u001b[39;00m\n\u001b[0;32m--> 577\u001b[0m parser \u001b[38;5;241m=\u001b[39m TextFileReader(filepath_or_buffer, \u001b[38;5;241m*\u001b[39m\u001b[38;5;241m*\u001b[39mkwds)\n\u001b[1;32m    579\u001b[0m \u001b[38;5;28;01mif\u001b[39;00m chunksize \u001b[38;5;129;01mor\u001b[39;00m iterator:\n\u001b[1;32m    580\u001b[0m     \u001b[38;5;28;01mreturn\u001b[39;00m parser\n",
      "File \u001b[0;32m~/usr_sa/anaconda3/envs/prkng_v2_env/lib/python3.11/site-packages/pandas/io/parsers/readers.py:1407\u001b[0m, in \u001b[0;36mTextFileReader.__init__\u001b[0;34m(self, f, engine, **kwds)\u001b[0m\n\u001b[1;32m   1404\u001b[0m     \u001b[38;5;28mself\u001b[39m\u001b[38;5;241m.\u001b[39moptions[\u001b[38;5;124m\"\u001b[39m\u001b[38;5;124mhas_index_names\u001b[39m\u001b[38;5;124m\"\u001b[39m] \u001b[38;5;241m=\u001b[39m kwds[\u001b[38;5;124m\"\u001b[39m\u001b[38;5;124mhas_index_names\u001b[39m\u001b[38;5;124m\"\u001b[39m]\n\u001b[1;32m   1406\u001b[0m \u001b[38;5;28mself\u001b[39m\u001b[38;5;241m.\u001b[39mhandles: IOHandles \u001b[38;5;241m|\u001b[39m \u001b[38;5;28;01mNone\u001b[39;00m \u001b[38;5;241m=\u001b[39m \u001b[38;5;28;01mNone\u001b[39;00m\n\u001b[0;32m-> 1407\u001b[0m \u001b[38;5;28mself\u001b[39m\u001b[38;5;241m.\u001b[39m_engine \u001b[38;5;241m=\u001b[39m \u001b[38;5;28mself\u001b[39m\u001b[38;5;241m.\u001b[39m_make_engine(f, \u001b[38;5;28mself\u001b[39m\u001b[38;5;241m.\u001b[39mengine)\n",
      "File \u001b[0;32m~/usr_sa/anaconda3/envs/prkng_v2_env/lib/python3.11/site-packages/pandas/io/parsers/readers.py:1661\u001b[0m, in \u001b[0;36mTextFileReader._make_engine\u001b[0;34m(self, f, engine)\u001b[0m\n\u001b[1;32m   1659\u001b[0m     \u001b[38;5;28;01mif\u001b[39;00m \u001b[38;5;124m\"\u001b[39m\u001b[38;5;124mb\u001b[39m\u001b[38;5;124m\"\u001b[39m \u001b[38;5;129;01mnot\u001b[39;00m \u001b[38;5;129;01min\u001b[39;00m mode:\n\u001b[1;32m   1660\u001b[0m         mode \u001b[38;5;241m+\u001b[39m\u001b[38;5;241m=\u001b[39m \u001b[38;5;124m\"\u001b[39m\u001b[38;5;124mb\u001b[39m\u001b[38;5;124m\"\u001b[39m\n\u001b[0;32m-> 1661\u001b[0m \u001b[38;5;28mself\u001b[39m\u001b[38;5;241m.\u001b[39mhandles \u001b[38;5;241m=\u001b[39m get_handle(\n\u001b[1;32m   1662\u001b[0m     f,\n\u001b[1;32m   1663\u001b[0m     mode,\n\u001b[1;32m   1664\u001b[0m     encoding\u001b[38;5;241m=\u001b[39m\u001b[38;5;28mself\u001b[39m\u001b[38;5;241m.\u001b[39moptions\u001b[38;5;241m.\u001b[39mget(\u001b[38;5;124m\"\u001b[39m\u001b[38;5;124mencoding\u001b[39m\u001b[38;5;124m\"\u001b[39m, \u001b[38;5;28;01mNone\u001b[39;00m),\n\u001b[1;32m   1665\u001b[0m     compression\u001b[38;5;241m=\u001b[39m\u001b[38;5;28mself\u001b[39m\u001b[38;5;241m.\u001b[39moptions\u001b[38;5;241m.\u001b[39mget(\u001b[38;5;124m\"\u001b[39m\u001b[38;5;124mcompression\u001b[39m\u001b[38;5;124m\"\u001b[39m, \u001b[38;5;28;01mNone\u001b[39;00m),\n\u001b[1;32m   1666\u001b[0m     memory_map\u001b[38;5;241m=\u001b[39m\u001b[38;5;28mself\u001b[39m\u001b[38;5;241m.\u001b[39moptions\u001b[38;5;241m.\u001b[39mget(\u001b[38;5;124m\"\u001b[39m\u001b[38;5;124mmemory_map\u001b[39m\u001b[38;5;124m\"\u001b[39m, \u001b[38;5;28;01mFalse\u001b[39;00m),\n\u001b[1;32m   1667\u001b[0m     is_text\u001b[38;5;241m=\u001b[39mis_text,\n\u001b[1;32m   1668\u001b[0m     errors\u001b[38;5;241m=\u001b[39m\u001b[38;5;28mself\u001b[39m\u001b[38;5;241m.\u001b[39moptions\u001b[38;5;241m.\u001b[39mget(\u001b[38;5;124m\"\u001b[39m\u001b[38;5;124mencoding_errors\u001b[39m\u001b[38;5;124m\"\u001b[39m, \u001b[38;5;124m\"\u001b[39m\u001b[38;5;124mstrict\u001b[39m\u001b[38;5;124m\"\u001b[39m),\n\u001b[1;32m   1669\u001b[0m     storage_options\u001b[38;5;241m=\u001b[39m\u001b[38;5;28mself\u001b[39m\u001b[38;5;241m.\u001b[39moptions\u001b[38;5;241m.\u001b[39mget(\u001b[38;5;124m\"\u001b[39m\u001b[38;5;124mstorage_options\u001b[39m\u001b[38;5;124m\"\u001b[39m, \u001b[38;5;28;01mNone\u001b[39;00m),\n\u001b[1;32m   1670\u001b[0m )\n\u001b[1;32m   1671\u001b[0m \u001b[38;5;28;01massert\u001b[39;00m \u001b[38;5;28mself\u001b[39m\u001b[38;5;241m.\u001b[39mhandles \u001b[38;5;129;01mis\u001b[39;00m \u001b[38;5;129;01mnot\u001b[39;00m \u001b[38;5;28;01mNone\u001b[39;00m\n\u001b[1;32m   1672\u001b[0m f \u001b[38;5;241m=\u001b[39m \u001b[38;5;28mself\u001b[39m\u001b[38;5;241m.\u001b[39mhandles\u001b[38;5;241m.\u001b[39mhandle\n",
      "File \u001b[0;32m~/usr_sa/anaconda3/envs/prkng_v2_env/lib/python3.11/site-packages/pandas/io/common.py:859\u001b[0m, in \u001b[0;36mget_handle\u001b[0;34m(path_or_buf, mode, encoding, compression, memory_map, is_text, errors, storage_options)\u001b[0m\n\u001b[1;32m    854\u001b[0m \u001b[38;5;28;01melif\u001b[39;00m \u001b[38;5;28misinstance\u001b[39m(handle, \u001b[38;5;28mstr\u001b[39m):\n\u001b[1;32m    855\u001b[0m     \u001b[38;5;66;03m# Check whether the filename is to be opened in binary mode.\u001b[39;00m\n\u001b[1;32m    856\u001b[0m     \u001b[38;5;66;03m# Binary mode does not support 'encoding' and 'newline'.\u001b[39;00m\n\u001b[1;32m    857\u001b[0m     \u001b[38;5;28;01mif\u001b[39;00m ioargs\u001b[38;5;241m.\u001b[39mencoding \u001b[38;5;129;01mand\u001b[39;00m \u001b[38;5;124m\"\u001b[39m\u001b[38;5;124mb\u001b[39m\u001b[38;5;124m\"\u001b[39m \u001b[38;5;129;01mnot\u001b[39;00m \u001b[38;5;129;01min\u001b[39;00m ioargs\u001b[38;5;241m.\u001b[39mmode:\n\u001b[1;32m    858\u001b[0m         \u001b[38;5;66;03m# Encoding\u001b[39;00m\n\u001b[0;32m--> 859\u001b[0m         handle \u001b[38;5;241m=\u001b[39m \u001b[38;5;28mopen\u001b[39m(\n\u001b[1;32m    860\u001b[0m             handle,\n\u001b[1;32m    861\u001b[0m             ioargs\u001b[38;5;241m.\u001b[39mmode,\n\u001b[1;32m    862\u001b[0m             encoding\u001b[38;5;241m=\u001b[39mioargs\u001b[38;5;241m.\u001b[39mencoding,\n\u001b[1;32m    863\u001b[0m             errors\u001b[38;5;241m=\u001b[39merrors,\n\u001b[1;32m    864\u001b[0m             newline\u001b[38;5;241m=\u001b[39m\u001b[38;5;124m\"\u001b[39m\u001b[38;5;124m\"\u001b[39m,\n\u001b[1;32m    865\u001b[0m         )\n\u001b[1;32m    866\u001b[0m     \u001b[38;5;28;01melse\u001b[39;00m:\n\u001b[1;32m    867\u001b[0m         \u001b[38;5;66;03m# Binary mode\u001b[39;00m\n\u001b[1;32m    868\u001b[0m         handle \u001b[38;5;241m=\u001b[39m \u001b[38;5;28mopen\u001b[39m(handle, ioargs\u001b[38;5;241m.\u001b[39mmode)\n",
      "\u001b[0;31mFileNotFoundError\u001b[0m: [Errno 2] No such file or directory: '/home/sofia_afn/Insync/sofiaa720@gmail.com/Google Drive/masters_thesis/code_v1/msc_parking/univrses/data/Kris_updated_v2.csv'"
     ]
    }
   ],
   "source": [
    "data_df = pd.read_csv(\n",
    "    \"/home/sofia_afn/Insync/sofiaa720@gmail.com/Google Drive/masters_thesis/code_v1/msc_parking/univrses/data/Kris_updated_v2.csv\"\n",
    ")\n"
   ]
  },
  {
   "cell_type": "code",
   "execution_count": null,
   "metadata": {},
   "outputs": [
    {
     "data": {
      "text/html": [
       "<div>\n",
       "<style scoped>\n",
       "    .dataframe tbody tr th:only-of-type {\n",
       "        vertical-align: middle;\n",
       "    }\n",
       "\n",
       "    .dataframe tbody tr th {\n",
       "        vertical-align: top;\n",
       "    }\n",
       "\n",
       "    .dataframe thead th {\n",
       "        text-align: right;\n",
       "    }\n",
       "</style>\n",
       "<table border=\"1\" class=\"dataframe\">\n",
       "  <thead>\n",
       "    <tr style=\"text-align: right;\">\n",
       "      <th></th>\n",
       "      <th>File_name</th>\n",
       "      <th>Count</th>\n",
       "      <th>Timestamp</th>\n",
       "    </tr>\n",
       "  </thead>\n",
       "  <tbody>\n",
       "    <tr>\n",
       "      <th>0</th>\n",
       "      <td>Kris_0606-2036.png</td>\n",
       "      <td>31.0</td>\n",
       "      <td>2023-06-06 20:36:28</td>\n",
       "    </tr>\n",
       "    <tr>\n",
       "      <th>1</th>\n",
       "      <td>Kris_0606-2106.png</td>\n",
       "      <td>28.0</td>\n",
       "      <td>2023-06-06 21:06:47</td>\n",
       "    </tr>\n",
       "    <tr>\n",
       "      <th>2</th>\n",
       "      <td>Kris_0606-2137.png</td>\n",
       "      <td>22.0</td>\n",
       "      <td>2023-06-06 21:37:03</td>\n",
       "    </tr>\n",
       "    <tr>\n",
       "      <th>3</th>\n",
       "      <td>Kris_0606-2207.png</td>\n",
       "      <td>27.0</td>\n",
       "      <td>2023-06-06 22:07:23</td>\n",
       "    </tr>\n",
       "    <tr>\n",
       "      <th>4</th>\n",
       "      <td>Kris_0606-2237.png</td>\n",
       "      <td>26.0</td>\n",
       "      <td>2023-06-06 22:37:39</td>\n",
       "    </tr>\n",
       "    <tr>\n",
       "      <th>...</th>\n",
       "      <td>...</td>\n",
       "      <td>...</td>\n",
       "      <td>...</td>\n",
       "    </tr>\n",
       "    <tr>\n",
       "      <th>500</th>\n",
       "      <td>Kris_2606-0752.png</td>\n",
       "      <td>32.0</td>\n",
       "      <td>2023-06-26 20:45:19</td>\n",
       "    </tr>\n",
       "    <tr>\n",
       "      <th>501</th>\n",
       "      <td>Kris_2606-0817.png</td>\n",
       "      <td>37.0</td>\n",
       "      <td>2023-06-26 20:45:19</td>\n",
       "    </tr>\n",
       "    <tr>\n",
       "      <th>502</th>\n",
       "      <td>Kris_2606-0913.png</td>\n",
       "      <td>38.0</td>\n",
       "      <td>2023-06-26 20:45:18</td>\n",
       "    </tr>\n",
       "    <tr>\n",
       "      <th>503</th>\n",
       "      <td>Kris_2606-1007.png</td>\n",
       "      <td>31.0</td>\n",
       "      <td>2023-06-26 20:45:18</td>\n",
       "    </tr>\n",
       "    <tr>\n",
       "      <th>504</th>\n",
       "      <td>Kris_2606-1017.png</td>\n",
       "      <td>39.0</td>\n",
       "      <td>2023-06-26 20:45:18</td>\n",
       "    </tr>\n",
       "  </tbody>\n",
       "</table>\n",
       "<p>505 rows × 3 columns</p>\n",
       "</div>"
      ],
      "text/plain": [
       "              File_name  Count            Timestamp\n",
       "0    Kris_0606-2036.png   31.0  2023-06-06 20:36:28\n",
       "1    Kris_0606-2106.png   28.0  2023-06-06 21:06:47\n",
       "2    Kris_0606-2137.png   22.0  2023-06-06 21:37:03\n",
       "3    Kris_0606-2207.png   27.0  2023-06-06 22:07:23\n",
       "4    Kris_0606-2237.png   26.0  2023-06-06 22:37:39\n",
       "..                  ...    ...                  ...\n",
       "500  Kris_2606-0752.png   32.0  2023-06-26 20:45:19\n",
       "501  Kris_2606-0817.png   37.0  2023-06-26 20:45:19\n",
       "502  Kris_2606-0913.png   38.0  2023-06-26 20:45:18\n",
       "503  Kris_2606-1007.png   31.0  2023-06-26 20:45:18\n",
       "504  Kris_2606-1017.png   39.0  2023-06-26 20:45:18\n",
       "\n",
       "[505 rows x 3 columns]"
      ]
     },
     "execution_count": 11,
     "metadata": {},
     "output_type": "execute_result"
    }
   ],
   "source": [
    "data_df"
   ]
  },
  {
   "cell_type": "code",
   "execution_count": null,
   "metadata": {},
   "outputs": [
    {
     "name": "stdout",
     "output_type": "stream",
     "text": [
      "<class 'pandas.core.frame.DataFrame'>\n",
      "RangeIndex: 505 entries, 0 to 504\n",
      "Data columns (total 3 columns):\n",
      " #   Column     Non-Null Count  Dtype  \n",
      "---  ------     --------------  -----  \n",
      " 0   File_name  505 non-null    object \n",
      " 1   Count      497 non-null    float64\n",
      " 2   Timestamp  505 non-null    object \n",
      "dtypes: float64(1), object(2)\n",
      "memory usage: 12.0+ KB\n"
     ]
    }
   ],
   "source": [
    "data_df.info()"
   ]
  },
  {
   "cell_type": "code",
   "execution_count": null,
   "metadata": {},
   "outputs": [
    {
     "data": {
      "text/plain": [
       "8"
      ]
     },
     "execution_count": 13,
     "metadata": {},
     "output_type": "execute_result"
    }
   ],
   "source": [
    "data_df[\"Count\"].isna().sum()\n"
   ]
  },
  {
   "cell_type": "code",
   "execution_count": null,
   "metadata": {},
   "outputs": [],
   "source": [
    "data_df.dropna(inplace=True)\n",
    "# data_df.drop(columns=[\"Unnamed: 0\"], inplace=True)\n"
   ]
  },
  {
   "cell_type": "code",
   "execution_count": null,
   "metadata": {},
   "outputs": [
    {
     "data": {
      "text/plain": [
       "'0906'"
      ]
     },
     "execution_count": 23,
     "metadata": {},
     "output_type": "execute_result"
    }
   ],
   "source": [
    "data_df[\"File_name\"].loc[100].split(\"-\")[0][5:]\n"
   ]
  },
  {
   "cell_type": "code",
   "execution_count": null,
   "metadata": {},
   "outputs": [
    {
     "data": {
      "text/plain": [
       "'09'"
      ]
     },
     "execution_count": 24,
     "metadata": {},
     "output_type": "execute_result"
    }
   ],
   "source": [
    "data_df[\"File_name\"].loc[100].split(\"-\")[0][5:7]\n"
   ]
  },
  {
   "cell_type": "code",
   "execution_count": null,
   "metadata": {},
   "outputs": [
    {
     "data": {
      "text/plain": [
       "'06'"
      ]
     },
     "execution_count": 25,
     "metadata": {},
     "output_type": "execute_result"
    }
   ],
   "source": [
    "data_df[\"File_name\"].loc[100].split(\"-\")[0][7:9]\n"
   ]
  },
  {
   "cell_type": "code",
   "execution_count": null,
   "metadata": {},
   "outputs": [
    {
     "data": {
      "text/plain": [
       "'2036'"
      ]
     },
     "execution_count": 26,
     "metadata": {},
     "output_type": "execute_result"
    }
   ],
   "source": [
    "data_df[\"File_name\"].loc[0].split(\"-\")[1][:4]\n"
   ]
  },
  {
   "cell_type": "code",
   "execution_count": null,
   "metadata": {},
   "outputs": [
    {
     "data": {
      "text/plain": [
       "'36'"
      ]
     },
     "execution_count": 27,
     "metadata": {},
     "output_type": "execute_result"
    }
   ],
   "source": [
    "data_df[\"File_name\"].loc[0].split(\"-\")[1][:2]\n",
    "data_df[\"File_name\"].loc[0].split(\"-\")[1][2:4]\n"
   ]
  },
  {
   "cell_type": "code",
   "execution_count": null,
   "metadata": {},
   "outputs": [],
   "source": [
    "from datetime import datetime\n",
    "\n",
    "\n",
    "def extract_timestamp(file_name):\n",
    "    # Extract the date and time parts from the string\n",
    "    day = file_name.split(\"-\")[0][5:7]\n",
    "    month = file_name.split(\"-\")[0][7:9]\n",
    "    year = \"2023\"\n",
    "    hour = file_name.split(\"-\")[1][:2]\n",
    "    minute = file_name.split(\"-\")[1][2:4]\n",
    "\n",
    "    # Combine the parts into a string that represents the timestamp\n",
    "    timestamp_str = f\"{day}/{month}/{year} {hour}:{minute}\"\n",
    "\n",
    "    # Convert the string to a datetime object\n",
    "    timestamp = datetime.strptime(timestamp_str, \"%d/%m/%Y %H:%M\")\n",
    "\n",
    "    return timestamp\n",
    "\n",
    "\n",
    "# Apply the function to the 'File Name' column\n",
    "data_df[\"timestamp_true\"] = data_df[\"File_name\"].apply(extract_timestamp)\n",
    "# data_df['timestamp_true'] = pd.to_datetime(data_df['timestamp_true'])"
   ]
  },
  {
   "cell_type": "code",
   "execution_count": null,
   "metadata": {},
   "outputs": [],
   "source": [
    "data_df[\"Count\"] = data_df[\"Count\"].astype(\"int\")\n"
   ]
  },
  {
   "cell_type": "code",
   "execution_count": null,
   "metadata": {},
   "outputs": [
    {
     "ename": "NameError",
     "evalue": "name 'data_df' is not defined",
     "output_type": "error",
     "traceback": [
      "\u001b[0;31m---------------------------------------------------------------------------\u001b[0m",
      "\u001b[0;31mNameError\u001b[0m                                 Traceback (most recent call last)",
      "Cell \u001b[0;32mIn[1], line 1\u001b[0m\n\u001b[0;32m----> 1\u001b[0m data_df[\u001b[39m\"\u001b[39m\u001b[39mnum_timestamp\u001b[39m\u001b[39m\"\u001b[39m] \u001b[39m=\u001b[39m data_df[\u001b[39m\"\u001b[39m\u001b[39mtimestamp_true\u001b[39m\u001b[39m\"\u001b[39m]\u001b[39m.\u001b[39mapply(\u001b[39mlambda\u001b[39;00m x: x\u001b[39m.\u001b[39mtimestamp())\n",
      "\u001b[0;31mNameError\u001b[0m: name 'data_df' is not defined"
     ]
    }
   ],
   "source": [
    "data_df[\"num_timestamp\"] = data_df[\"timestamp_true\"].apply(lambda x: x.timestamp())"
   ]
  },
  {
   "cell_type": "code",
   "execution_count": null,
   "metadata": {},
   "outputs": [],
   "source": [
    "data_df.reset_index(inplace=True)"
   ]
  },
  {
   "cell_type": "code",
   "execution_count": null,
   "metadata": {},
   "outputs": [],
   "source": [
    "data_df[\"month_no\"] = data_df[\"timestamp_true\"].dt.month\n",
    "data_df[\"month_name\"] = data_df[\"timestamp_true\"].dt.month_name()\n",
    "data_df[\"day\"] = data_df[\"timestamp_true\"].dt.day\n",
    "data_df[\"day_of_week\"] = data_df[\"timestamp_true\"].dt.dayofweek\n",
    "data_df[\"day_of_week_name\"] = data_df[\"timestamp_true\"].dt.day_name()\n",
    "data_df[\"is_weekend\"] = np.where(\n",
    "    data_df[\"timestamp_true\"].isin([\"Sunday\", \"Saturday\"]), 1, 0\n",
    ")\n",
    "# data_df['week_no']=  data_df['timestamp_true'].dt.week"
   ]
  },
  {
   "cell_type": "code",
   "execution_count": null,
   "metadata": {},
   "outputs": [],
   "source": [
    "data_df[\"hour_of_day\"] = data_df[\"timestamp_true\"].dt.hour"
   ]
  },
  {
   "cell_type": "code",
   "execution_count": null,
   "metadata": {},
   "outputs": [],
   "source": [
    "data_df.drop(columns=[\"index\"], inplace=True)"
   ]
  },
  {
   "cell_type": "code",
   "execution_count": null,
   "metadata": {},
   "outputs": [
    {
     "data": {
      "text/html": [
       "<div>\n",
       "<style scoped>\n",
       "    .dataframe tbody tr th:only-of-type {\n",
       "        vertical-align: middle;\n",
       "    }\n",
       "\n",
       "    .dataframe tbody tr th {\n",
       "        vertical-align: top;\n",
       "    }\n",
       "\n",
       "    .dataframe thead th {\n",
       "        text-align: right;\n",
       "    }\n",
       "</style>\n",
       "<table border=\"1\" class=\"dataframe\">\n",
       "  <thead>\n",
       "    <tr style=\"text-align: right;\">\n",
       "      <th></th>\n",
       "      <th>File_name</th>\n",
       "      <th>Count</th>\n",
       "      <th>Timestamp</th>\n",
       "      <th>timestamp_true</th>\n",
       "      <th>num_timestamp</th>\n",
       "      <th>month_no</th>\n",
       "      <th>month_name</th>\n",
       "      <th>day</th>\n",
       "      <th>day_of_week</th>\n",
       "      <th>day_of_week_name</th>\n",
       "      <th>is_weekend</th>\n",
       "      <th>hour_of_day</th>\n",
       "    </tr>\n",
       "  </thead>\n",
       "  <tbody>\n",
       "    <tr>\n",
       "      <th>0</th>\n",
       "      <td>Kris_0606-2036.png</td>\n",
       "      <td>31</td>\n",
       "      <td>2023-06-06 20:36:28</td>\n",
       "      <td>2023-06-06 20:36:00</td>\n",
       "      <td>1.686084e+09</td>\n",
       "      <td>6</td>\n",
       "      <td>June</td>\n",
       "      <td>6</td>\n",
       "      <td>1</td>\n",
       "      <td>Tuesday</td>\n",
       "      <td>0</td>\n",
       "      <td>20</td>\n",
       "    </tr>\n",
       "    <tr>\n",
       "      <th>1</th>\n",
       "      <td>Kris_0606-2106.png</td>\n",
       "      <td>28</td>\n",
       "      <td>2023-06-06 21:06:47</td>\n",
       "      <td>2023-06-06 21:06:00</td>\n",
       "      <td>1.686086e+09</td>\n",
       "      <td>6</td>\n",
       "      <td>June</td>\n",
       "      <td>6</td>\n",
       "      <td>1</td>\n",
       "      <td>Tuesday</td>\n",
       "      <td>0</td>\n",
       "      <td>21</td>\n",
       "    </tr>\n",
       "    <tr>\n",
       "      <th>2</th>\n",
       "      <td>Kris_0606-2137.png</td>\n",
       "      <td>22</td>\n",
       "      <td>2023-06-06 21:37:03</td>\n",
       "      <td>2023-06-06 21:37:00</td>\n",
       "      <td>1.686087e+09</td>\n",
       "      <td>6</td>\n",
       "      <td>June</td>\n",
       "      <td>6</td>\n",
       "      <td>1</td>\n",
       "      <td>Tuesday</td>\n",
       "      <td>0</td>\n",
       "      <td>21</td>\n",
       "    </tr>\n",
       "    <tr>\n",
       "      <th>3</th>\n",
       "      <td>Kris_0606-2207.png</td>\n",
       "      <td>27</td>\n",
       "      <td>2023-06-06 22:07:23</td>\n",
       "      <td>2023-06-06 22:07:00</td>\n",
       "      <td>1.686089e+09</td>\n",
       "      <td>6</td>\n",
       "      <td>June</td>\n",
       "      <td>6</td>\n",
       "      <td>1</td>\n",
       "      <td>Tuesday</td>\n",
       "      <td>0</td>\n",
       "      <td>22</td>\n",
       "    </tr>\n",
       "    <tr>\n",
       "      <th>4</th>\n",
       "      <td>Kris_0606-2237.png</td>\n",
       "      <td>26</td>\n",
       "      <td>2023-06-06 22:37:39</td>\n",
       "      <td>2023-06-06 22:37:00</td>\n",
       "      <td>1.686091e+09</td>\n",
       "      <td>6</td>\n",
       "      <td>June</td>\n",
       "      <td>6</td>\n",
       "      <td>1</td>\n",
       "      <td>Tuesday</td>\n",
       "      <td>0</td>\n",
       "      <td>22</td>\n",
       "    </tr>\n",
       "    <tr>\n",
       "      <th>...</th>\n",
       "      <td>...</td>\n",
       "      <td>...</td>\n",
       "      <td>...</td>\n",
       "      <td>...</td>\n",
       "      <td>...</td>\n",
       "      <td>...</td>\n",
       "      <td>...</td>\n",
       "      <td>...</td>\n",
       "      <td>...</td>\n",
       "      <td>...</td>\n",
       "      <td>...</td>\n",
       "      <td>...</td>\n",
       "    </tr>\n",
       "    <tr>\n",
       "      <th>492</th>\n",
       "      <td>Kris_2606-0752.png</td>\n",
       "      <td>32</td>\n",
       "      <td>2023-06-26 20:45:19</td>\n",
       "      <td>2023-06-26 07:52:00</td>\n",
       "      <td>1.687766e+09</td>\n",
       "      <td>6</td>\n",
       "      <td>June</td>\n",
       "      <td>26</td>\n",
       "      <td>0</td>\n",
       "      <td>Monday</td>\n",
       "      <td>0</td>\n",
       "      <td>7</td>\n",
       "    </tr>\n",
       "    <tr>\n",
       "      <th>493</th>\n",
       "      <td>Kris_2606-0817.png</td>\n",
       "      <td>37</td>\n",
       "      <td>2023-06-26 20:45:19</td>\n",
       "      <td>2023-06-26 08:17:00</td>\n",
       "      <td>1.687767e+09</td>\n",
       "      <td>6</td>\n",
       "      <td>June</td>\n",
       "      <td>26</td>\n",
       "      <td>0</td>\n",
       "      <td>Monday</td>\n",
       "      <td>0</td>\n",
       "      <td>8</td>\n",
       "    </tr>\n",
       "    <tr>\n",
       "      <th>494</th>\n",
       "      <td>Kris_2606-0913.png</td>\n",
       "      <td>38</td>\n",
       "      <td>2023-06-26 20:45:18</td>\n",
       "      <td>2023-06-26 09:13:00</td>\n",
       "      <td>1.687771e+09</td>\n",
       "      <td>6</td>\n",
       "      <td>June</td>\n",
       "      <td>26</td>\n",
       "      <td>0</td>\n",
       "      <td>Monday</td>\n",
       "      <td>0</td>\n",
       "      <td>9</td>\n",
       "    </tr>\n",
       "    <tr>\n",
       "      <th>495</th>\n",
       "      <td>Kris_2606-1007.png</td>\n",
       "      <td>31</td>\n",
       "      <td>2023-06-26 20:45:18</td>\n",
       "      <td>2023-06-26 10:07:00</td>\n",
       "      <td>1.687774e+09</td>\n",
       "      <td>6</td>\n",
       "      <td>June</td>\n",
       "      <td>26</td>\n",
       "      <td>0</td>\n",
       "      <td>Monday</td>\n",
       "      <td>0</td>\n",
       "      <td>10</td>\n",
       "    </tr>\n",
       "    <tr>\n",
       "      <th>496</th>\n",
       "      <td>Kris_2606-1017.png</td>\n",
       "      <td>39</td>\n",
       "      <td>2023-06-26 20:45:18</td>\n",
       "      <td>2023-06-26 10:17:00</td>\n",
       "      <td>1.687775e+09</td>\n",
       "      <td>6</td>\n",
       "      <td>June</td>\n",
       "      <td>26</td>\n",
       "      <td>0</td>\n",
       "      <td>Monday</td>\n",
       "      <td>0</td>\n",
       "      <td>10</td>\n",
       "    </tr>\n",
       "  </tbody>\n",
       "</table>\n",
       "<p>497 rows × 12 columns</p>\n",
       "</div>"
      ],
      "text/plain": [
       "              File_name  Count            Timestamp      timestamp_true   \n",
       "0    Kris_0606-2036.png     31  2023-06-06 20:36:28 2023-06-06 20:36:00  \\\n",
       "1    Kris_0606-2106.png     28  2023-06-06 21:06:47 2023-06-06 21:06:00   \n",
       "2    Kris_0606-2137.png     22  2023-06-06 21:37:03 2023-06-06 21:37:00   \n",
       "3    Kris_0606-2207.png     27  2023-06-06 22:07:23 2023-06-06 22:07:00   \n",
       "4    Kris_0606-2237.png     26  2023-06-06 22:37:39 2023-06-06 22:37:00   \n",
       "..                  ...    ...                  ...                 ...   \n",
       "492  Kris_2606-0752.png     32  2023-06-26 20:45:19 2023-06-26 07:52:00   \n",
       "493  Kris_2606-0817.png     37  2023-06-26 20:45:19 2023-06-26 08:17:00   \n",
       "494  Kris_2606-0913.png     38  2023-06-26 20:45:18 2023-06-26 09:13:00   \n",
       "495  Kris_2606-1007.png     31  2023-06-26 20:45:18 2023-06-26 10:07:00   \n",
       "496  Kris_2606-1017.png     39  2023-06-26 20:45:18 2023-06-26 10:17:00   \n",
       "\n",
       "     num_timestamp  month_no month_name  day  day_of_week day_of_week_name   \n",
       "0     1.686084e+09         6       June    6            1          Tuesday  \\\n",
       "1     1.686086e+09         6       June    6            1          Tuesday   \n",
       "2     1.686087e+09         6       June    6            1          Tuesday   \n",
       "3     1.686089e+09         6       June    6            1          Tuesday   \n",
       "4     1.686091e+09         6       June    6            1          Tuesday   \n",
       "..             ...       ...        ...  ...          ...              ...   \n",
       "492   1.687766e+09         6       June   26            0           Monday   \n",
       "493   1.687767e+09         6       June   26            0           Monday   \n",
       "494   1.687771e+09         6       June   26            0           Monday   \n",
       "495   1.687774e+09         6       June   26            0           Monday   \n",
       "496   1.687775e+09         6       June   26            0           Monday   \n",
       "\n",
       "     is_weekend  hour_of_day  \n",
       "0             0           20  \n",
       "1             0           21  \n",
       "2             0           21  \n",
       "3             0           22  \n",
       "4             0           22  \n",
       "..          ...          ...  \n",
       "492           0            7  \n",
       "493           0            8  \n",
       "494           0            9  \n",
       "495           0           10  \n",
       "496           0           10  \n",
       "\n",
       "[497 rows x 12 columns]"
      ]
     },
     "execution_count": 37,
     "metadata": {},
     "output_type": "execute_result"
    }
   ],
   "source": [
    "data_df\n"
   ]
  },
  {
   "cell_type": "code",
   "execution_count": null,
   "metadata": {},
   "outputs": [
    {
     "name": "stdout",
     "output_type": "stream",
     "text": [
      "<class 'pandas.core.frame.DataFrame'>\n",
      "RangeIndex: 497 entries, 0 to 496\n",
      "Data columns (total 12 columns):\n",
      " #   Column            Non-Null Count  Dtype         \n",
      "---  ------            --------------  -----         \n",
      " 0   File_name         497 non-null    object        \n",
      " 1   Count             497 non-null    int64         \n",
      " 2   Timestamp         497 non-null    object        \n",
      " 3   timestamp_true    497 non-null    datetime64[ns]\n",
      " 4   num_timestamp     497 non-null    float64       \n",
      " 5   month_no          497 non-null    int32         \n",
      " 6   month_name        497 non-null    object        \n",
      " 7   day               497 non-null    int32         \n",
      " 8   day_of_week       497 non-null    int32         \n",
      " 9   day_of_week_name  497 non-null    object        \n",
      " 10  is_weekend        497 non-null    int64         \n",
      " 11  hour_of_day       497 non-null    int32         \n",
      "dtypes: datetime64[ns](1), float64(1), int32(4), int64(2), object(4)\n",
      "memory usage: 39.0+ KB\n"
     ]
    }
   ],
   "source": [
    "data_df.info()\n"
   ]
  },
  {
   "cell_type": "code",
   "execution_count": null,
   "metadata": {},
   "outputs": [],
   "source": []
  },
  {
   "cell_type": "code",
   "execution_count": null,
   "metadata": {},
   "outputs": [],
   "source": [
    "hour_grouped = data_df.groupby(\"hour_of_day\")[\"Count\"].agg([\"mean\", \"std\"])"
   ]
  },
  {
   "cell_type": "code",
   "execution_count": null,
   "metadata": {},
   "outputs": [
    {
     "data": {
      "text/html": [
       "<div>\n",
       "<style scoped>\n",
       "    .dataframe tbody tr th:only-of-type {\n",
       "        vertical-align: middle;\n",
       "    }\n",
       "\n",
       "    .dataframe tbody tr th {\n",
       "        vertical-align: top;\n",
       "    }\n",
       "\n",
       "    .dataframe thead th {\n",
       "        text-align: right;\n",
       "    }\n",
       "</style>\n",
       "<table border=\"1\" class=\"dataframe\">\n",
       "  <thead>\n",
       "    <tr style=\"text-align: right;\">\n",
       "      <th></th>\n",
       "      <th>mean</th>\n",
       "      <th>std</th>\n",
       "    </tr>\n",
       "    <tr>\n",
       "      <th>hour_of_day</th>\n",
       "      <th></th>\n",
       "      <th></th>\n",
       "    </tr>\n",
       "  </thead>\n",
       "  <tbody>\n",
       "    <tr>\n",
       "      <th>0</th>\n",
       "      <td>33.650000</td>\n",
       "      <td>11.084722</td>\n",
       "    </tr>\n",
       "    <tr>\n",
       "      <th>1</th>\n",
       "      <td>32.450000</td>\n",
       "      <td>11.758424</td>\n",
       "    </tr>\n",
       "    <tr>\n",
       "      <th>2</th>\n",
       "      <td>31.428571</td>\n",
       "      <td>11.672923</td>\n",
       "    </tr>\n",
       "    <tr>\n",
       "      <th>3</th>\n",
       "      <td>28.315789</td>\n",
       "      <td>11.010362</td>\n",
       "    </tr>\n",
       "    <tr>\n",
       "      <th>4</th>\n",
       "      <td>26.833333</td>\n",
       "      <td>10.517492</td>\n",
       "    </tr>\n",
       "    <tr>\n",
       "      <th>5</th>\n",
       "      <td>28.105263</td>\n",
       "      <td>10.660909</td>\n",
       "    </tr>\n",
       "    <tr>\n",
       "      <th>6</th>\n",
       "      <td>26.526316</td>\n",
       "      <td>9.506538</td>\n",
       "    </tr>\n",
       "    <tr>\n",
       "      <th>7</th>\n",
       "      <td>25.750000</td>\n",
       "      <td>10.135269</td>\n",
       "    </tr>\n",
       "    <tr>\n",
       "      <th>8</th>\n",
       "      <td>30.368421</td>\n",
       "      <td>10.467996</td>\n",
       "    </tr>\n",
       "    <tr>\n",
       "      <th>9</th>\n",
       "      <td>35.043478</td>\n",
       "      <td>10.910705</td>\n",
       "    </tr>\n",
       "    <tr>\n",
       "      <th>10</th>\n",
       "      <td>34.526316</td>\n",
       "      <td>10.292222</td>\n",
       "    </tr>\n",
       "    <tr>\n",
       "      <th>11</th>\n",
       "      <td>36.400000</td>\n",
       "      <td>8.197561</td>\n",
       "    </tr>\n",
       "    <tr>\n",
       "      <th>12</th>\n",
       "      <td>34.000000</td>\n",
       "      <td>12.174655</td>\n",
       "    </tr>\n",
       "    <tr>\n",
       "      <th>13</th>\n",
       "      <td>33.150000</td>\n",
       "      <td>13.374268</td>\n",
       "    </tr>\n",
       "    <tr>\n",
       "      <th>14</th>\n",
       "      <td>34.851852</td>\n",
       "      <td>13.369609</td>\n",
       "    </tr>\n",
       "    <tr>\n",
       "      <th>15</th>\n",
       "      <td>32.800000</td>\n",
       "      <td>12.584870</td>\n",
       "    </tr>\n",
       "    <tr>\n",
       "      <th>16</th>\n",
       "      <td>36.000000</td>\n",
       "      <td>12.942179</td>\n",
       "    </tr>\n",
       "    <tr>\n",
       "      <th>17</th>\n",
       "      <td>37.090909</td>\n",
       "      <td>7.308893</td>\n",
       "    </tr>\n",
       "    <tr>\n",
       "      <th>18</th>\n",
       "      <td>40.047619</td>\n",
       "      <td>6.070224</td>\n",
       "    </tr>\n",
       "    <tr>\n",
       "      <th>19</th>\n",
       "      <td>40.850000</td>\n",
       "      <td>4.782369</td>\n",
       "    </tr>\n",
       "    <tr>\n",
       "      <th>20</th>\n",
       "      <td>39.269231</td>\n",
       "      <td>7.068565</td>\n",
       "    </tr>\n",
       "    <tr>\n",
       "      <th>21</th>\n",
       "      <td>31.913043</td>\n",
       "      <td>11.622521</td>\n",
       "    </tr>\n",
       "    <tr>\n",
       "      <th>22</th>\n",
       "      <td>30.260870</td>\n",
       "      <td>13.731905</td>\n",
       "    </tr>\n",
       "    <tr>\n",
       "      <th>23</th>\n",
       "      <td>30.666667</td>\n",
       "      <td>12.233031</td>\n",
       "    </tr>\n",
       "  </tbody>\n",
       "</table>\n",
       "</div>"
      ],
      "text/plain": [
       "                  mean        std\n",
       "hour_of_day                      \n",
       "0            33.650000  11.084722\n",
       "1            32.450000  11.758424\n",
       "2            31.428571  11.672923\n",
       "3            28.315789  11.010362\n",
       "4            26.833333  10.517492\n",
       "5            28.105263  10.660909\n",
       "6            26.526316   9.506538\n",
       "7            25.750000  10.135269\n",
       "8            30.368421  10.467996\n",
       "9            35.043478  10.910705\n",
       "10           34.526316  10.292222\n",
       "11           36.400000   8.197561\n",
       "12           34.000000  12.174655\n",
       "13           33.150000  13.374268\n",
       "14           34.851852  13.369609\n",
       "15           32.800000  12.584870\n",
       "16           36.000000  12.942179\n",
       "17           37.090909   7.308893\n",
       "18           40.047619   6.070224\n",
       "19           40.850000   4.782369\n",
       "20           39.269231   7.068565\n",
       "21           31.913043  11.622521\n",
       "22           30.260870  13.731905\n",
       "23           30.666667  12.233031"
      ]
     },
     "execution_count": 40,
     "metadata": {},
     "output_type": "execute_result"
    }
   ],
   "source": [
    "hour_grouped\n"
   ]
  },
  {
   "cell_type": "code",
   "execution_count": null,
   "metadata": {},
   "outputs": [
    {
     "data": {
      "text/plain": [
       "<Axes: xlabel='hour_of_day'>"
      ]
     },
     "execution_count": 41,
     "metadata": {},
     "output_type": "execute_result"
    },
    {
     "data": {
      "image/png": "[encoded data removed]",
      "text/plain": [
       "<Figure size 640x480 with 1 Axes>"
      ]
     },
     "metadata": {},
     "output_type": "display_data"
    }
   ],
   "source": [
    "hour_grouped.plot()\n"
   ]
  },
  {
   "cell_type": "code",
   "execution_count": null,
   "metadata": {},
   "outputs": [],
   "source": [
    "data_df.to_csv(\n",
    "    \"/home/sofia_afn/Insync/sofiaa720@gmail.com/Google Drive/masters_thesis/code_v1/msc_parking/univrses/data/Kris_data_preprocessed.csv\"\n",
    ")"
   ]
  },
  {
   "cell_type": "code",
   "execution_count": null,
   "metadata": {},
   "outputs": [],
   "source": [
    "data_train_df = data_df[:350]\n",
    "data_test_df = data_df[351:]\n",
    "# data_train_df['timestamp_true']= data_train_df['timestamp_true'].apply(lambda x: x.timestamp())\n"
   ]
  },
  {
   "cell_type": "code",
   "execution_count": null,
   "metadata": {},
   "outputs": [
    {
     "data": {
      "text/html": [
       "<div>\n",
       "<style scoped>\n",
       "    .dataframe tbody tr th:only-of-type {\n",
       "        vertical-align: middle;\n",
       "    }\n",
       "\n",
       "    .dataframe tbody tr th {\n",
       "        vertical-align: top;\n",
       "    }\n",
       "\n",
       "    .dataframe thead th {\n",
       "        text-align: right;\n",
       "    }\n",
       "</style>\n",
       "<table border=\"1\" class=\"dataframe\">\n",
       "  <thead>\n",
       "    <tr style=\"text-align: right;\">\n",
       "      <th></th>\n",
       "      <th>File_name</th>\n",
       "      <th>Count</th>\n",
       "      <th>Timestamp</th>\n",
       "      <th>timestamp_true</th>\n",
       "      <th>num_timestamp</th>\n",
       "      <th>month_no</th>\n",
       "      <th>month_name</th>\n",
       "      <th>day</th>\n",
       "      <th>day_of_week</th>\n",
       "      <th>day_of_week_name</th>\n",
       "      <th>is_weekend</th>\n",
       "      <th>hour_of_day</th>\n",
       "    </tr>\n",
       "  </thead>\n",
       "  <tbody>\n",
       "    <tr>\n",
       "      <th>0</th>\n",
       "      <td>Kris_0606-2036.png</td>\n",
       "      <td>31</td>\n",
       "      <td>2023-06-06 20:36:28</td>\n",
       "      <td>2023-06-06 20:36:00</td>\n",
       "      <td>1.686084e+09</td>\n",
       "      <td>6</td>\n",
       "      <td>June</td>\n",
       "      <td>6</td>\n",
       "      <td>1</td>\n",
       "      <td>Tuesday</td>\n",
       "      <td>0</td>\n",
       "      <td>20</td>\n",
       "    </tr>\n",
       "    <tr>\n",
       "      <th>1</th>\n",
       "      <td>Kris_0606-2106.png</td>\n",
       "      <td>28</td>\n",
       "      <td>2023-06-06 21:06:47</td>\n",
       "      <td>2023-06-06 21:06:00</td>\n",
       "      <td>1.686086e+09</td>\n",
       "      <td>6</td>\n",
       "      <td>June</td>\n",
       "      <td>6</td>\n",
       "      <td>1</td>\n",
       "      <td>Tuesday</td>\n",
       "      <td>0</td>\n",
       "      <td>21</td>\n",
       "    </tr>\n",
       "    <tr>\n",
       "      <th>2</th>\n",
       "      <td>Kris_0606-2137.png</td>\n",
       "      <td>22</td>\n",
       "      <td>2023-06-06 21:37:03</td>\n",
       "      <td>2023-06-06 21:37:00</td>\n",
       "      <td>1.686087e+09</td>\n",
       "      <td>6</td>\n",
       "      <td>June</td>\n",
       "      <td>6</td>\n",
       "      <td>1</td>\n",
       "      <td>Tuesday</td>\n",
       "      <td>0</td>\n",
       "      <td>21</td>\n",
       "    </tr>\n",
       "    <tr>\n",
       "      <th>3</th>\n",
       "      <td>Kris_0606-2207.png</td>\n",
       "      <td>27</td>\n",
       "      <td>2023-06-06 22:07:23</td>\n",
       "      <td>2023-06-06 22:07:00</td>\n",
       "      <td>1.686089e+09</td>\n",
       "      <td>6</td>\n",
       "      <td>June</td>\n",
       "      <td>6</td>\n",
       "      <td>1</td>\n",
       "      <td>Tuesday</td>\n",
       "      <td>0</td>\n",
       "      <td>22</td>\n",
       "    </tr>\n",
       "    <tr>\n",
       "      <th>4</th>\n",
       "      <td>Kris_0606-2237.png</td>\n",
       "      <td>26</td>\n",
       "      <td>2023-06-06 22:37:39</td>\n",
       "      <td>2023-06-06 22:37:00</td>\n",
       "      <td>1.686091e+09</td>\n",
       "      <td>6</td>\n",
       "      <td>June</td>\n",
       "      <td>6</td>\n",
       "      <td>1</td>\n",
       "      <td>Tuesday</td>\n",
       "      <td>0</td>\n",
       "      <td>22</td>\n",
       "    </tr>\n",
       "  </tbody>\n",
       "</table>\n",
       "</div>"
      ],
      "text/plain": [
       "            File_name  Count            Timestamp      timestamp_true   \n",
       "0  Kris_0606-2036.png     31  2023-06-06 20:36:28 2023-06-06 20:36:00  \\\n",
       "1  Kris_0606-2106.png     28  2023-06-06 21:06:47 2023-06-06 21:06:00   \n",
       "2  Kris_0606-2137.png     22  2023-06-06 21:37:03 2023-06-06 21:37:00   \n",
       "3  Kris_0606-2207.png     27  2023-06-06 22:07:23 2023-06-06 22:07:00   \n",
       "4  Kris_0606-2237.png     26  2023-06-06 22:37:39 2023-06-06 22:37:00   \n",
       "\n",
       "   num_timestamp  month_no month_name  day  day_of_week day_of_week_name   \n",
       "0   1.686084e+09         6       June    6            1          Tuesday  \\\n",
       "1   1.686086e+09         6       June    6            1          Tuesday   \n",
       "2   1.686087e+09         6       June    6            1          Tuesday   \n",
       "3   1.686089e+09         6       June    6            1          Tuesday   \n",
       "4   1.686091e+09         6       June    6            1          Tuesday   \n",
       "\n",
       "   is_weekend  hour_of_day  \n",
       "0           0           20  \n",
       "1           0           21  \n",
       "2           0           21  \n",
       "3           0           22  \n",
       "4           0           22  "
      ]
     },
     "execution_count": 44,
     "metadata": {},
     "output_type": "execute_result"
    }
   ],
   "source": [
    "data_df.head()\n"
   ]
  },
  {
   "cell_type": "code",
   "execution_count": null,
   "metadata": {},
   "outputs": [
    {
     "name": "stdout",
     "output_type": "stream",
     "text": [
      "<class 'pandas.core.frame.DataFrame'>\n",
      "RangeIndex: 350 entries, 0 to 349\n",
      "Data columns (total 12 columns):\n",
      " #   Column            Non-Null Count  Dtype         \n",
      "---  ------            --------------  -----         \n",
      " 0   File_name         350 non-null    object        \n",
      " 1   Count             350 non-null    int64         \n",
      " 2   Timestamp         350 non-null    object        \n",
      " 3   timestamp_true    350 non-null    datetime64[ns]\n",
      " 4   num_timestamp     350 non-null    float64       \n",
      " 5   month_no          350 non-null    int32         \n",
      " 6   month_name        350 non-null    object        \n",
      " 7   day               350 non-null    int32         \n",
      " 8   day_of_week       350 non-null    int32         \n",
      " 9   day_of_week_name  350 non-null    object        \n",
      " 10  is_weekend        350 non-null    int64         \n",
      " 11  hour_of_day       350 non-null    int32         \n",
      "dtypes: datetime64[ns](1), float64(1), int32(4), int64(2), object(4)\n",
      "memory usage: 27.5+ KB\n"
     ]
    }
   ],
   "source": [
    "data_train_df.info()\n"
   ]
  },
  {
   "cell_type": "code",
   "execution_count": null,
   "metadata": {},
   "outputs": [
    {
     "name": "stdout",
     "output_type": "stream",
     "text": [
      "<class 'pandas.core.frame.DataFrame'>\n",
      "RangeIndex: 146 entries, 351 to 496\n",
      "Data columns (total 12 columns):\n",
      " #   Column            Non-Null Count  Dtype         \n",
      "---  ------            --------------  -----         \n",
      " 0   File_name         146 non-null    object        \n",
      " 1   Count             146 non-null    int64         \n",
      " 2   Timestamp         146 non-null    object        \n",
      " 3   timestamp_true    146 non-null    datetime64[ns]\n",
      " 4   num_timestamp     146 non-null    float64       \n",
      " 5   month_no          146 non-null    int32         \n",
      " 6   month_name        146 non-null    object        \n",
      " 7   day               146 non-null    int32         \n",
      " 8   day_of_week       146 non-null    int32         \n",
      " 9   day_of_week_name  146 non-null    object        \n",
      " 10  is_weekend        146 non-null    int64         \n",
      " 11  hour_of_day       146 non-null    int32         \n",
      "dtypes: datetime64[ns](1), float64(1), int32(4), int64(2), object(4)\n",
      "memory usage: 11.5+ KB\n"
     ]
    }
   ],
   "source": [
    "data_test_df.info()\n"
   ]
  },
  {
   "cell_type": "code",
   "execution_count": null,
   "metadata": {},
   "outputs": [
    {
     "data": {
      "application/vnd.plotly.v1+json": {
       "config": {
        "plotlyServerURL": "https://plot.ly"
       },
       "data": [
        {
         "mode": "markers",
         "name": "Original Data",
         "type": "scatter",
         "x": [
          1686083760,
          1686085560,
          1686087420,
          1686089220,
          1686091020,
          1686092820,
          1686094680,
          1686096480,
          1686098280,
          1686100080,
          1686101940,
          1686103740,
          1686105540,
          1686107400,
          1686109200,
          1686111000,
          1686112860,
          1686114660,
          1686116460,
          1686118260,
          1686120120,
          1686121920,
          1686123720,
          1686125580,
          1686127380,
          1686129180,
          1686131040,
          1686132840,
          1686134640,
          1686136440,
          1686138300,
          1686140100,
          1686141900,
          1686143760,
          1686145560,
          1686147360,
          1686149220,
          1686151020,
          1686152820,
          1686154620,
          1686156480,
          1686158280,
          1686160080,
          1686161880,
          1686163740,
          1686165540,
          1686167340,
          1686169200,
          1686171000,
          1686172800,
          1686174660,
          1686176460,
          1686178260,
          1686180120,
          1686181920,
          1686183720,
          1686185520,
          1686187380,
          1686189180,
          1686190980,
          1686192780,
          1686194640,
          1686196440,
          1686198240,
          1686200040,
          1686201900,
          1686203700,
          1686205500,
          1686207300,
          1686209160,
          1686210960,
          1686212760,
          1686214620,
          1686216420,
          1686218220,
          1686220020,
          1686221820,
          1686223680,
          1686225480,
          1686227280,
          1686229080,
          1686230940,
          1686232740,
          1686234540,
          1686236340,
          1686238200,
          1686240000,
          1686241800,
          1686243660,
          1686245460,
          1686247260,
          1686249060,
          1686250920,
          1686252720,
          1686254520,
          1686256380,
          1686258180,
          1686259980,
          1686261780,
          1686263580,
          1686314640,
          1686316500,
          1686318300,
          1686320100,
          1686321960,
          1686323760,
          1686325560,
          1686327420,
          1686329220,
          1686344580,
          1686346440,
          1686348240,
          1686350040,
          1686351840,
          1686353700,
          1686355500,
          1686357300,
          1686359100,
          1686360960,
          1686362760,
          1686364560,
          1686366420,
          1686368220,
          1686370020,
          1686371820,
          1686373680,
          1686375480,
          1686377280,
          1686379080,
          1686380940,
          1686382740,
          1686384540,
          1686386400,
          1686388200,
          1686390000,
          1686391800,
          1686393600,
          1686395460,
          1686397260,
          1686399060,
          1686400860,
          1686402720,
          1686404520,
          1686406320,
          1686408120,
          1686409980,
          1686411780,
          1686413580,
          1686415380,
          1686417240,
          1686419040,
          1686420840,
          1686422640,
          1686424500,
          1686426300,
          1686428100,
          1686429900,
          1686431700,
          1686433560,
          1686435360,
          1686437160,
          1686438960,
          1686440760,
          1686442620,
          1686444420,
          1686446220,
          1686448080,
          1686449880,
          1686451680,
          1686453540,
          1686455340,
          1686457140,
          1686458940,
          1686460800,
          1686462600,
          1686464400,
          1686466200,
          1686468060,
          1686469860,
          1686471660,
          1686473460,
          1686475320,
          1686477120,
          1686478920,
          1686480720,
          1686482580,
          1686484380,
          1686486180,
          1686487980,
          1686489840,
          1686491640,
          1686493440,
          1686495240,
          1686497100,
          1686498900,
          1686500700,
          1686502560,
          1686504360,
          1686506160,
          1686507960,
          1686509760,
          1686511620,
          1686513420,
          1686515220,
          1686517020,
          1686518820,
          1686520680,
          1686522480,
          1686524280,
          1686574320,
          1686576180,
          1686577980,
          1686579780,
          1686581640,
          1686583440,
          1686585240,
          1686589260,
          1686591060,
          1686592920,
          1686594720,
          1686596520,
          1686598380,
          1686600180,
          1686601980,
          1686603780,
          1686605640,
          1686607440,
          1686614700,
          1686618360,
          1686620160,
          1686621960,
          1686625620,
          1686627420,
          1686629220,
          1686631080,
          1686632880,
          1686634680,
          1686636480,
          1686638340,
          1686640140,
          1686641940,
          1686643800,
          1686645600,
          1686647400,
          1686649200,
          1686651060,
          1686652860,
          1686654660,
          1686656520,
          1686658320,
          1686660120,
          1686661920,
          1686663780,
          1686665580,
          1686667380,
          1686669240,
          1686671040,
          1686672840,
          1686676500,
          1686678300,
          1686680160,
          1686682020,
          1686683820,
          1686685620,
          1686687420,
          1686689280,
          1686691080,
          1686692880,
          1686694740,
          1686698340,
          1686700140,
          1686702000,
          1686703800,
          1686705600,
          1686707400,
          1686709260,
          1686711060,
          1686712860,
          1686714720,
          1686716520,
          1686718320,
          1686720120,
          1686721980,
          1686723780,
          1686725580,
          1686727440,
          1686729240,
          1686731040,
          1686732840,
          1686734700,
          1686736500,
          1686738300,
          1686740160,
          1686741960,
          1686743760,
          1686745560,
          1686747420,
          1686749220,
          1686751020,
          1687013880,
          1687015740,
          1687017540,
          1687019340,
          1687021140,
          1687023000,
          1687024800,
          1687026600,
          1687028460,
          1687030260,
          1687032060,
          1687033860,
          1687035720,
          1687037520,
          1687039320,
          1687041120,
          1687042980,
          1687044780,
          1687046580,
          1687048440,
          1687050240,
          1687052040,
          1687053900,
          1687055700,
          1687057500,
          1687059360,
          1687061160,
          1687062960,
          1687064760,
          1687066620,
          1687068420,
          1687070220,
          1687072020,
          1687073880,
          1687075680,
          1687077480,
          1687079340,
          1687081140,
          1687082940,
          1687084800,
          1687086600,
          1687088400,
          1687090200,
          1687092060,
          1687185180,
          1687185240,
          1687186380,
          1687189320,
          1687191120,
          1687191720,
          1687192260
         ],
         "y": [
          31,
          28,
          22,
          27,
          26,
          19,
          21,
          22,
          24,
          16,
          20,
          21,
          20,
          22,
          20,
          21,
          22,
          24,
          24,
          24,
          21,
          24,
          18,
          33,
          34,
          44,
          46,
          46,
          42,
          43,
          44,
          39,
          43,
          42,
          39,
          35,
          39,
          40,
          38,
          38,
          39,
          36,
          37,
          40,
          34,
          43,
          39,
          39,
          37,
          35,
          27,
          21,
          27,
          26,
          24,
          25,
          27,
          30,
          30,
          31,
          28,
          26,
          31,
          31,
          36,
          34,
          35,
          33,
          32,
          33,
          30,
          29,
          37,
          41,
          44,
          43,
          42,
          39,
          40,
          49,
          35,
          40,
          42,
          45,
          40,
          35,
          41,
          38,
          33,
          42,
          42,
          39,
          37,
          36,
          24,
          24,
          21,
          20,
          13,
          13,
          1,
          0,
          0,
          2,
          7,
          5,
          3,
          4,
          5,
          7,
          3,
          2,
          5,
          8,
          9,
          12,
          14,
          13,
          11,
          12,
          9,
          7,
          4,
          4,
          4,
          4,
          4,
          5,
          4,
          4,
          5,
          8,
          12,
          10,
          9,
          21,
          23,
          23,
          22,
          20,
          29,
          33,
          24,
          26,
          32,
          27,
          20,
          29,
          25,
          26,
          34,
          34,
          33,
          49,
          45,
          37,
          37,
          30,
          37,
          32,
          39,
          42,
          42,
          37,
          37,
          35,
          33,
          32,
          32,
          23,
          22,
          23,
          23,
          25,
          24,
          20,
          24,
          24,
          23,
          22,
          20,
          21,
          19,
          17,
          20,
          20,
          23,
          19,
          23,
          35,
          29,
          25,
          24,
          25,
          28,
          40,
          32,
          27,
          27,
          40,
          33,
          32,
          37,
          35,
          33,
          28,
          30,
          24,
          19,
          38,
          43,
          41,
          42,
          43,
          42,
          41,
          47,
          45,
          42,
          41,
          46,
          46,
          46,
          48,
          33,
          37,
          35,
          33,
          33,
          29,
          29,
          30,
          29,
          30,
          30,
          32,
          32,
          31,
          29,
          20,
          23,
          28,
          27,
          36,
          35,
          46,
          42,
          35,
          42,
          38,
          35,
          39,
          39,
          29,
          52,
          39,
          53,
          42,
          44,
          43,
          51,
          40,
          46,
          44,
          46,
          40,
          41,
          47,
          39,
          32,
          35,
          40,
          42,
          37,
          42,
          46,
          45,
          40,
          45,
          35,
          43,
          42,
          40,
          29,
          34,
          42,
          48,
          47,
          51,
          43,
          44,
          44,
          46,
          45,
          46,
          47,
          47,
          42,
          54,
          54,
          50,
          41,
          44,
          51,
          48,
          40,
          50,
          35,
          40,
          42,
          43,
          44,
          45,
          43,
          44,
          45,
          44,
          45,
          49,
          49,
          29,
          25,
          24,
          39,
          29,
          25,
          24,
          23,
          25,
          24,
          25,
          25,
          23,
          25,
          29,
          26,
          40,
          20,
          29,
          40,
          42,
          40,
          46,
          24,
          45,
          54,
          36,
          44,
          45,
          50
         ]
        },
        {
         "mode": "markers",
         "name": "Sample Data",
         "type": "scatter",
         "x": [
          1687194600,
          1687194720,
          1687197120,
          1687198020,
          1687199640,
          1687202220,
          1687205820,
          1687205880,
          1687206360,
          1687206840,
          1687209120,
          1687210860,
          1687212360,
          1687214460,
          1687217160,
          1687218240,
          1687219920,
          1687222260,
          1687224060,
          1687227180,
          1687228860,
          1687229220,
          1687229400,
          1687230300,
          1687233720,
          1687237260,
          1687240440,
          1687242240,
          1687243920,
          1687245720,
          1687249020,
          1687250280,
          1687251840,
          1687252380,
          1687252620,
          1687252920,
          1687253040,
          1687253820,
          1687254660,
          1687255200,
          1687256460,
          1687259220,
          1687259880,
          1687260840,
          1687261620,
          1687264740,
          1687266720,
          1687269840,
          1687270500,
          1687272060,
          1687273020,
          1687276500,
          1687279440,
          1687282680,
          1687283100,
          1687285680,
          1687287300,
          1687288860,
          1687292460,
          1687293480,
          1687616340,
          1687618740,
          1687619160,
          1687619640,
          1687622940,
          1687625580,
          1687626960,
          1687627920,
          1687629240,
          1687631880,
          1687635420,
          1687637460,
          1687638720,
          1687642080,
          1687644960,
          1687646280,
          1687647420,
          1687650360,
          1687653840,
          1687654260,
          1687655340,
          1687657080,
          1687658160,
          1687660920,
          1687662960,
          1687663800,
          1687667340,
          1687670580,
          1687674120,
          1687674360,
          1687677420,
          1687678380,
          1687681680,
          1687683420,
          1687686540,
          1687689900,
          1687692720,
          1687694280,
          1687695600,
          1687696140,
          1687698060,
          1687698900,
          1687699140,
          1687702200,
          1687702620,
          1687705020,
          1687708620,
          1687712100,
          1687715460,
          1687718160,
          1687719300,
          1687719840,
          1687722180,
          1687722480,
          1687723500,
          1687724040,
          1687725600,
          1687728960,
          1687729020,
          1687732200,
          1687732440,
          1687734660,
          1687735080,
          1687735920,
          1687739220,
          1687740000,
          1687740600,
          1687742160,
          1687744080,
          1687745100,
          1687746480,
          1687747980,
          1687751340,
          1687751700,
          1687754640,
          1687755120,
          1687757400,
          1687759020,
          1687762560,
          1687765200,
          1687765620,
          1687765920,
          1687767420,
          1687770780,
          1687774020,
          1687774620
         ],
         "y": [
          47,
          34,
          37,
          40,
          38,
          39,
          40,
          37,
          42,
          43,
          43,
          45,
          45,
          52,
          43,
          41,
          40,
          36,
          43,
          39,
          42,
          40,
          42,
          42,
          41,
          41,
          40,
          38,
          40,
          31,
          36,
          38,
          43,
          41,
          41,
          43,
          42,
          35,
          36,
          39,
          38,
          42,
          36,
          38,
          40,
          41,
          38,
          48,
          48,
          52,
          36,
          33,
          43,
          43,
          42,
          36,
          53,
          45,
          54,
          51,
          23,
          32,
          32,
          32,
          26,
          32,
          32,
          29,
          26,
          29,
          35,
          37,
          34,
          33,
          41,
          34,
          52,
          46,
          50,
          50,
          50,
          47,
          48,
          58,
          42,
          34,
          36,
          33,
          32,
          34,
          29,
          30,
          33,
          31,
          29,
          28,
          37,
          31,
          26,
          30,
          29,
          28,
          26,
          25,
          30,
          29,
          36,
          35,
          37,
          41,
          45,
          45,
          37,
          41,
          45,
          39,
          37,
          37,
          41,
          32,
          31,
          26,
          27,
          22,
          27,
          32,
          31,
          26,
          28,
          30,
          27,
          28,
          27,
          26,
          29,
          26,
          26,
          26,
          25,
          26,
          25,
          32,
          37,
          38,
          31,
          39
         ]
        }
       ],
       "layout": {
        "template": {
         "data": {
          "bar": [
           {
            "error_x": {
             "color": "#2a3f5f"
            },
            "error_y": {
             "color": "#2a3f5f"
            },
            "marker": {
             "line": {
              "color": "#E5ECF6",
              "width": 0.5
             },
             "pattern": {
              "fillmode": "overlay",
              "size": 10,
              "solidity": 0.2
             }
            },
            "type": "bar"
           }
          ],
          "barpolar": [
           {
            "marker": {
             "line": {
              "color": "#E5ECF6",
              "width": 0.5
             },
             "pattern": {
              "fillmode": "overlay",
              "size": 10,
              "solidity": 0.2
             }
            },
            "type": "barpolar"
           }
          ],
          "carpet": [
           {
            "aaxis": {
             "endlinecolor": "#2a3f5f",
             "gridcolor": "white",
             "linecolor": "white",
             "minorgridcolor": "white",
             "startlinecolor": "#2a3f5f"
            },
            "baxis": {
             "endlinecolor": "#2a3f5f",
             "gridcolor": "white",
             "linecolor": "white",
             "minorgridcolor": "white",
             "startlinecolor": "#2a3f5f"
            },
            "type": "carpet"
           }
          ],
          "choropleth": [
           {
            "colorbar": {
             "outlinewidth": 0,
             "ticks": ""
            },
            "type": "choropleth"
           }
          ],
          "contour": [
           {
            "colorbar": {
             "outlinewidth": 0,
             "ticks": ""
            },
            "colorscale": [
             [
              0,
              "#0d0887"
             ],
             [
              0.1111111111111111,
              "#46039f"
             ],
             [
              0.2222222222222222,
              "#7201a8"
             ],
             [
              0.3333333333333333,
              "#9c179e"
             ],
             [
              0.4444444444444444,
              "#bd3786"
             ],
             [
              0.5555555555555556,
              "#d8576b"
             ],
             [
              0.6666666666666666,
              "#ed7953"
             ],
             [
              0.7777777777777778,
              "#fb9f3a"
             ],
             [
              0.8888888888888888,
              "#fdca26"
             ],
             [
              1,
              "#f0f921"
             ]
            ],
            "type": "contour"
           }
          ],
          "contourcarpet": [
           {
            "colorbar": {
             "outlinewidth": 0,
             "ticks": ""
            },
            "type": "contourcarpet"
           }
          ],
          "heatmap": [
           {
            "colorbar": {
             "outlinewidth": 0,
             "ticks": ""
            },
            "colorscale": [
             [
              0,
              "#0d0887"
             ],
             [
              0.1111111111111111,
              "#46039f"
             ],
             [
              0.2222222222222222,
              "#7201a8"
             ],
             [
              0.3333333333333333,
              "#9c179e"
             ],
             [
              0.4444444444444444,
              "#bd3786"
             ],
             [
              0.5555555555555556,
              "#d8576b"
             ],
             [
              0.6666666666666666,
              "#ed7953"
             ],
             [
              0.7777777777777778,
              "#fb9f3a"
             ],
             [
              0.8888888888888888,
              "#fdca26"
             ],
             [
              1,
              "#f0f921"
             ]
            ],
            "type": "heatmap"
           }
          ],
          "heatmapgl": [
           {
            "colorbar": {
             "outlinewidth": 0,
             "ticks": ""
            },
            "colorscale": [
             [
              0,
              "#0d0887"
             ],
             [
              0.1111111111111111,
              "#46039f"
             ],
             [
              0.2222222222222222,
              "#7201a8"
             ],
             [
              0.3333333333333333,
              "#9c179e"
             ],
             [
              0.4444444444444444,
              "#bd3786"
             ],
             [
              0.5555555555555556,
              "#d8576b"
             ],
             [
              0.6666666666666666,
              "#ed7953"
             ],
             [
              0.7777777777777778,
              "#fb9f3a"
             ],
             [
              0.8888888888888888,
              "#fdca26"
             ],
             [
              1,
              "#f0f921"
             ]
            ],
            "type": "heatmapgl"
           }
          ],
          "histogram": [
           {
            "marker": {
             "pattern": {
              "fillmode": "overlay",
              "size": 10,
              "solidity": 0.2
             }
            },
            "type": "histogram"
           }
          ],
          "histogram2d": [
           {
            "colorbar": {
             "outlinewidth": 0,
             "ticks": ""
            },
            "colorscale": [
             [
              0,
              "#0d0887"
             ],
             [
              0.1111111111111111,
              "#46039f"
             ],
             [
              0.2222222222222222,
              "#7201a8"
             ],
             [
              0.3333333333333333,
              "#9c179e"
             ],
             [
              0.4444444444444444,
              "#bd3786"
             ],
             [
              0.5555555555555556,
              "#d8576b"
             ],
             [
              0.6666666666666666,
              "#ed7953"
             ],
             [
              0.7777777777777778,
              "#fb9f3a"
             ],
             [
              0.8888888888888888,
              "#fdca26"
             ],
             [
              1,
              "#f0f921"
             ]
            ],
            "type": "histogram2d"
           }
          ],
          "histogram2dcontour": [
           {
            "colorbar": {
             "outlinewidth": 0,
             "ticks": ""
            },
            "colorscale": [
             [
              0,
              "#0d0887"
             ],
             [
              0.1111111111111111,
              "#46039f"
             ],
             [
              0.2222222222222222,
              "#7201a8"
             ],
             [
              0.3333333333333333,
              "#9c179e"
             ],
             [
              0.4444444444444444,
              "#bd3786"
             ],
             [
              0.5555555555555556,
              "#d8576b"
             ],
             [
              0.6666666666666666,
              "#ed7953"
             ],
             [
              0.7777777777777778,
              "#fb9f3a"
             ],
             [
              0.8888888888888888,
              "#fdca26"
             ],
             [
              1,
              "#f0f921"
             ]
            ],
            "type": "histogram2dcontour"
           }
          ],
          "mesh3d": [
           {
            "colorbar": {
             "outlinewidth": 0,
             "ticks": ""
            },
            "type": "mesh3d"
           }
          ],
          "parcoords": [
           {
            "line": {
             "colorbar": {
              "outlinewidth": 0,
              "ticks": ""
             }
            },
            "type": "parcoords"
           }
          ],
          "pie": [
           {
            "automargin": true,
            "type": "pie"
           }
          ],
          "scatter": [
           {
            "fillpattern": {
             "fillmode": "overlay",
             "size": 10,
             "solidity": 0.2
            },
            "type": "scatter"
           }
          ],
          "scatter3d": [
           {
            "line": {
             "colorbar": {
              "outlinewidth": 0,
              "ticks": ""
             }
            },
            "marker": {
             "colorbar": {
              "outlinewidth": 0,
              "ticks": ""
             }
            },
            "type": "scatter3d"
           }
          ],
          "scattercarpet": [
           {
            "marker": {
             "colorbar": {
              "outlinewidth": 0,
              "ticks": ""
             }
            },
            "type": "scattercarpet"
           }
          ],
          "scattergeo": [
           {
            "marker": {
             "colorbar": {
              "outlinewidth": 0,
              "ticks": ""
             }
            },
            "type": "scattergeo"
           }
          ],
          "scattergl": [
           {
            "marker": {
             "colorbar": {
              "outlinewidth": 0,
              "ticks": ""
             }
            },
            "type": "scattergl"
           }
          ],
          "scattermapbox": [
           {
            "marker": {
             "colorbar": {
              "outlinewidth": 0,
              "ticks": ""
             }
            },
            "type": "scattermapbox"
           }
          ],
          "scatterpolar": [
           {
            "marker": {
             "colorbar": {
              "outlinewidth": 0,
              "ticks": ""
             }
            },
            "type": "scatterpolar"
           }
          ],
          "scatterpolargl": [
           {
            "marker": {
             "colorbar": {
              "outlinewidth": 0,
              "ticks": ""
             }
            },
            "type": "scatterpolargl"
           }
          ],
          "scatterternary": [
           {
            "marker": {
             "colorbar": {
              "outlinewidth": 0,
              "ticks": ""
             }
            },
            "type": "scatterternary"
           }
          ],
          "surface": [
           {
            "colorbar": {
             "outlinewidth": 0,
             "ticks": ""
            },
            "colorscale": [
             [
              0,
              "#0d0887"
             ],
             [
              0.1111111111111111,
              "#46039f"
             ],
             [
              0.2222222222222222,
              "#7201a8"
             ],
             [
              0.3333333333333333,
              "#9c179e"
             ],
             [
              0.4444444444444444,
              "#bd3786"
             ],
             [
              0.5555555555555556,
              "#d8576b"
             ],
             [
              0.6666666666666666,
              "#ed7953"
             ],
             [
              0.7777777777777778,
              "#fb9f3a"
             ],
             [
              0.8888888888888888,
              "#fdca26"
             ],
             [
              1,
              "#f0f921"
             ]
            ],
            "type": "surface"
           }
          ],
          "table": [
           {
            "cells": {
             "fill": {
              "color": "#EBF0F8"
             },
             "line": {
              "color": "white"
             }
            },
            "header": {
             "fill": {
              "color": "#C8D4E3"
             },
             "line": {
              "color": "white"
             }
            },
            "type": "table"
           }
          ]
         },
         "layout": {
          "annotationdefaults": {
           "arrowcolor": "#2a3f5f",
           "arrowhead": 0,
           "arrowwidth": 1
          },
          "autotypenumbers": "strict",
          "coloraxis": {
           "colorbar": {
            "outlinewidth": 0,
            "ticks": ""
           }
          },
          "colorscale": {
           "diverging": [
            [
             0,
             "#8e0152"
            ],
            [
             0.1,
             "#c51b7d"
            ],
            [
             0.2,
             "#de77ae"
            ],
            [
             0.3,
             "#f1b6da"
            ],
            [
             0.4,
             "#fde0ef"
            ],
            [
             0.5,
             "#f7f7f7"
            ],
            [
             0.6,
             "#e6f5d0"
            ],
            [
             0.7,
             "#b8e186"
            ],
            [
             0.8,
             "#7fbc41"
            ],
            [
             0.9,
             "#4d9221"
            ],
            [
             1,
             "#276419"
            ]
           ],
           "sequential": [
            [
             0,
             "#0d0887"
            ],
            [
             0.1111111111111111,
             "#46039f"
            ],
            [
             0.2222222222222222,
             "#7201a8"
            ],
            [
             0.3333333333333333,
             "#9c179e"
            ],
            [
             0.4444444444444444,
             "#bd3786"
            ],
            [
             0.5555555555555556,
             "#d8576b"
            ],
            [
             0.6666666666666666,
             "#ed7953"
            ],
            [
             0.7777777777777778,
             "#fb9f3a"
            ],
            [
             0.8888888888888888,
             "#fdca26"
            ],
            [
             1,
             "#f0f921"
            ]
           ],
           "sequentialminus": [
            [
             0,
             "#0d0887"
            ],
            [
             0.1111111111111111,
             "#46039f"
            ],
            [
             0.2222222222222222,
             "#7201a8"
            ],
            [
             0.3333333333333333,
             "#9c179e"
            ],
            [
             0.4444444444444444,
             "#bd3786"
            ],
            [
             0.5555555555555556,
             "#d8576b"
            ],
            [
             0.6666666666666666,
             "#ed7953"
            ],
            [
             0.7777777777777778,
             "#fb9f3a"
            ],
            [
             0.8888888888888888,
             "#fdca26"
            ],
            [
             1,
             "#f0f921"
            ]
           ]
          },
          "colorway": [
           "#636efa",
           "#EF553B",
           "#00cc96",
           "#ab63fa",
           "#FFA15A",
           "#19d3f3",
           "#FF6692",
           "#B6E880",
           "#FF97FF",
           "#FECB52"
          ],
          "font": {
           "color": "#2a3f5f"
          },
          "geo": {
           "bgcolor": "white",
           "lakecolor": "white",
           "landcolor": "#E5ECF6",
           "showlakes": true,
           "showland": true,
           "subunitcolor": "white"
          },
          "hoverlabel": {
           "align": "left"
          },
          "hovermode": "closest",
          "mapbox": {
           "style": "light"
          },
          "paper_bgcolor": "white",
          "plot_bgcolor": "#E5ECF6",
          "polar": {
           "angularaxis": {
            "gridcolor": "white",
            "linecolor": "white",
            "ticks": ""
           },
           "bgcolor": "#E5ECF6",
           "radialaxis": {
            "gridcolor": "white",
            "linecolor": "white",
            "ticks": ""
           }
          },
          "scene": {
           "xaxis": {
            "backgroundcolor": "#E5ECF6",
            "gridcolor": "white",
            "gridwidth": 2,
            "linecolor": "white",
            "showbackground": true,
            "ticks": "",
            "zerolinecolor": "white"
           },
           "yaxis": {
            "backgroundcolor": "#E5ECF6",
            "gridcolor": "white",
            "gridwidth": 2,
            "linecolor": "white",
            "showbackground": true,
            "ticks": "",
            "zerolinecolor": "white"
           },
           "zaxis": {
            "backgroundcolor": "#E5ECF6",
            "gridcolor": "white",
            "gridwidth": 2,
            "linecolor": "white",
            "showbackground": true,
            "ticks": "",
            "zerolinecolor": "white"
           }
          },
          "shapedefaults": {
           "line": {
            "color": "#2a3f5f"
           }
          },
          "ternary": {
           "aaxis": {
            "gridcolor": "white",
            "linecolor": "white",
            "ticks": ""
           },
           "baxis": {
            "gridcolor": "white",
            "linecolor": "white",
            "ticks": ""
           },
           "bgcolor": "#E5ECF6",
           "caxis": {
            "gridcolor": "white",
            "linecolor": "white",
            "ticks": ""
           }
          },
          "title": {
           "x": 0.05
          },
          "xaxis": {
           "automargin": true,
           "gridcolor": "white",
           "linecolor": "white",
           "ticks": "",
           "title": {
            "standoff": 15
           },
           "zerolinecolor": "white",
           "zerolinewidth": 2
          },
          "yaxis": {
           "automargin": true,
           "gridcolor": "white",
           "linecolor": "white",
           "ticks": "",
           "title": {
            "standoff": 15
           },
           "zerolinecolor": "white",
           "zerolinewidth": 2
          }
         }
        },
        "title": {
         "text": "Original Data vs Sample Data"
        },
        "xaxis": {
         "title": {
          "text": "Timestamp"
         }
        },
        "yaxis": {
         "title": {
          "text": "Count"
         }
        }
       }
      }
     },
     "metadata": {},
     "output_type": "display_data"
    }
   ],
   "source": [
    "# Create a scatter plot for the original data\n",
    "trace1 = go.Scatter(\n",
    "    x=data_train_df[\"num_timestamp\"],\n",
    "    y=data_train_df[\"Count\"],\n",
    "    mode=\"markers\",\n",
    "    name=\"Original Data\",\n",
    ")\n",
    "\n",
    "# Create a scatter plot for the samples\n",
    "trace2 = go.Scatter(\n",
    "    x=data_test_df[\"num_timestamp\"],\n",
    "    y=data_test_df[\"Count\"],\n",
    "    mode=\"markers\",\n",
    "    name=\"Sample Data\",\n",
    ")\n",
    "\n",
    "# Combine the two plots\n",
    "data = [trace1, trace2]\n",
    "\n",
    "\n",
    "# Create a layout\n",
    "layout = go.Layout(\n",
    "    title=\"Original Data vs Sample Data\",\n",
    "    xaxis=dict(title=\"Timestamp\"),\n",
    "    yaxis=dict(title=\"Count\"),\n",
    ")\n",
    "\n",
    "# Create a Figure and plot it\n",
    "fig = go.Figure(data=data, layout=layout)\n",
    "fig.show()"
   ]
  },
  {
   "cell_type": "code",
   "execution_count": null,
   "metadata": {},
   "outputs": [
    {
     "data": {
      "application/vnd.plotly.v1+json": {
       "config": {
        "plotlyServerURL": "https://plot.ly"
       },
       "data": [
        {
         "mode": "markers",
         "name": "Original Data",
         "type": "scatter",
         "x": [
          20,
          21,
          21,
          22,
          22,
          23,
          23,
          0,
          0,
          1,
          1,
          2,
          2,
          3,
          3,
          4,
          4,
          5,
          5,
          6,
          6,
          7,
          7,
          8,
          8,
          9,
          9,
          10,
          10,
          11,
          11,
          12,
          12,
          13,
          13,
          14,
          14,
          15,
          15,
          16,
          16,
          17,
          17,
          18,
          18,
          19,
          19,
          20,
          20,
          21,
          21,
          22,
          22,
          23,
          23,
          0,
          0,
          1,
          1,
          2,
          2,
          3,
          3,
          4,
          4,
          5,
          5,
          6,
          6,
          7,
          7,
          8,
          8,
          9,
          9,
          10,
          10,
          11,
          11,
          12,
          12,
          13,
          13,
          14,
          14,
          15,
          16,
          16,
          17,
          17,
          18,
          18,
          19,
          19,
          20,
          20,
          21,
          21,
          22,
          22,
          12,
          13,
          13,
          14,
          14,
          15,
          15,
          16,
          16,
          21,
          21,
          22,
          22,
          23,
          23,
          0,
          0,
          1,
          1,
          2,
          2,
          3,
          3,
          4,
          4,
          5,
          5,
          6,
          6,
          7,
          7,
          8,
          8,
          9,
          9,
          10,
          10,
          11,
          11,
          12,
          12,
          13,
          13,
          14,
          14,
          15,
          15,
          16,
          16,
          17,
          17,
          18,
          18,
          19,
          19,
          20,
          20,
          21,
          21,
          22,
          22,
          23,
          23,
          0,
          0,
          1,
          1,
          2,
          2,
          3,
          3,
          4,
          4,
          5,
          5,
          6,
          6,
          7,
          7,
          8,
          8,
          9,
          9,
          10,
          10,
          11,
          11,
          12,
          12,
          13,
          13,
          14,
          14,
          15,
          15,
          16,
          16,
          17,
          17,
          18,
          18,
          19,
          19,
          20,
          20,
          21,
          21,
          22,
          22,
          12,
          13,
          13,
          14,
          14,
          15,
          15,
          17,
          17,
          18,
          18,
          19,
          19,
          20,
          20,
          21,
          21,
          22,
          0,
          1,
          1,
          2,
          3,
          3,
          4,
          4,
          5,
          5,
          6,
          6,
          7,
          7,
          8,
          8,
          9,
          9,
          10,
          10,
          11,
          11,
          12,
          12,
          13,
          13,
          14,
          14,
          15,
          15,
          16,
          17,
          17,
          18,
          18,
          19,
          19,
          20,
          20,
          21,
          21,
          22,
          23,
          23,
          0,
          0,
          1,
          1,
          2,
          2,
          3,
          3,
          4,
          4,
          5,
          5,
          6,
          6,
          7,
          7,
          8,
          8,
          9,
          9,
          10,
          10,
          11,
          11,
          12,
          12,
          13,
          13,
          14,
          15,
          15,
          16,
          16,
          17,
          18,
          18,
          19,
          19,
          20,
          20,
          21,
          21,
          22,
          22,
          23,
          23,
          0,
          0,
          1,
          1,
          2,
          2,
          3,
          3,
          4,
          4,
          5,
          5,
          6,
          6,
          7,
          7,
          8,
          8,
          9,
          9,
          10,
          10,
          11,
          11,
          12,
          12,
          14,
          14,
          14,
          15,
          16,
          16,
          16
         ],
         "y": [
          31,
          28,
          22,
          27,
          26,
          19,
          21,
          22,
          24,
          16,
          20,
          21,
          20,
          22,
          20,
          21,
          22,
          24,
          24,
          24,
          21,
          24,
          18,
          33,
          34,
          44,
          46,
          46,
          42,
          43,
          44,
          39,
          43,
          42,
          39,
          35,
          39,
          40,
          38,
          38,
          39,
          36,
          37,
          40,
          34,
          43,
          39,
          39,
          37,
          35,
          27,
          21,
          27,
          26,
          24,
          25,
          27,
          30,
          30,
          31,
          28,
          26,
          31,
          31,
          36,
          34,
          35,
          33,
          32,
          33,
          30,
          29,
          37,
          41,
          44,
          43,
          42,
          39,
          40,
          49,
          35,
          40,
          42,
          45,
          40,
          35,
          41,
          38,
          33,
          42,
          42,
          39,
          37,
          36,
          24,
          24,
          21,
          20,
          13,
          13,
          1,
          0,
          0,
          2,
          7,
          5,
          3,
          4,
          5,
          7,
          3,
          2,
          5,
          8,
          9,
          12,
          14,
          13,
          11,
          12,
          9,
          7,
          4,
          4,
          4,
          4,
          4,
          5,
          4,
          4,
          5,
          8,
          12,
          10,
          9,
          21,
          23,
          23,
          22,
          20,
          29,
          33,
          24,
          26,
          32,
          27,
          20,
          29,
          25,
          26,
          34,
          34,
          33,
          49,
          45,
          37,
          37,
          30,
          37,
          32,
          39,
          42,
          42,
          37,
          37,
          35,
          33,
          32,
          32,
          23,
          22,
          23,
          23,
          25,
          24,
          20,
          24,
          24,
          23,
          22,
          20,
          21,
          19,
          17,
          20,
          20,
          23,
          19,
          23,
          35,
          29,
          25,
          24,
          25,
          28,
          40,
          32,
          27,
          27,
          40,
          33,
          32,
          37,
          35,
          33,
          28,
          30,
          24,
          19,
          38,
          43,
          41,
          42,
          43,
          42,
          41,
          47,
          45,
          42,
          41,
          46,
          46,
          46,
          48,
          33,
          37,
          35,
          33,
          33,
          29,
          29,
          30,
          29,
          30,
          30,
          32,
          32,
          31,
          29,
          20,
          23,
          28,
          27,
          36,
          35,
          46,
          42,
          35,
          42,
          38,
          35,
          39,
          39,
          29,
          52,
          39,
          53,
          42,
          44,
          43,
          51,
          40,
          46,
          44,
          46,
          40,
          41,
          47,
          39,
          32,
          35,
          40,
          42,
          37,
          42,
          46,
          45,
          40,
          45,
          35,
          43,
          42,
          40,
          29,
          34,
          42,
          48,
          47,
          51,
          43,
          44,
          44,
          46,
          45,
          46,
          47,
          47,
          42,
          54,
          54,
          50,
          41,
          44,
          51,
          48,
          40,
          50,
          35,
          40,
          42,
          43,
          44,
          45,
          43,
          44,
          45,
          44,
          45,
          49,
          49,
          29,
          25,
          24,
          39,
          29,
          25,
          24,
          23,
          25,
          24,
          25,
          25,
          23,
          25,
          29,
          26,
          40,
          20,
          29,
          40,
          42,
          40,
          46,
          24,
          45,
          54,
          36,
          44,
          45,
          50
         ]
        },
        {
         "mode": "markers",
         "name": "Sample Data",
         "type": "scatter",
         "x": [
          17,
          17,
          17,
          18,
          18,
          19,
          20,
          20,
          20,
          20,
          21,
          21,
          22,
          22,
          23,
          23,
          0,
          0,
          1,
          2,
          2,
          2,
          2,
          3,
          4,
          5,
          5,
          6,
          6,
          7,
          8,
          8,
          9,
          9,
          9,
          9,
          9,
          9,
          9,
          10,
          10,
          11,
          11,
          11,
          11,
          12,
          13,
          14,
          14,
          14,
          14,
          15,
          16,
          17,
          17,
          18,
          18,
          19,
          20,
          20,
          14,
          14,
          15,
          15,
          16,
          16,
          17,
          17,
          17,
          18,
          19,
          20,
          20,
          21,
          22,
          22,
          22,
          23,
          0,
          0,
          1,
          1,
          1,
          2,
          3,
          3,
          4,
          5,
          6,
          6,
          7,
          7,
          8,
          8,
          9,
          10,
          11,
          11,
          12,
          12,
          13,
          13,
          13,
          14,
          14,
          14,
          15,
          16,
          17,
          18,
          18,
          19,
          19,
          19,
          20,
          20,
          20,
          21,
          21,
          22,
          22,
          23,
          23,
          23,
          0,
          0,
          0,
          1,
          1,
          2,
          2,
          2,
          3,
          3,
          4,
          4,
          5,
          5,
          6,
          7,
          7,
          7,
          8,
          9,
          10,
          10
         ],
         "y": [
          47,
          34,
          37,
          40,
          38,
          39,
          40,
          37,
          42,
          43,
          43,
          45,
          45,
          52,
          43,
          41,
          40,
          36,
          43,
          39,
          42,
          40,
          42,
          42,
          41,
          41,
          40,
          38,
          40,
          31,
          36,
          38,
          43,
          41,
          41,
          43,
          42,
          35,
          36,
          39,
          38,
          42,
          36,
          38,
          40,
          41,
          38,
          48,
          48,
          52,
          36,
          33,
          43,
          43,
          42,
          36,
          53,
          45,
          54,
          51,
          23,
          32,
          32,
          32,
          26,
          32,
          32,
          29,
          26,
          29,
          35,
          37,
          34,
          33,
          41,
          34,
          52,
          46,
          50,
          50,
          50,
          47,
          48,
          58,
          42,
          34,
          36,
          33,
          32,
          34,
          29,
          30,
          33,
          31,
          29,
          28,
          37,
          31,
          26,
          30,
          29,
          28,
          26,
          25,
          30,
          29,
          36,
          35,
          37,
          41,
          45,
          45,
          37,
          41,
          45,
          39,
          37,
          37,
          41,
          32,
          31,
          26,
          27,
          22,
          27,
          32,
          31,
          26,
          28,
          30,
          27,
          28,
          27,
          26,
          29,
          26,
          26,
          26,
          25,
          26,
          25,
          32,
          37,
          38,
          31,
          39
         ]
        }
       ],
       "layout": {
        "template": {
         "data": {
          "bar": [
           {
            "error_x": {
             "color": "#2a3f5f"
            },
            "error_y": {
             "color": "#2a3f5f"
            },
            "marker": {
             "line": {
              "color": "#E5ECF6",
              "width": 0.5
             },
             "pattern": {
              "fillmode": "overlay",
              "size": 10,
              "solidity": 0.2
             }
            },
            "type": "bar"
           }
          ],
          "barpolar": [
           {
            "marker": {
             "line": {
              "color": "#E5ECF6",
              "width": 0.5
             },
             "pattern": {
              "fillmode": "overlay",
              "size": 10,
              "solidity": 0.2
             }
            },
            "type": "barpolar"
           }
          ],
          "carpet": [
           {
            "aaxis": {
             "endlinecolor": "#2a3f5f",
             "gridcolor": "white",
             "linecolor": "white",
             "minorgridcolor": "white",
             "startlinecolor": "#2a3f5f"
            },
            "baxis": {
             "endlinecolor": "#2a3f5f",
             "gridcolor": "white",
             "linecolor": "white",
             "minorgridcolor": "white",
             "startlinecolor": "#2a3f5f"
            },
            "type": "carpet"
           }
          ],
          "choropleth": [
           {
            "colorbar": {
             "outlinewidth": 0,
             "ticks": ""
            },
            "type": "choropleth"
           }
          ],
          "contour": [
           {
            "colorbar": {
             "outlinewidth": 0,
             "ticks": ""
            },
            "colorscale": [
             [
              0,
              "#0d0887"
             ],
             [
              0.1111111111111111,
              "#46039f"
             ],
             [
              0.2222222222222222,
              "#7201a8"
             ],
             [
              0.3333333333333333,
              "#9c179e"
             ],
             [
              0.4444444444444444,
              "#bd3786"
             ],
             [
              0.5555555555555556,
              "#d8576b"
             ],
             [
              0.6666666666666666,
              "#ed7953"
             ],
             [
              0.7777777777777778,
              "#fb9f3a"
             ],
             [
              0.8888888888888888,
              "#fdca26"
             ],
             [
              1,
              "#f0f921"
             ]
            ],
            "type": "contour"
           }
          ],
          "contourcarpet": [
           {
            "colorbar": {
             "outlinewidth": 0,
             "ticks": ""
            },
            "type": "contourcarpet"
           }
          ],
          "heatmap": [
           {
            "colorbar": {
             "outlinewidth": 0,
             "ticks": ""
            },
            "colorscale": [
             [
              0,
              "#0d0887"
             ],
             [
              0.1111111111111111,
              "#46039f"
             ],
             [
              0.2222222222222222,
              "#7201a8"
             ],
             [
              0.3333333333333333,
              "#9c179e"
             ],
             [
              0.4444444444444444,
              "#bd3786"
             ],
             [
              0.5555555555555556,
              "#d8576b"
             ],
             [
              0.6666666666666666,
              "#ed7953"
             ],
             [
              0.7777777777777778,
              "#fb9f3a"
             ],
             [
              0.8888888888888888,
              "#fdca26"
             ],
             [
              1,
              "#f0f921"
             ]
            ],
            "type": "heatmap"
           }
          ],
          "heatmapgl": [
           {
            "colorbar": {
             "outlinewidth": 0,
             "ticks": ""
            },
            "colorscale": [
             [
              0,
              "#0d0887"
             ],
             [
              0.1111111111111111,
              "#46039f"
             ],
             [
              0.2222222222222222,
              "#7201a8"
             ],
             [
              0.3333333333333333,
              "#9c179e"
             ],
             [
              0.4444444444444444,
              "#bd3786"
             ],
             [
              0.5555555555555556,
              "#d8576b"
             ],
             [
              0.6666666666666666,
              "#ed7953"
             ],
             [
              0.7777777777777778,
              "#fb9f3a"
             ],
             [
              0.8888888888888888,
              "#fdca26"
             ],
             [
              1,
              "#f0f921"
             ]
            ],
            "type": "heatmapgl"
           }
          ],
          "histogram": [
           {
            "marker": {
             "pattern": {
              "fillmode": "overlay",
              "size": 10,
              "solidity": 0.2
             }
            },
            "type": "histogram"
           }
          ],
          "histogram2d": [
           {
            "colorbar": {
             "outlinewidth": 0,
             "ticks": ""
            },
            "colorscale": [
             [
              0,
              "#0d0887"
             ],
             [
              0.1111111111111111,
              "#46039f"
             ],
             [
              0.2222222222222222,
              "#7201a8"
             ],
             [
              0.3333333333333333,
              "#9c179e"
             ],
             [
              0.4444444444444444,
              "#bd3786"
             ],
             [
              0.5555555555555556,
              "#d8576b"
             ],
             [
              0.6666666666666666,
              "#ed7953"
             ],
             [
              0.7777777777777778,
              "#fb9f3a"
             ],
             [
              0.8888888888888888,
              "#fdca26"
             ],
             [
              1,
              "#f0f921"
             ]
            ],
            "type": "histogram2d"
           }
          ],
          "histogram2dcontour": [
           {
            "colorbar": {
             "outlinewidth": 0,
             "ticks": ""
            },
            "colorscale": [
             [
              0,
              "#0d0887"
             ],
             [
              0.1111111111111111,
              "#46039f"
             ],
             [
              0.2222222222222222,
              "#7201a8"
             ],
             [
              0.3333333333333333,
              "#9c179e"
             ],
             [
              0.4444444444444444,
              "#bd3786"
             ],
             [
              0.5555555555555556,
              "#d8576b"
             ],
             [
              0.6666666666666666,
              "#ed7953"
             ],
             [
              0.7777777777777778,
              "#fb9f3a"
             ],
             [
              0.8888888888888888,
              "#fdca26"
             ],
             [
              1,
              "#f0f921"
             ]
            ],
            "type": "histogram2dcontour"
           }
          ],
          "mesh3d": [
           {
            "colorbar": {
             "outlinewidth": 0,
             "ticks": ""
            },
            "type": "mesh3d"
           }
          ],
          "parcoords": [
           {
            "line": {
             "colorbar": {
              "outlinewidth": 0,
              "ticks": ""
             }
            },
            "type": "parcoords"
           }
          ],
          "pie": [
           {
            "automargin": true,
            "type": "pie"
           }
          ],
          "scatter": [
           {
            "fillpattern": {
             "fillmode": "overlay",
             "size": 10,
             "solidity": 0.2
            },
            "type": "scatter"
           }
          ],
          "scatter3d": [
           {
            "line": {
             "colorbar": {
              "outlinewidth": 0,
              "ticks": ""
             }
            },
            "marker": {
             "colorbar": {
              "outlinewidth": 0,
              "ticks": ""
             }
            },
            "type": "scatter3d"
           }
          ],
          "scattercarpet": [
           {
            "marker": {
             "colorbar": {
              "outlinewidth": 0,
              "ticks": ""
             }
            },
            "type": "scattercarpet"
           }
          ],
          "scattergeo": [
           {
            "marker": {
             "colorbar": {
              "outlinewidth": 0,
              "ticks": ""
             }
            },
            "type": "scattergeo"
           }
          ],
          "scattergl": [
           {
            "marker": {
             "colorbar": {
              "outlinewidth": 0,
              "ticks": ""
             }
            },
            "type": "scattergl"
           }
          ],
          "scattermapbox": [
           {
            "marker": {
             "colorbar": {
              "outlinewidth": 0,
              "ticks": ""
             }
            },
            "type": "scattermapbox"
           }
          ],
          "scatterpolar": [
           {
            "marker": {
             "colorbar": {
              "outlinewidth": 0,
              "ticks": ""
             }
            },
            "type": "scatterpolar"
           }
          ],
          "scatterpolargl": [
           {
            "marker": {
             "colorbar": {
              "outlinewidth": 0,
              "ticks": ""
             }
            },
            "type": "scatterpolargl"
           }
          ],
          "scatterternary": [
           {
            "marker": {
             "colorbar": {
              "outlinewidth": 0,
              "ticks": ""
             }
            },
            "type": "scatterternary"
           }
          ],
          "surface": [
           {
            "colorbar": {
             "outlinewidth": 0,
             "ticks": ""
            },
            "colorscale": [
             [
              0,
              "#0d0887"
             ],
             [
              0.1111111111111111,
              "#46039f"
             ],
             [
              0.2222222222222222,
              "#7201a8"
             ],
             [
              0.3333333333333333,
              "#9c179e"
             ],
             [
              0.4444444444444444,
              "#bd3786"
             ],
             [
              0.5555555555555556,
              "#d8576b"
             ],
             [
              0.6666666666666666,
              "#ed7953"
             ],
             [
              0.7777777777777778,
              "#fb9f3a"
             ],
             [
              0.8888888888888888,
              "#fdca26"
             ],
             [
              1,
              "#f0f921"
             ]
            ],
            "type": "surface"
           }
          ],
          "table": [
           {
            "cells": {
             "fill": {
              "color": "#EBF0F8"
             },
             "line": {
              "color": "white"
             }
            },
            "header": {
             "fill": {
              "color": "#C8D4E3"
             },
             "line": {
              "color": "white"
             }
            },
            "type": "table"
           }
          ]
         },
         "layout": {
          "annotationdefaults": {
           "arrowcolor": "#2a3f5f",
           "arrowhead": 0,
           "arrowwidth": 1
          },
          "autotypenumbers": "strict",
          "coloraxis": {
           "colorbar": {
            "outlinewidth": 0,
            "ticks": ""
           }
          },
          "colorscale": {
           "diverging": [
            [
             0,
             "#8e0152"
            ],
            [
             0.1,
             "#c51b7d"
            ],
            [
             0.2,
             "#de77ae"
            ],
            [
             0.3,
             "#f1b6da"
            ],
            [
             0.4,
             "#fde0ef"
            ],
            [
             0.5,
             "#f7f7f7"
            ],
            [
             0.6,
             "#e6f5d0"
            ],
            [
             0.7,
             "#b8e186"
            ],
            [
             0.8,
             "#7fbc41"
            ],
            [
             0.9,
             "#4d9221"
            ],
            [
             1,
             "#276419"
            ]
           ],
           "sequential": [
            [
             0,
             "#0d0887"
            ],
            [
             0.1111111111111111,
             "#46039f"
            ],
            [
             0.2222222222222222,
             "#7201a8"
            ],
            [
             0.3333333333333333,
             "#9c179e"
            ],
            [
             0.4444444444444444,
             "#bd3786"
            ],
            [
             0.5555555555555556,
             "#d8576b"
            ],
            [
             0.6666666666666666,
             "#ed7953"
            ],
            [
             0.7777777777777778,
             "#fb9f3a"
            ],
            [
             0.8888888888888888,
             "#fdca26"
            ],
            [
             1,
             "#f0f921"
            ]
           ],
           "sequentialminus": [
            [
             0,
             "#0d0887"
            ],
            [
             0.1111111111111111,
             "#46039f"
            ],
            [
             0.2222222222222222,
             "#7201a8"
            ],
            [
             0.3333333333333333,
             "#9c179e"
            ],
            [
             0.4444444444444444,
             "#bd3786"
            ],
            [
             0.5555555555555556,
             "#d8576b"
            ],
            [
             0.6666666666666666,
             "#ed7953"
            ],
            [
             0.7777777777777778,
             "#fb9f3a"
            ],
            [
             0.8888888888888888,
             "#fdca26"
            ],
            [
             1,
             "#f0f921"
            ]
           ]
          },
          "colorway": [
           "#636efa",
           "#EF553B",
           "#00cc96",
           "#ab63fa",
           "#FFA15A",
           "#19d3f3",
           "#FF6692",
           "#B6E880",
           "#FF97FF",
           "#FECB52"
          ],
          "font": {
           "color": "#2a3f5f"
          },
          "geo": {
           "bgcolor": "white",
           "lakecolor": "white",
           "landcolor": "#E5ECF6",
           "showlakes": true,
           "showland": true,
           "subunitcolor": "white"
          },
          "hoverlabel": {
           "align": "left"
          },
          "hovermode": "closest",
          "mapbox": {
           "style": "light"
          },
          "paper_bgcolor": "white",
          "plot_bgcolor": "#E5ECF6",
          "polar": {
           "angularaxis": {
            "gridcolor": "white",
            "linecolor": "white",
            "ticks": ""
           },
           "bgcolor": "#E5ECF6",
           "radialaxis": {
            "gridcolor": "white",
            "linecolor": "white",
            "ticks": ""
           }
          },
          "scene": {
           "xaxis": {
            "backgroundcolor": "#E5ECF6",
            "gridcolor": "white",
            "gridwidth": 2,
            "linecolor": "white",
            "showbackground": true,
            "ticks": "",
            "zerolinecolor": "white"
           },
           "yaxis": {
            "backgroundcolor": "#E5ECF6",
            "gridcolor": "white",
            "gridwidth": 2,
            "linecolor": "white",
            "showbackground": true,
            "ticks": "",
            "zerolinecolor": "white"
           },
           "zaxis": {
            "backgroundcolor": "#E5ECF6",
            "gridcolor": "white",
            "gridwidth": 2,
            "linecolor": "white",
            "showbackground": true,
            "ticks": "",
            "zerolinecolor": "white"
           }
          },
          "shapedefaults": {
           "line": {
            "color": "#2a3f5f"
           }
          },
          "ternary": {
           "aaxis": {
            "gridcolor": "white",
            "linecolor": "white",
            "ticks": ""
           },
           "baxis": {
            "gridcolor": "white",
            "linecolor": "white",
            "ticks": ""
           },
           "bgcolor": "#E5ECF6",
           "caxis": {
            "gridcolor": "white",
            "linecolor": "white",
            "ticks": ""
           }
          },
          "title": {
           "x": 0.05
          },
          "xaxis": {
           "automargin": true,
           "gridcolor": "white",
           "linecolor": "white",
           "ticks": "",
           "title": {
            "standoff": 15
           },
           "zerolinecolor": "white",
           "zerolinewidth": 2
          },
          "yaxis": {
           "automargin": true,
           "gridcolor": "white",
           "linecolor": "white",
           "ticks": "",
           "title": {
            "standoff": 15
           },
           "zerolinecolor": "white",
           "zerolinewidth": 2
          }
         }
        },
        "title": {
         "text": "Original Data vs Sample Data"
        },
        "xaxis": {
         "title": {
          "text": "hour_of_day"
         }
        },
        "yaxis": {
         "title": {
          "text": "Count"
         }
        }
       }
      }
     },
     "metadata": {},
     "output_type": "display_data"
    }
   ],
   "source": [
    "# Create a scatter plot for the original data\n",
    "trace1 = go.Scatter(\n",
    "    x=data_train_df[\"hour_of_day\"],\n",
    "    y=data_train_df[\"Count\"],\n",
    "    mode=\"markers\",\n",
    "    name=\"Original Data\",\n",
    ")\n",
    "\n",
    "# Create a scatter plot for the samples\n",
    "trace2 = go.Scatter(\n",
    "    x=data_test_df[\"hour_of_day\"],\n",
    "    y=data_test_df[\"Count\"],\n",
    "    mode=\"markers\",\n",
    "    name=\"Sample Data\",\n",
    ")\n",
    "\n",
    "# Combine the two plots\n",
    "data = [trace1, trace2]\n",
    "\n",
    "\n",
    "# Create a layout\n",
    "layout = go.Layout(\n",
    "    title=\"Original Data vs Sample Data\",\n",
    "    xaxis=dict(title=\"hour_of_day\"),\n",
    "    yaxis=dict(title=\"Count\"),\n",
    ")\n",
    "\n",
    "# Create a Figure and plot it\n",
    "fig = go.Figure(data=data, layout=layout)\n",
    "fig.show()"
   ]
  },
  {
   "cell_type": "code",
   "execution_count": null,
   "metadata": {},
   "outputs": [
    {
     "data": {
      "application/vnd.plotly.v1+json": {
       "config": {
        "plotlyServerURL": "https://plot.ly"
       },
       "data": [
        {
         "mode": "markers",
         "name": "Sample Data",
         "type": "scatter",
         "x": [
          17,
          17,
          17,
          18,
          18,
          19,
          20,
          20,
          20,
          20,
          21,
          21,
          22,
          22,
          23,
          23,
          0,
          0,
          1,
          2,
          2,
          2,
          2,
          3,
          4,
          5,
          5,
          6,
          6,
          7,
          8,
          8,
          9,
          9,
          9,
          9,
          9,
          9,
          9,
          10,
          10,
          11,
          11,
          11,
          11,
          12,
          13,
          14,
          14,
          14,
          14,
          15,
          16,
          17,
          17,
          18,
          18,
          19,
          20,
          20,
          14,
          14,
          15,
          15,
          16,
          16,
          17,
          17,
          17,
          18,
          19,
          20,
          20,
          21,
          22,
          22,
          22,
          23,
          0,
          0,
          1,
          1,
          1,
          2,
          3,
          3,
          4,
          5,
          6,
          6,
          7,
          7,
          8,
          8,
          9,
          10,
          11,
          11,
          12,
          12,
          13,
          13,
          13,
          14,
          14,
          14,
          15,
          16,
          17,
          18,
          18,
          19,
          19,
          19,
          20,
          20,
          20,
          21,
          21,
          22,
          22,
          23,
          23,
          23,
          0,
          0,
          0,
          1,
          1,
          2,
          2,
          2,
          3,
          3,
          4,
          4,
          5,
          5,
          6,
          7,
          7,
          7,
          8,
          9,
          10,
          10
         ],
         "y": [
          47,
          34,
          37,
          40,
          38,
          39,
          40,
          37,
          42,
          43,
          43,
          45,
          45,
          52,
          43,
          41,
          40,
          36,
          43,
          39,
          42,
          40,
          42,
          42,
          41,
          41,
          40,
          38,
          40,
          31,
          36,
          38,
          43,
          41,
          41,
          43,
          42,
          35,
          36,
          39,
          38,
          42,
          36,
          38,
          40,
          41,
          38,
          48,
          48,
          52,
          36,
          33,
          43,
          43,
          42,
          36,
          53,
          45,
          54,
          51,
          23,
          32,
          32,
          32,
          26,
          32,
          32,
          29,
          26,
          29,
          35,
          37,
          34,
          33,
          41,
          34,
          52,
          46,
          50,
          50,
          50,
          47,
          48,
          58,
          42,
          34,
          36,
          33,
          32,
          34,
          29,
          30,
          33,
          31,
          29,
          28,
          37,
          31,
          26,
          30,
          29,
          28,
          26,
          25,
          30,
          29,
          36,
          35,
          37,
          41,
          45,
          45,
          37,
          41,
          45,
          39,
          37,
          37,
          41,
          32,
          31,
          26,
          27,
          22,
          27,
          32,
          31,
          26,
          28,
          30,
          27,
          28,
          27,
          26,
          29,
          26,
          26,
          26,
          25,
          26,
          25,
          32,
          37,
          38,
          31,
          39
         ]
        }
       ],
       "layout": {
        "template": {
         "data": {
          "bar": [
           {
            "error_x": {
             "color": "#2a3f5f"
            },
            "error_y": {
             "color": "#2a3f5f"
            },
            "marker": {
             "line": {
              "color": "#E5ECF6",
              "width": 0.5
             },
             "pattern": {
              "fillmode": "overlay",
              "size": 10,
              "solidity": 0.2
             }
            },
            "type": "bar"
           }
          ],
          "barpolar": [
           {
            "marker": {
             "line": {
              "color": "#E5ECF6",
              "width": 0.5
             },
             "pattern": {
              "fillmode": "overlay",
              "size": 10,
              "solidity": 0.2
             }
            },
            "type": "barpolar"
           }
          ],
          "carpet": [
           {
            "aaxis": {
             "endlinecolor": "#2a3f5f",
             "gridcolor": "white",
             "linecolor": "white",
             "minorgridcolor": "white",
             "startlinecolor": "#2a3f5f"
            },
            "baxis": {
             "endlinecolor": "#2a3f5f",
             "gridcolor": "white",
             "linecolor": "white",
             "minorgridcolor": "white",
             "startlinecolor": "#2a3f5f"
            },
            "type": "carpet"
           }
          ],
          "choropleth": [
           {
            "colorbar": {
             "outlinewidth": 0,
             "ticks": ""
            },
            "type": "choropleth"
           }
          ],
          "contour": [
           {
            "colorbar": {
             "outlinewidth": 0,
             "ticks": ""
            },
            "colorscale": [
             [
              0,
              "#0d0887"
             ],
             [
              0.1111111111111111,
              "#46039f"
             ],
             [
              0.2222222222222222,
              "#7201a8"
             ],
             [
              0.3333333333333333,
              "#9c179e"
             ],
             [
              0.4444444444444444,
              "#bd3786"
             ],
             [
              0.5555555555555556,
              "#d8576b"
             ],
             [
              0.6666666666666666,
              "#ed7953"
             ],
             [
              0.7777777777777778,
              "#fb9f3a"
             ],
             [
              0.8888888888888888,
              "#fdca26"
             ],
             [
              1,
              "#f0f921"
             ]
            ],
            "type": "contour"
           }
          ],
          "contourcarpet": [
           {
            "colorbar": {
             "outlinewidth": 0,
             "ticks": ""
            },
            "type": "contourcarpet"
           }
          ],
          "heatmap": [
           {
            "colorbar": {
             "outlinewidth": 0,
             "ticks": ""
            },
            "colorscale": [
             [
              0,
              "#0d0887"
             ],
             [
              0.1111111111111111,
              "#46039f"
             ],
             [
              0.2222222222222222,
              "#7201a8"
             ],
             [
              0.3333333333333333,
              "#9c179e"
             ],
             [
              0.4444444444444444,
              "#bd3786"
             ],
             [
              0.5555555555555556,
              "#d8576b"
             ],
             [
              0.6666666666666666,
              "#ed7953"
             ],
             [
              0.7777777777777778,
              "#fb9f3a"
             ],
             [
              0.8888888888888888,
              "#fdca26"
             ],
             [
              1,
              "#f0f921"
             ]
            ],
            "type": "heatmap"
           }
          ],
          "heatmapgl": [
           {
            "colorbar": {
             "outlinewidth": 0,
             "ticks": ""
            },
            "colorscale": [
             [
              0,
              "#0d0887"
             ],
             [
              0.1111111111111111,
              "#46039f"
             ],
             [
              0.2222222222222222,
              "#7201a8"
             ],
             [
              0.3333333333333333,
              "#9c179e"
             ],
             [
              0.4444444444444444,
              "#bd3786"
             ],
             [
              0.5555555555555556,
              "#d8576b"
             ],
             [
              0.6666666666666666,
              "#ed7953"
             ],
             [
              0.7777777777777778,
              "#fb9f3a"
             ],
             [
              0.8888888888888888,
              "#fdca26"
             ],
             [
              1,
              "#f0f921"
             ]
            ],
            "type": "heatmapgl"
           }
          ],
          "histogram": [
           {
            "marker": {
             "pattern": {
              "fillmode": "overlay",
              "size": 10,
              "solidity": 0.2
             }
            },
            "type": "histogram"
           }
          ],
          "histogram2d": [
           {
            "colorbar": {
             "outlinewidth": 0,
             "ticks": ""
            },
            "colorscale": [
             [
              0,
              "#0d0887"
             ],
             [
              0.1111111111111111,
              "#46039f"
             ],
             [
              0.2222222222222222,
              "#7201a8"
             ],
             [
              0.3333333333333333,
              "#9c179e"
             ],
             [
              0.4444444444444444,
              "#bd3786"
             ],
             [
              0.5555555555555556,
              "#d8576b"
             ],
             [
              0.6666666666666666,
              "#ed7953"
             ],
             [
              0.7777777777777778,
              "#fb9f3a"
             ],
             [
              0.8888888888888888,
              "#fdca26"
             ],
             [
              1,
              "#f0f921"
             ]
            ],
            "type": "histogram2d"
           }
          ],
          "histogram2dcontour": [
           {
            "colorbar": {
             "outlinewidth": 0,
             "ticks": ""
            },
            "colorscale": [
             [
              0,
              "#0d0887"
             ],
             [
              0.1111111111111111,
              "#46039f"
             ],
             [
              0.2222222222222222,
              "#7201a8"
             ],
             [
              0.3333333333333333,
              "#9c179e"
             ],
             [
              0.4444444444444444,
              "#bd3786"
             ],
             [
              0.5555555555555556,
              "#d8576b"
             ],
             [
              0.6666666666666666,
              "#ed7953"
             ],
             [
              0.7777777777777778,
              "#fb9f3a"
             ],
             [
              0.8888888888888888,
              "#fdca26"
             ],
             [
              1,
              "#f0f921"
             ]
            ],
            "type": "histogram2dcontour"
           }
          ],
          "mesh3d": [
           {
            "colorbar": {
             "outlinewidth": 0,
             "ticks": ""
            },
            "type": "mesh3d"
           }
          ],
          "parcoords": [
           {
            "line": {
             "colorbar": {
              "outlinewidth": 0,
              "ticks": ""
             }
            },
            "type": "parcoords"
           }
          ],
          "pie": [
           {
            "automargin": true,
            "type": "pie"
           }
          ],
          "scatter": [
           {
            "fillpattern": {
             "fillmode": "overlay",
             "size": 10,
             "solidity": 0.2
            },
            "type": "scatter"
           }
          ],
          "scatter3d": [
           {
            "line": {
             "colorbar": {
              "outlinewidth": 0,
              "ticks": ""
             }
            },
            "marker": {
             "colorbar": {
              "outlinewidth": 0,
              "ticks": ""
             }
            },
            "type": "scatter3d"
           }
          ],
          "scattercarpet": [
           {
            "marker": {
             "colorbar": {
              "outlinewidth": 0,
              "ticks": ""
             }
            },
            "type": "scattercarpet"
           }
          ],
          "scattergeo": [
           {
            "marker": {
             "colorbar": {
              "outlinewidth": 0,
              "ticks": ""
             }
            },
            "type": "scattergeo"
           }
          ],
          "scattergl": [
           {
            "marker": {
             "colorbar": {
              "outlinewidth": 0,
              "ticks": ""
             }
            },
            "type": "scattergl"
           }
          ],
          "scattermapbox": [
           {
            "marker": {
             "colorbar": {
              "outlinewidth": 0,
              "ticks": ""
             }
            },
            "type": "scattermapbox"
           }
          ],
          "scatterpolar": [
           {
            "marker": {
             "colorbar": {
              "outlinewidth": 0,
              "ticks": ""
             }
            },
            "type": "scatterpolar"
           }
          ],
          "scatterpolargl": [
           {
            "marker": {
             "colorbar": {
              "outlinewidth": 0,
              "ticks": ""
             }
            },
            "type": "scatterpolargl"
           }
          ],
          "scatterternary": [
           {
            "marker": {
             "colorbar": {
              "outlinewidth": 0,
              "ticks": ""
             }
            },
            "type": "scatterternary"
           }
          ],
          "surface": [
           {
            "colorbar": {
             "outlinewidth": 0,
             "ticks": ""
            },
            "colorscale": [
             [
              0,
              "#0d0887"
             ],
             [
              0.1111111111111111,
              "#46039f"
             ],
             [
              0.2222222222222222,
              "#7201a8"
             ],
             [
              0.3333333333333333,
              "#9c179e"
             ],
             [
              0.4444444444444444,
              "#bd3786"
             ],
             [
              0.5555555555555556,
              "#d8576b"
             ],
             [
              0.6666666666666666,
              "#ed7953"
             ],
             [
              0.7777777777777778,
              "#fb9f3a"
             ],
             [
              0.8888888888888888,
              "#fdca26"
             ],
             [
              1,
              "#f0f921"
             ]
            ],
            "type": "surface"
           }
          ],
          "table": [
           {
            "cells": {
             "fill": {
              "color": "#EBF0F8"
             },
             "line": {
              "color": "white"
             }
            },
            "header": {
             "fill": {
              "color": "#C8D4E3"
             },
             "line": {
              "color": "white"
             }
            },
            "type": "table"
           }
          ]
         },
         "layout": {
          "annotationdefaults": {
           "arrowcolor": "#2a3f5f",
           "arrowhead": 0,
           "arrowwidth": 1
          },
          "autotypenumbers": "strict",
          "coloraxis": {
           "colorbar": {
            "outlinewidth": 0,
            "ticks": ""
           }
          },
          "colorscale": {
           "diverging": [
            [
             0,
             "#8e0152"
            ],
            [
             0.1,
             "#c51b7d"
            ],
            [
             0.2,
             "#de77ae"
            ],
            [
             0.3,
             "#f1b6da"
            ],
            [
             0.4,
             "#fde0ef"
            ],
            [
             0.5,
             "#f7f7f7"
            ],
            [
             0.6,
             "#e6f5d0"
            ],
            [
             0.7,
             "#b8e186"
            ],
            [
             0.8,
             "#7fbc41"
            ],
            [
             0.9,
             "#4d9221"
            ],
            [
             1,
             "#276419"
            ]
           ],
           "sequential": [
            [
             0,
             "#0d0887"
            ],
            [
             0.1111111111111111,
             "#46039f"
            ],
            [
             0.2222222222222222,
             "#7201a8"
            ],
            [
             0.3333333333333333,
             "#9c179e"
            ],
            [
             0.4444444444444444,
             "#bd3786"
            ],
            [
             0.5555555555555556,
             "#d8576b"
            ],
            [
             0.6666666666666666,
             "#ed7953"
            ],
            [
             0.7777777777777778,
             "#fb9f3a"
            ],
            [
             0.8888888888888888,
             "#fdca26"
            ],
            [
             1,
             "#f0f921"
            ]
           ],
           "sequentialminus": [
            [
             0,
             "#0d0887"
            ],
            [
             0.1111111111111111,
             "#46039f"
            ],
            [
             0.2222222222222222,
             "#7201a8"
            ],
            [
             0.3333333333333333,
             "#9c179e"
            ],
            [
             0.4444444444444444,
             "#bd3786"
            ],
            [
             0.5555555555555556,
             "#d8576b"
            ],
            [
             0.6666666666666666,
             "#ed7953"
            ],
            [
             0.7777777777777778,
             "#fb9f3a"
            ],
            [
             0.8888888888888888,
             "#fdca26"
            ],
            [
             1,
             "#f0f921"
            ]
           ]
          },
          "colorway": [
           "#636efa",
           "#EF553B",
           "#00cc96",
           "#ab63fa",
           "#FFA15A",
           "#19d3f3",
           "#FF6692",
           "#B6E880",
           "#FF97FF",
           "#FECB52"
          ],
          "font": {
           "color": "#2a3f5f"
          },
          "geo": {
           "bgcolor": "white",
           "lakecolor": "white",
           "landcolor": "#E5ECF6",
           "showlakes": true,
           "showland": true,
           "subunitcolor": "white"
          },
          "hoverlabel": {
           "align": "left"
          },
          "hovermode": "closest",
          "mapbox": {
           "style": "light"
          },
          "paper_bgcolor": "white",
          "plot_bgcolor": "#E5ECF6",
          "polar": {
           "angularaxis": {
            "gridcolor": "white",
            "linecolor": "white",
            "ticks": ""
           },
           "bgcolor": "#E5ECF6",
           "radialaxis": {
            "gridcolor": "white",
            "linecolor": "white",
            "ticks": ""
           }
          },
          "scene": {
           "xaxis": {
            "backgroundcolor": "#E5ECF6",
            "gridcolor": "white",
            "gridwidth": 2,
            "linecolor": "white",
            "showbackground": true,
            "ticks": "",
            "zerolinecolor": "white"
           },
           "yaxis": {
            "backgroundcolor": "#E5ECF6",
            "gridcolor": "white",
            "gridwidth": 2,
            "linecolor": "white",
            "showbackground": true,
            "ticks": "",
            "zerolinecolor": "white"
           },
           "zaxis": {
            "backgroundcolor": "#E5ECF6",
            "gridcolor": "white",
            "gridwidth": 2,
            "linecolor": "white",
            "showbackground": true,
            "ticks": "",
            "zerolinecolor": "white"
           }
          },
          "shapedefaults": {
           "line": {
            "color": "#2a3f5f"
           }
          },
          "ternary": {
           "aaxis": {
            "gridcolor": "white",
            "linecolor": "white",
            "ticks": ""
           },
           "baxis": {
            "gridcolor": "white",
            "linecolor": "white",
            "ticks": ""
           },
           "bgcolor": "#E5ECF6",
           "caxis": {
            "gridcolor": "white",
            "linecolor": "white",
            "ticks": ""
           }
          },
          "title": {
           "x": 0.05
          },
          "xaxis": {
           "automargin": true,
           "gridcolor": "white",
           "linecolor": "white",
           "ticks": "",
           "title": {
            "standoff": 15
           },
           "zerolinecolor": "white",
           "zerolinewidth": 2
          },
          "yaxis": {
           "automargin": true,
           "gridcolor": "white",
           "linecolor": "white",
           "ticks": "",
           "title": {
            "standoff": 15
           },
           "zerolinecolor": "white",
           "zerolinewidth": 2
          }
         }
        },
        "title": {
         "text": "Sample Data"
        },
        "xaxis": {
         "title": {
          "text": "hour_of_day"
         }
        },
        "yaxis": {
         "title": {
          "text": "Count"
         }
        }
       }
      }
     },
     "metadata": {},
     "output_type": "display_data"
    }
   ],
   "source": [
    "# Create a scatter plot for the samples\n",
    "trace3 = go.Scatter(\n",
    "    x=data_test_df[\"hour_of_day\"],\n",
    "    y=data_test_df[\"Count\"],\n",
    "    mode=\"markers\",\n",
    "    name=\"Sample Data\",\n",
    ")\n",
    "\n",
    "# Combine the two plots\n",
    "data = [trace3]\n",
    "\n",
    "\n",
    "# Create a layout\n",
    "layout = go.Layout(\n",
    "    title=\"Sample Data\",\n",
    "    xaxis=dict(title=\"hour_of_day\"),\n",
    "    yaxis=dict(title=\"Count\"),\n",
    ")\n",
    "\n",
    "# Create a Figure and plot it\n",
    "fig = go.Figure(data=data, layout=layout)\n",
    "fig.show()\n"
   ]
  },
  {
   "cell_type": "code",
   "execution_count": null,
   "metadata": {},
   "outputs": [
    {
     "data": {
      "application/vnd.plotly.v1+json": {
       "config": {
        "plotlyServerURL": "https://plot.ly"
       },
       "data": [
        {
         "mode": "markers",
         "name": "Sample Data",
         "type": "scatter",
         "x": [
          19,
          19,
          19,
          19,
          19,
          19,
          19,
          19,
          19,
          19,
          19,
          19,
          19,
          19,
          19,
          19,
          20,
          20,
          20,
          20,
          20,
          20,
          20,
          20,
          20,
          20,
          20,
          20,
          20,
          20,
          20,
          20,
          20,
          20,
          20,
          20,
          20,
          20,
          20,
          20,
          20,
          20,
          20,
          20,
          20,
          20,
          20,
          20,
          20,
          20,
          20,
          20,
          20,
          20,
          20,
          20,
          20,
          20,
          20,
          20,
          24,
          24,
          24,
          24,
          24,
          24,
          24,
          24,
          24,
          24,
          24,
          24,
          24,
          24,
          24,
          24,
          24,
          24,
          25,
          25,
          25,
          25,
          25,
          25,
          25,
          25,
          25,
          25,
          25,
          25,
          25,
          25,
          25,
          25,
          25,
          25,
          25,
          25,
          25,
          25,
          25,
          25,
          25,
          25,
          25,
          25,
          25,
          25,
          25,
          25,
          25,
          25,
          25,
          25,
          25,
          25,
          25,
          25,
          25,
          25,
          25,
          25,
          25,
          25,
          26,
          26,
          26,
          26,
          26,
          26,
          26,
          26,
          26,
          26,
          26,
          26,
          26,
          26,
          26,
          26,
          26,
          26,
          26,
          26,
          26,
          26
         ],
         "y": [
          47,
          34,
          37,
          40,
          38,
          39,
          40,
          37,
          42,
          43,
          43,
          45,
          45,
          52,
          43,
          41,
          40,
          36,
          43,
          39,
          42,
          40,
          42,
          42,
          41,
          41,
          40,
          38,
          40,
          31,
          36,
          38,
          43,
          41,
          41,
          43,
          42,
          35,
          36,
          39,
          38,
          42,
          36,
          38,
          40,
          41,
          38,
          48,
          48,
          52,
          36,
          33,
          43,
          43,
          42,
          36,
          53,
          45,
          54,
          51,
          23,
          32,
          32,
          32,
          26,
          32,
          32,
          29,
          26,
          29,
          35,
          37,
          34,
          33,
          41,
          34,
          52,
          46,
          50,
          50,
          50,
          47,
          48,
          58,
          42,
          34,
          36,
          33,
          32,
          34,
          29,
          30,
          33,
          31,
          29,
          28,
          37,
          31,
          26,
          30,
          29,
          28,
          26,
          25,
          30,
          29,
          36,
          35,
          37,
          41,
          45,
          45,
          37,
          41,
          45,
          39,
          37,
          37,
          41,
          32,
          31,
          26,
          27,
          22,
          27,
          32,
          31,
          26,
          28,
          30,
          27,
          28,
          27,
          26,
          29,
          26,
          26,
          26,
          25,
          26,
          25,
          32,
          37,
          38,
          31,
          39
         ]
        }
       ],
       "layout": {
        "template": {
         "data": {
          "bar": [
           {
            "error_x": {
             "color": "#2a3f5f"
            },
            "error_y": {
             "color": "#2a3f5f"
            },
            "marker": {
             "line": {
              "color": "#E5ECF6",
              "width": 0.5
             },
             "pattern": {
              "fillmode": "overlay",
              "size": 10,
              "solidity": 0.2
             }
            },
            "type": "bar"
           }
          ],
          "barpolar": [
           {
            "marker": {
             "line": {
              "color": "#E5ECF6",
              "width": 0.5
             },
             "pattern": {
              "fillmode": "overlay",
              "size": 10,
              "solidity": 0.2
             }
            },
            "type": "barpolar"
           }
          ],
          "carpet": [
           {
            "aaxis": {
             "endlinecolor": "#2a3f5f",
             "gridcolor": "white",
             "linecolor": "white",
             "minorgridcolor": "white",
             "startlinecolor": "#2a3f5f"
            },
            "baxis": {
             "endlinecolor": "#2a3f5f",
             "gridcolor": "white",
             "linecolor": "white",
             "minorgridcolor": "white",
             "startlinecolor": "#2a3f5f"
            },
            "type": "carpet"
           }
          ],
          "choropleth": [
           {
            "colorbar": {
             "outlinewidth": 0,
             "ticks": ""
            },
            "type": "choropleth"
           }
          ],
          "contour": [
           {
            "colorbar": {
             "outlinewidth": 0,
             "ticks": ""
            },
            "colorscale": [
             [
              0,
              "#0d0887"
             ],
             [
              0.1111111111111111,
              "#46039f"
             ],
             [
              0.2222222222222222,
              "#7201a8"
             ],
             [
              0.3333333333333333,
              "#9c179e"
             ],
             [
              0.4444444444444444,
              "#bd3786"
             ],
             [
              0.5555555555555556,
              "#d8576b"
             ],
             [
              0.6666666666666666,
              "#ed7953"
             ],
             [
              0.7777777777777778,
              "#fb9f3a"
             ],
             [
              0.8888888888888888,
              "#fdca26"
             ],
             [
              1,
              "#f0f921"
             ]
            ],
            "type": "contour"
           }
          ],
          "contourcarpet": [
           {
            "colorbar": {
             "outlinewidth": 0,
             "ticks": ""
            },
            "type": "contourcarpet"
           }
          ],
          "heatmap": [
           {
            "colorbar": {
             "outlinewidth": 0,
             "ticks": ""
            },
            "colorscale": [
             [
              0,
              "#0d0887"
             ],
             [
              0.1111111111111111,
              "#46039f"
             ],
             [
              0.2222222222222222,
              "#7201a8"
             ],
             [
              0.3333333333333333,
              "#9c179e"
             ],
             [
              0.4444444444444444,
              "#bd3786"
             ],
             [
              0.5555555555555556,
              "#d8576b"
             ],
             [
              0.6666666666666666,
              "#ed7953"
             ],
             [
              0.7777777777777778,
              "#fb9f3a"
             ],
             [
              0.8888888888888888,
              "#fdca26"
             ],
             [
              1,
              "#f0f921"
             ]
            ],
            "type": "heatmap"
           }
          ],
          "heatmapgl": [
           {
            "colorbar": {
             "outlinewidth": 0,
             "ticks": ""
            },
            "colorscale": [
             [
              0,
              "#0d0887"
             ],
             [
              0.1111111111111111,
              "#46039f"
             ],
             [
              0.2222222222222222,
              "#7201a8"
             ],
             [
              0.3333333333333333,
              "#9c179e"
             ],
             [
              0.4444444444444444,
              "#bd3786"
             ],
             [
              0.5555555555555556,
              "#d8576b"
             ],
             [
              0.6666666666666666,
              "#ed7953"
             ],
             [
              0.7777777777777778,
              "#fb9f3a"
             ],
             [
              0.8888888888888888,
              "#fdca26"
             ],
             [
              1,
              "#f0f921"
             ]
            ],
            "type": "heatmapgl"
           }
          ],
          "histogram": [
           {
            "marker": {
             "pattern": {
              "fillmode": "overlay",
              "size": 10,
              "solidity": 0.2
             }
            },
            "type": "histogram"
           }
          ],
          "histogram2d": [
           {
            "colorbar": {
             "outlinewidth": 0,
             "ticks": ""
            },
            "colorscale": [
             [
              0,
              "#0d0887"
             ],
             [
              0.1111111111111111,
              "#46039f"
             ],
             [
              0.2222222222222222,
              "#7201a8"
             ],
             [
              0.3333333333333333,
              "#9c179e"
             ],
             [
              0.4444444444444444,
              "#bd3786"
             ],
             [
              0.5555555555555556,
              "#d8576b"
             ],
             [
              0.6666666666666666,
              "#ed7953"
             ],
             [
              0.7777777777777778,
              "#fb9f3a"
             ],
             [
              0.8888888888888888,
              "#fdca26"
             ],
             [
              1,
              "#f0f921"
             ]
            ],
            "type": "histogram2d"
           }
          ],
          "histogram2dcontour": [
           {
            "colorbar": {
             "outlinewidth": 0,
             "ticks": ""
            },
            "colorscale": [
             [
              0,
              "#0d0887"
             ],
             [
              0.1111111111111111,
              "#46039f"
             ],
             [
              0.2222222222222222,
              "#7201a8"
             ],
             [
              0.3333333333333333,
              "#9c179e"
             ],
             [
              0.4444444444444444,
              "#bd3786"
             ],
             [
              0.5555555555555556,
              "#d8576b"
             ],
             [
              0.6666666666666666,
              "#ed7953"
             ],
             [
              0.7777777777777778,
              "#fb9f3a"
             ],
             [
              0.8888888888888888,
              "#fdca26"
             ],
             [
              1,
              "#f0f921"
             ]
            ],
            "type": "histogram2dcontour"
           }
          ],
          "mesh3d": [
           {
            "colorbar": {
             "outlinewidth": 0,
             "ticks": ""
            },
            "type": "mesh3d"
           }
          ],
          "parcoords": [
           {
            "line": {
             "colorbar": {
              "outlinewidth": 0,
              "ticks": ""
             }
            },
            "type": "parcoords"
           }
          ],
          "pie": [
           {
            "automargin": true,
            "type": "pie"
           }
          ],
          "scatter": [
           {
            "fillpattern": {
             "fillmode": "overlay",
             "size": 10,
             "solidity": 0.2
            },
            "type": "scatter"
           }
          ],
          "scatter3d": [
           {
            "line": {
             "colorbar": {
              "outlinewidth": 0,
              "ticks": ""
             }
            },
            "marker": {
             "colorbar": {
              "outlinewidth": 0,
              "ticks": ""
             }
            },
            "type": "scatter3d"
           }
          ],
          "scattercarpet": [
           {
            "marker": {
             "colorbar": {
              "outlinewidth": 0,
              "ticks": ""
             }
            },
            "type": "scattercarpet"
           }
          ],
          "scattergeo": [
           {
            "marker": {
             "colorbar": {
              "outlinewidth": 0,
              "ticks": ""
             }
            },
            "type": "scattergeo"
           }
          ],
          "scattergl": [
           {
            "marker": {
             "colorbar": {
              "outlinewidth": 0,
              "ticks": ""
             }
            },
            "type": "scattergl"
           }
          ],
          "scattermapbox": [
           {
            "marker": {
             "colorbar": {
              "outlinewidth": 0,
              "ticks": ""
             }
            },
            "type": "scattermapbox"
           }
          ],
          "scatterpolar": [
           {
            "marker": {
             "colorbar": {
              "outlinewidth": 0,
              "ticks": ""
             }
            },
            "type": "scatterpolar"
           }
          ],
          "scatterpolargl": [
           {
            "marker": {
             "colorbar": {
              "outlinewidth": 0,
              "ticks": ""
             }
            },
            "type": "scatterpolargl"
           }
          ],
          "scatterternary": [
           {
            "marker": {
             "colorbar": {
              "outlinewidth": 0,
              "ticks": ""
             }
            },
            "type": "scatterternary"
           }
          ],
          "surface": [
           {
            "colorbar": {
             "outlinewidth": 0,
             "ticks": ""
            },
            "colorscale": [
             [
              0,
              "#0d0887"
             ],
             [
              0.1111111111111111,
              "#46039f"
             ],
             [
              0.2222222222222222,
              "#7201a8"
             ],
             [
              0.3333333333333333,
              "#9c179e"
             ],
             [
              0.4444444444444444,
              "#bd3786"
             ],
             [
              0.5555555555555556,
              "#d8576b"
             ],
             [
              0.6666666666666666,
              "#ed7953"
             ],
             [
              0.7777777777777778,
              "#fb9f3a"
             ],
             [
              0.8888888888888888,
              "#fdca26"
             ],
             [
              1,
              "#f0f921"
             ]
            ],
            "type": "surface"
           }
          ],
          "table": [
           {
            "cells": {
             "fill": {
              "color": "#EBF0F8"
             },
             "line": {
              "color": "white"
             }
            },
            "header": {
             "fill": {
              "color": "#C8D4E3"
             },
             "line": {
              "color": "white"
             }
            },
            "type": "table"
           }
          ]
         },
         "layout": {
          "annotationdefaults": {
           "arrowcolor": "#2a3f5f",
           "arrowhead": 0,
           "arrowwidth": 1
          },
          "autotypenumbers": "strict",
          "coloraxis": {
           "colorbar": {
            "outlinewidth": 0,
            "ticks": ""
           }
          },
          "colorscale": {
           "diverging": [
            [
             0,
             "#8e0152"
            ],
            [
             0.1,
             "#c51b7d"
            ],
            [
             0.2,
             "#de77ae"
            ],
            [
             0.3,
             "#f1b6da"
            ],
            [
             0.4,
             "#fde0ef"
            ],
            [
             0.5,
             "#f7f7f7"
            ],
            [
             0.6,
             "#e6f5d0"
            ],
            [
             0.7,
             "#b8e186"
            ],
            [
             0.8,
             "#7fbc41"
            ],
            [
             0.9,
             "#4d9221"
            ],
            [
             1,
             "#276419"
            ]
           ],
           "sequential": [
            [
             0,
             "#0d0887"
            ],
            [
             0.1111111111111111,
             "#46039f"
            ],
            [
             0.2222222222222222,
             "#7201a8"
            ],
            [
             0.3333333333333333,
             "#9c179e"
            ],
            [
             0.4444444444444444,
             "#bd3786"
            ],
            [
             0.5555555555555556,
             "#d8576b"
            ],
            [
             0.6666666666666666,
             "#ed7953"
            ],
            [
             0.7777777777777778,
             "#fb9f3a"
            ],
            [
             0.8888888888888888,
             "#fdca26"
            ],
            [
             1,
             "#f0f921"
            ]
           ],
           "sequentialminus": [
            [
             0,
             "#0d0887"
            ],
            [
             0.1111111111111111,
             "#46039f"
            ],
            [
             0.2222222222222222,
             "#7201a8"
            ],
            [
             0.3333333333333333,
             "#9c179e"
            ],
            [
             0.4444444444444444,
             "#bd3786"
            ],
            [
             0.5555555555555556,
             "#d8576b"
            ],
            [
             0.6666666666666666,
             "#ed7953"
            ],
            [
             0.7777777777777778,
             "#fb9f3a"
            ],
            [
             0.8888888888888888,
             "#fdca26"
            ],
            [
             1,
             "#f0f921"
            ]
           ]
          },
          "colorway": [
           "#636efa",
           "#EF553B",
           "#00cc96",
           "#ab63fa",
           "#FFA15A",
           "#19d3f3",
           "#FF6692",
           "#B6E880",
           "#FF97FF",
           "#FECB52"
          ],
          "font": {
           "color": "#2a3f5f"
          },
          "geo": {
           "bgcolor": "white",
           "lakecolor": "white",
           "landcolor": "#E5ECF6",
           "showlakes": true,
           "showland": true,
           "subunitcolor": "white"
          },
          "hoverlabel": {
           "align": "left"
          },
          "hovermode": "closest",
          "mapbox": {
           "style": "light"
          },
          "paper_bgcolor": "white",
          "plot_bgcolor": "#E5ECF6",
          "polar": {
           "angularaxis": {
            "gridcolor": "white",
            "linecolor": "white",
            "ticks": ""
           },
           "bgcolor": "#E5ECF6",
           "radialaxis": {
            "gridcolor": "white",
            "linecolor": "white",
            "ticks": ""
           }
          },
          "scene": {
           "xaxis": {
            "backgroundcolor": "#E5ECF6",
            "gridcolor": "white",
            "gridwidth": 2,
            "linecolor": "white",
            "showbackground": true,
            "ticks": "",
            "zerolinecolor": "white"
           },
           "yaxis": {
            "backgroundcolor": "#E5ECF6",
            "gridcolor": "white",
            "gridwidth": 2,
            "linecolor": "white",
            "showbackground": true,
            "ticks": "",
            "zerolinecolor": "white"
           },
           "zaxis": {
            "backgroundcolor": "#E5ECF6",
            "gridcolor": "white",
            "gridwidth": 2,
            "linecolor": "white",
            "showbackground": true,
            "ticks": "",
            "zerolinecolor": "white"
           }
          },
          "shapedefaults": {
           "line": {
            "color": "#2a3f5f"
           }
          },
          "ternary": {
           "aaxis": {
            "gridcolor": "white",
            "linecolor": "white",
            "ticks": ""
           },
           "baxis": {
            "gridcolor": "white",
            "linecolor": "white",
            "ticks": ""
           },
           "bgcolor": "#E5ECF6",
           "caxis": {
            "gridcolor": "white",
            "linecolor": "white",
            "ticks": ""
           }
          },
          "title": {
           "x": 0.05
          },
          "xaxis": {
           "automargin": true,
           "gridcolor": "white",
           "linecolor": "white",
           "ticks": "",
           "title": {
            "standoff": 15
           },
           "zerolinecolor": "white",
           "zerolinewidth": 2
          },
          "yaxis": {
           "automargin": true,
           "gridcolor": "white",
           "linecolor": "white",
           "ticks": "",
           "title": {
            "standoff": 15
           },
           "zerolinecolor": "white",
           "zerolinewidth": 2
          }
         }
        },
        "title": {
         "text": "Day sample data"
        },
        "xaxis": {
         "title": {
          "text": "day"
         }
        },
        "yaxis": {
         "title": {
          "text": "Count"
         }
        }
       }
      }
     },
     "metadata": {},
     "output_type": "display_data"
    }
   ],
   "source": [
    "# Create a scatter plot for the samples\n",
    "trace4 = go.Scatter(\n",
    "    x=data_test_df[\"day\"],\n",
    "    y=data_test_df[\"Count\"],\n",
    "    mode=\"markers\",\n",
    "    name=\"Sample Data\",\n",
    ")\n",
    "\n",
    "# Combine the two plots\n",
    "data = [trace4]\n",
    "\n",
    "\n",
    "# Create a layout\n",
    "layout = go.Layout(\n",
    "    title=\"Day sample data\",\n",
    "    xaxis=dict(title=\"day\"),\n",
    "    yaxis=dict(title=\"Count\"),\n",
    ")\n",
    "\n",
    "# Create a Figure and plot it\n",
    "fig = go.Figure(data=data, layout=layout)\n",
    "fig.show()"
   ]
  },
  {
   "cell_type": "code",
   "execution_count": null,
   "metadata": {},
   "outputs": [
    {
     "data": {
      "application/vnd.plotly.v1+json": {
       "config": {
        "plotlyServerURL": "https://plot.ly"
       },
       "data": [
        {
         "mode": "lines",
         "name": "Count",
         "type": "scatter",
         "x": [
          "2023-06-06T20:36:00",
          "2023-06-06T21:06:00",
          "2023-06-06T21:37:00",
          "2023-06-06T22:07:00",
          "2023-06-06T22:37:00",
          "2023-06-06T23:07:00",
          "2023-06-06T23:38:00",
          "2023-06-07T00:08:00",
          "2023-06-07T00:38:00",
          "2023-06-07T01:08:00",
          "2023-06-07T01:39:00",
          "2023-06-07T02:09:00",
          "2023-06-07T02:39:00",
          "2023-06-07T03:10:00",
          "2023-06-07T03:40:00",
          "2023-06-07T04:10:00",
          "2023-06-07T04:41:00",
          "2023-06-07T05:11:00",
          "2023-06-07T05:41:00",
          "2023-06-07T06:11:00",
          "2023-06-07T06:42:00",
          "2023-06-07T07:12:00",
          "2023-06-07T07:42:00",
          "2023-06-07T08:13:00",
          "2023-06-07T08:43:00",
          "2023-06-07T09:13:00",
          "2023-06-07T09:44:00",
          "2023-06-07T10:14:00",
          "2023-06-07T10:44:00",
          "2023-06-07T11:14:00",
          "2023-06-07T11:45:00",
          "2023-06-07T12:15:00",
          "2023-06-07T12:45:00",
          "2023-06-07T13:16:00",
          "2023-06-07T13:46:00",
          "2023-06-07T14:16:00",
          "2023-06-07T14:47:00",
          "2023-06-07T15:17:00",
          "2023-06-07T15:47:00",
          "2023-06-07T16:17:00",
          "2023-06-07T16:48:00",
          "2023-06-07T17:18:00",
          "2023-06-07T17:48:00",
          "2023-06-07T18:18:00",
          "2023-06-07T18:49:00",
          "2023-06-07T19:19:00",
          "2023-06-07T19:49:00",
          "2023-06-07T20:20:00",
          "2023-06-07T20:50:00",
          "2023-06-07T21:20:00",
          "2023-06-07T21:51:00",
          "2023-06-07T22:21:00",
          "2023-06-07T22:51:00",
          "2023-06-07T23:22:00",
          "2023-06-07T23:52:00",
          "2023-06-08T00:22:00",
          "2023-06-08T00:52:00",
          "2023-06-08T01:23:00",
          "2023-06-08T01:53:00",
          "2023-06-08T02:23:00",
          "2023-06-08T02:53:00",
          "2023-06-08T03:24:00",
          "2023-06-08T03:54:00",
          "2023-06-08T04:24:00",
          "2023-06-08T04:54:00",
          "2023-06-08T05:25:00",
          "2023-06-08T05:55:00",
          "2023-06-08T06:25:00",
          "2023-06-08T06:55:00",
          "2023-06-08T07:26:00",
          "2023-06-08T07:56:00",
          "2023-06-08T08:26:00",
          "2023-06-08T08:57:00",
          "2023-06-08T09:27:00",
          "2023-06-08T09:57:00",
          "2023-06-08T10:27:00",
          "2023-06-08T10:57:00",
          "2023-06-08T11:28:00",
          "2023-06-08T11:58:00",
          "2023-06-08T12:28:00",
          "2023-06-08T12:58:00",
          "2023-06-08T13:29:00",
          "2023-06-08T13:59:00",
          "2023-06-08T14:29:00",
          "2023-06-08T14:59:00",
          "2023-06-08T15:30:00",
          "2023-06-08T16:00:00",
          "2023-06-08T16:30:00",
          "2023-06-08T17:01:00",
          "2023-06-08T17:31:00",
          "2023-06-08T18:01:00",
          "2023-06-08T18:31:00",
          "2023-06-08T19:02:00",
          "2023-06-08T19:32:00",
          "2023-06-08T20:02:00",
          "2023-06-08T20:33:00",
          "2023-06-08T21:03:00",
          "2023-06-08T21:33:00",
          "2023-06-08T22:03:00",
          "2023-06-08T22:33:00",
          "2023-06-09T12:44:00",
          "2023-06-09T13:15:00",
          "2023-06-09T13:45:00",
          "2023-06-09T14:15:00",
          "2023-06-09T14:46:00",
          "2023-06-09T15:16:00",
          "2023-06-09T15:46:00",
          "2023-06-09T16:17:00",
          "2023-06-09T16:47:00",
          "2023-06-09T21:03:00",
          "2023-06-09T21:34:00",
          "2023-06-09T22:04:00",
          "2023-06-09T22:34:00",
          "2023-06-09T23:04:00",
          "2023-06-09T23:35:00",
          "2023-06-10T00:05:00",
          "2023-06-10T00:35:00",
          "2023-06-10T01:05:00",
          "2023-06-10T01:36:00",
          "2023-06-10T02:06:00",
          "2023-06-10T02:36:00",
          "2023-06-10T03:07:00",
          "2023-06-10T03:37:00",
          "2023-06-10T04:07:00",
          "2023-06-10T04:37:00",
          "2023-06-10T05:08:00",
          "2023-06-10T05:38:00",
          "2023-06-10T06:08:00",
          "2023-06-10T06:38:00",
          "2023-06-10T07:09:00",
          "2023-06-10T07:39:00",
          "2023-06-10T08:09:00",
          "2023-06-10T08:40:00",
          "2023-06-10T09:10:00",
          "2023-06-10T09:40:00",
          "2023-06-10T10:10:00",
          "2023-06-10T10:40:00",
          "2023-06-10T11:11:00",
          "2023-06-10T11:41:00",
          "2023-06-10T12:11:00",
          "2023-06-10T12:41:00",
          "2023-06-10T13:12:00",
          "2023-06-10T13:42:00",
          "2023-06-10T14:12:00",
          "2023-06-10T14:42:00",
          "2023-06-10T15:13:00",
          "2023-06-10T15:43:00",
          "2023-06-10T16:13:00",
          "2023-06-10T16:43:00",
          "2023-06-10T17:14:00",
          "2023-06-10T17:44:00",
          "2023-06-10T18:14:00",
          "2023-06-10T18:44:00",
          "2023-06-10T19:15:00",
          "2023-06-10T19:45:00",
          "2023-06-10T20:15:00",
          "2023-06-10T20:45:00",
          "2023-06-10T21:15:00",
          "2023-06-10T21:46:00",
          "2023-06-10T22:16:00",
          "2023-06-10T22:46:00",
          "2023-06-10T23:16:00",
          "2023-06-10T23:46:00",
          "2023-06-11T00:17:00",
          "2023-06-11T00:47:00",
          "2023-06-11T01:17:00",
          "2023-06-11T01:48:00",
          "2023-06-11T02:18:00",
          "2023-06-11T02:48:00",
          "2023-06-11T03:19:00",
          "2023-06-11T03:49:00",
          "2023-06-11T04:19:00",
          "2023-06-11T04:49:00",
          "2023-06-11T05:20:00",
          "2023-06-11T05:50:00",
          "2023-06-11T06:20:00",
          "2023-06-11T06:50:00",
          "2023-06-11T07:21:00",
          "2023-06-11T07:51:00",
          "2023-06-11T08:21:00",
          "2023-06-11T08:51:00",
          "2023-06-11T09:22:00",
          "2023-06-11T09:52:00",
          "2023-06-11T10:22:00",
          "2023-06-11T10:52:00",
          "2023-06-11T11:23:00",
          "2023-06-11T11:53:00",
          "2023-06-11T12:23:00",
          "2023-06-11T12:53:00",
          "2023-06-11T13:24:00",
          "2023-06-11T13:54:00",
          "2023-06-11T14:24:00",
          "2023-06-11T14:54:00",
          "2023-06-11T15:25:00",
          "2023-06-11T15:55:00",
          "2023-06-11T16:25:00",
          "2023-06-11T16:56:00",
          "2023-06-11T17:26:00",
          "2023-06-11T17:56:00",
          "2023-06-11T18:26:00",
          "2023-06-11T18:56:00",
          "2023-06-11T19:27:00",
          "2023-06-11T19:57:00",
          "2023-06-11T20:27:00",
          "2023-06-11T20:57:00",
          "2023-06-11T21:27:00",
          "2023-06-11T21:58:00",
          "2023-06-11T22:28:00",
          "2023-06-11T22:58:00",
          "2023-06-12T12:52:00",
          "2023-06-12T13:23:00",
          "2023-06-12T13:53:00",
          "2023-06-12T14:23:00",
          "2023-06-12T14:54:00",
          "2023-06-12T15:24:00",
          "2023-06-12T15:54:00",
          "2023-06-12T17:01:00",
          "2023-06-12T17:31:00",
          "2023-06-12T18:02:00",
          "2023-06-12T18:32:00",
          "2023-06-12T19:02:00",
          "2023-06-12T19:33:00",
          "2023-06-12T20:03:00",
          "2023-06-12T20:33:00",
          "2023-06-12T21:03:00",
          "2023-06-12T21:34:00",
          "2023-06-12T22:04:00",
          "2023-06-13T00:05:00",
          "2023-06-13T01:06:00",
          "2023-06-13T01:36:00",
          "2023-06-13T02:06:00",
          "2023-06-13T03:07:00",
          "2023-06-13T03:37:00",
          "2023-06-13T04:07:00",
          "2023-06-13T04:38:00",
          "2023-06-13T05:08:00",
          "2023-06-13T05:38:00",
          "2023-06-13T06:08:00",
          "2023-06-13T06:39:00",
          "2023-06-13T07:09:00",
          "2023-06-13T07:39:00",
          "2023-06-13T08:10:00",
          "2023-06-13T08:40:00",
          "2023-06-13T09:10:00",
          "2023-06-13T09:40:00",
          "2023-06-13T10:11:00",
          "2023-06-13T10:41:00",
          "2023-06-13T11:11:00",
          "2023-06-13T11:42:00",
          "2023-06-13T12:12:00",
          "2023-06-13T12:42:00",
          "2023-06-13T13:12:00",
          "2023-06-13T13:43:00",
          "2023-06-13T14:13:00",
          "2023-06-13T14:43:00",
          "2023-06-13T15:14:00",
          "2023-06-13T15:44:00",
          "2023-06-13T16:14:00",
          "2023-06-13T17:15:00",
          "2023-06-13T17:45:00",
          "2023-06-13T18:16:00",
          "2023-06-13T18:47:00",
          "2023-06-13T19:17:00",
          "2023-06-13T19:47:00",
          "2023-06-13T20:17:00",
          "2023-06-13T20:48:00",
          "2023-06-13T21:18:00",
          "2023-06-13T21:48:00",
          "2023-06-13T22:19:00",
          "2023-06-13T23:19:00",
          "2023-06-13T23:49:00",
          "2023-06-14T00:20:00",
          "2023-06-14T00:50:00",
          "2023-06-14T01:20:00",
          "2023-06-14T01:50:00",
          "2023-06-14T02:21:00",
          "2023-06-14T02:51:00",
          "2023-06-14T03:21:00",
          "2023-06-14T03:52:00",
          "2023-06-14T04:22:00",
          "2023-06-14T04:52:00",
          "2023-06-14T05:22:00",
          "2023-06-14T05:53:00",
          "2023-06-14T06:23:00",
          "2023-06-14T06:53:00",
          "2023-06-14T07:24:00",
          "2023-06-14T07:54:00",
          "2023-06-14T08:24:00",
          "2023-06-14T08:54:00",
          "2023-06-14T09:25:00",
          "2023-06-14T09:55:00",
          "2023-06-14T10:25:00",
          "2023-06-14T10:56:00",
          "2023-06-14T11:26:00",
          "2023-06-14T11:56:00",
          "2023-06-14T12:26:00",
          "2023-06-14T12:57:00",
          "2023-06-14T13:27:00",
          "2023-06-14T13:57:00",
          "2023-06-17T14:58:00",
          "2023-06-17T15:29:00",
          "2023-06-17T15:59:00",
          "2023-06-17T16:29:00",
          "2023-06-17T16:59:00",
          "2023-06-17T17:30:00",
          "2023-06-17T18:00:00",
          "2023-06-17T18:30:00",
          "2023-06-17T19:01:00",
          "2023-06-17T19:31:00",
          "2023-06-17T20:01:00",
          "2023-06-17T20:31:00",
          "2023-06-17T21:02:00",
          "2023-06-17T21:32:00",
          "2023-06-17T22:02:00",
          "2023-06-17T22:32:00",
          "2023-06-17T23:03:00",
          "2023-06-17T23:33:00",
          "2023-06-18T00:03:00",
          "2023-06-18T00:34:00",
          "2023-06-18T01:04:00",
          "2023-06-18T01:34:00",
          "2023-06-18T02:05:00",
          "2023-06-18T02:35:00",
          "2023-06-18T03:05:00",
          "2023-06-18T03:36:00",
          "2023-06-18T04:06:00",
          "2023-06-18T04:36:00",
          "2023-06-18T05:06:00",
          "2023-06-18T05:37:00",
          "2023-06-18T06:07:00",
          "2023-06-18T06:37:00",
          "2023-06-18T07:07:00",
          "2023-06-18T07:38:00",
          "2023-06-18T08:08:00",
          "2023-06-18T08:38:00",
          "2023-06-18T09:09:00",
          "2023-06-18T09:39:00",
          "2023-06-18T10:09:00",
          "2023-06-18T10:40:00",
          "2023-06-18T11:10:00",
          "2023-06-18T11:40:00",
          "2023-06-18T12:10:00",
          "2023-06-18T12:41:00",
          "2023-06-19T14:33:00",
          "2023-06-19T14:34:00",
          "2023-06-19T14:53:00",
          "2023-06-19T15:42:00",
          "2023-06-19T16:12:00",
          "2023-06-19T16:22:00",
          "2023-06-19T16:31:00",
          "2023-06-19T16:55:00",
          "2023-06-19T17:10:00",
          "2023-06-19T17:12:00",
          "2023-06-19T17:52:00",
          "2023-06-19T18:07:00",
          "2023-06-19T18:34:00",
          "2023-06-19T19:17:00",
          "2023-06-19T20:17:00",
          "2023-06-19T20:18:00",
          "2023-06-19T20:26:00",
          "2023-06-19T20:34:00",
          "2023-06-19T21:12:00",
          "2023-06-19T21:41:00",
          "2023-06-19T22:06:00",
          "2023-06-19T22:41:00",
          "2023-06-19T23:26:00",
          "2023-06-19T23:44:00",
          "2023-06-20T00:12:00",
          "2023-06-20T00:51:00",
          "2023-06-20T01:21:00",
          "2023-06-20T02:13:00",
          "2023-06-20T02:41:00",
          "2023-06-20T02:47:00",
          "2023-06-20T02:50:00",
          "2023-06-20T03:05:00",
          "2023-06-20T04:02:00",
          "2023-06-20T05:01:00",
          "2023-06-20T05:54:00",
          "2023-06-20T06:24:00",
          "2023-06-20T06:52:00",
          "2023-06-20T07:22:00",
          "2023-06-20T08:17:00",
          "2023-06-20T08:38:00",
          "2023-06-20T09:04:00",
          "2023-06-20T09:13:00",
          "2023-06-20T09:17:00",
          "2023-06-20T09:22:00",
          "2023-06-20T09:24:00",
          "2023-06-20T09:37:00",
          "2023-06-20T09:51:00",
          "2023-06-20T10:00:00",
          "2023-06-20T10:21:00",
          "2023-06-20T11:07:00",
          "2023-06-20T11:18:00",
          "2023-06-20T11:34:00",
          "2023-06-20T11:47:00",
          "2023-06-20T12:39:00",
          "2023-06-20T13:12:00",
          "2023-06-20T14:04:00",
          "2023-06-20T14:15:00",
          "2023-06-20T14:41:00",
          "2023-06-20T14:57:00",
          "2023-06-20T15:55:00",
          "2023-06-20T16:44:00",
          "2023-06-20T17:38:00",
          "2023-06-20T17:45:00",
          "2023-06-20T18:28:00",
          "2023-06-20T18:55:00",
          "2023-06-20T19:21:00",
          "2023-06-20T20:21:00",
          "2023-06-20T20:38:00",
          "2023-06-24T14:19:00",
          "2023-06-24T14:59:00",
          "2023-06-24T15:06:00",
          "2023-06-24T15:14:00",
          "2023-06-24T16:09:00",
          "2023-06-24T16:53:00",
          "2023-06-24T17:16:00",
          "2023-06-24T17:32:00",
          "2023-06-24T17:54:00",
          "2023-06-24T18:38:00",
          "2023-06-24T19:37:00",
          "2023-06-24T20:11:00",
          "2023-06-24T20:32:00",
          "2023-06-24T21:28:00",
          "2023-06-24T22:16:00",
          "2023-06-24T22:38:00",
          "2023-06-24T22:57:00",
          "2023-06-24T23:46:00",
          "2023-06-25T00:44:00",
          "2023-06-25T00:51:00",
          "2023-06-25T01:09:00",
          "2023-06-25T01:38:00",
          "2023-06-25T01:56:00",
          "2023-06-25T02:42:00",
          "2023-06-25T03:16:00",
          "2023-06-25T03:30:00",
          "2023-06-25T04:29:00",
          "2023-06-25T05:23:00",
          "2023-06-25T06:22:00",
          "2023-06-25T06:26:00",
          "2023-06-25T07:17:00",
          "2023-06-25T07:33:00",
          "2023-06-25T08:28:00",
          "2023-06-25T08:57:00",
          "2023-06-25T09:49:00",
          "2023-06-25T10:45:00",
          "2023-06-25T11:32:00",
          "2023-06-25T11:58:00",
          "2023-06-25T12:20:00",
          "2023-06-25T12:29:00",
          "2023-06-25T13:01:00",
          "2023-06-25T13:15:00",
          "2023-06-25T13:19:00",
          "2023-06-25T14:10:00",
          "2023-06-25T14:17:00",
          "2023-06-25T14:57:00",
          "2023-06-25T15:57:00",
          "2023-06-25T16:55:00",
          "2023-06-25T17:51:00",
          "2023-06-25T18:36:00",
          "2023-06-25T18:55:00",
          "2023-06-25T19:04:00",
          "2023-06-25T19:43:00",
          "2023-06-25T19:48:00",
          "2023-06-25T20:05:00",
          "2023-06-25T20:14:00",
          "2023-06-25T20:40:00",
          "2023-06-25T21:36:00",
          "2023-06-25T21:37:00",
          "2023-06-25T22:30:00",
          "2023-06-25T22:34:00",
          "2023-06-25T23:11:00",
          "2023-06-25T23:18:00",
          "2023-06-25T23:32:00",
          "2023-06-26T00:27:00",
          "2023-06-26T00:40:00",
          "2023-06-26T00:50:00",
          "2023-06-26T01:16:00",
          "2023-06-26T01:48:00",
          "2023-06-26T02:05:00",
          "2023-06-26T02:28:00",
          "2023-06-26T02:53:00",
          "2023-06-26T03:49:00",
          "2023-06-26T03:55:00",
          "2023-06-26T04:44:00",
          "2023-06-26T04:52:00",
          "2023-06-26T05:30:00",
          "2023-06-26T05:57:00",
          "2023-06-26T06:56:00",
          "2023-06-26T07:40:00",
          "2023-06-26T07:47:00",
          "2023-06-26T07:52:00",
          "2023-06-26T08:17:00",
          "2023-06-26T09:13:00",
          "2023-06-26T10:07:00",
          "2023-06-26T10:17:00"
         ],
         "y": [
          31,
          28,
          22,
          27,
          26,
          19,
          21,
          22,
          24,
          16,
          20,
          21,
          20,
          22,
          20,
          21,
          22,
          24,
          24,
          24,
          21,
          24,
          18,
          33,
          34,
          44,
          46,
          46,
          42,
          43,
          44,
          39,
          43,
          42,
          39,
          35,
          39,
          40,
          38,
          38,
          39,
          36,
          37,
          40,
          34,
          43,
          39,
          39,
          37,
          35,
          27,
          21,
          27,
          26,
          24,
          25,
          27,
          30,
          30,
          31,
          28,
          26,
          31,
          31,
          36,
          34,
          35,
          33,
          32,
          33,
          30,
          29,
          37,
          41,
          44,
          43,
          42,
          39,
          40,
          49,
          35,
          40,
          42,
          45,
          40,
          35,
          41,
          38,
          33,
          42,
          42,
          39,
          37,
          36,
          24,
          24,
          21,
          20,
          13,
          13,
          1,
          0,
          0,
          2,
          7,
          5,
          3,
          4,
          5,
          7,
          3,
          2,
          5,
          8,
          9,
          12,
          14,
          13,
          11,
          12,
          9,
          7,
          4,
          4,
          4,
          4,
          4,
          5,
          4,
          4,
          5,
          8,
          12,
          10,
          9,
          21,
          23,
          23,
          22,
          20,
          29,
          33,
          24,
          26,
          32,
          27,
          20,
          29,
          25,
          26,
          34,
          34,
          33,
          49,
          45,
          37,
          37,
          30,
          37,
          32,
          39,
          42,
          42,
          37,
          37,
          35,
          33,
          32,
          32,
          23,
          22,
          23,
          23,
          25,
          24,
          20,
          24,
          24,
          23,
          22,
          20,
          21,
          19,
          17,
          20,
          20,
          23,
          19,
          23,
          35,
          29,
          25,
          24,
          25,
          28,
          40,
          32,
          27,
          27,
          40,
          33,
          32,
          37,
          35,
          33,
          28,
          30,
          24,
          19,
          38,
          43,
          41,
          42,
          43,
          42,
          41,
          47,
          45,
          42,
          41,
          46,
          46,
          46,
          48,
          33,
          37,
          35,
          33,
          33,
          29,
          29,
          30,
          29,
          30,
          30,
          32,
          32,
          31,
          29,
          20,
          23,
          28,
          27,
          36,
          35,
          46,
          42,
          35,
          42,
          38,
          35,
          39,
          39,
          29,
          52,
          39,
          53,
          42,
          44,
          43,
          51,
          40,
          46,
          44,
          46,
          40,
          41,
          47,
          39,
          32,
          35,
          40,
          42,
          37,
          42,
          46,
          45,
          40,
          45,
          35,
          43,
          42,
          40,
          29,
          34,
          42,
          48,
          47,
          51,
          43,
          44,
          44,
          46,
          45,
          46,
          47,
          47,
          42,
          54,
          54,
          50,
          41,
          44,
          51,
          48,
          40,
          50,
          35,
          40,
          42,
          43,
          44,
          45,
          43,
          44,
          45,
          44,
          45,
          49,
          49,
          29,
          25,
          24,
          39,
          29,
          25,
          24,
          23,
          25,
          24,
          25,
          25,
          23,
          25,
          29,
          26,
          40,
          20,
          29,
          40,
          42,
          40,
          46,
          24,
          45,
          54,
          36,
          44,
          45,
          50,
          53,
          47,
          34,
          37,
          40,
          38,
          39,
          40,
          37,
          42,
          43,
          43,
          45,
          45,
          52,
          43,
          41,
          40,
          36,
          43,
          39,
          42,
          40,
          42,
          42,
          41,
          41,
          40,
          38,
          40,
          31,
          36,
          38,
          43,
          41,
          41,
          43,
          42,
          35,
          36,
          39,
          38,
          42,
          36,
          38,
          40,
          41,
          38,
          48,
          48,
          52,
          36,
          33,
          43,
          43,
          42,
          36,
          53,
          45,
          54,
          51,
          23,
          32,
          32,
          32,
          26,
          32,
          32,
          29,
          26,
          29,
          35,
          37,
          34,
          33,
          41,
          34,
          52,
          46,
          50,
          50,
          50,
          47,
          48,
          58,
          42,
          34,
          36,
          33,
          32,
          34,
          29,
          30,
          33,
          31,
          29,
          28,
          37,
          31,
          26,
          30,
          29,
          28,
          26,
          25,
          30,
          29,
          36,
          35,
          37,
          41,
          45,
          45,
          37,
          41,
          45,
          39,
          37,
          37,
          41,
          32,
          31,
          26,
          27,
          22,
          27,
          32,
          31,
          26,
          28,
          30,
          27,
          28,
          27,
          26,
          29,
          26,
          26,
          26,
          25,
          26,
          25,
          32,
          37,
          38,
          31,
          39
         ]
        }
       ],
       "layout": {
        "template": {
         "data": {
          "bar": [
           {
            "error_x": {
             "color": "#2a3f5f"
            },
            "error_y": {
             "color": "#2a3f5f"
            },
            "marker": {
             "line": {
              "color": "#E5ECF6",
              "width": 0.5
             },
             "pattern": {
              "fillmode": "overlay",
              "size": 10,
              "solidity": 0.2
             }
            },
            "type": "bar"
           }
          ],
          "barpolar": [
           {
            "marker": {
             "line": {
              "color": "#E5ECF6",
              "width": 0.5
             },
             "pattern": {
              "fillmode": "overlay",
              "size": 10,
              "solidity": 0.2
             }
            },
            "type": "barpolar"
           }
          ],
          "carpet": [
           {
            "aaxis": {
             "endlinecolor": "#2a3f5f",
             "gridcolor": "white",
             "linecolor": "white",
             "minorgridcolor": "white",
             "startlinecolor": "#2a3f5f"
            },
            "baxis": {
             "endlinecolor": "#2a3f5f",
             "gridcolor": "white",
             "linecolor": "white",
             "minorgridcolor": "white",
             "startlinecolor": "#2a3f5f"
            },
            "type": "carpet"
           }
          ],
          "choropleth": [
           {
            "colorbar": {
             "outlinewidth": 0,
             "ticks": ""
            },
            "type": "choropleth"
           }
          ],
          "contour": [
           {
            "colorbar": {
             "outlinewidth": 0,
             "ticks": ""
            },
            "colorscale": [
             [
              0,
              "#0d0887"
             ],
             [
              0.1111111111111111,
              "#46039f"
             ],
             [
              0.2222222222222222,
              "#7201a8"
             ],
             [
              0.3333333333333333,
              "#9c179e"
             ],
             [
              0.4444444444444444,
              "#bd3786"
             ],
             [
              0.5555555555555556,
              "#d8576b"
             ],
             [
              0.6666666666666666,
              "#ed7953"
             ],
             [
              0.7777777777777778,
              "#fb9f3a"
             ],
             [
              0.8888888888888888,
              "#fdca26"
             ],
             [
              1,
              "#f0f921"
             ]
            ],
            "type": "contour"
           }
          ],
          "contourcarpet": [
           {
            "colorbar": {
             "outlinewidth": 0,
             "ticks": ""
            },
            "type": "contourcarpet"
           }
          ],
          "heatmap": [
           {
            "colorbar": {
             "outlinewidth": 0,
             "ticks": ""
            },
            "colorscale": [
             [
              0,
              "#0d0887"
             ],
             [
              0.1111111111111111,
              "#46039f"
             ],
             [
              0.2222222222222222,
              "#7201a8"
             ],
             [
              0.3333333333333333,
              "#9c179e"
             ],
             [
              0.4444444444444444,
              "#bd3786"
             ],
             [
              0.5555555555555556,
              "#d8576b"
             ],
             [
              0.6666666666666666,
              "#ed7953"
             ],
             [
              0.7777777777777778,
              "#fb9f3a"
             ],
             [
              0.8888888888888888,
              "#fdca26"
             ],
             [
              1,
              "#f0f921"
             ]
            ],
            "type": "heatmap"
           }
          ],
          "heatmapgl": [
           {
            "colorbar": {
             "outlinewidth": 0,
             "ticks": ""
            },
            "colorscale": [
             [
              0,
              "#0d0887"
             ],
             [
              0.1111111111111111,
              "#46039f"
             ],
             [
              0.2222222222222222,
              "#7201a8"
             ],
             [
              0.3333333333333333,
              "#9c179e"
             ],
             [
              0.4444444444444444,
              "#bd3786"
             ],
             [
              0.5555555555555556,
              "#d8576b"
             ],
             [
              0.6666666666666666,
              "#ed7953"
             ],
             [
              0.7777777777777778,
              "#fb9f3a"
             ],
             [
              0.8888888888888888,
              "#fdca26"
             ],
             [
              1,
              "#f0f921"
             ]
            ],
            "type": "heatmapgl"
           }
          ],
          "histogram": [
           {
            "marker": {
             "pattern": {
              "fillmode": "overlay",
              "size": 10,
              "solidity": 0.2
             }
            },
            "type": "histogram"
           }
          ],
          "histogram2d": [
           {
            "colorbar": {
             "outlinewidth": 0,
             "ticks": ""
            },
            "colorscale": [
             [
              0,
              "#0d0887"
             ],
             [
              0.1111111111111111,
              "#46039f"
             ],
             [
              0.2222222222222222,
              "#7201a8"
             ],
             [
              0.3333333333333333,
              "#9c179e"
             ],
             [
              0.4444444444444444,
              "#bd3786"
             ],
             [
              0.5555555555555556,
              "#d8576b"
             ],
             [
              0.6666666666666666,
              "#ed7953"
             ],
             [
              0.7777777777777778,
              "#fb9f3a"
             ],
             [
              0.8888888888888888,
              "#fdca26"
             ],
             [
              1,
              "#f0f921"
             ]
            ],
            "type": "histogram2d"
           }
          ],
          "histogram2dcontour": [
           {
            "colorbar": {
             "outlinewidth": 0,
             "ticks": ""
            },
            "colorscale": [
             [
              0,
              "#0d0887"
             ],
             [
              0.1111111111111111,
              "#46039f"
             ],
             [
              0.2222222222222222,
              "#7201a8"
             ],
             [
              0.3333333333333333,
              "#9c179e"
             ],
             [
              0.4444444444444444,
              "#bd3786"
             ],
             [
              0.5555555555555556,
              "#d8576b"
             ],
             [
              0.6666666666666666,
              "#ed7953"
             ],
             [
              0.7777777777777778,
              "#fb9f3a"
             ],
             [
              0.8888888888888888,
              "#fdca26"
             ],
             [
              1,
              "#f0f921"
             ]
            ],
            "type": "histogram2dcontour"
           }
          ],
          "mesh3d": [
           {
            "colorbar": {
             "outlinewidth": 0,
             "ticks": ""
            },
            "type": "mesh3d"
           }
          ],
          "parcoords": [
           {
            "line": {
             "colorbar": {
              "outlinewidth": 0,
              "ticks": ""
             }
            },
            "type": "parcoords"
           }
          ],
          "pie": [
           {
            "automargin": true,
            "type": "pie"
           }
          ],
          "scatter": [
           {
            "fillpattern": {
             "fillmode": "overlay",
             "size": 10,
             "solidity": 0.2
            },
            "type": "scatter"
           }
          ],
          "scatter3d": [
           {
            "line": {
             "colorbar": {
              "outlinewidth": 0,
              "ticks": ""
             }
            },
            "marker": {
             "colorbar": {
              "outlinewidth": 0,
              "ticks": ""
             }
            },
            "type": "scatter3d"
           }
          ],
          "scattercarpet": [
           {
            "marker": {
             "colorbar": {
              "outlinewidth": 0,
              "ticks": ""
             }
            },
            "type": "scattercarpet"
           }
          ],
          "scattergeo": [
           {
            "marker": {
             "colorbar": {
              "outlinewidth": 0,
              "ticks": ""
             }
            },
            "type": "scattergeo"
           }
          ],
          "scattergl": [
           {
            "marker": {
             "colorbar": {
              "outlinewidth": 0,
              "ticks": ""
             }
            },
            "type": "scattergl"
           }
          ],
          "scattermapbox": [
           {
            "marker": {
             "colorbar": {
              "outlinewidth": 0,
              "ticks": ""
             }
            },
            "type": "scattermapbox"
           }
          ],
          "scatterpolar": [
           {
            "marker": {
             "colorbar": {
              "outlinewidth": 0,
              "ticks": ""
             }
            },
            "type": "scatterpolar"
           }
          ],
          "scatterpolargl": [
           {
            "marker": {
             "colorbar": {
              "outlinewidth": 0,
              "ticks": ""
             }
            },
            "type": "scatterpolargl"
           }
          ],
          "scatterternary": [
           {
            "marker": {
             "colorbar": {
              "outlinewidth": 0,
              "ticks": ""
             }
            },
            "type": "scatterternary"
           }
          ],
          "surface": [
           {
            "colorbar": {
             "outlinewidth": 0,
             "ticks": ""
            },
            "colorscale": [
             [
              0,
              "#0d0887"
             ],
             [
              0.1111111111111111,
              "#46039f"
             ],
             [
              0.2222222222222222,
              "#7201a8"
             ],
             [
              0.3333333333333333,
              "#9c179e"
             ],
             [
              0.4444444444444444,
              "#bd3786"
             ],
             [
              0.5555555555555556,
              "#d8576b"
             ],
             [
              0.6666666666666666,
              "#ed7953"
             ],
             [
              0.7777777777777778,
              "#fb9f3a"
             ],
             [
              0.8888888888888888,
              "#fdca26"
             ],
             [
              1,
              "#f0f921"
             ]
            ],
            "type": "surface"
           }
          ],
          "table": [
           {
            "cells": {
             "fill": {
              "color": "#EBF0F8"
             },
             "line": {
              "color": "white"
             }
            },
            "header": {
             "fill": {
              "color": "#C8D4E3"
             },
             "line": {
              "color": "white"
             }
            },
            "type": "table"
           }
          ]
         },
         "layout": {
          "annotationdefaults": {
           "arrowcolor": "#2a3f5f",
           "arrowhead": 0,
           "arrowwidth": 1
          },
          "autotypenumbers": "strict",
          "coloraxis": {
           "colorbar": {
            "outlinewidth": 0,
            "ticks": ""
           }
          },
          "colorscale": {
           "diverging": [
            [
             0,
             "#8e0152"
            ],
            [
             0.1,
             "#c51b7d"
            ],
            [
             0.2,
             "#de77ae"
            ],
            [
             0.3,
             "#f1b6da"
            ],
            [
             0.4,
             "#fde0ef"
            ],
            [
             0.5,
             "#f7f7f7"
            ],
            [
             0.6,
             "#e6f5d0"
            ],
            [
             0.7,
             "#b8e186"
            ],
            [
             0.8,
             "#7fbc41"
            ],
            [
             0.9,
             "#4d9221"
            ],
            [
             1,
             "#276419"
            ]
           ],
           "sequential": [
            [
             0,
             "#0d0887"
            ],
            [
             0.1111111111111111,
             "#46039f"
            ],
            [
             0.2222222222222222,
             "#7201a8"
            ],
            [
             0.3333333333333333,
             "#9c179e"
            ],
            [
             0.4444444444444444,
             "#bd3786"
            ],
            [
             0.5555555555555556,
             "#d8576b"
            ],
            [
             0.6666666666666666,
             "#ed7953"
            ],
            [
             0.7777777777777778,
             "#fb9f3a"
            ],
            [
             0.8888888888888888,
             "#fdca26"
            ],
            [
             1,
             "#f0f921"
            ]
           ],
           "sequentialminus": [
            [
             0,
             "#0d0887"
            ],
            [
             0.1111111111111111,
             "#46039f"
            ],
            [
             0.2222222222222222,
             "#7201a8"
            ],
            [
             0.3333333333333333,
             "#9c179e"
            ],
            [
             0.4444444444444444,
             "#bd3786"
            ],
            [
             0.5555555555555556,
             "#d8576b"
            ],
            [
             0.6666666666666666,
             "#ed7953"
            ],
            [
             0.7777777777777778,
             "#fb9f3a"
            ],
            [
             0.8888888888888888,
             "#fdca26"
            ],
            [
             1,
             "#f0f921"
            ]
           ]
          },
          "colorway": [
           "#636efa",
           "#EF553B",
           "#00cc96",
           "#ab63fa",
           "#FFA15A",
           "#19d3f3",
           "#FF6692",
           "#B6E880",
           "#FF97FF",
           "#FECB52"
          ],
          "font": {
           "color": "#2a3f5f"
          },
          "geo": {
           "bgcolor": "white",
           "lakecolor": "white",
           "landcolor": "#E5ECF6",
           "showlakes": true,
           "showland": true,
           "subunitcolor": "white"
          },
          "hoverlabel": {
           "align": "left"
          },
          "hovermode": "closest",
          "mapbox": {
           "style": "light"
          },
          "paper_bgcolor": "white",
          "plot_bgcolor": "#E5ECF6",
          "polar": {
           "angularaxis": {
            "gridcolor": "white",
            "linecolor": "white",
            "ticks": ""
           },
           "bgcolor": "#E5ECF6",
           "radialaxis": {
            "gridcolor": "white",
            "linecolor": "white",
            "ticks": ""
           }
          },
          "scene": {
           "xaxis": {
            "backgroundcolor": "#E5ECF6",
            "gridcolor": "white",
            "gridwidth": 2,
            "linecolor": "white",
            "showbackground": true,
            "ticks": "",
            "zerolinecolor": "white"
           },
           "yaxis": {
            "backgroundcolor": "#E5ECF6",
            "gridcolor": "white",
            "gridwidth": 2,
            "linecolor": "white",
            "showbackground": true,
            "ticks": "",
            "zerolinecolor": "white"
           },
           "zaxis": {
            "backgroundcolor": "#E5ECF6",
            "gridcolor": "white",
            "gridwidth": 2,
            "linecolor": "white",
            "showbackground": true,
            "ticks": "",
            "zerolinecolor": "white"
           }
          },
          "shapedefaults": {
           "line": {
            "color": "#2a3f5f"
           }
          },
          "ternary": {
           "aaxis": {
            "gridcolor": "white",
            "linecolor": "white",
            "ticks": ""
           },
           "baxis": {
            "gridcolor": "white",
            "linecolor": "white",
            "ticks": ""
           },
           "bgcolor": "#E5ECF6",
           "caxis": {
            "gridcolor": "white",
            "linecolor": "white",
            "ticks": ""
           }
          },
          "title": {
           "x": 0.05
          },
          "xaxis": {
           "automargin": true,
           "gridcolor": "white",
           "linecolor": "white",
           "ticks": "",
           "title": {
            "standoff": 15
           },
           "zerolinecolor": "white",
           "zerolinewidth": 2
          },
          "yaxis": {
           "automargin": true,
           "gridcolor": "white",
           "linecolor": "white",
           "ticks": "",
           "title": {
            "standoff": 15
           },
           "zerolinecolor": "white",
           "zerolinewidth": 2
          }
         }
        },
        "title": {
         "text": "Time Series Plot"
        },
        "xaxis": {
         "title": {
          "text": "Time"
         }
        },
        "yaxis": {
         "title": {
          "text": "Count"
         }
        }
       }
      }
     },
     "metadata": {},
     "output_type": "display_data"
    }
   ],
   "source": [
    "fig = go.Figure()\n",
    "fig.add_trace(\n",
    "    go.Scatter(\n",
    "        x=data_df[\"timestamp_true\"], y=data_df[\"Count\"], mode=\"lines\", name=\"Count\"\n",
    "    )\n",
    ")\n",
    "fig.update_layout(title=\"Time Series Plot\", xaxis_title=\"Time\", yaxis_title=\"Count\")\n",
    "fig.show()"
   ]
  },
  {
   "cell_type": "code",
   "execution_count": null,
   "metadata": {},
   "outputs": [
    {
     "data": {
      "application/vnd.plotly.v1+json": {
       "config": {
        "plotlyServerURL": "https://plot.ly"
       },
       "data": [
        {
         "mode": "lines",
         "name": "Count",
         "type": "scatter",
         "x": [
          "Friday",
          "Monday",
          "Saturday",
          "Sunday",
          "Thursday",
          "Tuesday",
          "Wednesday"
         ],
         "y": [
          4.066666666666666,
          37.734375,
          28.976190476190474,
          31.38135593220339,
          33.68888888888889,
          37.8421052631579,
          36.026315789473685
         ]
        }
       ],
       "layout": {
        "template": {
         "data": {
          "bar": [
           {
            "error_x": {
             "color": "#2a3f5f"
            },
            "error_y": {
             "color": "#2a3f5f"
            },
            "marker": {
             "line": {
              "color": "#E5ECF6",
              "width": 0.5
             },
             "pattern": {
              "fillmode": "overlay",
              "size": 10,
              "solidity": 0.2
             }
            },
            "type": "bar"
           }
          ],
          "barpolar": [
           {
            "marker": {
             "line": {
              "color": "#E5ECF6",
              "width": 0.5
             },
             "pattern": {
              "fillmode": "overlay",
              "size": 10,
              "solidity": 0.2
             }
            },
            "type": "barpolar"
           }
          ],
          "carpet": [
           {
            "aaxis": {
             "endlinecolor": "#2a3f5f",
             "gridcolor": "white",
             "linecolor": "white",
             "minorgridcolor": "white",
             "startlinecolor": "#2a3f5f"
            },
            "baxis": {
             "endlinecolor": "#2a3f5f",
             "gridcolor": "white",
             "linecolor": "white",
             "minorgridcolor": "white",
             "startlinecolor": "#2a3f5f"
            },
            "type": "carpet"
           }
          ],
          "choropleth": [
           {
            "colorbar": {
             "outlinewidth": 0,
             "ticks": ""
            },
            "type": "choropleth"
           }
          ],
          "contour": [
           {
            "colorbar": {
             "outlinewidth": 0,
             "ticks": ""
            },
            "colorscale": [
             [
              0,
              "#0d0887"
             ],
             [
              0.1111111111111111,
              "#46039f"
             ],
             [
              0.2222222222222222,
              "#7201a8"
             ],
             [
              0.3333333333333333,
              "#9c179e"
             ],
             [
              0.4444444444444444,
              "#bd3786"
             ],
             [
              0.5555555555555556,
              "#d8576b"
             ],
             [
              0.6666666666666666,
              "#ed7953"
             ],
             [
              0.7777777777777778,
              "#fb9f3a"
             ],
             [
              0.8888888888888888,
              "#fdca26"
             ],
             [
              1,
              "#f0f921"
             ]
            ],
            "type": "contour"
           }
          ],
          "contourcarpet": [
           {
            "colorbar": {
             "outlinewidth": 0,
             "ticks": ""
            },
            "type": "contourcarpet"
           }
          ],
          "heatmap": [
           {
            "colorbar": {
             "outlinewidth": 0,
             "ticks": ""
            },
            "colorscale": [
             [
              0,
              "#0d0887"
             ],
             [
              0.1111111111111111,
              "#46039f"
             ],
             [
              0.2222222222222222,
              "#7201a8"
             ],
             [
              0.3333333333333333,
              "#9c179e"
             ],
             [
              0.4444444444444444,
              "#bd3786"
             ],
             [
              0.5555555555555556,
              "#d8576b"
             ],
             [
              0.6666666666666666,
              "#ed7953"
             ],
             [
              0.7777777777777778,
              "#fb9f3a"
             ],
             [
              0.8888888888888888,
              "#fdca26"
             ],
             [
              1,
              "#f0f921"
             ]
            ],
            "type": "heatmap"
           }
          ],
          "heatmapgl": [
           {
            "colorbar": {
             "outlinewidth": 0,
             "ticks": ""
            },
            "colorscale": [
             [
              0,
              "#0d0887"
             ],
             [
              0.1111111111111111,
              "#46039f"
             ],
             [
              0.2222222222222222,
              "#7201a8"
             ],
             [
              0.3333333333333333,
              "#9c179e"
             ],
             [
              0.4444444444444444,
              "#bd3786"
             ],
             [
              0.5555555555555556,
              "#d8576b"
             ],
             [
              0.6666666666666666,
              "#ed7953"
             ],
             [
              0.7777777777777778,
              "#fb9f3a"
             ],
             [
              0.8888888888888888,
              "#fdca26"
             ],
             [
              1,
              "#f0f921"
             ]
            ],
            "type": "heatmapgl"
           }
          ],
          "histogram": [
           {
            "marker": {
             "pattern": {
              "fillmode": "overlay",
              "size": 10,
              "solidity": 0.2
             }
            },
            "type": "histogram"
           }
          ],
          "histogram2d": [
           {
            "colorbar": {
             "outlinewidth": 0,
             "ticks": ""
            },
            "colorscale": [
             [
              0,
              "#0d0887"
             ],
             [
              0.1111111111111111,
              "#46039f"
             ],
             [
              0.2222222222222222,
              "#7201a8"
             ],
             [
              0.3333333333333333,
              "#9c179e"
             ],
             [
              0.4444444444444444,
              "#bd3786"
             ],
             [
              0.5555555555555556,
              "#d8576b"
             ],
             [
              0.6666666666666666,
              "#ed7953"
             ],
             [
              0.7777777777777778,
              "#fb9f3a"
             ],
             [
              0.8888888888888888,
              "#fdca26"
             ],
             [
              1,
              "#f0f921"
             ]
            ],
            "type": "histogram2d"
           }
          ],
          "histogram2dcontour": [
           {
            "colorbar": {
             "outlinewidth": 0,
             "ticks": ""
            },
            "colorscale": [
             [
              0,
              "#0d0887"
             ],
             [
              0.1111111111111111,
              "#46039f"
             ],
             [
              0.2222222222222222,
              "#7201a8"
             ],
             [
              0.3333333333333333,
              "#9c179e"
             ],
             [
              0.4444444444444444,
              "#bd3786"
             ],
             [
              0.5555555555555556,
              "#d8576b"
             ],
             [
              0.6666666666666666,
              "#ed7953"
             ],
             [
              0.7777777777777778,
              "#fb9f3a"
             ],
             [
              0.8888888888888888,
              "#fdca26"
             ],
             [
              1,
              "#f0f921"
             ]
            ],
            "type": "histogram2dcontour"
           }
          ],
          "mesh3d": [
           {
            "colorbar": {
             "outlinewidth": 0,
             "ticks": ""
            },
            "type": "mesh3d"
           }
          ],
          "parcoords": [
           {
            "line": {
             "colorbar": {
              "outlinewidth": 0,
              "ticks": ""
             }
            },
            "type": "parcoords"
           }
          ],
          "pie": [
           {
            "automargin": true,
            "type": "pie"
           }
          ],
          "scatter": [
           {
            "fillpattern": {
             "fillmode": "overlay",
             "size": 10,
             "solidity": 0.2
            },
            "type": "scatter"
           }
          ],
          "scatter3d": [
           {
            "line": {
             "colorbar": {
              "outlinewidth": 0,
              "ticks": ""
             }
            },
            "marker": {
             "colorbar": {
              "outlinewidth": 0,
              "ticks": ""
             }
            },
            "type": "scatter3d"
           }
          ],
          "scattercarpet": [
           {
            "marker": {
             "colorbar": {
              "outlinewidth": 0,
              "ticks": ""
             }
            },
            "type": "scattercarpet"
           }
          ],
          "scattergeo": [
           {
            "marker": {
             "colorbar": {
              "outlinewidth": 0,
              "ticks": ""
             }
            },
            "type": "scattergeo"
           }
          ],
          "scattergl": [
           {
            "marker": {
             "colorbar": {
              "outlinewidth": 0,
              "ticks": ""
             }
            },
            "type": "scattergl"
           }
          ],
          "scattermapbox": [
           {
            "marker": {
             "colorbar": {
              "outlinewidth": 0,
              "ticks": ""
             }
            },
            "type": "scattermapbox"
           }
          ],
          "scatterpolar": [
           {
            "marker": {
             "colorbar": {
              "outlinewidth": 0,
              "ticks": ""
             }
            },
            "type": "scatterpolar"
           }
          ],
          "scatterpolargl": [
           {
            "marker": {
             "colorbar": {
              "outlinewidth": 0,
              "ticks": ""
             }
            },
            "type": "scatterpolargl"
           }
          ],
          "scatterternary": [
           {
            "marker": {
             "colorbar": {
              "outlinewidth": 0,
              "ticks": ""
             }
            },
            "type": "scatterternary"
           }
          ],
          "surface": [
           {
            "colorbar": {
             "outlinewidth": 0,
             "ticks": ""
            },
            "colorscale": [
             [
              0,
              "#0d0887"
             ],
             [
              0.1111111111111111,
              "#46039f"
             ],
             [
              0.2222222222222222,
              "#7201a8"
             ],
             [
              0.3333333333333333,
              "#9c179e"
             ],
             [
              0.4444444444444444,
              "#bd3786"
             ],
             [
              0.5555555555555556,
              "#d8576b"
             ],
             [
              0.6666666666666666,
              "#ed7953"
             ],
             [
              0.7777777777777778,
              "#fb9f3a"
             ],
             [
              0.8888888888888888,
              "#fdca26"
             ],
             [
              1,
              "#f0f921"
             ]
            ],
            "type": "surface"
           }
          ],
          "table": [
           {
            "cells": {
             "fill": {
              "color": "#EBF0F8"
             },
             "line": {
              "color": "white"
             }
            },
            "header": {
             "fill": {
              "color": "#C8D4E3"
             },
             "line": {
              "color": "white"
             }
            },
            "type": "table"
           }
          ]
         },
         "layout": {
          "annotationdefaults": {
           "arrowcolor": "#2a3f5f",
           "arrowhead": 0,
           "arrowwidth": 1
          },
          "autotypenumbers": "strict",
          "coloraxis": {
           "colorbar": {
            "outlinewidth": 0,
            "ticks": ""
           }
          },
          "colorscale": {
           "diverging": [
            [
             0,
             "#8e0152"
            ],
            [
             0.1,
             "#c51b7d"
            ],
            [
             0.2,
             "#de77ae"
            ],
            [
             0.3,
             "#f1b6da"
            ],
            [
             0.4,
             "#fde0ef"
            ],
            [
             0.5,
             "#f7f7f7"
            ],
            [
             0.6,
             "#e6f5d0"
            ],
            [
             0.7,
             "#b8e186"
            ],
            [
             0.8,
             "#7fbc41"
            ],
            [
             0.9,
             "#4d9221"
            ],
            [
             1,
             "#276419"
            ]
           ],
           "sequential": [
            [
             0,
             "#0d0887"
            ],
            [
             0.1111111111111111,
             "#46039f"
            ],
            [
             0.2222222222222222,
             "#7201a8"
            ],
            [
             0.3333333333333333,
             "#9c179e"
            ],
            [
             0.4444444444444444,
             "#bd3786"
            ],
            [
             0.5555555555555556,
             "#d8576b"
            ],
            [
             0.6666666666666666,
             "#ed7953"
            ],
            [
             0.7777777777777778,
             "#fb9f3a"
            ],
            [
             0.8888888888888888,
             "#fdca26"
            ],
            [
             1,
             "#f0f921"
            ]
           ],
           "sequentialminus": [
            [
             0,
             "#0d0887"
            ],
            [
             0.1111111111111111,
             "#46039f"
            ],
            [
             0.2222222222222222,
             "#7201a8"
            ],
            [
             0.3333333333333333,
             "#9c179e"
            ],
            [
             0.4444444444444444,
             "#bd3786"
            ],
            [
             0.5555555555555556,
             "#d8576b"
            ],
            [
             0.6666666666666666,
             "#ed7953"
            ],
            [
             0.7777777777777778,
             "#fb9f3a"
            ],
            [
             0.8888888888888888,
             "#fdca26"
            ],
            [
             1,
             "#f0f921"
            ]
           ]
          },
          "colorway": [
           "#636efa",
           "#EF553B",
           "#00cc96",
           "#ab63fa",
           "#FFA15A",
           "#19d3f3",
           "#FF6692",
           "#B6E880",
           "#FF97FF",
           "#FECB52"
          ],
          "font": {
           "color": "#2a3f5f"
          },
          "geo": {
           "bgcolor": "white",
           "lakecolor": "white",
           "landcolor": "#E5ECF6",
           "showlakes": true,
           "showland": true,
           "subunitcolor": "white"
          },
          "hoverlabel": {
           "align": "left"
          },
          "hovermode": "closest",
          "mapbox": {
           "style": "light"
          },
          "paper_bgcolor": "white",
          "plot_bgcolor": "#E5ECF6",
          "polar": {
           "angularaxis": {
            "gridcolor": "white",
            "linecolor": "white",
            "ticks": ""
           },
           "bgcolor": "#E5ECF6",
           "radialaxis": {
            "gridcolor": "white",
            "linecolor": "white",
            "ticks": ""
           }
          },
          "scene": {
           "xaxis": {
            "backgroundcolor": "#E5ECF6",
            "gridcolor": "white",
            "gridwidth": 2,
            "linecolor": "white",
            "showbackground": true,
            "ticks": "",
            "zerolinecolor": "white"
           },
           "yaxis": {
            "backgroundcolor": "#E5ECF6",
            "gridcolor": "white",
            "gridwidth": 2,
            "linecolor": "white",
            "showbackground": true,
            "ticks": "",
            "zerolinecolor": "white"
           },
           "zaxis": {
            "backgroundcolor": "#E5ECF6",
            "gridcolor": "white",
            "gridwidth": 2,
            "linecolor": "white",
            "showbackground": true,
            "ticks": "",
            "zerolinecolor": "white"
           }
          },
          "shapedefaults": {
           "line": {
            "color": "#2a3f5f"
           }
          },
          "ternary": {
           "aaxis": {
            "gridcolor": "white",
            "linecolor": "white",
            "ticks": ""
           },
           "baxis": {
            "gridcolor": "white",
            "linecolor": "white",
            "ticks": ""
           },
           "bgcolor": "#E5ECF6",
           "caxis": {
            "gridcolor": "white",
            "linecolor": "white",
            "ticks": ""
           }
          },
          "title": {
           "x": 0.05
          },
          "xaxis": {
           "automargin": true,
           "gridcolor": "white",
           "linecolor": "white",
           "ticks": "",
           "title": {
            "standoff": 15
           },
           "zerolinecolor": "white",
           "zerolinewidth": 2
          },
          "yaxis": {
           "automargin": true,
           "gridcolor": "white",
           "linecolor": "white",
           "ticks": "",
           "title": {
            "standoff": 15
           },
           "zerolinecolor": "white",
           "zerolinewidth": 2
          }
         }
        },
        "title": {
         "text": "Seasonality Plot - Week"
        },
        "xaxis": {
         "title": {
          "text": "Month"
         }
        },
        "yaxis": {
         "title": {
          "text": "Average Count"
         }
        }
       }
      }
     },
     "metadata": {},
     "output_type": "display_data"
    }
   ],
   "source": [
    "# Group by month and calculate average\n",
    "monthly_data = data_df.groupby(\"day_of_week_name\")[\"Count\"].mean().reset_index()\n",
    "\n",
    "fig = go.Figure()\n",
    "fig.add_trace(\n",
    "    go.Scatter(\n",
    "        x=monthly_data[\"day_of_week_name\"],\n",
    "        y=monthly_data[\"Count\"],\n",
    "        mode=\"lines\",\n",
    "        name=\"Count\",\n",
    "    )\n",
    ")\n",
    "fig.update_layout(\n",
    "    title=\"Seasonality Plot - Week\", xaxis_title=\"Month\", yaxis_title=\"Average Count\"\n",
    ")\n",
    "fig.show()"
   ]
  },
  {
   "cell_type": "code",
   "execution_count": null,
   "metadata": {},
   "outputs": [],
   "source": [
    "import numpy as np\n",
    "from sklearn.gaussian_process import GaussianProcessRegressor\n",
    "from sklearn.gaussian_process.kernels import RationalQuadratic\n",
    "from sklearn.gaussian_process.kernels import RBF\n",
    "\n",
    "# Define the kernel for GPR\n",
    "kernel_rq = RationalQuadratic(length_scale=1.0, alpha=1.0)  # Rational Quadratic kernel\n",
    "kernel_rbf = RBF(length_scale=1.0)"
   ]
  },
  {
   "cell_type": "code",
   "execution_count": null,
   "metadata": {},
   "outputs": [
    {
     "data": {
      "text/plain": [
       "1686101940.0"
      ]
     },
     "execution_count": 54,
     "metadata": {},
     "output_type": "execute_result"
    }
   ],
   "source": [
    "data_train_df[\"num_timestamp\"].iloc[10]"
   ]
  },
  {
   "cell_type": "code",
   "execution_count": null,
   "metadata": {},
   "outputs": [
    {
     "data": {
      "text/html": [
       "<div>\n",
       "<style scoped>\n",
       "    .dataframe tbody tr th:only-of-type {\n",
       "        vertical-align: middle;\n",
       "    }\n",
       "\n",
       "    .dataframe tbody tr th {\n",
       "        vertical-align: top;\n",
       "    }\n",
       "\n",
       "    .dataframe thead th {\n",
       "        text-align: right;\n",
       "    }\n",
       "</style>\n",
       "<table border=\"1\" class=\"dataframe\">\n",
       "  <thead>\n",
       "    <tr style=\"text-align: right;\">\n",
       "      <th></th>\n",
       "      <th>File_name</th>\n",
       "      <th>Count</th>\n",
       "      <th>Timestamp</th>\n",
       "      <th>timestamp_true</th>\n",
       "      <th>num_timestamp</th>\n",
       "      <th>month_no</th>\n",
       "      <th>month_name</th>\n",
       "      <th>day</th>\n",
       "      <th>day_of_week</th>\n",
       "      <th>day_of_week_name</th>\n",
       "      <th>is_weekend</th>\n",
       "      <th>hour_of_day</th>\n",
       "    </tr>\n",
       "  </thead>\n",
       "  <tbody>\n",
       "    <tr>\n",
       "      <th>0</th>\n",
       "      <td>Kris_0606-2036.png</td>\n",
       "      <td>31</td>\n",
       "      <td>2023-06-06 20:36:28</td>\n",
       "      <td>2023-06-06 20:36:00</td>\n",
       "      <td>1.686084e+09</td>\n",
       "      <td>6</td>\n",
       "      <td>June</td>\n",
       "      <td>6</td>\n",
       "      <td>1</td>\n",
       "      <td>Tuesday</td>\n",
       "      <td>0</td>\n",
       "      <td>20</td>\n",
       "    </tr>\n",
       "    <tr>\n",
       "      <th>1</th>\n",
       "      <td>Kris_0606-2106.png</td>\n",
       "      <td>28</td>\n",
       "      <td>2023-06-06 21:06:47</td>\n",
       "      <td>2023-06-06 21:06:00</td>\n",
       "      <td>1.686086e+09</td>\n",
       "      <td>6</td>\n",
       "      <td>June</td>\n",
       "      <td>6</td>\n",
       "      <td>1</td>\n",
       "      <td>Tuesday</td>\n",
       "      <td>0</td>\n",
       "      <td>21</td>\n",
       "    </tr>\n",
       "    <tr>\n",
       "      <th>2</th>\n",
       "      <td>Kris_0606-2137.png</td>\n",
       "      <td>22</td>\n",
       "      <td>2023-06-06 21:37:03</td>\n",
       "      <td>2023-06-06 21:37:00</td>\n",
       "      <td>1.686087e+09</td>\n",
       "      <td>6</td>\n",
       "      <td>June</td>\n",
       "      <td>6</td>\n",
       "      <td>1</td>\n",
       "      <td>Tuesday</td>\n",
       "      <td>0</td>\n",
       "      <td>21</td>\n",
       "    </tr>\n",
       "    <tr>\n",
       "      <th>3</th>\n",
       "      <td>Kris_0606-2207.png</td>\n",
       "      <td>27</td>\n",
       "      <td>2023-06-06 22:07:23</td>\n",
       "      <td>2023-06-06 22:07:00</td>\n",
       "      <td>1.686089e+09</td>\n",
       "      <td>6</td>\n",
       "      <td>June</td>\n",
       "      <td>6</td>\n",
       "      <td>1</td>\n",
       "      <td>Tuesday</td>\n",
       "      <td>0</td>\n",
       "      <td>22</td>\n",
       "    </tr>\n",
       "    <tr>\n",
       "      <th>4</th>\n",
       "      <td>Kris_0606-2237.png</td>\n",
       "      <td>26</td>\n",
       "      <td>2023-06-06 22:37:39</td>\n",
       "      <td>2023-06-06 22:37:00</td>\n",
       "      <td>1.686091e+09</td>\n",
       "      <td>6</td>\n",
       "      <td>June</td>\n",
       "      <td>6</td>\n",
       "      <td>1</td>\n",
       "      <td>Tuesday</td>\n",
       "      <td>0</td>\n",
       "      <td>22</td>\n",
       "    </tr>\n",
       "    <tr>\n",
       "      <th>...</th>\n",
       "      <td>...</td>\n",
       "      <td>...</td>\n",
       "      <td>...</td>\n",
       "      <td>...</td>\n",
       "      <td>...</td>\n",
       "      <td>...</td>\n",
       "      <td>...</td>\n",
       "      <td>...</td>\n",
       "      <td>...</td>\n",
       "      <td>...</td>\n",
       "      <td>...</td>\n",
       "      <td>...</td>\n",
       "    </tr>\n",
       "    <tr>\n",
       "      <th>345</th>\n",
       "      <td>Kris_1906-1453.png</td>\n",
       "      <td>54</td>\n",
       "      <td>2023-06-26 13:17:17</td>\n",
       "      <td>2023-06-19 14:53:00</td>\n",
       "      <td>1.687186e+09</td>\n",
       "      <td>6</td>\n",
       "      <td>June</td>\n",
       "      <td>19</td>\n",
       "      <td>0</td>\n",
       "      <td>Monday</td>\n",
       "      <td>0</td>\n",
       "      <td>14</td>\n",
       "    </tr>\n",
       "    <tr>\n",
       "      <th>346</th>\n",
       "      <td>Kris_1906-1542.png</td>\n",
       "      <td>36</td>\n",
       "      <td>2023-06-26 13:16:19</td>\n",
       "      <td>2023-06-19 15:42:00</td>\n",
       "      <td>1.687189e+09</td>\n",
       "      <td>6</td>\n",
       "      <td>June</td>\n",
       "      <td>19</td>\n",
       "      <td>0</td>\n",
       "      <td>Monday</td>\n",
       "      <td>0</td>\n",
       "      <td>15</td>\n",
       "    </tr>\n",
       "    <tr>\n",
       "      <th>347</th>\n",
       "      <td>Kris_1906-1612.png</td>\n",
       "      <td>44</td>\n",
       "      <td>2023-06-26 13:15:34</td>\n",
       "      <td>2023-06-19 16:12:00</td>\n",
       "      <td>1.687191e+09</td>\n",
       "      <td>6</td>\n",
       "      <td>June</td>\n",
       "      <td>19</td>\n",
       "      <td>0</td>\n",
       "      <td>Monday</td>\n",
       "      <td>0</td>\n",
       "      <td>16</td>\n",
       "    </tr>\n",
       "    <tr>\n",
       "      <th>348</th>\n",
       "      <td>Kris_1906-1622.png</td>\n",
       "      <td>45</td>\n",
       "      <td>2023-06-25 20:35:10</td>\n",
       "      <td>2023-06-19 16:22:00</td>\n",
       "      <td>1.687192e+09</td>\n",
       "      <td>6</td>\n",
       "      <td>June</td>\n",
       "      <td>19</td>\n",
       "      <td>0</td>\n",
       "      <td>Monday</td>\n",
       "      <td>0</td>\n",
       "      <td>16</td>\n",
       "    </tr>\n",
       "    <tr>\n",
       "      <th>349</th>\n",
       "      <td>Kris_1906-1631.png</td>\n",
       "      <td>50</td>\n",
       "      <td>2023-06-25 20:37:44</td>\n",
       "      <td>2023-06-19 16:31:00</td>\n",
       "      <td>1.687192e+09</td>\n",
       "      <td>6</td>\n",
       "      <td>June</td>\n",
       "      <td>19</td>\n",
       "      <td>0</td>\n",
       "      <td>Monday</td>\n",
       "      <td>0</td>\n",
       "      <td>16</td>\n",
       "    </tr>\n",
       "  </tbody>\n",
       "</table>\n",
       "<p>350 rows × 12 columns</p>\n",
       "</div>"
      ],
      "text/plain": [
       "              File_name  Count            Timestamp      timestamp_true   \n",
       "0    Kris_0606-2036.png     31  2023-06-06 20:36:28 2023-06-06 20:36:00  \\\n",
       "1    Kris_0606-2106.png     28  2023-06-06 21:06:47 2023-06-06 21:06:00   \n",
       "2    Kris_0606-2137.png     22  2023-06-06 21:37:03 2023-06-06 21:37:00   \n",
       "3    Kris_0606-2207.png     27  2023-06-06 22:07:23 2023-06-06 22:07:00   \n",
       "4    Kris_0606-2237.png     26  2023-06-06 22:37:39 2023-06-06 22:37:00   \n",
       "..                  ...    ...                  ...                 ...   \n",
       "345  Kris_1906-1453.png     54  2023-06-26 13:17:17 2023-06-19 14:53:00   \n",
       "346  Kris_1906-1542.png     36  2023-06-26 13:16:19 2023-06-19 15:42:00   \n",
       "347  Kris_1906-1612.png     44  2023-06-26 13:15:34 2023-06-19 16:12:00   \n",
       "348  Kris_1906-1622.png     45  2023-06-25 20:35:10 2023-06-19 16:22:00   \n",
       "349  Kris_1906-1631.png     50  2023-06-25 20:37:44 2023-06-19 16:31:00   \n",
       "\n",
       "     num_timestamp  month_no month_name  day  day_of_week day_of_week_name   \n",
       "0     1.686084e+09         6       June    6            1          Tuesday  \\\n",
       "1     1.686086e+09         6       June    6            1          Tuesday   \n",
       "2     1.686087e+09         6       June    6            1          Tuesday   \n",
       "3     1.686089e+09         6       June    6            1          Tuesday   \n",
       "4     1.686091e+09         6       June    6            1          Tuesday   \n",
       "..             ...       ...        ...  ...          ...              ...   \n",
       "345   1.687186e+09         6       June   19            0           Monday   \n",
       "346   1.687189e+09         6       June   19            0           Monday   \n",
       "347   1.687191e+09         6       June   19            0           Monday   \n",
       "348   1.687192e+09         6       June   19            0           Monday   \n",
       "349   1.687192e+09         6       June   19            0           Monday   \n",
       "\n",
       "     is_weekend  hour_of_day  \n",
       "0             0           20  \n",
       "1             0           21  \n",
       "2             0           21  \n",
       "3             0           22  \n",
       "4             0           22  \n",
       "..          ...          ...  \n",
       "345           0           14  \n",
       "346           0           15  \n",
       "347           0           16  \n",
       "348           0           16  \n",
       "349           0           16  \n",
       "\n",
       "[350 rows x 12 columns]"
      ]
     },
     "execution_count": 55,
     "metadata": {},
     "output_type": "execute_result"
    }
   ],
   "source": [
    "data_train_df\n"
   ]
  },
  {
   "cell_type": "code",
   "execution_count": null,
   "metadata": {},
   "outputs": [
    {
     "data": {
      "text/plain": [
       "<Axes: xlabel='num_timestamp'>"
      ]
     },
     "execution_count": 56,
     "metadata": {},
     "output_type": "execute_result"
    },
    {
     "data": {
      "image/png": "[encoded data removed]",
      "text/plain": [
       "<Figure size 640x480 with 1 Axes>"
      ]
     },
     "metadata": {},
     "output_type": "display_data"
    }
   ],
   "source": [
    "data_train_df.plot(x=\"num_timestamp\", y=\"Count\")"
   ]
  },
  {
   "cell_type": "code",
   "execution_count": null,
   "metadata": {},
   "outputs": [],
   "source": [
    "# from sklearn.model_selection import train_test_split\n",
    "\n",
    "# # Assuming df is your DataFrame\n",
    "# X = data_train_df[['num_timestamp']]  # Features - note the double brackets to make it a DataFrame\n",
    "# y = data_train_df['Count']  # Target variable\n",
    "\n",
    "# # Split the data into training and testing sets\n",
    "# X_train, X_test, y_train, y_test = train_test_split(X, y, test_size=0.2, random_state=42)"
   ]
  },
  {
   "cell_type": "code",
   "execution_count": null,
   "metadata": {},
   "outputs": [
    {
     "data": {
      "text/plain": [
       "array([[1.68608376e+09],\n",
       "       [1.68608556e+09],\n",
       "       [1.68608742e+09],\n",
       "       [1.68608922e+09],\n",
       "       [1.68609102e+09],\n",
       "       [1.68609282e+09],\n",
       "       [1.68609468e+09],\n",
       "       [1.68609648e+09],\n",
       "       [1.68609828e+09],\n",
       "       [1.68610008e+09],\n",
       "       [1.68610194e+09],\n",
       "       [1.68610374e+09],\n",
       "       [1.68610554e+09],\n",
       "       [1.68610740e+09],\n",
       "       [1.68610920e+09],\n",
       "       [1.68611100e+09],\n",
       "       [1.68611286e+09],\n",
       "       [1.68611466e+09],\n",
       "       [1.68611646e+09],\n",
       "       [1.68611826e+09],\n",
       "       [1.68612012e+09],\n",
       "       [1.68612192e+09],\n",
       "       [1.68612372e+09],\n",
       "       [1.68612558e+09],\n",
       "       [1.68612738e+09],\n",
       "       [1.68612918e+09],\n",
       "       [1.68613104e+09],\n",
       "       [1.68613284e+09],\n",
       "       [1.68613464e+09],\n",
       "       [1.68613644e+09],\n",
       "       [1.68613830e+09],\n",
       "       [1.68614010e+09],\n",
       "       [1.68614190e+09],\n",
       "       [1.68614376e+09],\n",
       "       [1.68614556e+09],\n",
       "       [1.68614736e+09],\n",
       "       [1.68614922e+09],\n",
       "       [1.68615102e+09],\n",
       "       [1.68615282e+09],\n",
       "       [1.68615462e+09],\n",
       "       [1.68615648e+09],\n",
       "       [1.68615828e+09],\n",
       "       [1.68616008e+09],\n",
       "       [1.68616188e+09],\n",
       "       [1.68616374e+09],\n",
       "       [1.68616554e+09],\n",
       "       [1.68616734e+09],\n",
       "       [1.68616920e+09],\n",
       "       [1.68617100e+09],\n",
       "       [1.68617280e+09],\n",
       "       [1.68617466e+09],\n",
       "       [1.68617646e+09],\n",
       "       [1.68617826e+09],\n",
       "       [1.68618012e+09],\n",
       "       [1.68618192e+09],\n",
       "       [1.68618372e+09],\n",
       "       [1.68618552e+09],\n",
       "       [1.68618738e+09],\n",
       "       [1.68618918e+09],\n",
       "       [1.68619098e+09],\n",
       "       [1.68619278e+09],\n",
       "       [1.68619464e+09],\n",
       "       [1.68619644e+09],\n",
       "       [1.68619824e+09],\n",
       "       [1.68620004e+09],\n",
       "       [1.68620190e+09],\n",
       "       [1.68620370e+09],\n",
       "       [1.68620550e+09],\n",
       "       [1.68620730e+09],\n",
       "       [1.68620916e+09],\n",
       "       [1.68621096e+09],\n",
       "       [1.68621276e+09],\n",
       "       [1.68621462e+09],\n",
       "       [1.68621642e+09],\n",
       "       [1.68621822e+09],\n",
       "       [1.68622002e+09],\n",
       "       [1.68622182e+09],\n",
       "       [1.68622368e+09],\n",
       "       [1.68622548e+09],\n",
       "       [1.68622728e+09],\n",
       "       [1.68622908e+09],\n",
       "       [1.68623094e+09],\n",
       "       [1.68623274e+09],\n",
       "       [1.68623454e+09],\n",
       "       [1.68623634e+09],\n",
       "       [1.68623820e+09],\n",
       "       [1.68624000e+09],\n",
       "       [1.68624180e+09],\n",
       "       [1.68624366e+09],\n",
       "       [1.68624546e+09],\n",
       "       [1.68624726e+09],\n",
       "       [1.68624906e+09],\n",
       "       [1.68625092e+09],\n",
       "       [1.68625272e+09],\n",
       "       [1.68625452e+09],\n",
       "       [1.68625638e+09],\n",
       "       [1.68625818e+09],\n",
       "       [1.68625998e+09],\n",
       "       [1.68626178e+09],\n",
       "       [1.68626358e+09],\n",
       "       [1.68631464e+09],\n",
       "       [1.68631650e+09],\n",
       "       [1.68631830e+09],\n",
       "       [1.68632010e+09],\n",
       "       [1.68632196e+09],\n",
       "       [1.68632376e+09],\n",
       "       [1.68632556e+09],\n",
       "       [1.68632742e+09],\n",
       "       [1.68632922e+09],\n",
       "       [1.68634458e+09],\n",
       "       [1.68634644e+09],\n",
       "       [1.68634824e+09],\n",
       "       [1.68635004e+09],\n",
       "       [1.68635184e+09],\n",
       "       [1.68635370e+09],\n",
       "       [1.68635550e+09],\n",
       "       [1.68635730e+09],\n",
       "       [1.68635910e+09],\n",
       "       [1.68636096e+09],\n",
       "       [1.68636276e+09],\n",
       "       [1.68636456e+09],\n",
       "       [1.68636642e+09],\n",
       "       [1.68636822e+09],\n",
       "       [1.68637002e+09],\n",
       "       [1.68637182e+09],\n",
       "       [1.68637368e+09],\n",
       "       [1.68637548e+09],\n",
       "       [1.68637728e+09],\n",
       "       [1.68637908e+09],\n",
       "       [1.68638094e+09],\n",
       "       [1.68638274e+09],\n",
       "       [1.68638454e+09],\n",
       "       [1.68638640e+09],\n",
       "       [1.68638820e+09],\n",
       "       [1.68639000e+09],\n",
       "       [1.68639180e+09],\n",
       "       [1.68639360e+09],\n",
       "       [1.68639546e+09],\n",
       "       [1.68639726e+09],\n",
       "       [1.68639906e+09],\n",
       "       [1.68640086e+09],\n",
       "       [1.68640272e+09],\n",
       "       [1.68640452e+09],\n",
       "       [1.68640632e+09],\n",
       "       [1.68640812e+09],\n",
       "       [1.68640998e+09],\n",
       "       [1.68641178e+09],\n",
       "       [1.68641358e+09],\n",
       "       [1.68641538e+09],\n",
       "       [1.68641724e+09],\n",
       "       [1.68641904e+09],\n",
       "       [1.68642084e+09],\n",
       "       [1.68642264e+09],\n",
       "       [1.68642450e+09],\n",
       "       [1.68642630e+09],\n",
       "       [1.68642810e+09],\n",
       "       [1.68642990e+09],\n",
       "       [1.68643170e+09],\n",
       "       [1.68643356e+09],\n",
       "       [1.68643536e+09],\n",
       "       [1.68643716e+09],\n",
       "       [1.68643896e+09],\n",
       "       [1.68644076e+09],\n",
       "       [1.68644262e+09],\n",
       "       [1.68644442e+09],\n",
       "       [1.68644622e+09],\n",
       "       [1.68644808e+09],\n",
       "       [1.68644988e+09],\n",
       "       [1.68645168e+09],\n",
       "       [1.68645354e+09],\n",
       "       [1.68645534e+09],\n",
       "       [1.68645714e+09],\n",
       "       [1.68645894e+09],\n",
       "       [1.68646080e+09],\n",
       "       [1.68646260e+09],\n",
       "       [1.68646440e+09],\n",
       "       [1.68646620e+09],\n",
       "       [1.68646806e+09],\n",
       "       [1.68646986e+09],\n",
       "       [1.68647166e+09],\n",
       "       [1.68647346e+09],\n",
       "       [1.68647532e+09],\n",
       "       [1.68647712e+09],\n",
       "       [1.68647892e+09],\n",
       "       [1.68648072e+09],\n",
       "       [1.68648258e+09],\n",
       "       [1.68648438e+09],\n",
       "       [1.68648618e+09],\n",
       "       [1.68648798e+09],\n",
       "       [1.68648984e+09],\n",
       "       [1.68649164e+09],\n",
       "       [1.68649344e+09],\n",
       "       [1.68649524e+09],\n",
       "       [1.68649710e+09],\n",
       "       [1.68649890e+09],\n",
       "       [1.68650070e+09],\n",
       "       [1.68650256e+09],\n",
       "       [1.68650436e+09],\n",
       "       [1.68650616e+09],\n",
       "       [1.68650796e+09],\n",
       "       [1.68650976e+09],\n",
       "       [1.68651162e+09],\n",
       "       [1.68651342e+09],\n",
       "       [1.68651522e+09],\n",
       "       [1.68651702e+09],\n",
       "       [1.68651882e+09],\n",
       "       [1.68652068e+09],\n",
       "       [1.68652248e+09],\n",
       "       [1.68652428e+09],\n",
       "       [1.68657432e+09],\n",
       "       [1.68657618e+09],\n",
       "       [1.68657798e+09],\n",
       "       [1.68657978e+09],\n",
       "       [1.68658164e+09],\n",
       "       [1.68658344e+09],\n",
       "       [1.68658524e+09],\n",
       "       [1.68658926e+09],\n",
       "       [1.68659106e+09],\n",
       "       [1.68659292e+09],\n",
       "       [1.68659472e+09],\n",
       "       [1.68659652e+09],\n",
       "       [1.68659838e+09],\n",
       "       [1.68660018e+09],\n",
       "       [1.68660198e+09],\n",
       "       [1.68660378e+09],\n",
       "       [1.68660564e+09],\n",
       "       [1.68660744e+09],\n",
       "       [1.68661470e+09],\n",
       "       [1.68661836e+09],\n",
       "       [1.68662016e+09],\n",
       "       [1.68662196e+09],\n",
       "       [1.68662562e+09],\n",
       "       [1.68662742e+09],\n",
       "       [1.68662922e+09],\n",
       "       [1.68663108e+09],\n",
       "       [1.68663288e+09],\n",
       "       [1.68663468e+09],\n",
       "       [1.68663648e+09],\n",
       "       [1.68663834e+09],\n",
       "       [1.68664014e+09],\n",
       "       [1.68664194e+09],\n",
       "       [1.68664380e+09],\n",
       "       [1.68664560e+09],\n",
       "       [1.68664740e+09],\n",
       "       [1.68664920e+09],\n",
       "       [1.68665106e+09],\n",
       "       [1.68665286e+09],\n",
       "       [1.68665466e+09],\n",
       "       [1.68665652e+09],\n",
       "       [1.68665832e+09],\n",
       "       [1.68666012e+09],\n",
       "       [1.68666192e+09],\n",
       "       [1.68666378e+09],\n",
       "       [1.68666558e+09],\n",
       "       [1.68666738e+09],\n",
       "       [1.68666924e+09],\n",
       "       [1.68667104e+09],\n",
       "       [1.68667284e+09],\n",
       "       [1.68667650e+09],\n",
       "       [1.68667830e+09],\n",
       "       [1.68668016e+09],\n",
       "       [1.68668202e+09],\n",
       "       [1.68668382e+09],\n",
       "       [1.68668562e+09],\n",
       "       [1.68668742e+09],\n",
       "       [1.68668928e+09],\n",
       "       [1.68669108e+09],\n",
       "       [1.68669288e+09],\n",
       "       [1.68669474e+09],\n",
       "       [1.68669834e+09],\n",
       "       [1.68670014e+09],\n",
       "       [1.68670200e+09],\n",
       "       [1.68670380e+09],\n",
       "       [1.68670560e+09],\n",
       "       [1.68670740e+09],\n",
       "       [1.68670926e+09],\n",
       "       [1.68671106e+09],\n",
       "       [1.68671286e+09],\n",
       "       [1.68671472e+09],\n",
       "       [1.68671652e+09],\n",
       "       [1.68671832e+09],\n",
       "       [1.68672012e+09],\n",
       "       [1.68672198e+09],\n",
       "       [1.68672378e+09],\n",
       "       [1.68672558e+09],\n",
       "       [1.68672744e+09],\n",
       "       [1.68672924e+09],\n",
       "       [1.68673104e+09],\n",
       "       [1.68673284e+09],\n",
       "       [1.68673470e+09],\n",
       "       [1.68673650e+09],\n",
       "       [1.68673830e+09],\n",
       "       [1.68674016e+09],\n",
       "       [1.68674196e+09],\n",
       "       [1.68674376e+09],\n",
       "       [1.68674556e+09],\n",
       "       [1.68674742e+09],\n",
       "       [1.68674922e+09],\n",
       "       [1.68675102e+09],\n",
       "       [1.68701388e+09],\n",
       "       [1.68701574e+09],\n",
       "       [1.68701754e+09],\n",
       "       [1.68701934e+09],\n",
       "       [1.68702114e+09],\n",
       "       [1.68702300e+09],\n",
       "       [1.68702480e+09],\n",
       "       [1.68702660e+09],\n",
       "       [1.68702846e+09],\n",
       "       [1.68703026e+09],\n",
       "       [1.68703206e+09],\n",
       "       [1.68703386e+09],\n",
       "       [1.68703572e+09],\n",
       "       [1.68703752e+09],\n",
       "       [1.68703932e+09],\n",
       "       [1.68704112e+09],\n",
       "       [1.68704298e+09],\n",
       "       [1.68704478e+09],\n",
       "       [1.68704658e+09],\n",
       "       [1.68704844e+09],\n",
       "       [1.68705024e+09],\n",
       "       [1.68705204e+09],\n",
       "       [1.68705390e+09],\n",
       "       [1.68705570e+09],\n",
       "       [1.68705750e+09],\n",
       "       [1.68705936e+09],\n",
       "       [1.68706116e+09],\n",
       "       [1.68706296e+09],\n",
       "       [1.68706476e+09],\n",
       "       [1.68706662e+09],\n",
       "       [1.68706842e+09],\n",
       "       [1.68707022e+09],\n",
       "       [1.68707202e+09],\n",
       "       [1.68707388e+09],\n",
       "       [1.68707568e+09],\n",
       "       [1.68707748e+09],\n",
       "       [1.68707934e+09],\n",
       "       [1.68708114e+09],\n",
       "       [1.68708294e+09],\n",
       "       [1.68708480e+09],\n",
       "       [1.68708660e+09],\n",
       "       [1.68708840e+09],\n",
       "       [1.68709020e+09],\n",
       "       [1.68709206e+09],\n",
       "       [1.68718518e+09],\n",
       "       [1.68718524e+09],\n",
       "       [1.68718638e+09],\n",
       "       [1.68718932e+09],\n",
       "       [1.68719112e+09],\n",
       "       [1.68719172e+09],\n",
       "       [1.68719226e+09]])"
      ]
     },
     "execution_count": 58,
     "metadata": {},
     "output_type": "execute_result"
    }
   ],
   "source": [
    "X_train = data_train_df[\"num_timestamp\"].values.reshape(-1, 1)\n",
    "X_train"
   ]
  },
  {
   "cell_type": "code",
   "execution_count": null,
   "metadata": {},
   "outputs": [
    {
     "data": {
      "text/plain": [
       "numpy.ndarray"
      ]
     },
     "execution_count": 59,
     "metadata": {},
     "output_type": "execute_result"
    }
   ],
   "source": [
    "type(X_train)\n"
   ]
  },
  {
   "cell_type": "code",
   "execution_count": null,
   "metadata": {},
   "outputs": [
    {
     "data": {
      "text/plain": [
       "array([[31],\n",
       "       [28],\n",
       "       [22],\n",
       "       [27],\n",
       "       [26],\n",
       "       [19],\n",
       "       [21],\n",
       "       [22],\n",
       "       [24],\n",
       "       [16],\n",
       "       [20],\n",
       "       [21],\n",
       "       [20],\n",
       "       [22],\n",
       "       [20],\n",
       "       [21],\n",
       "       [22],\n",
       "       [24],\n",
       "       [24],\n",
       "       [24],\n",
       "       [21],\n",
       "       [24],\n",
       "       [18],\n",
       "       [33],\n",
       "       [34],\n",
       "       [44],\n",
       "       [46],\n",
       "       [46],\n",
       "       [42],\n",
       "       [43],\n",
       "       [44],\n",
       "       [39],\n",
       "       [43],\n",
       "       [42],\n",
       "       [39],\n",
       "       [35],\n",
       "       [39],\n",
       "       [40],\n",
       "       [38],\n",
       "       [38],\n",
       "       [39],\n",
       "       [36],\n",
       "       [37],\n",
       "       [40],\n",
       "       [34],\n",
       "       [43],\n",
       "       [39],\n",
       "       [39],\n",
       "       [37],\n",
       "       [35],\n",
       "       [27],\n",
       "       [21],\n",
       "       [27],\n",
       "       [26],\n",
       "       [24],\n",
       "       [25],\n",
       "       [27],\n",
       "       [30],\n",
       "       [30],\n",
       "       [31],\n",
       "       [28],\n",
       "       [26],\n",
       "       [31],\n",
       "       [31],\n",
       "       [36],\n",
       "       [34],\n",
       "       [35],\n",
       "       [33],\n",
       "       [32],\n",
       "       [33],\n",
       "       [30],\n",
       "       [29],\n",
       "       [37],\n",
       "       [41],\n",
       "       [44],\n",
       "       [43],\n",
       "       [42],\n",
       "       [39],\n",
       "       [40],\n",
       "       [49],\n",
       "       [35],\n",
       "       [40],\n",
       "       [42],\n",
       "       [45],\n",
       "       [40],\n",
       "       [35],\n",
       "       [41],\n",
       "       [38],\n",
       "       [33],\n",
       "       [42],\n",
       "       [42],\n",
       "       [39],\n",
       "       [37],\n",
       "       [36],\n",
       "       [24],\n",
       "       [24],\n",
       "       [21],\n",
       "       [20],\n",
       "       [13],\n",
       "       [13],\n",
       "       [ 1],\n",
       "       [ 0],\n",
       "       [ 0],\n",
       "       [ 2],\n",
       "       [ 7],\n",
       "       [ 5],\n",
       "       [ 3],\n",
       "       [ 4],\n",
       "       [ 5],\n",
       "       [ 7],\n",
       "       [ 3],\n",
       "       [ 2],\n",
       "       [ 5],\n",
       "       [ 8],\n",
       "       [ 9],\n",
       "       [12],\n",
       "       [14],\n",
       "       [13],\n",
       "       [11],\n",
       "       [12],\n",
       "       [ 9],\n",
       "       [ 7],\n",
       "       [ 4],\n",
       "       [ 4],\n",
       "       [ 4],\n",
       "       [ 4],\n",
       "       [ 4],\n",
       "       [ 5],\n",
       "       [ 4],\n",
       "       [ 4],\n",
       "       [ 5],\n",
       "       [ 8],\n",
       "       [12],\n",
       "       [10],\n",
       "       [ 9],\n",
       "       [21],\n",
       "       [23],\n",
       "       [23],\n",
       "       [22],\n",
       "       [20],\n",
       "       [29],\n",
       "       [33],\n",
       "       [24],\n",
       "       [26],\n",
       "       [32],\n",
       "       [27],\n",
       "       [20],\n",
       "       [29],\n",
       "       [25],\n",
       "       [26],\n",
       "       [34],\n",
       "       [34],\n",
       "       [33],\n",
       "       [49],\n",
       "       [45],\n",
       "       [37],\n",
       "       [37],\n",
       "       [30],\n",
       "       [37],\n",
       "       [32],\n",
       "       [39],\n",
       "       [42],\n",
       "       [42],\n",
       "       [37],\n",
       "       [37],\n",
       "       [35],\n",
       "       [33],\n",
       "       [32],\n",
       "       [32],\n",
       "       [23],\n",
       "       [22],\n",
       "       [23],\n",
       "       [23],\n",
       "       [25],\n",
       "       [24],\n",
       "       [20],\n",
       "       [24],\n",
       "       [24],\n",
       "       [23],\n",
       "       [22],\n",
       "       [20],\n",
       "       [21],\n",
       "       [19],\n",
       "       [17],\n",
       "       [20],\n",
       "       [20],\n",
       "       [23],\n",
       "       [19],\n",
       "       [23],\n",
       "       [35],\n",
       "       [29],\n",
       "       [25],\n",
       "       [24],\n",
       "       [25],\n",
       "       [28],\n",
       "       [40],\n",
       "       [32],\n",
       "       [27],\n",
       "       [27],\n",
       "       [40],\n",
       "       [33],\n",
       "       [32],\n",
       "       [37],\n",
       "       [35],\n",
       "       [33],\n",
       "       [28],\n",
       "       [30],\n",
       "       [24],\n",
       "       [19],\n",
       "       [38],\n",
       "       [43],\n",
       "       [41],\n",
       "       [42],\n",
       "       [43],\n",
       "       [42],\n",
       "       [41],\n",
       "       [47],\n",
       "       [45],\n",
       "       [42],\n",
       "       [41],\n",
       "       [46],\n",
       "       [46],\n",
       "       [46],\n",
       "       [48],\n",
       "       [33],\n",
       "       [37],\n",
       "       [35],\n",
       "       [33],\n",
       "       [33],\n",
       "       [29],\n",
       "       [29],\n",
       "       [30],\n",
       "       [29],\n",
       "       [30],\n",
       "       [30],\n",
       "       [32],\n",
       "       [32],\n",
       "       [31],\n",
       "       [29],\n",
       "       [20],\n",
       "       [23],\n",
       "       [28],\n",
       "       [27],\n",
       "       [36],\n",
       "       [35],\n",
       "       [46],\n",
       "       [42],\n",
       "       [35],\n",
       "       [42],\n",
       "       [38],\n",
       "       [35],\n",
       "       [39],\n",
       "       [39],\n",
       "       [29],\n",
       "       [52],\n",
       "       [39],\n",
       "       [53],\n",
       "       [42],\n",
       "       [44],\n",
       "       [43],\n",
       "       [51],\n",
       "       [40],\n",
       "       [46],\n",
       "       [44],\n",
       "       [46],\n",
       "       [40],\n",
       "       [41],\n",
       "       [47],\n",
       "       [39],\n",
       "       [32],\n",
       "       [35],\n",
       "       [40],\n",
       "       [42],\n",
       "       [37],\n",
       "       [42],\n",
       "       [46],\n",
       "       [45],\n",
       "       [40],\n",
       "       [45],\n",
       "       [35],\n",
       "       [43],\n",
       "       [42],\n",
       "       [40],\n",
       "       [29],\n",
       "       [34],\n",
       "       [42],\n",
       "       [48],\n",
       "       [47],\n",
       "       [51],\n",
       "       [43],\n",
       "       [44],\n",
       "       [44],\n",
       "       [46],\n",
       "       [45],\n",
       "       [46],\n",
       "       [47],\n",
       "       [47],\n",
       "       [42],\n",
       "       [54],\n",
       "       [54],\n",
       "       [50],\n",
       "       [41],\n",
       "       [44],\n",
       "       [51],\n",
       "       [48],\n",
       "       [40],\n",
       "       [50],\n",
       "       [35],\n",
       "       [40],\n",
       "       [42],\n",
       "       [43],\n",
       "       [44],\n",
       "       [45],\n",
       "       [43],\n",
       "       [44],\n",
       "       [45],\n",
       "       [44],\n",
       "       [45],\n",
       "       [49],\n",
       "       [49],\n",
       "       [29],\n",
       "       [25],\n",
       "       [24],\n",
       "       [39],\n",
       "       [29],\n",
       "       [25],\n",
       "       [24],\n",
       "       [23],\n",
       "       [25],\n",
       "       [24],\n",
       "       [25],\n",
       "       [25],\n",
       "       [23],\n",
       "       [25],\n",
       "       [29],\n",
       "       [26],\n",
       "       [40],\n",
       "       [20],\n",
       "       [29],\n",
       "       [40],\n",
       "       [42],\n",
       "       [40],\n",
       "       [46],\n",
       "       [24],\n",
       "       [45],\n",
       "       [54],\n",
       "       [36],\n",
       "       [44],\n",
       "       [45],\n",
       "       [50]])"
      ]
     },
     "execution_count": 60,
     "metadata": {},
     "output_type": "execute_result"
    }
   ],
   "source": [
    "y_train = data_train_df[\"Count\"].values.reshape(-1, 1)\n",
    "y_train"
   ]
  },
  {
   "cell_type": "code",
   "execution_count": null,
   "metadata": {},
   "outputs": [
    {
     "data": {
      "text/plain": [
       "array([[1.68719460e+09],\n",
       "       [1.68719472e+09],\n",
       "       [1.68719712e+09],\n",
       "       [1.68719802e+09],\n",
       "       [1.68719964e+09],\n",
       "       [1.68720222e+09],\n",
       "       [1.68720582e+09],\n",
       "       [1.68720588e+09],\n",
       "       [1.68720636e+09],\n",
       "       [1.68720684e+09],\n",
       "       [1.68720912e+09],\n",
       "       [1.68721086e+09],\n",
       "       [1.68721236e+09],\n",
       "       [1.68721446e+09],\n",
       "       [1.68721716e+09],\n",
       "       [1.68721824e+09],\n",
       "       [1.68721992e+09],\n",
       "       [1.68722226e+09],\n",
       "       [1.68722406e+09],\n",
       "       [1.68722718e+09],\n",
       "       [1.68722886e+09],\n",
       "       [1.68722922e+09],\n",
       "       [1.68722940e+09],\n",
       "       [1.68723030e+09],\n",
       "       [1.68723372e+09],\n",
       "       [1.68723726e+09],\n",
       "       [1.68724044e+09],\n",
       "       [1.68724224e+09],\n",
       "       [1.68724392e+09],\n",
       "       [1.68724572e+09],\n",
       "       [1.68724902e+09],\n",
       "       [1.68725028e+09],\n",
       "       [1.68725184e+09],\n",
       "       [1.68725238e+09],\n",
       "       [1.68725262e+09],\n",
       "       [1.68725292e+09],\n",
       "       [1.68725304e+09],\n",
       "       [1.68725382e+09],\n",
       "       [1.68725466e+09],\n",
       "       [1.68725520e+09],\n",
       "       [1.68725646e+09],\n",
       "       [1.68725922e+09],\n",
       "       [1.68725988e+09],\n",
       "       [1.68726084e+09],\n",
       "       [1.68726162e+09],\n",
       "       [1.68726474e+09],\n",
       "       [1.68726672e+09],\n",
       "       [1.68726984e+09],\n",
       "       [1.68727050e+09],\n",
       "       [1.68727206e+09],\n",
       "       [1.68727302e+09],\n",
       "       [1.68727650e+09],\n",
       "       [1.68727944e+09],\n",
       "       [1.68728268e+09],\n",
       "       [1.68728310e+09],\n",
       "       [1.68728568e+09],\n",
       "       [1.68728730e+09],\n",
       "       [1.68728886e+09],\n",
       "       [1.68729246e+09],\n",
       "       [1.68729348e+09],\n",
       "       [1.68761634e+09],\n",
       "       [1.68761874e+09],\n",
       "       [1.68761916e+09],\n",
       "       [1.68761964e+09],\n",
       "       [1.68762294e+09],\n",
       "       [1.68762558e+09],\n",
       "       [1.68762696e+09],\n",
       "       [1.68762792e+09],\n",
       "       [1.68762924e+09],\n",
       "       [1.68763188e+09],\n",
       "       [1.68763542e+09],\n",
       "       [1.68763746e+09],\n",
       "       [1.68763872e+09],\n",
       "       [1.68764208e+09],\n",
       "       [1.68764496e+09],\n",
       "       [1.68764628e+09],\n",
       "       [1.68764742e+09],\n",
       "       [1.68765036e+09],\n",
       "       [1.68765384e+09],\n",
       "       [1.68765426e+09],\n",
       "       [1.68765534e+09],\n",
       "       [1.68765708e+09],\n",
       "       [1.68765816e+09],\n",
       "       [1.68766092e+09],\n",
       "       [1.68766296e+09],\n",
       "       [1.68766380e+09],\n",
       "       [1.68766734e+09],\n",
       "       [1.68767058e+09],\n",
       "       [1.68767412e+09],\n",
       "       [1.68767436e+09],\n",
       "       [1.68767742e+09],\n",
       "       [1.68767838e+09],\n",
       "       [1.68768168e+09],\n",
       "       [1.68768342e+09],\n",
       "       [1.68768654e+09],\n",
       "       [1.68768990e+09],\n",
       "       [1.68769272e+09],\n",
       "       [1.68769428e+09],\n",
       "       [1.68769560e+09],\n",
       "       [1.68769614e+09],\n",
       "       [1.68769806e+09],\n",
       "       [1.68769890e+09],\n",
       "       [1.68769914e+09],\n",
       "       [1.68770220e+09],\n",
       "       [1.68770262e+09],\n",
       "       [1.68770502e+09],\n",
       "       [1.68770862e+09],\n",
       "       [1.68771210e+09],\n",
       "       [1.68771546e+09],\n",
       "       [1.68771816e+09],\n",
       "       [1.68771930e+09],\n",
       "       [1.68771984e+09],\n",
       "       [1.68772218e+09],\n",
       "       [1.68772248e+09],\n",
       "       [1.68772350e+09],\n",
       "       [1.68772404e+09],\n",
       "       [1.68772560e+09],\n",
       "       [1.68772896e+09],\n",
       "       [1.68772902e+09],\n",
       "       [1.68773220e+09],\n",
       "       [1.68773244e+09],\n",
       "       [1.68773466e+09],\n",
       "       [1.68773508e+09],\n",
       "       [1.68773592e+09],\n",
       "       [1.68773922e+09],\n",
       "       [1.68774000e+09],\n",
       "       [1.68774060e+09],\n",
       "       [1.68774216e+09],\n",
       "       [1.68774408e+09],\n",
       "       [1.68774510e+09],\n",
       "       [1.68774648e+09],\n",
       "       [1.68774798e+09],\n",
       "       [1.68775134e+09],\n",
       "       [1.68775170e+09],\n",
       "       [1.68775464e+09],\n",
       "       [1.68775512e+09],\n",
       "       [1.68775740e+09],\n",
       "       [1.68775902e+09],\n",
       "       [1.68776256e+09],\n",
       "       [1.68776520e+09],\n",
       "       [1.68776562e+09],\n",
       "       [1.68776592e+09],\n",
       "       [1.68776742e+09],\n",
       "       [1.68777078e+09],\n",
       "       [1.68777402e+09],\n",
       "       [1.68777462e+09]])"
      ]
     },
     "execution_count": 61,
     "metadata": {},
     "output_type": "execute_result"
    }
   ],
   "source": [
    "X_test = data_test_df[\"num_timestamp\"].values.reshape(-1, 1)\n",
    "X_test"
   ]
  },
  {
   "cell_type": "code",
   "execution_count": null,
   "metadata": {},
   "outputs": [
    {
     "data": {
      "text/plain": [
       "array([[47],\n",
       "       [34],\n",
       "       [37],\n",
       "       [40],\n",
       "       [38],\n",
       "       [39],\n",
       "       [40],\n",
       "       [37],\n",
       "       [42],\n",
       "       [43],\n",
       "       [43],\n",
       "       [45],\n",
       "       [45],\n",
       "       [52],\n",
       "       [43],\n",
       "       [41],\n",
       "       [40],\n",
       "       [36],\n",
       "       [43],\n",
       "       [39],\n",
       "       [42],\n",
       "       [40],\n",
       "       [42],\n",
       "       [42],\n",
       "       [41],\n",
       "       [41],\n",
       "       [40],\n",
       "       [38],\n",
       "       [40],\n",
       "       [31],\n",
       "       [36],\n",
       "       [38],\n",
       "       [43],\n",
       "       [41],\n",
       "       [41],\n",
       "       [43],\n",
       "       [42],\n",
       "       [35],\n",
       "       [36],\n",
       "       [39],\n",
       "       [38],\n",
       "       [42],\n",
       "       [36],\n",
       "       [38],\n",
       "       [40],\n",
       "       [41],\n",
       "       [38],\n",
       "       [48],\n",
       "       [48],\n",
       "       [52],\n",
       "       [36],\n",
       "       [33],\n",
       "       [43],\n",
       "       [43],\n",
       "       [42],\n",
       "       [36],\n",
       "       [53],\n",
       "       [45],\n",
       "       [54],\n",
       "       [51],\n",
       "       [23],\n",
       "       [32],\n",
       "       [32],\n",
       "       [32],\n",
       "       [26],\n",
       "       [32],\n",
       "       [32],\n",
       "       [29],\n",
       "       [26],\n",
       "       [29],\n",
       "       [35],\n",
       "       [37],\n",
       "       [34],\n",
       "       [33],\n",
       "       [41],\n",
       "       [34],\n",
       "       [52],\n",
       "       [46],\n",
       "       [50],\n",
       "       [50],\n",
       "       [50],\n",
       "       [47],\n",
       "       [48],\n",
       "       [58],\n",
       "       [42],\n",
       "       [34],\n",
       "       [36],\n",
       "       [33],\n",
       "       [32],\n",
       "       [34],\n",
       "       [29],\n",
       "       [30],\n",
       "       [33],\n",
       "       [31],\n",
       "       [29],\n",
       "       [28],\n",
       "       [37],\n",
       "       [31],\n",
       "       [26],\n",
       "       [30],\n",
       "       [29],\n",
       "       [28],\n",
       "       [26],\n",
       "       [25],\n",
       "       [30],\n",
       "       [29],\n",
       "       [36],\n",
       "       [35],\n",
       "       [37],\n",
       "       [41],\n",
       "       [45],\n",
       "       [45],\n",
       "       [37],\n",
       "       [41],\n",
       "       [45],\n",
       "       [39],\n",
       "       [37],\n",
       "       [37],\n",
       "       [41],\n",
       "       [32],\n",
       "       [31],\n",
       "       [26],\n",
       "       [27],\n",
       "       [22],\n",
       "       [27],\n",
       "       [32],\n",
       "       [31],\n",
       "       [26],\n",
       "       [28],\n",
       "       [30],\n",
       "       [27],\n",
       "       [28],\n",
       "       [27],\n",
       "       [26],\n",
       "       [29],\n",
       "       [26],\n",
       "       [26],\n",
       "       [26],\n",
       "       [25],\n",
       "       [26],\n",
       "       [25],\n",
       "       [32],\n",
       "       [37],\n",
       "       [38],\n",
       "       [31],\n",
       "       [39]])"
      ]
     },
     "execution_count": 62,
     "metadata": {},
     "output_type": "execute_result"
    }
   ],
   "source": [
    "y_test = data_test_df[\"Count\"].values.reshape(-1, 1)\n",
    "y_test"
   ]
  },
  {
   "cell_type": "code",
   "execution_count": null,
   "metadata": {},
   "outputs": [],
   "source": [
    "def gpr_train(kernel, x_train, y_train, x_test):\n",
    "    # Create the GPR model\n",
    "    gpr = GaussianProcessRegressor(kernel=kernel)\n",
    "    # Fit the GPR model to the training data\n",
    "    gpr.fit(x_train, y_train)\n",
    "\n",
    "    # Perform predictions using the trained GPR model\n",
    "    y_pred, y_std = gpr.predict(x_test, return_std=True)\n",
    "    # y_pred: Predicted target values\n",
    "    # y_std: Standard deviation of predictions\n",
    "\n",
    "    # Access learned model properties\n",
    "    kernel_params = gpr.kernel_  # Learned kernel parameters\n",
    "    # noise_level = gpr.kernel_.get_params()['k2_noise_level']  # Estimated noise level (if available)\n",
    "    noise_level = gpr.alpha_  # Estimated noise level (if available)\n",
    "\n",
    "    # Print or analyze the results as needed\n",
    "    print(\"Predicted values:\", y_pred)\n",
    "    print(\"Prediction uncertainty (std):\", y_std)\n",
    "    print(\"Learned kernel parameters:\", kernel_params)\n",
    "    print(\"Estimated noise level:\", noise_level)\n",
    "\n",
    "    return y_pred, y_std, kernel_params, noise_level"
   ]
  },
  {
   "cell_type": "code",
   "execution_count": null,
   "metadata": {},
   "outputs": [],
   "source": [
    "import plotly.graph_objects as go\n",
    "\n",
    "\n",
    "def plot_gpr_results_plotly(X_train, y_train, X_test, y_pred, y_std):\n",
    "    # Convert X_test and X_train to flat arrays for plotting\n",
    "    X_test_flat = X_test.flatten()\n",
    "    X_train_flat = X_train.flatten()\n",
    "\n",
    "    # Create a figure\n",
    "    fig = go.Figure()\n",
    "\n",
    "    # Add the training data trace\n",
    "    fig.add_trace(\n",
    "        go.Scatter(x=X_train_flat, y=y_train, mode=\"markers\", name=\"Training data\")\n",
    "    )\n",
    "\n",
    "    # Add the predicted values trace\n",
    "    fig.add_trace(\n",
    "        go.Scatter(x=X_test_flat, y=y_pred, mode=\"lines\", name=\"Predicted values\")\n",
    "    )\n",
    "\n",
    "    # Add the uncertainty bounds traces\n",
    "    fig.add_trace(\n",
    "        go.Scatter(\n",
    "            x=X_test_flat,\n",
    "            y=y_pred - y_std,\n",
    "            mode=\"lines\",\n",
    "            name=\"Lower bound\",\n",
    "            line=dict(width=0),\n",
    "        )\n",
    "    )\n",
    "    fig.add_trace(\n",
    "        go.Scatter(\n",
    "            x=X_test_flat,\n",
    "            y=y_pred + y_std,\n",
    "            mode=\"lines\",\n",
    "            name=\"Upper bound\",\n",
    "            fill=\"tonexty\",\n",
    "        )\n",
    "    )\n",
    "\n",
    "    # Show the plot\n",
    "    fig.show()"
   ]
  },
  {
   "cell_type": "code",
   "execution_count": null,
   "metadata": {},
   "outputs": [
    {
     "name": "stdout",
     "output_type": "stream",
     "text": [
      "Predicted values: [39.01572173 38.91134432 37.49604381 37.14398326 36.63077499 36.0100841\n",
      " 35.37064132 35.3614806  35.28960022 35.22009871 34.91806031 34.7134309\n",
      " 34.5515116  34.34352601 34.10240669 34.01292262 33.88054194 33.70833556\n",
      " 33.58428161 33.38404571 33.28301677 33.26192657 33.25145242 33.19977287\n",
      " 33.01310576 32.83410979 32.68383545 32.60266694 32.52922417 32.45284832\n",
      " 32.31853181 32.26905005 32.20907126 32.18862802 32.17959337 32.16834388\n",
      " 32.16385762 32.13488297 32.10403344 32.08439099 32.03911919 31.94256939\n",
      " 31.91998917 31.88748022 31.86135232 31.75928705 31.69643813 31.60021977\n",
      " 31.58028597 31.53372715 31.50545491 31.40527716 31.32330754 31.23560024\n",
      " 31.22442288 31.15668721 31.11494329 31.07529765 30.98578493 30.96090484\n",
      " 26.92125373 26.9032981  26.90016486 26.89658728 26.87208522 26.85260048\n",
      " 26.84245623 26.83541583 26.82575725 26.80651588 26.78087201 26.76617503\n",
      " 26.75712676 26.73310636 26.71264166 26.70329995 26.69525118 26.6745748\n",
      " 26.65025014 26.64732526 26.63981483 26.62774688 26.62027632 26.60125362\n",
      " 26.5872564  26.58150831 26.55738254 26.53543939 26.5116134  26.51000366\n",
      " 26.48954112 26.48314493 26.46124264 26.44974657 26.42922266 26.40724762\n",
      " 26.38890532 26.37879778 26.37026695 26.36678277 26.35442132 26.34902626\n",
      " 26.34748627 26.3279079  26.32522881 26.30995718 26.28716836 26.26527304\n",
      " 26.24425614 26.2274545  26.22038355 26.21703891 26.20258066 26.20073116\n",
      " 26.19444984 26.19112879 26.18155153 26.16100829 26.16064249 26.14130734\n",
      " 26.13985222 26.12641972 26.12388398 26.11881775 26.09898237 26.09430968\n",
      " 26.09071936 26.081401   26.06996474 26.06390375 26.05571954 26.04684439\n",
      " 26.02704192 26.02492658 26.00769696 26.00489166 25.99159582 25.98217811\n",
      " 25.96168278 25.94647268 25.94405872 25.94233544 25.93373123 25.9145311\n",
      " 25.89611189 25.8927111 ]\n",
      "Prediction uncertainty (std): [0.82331609 0.82519957 0.84867186 0.8539405  0.86122968 0.86943613\n",
      " 0.87720642 0.87731278 0.87814249 0.87893666 0.88229632 0.88448893\n",
      " 0.88617689 0.88828521 0.89064689 0.89150129 0.8927438  0.89432244\n",
      " 0.89543386 0.89718339 0.89804582 0.89822417 0.89831253 0.89874643\n",
      " 0.90028546 0.90172086 0.90289651 0.90352069 0.90407906 0.90465339\n",
      " 0.90564813 0.90600976 0.90644471 0.90659212 0.90665713 0.90673795\n",
      " 0.90677015 0.90697762 0.90719758 0.90733714 0.90765734 0.90833354\n",
      " 0.90849039 0.90871536 0.90889544 0.90959284 0.91001755 0.9106609\n",
      " 0.91079317 0.91110077 0.91128664 0.91193981 0.91246806 0.91302727\n",
      " 0.91309809 0.9135252  0.91378664 0.91403371 0.91458719 0.91473997\n",
      " 0.93528555 0.93536414 0.93537785 0.93539349 0.93550058 0.93558565\n",
      " 0.9356299  0.93566061 0.93570271 0.93578652 0.9358981  0.93596198\n",
      " 0.93600129 0.93610555 0.93619429 0.93623477 0.93626963 0.93635912\n",
      " 0.93646429 0.93647692 0.93650937 0.93656147 0.93659371 0.93667576\n",
      " 0.93673608 0.93676085 0.9368647  0.93695906 0.93706141 0.93706832\n",
      " 0.93715613 0.93718356 0.93727743 0.93732666 0.93741449 0.93750844\n",
      " 0.93758679 0.93762994 0.93766634 0.9376812  0.93773392 0.93775692\n",
      " 0.93776348 0.93784689 0.9378583  0.93792331 0.93802023 0.93811326\n",
      " 0.93820248 0.93827375 0.93830373 0.93831791 0.93837917 0.938387\n",
      " 0.9384136  0.93842766 0.9384682  0.93855511 0.93855665 0.93863838\n",
      " 0.93864453 0.93870126 0.93871197 0.93873335 0.93881705 0.93883675\n",
      " 0.93885189 0.93889117 0.93893936 0.93896489 0.93899936 0.93903672\n",
      " 0.93912003 0.93912893 0.93920135 0.93921314 0.93926899 0.93930854\n",
      " 0.93939454 0.93945832 0.93946844 0.93947566 0.93951172 0.93959214\n",
      " 0.93966923 0.93968346]\n",
      "Learned kernel parameters: RationalQuadratic(alpha=0.0871, length_scale=58)\n",
      "Estimated noise level: [[ 8.06889425e+00]\n",
      " [ 3.27925964e+00]\n",
      " [-7.08005044e+00]\n",
      " [ 3.73953217e+00]\n",
      " [ 3.07324815e+00]\n",
      " [-8.98381163e+00]\n",
      " [-3.97268692e+00]\n",
      " [-1.97890092e+00]\n",
      " [ 2.85053484e+00]\n",
      " [-1.20763157e+01]\n",
      " [-3.89331325e+00]\n",
      " [-2.48937297e+00]\n",
      " [-4.98083273e+00]\n",
      " [-1.38036039e+00]\n",
      " [-5.77995507e+00]\n",
      " [-4.47237662e+00]\n",
      " [-3.76270938e+00]\n",
      " [-1.02997286e+00]\n",
      " [-1.97735275e+00]\n",
      " [-2.39289621e+00]\n",
      " [-9.01036771e+00]\n",
      " [-4.06669601e+00]\n",
      " [-1.93812214e+01]\n",
      " [ 4.88868544e+00]\n",
      " [ 2.37650576e-01]\n",
      " [ 1.46524841e+01]\n",
      " [ 1.45976928e+01]\n",
      " [ 1.32887188e+01]\n",
      " [ 5.25886427e+00]\n",
      " [ 7.34632660e+00]\n",
      " [ 9.69243053e+00]\n",
      " [ 1.75704609e-01]\n",
      " [ 8.50812370e+00]\n",
      " [ 7.18360405e+00]\n",
      " [ 2.83093804e+00]\n",
      " [-4.04011376e+00]\n",
      " [ 3.86397238e+00]\n",
      " [ 5.61791791e+00]\n",
      " [ 1.98537795e+00]\n",
      " [ 2.39591228e+00]\n",
      " [ 4.87048729e+00]\n",
      " [-6.12870073e-01]\n",
      " [ 1.42051350e+00]\n",
      " [ 7.47869548e+00]\n",
      " [-4.71978446e+00]\n",
      " [ 1.29545222e+01]\n",
      " [ 5.26852542e+00]\n",
      " [ 7.05394651e+00]\n",
      " [ 5.46520944e+00]\n",
      " [ 5.22886838e+00]\n",
      " [-5.98532091e+00]\n",
      " [-1.48516190e+01]\n",
      " [-1.94751269e+00]\n",
      " [-3.65697614e+00]\n",
      " [-7.24042630e+00]\n",
      " [-5.68857863e+00]\n",
      " [-3.07290597e+00]\n",
      " [ 1.39021338e+00]\n",
      " [ 4.11912450e-01]\n",
      " [ 2.28099082e+00]\n",
      " [-3.34921747e+00]\n",
      " [-7.68035781e+00]\n",
      " [ 8.08529896e-01]\n",
      " [-1.37096214e+00]\n",
      " [ 6.95644054e+00]\n",
      " [ 2.00253049e+00]\n",
      " [ 3.96418520e+00]\n",
      " [ 2.84423896e-01]\n",
      " [-1.40331077e+00]\n",
      " [ 7.65523537e-01]\n",
      " [-5.28838921e+00]\n",
      " [-8.89107501e+00]\n",
      " [ 3.41286536e+00]\n",
      " [ 7.56132497e+00]\n",
      " [ 1.11413918e+01]\n",
      " [ 8.29009949e+00]\n",
      " [ 6.62190951e+00]\n",
      " [ 9.80806674e-01]\n",
      " [ 2.11891151e+00]\n",
      " [ 2.00573168e+01]\n",
      " [-6.82869950e+00]\n",
      " [ 3.72040607e+00]\n",
      " [ 6.73702034e+00]\n",
      " [ 1.28975814e+01]\n",
      " [ 4.67023988e+00]\n",
      " [-3.61351723e+00]\n",
      " [ 9.08118920e+00]\n",
      " [ 4.06940909e+00]\n",
      " [-5.30004150e+00]\n",
      " [ 1.20889088e+01]\n",
      " [ 1.21874544e+01]\n",
      " [ 8.35155611e+00]\n",
      " [ 7.66376508e+00]\n",
      " [ 1.04047236e+01]\n",
      " [-8.06497895e+00]\n",
      " [-3.10289884e+00]\n",
      " [-5.56346168e+00]\n",
      " [-4.00223812e+00]\n",
      " [-1.51666483e+01]\n",
      " [-1.47529032e+01]\n",
      " [-1.43689985e+01]\n",
      " [-1.34107054e+01]\n",
      " [-1.27074579e+01]\n",
      " [-9.60545862e+00]\n",
      " [-8.15592096e-01]\n",
      " [-5.04676059e+00]\n",
      " [-8.90375150e+00]\n",
      " [-7.52095008e+00]\n",
      " [-7.17104781e+00]\n",
      " [-4.11741044e+00]\n",
      " [-1.01453633e+01]\n",
      " [-1.16714091e+01]\n",
      " [-6.92307724e+00]\n",
      " [-2.93498762e+00]\n",
      " [-3.04652835e+00]\n",
      " [ 1.07100635e+00]\n",
      " [ 3.87321294e+00]\n",
      " [ 1.88324499e+00]\n",
      " [-1.38344851e+00]\n",
      " [ 1.73541439e+00]\n",
      " [-2.62315792e+00]\n",
      " [-4.44946250e+00]\n",
      " [-8.70682259e+00]\n",
      " [-7.71469320e+00]\n",
      " [-7.43216259e+00]\n",
      " [-7.44658115e+00]\n",
      " [-7.74206723e+00]\n",
      " [-6.19586310e+00]\n",
      " [-8.77200374e+00]\n",
      " [-9.76123449e+00]\n",
      " [-9.63396449e+00]\n",
      " [-6.43682625e+00]\n",
      " [-1.26203543e+00]\n",
      " [-7.47529580e+00]\n",
      " [-1.30003592e+01]\n",
      " [ 5.99702343e+00]\n",
      " [ 5.71919550e+00]\n",
      " [ 3.41737482e+00]\n",
      " [ 1.83561814e-02]\n",
      " [-6.31857563e+00]\n",
      " [ 8.25302849e+00]\n",
      " [ 1.41213120e+01]\n",
      " [-3.96286139e+00]\n",
      " [-5.31750198e-01]\n",
      " [ 1.04999011e+01]\n",
      " [ 1.21864926e+00]\n",
      " [-1.23527770e+01]\n",
      " [ 4.62306907e+00]\n",
      " [-5.09311999e+00]\n",
      " [-5.63653655e+00]\n",
      " [ 6.76969057e+00]\n",
      " [ 3.49008242e+00]\n",
      " [-2.41592711e+00]\n",
      " [ 2.54395611e+01]\n",
      " [ 1.66022071e+01]\n",
      " [ 2.85059802e+00]\n",
      " [ 5.43315412e+00]\n",
      " [-7.37428260e+00]\n",
      " [ 6.68876892e+00]\n",
      " [-4.46866376e+00]\n",
      " [ 7.73203124e+00]\n",
      " [ 1.20127142e+01]\n",
      " [ 1.23543096e+01]\n",
      " [ 4.14503831e+00]\n",
      " [ 6.18473692e+00]\n",
      " [ 4.29175714e+00]\n",
      " [ 2.67264788e+00]\n",
      " [ 2.96755994e+00]\n",
      " [ 6.14023746e+00]\n",
      " [-7.95731286e+00]\n",
      " [-7.22410058e+00]\n",
      " [-4.15490993e+00]\n",
      " [-3.86464527e+00]\n",
      " [ 3.89504223e-01]\n",
      " [-7.55124812e-01]\n",
      " [-7.99716898e+00]\n",
      " [ 5.84700321e-02]\n",
      " [ 4.60918619e-02]\n",
      " [-1.24879574e+00]\n",
      " [-2.17392319e+00]\n",
      " [-5.22621346e+00]\n",
      " [-2.41093038e+00]\n",
      " [-5.62109638e+00]\n",
      " [-9.39327443e+00]\n",
      " [-4.11536700e+00]\n",
      " [-5.48826016e+00]\n",
      " [-5.53419547e-01]\n",
      " [-1.00272943e+01]\n",
      " [-5.14942403e+00]\n",
      " [ 1.54689746e+01]\n",
      " [ 2.85612424e+00]\n",
      " [-4.00624019e+00]\n",
      " [-5.86268120e+00]\n",
      " [-5.39243923e+00]\n",
      " [-2.75140538e+00]\n",
      " [ 1.85246501e+01]\n",
      " [ 2.58561659e+00]\n",
      " [-6.19280029e+00]\n",
      " [-7.55749581e+00]\n",
      " [ 1.62062586e+01]\n",
      " [ 1.44238727e+00]\n",
      " [-4.81073100e-01]\n",
      " [ 9.13855233e+00]\n",
      " [ 5.72191323e+00]\n",
      " [ 3.81651808e+00]\n",
      " [-3.92634170e+00]\n",
      " [ 2.41121673e+00]\n",
      " [-7.18429664e+00]\n",
      " [-1.63144650e+01]\n",
      " [-9.56540291e-02]\n",
      " [ 7.96394679e+00]\n",
      " [ 2.73106084e+00]\n",
      " [ 4.00922563e+00]\n",
      " [ 5.40554201e+00]\n",
      " [ 3.26582424e+00]\n",
      " [ 1.22515185e+00]\n",
      " [ 1.07973659e+01]\n",
      " [ 6.63393218e+00]\n",
      " [ 1.47454105e+00]\n",
      " [-5.97603776e-01]\n",
      " [ 8.58425367e+00]\n",
      " [ 8.12591418e+00]\n",
      " [ 8.72735569e+00]\n",
      " [ 1.55681235e+01]\n",
      " [-1.05416532e+01]\n",
      " [ 4.39130783e-01]\n",
      " [-2.29712587e+00]\n",
      " [-1.91863011e+00]\n",
      " [ 5.41404064e-01]\n",
      " [-5.91585768e+00]\n",
      " [-5.13542547e+00]\n",
      " [-2.64762624e+00]\n",
      " [-4.26837841e+00]\n",
      " [-2.31080403e+00]\n",
      " [-2.72735366e+00]\n",
      " [ 9.07078788e-01]\n",
      " [ 1.05704999e+00]\n",
      " [ 1.52032243e-01]\n",
      " [-1.45969670e+00]\n",
      " [-1.74956305e+01]\n",
      " [-1.18914588e+01]\n",
      " [-4.43140685e+00]\n",
      " [-9.90183881e+00]\n",
      " [ 4.15616734e+00]\n",
      " [-2.25023071e+00]\n",
      " [ 1.63862049e+01]\n",
      " [ 7.61863875e+00]\n",
      " [-5.88183172e+00]\n",
      " [ 8.04453904e+00]\n",
      " [ 2.66435804e-01]\n",
      " [-5.41036101e+00]\n",
      " [ 2.01917065e+00]\n",
      " [ 1.80404278e+00]\n",
      " [-2.02021688e+01]\n",
      " [ 2.26318450e+01]\n",
      " [-6.53443333e+00]\n",
      " [ 2.06284248e+01]\n",
      " [-1.20987154e+00]\n",
      " [ 3.22404570e+00]\n",
      " [ 9.24719088e-02]\n",
      " [ 1.57318273e+01]\n",
      " [-5.72322034e+00]\n",
      " [ 6.78141840e+00]\n",
      " [ 2.68013340e+00]\n",
      " [ 7.64378228e+00]\n",
      " [-3.03311625e+00]\n",
      " [-6.14799527e-01]\n",
      " [ 1.18754934e+01]\n",
      " [-2.18929537e+00]\n",
      " [-1.18280258e+01]\n",
      " [-6.20383163e+00]\n",
      " [ 1.78477227e+00]\n",
      " [ 4.63942217e+00]\n",
      " [-6.10406259e+00]\n",
      " [ 2.37415950e+00]\n",
      " [ 8.63751640e+00]\n",
      " [ 6.67672526e+00]\n",
      " [-2.53489569e+00]\n",
      " [ 8.70670775e+00]\n",
      " [-1.05289808e+01]\n",
      " [ 5.62989634e+00]\n",
      " [ 3.78034947e+00]\n",
      " [ 2.06578734e+00]\n",
      " [-1.81973226e+01]\n",
      " [-9.59209758e+00]\n",
      " [ 1.92369880e+00]\n",
      " [ 1.00871191e+01]\n",
      " [ 5.77852981e+00]\n",
      " [ 1.35016395e+01]\n",
      " [-1.54604076e+00]\n",
      " [ 1.23442810e+00]\n",
      " [ 9.47888670e-01]\n",
      " [ 4.46794946e+00]\n",
      " [ 2.05598038e+00]\n",
      " [ 3.68006585e+00]\n",
      " [ 5.39328734e+00]\n",
      " [ 5.78198061e+00]\n",
      " [-4.47032511e+00]\n",
      " [ 1.96772666e+01]\n",
      " [ 1.90386743e+01]\n",
      " [ 1.11572932e+01]\n",
      " [-5.23844080e+00]\n",
      " [ 6.06959042e-01]\n",
      " [ 1.36180392e+01]\n",
      " [ 8.58668440e+00]\n",
      " [-5.95785124e+00]\n",
      " [ 1.58478783e+01]\n",
      " [-1.21462747e+01]\n",
      " [-1.27172323e+00]\n",
      " [ 1.72314828e+00]\n",
      " [ 2.82227393e+00]\n",
      " [ 4.11284476e+00]\n",
      " [ 5.91917936e+00]\n",
      " [ 2.07629319e+00]\n",
      " [ 4.17397329e+00]\n",
      " [ 6.21719391e+00]\n",
      " [ 4.45263405e+00]\n",
      " [ 6.65012529e+00]\n",
      " [ 1.55478247e+01]\n",
      " [ 2.01247797e+01]\n",
      " [-1.24720288e+01]\n",
      " [-1.43249073e+01]\n",
      " [-1.52829276e+01]\n",
      " [ 1.45458730e+01]\n",
      " [-3.48300275e+00]\n",
      " [-8.09952367e+00]\n",
      " [-7.90703034e+00]\n",
      " [-8.94734684e+00]\n",
      " [-4.65302857e+00]\n",
      " [-6.63781927e+00]\n",
      " [-4.72050725e+00]\n",
      " [-4.82928096e+00]\n",
      " [-9.21316460e+00]\n",
      " [-6.59318216e+00]\n",
      " [-4.76183252e-01]\n",
      " [-9.08757986e+00]\n",
      " [ 1.79117344e+01]\n",
      " [-2.24125613e+01]\n",
      " [-6.99044139e+00]\n",
      " [ 9.82767828e+00]\n",
      " [ 1.03101339e+01]\n",
      " [ 4.60707937e+00]\n",
      " [ 1.65361962e+01]\n",
      " [-7.23225152e+01]\n",
      " [ 6.02745325e+01]\n",
      " [ 2.86583755e+01]\n",
      " [-7.46851377e+00]\n",
      " [ 5.38114652e+00]\n",
      " [ 4.79835185e+00]\n",
      " [ 1.75862567e+01]]\n"
     ]
    }
   ],
   "source": [
    "y_pred, y_std, kernel_params, noise_level = gpr_train(\n",
    "    kernel_rq, X_train, y_train, X_test\n",
    ")"
   ]
  },
  {
   "cell_type": "code",
   "execution_count": null,
   "metadata": {},
   "outputs": [
    {
     "data": {
      "text/plain": [
       "array([39.01572173, 38.91134432, 37.49604381, 37.14398326, 36.63077499,\n",
       "       36.0100841 , 35.37064132, 35.3614806 , 35.28960022, 35.22009871,\n",
       "       34.91806031, 34.7134309 , 34.5515116 , 34.34352601, 34.10240669,\n",
       "       34.01292262, 33.88054194, 33.70833556, 33.58428161, 33.38404571,\n",
       "       33.28301677, 33.26192657, 33.25145242, 33.19977287, 33.01310576,\n",
       "       32.83410979, 32.68383545, 32.60266694, 32.52922417, 32.45284832,\n",
       "       32.31853181, 32.26905005, 32.20907126, 32.18862802, 32.17959337,\n",
       "       32.16834388, 32.16385762, 32.13488297, 32.10403344, 32.08439099,\n",
       "       32.03911919, 31.94256939, 31.91998917, 31.88748022, 31.86135232,\n",
       "       31.75928705, 31.69643813, 31.60021977, 31.58028597, 31.53372715,\n",
       "       31.50545491, 31.40527716, 31.32330754, 31.23560024, 31.22442288,\n",
       "       31.15668721, 31.11494329, 31.07529765, 30.98578493, 30.96090484,\n",
       "       26.92125373, 26.9032981 , 26.90016486, 26.89658728, 26.87208522,\n",
       "       26.85260048, 26.84245623, 26.83541583, 26.82575725, 26.80651588,\n",
       "       26.78087201, 26.76617503, 26.75712676, 26.73310636, 26.71264166,\n",
       "       26.70329995, 26.69525118, 26.6745748 , 26.65025014, 26.64732526,\n",
       "       26.63981483, 26.62774688, 26.62027632, 26.60125362, 26.5872564 ,\n",
       "       26.58150831, 26.55738254, 26.53543939, 26.5116134 , 26.51000366,\n",
       "       26.48954112, 26.48314493, 26.46124264, 26.44974657, 26.42922266,\n",
       "       26.40724762, 26.38890532, 26.37879778, 26.37026695, 26.36678277,\n",
       "       26.35442132, 26.34902626, 26.34748627, 26.3279079 , 26.32522881,\n",
       "       26.30995718, 26.28716836, 26.26527304, 26.24425614, 26.2274545 ,\n",
       "       26.22038355, 26.21703891, 26.20258066, 26.20073116, 26.19444984,\n",
       "       26.19112879, 26.18155153, 26.16100829, 26.16064249, 26.14130734,\n",
       "       26.13985222, 26.12641972, 26.12388398, 26.11881775, 26.09898237,\n",
       "       26.09430968, 26.09071936, 26.081401  , 26.06996474, 26.06390375,\n",
       "       26.05571954, 26.04684439, 26.02704192, 26.02492658, 26.00769696,\n",
       "       26.00489166, 25.99159582, 25.98217811, 25.96168278, 25.94647268,\n",
       "       25.94405872, 25.94233544, 25.93373123, 25.9145311 , 25.89611189,\n",
       "       25.8927111 ])"
      ]
     },
     "execution_count": 66,
     "metadata": {},
     "output_type": "execute_result"
    }
   ],
   "source": [
    "y_pred\n"
   ]
  },
  {
   "cell_type": "code",
   "execution_count": null,
   "metadata": {},
   "outputs": [
    {
     "data": {
      "application/vnd.plotly.v1+json": {
       "config": {
        "plotlyServerURL": "https://plot.ly"
       },
       "data": [
        {
         "mode": "markers",
         "name": "Training data",
         "type": "scatter",
         "x": [
          1686083760,
          1686085560,
          1686087420,
          1686089220,
          1686091020,
          1686092820,
          1686094680,
          1686096480,
          1686098280,
          1686100080,
          1686101940,
          1686103740,
          1686105540,
          1686107400,
          1686109200,
          1686111000,
          1686112860,
          1686114660,
          1686116460,
          1686118260,
          1686120120,
          1686121920,
          1686123720,
          1686125580,
          1686127380,
          1686129180,
          1686131040,
          1686132840,
          1686134640,
          1686136440,
          1686138300,
          1686140100,
          1686141900,
          1686143760,
          1686145560,
          1686147360,
          1686149220,
          1686151020,
          1686152820,
          1686154620,
          1686156480,
          1686158280,
          1686160080,
          1686161880,
          1686163740,
          1686165540,
          1686167340,
          1686169200,
          1686171000,
          1686172800,
          1686174660,
          1686176460,
          1686178260,
          1686180120,
          1686181920,
          1686183720,
          1686185520,
          1686187380,
          1686189180,
          1686190980,
          1686192780,
          1686194640,
          1686196440,
          1686198240,
          1686200040,
          1686201900,
          1686203700,
          1686205500,
          1686207300,
          1686209160,
          1686210960,
          1686212760,
          1686214620,
          1686216420,
          1686218220,
          1686220020,
          1686221820,
          1686223680,
          1686225480,
          1686227280,
          1686229080,
          1686230940,
          1686232740,
          1686234540,
          1686236340,
          1686238200,
          1686240000,
          1686241800,
          1686243660,
          1686245460,
          1686247260,
          1686249060,
          1686250920,
          1686252720,
          1686254520,
          1686256380,
          1686258180,
          1686259980,
          1686261780,
          1686263580,
          1686314640,
          1686316500,
          1686318300,
          1686320100,
          1686321960,
          1686323760,
          1686325560,
          1686327420,
          1686329220,
          1686344580,
          1686346440,
          1686348240,
          1686350040,
          1686351840,
          1686353700,
          1686355500,
          1686357300,
          1686359100,
          1686360960,
          1686362760,
          1686364560,
          1686366420,
          1686368220,
          1686370020,
          1686371820,
          1686373680,
          1686375480,
          1686377280,
          1686379080,
          1686380940,
          1686382740,
          1686384540,
          1686386400,
          1686388200,
          1686390000,
          1686391800,
          1686393600,
          1686395460,
          1686397260,
          1686399060,
          1686400860,
          1686402720,
          1686404520,
          1686406320,
          1686408120,
          1686409980,
          1686411780,
          1686413580,
          1686415380,
          1686417240,
          1686419040,
          1686420840,
          1686422640,
          1686424500,
          1686426300,
          1686428100,
          1686429900,
          1686431700,
          1686433560,
          1686435360,
          1686437160,
          1686438960,
          1686440760,
          1686442620,
          1686444420,
          1686446220,
          1686448080,
          1686449880,
          1686451680,
          1686453540,
          1686455340,
          1686457140,
          1686458940,
          1686460800,
          1686462600,
          1686464400,
          1686466200,
          1686468060,
          1686469860,
          1686471660,
          1686473460,
          1686475320,
          1686477120,
          1686478920,
          1686480720,
          1686482580,
          1686484380,
          1686486180,
          1686487980,
          1686489840,
          1686491640,
          1686493440,
          1686495240,
          1686497100,
          1686498900,
          1686500700,
          1686502560,
          1686504360,
          1686506160,
          1686507960,
          1686509760,
          1686511620,
          1686513420,
          1686515220,
          1686517020,
          1686518820,
          1686520680,
          1686522480,
          1686524280,
          1686574320,
          1686576180,
          1686577980,
          1686579780,
          1686581640,
          1686583440,
          1686585240,
          1686589260,
          1686591060,
          1686592920,
          1686594720,
          1686596520,
          1686598380,
          1686600180,
          1686601980,
          1686603780,
          1686605640,
          1686607440,
          1686614700,
          1686618360,
          1686620160,
          1686621960,
          1686625620,
          1686627420,
          1686629220,
          1686631080,
          1686632880,
          1686634680,
          1686636480,
          1686638340,
          1686640140,
          1686641940,
          1686643800,
          1686645600,
          1686647400,
          1686649200,
          1686651060,
          1686652860,
          1686654660,
          1686656520,
          1686658320,
          1686660120,
          1686661920,
          1686663780,
          1686665580,
          1686667380,
          1686669240,
          1686671040,
          1686672840,
          1686676500,
          1686678300,
          1686680160,
          1686682020,
          1686683820,
          1686685620,
          1686687420,
          1686689280,
          1686691080,
          1686692880,
          1686694740,
          1686698340,
          1686700140,
          1686702000,
          1686703800,
          1686705600,
          1686707400,
          1686709260,
          1686711060,
          1686712860,
          1686714720,
          1686716520,
          1686718320,
          1686720120,
          1686721980,
          1686723780,
          1686725580,
          1686727440,
          1686729240,
          1686731040,
          1686732840,
          1686734700,
          1686736500,
          1686738300,
          1686740160,
          1686741960,
          1686743760,
          1686745560,
          1686747420,
          1686749220,
          1686751020,
          1687013880,
          1687015740,
          1687017540,
          1687019340,
          1687021140,
          1687023000,
          1687024800,
          1687026600,
          1687028460,
          1687030260,
          1687032060,
          1687033860,
          1687035720,
          1687037520,
          1687039320,
          1687041120,
          1687042980,
          1687044780,
          1687046580,
          1687048440,
          1687050240,
          1687052040,
          1687053900,
          1687055700,
          1687057500,
          1687059360,
          1687061160,
          1687062960,
          1687064760,
          1687066620,
          1687068420,
          1687070220,
          1687072020,
          1687073880,
          1687075680,
          1687077480,
          1687079340,
          1687081140,
          1687082940,
          1687084800,
          1687086600,
          1687088400,
          1687090200,
          1687092060,
          1687185180,
          1687185240,
          1687186380,
          1687189320,
          1687191120,
          1687191720,
          1687192260
         ],
         "y": [
          [
           31
          ],
          [
           28
          ],
          [
           22
          ],
          [
           27
          ],
          [
           26
          ],
          [
           19
          ],
          [
           21
          ],
          [
           22
          ],
          [
           24
          ],
          [
           16
          ],
          [
           20
          ],
          [
           21
          ],
          [
           20
          ],
          [
           22
          ],
          [
           20
          ],
          [
           21
          ],
          [
           22
          ],
          [
           24
          ],
          [
           24
          ],
          [
           24
          ],
          [
           21
          ],
          [
           24
          ],
          [
           18
          ],
          [
           33
          ],
          [
           34
          ],
          [
           44
          ],
          [
           46
          ],
          [
           46
          ],
          [
           42
          ],
          [
           43
          ],
          [
           44
          ],
          [
           39
          ],
          [
           43
          ],
          [
           42
          ],
          [
           39
          ],
          [
           35
          ],
          [
           39
          ],
          [
           40
          ],
          [
           38
          ],
          [
           38
          ],
          [
           39
          ],
          [
           36
          ],
          [
           37
          ],
          [
           40
          ],
          [
           34
          ],
          [
           43
          ],
          [
           39
          ],
          [
           39
          ],
          [
           37
          ],
          [
           35
          ],
          [
           27
          ],
          [
           21
          ],
          [
           27
          ],
          [
           26
          ],
          [
           24
          ],
          [
           25
          ],
          [
           27
          ],
          [
           30
          ],
          [
           30
          ],
          [
           31
          ],
          [
           28
          ],
          [
           26
          ],
          [
           31
          ],
          [
           31
          ],
          [
           36
          ],
          [
           34
          ],
          [
           35
          ],
          [
           33
          ],
          [
           32
          ],
          [
           33
          ],
          [
           30
          ],
          [
           29
          ],
          [
           37
          ],
          [
           41
          ],
          [
           44
          ],
          [
           43
          ],
          [
           42
          ],
          [
           39
          ],
          [
           40
          ],
          [
           49
          ],
          [
           35
          ],
          [
           40
          ],
          [
           42
          ],
          [
           45
          ],
          [
           40
          ],
          [
           35
          ],
          [
           41
          ],
          [
           38
          ],
          [
           33
          ],
          [
           42
          ],
          [
           42
          ],
          [
           39
          ],
          [
           37
          ],
          [
           36
          ],
          [
           24
          ],
          [
           24
          ],
          [
           21
          ],
          [
           20
          ],
          [
           13
          ],
          [
           13
          ],
          [
           1
          ],
          [
           0
          ],
          [
           0
          ],
          [
           2
          ],
          [
           7
          ],
          [
           5
          ],
          [
           3
          ],
          [
           4
          ],
          [
           5
          ],
          [
           7
          ],
          [
           3
          ],
          [
           2
          ],
          [
           5
          ],
          [
           8
          ],
          [
           9
          ],
          [
           12
          ],
          [
           14
          ],
          [
           13
          ],
          [
           11
          ],
          [
           12
          ],
          [
           9
          ],
          [
           7
          ],
          [
           4
          ],
          [
           4
          ],
          [
           4
          ],
          [
           4
          ],
          [
           4
          ],
          [
           5
          ],
          [
           4
          ],
          [
           4
          ],
          [
           5
          ],
          [
           8
          ],
          [
           12
          ],
          [
           10
          ],
          [
           9
          ],
          [
           21
          ],
          [
           23
          ],
          [
           23
          ],
          [
           22
          ],
          [
           20
          ],
          [
           29
          ],
          [
           33
          ],
          [
           24
          ],
          [
           26
          ],
          [
           32
          ],
          [
           27
          ],
          [
           20
          ],
          [
           29
          ],
          [
           25
          ],
          [
           26
          ],
          [
           34
          ],
          [
           34
          ],
          [
           33
          ],
          [
           49
          ],
          [
           45
          ],
          [
           37
          ],
          [
           37
          ],
          [
           30
          ],
          [
           37
          ],
          [
           32
          ],
          [
           39
          ],
          [
           42
          ],
          [
           42
          ],
          [
           37
          ],
          [
           37
          ],
          [
           35
          ],
          [
           33
          ],
          [
           32
          ],
          [
           32
          ],
          [
           23
          ],
          [
           22
          ],
          [
           23
          ],
          [
           23
          ],
          [
           25
          ],
          [
           24
          ],
          [
           20
          ],
          [
           24
          ],
          [
           24
          ],
          [
           23
          ],
          [
           22
          ],
          [
           20
          ],
          [
           21
          ],
          [
           19
          ],
          [
           17
          ],
          [
           20
          ],
          [
           20
          ],
          [
           23
          ],
          [
           19
          ],
          [
           23
          ],
          [
           35
          ],
          [
           29
          ],
          [
           25
          ],
          [
           24
          ],
          [
           25
          ],
          [
           28
          ],
          [
           40
          ],
          [
           32
          ],
          [
           27
          ],
          [
           27
          ],
          [
           40
          ],
          [
           33
          ],
          [
           32
          ],
          [
           37
          ],
          [
           35
          ],
          [
           33
          ],
          [
           28
          ],
          [
           30
          ],
          [
           24
          ],
          [
           19
          ],
          [
           38
          ],
          [
           43
          ],
          [
           41
          ],
          [
           42
          ],
          [
           43
          ],
          [
           42
          ],
          [
           41
          ],
          [
           47
          ],
          [
           45
          ],
          [
           42
          ],
          [
           41
          ],
          [
           46
          ],
          [
           46
          ],
          [
           46
          ],
          [
           48
          ],
          [
           33
          ],
          [
           37
          ],
          [
           35
          ],
          [
           33
          ],
          [
           33
          ],
          [
           29
          ],
          [
           29
          ],
          [
           30
          ],
          [
           29
          ],
          [
           30
          ],
          [
           30
          ],
          [
           32
          ],
          [
           32
          ],
          [
           31
          ],
          [
           29
          ],
          [
           20
          ],
          [
           23
          ],
          [
           28
          ],
          [
           27
          ],
          [
           36
          ],
          [
           35
          ],
          [
           46
          ],
          [
           42
          ],
          [
           35
          ],
          [
           42
          ],
          [
           38
          ],
          [
           35
          ],
          [
           39
          ],
          [
           39
          ],
          [
           29
          ],
          [
           52
          ],
          [
           39
          ],
          [
           53
          ],
          [
           42
          ],
          [
           44
          ],
          [
           43
          ],
          [
           51
          ],
          [
           40
          ],
          [
           46
          ],
          [
           44
          ],
          [
           46
          ],
          [
           40
          ],
          [
           41
          ],
          [
           47
          ],
          [
           39
          ],
          [
           32
          ],
          [
           35
          ],
          [
           40
          ],
          [
           42
          ],
          [
           37
          ],
          [
           42
          ],
          [
           46
          ],
          [
           45
          ],
          [
           40
          ],
          [
           45
          ],
          [
           35
          ],
          [
           43
          ],
          [
           42
          ],
          [
           40
          ],
          [
           29
          ],
          [
           34
          ],
          [
           42
          ],
          [
           48
          ],
          [
           47
          ],
          [
           51
          ],
          [
           43
          ],
          [
           44
          ],
          [
           44
          ],
          [
           46
          ],
          [
           45
          ],
          [
           46
          ],
          [
           47
          ],
          [
           47
          ],
          [
           42
          ],
          [
           54
          ],
          [
           54
          ],
          [
           50
          ],
          [
           41
          ],
          [
           44
          ],
          [
           51
          ],
          [
           48
          ],
          [
           40
          ],
          [
           50
          ],
          [
           35
          ],
          [
           40
          ],
          [
           42
          ],
          [
           43
          ],
          [
           44
          ],
          [
           45
          ],
          [
           43
          ],
          [
           44
          ],
          [
           45
          ],
          [
           44
          ],
          [
           45
          ],
          [
           49
          ],
          [
           49
          ],
          [
           29
          ],
          [
           25
          ],
          [
           24
          ],
          [
           39
          ],
          [
           29
          ],
          [
           25
          ],
          [
           24
          ],
          [
           23
          ],
          [
           25
          ],
          [
           24
          ],
          [
           25
          ],
          [
           25
          ],
          [
           23
          ],
          [
           25
          ],
          [
           29
          ],
          [
           26
          ],
          [
           40
          ],
          [
           20
          ],
          [
           29
          ],
          [
           40
          ],
          [
           42
          ],
          [
           40
          ],
          [
           46
          ],
          [
           24
          ],
          [
           45
          ],
          [
           54
          ],
          [
           36
          ],
          [
           44
          ],
          [
           45
          ],
          [
           50
          ]
         ]
        },
        {
         "mode": "lines",
         "name": "Predicted values",
         "type": "scatter",
         "x": [
          1687194600,
          1687194720,
          1687197120,
          1687198020,
          1687199640,
          1687202220,
          1687205820,
          1687205880,
          1687206360,
          1687206840,
          1687209120,
          1687210860,
          1687212360,
          1687214460,
          1687217160,
          1687218240,
          1687219920,
          1687222260,
          1687224060,
          1687227180,
          1687228860,
          1687229220,
          1687229400,
          1687230300,
          1687233720,
          1687237260,
          1687240440,
          1687242240,
          1687243920,
          1687245720,
          1687249020,
          1687250280,
          1687251840,
          1687252380,
          1687252620,
          1687252920,
          1687253040,
          1687253820,
          1687254660,
          1687255200,
          1687256460,
          1687259220,
          1687259880,
          1687260840,
          1687261620,
          1687264740,
          1687266720,
          1687269840,
          1687270500,
          1687272060,
          1687273020,
          1687276500,
          1687279440,
          1687282680,
          1687283100,
          1687285680,
          1687287300,
          1687288860,
          1687292460,
          1687293480,
          1687616340,
          1687618740,
          1687619160,
          1687619640,
          1687622940,
          1687625580,
          1687626960,
          1687627920,
          1687629240,
          1687631880,
          1687635420,
          1687637460,
          1687638720,
          1687642080,
          1687644960,
          1687646280,
          1687647420,
          1687650360,
          1687653840,
          1687654260,
          1687655340,
          1687657080,
          1687658160,
          1687660920,
          1687662960,
          1687663800,
          1687667340,
          1687670580,
          1687674120,
          1687674360,
          1687677420,
          1687678380,
          1687681680,
          1687683420,
          1687686540,
          1687689900,
          1687692720,
          1687694280,
          1687695600,
          1687696140,
          1687698060,
          1687698900,
          1687699140,
          1687702200,
          1687702620,
          1687705020,
          1687708620,
          1687712100,
          1687715460,
          1687718160,
          1687719300,
          1687719840,
          1687722180,
          1687722480,
          1687723500,
          1687724040,
          1687725600,
          1687728960,
          1687729020,
          1687732200,
          1687732440,
          1687734660,
          1687735080,
          1687735920,
          1687739220,
          1687740000,
          1687740600,
          1687742160,
          1687744080,
          1687745100,
          1687746480,
          1687747980,
          1687751340,
          1687751700,
          1687754640,
          1687755120,
          1687757400,
          1687759020,
          1687762560,
          1687765200,
          1687765620,
          1687765920,
          1687767420,
          1687770780,
          1687774020,
          1687774620
         ],
         "y": [
          39.015721729146634,
          38.9113443247873,
          37.49604380698982,
          37.14398325716199,
          36.630774991141394,
          36.01008409993884,
          35.37064131558369,
          35.36148060221159,
          35.289600223651554,
          35.22009871277126,
          34.91806030999688,
          34.713430904026474,
          34.55151159655105,
          34.34352600734694,
          34.10240668944409,
          34.012922615884825,
          33.8805419393408,
          33.70833555603867,
          33.58428160590428,
          33.38404570916105,
          33.28301676513079,
          33.26192656609413,
          33.251452418281374,
          33.199772872270664,
          33.01310575725764,
          32.83410979432677,
          32.683835450841265,
          32.60266694449953,
          32.52922417112783,
          32.45284831681929,
          32.318531807610746,
          32.26905005038569,
          32.20907125628197,
          32.18862801624714,
          32.17959337215444,
          32.168343883740974,
          32.163857621759135,
          32.134882970328576,
          32.10403344159483,
          32.08439099140862,
          32.039119187025406,
          31.94256938747801,
          31.91998917430501,
          31.887480216814637,
          31.861352324247328,
          31.759287053355308,
          31.696438126971977,
          31.600219771279786,
          31.580285967798286,
          31.53372714712999,
          31.505454912336738,
          31.405277156835115,
          31.32330753806861,
          31.23560023651548,
          31.224422875345763,
          31.156687212478662,
          31.11494328656694,
          31.075297652902925,
          30.985784927876985,
          30.960904844202062,
          26.921253733982415,
          26.903298096613867,
          26.900164856781988,
          26.89658727808882,
          26.872085221639715,
          26.852600480235484,
          26.842456227487467,
          26.83541582946032,
          26.825757245391863,
          26.806515875837082,
          26.780872009229537,
          26.766175034611557,
          26.757126760531296,
          26.73310636209814,
          26.712641659181227,
          26.703299951461695,
          26.695251178071807,
          26.67457480398327,
          26.6502501382122,
          26.647325262704406,
          26.639814827936856,
          26.62774688169652,
          26.6202763206214,
          26.6012536175931,
          26.5872563992542,
          26.58150830528524,
          26.55738254457919,
          26.53543938613452,
          26.511613400456838,
          26.51000366163337,
          26.489541117582338,
          26.483144927792214,
          26.461242637915387,
          26.44974656507008,
          26.42922266110053,
          26.407247617238575,
          26.388905322114272,
          26.37879778114888,
          26.370266946010453,
          26.366782769369994,
          26.354421322362942,
          26.34902626327314,
          26.34748627446953,
          26.327907897318354,
          26.32522880937608,
          26.30995717730374,
          26.287168357021624,
          26.265273036424038,
          26.244256144162808,
          26.22745450322458,
          26.220383550123266,
          26.21703890970644,
          26.202580659543827,
          26.200731159017568,
          26.194449835238366,
          26.191128785539252,
          26.18155152798977,
          26.161008291061528,
          26.160642493245653,
          26.141307338673617,
          26.139852218973594,
          26.12641972152503,
          26.12388397591283,
          26.11881775088305,
          26.09898236909409,
          26.094309680408905,
          26.09071936228486,
          26.08140099693338,
          26.069964740406473,
          26.063903746455985,
          26.055719538533513,
          26.04684439265608,
          26.02704192100705,
          26.024926577646557,
          26.007696957568008,
          26.00489165778619,
          25.991595823645152,
          25.98217810738212,
          25.96168278367981,
          25.946472678022182,
          25.94405872075803,
          25.942335442415715,
          25.933731233629967,
          25.914531102072758,
          25.896111886332648,
          25.892711102815994
         ]
        },
        {
         "line": {
          "width": 0
         },
         "mode": "lines",
         "name": "Lower bound",
         "type": "scatter",
         "x": [
          1687194600,
          1687194720,
          1687197120,
          1687198020,
          1687199640,
          1687202220,
          1687205820,
          1687205880,
          1687206360,
          1687206840,
          1687209120,
          1687210860,
          1687212360,
          1687214460,
          1687217160,
          1687218240,
          1687219920,
          1687222260,
          1687224060,
          1687227180,
          1687228860,
          1687229220,
          1687229400,
          1687230300,
          1687233720,
          1687237260,
          1687240440,
          1687242240,
          1687243920,
          1687245720,
          1687249020,
          1687250280,
          1687251840,
          1687252380,
          1687252620,
          1687252920,
          1687253040,
          1687253820,
          1687254660,
          1687255200,
          1687256460,
          1687259220,
          1687259880,
          1687260840,
          1687261620,
          1687264740,
          1687266720,
          1687269840,
          1687270500,
          1687272060,
          1687273020,
          1687276500,
          1687279440,
          1687282680,
          1687283100,
          1687285680,
          1687287300,
          1687288860,
          1687292460,
          1687293480,
          1687616340,
          1687618740,
          1687619160,
          1687619640,
          1687622940,
          1687625580,
          1687626960,
          1687627920,
          1687629240,
          1687631880,
          1687635420,
          1687637460,
          1687638720,
          1687642080,
          1687644960,
          1687646280,
          1687647420,
          1687650360,
          1687653840,
          1687654260,
          1687655340,
          1687657080,
          1687658160,
          1687660920,
          1687662960,
          1687663800,
          1687667340,
          1687670580,
          1687674120,
          1687674360,
          1687677420,
          1687678380,
          1687681680,
          1687683420,
          1687686540,
          1687689900,
          1687692720,
          1687694280,
          1687695600,
          1687696140,
          1687698060,
          1687698900,
          1687699140,
          1687702200,
          1687702620,
          1687705020,
          1687708620,
          1687712100,
          1687715460,
          1687718160,
          1687719300,
          1687719840,
          1687722180,
          1687722480,
          1687723500,
          1687724040,
          1687725600,
          1687728960,
          1687729020,
          1687732200,
          1687732440,
          1687734660,
          1687735080,
          1687735920,
          1687739220,
          1687740000,
          1687740600,
          1687742160,
          1687744080,
          1687745100,
          1687746480,
          1687747980,
          1687751340,
          1687751700,
          1687754640,
          1687755120,
          1687757400,
          1687759020,
          1687762560,
          1687765200,
          1687765620,
          1687765920,
          1687767420,
          1687770780,
          1687774020,
          1687774620
         ],
         "y": [
          38.19240563842436,
          38.086144759267896,
          36.64737195055072,
          36.29004275435462,
          35.769545309513916,
          35.14064796682936,
          34.49343489279648,
          34.484167824149885,
          34.41145772951476,
          34.34116205397549,
          34.0357639909213,
          33.82894197761529,
          33.665334705797456,
          33.45524079987633,
          33.21175979448976,
          33.1214213221293,
          32.98779814421126,
          32.814013111307695,
          32.68884774997667,
          32.486862316377426,
          32.38497094470069,
          32.363702394716206,
          32.35313988584439,
          32.30102643752561,
          32.112820298602635,
          31.932388936036315,
          31.780938940202862,
          31.69914625742835,
          31.625145115574856,
          31.54819492495951,
          31.41288368229839,
          31.363040285646427,
          31.302626542322287,
          31.28203589801059,
          31.272936246116984,
          31.261605929141762,
          31.257087468758893,
          31.227905352643205,
          31.196835861659146,
          31.177053852343686,
          31.131461847127017,
          31.034235847816596,
          31.011498785387502,
          30.978764860929985,
          30.95245688176144,
          30.849694209093325,
          30.786420581055303,
          30.689558867195604,
          30.669492795514135,
          30.622626381135614,
          30.594168272993898,
          30.493337349288726,
          30.41083947609132,
          30.32257296868914,
          30.31132478284125,
          30.243162013409023,
          30.201156644262817,
          30.16126394359261,
          30.071197740074833,
          30.046164873753256,
          25.985968182440946,
          25.967933956894385,
          25.964787010819435,
          25.961193784788755,
          25.93658463881985,
          25.91701483055537,
          25.90682632254537,
          25.899755223233335,
          25.89005453811158,
          25.87072935674478,
          25.844973913513932,
          25.830213055368322,
          25.82112547378793,
          25.79700080965506,
          25.77644737067193,
          25.767065185805475,
          25.758981552011434,
          25.738215686932303,
          25.71378585222526,
          25.71084833901923,
          25.703305461417482,
          25.691185409272688,
          25.6836826072694,
          25.664577858261957,
          25.65052031560424,
          25.644747460230555,
          25.620517843390303,
          25.598480324648623,
          25.57455198942808,
          25.572935339641763,
          25.552384989405333,
          25.54596136981742,
          25.523965212788333,
          25.51241990792224,
          25.491808173092096,
          25.469739177211174,
          25.451318531467486,
          25.44116784237254,
          25.43260060481742,
          25.429101564562146,
          25.416687401480434,
          25.41126934378051,
          25.40972279114721,
          25.390061004207478,
          25.387370508054033,
          25.37203387087818,
          25.349148127406483,
          25.32715977290423,
          25.306053660822013,
          25.28918075157635,
          25.282079820393466,
          25.278721003116463,
          25.264201491978607,
          25.262344157623655,
          25.256036232911157,
          25.252701121640513,
          25.243083324187253,
          25.22245318358078,
          25.222085839008642,
          25.202668960088662,
          25.201207692639755,
          25.187718461492977,
          25.18517200938158,
          25.18008439692372,
          25.16016532131893,
          25.155472926455055,
          25.151867469391824,
          25.142509822519187,
          25.131025376801325,
          25.12493885255573,
          25.11672018078716,
          25.10780767435436,
          25.08792189078833,
          25.085797651772314,
          25.06849560392232,
          25.065678516269404,
          25.05232683088839,
          25.04286957183032,
          25.02228824383916,
          25.007014356984513,
          25.004590280663898,
          25.002859779103577,
          24.994219512570382,
          24.974938962410953,
          24.95644265520236,
          24.953027644110797
         ]
        },
        {
         "fill": "tonexty",
         "mode": "lines",
         "name": "Upper bound",
         "type": "scatter",
         "x": [
          1687194600,
          1687194720,
          1687197120,
          1687198020,
          1687199640,
          1687202220,
          1687205820,
          1687205880,
          1687206360,
          1687206840,
          1687209120,
          1687210860,
          1687212360,
          1687214460,
          1687217160,
          1687218240,
          1687219920,
          1687222260,
          1687224060,
          1687227180,
          1687228860,
          1687229220,
          1687229400,
          1687230300,
          1687233720,
          1687237260,
          1687240440,
          1687242240,
          1687243920,
          1687245720,
          1687249020,
          1687250280,
          1687251840,
          1687252380,
          1687252620,
          1687252920,
          1687253040,
          1687253820,
          1687254660,
          1687255200,
          1687256460,
          1687259220,
          1687259880,
          1687260840,
          1687261620,
          1687264740,
          1687266720,
          1687269840,
          1687270500,
          1687272060,
          1687273020,
          1687276500,
          1687279440,
          1687282680,
          1687283100,
          1687285680,
          1687287300,
          1687288860,
          1687292460,
          1687293480,
          1687616340,
          1687618740,
          1687619160,
          1687619640,
          1687622940,
          1687625580,
          1687626960,
          1687627920,
          1687629240,
          1687631880,
          1687635420,
          1687637460,
          1687638720,
          1687642080,
          1687644960,
          1687646280,
          1687647420,
          1687650360,
          1687653840,
          1687654260,
          1687655340,
          1687657080,
          1687658160,
          1687660920,
          1687662960,
          1687663800,
          1687667340,
          1687670580,
          1687674120,
          1687674360,
          1687677420,
          1687678380,
          1687681680,
          1687683420,
          1687686540,
          1687689900,
          1687692720,
          1687694280,
          1687695600,
          1687696140,
          1687698060,
          1687698900,
          1687699140,
          1687702200,
          1687702620,
          1687705020,
          1687708620,
          1687712100,
          1687715460,
          1687718160,
          1687719300,
          1687719840,
          1687722180,
          1687722480,
          1687723500,
          1687724040,
          1687725600,
          1687728960,
          1687729020,
          1687732200,
          1687732440,
          1687734660,
          1687735080,
          1687735920,
          1687739220,
          1687740000,
          1687740600,
          1687742160,
          1687744080,
          1687745100,
          1687746480,
          1687747980,
          1687751340,
          1687751700,
          1687754640,
          1687755120,
          1687757400,
          1687759020,
          1687762560,
          1687765200,
          1687765620,
          1687765920,
          1687767420,
          1687770780,
          1687774020,
          1687774620
         ],
         "y": [
          39.839037819868906,
          39.736543890306706,
          38.344715663428914,
          37.99792375996936,
          37.49200467276887,
          36.87952023304831,
          36.2478477383709,
          36.2387933802733,
          36.16774271778835,
          36.099035371567034,
          35.80035662907246,
          35.59791983043766,
          35.43768848730465,
          35.23181121481755,
          34.99305358439842,
          34.90442390964035,
          34.77328573447034,
          34.602658000769644,
          34.479715461831894,
          34.281229101944675,
          34.18106258556089,
          34.16015073747206,
          34.14976495071836,
          34.09851930701572,
          33.91339121591265,
          33.735830652617224,
          33.586731961479664,
          33.50618763157071,
          33.4333032266808,
          33.357501708679074,
          33.2241799329231,
          33.175059815124946,
          33.11551597024166,
          33.09522013448368,
          33.0862504981919,
          33.07508183834019,
          33.07062777475938,
          33.04186058801395,
          33.01123102153051,
          32.99172813047355,
          32.94677652692379,
          32.85090292713942,
          32.828479563222515,
          32.79619557269929,
          32.77024776673322,
          32.66887989761729,
          32.60645567288865,
          32.51088067536397,
          32.49107914008244,
          32.44482791312437,
          32.41674155167958,
          32.31721696438151,
          32.235775600045905,
          32.14862750434182,
          32.13752096785027,
          32.070212411548304,
          32.028729928871066,
          31.989331362213242,
          31.900372115679136,
          31.87564481465087,
          27.856539285523883,
          27.83866223633335,
          27.83554270274454,
          27.831980771388885,
          27.80758580445958,
          27.788186129915598,
          27.778086132429564,
          27.771076435687306,
          27.761459952672144,
          27.742302394929386,
          27.71677010494514,
          27.70213701385479,
          27.693128047274662,
          27.669211914541222,
          27.64883594769052,
          27.639534717117915,
          27.63152080413218,
          27.610933921034235,
          27.58671442419914,
          27.583802186389583,
          27.57632419445623,
          27.564308354120353,
          27.5568700339734,
          27.53792937692424,
          27.523992482904163,
          27.518269150339925,
          27.49424724576808,
          27.472398447620417,
          27.448674811485596,
          27.447071983624976,
          27.426697245759343,
          27.42032848576701,
          27.39852006304244,
          27.387073222217918,
          27.36663714910896,
          27.344756057265975,
          27.32649211276106,
          27.31642771992522,
          27.307933287203486,
          27.304463974177843,
          27.29215524324545,
          27.286783182765767,
          27.285249757791853,
          27.26575479042923,
          27.263087110698123,
          27.2478804837293,
          27.225188586636765,
          27.203386299943844,
          27.182458627503603,
          27.165728254872807,
          27.158687279853066,
          27.155356816296415,
          27.140959827109047,
          27.13911816041148,
          27.132863437565575,
          27.12955644943799,
          27.12001973179229,
          27.099563398542276,
          27.099199147482665,
          27.07994571725857,
          27.078496745307433,
          27.06512098155708,
          27.062595942444077,
          27.05755110484238,
          27.03779941686925,
          27.033146434362756,
          27.0295712551779,
          27.02029217134757,
          27.00890410401162,
          27.00286864035624,
          26.994718896279867,
          26.985881110957802,
          26.96616195122577,
          26.9640555035208,
          26.946898311213697,
          26.944104799302973,
          26.930864816401915,
          26.921486642933917,
          26.901077323520457,
          26.885930999059852,
          26.88352716085216,
          26.881811105727852,
          26.87324295468955,
          26.854123241734563,
          26.835781117462936,
          26.83239456152119
         ]
        }
       ],
       "layout": {
        "template": {
         "data": {
          "bar": [
           {
            "error_x": {
             "color": "#2a3f5f"
            },
            "error_y": {
             "color": "#2a3f5f"
            },
            "marker": {
             "line": {
              "color": "#E5ECF6",
              "width": 0.5
             },
             "pattern": {
              "fillmode": "overlay",
              "size": 10,
              "solidity": 0.2
             }
            },
            "type": "bar"
           }
          ],
          "barpolar": [
           {
            "marker": {
             "line": {
              "color": "#E5ECF6",
              "width": 0.5
             },
             "pattern": {
              "fillmode": "overlay",
              "size": 10,
              "solidity": 0.2
             }
            },
            "type": "barpolar"
           }
          ],
          "carpet": [
           {
            "aaxis": {
             "endlinecolor": "#2a3f5f",
             "gridcolor": "white",
             "linecolor": "white",
             "minorgridcolor": "white",
             "startlinecolor": "#2a3f5f"
            },
            "baxis": {
             "endlinecolor": "#2a3f5f",
             "gridcolor": "white",
             "linecolor": "white",
             "minorgridcolor": "white",
             "startlinecolor": "#2a3f5f"
            },
            "type": "carpet"
           }
          ],
          "choropleth": [
           {
            "colorbar": {
             "outlinewidth": 0,
             "ticks": ""
            },
            "type": "choropleth"
           }
          ],
          "contour": [
           {
            "colorbar": {
             "outlinewidth": 0,
             "ticks": ""
            },
            "colorscale": [
             [
              0,
              "#0d0887"
             ],
             [
              0.1111111111111111,
              "#46039f"
             ],
             [
              0.2222222222222222,
              "#7201a8"
             ],
             [
              0.3333333333333333,
              "#9c179e"
             ],
             [
              0.4444444444444444,
              "#bd3786"
             ],
             [
              0.5555555555555556,
              "#d8576b"
             ],
             [
              0.6666666666666666,
              "#ed7953"
             ],
             [
              0.7777777777777778,
              "#fb9f3a"
             ],
             [
              0.8888888888888888,
              "#fdca26"
             ],
             [
              1,
              "#f0f921"
             ]
            ],
            "type": "contour"
           }
          ],
          "contourcarpet": [
           {
            "colorbar": {
             "outlinewidth": 0,
             "ticks": ""
            },
            "type": "contourcarpet"
           }
          ],
          "heatmap": [
           {
            "colorbar": {
             "outlinewidth": 0,
             "ticks": ""
            },
            "colorscale": [
             [
              0,
              "#0d0887"
             ],
             [
              0.1111111111111111,
              "#46039f"
             ],
             [
              0.2222222222222222,
              "#7201a8"
             ],
             [
              0.3333333333333333,
              "#9c179e"
             ],
             [
              0.4444444444444444,
              "#bd3786"
             ],
             [
              0.5555555555555556,
              "#d8576b"
             ],
             [
              0.6666666666666666,
              "#ed7953"
             ],
             [
              0.7777777777777778,
              "#fb9f3a"
             ],
             [
              0.8888888888888888,
              "#fdca26"
             ],
             [
              1,
              "#f0f921"
             ]
            ],
            "type": "heatmap"
           }
          ],
          "heatmapgl": [
           {
            "colorbar": {
             "outlinewidth": 0,
             "ticks": ""
            },
            "colorscale": [
             [
              0,
              "#0d0887"
             ],
             [
              0.1111111111111111,
              "#46039f"
             ],
             [
              0.2222222222222222,
              "#7201a8"
             ],
             [
              0.3333333333333333,
              "#9c179e"
             ],
             [
              0.4444444444444444,
              "#bd3786"
             ],
             [
              0.5555555555555556,
              "#d8576b"
             ],
             [
              0.6666666666666666,
              "#ed7953"
             ],
             [
              0.7777777777777778,
              "#fb9f3a"
             ],
             [
              0.8888888888888888,
              "#fdca26"
             ],
             [
              1,
              "#f0f921"
             ]
            ],
            "type": "heatmapgl"
           }
          ],
          "histogram": [
           {
            "marker": {
             "pattern": {
              "fillmode": "overlay",
              "size": 10,
              "solidity": 0.2
             }
            },
            "type": "histogram"
           }
          ],
          "histogram2d": [
           {
            "colorbar": {
             "outlinewidth": 0,
             "ticks": ""
            },
            "colorscale": [
             [
              0,
              "#0d0887"
             ],
             [
              0.1111111111111111,
              "#46039f"
             ],
             [
              0.2222222222222222,
              "#7201a8"
             ],
             [
              0.3333333333333333,
              "#9c179e"
             ],
             [
              0.4444444444444444,
              "#bd3786"
             ],
             [
              0.5555555555555556,
              "#d8576b"
             ],
             [
              0.6666666666666666,
              "#ed7953"
             ],
             [
              0.7777777777777778,
              "#fb9f3a"
             ],
             [
              0.8888888888888888,
              "#fdca26"
             ],
             [
              1,
              "#f0f921"
             ]
            ],
            "type": "histogram2d"
           }
          ],
          "histogram2dcontour": [
           {
            "colorbar": {
             "outlinewidth": 0,
             "ticks": ""
            },
            "colorscale": [
             [
              0,
              "#0d0887"
             ],
             [
              0.1111111111111111,
              "#46039f"
             ],
             [
              0.2222222222222222,
              "#7201a8"
             ],
             [
              0.3333333333333333,
              "#9c179e"
             ],
             [
              0.4444444444444444,
              "#bd3786"
             ],
             [
              0.5555555555555556,
              "#d8576b"
             ],
             [
              0.6666666666666666,
              "#ed7953"
             ],
             [
              0.7777777777777778,
              "#fb9f3a"
             ],
             [
              0.8888888888888888,
              "#fdca26"
             ],
             [
              1,
              "#f0f921"
             ]
            ],
            "type": "histogram2dcontour"
           }
          ],
          "mesh3d": [
           {
            "colorbar": {
             "outlinewidth": 0,
             "ticks": ""
            },
            "type": "mesh3d"
           }
          ],
          "parcoords": [
           {
            "line": {
             "colorbar": {
              "outlinewidth": 0,
              "ticks": ""
             }
            },
            "type": "parcoords"
           }
          ],
          "pie": [
           {
            "automargin": true,
            "type": "pie"
           }
          ],
          "scatter": [
           {
            "fillpattern": {
             "fillmode": "overlay",
             "size": 10,
             "solidity": 0.2
            },
            "type": "scatter"
           }
          ],
          "scatter3d": [
           {
            "line": {
             "colorbar": {
              "outlinewidth": 0,
              "ticks": ""
             }
            },
            "marker": {
             "colorbar": {
              "outlinewidth": 0,
              "ticks": ""
             }
            },
            "type": "scatter3d"
           }
          ],
          "scattercarpet": [
           {
            "marker": {
             "colorbar": {
              "outlinewidth": 0,
              "ticks": ""
             }
            },
            "type": "scattercarpet"
           }
          ],
          "scattergeo": [
           {
            "marker": {
             "colorbar": {
              "outlinewidth": 0,
              "ticks": ""
             }
            },
            "type": "scattergeo"
           }
          ],
          "scattergl": [
           {
            "marker": {
             "colorbar": {
              "outlinewidth": 0,
              "ticks": ""
             }
            },
            "type": "scattergl"
           }
          ],
          "scattermapbox": [
           {
            "marker": {
             "colorbar": {
              "outlinewidth": 0,
              "ticks": ""
             }
            },
            "type": "scattermapbox"
           }
          ],
          "scatterpolar": [
           {
            "marker": {
             "colorbar": {
              "outlinewidth": 0,
              "ticks": ""
             }
            },
            "type": "scatterpolar"
           }
          ],
          "scatterpolargl": [
           {
            "marker": {
             "colorbar": {
              "outlinewidth": 0,
              "ticks": ""
             }
            },
            "type": "scatterpolargl"
           }
          ],
          "scatterternary": [
           {
            "marker": {
             "colorbar": {
              "outlinewidth": 0,
              "ticks": ""
             }
            },
            "type": "scatterternary"
           }
          ],
          "surface": [
           {
            "colorbar": {
             "outlinewidth": 0,
             "ticks": ""
            },
            "colorscale": [
             [
              0,
              "#0d0887"
             ],
             [
              0.1111111111111111,
              "#46039f"
             ],
             [
              0.2222222222222222,
              "#7201a8"
             ],
             [
              0.3333333333333333,
              "#9c179e"
             ],
             [
              0.4444444444444444,
              "#bd3786"
             ],
             [
              0.5555555555555556,
              "#d8576b"
             ],
             [
              0.6666666666666666,
              "#ed7953"
             ],
             [
              0.7777777777777778,
              "#fb9f3a"
             ],
             [
              0.8888888888888888,
              "#fdca26"
             ],
             [
              1,
              "#f0f921"
             ]
            ],
            "type": "surface"
           }
          ],
          "table": [
           {
            "cells": {
             "fill": {
              "color": "#EBF0F8"
             },
             "line": {
              "color": "white"
             }
            },
            "header": {
             "fill": {
              "color": "#C8D4E3"
             },
             "line": {
              "color": "white"
             }
            },
            "type": "table"
           }
          ]
         },
         "layout": {
          "annotationdefaults": {
           "arrowcolor": "#2a3f5f",
           "arrowhead": 0,
           "arrowwidth": 1
          },
          "autotypenumbers": "strict",
          "coloraxis": {
           "colorbar": {
            "outlinewidth": 0,
            "ticks": ""
           }
          },
          "colorscale": {
           "diverging": [
            [
             0,
             "#8e0152"
            ],
            [
             0.1,
             "#c51b7d"
            ],
            [
             0.2,
             "#de77ae"
            ],
            [
             0.3,
             "#f1b6da"
            ],
            [
             0.4,
             "#fde0ef"
            ],
            [
             0.5,
             "#f7f7f7"
            ],
            [
             0.6,
             "#e6f5d0"
            ],
            [
             0.7,
             "#b8e186"
            ],
            [
             0.8,
             "#7fbc41"
            ],
            [
             0.9,
             "#4d9221"
            ],
            [
             1,
             "#276419"
            ]
           ],
           "sequential": [
            [
             0,
             "#0d0887"
            ],
            [
             0.1111111111111111,
             "#46039f"
            ],
            [
             0.2222222222222222,
             "#7201a8"
            ],
            [
             0.3333333333333333,
             "#9c179e"
            ],
            [
             0.4444444444444444,
             "#bd3786"
            ],
            [
             0.5555555555555556,
             "#d8576b"
            ],
            [
             0.6666666666666666,
             "#ed7953"
            ],
            [
             0.7777777777777778,
             "#fb9f3a"
            ],
            [
             0.8888888888888888,
             "#fdca26"
            ],
            [
             1,
             "#f0f921"
            ]
           ],
           "sequentialminus": [
            [
             0,
             "#0d0887"
            ],
            [
             0.1111111111111111,
             "#46039f"
            ],
            [
             0.2222222222222222,
             "#7201a8"
            ],
            [
             0.3333333333333333,
             "#9c179e"
            ],
            [
             0.4444444444444444,
             "#bd3786"
            ],
            [
             0.5555555555555556,
             "#d8576b"
            ],
            [
             0.6666666666666666,
             "#ed7953"
            ],
            [
             0.7777777777777778,
             "#fb9f3a"
            ],
            [
             0.8888888888888888,
             "#fdca26"
            ],
            [
             1,
             "#f0f921"
            ]
           ]
          },
          "colorway": [
           "#636efa",
           "#EF553B",
           "#00cc96",
           "#ab63fa",
           "#FFA15A",
           "#19d3f3",
           "#FF6692",
           "#B6E880",
           "#FF97FF",
           "#FECB52"
          ],
          "font": {
           "color": "#2a3f5f"
          },
          "geo": {
           "bgcolor": "white",
           "lakecolor": "white",
           "landcolor": "#E5ECF6",
           "showlakes": true,
           "showland": true,
           "subunitcolor": "white"
          },
          "hoverlabel": {
           "align": "left"
          },
          "hovermode": "closest",
          "mapbox": {
           "style": "light"
          },
          "paper_bgcolor": "white",
          "plot_bgcolor": "#E5ECF6",
          "polar": {
           "angularaxis": {
            "gridcolor": "white",
            "linecolor": "white",
            "ticks": ""
           },
           "bgcolor": "#E5ECF6",
           "radialaxis": {
            "gridcolor": "white",
            "linecolor": "white",
            "ticks": ""
           }
          },
          "scene": {
           "xaxis": {
            "backgroundcolor": "#E5ECF6",
            "gridcolor": "white",
            "gridwidth": 2,
            "linecolor": "white",
            "showbackground": true,
            "ticks": "",
            "zerolinecolor": "white"
           },
           "yaxis": {
            "backgroundcolor": "#E5ECF6",
            "gridcolor": "white",
            "gridwidth": 2,
            "linecolor": "white",
            "showbackground": true,
            "ticks": "",
            "zerolinecolor": "white"
           },
           "zaxis": {
            "backgroundcolor": "#E5ECF6",
            "gridcolor": "white",
            "gridwidth": 2,
            "linecolor": "white",
            "showbackground": true,
            "ticks": "",
            "zerolinecolor": "white"
           }
          },
          "shapedefaults": {
           "line": {
            "color": "#2a3f5f"
           }
          },
          "ternary": {
           "aaxis": {
            "gridcolor": "white",
            "linecolor": "white",
            "ticks": ""
           },
           "baxis": {
            "gridcolor": "white",
            "linecolor": "white",
            "ticks": ""
           },
           "bgcolor": "#E5ECF6",
           "caxis": {
            "gridcolor": "white",
            "linecolor": "white",
            "ticks": ""
           }
          },
          "title": {
           "x": 0.05
          },
          "xaxis": {
           "automargin": true,
           "gridcolor": "white",
           "linecolor": "white",
           "ticks": "",
           "title": {
            "standoff": 15
           },
           "zerolinecolor": "white",
           "zerolinewidth": 2
          },
          "yaxis": {
           "automargin": true,
           "gridcolor": "white",
           "linecolor": "white",
           "ticks": "",
           "title": {
            "standoff": 15
           },
           "zerolinecolor": "white",
           "zerolinewidth": 2
          }
         }
        }
       }
      }
     },
     "metadata": {},
     "output_type": "display_data"
    }
   ],
   "source": [
    "plot_gpr_results_plotly(X_train, y_train, X_test, y_pred, y_std)\n"
   ]
  },
  {
   "cell_type": "code",
   "execution_count": null,
   "metadata": {},
   "outputs": [
    {
     "data": {
      "application/vnd.plotly.v1+json": {
       "config": {
        "plotlyServerURL": "https://plot.ly"
       },
       "data": [
        {
         "mode": "markers",
         "name": "Training data",
         "type": "scatter",
         "x": [
          1,
          2,
          3,
          4,
          5
         ],
         "y": [
          2,
          3,
          4,
          5,
          6
         ]
        },
        {
         "mode": "lines",
         "name": "Predicted values",
         "type": "scatter",
         "x": [
          6,
          7,
          8,
          9,
          10
         ],
         "y": [
          7,
          8,
          9,
          10,
          11
         ]
        },
        {
         "line": {
          "width": 0
         },
         "mode": "lines",
         "name": "Lower bound",
         "type": "scatter",
         "x": [
          6,
          7,
          8,
          9,
          10
         ],
         "y": [
          6.5,
          7.5,
          8.5,
          9.5,
          10.5
         ]
        },
        {
         "fill": "tonexty",
         "mode": "lines",
         "name": "Upper bound",
         "type": "scatter",
         "x": [
          6,
          7,
          8,
          9,
          10
         ],
         "y": [
          7.5,
          8.5,
          9.5,
          10.5,
          11.5
         ]
        }
       ],
       "layout": {
        "template": {
         "data": {
          "bar": [
           {
            "error_x": {
             "color": "#2a3f5f"
            },
            "error_y": {
             "color": "#2a3f5f"
            },
            "marker": {
             "line": {
              "color": "#E5ECF6",
              "width": 0.5
             },
             "pattern": {
              "fillmode": "overlay",
              "size": 10,
              "solidity": 0.2
             }
            },
            "type": "bar"
           }
          ],
          "barpolar": [
           {
            "marker": {
             "line": {
              "color": "#E5ECF6",
              "width": 0.5
             },
             "pattern": {
              "fillmode": "overlay",
              "size": 10,
              "solidity": 0.2
             }
            },
            "type": "barpolar"
           }
          ],
          "carpet": [
           {
            "aaxis": {
             "endlinecolor": "#2a3f5f",
             "gridcolor": "white",
             "linecolor": "white",
             "minorgridcolor": "white",
             "startlinecolor": "#2a3f5f"
            },
            "baxis": {
             "endlinecolor": "#2a3f5f",
             "gridcolor": "white",
             "linecolor": "white",
             "minorgridcolor": "white",
             "startlinecolor": "#2a3f5f"
            },
            "type": "carpet"
           }
          ],
          "choropleth": [
           {
            "colorbar": {
             "outlinewidth": 0,
             "ticks": ""
            },
            "type": "choropleth"
           }
          ],
          "contour": [
           {
            "colorbar": {
             "outlinewidth": 0,
             "ticks": ""
            },
            "colorscale": [
             [
              0,
              "#0d0887"
             ],
             [
              0.1111111111111111,
              "#46039f"
             ],
             [
              0.2222222222222222,
              "#7201a8"
             ],
             [
              0.3333333333333333,
              "#9c179e"
             ],
             [
              0.4444444444444444,
              "#bd3786"
             ],
             [
              0.5555555555555556,
              "#d8576b"
             ],
             [
              0.6666666666666666,
              "#ed7953"
             ],
             [
              0.7777777777777778,
              "#fb9f3a"
             ],
             [
              0.8888888888888888,
              "#fdca26"
             ],
             [
              1,
              "#f0f921"
             ]
            ],
            "type": "contour"
           }
          ],
          "contourcarpet": [
           {
            "colorbar": {
             "outlinewidth": 0,
             "ticks": ""
            },
            "type": "contourcarpet"
           }
          ],
          "heatmap": [
           {
            "colorbar": {
             "outlinewidth": 0,
             "ticks": ""
            },
            "colorscale": [
             [
              0,
              "#0d0887"
             ],
             [
              0.1111111111111111,
              "#46039f"
             ],
             [
              0.2222222222222222,
              "#7201a8"
             ],
             [
              0.3333333333333333,
              "#9c179e"
             ],
             [
              0.4444444444444444,
              "#bd3786"
             ],
             [
              0.5555555555555556,
              "#d8576b"
             ],
             [
              0.6666666666666666,
              "#ed7953"
             ],
             [
              0.7777777777777778,
              "#fb9f3a"
             ],
             [
              0.8888888888888888,
              "#fdca26"
             ],
             [
              1,
              "#f0f921"
             ]
            ],
            "type": "heatmap"
           }
          ],
          "heatmapgl": [
           {
            "colorbar": {
             "outlinewidth": 0,
             "ticks": ""
            },
            "colorscale": [
             [
              0,
              "#0d0887"
             ],
             [
              0.1111111111111111,
              "#46039f"
             ],
             [
              0.2222222222222222,
              "#7201a8"
             ],
             [
              0.3333333333333333,
              "#9c179e"
             ],
             [
              0.4444444444444444,
              "#bd3786"
             ],
             [
              0.5555555555555556,
              "#d8576b"
             ],
             [
              0.6666666666666666,
              "#ed7953"
             ],
             [
              0.7777777777777778,
              "#fb9f3a"
             ],
             [
              0.8888888888888888,
              "#fdca26"
             ],
             [
              1,
              "#f0f921"
             ]
            ],
            "type": "heatmapgl"
           }
          ],
          "histogram": [
           {
            "marker": {
             "pattern": {
              "fillmode": "overlay",
              "size": 10,
              "solidity": 0.2
             }
            },
            "type": "histogram"
           }
          ],
          "histogram2d": [
           {
            "colorbar": {
             "outlinewidth": 0,
             "ticks": ""
            },
            "colorscale": [
             [
              0,
              "#0d0887"
             ],
             [
              0.1111111111111111,
              "#46039f"
             ],
             [
              0.2222222222222222,
              "#7201a8"
             ],
             [
              0.3333333333333333,
              "#9c179e"
             ],
             [
              0.4444444444444444,
              "#bd3786"
             ],
             [
              0.5555555555555556,
              "#d8576b"
             ],
             [
              0.6666666666666666,
              "#ed7953"
             ],
             [
              0.7777777777777778,
              "#fb9f3a"
             ],
             [
              0.8888888888888888,
              "#fdca26"
             ],
             [
              1,
              "#f0f921"
             ]
            ],
            "type": "histogram2d"
           }
          ],
          "histogram2dcontour": [
           {
            "colorbar": {
             "outlinewidth": 0,
             "ticks": ""
            },
            "colorscale": [
             [
              0,
              "#0d0887"
             ],
             [
              0.1111111111111111,
              "#46039f"
             ],
             [
              0.2222222222222222,
              "#7201a8"
             ],
             [
              0.3333333333333333,
              "#9c179e"
             ],
             [
              0.4444444444444444,
              "#bd3786"
             ],
             [
              0.5555555555555556,
              "#d8576b"
             ],
             [
              0.6666666666666666,
              "#ed7953"
             ],
             [
              0.7777777777777778,
              "#fb9f3a"
             ],
             [
              0.8888888888888888,
              "#fdca26"
             ],
             [
              1,
              "#f0f921"
             ]
            ],
            "type": "histogram2dcontour"
           }
          ],
          "mesh3d": [
           {
            "colorbar": {
             "outlinewidth": 0,
             "ticks": ""
            },
            "type": "mesh3d"
           }
          ],
          "parcoords": [
           {
            "line": {
             "colorbar": {
              "outlinewidth": 0,
              "ticks": ""
             }
            },
            "type": "parcoords"
           }
          ],
          "pie": [
           {
            "automargin": true,
            "type": "pie"
           }
          ],
          "scatter": [
           {
            "fillpattern": {
             "fillmode": "overlay",
             "size": 10,
             "solidity": 0.2
            },
            "type": "scatter"
           }
          ],
          "scatter3d": [
           {
            "line": {
             "colorbar": {
              "outlinewidth": 0,
              "ticks": ""
             }
            },
            "marker": {
             "colorbar": {
              "outlinewidth": 0,
              "ticks": ""
             }
            },
            "type": "scatter3d"
           }
          ],
          "scattercarpet": [
           {
            "marker": {
             "colorbar": {
              "outlinewidth": 0,
              "ticks": ""
             }
            },
            "type": "scattercarpet"
           }
          ],
          "scattergeo": [
           {
            "marker": {
             "colorbar": {
              "outlinewidth": 0,
              "ticks": ""
             }
            },
            "type": "scattergeo"
           }
          ],
          "scattergl": [
           {
            "marker": {
             "colorbar": {
              "outlinewidth": 0,
              "ticks": ""
             }
            },
            "type": "scattergl"
           }
          ],
          "scattermapbox": [
           {
            "marker": {
             "colorbar": {
              "outlinewidth": 0,
              "ticks": ""
             }
            },
            "type": "scattermapbox"
           }
          ],
          "scatterpolar": [
           {
            "marker": {
             "colorbar": {
              "outlinewidth": 0,
              "ticks": ""
             }
            },
            "type": "scatterpolar"
           }
          ],
          "scatterpolargl": [
           {
            "marker": {
             "colorbar": {
              "outlinewidth": 0,
              "ticks": ""
             }
            },
            "type": "scatterpolargl"
           }
          ],
          "scatterternary": [
           {
            "marker": {
             "colorbar": {
              "outlinewidth": 0,
              "ticks": ""
             }
            },
            "type": "scatterternary"
           }
          ],
          "surface": [
           {
            "colorbar": {
             "outlinewidth": 0,
             "ticks": ""
            },
            "colorscale": [
             [
              0,
              "#0d0887"
             ],
             [
              0.1111111111111111,
              "#46039f"
             ],
             [
              0.2222222222222222,
              "#7201a8"
             ],
             [
              0.3333333333333333,
              "#9c179e"
             ],
             [
              0.4444444444444444,
              "#bd3786"
             ],
             [
              0.5555555555555556,
              "#d8576b"
             ],
             [
              0.6666666666666666,
              "#ed7953"
             ],
             [
              0.7777777777777778,
              "#fb9f3a"
             ],
             [
              0.8888888888888888,
              "#fdca26"
             ],
             [
              1,
              "#f0f921"
             ]
            ],
            "type": "surface"
           }
          ],
          "table": [
           {
            "cells": {
             "fill": {
              "color": "#EBF0F8"
             },
             "line": {
              "color": "white"
             }
            },
            "header": {
             "fill": {
              "color": "#C8D4E3"
             },
             "line": {
              "color": "white"
             }
            },
            "type": "table"
           }
          ]
         },
         "layout": {
          "annotationdefaults": {
           "arrowcolor": "#2a3f5f",
           "arrowhead": 0,
           "arrowwidth": 1
          },
          "autotypenumbers": "strict",
          "coloraxis": {
           "colorbar": {
            "outlinewidth": 0,
            "ticks": ""
           }
          },
          "colorscale": {
           "diverging": [
            [
             0,
             "#8e0152"
            ],
            [
             0.1,
             "#c51b7d"
            ],
            [
             0.2,
             "#de77ae"
            ],
            [
             0.3,
             "#f1b6da"
            ],
            [
             0.4,
             "#fde0ef"
            ],
            [
             0.5,
             "#f7f7f7"
            ],
            [
             0.6,
             "#e6f5d0"
            ],
            [
             0.7,
             "#b8e186"
            ],
            [
             0.8,
             "#7fbc41"
            ],
            [
             0.9,
             "#4d9221"
            ],
            [
             1,
             "#276419"
            ]
           ],
           "sequential": [
            [
             0,
             "#0d0887"
            ],
            [
             0.1111111111111111,
             "#46039f"
            ],
            [
             0.2222222222222222,
             "#7201a8"
            ],
            [
             0.3333333333333333,
             "#9c179e"
            ],
            [
             0.4444444444444444,
             "#bd3786"
            ],
            [
             0.5555555555555556,
             "#d8576b"
            ],
            [
             0.6666666666666666,
             "#ed7953"
            ],
            [
             0.7777777777777778,
             "#fb9f3a"
            ],
            [
             0.8888888888888888,
             "#fdca26"
            ],
            [
             1,
             "#f0f921"
            ]
           ],
           "sequentialminus": [
            [
             0,
             "#0d0887"
            ],
            [
             0.1111111111111111,
             "#46039f"
            ],
            [
             0.2222222222222222,
             "#7201a8"
            ],
            [
             0.3333333333333333,
             "#9c179e"
            ],
            [
             0.4444444444444444,
             "#bd3786"
            ],
            [
             0.5555555555555556,
             "#d8576b"
            ],
            [
             0.6666666666666666,
             "#ed7953"
            ],
            [
             0.7777777777777778,
             "#fb9f3a"
            ],
            [
             0.8888888888888888,
             "#fdca26"
            ],
            [
             1,
             "#f0f921"
            ]
           ]
          },
          "colorway": [
           "#636efa",
           "#EF553B",
           "#00cc96",
           "#ab63fa",
           "#FFA15A",
           "#19d3f3",
           "#FF6692",
           "#B6E880",
           "#FF97FF",
           "#FECB52"
          ],
          "font": {
           "color": "#2a3f5f"
          },
          "geo": {
           "bgcolor": "white",
           "lakecolor": "white",
           "landcolor": "#E5ECF6",
           "showlakes": true,
           "showland": true,
           "subunitcolor": "white"
          },
          "hoverlabel": {
           "align": "left"
          },
          "hovermode": "closest",
          "mapbox": {
           "style": "light"
          },
          "paper_bgcolor": "white",
          "plot_bgcolor": "#E5ECF6",
          "polar": {
           "angularaxis": {
            "gridcolor": "white",
            "linecolor": "white",
            "ticks": ""
           },
           "bgcolor": "#E5ECF6",
           "radialaxis": {
            "gridcolor": "white",
            "linecolor": "white",
            "ticks": ""
           }
          },
          "scene": {
           "xaxis": {
            "backgroundcolor": "#E5ECF6",
            "gridcolor": "white",
            "gridwidth": 2,
            "linecolor": "white",
            "showbackground": true,
            "ticks": "",
            "zerolinecolor": "white"
           },
           "yaxis": {
            "backgroundcolor": "#E5ECF6",
            "gridcolor": "white",
            "gridwidth": 2,
            "linecolor": "white",
            "showbackground": true,
            "ticks": "",
            "zerolinecolor": "white"
           },
           "zaxis": {
            "backgroundcolor": "#E5ECF6",
            "gridcolor": "white",
            "gridwidth": 2,
            "linecolor": "white",
            "showbackground": true,
            "ticks": "",
            "zerolinecolor": "white"
           }
          },
          "shapedefaults": {
           "line": {
            "color": "#2a3f5f"
           }
          },
          "ternary": {
           "aaxis": {
            "gridcolor": "white",
            "linecolor": "white",
            "ticks": ""
           },
           "baxis": {
            "gridcolor": "white",
            "linecolor": "white",
            "ticks": ""
           },
           "bgcolor": "#E5ECF6",
           "caxis": {
            "gridcolor": "white",
            "linecolor": "white",
            "ticks": ""
           }
          },
          "title": {
           "x": 0.05
          },
          "xaxis": {
           "automargin": true,
           "gridcolor": "white",
           "linecolor": "white",
           "ticks": "",
           "title": {
            "standoff": 15
           },
           "zerolinecolor": "white",
           "zerolinewidth": 2
          },
          "yaxis": {
           "automargin": true,
           "gridcolor": "white",
           "linecolor": "white",
           "ticks": "",
           "title": {
            "standoff": 15
           },
           "zerolinecolor": "white",
           "zerolinewidth": 2
          }
         }
        }
       }
      }
     },
     "metadata": {},
     "output_type": "display_data"
    }
   ],
   "source": [
    "# Dummy data\n",
    "X_train = np.array([1, 2, 3, 4, 5])\n",
    "y_train = np.array([2, 3, 4, 5, 6])\n",
    "X_test = np.array([6, 7, 8, 9, 10])\n",
    "y_pred = np.array([7, 8, 9, 10, 11])\n",
    "y_std = np.array([0.5, 0.5, 0.5, 0.5, 0.5])\n",
    "\n",
    "# Plot\n",
    "plot_gpr_results_plotly(X_train, y_train, X_test, y_pred, y_std)"
   ]
  },
  {
   "cell_type": "code",
   "execution_count": null,
   "metadata": {},
   "outputs": [],
   "source": []
  },
  {
   "cell_type": "code",
   "execution_count": null,
   "metadata": {},
   "outputs": [],
   "source": []
  },
  {
   "cell_type": "code",
   "execution_count": null,
   "metadata": {},
   "outputs": [],
   "source": []
  },
  {
   "cell_type": "code",
   "execution_count": null,
   "metadata": {},
   "outputs": [],
   "source": []
  },
  {
   "cell_type": "code",
   "execution_count": null,
   "metadata": {},
   "outputs": [],
   "source": []
  }
 ],
 "metadata": {
  "kernelspec": {
   "display_name": "prkng_v2_env",
   "language": "python",
   "name": "python3"
  },
  "language_info": {
   "codemirror_mode": {
    "name": "ipython",
    "version": 3
   },
   "file_extension": ".py",
   "mimetype": "text/x-python",
   "name": "python",
   "nbconvert_exporter": "python",
   "pygments_lexer": "ipython3",
   "version": "3.11.4"
  },
  "orig_nbformat": 4
 },
 "nbformat": 4,
 "nbformat_minor": 2
}
