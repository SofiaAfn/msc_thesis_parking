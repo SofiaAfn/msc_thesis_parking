{
 "cells": [
  {
   "cell_type": "code",
   "execution_count": 1,
   "metadata": {},
   "outputs": [],
   "source": [
    "from helper_functions import *\n",
    "import plotly.graph_objects as go\n",
    "import pandas as pd\n",
    "import wandb\n",
    "\n"
   ]
  },
  {
   "cell_type": "code",
   "execution_count": 2,
   "metadata": {},
   "outputs": [
    {
     "data": {
      "text/plain": [
       "'01/22_20:33:36'"
      ]
     },
     "execution_count": 2,
     "metadata": {},
     "output_type": "execute_result"
    }
   ],
   "source": [
    "\n",
    "from datetime import datetime\n",
    "now = datetime.now()\n",
    "datetime_str = now.strftime(\"%m/%d_%H:%M:%S\")\n",
    "datetime_str"
   ]
  },
  {
   "cell_type": "code",
   "execution_count": null,
   "metadata": {},
   "outputs": [],
   "source": []
  },
  {
   "cell_type": "code",
   "execution_count": 3,
   "metadata": {},
   "outputs": [],
   "source": [
    "kris_df = preprocess_data(pd.read_pickle(\"Kris_merged_yolov8.pkl\"))\n",
    "varb_df = preprocess_data(pd.read_pickle(\"Varb_merged_yolov8.pkl\"))\n",
    "slakt_df = preprocess_data(pd.read_pickle(\"Slaug_merged_yolov8.pkl\"))\n",
    "\n",
    "datasets = {'kris':kris_df,\n",
    "            'varb':varb_df,\n",
    "            'slakt': slakt_df}"
   ]
  },
  {
   "cell_type": "code",
   "execution_count": 4,
   "metadata": {},
   "outputs": [],
   "source": [
    "# import plotly.graph_objects as go\n",
    "\n",
    "# # List of datasets\n",
    "# datasets = [kris_df, varb_df, slakt_df]\n",
    "# dataset_names = ['kris_df', 'varb_df', 'slakt_df']  # Names for labeling\n",
    "\n",
    "# # Iterate over datasets\n",
    "# for i, data_df in enumerate(datasets):\n",
    "#     # Plot 1: Distribution of car_counts\n",
    "#     fig = go.Figure()\n",
    "#     fig.add_trace(go.Histogram(x=data_df[\"car_count\"], nbinsx=40, name=\"car_counts\"))\n",
    "#     fig.update_layout(title_text=f\"Distribution of car_counts in {dataset_names[i]}\", xaxis_title=\"cars_detected\", yaxis_title=\"frequency\")\n",
    "#     fig.show()\n",
    "\n",
    "#     # Plot 2: car_counts by Day of Week\n",
    "#     fig = go.Figure()\n",
    "#     fig.add_trace(go.Box(x=data_df[\"day_of_week_name\"], y=data_df[\"car_count\"], name=\"car_counts by Day of Week\"))\n",
    "#     fig.update_layout(title_text=f\"car_counts by Day of Week in {dataset_names[i]}\", xaxis_title=\"Day of Week\", yaxis_title=\"car_count\")\n",
    "#     fig.show()\n",
    "\n",
    "#     # Plot 3: car_counts by Hour of Day\n",
    "#     fig = go.Figure()\n",
    "#     fig.add_trace(go.Box(x=data_df[\"hour_of_day\"], y=data_df[\"car_count\"], name=\"car_counts by Hour of Day\"))\n",
    "#     fig.update_layout(title_text=f\"car_counts by Hour of Day in {dataset_names[i]}\", xaxis_title=\"Hour of Day\", yaxis_title=\"car_count\")\n",
    "#     fig.show()\n",
    "\n",
    "#     # Plot 4: car_counts by Day of Month\n",
    "#     fig = go.Figure()\n",
    "#     fig.add_trace(go.Scatter(x=data_df[\"day\"], y=data_df[\"car_count\"], mode=\"markers\", name=\"car_counts by Day of Month\"))\n",
    "#     fig.update_layout(title_text=f\"car_counts by Day of Month in {dataset_names[i]}\", xaxis_title=\"Day of Month\", yaxis_title=\"car_count\")\n",
    "#     fig.show()\n",
    "\n",
    "#     # Plot 5: Trend over Timestamp for car_count\n",
    "#     trace = go.Scatter(x=data_df.index, y=data_df[\"car_count\"], mode=\"lines\", name=\"car_count\")\n",
    "#     layout = go.Layout(title=f\"Trend over time for car_count in {dataset_names[i]}\", xaxis=dict(title=\"Timestamp\"), yaxis=dict(title=\"car_count\"))\n",
    "#     fig = go.Figure(data=[trace], layout=layout)\n",
    "#     fig.show()\n"
   ]
  },
  {
   "cell_type": "code",
   "execution_count": 5,
   "metadata": {},
   "outputs": [],
   "source": [
    "from sklearn.gaussian_process.kernels import RBF, WhiteKernel, ExpSineSquared, ConstantKernel, Exponentiation as C\n",
    "from sklearn.gaussian_process.kernels import RBF, WhiteKernel, ExpSineSquared, ConstantKernel as C\n",
    "from sklearn.gaussian_process import GaussianProcessRegressor\n",
    "# RBF kernel with a length scale of 1.0\n",
    "k1 = 1 * RBF(length_scale=0.5, length_scale_bounds=(1e-3, 1e3))\n",
    "\n",
    "# White kernel to accar_count for noise\n",
    "k2 = WhiteKernel(noise_level=1, noise_level_bounds=(1e-10, 1e+1))\n",
    "\n",
    "# Periodic kernel\n",
    "k3 = ExpSineSquared(length_scale=1.0,\n",
    "                    length_scale_bounds=(1e-1, 50) ,\n",
    "                    periodicity=1,\n",
    "                    periodicity_bounds= (1e-1, 50))\n",
    "# locally periodic\n",
    "k4 = k1 * k3"
   ]
  },
  {
   "cell_type": "code",
   "execution_count": 6,
   "metadata": {},
   "outputs": [],
   "source": [
    "# rbf with noise and periodicity C0\n",
    "rbf_noise_per= k1 + k2 + k3 # this is not really needed\n",
    "\n",
    "# locally periodic with WN C1\n",
    "loc_per = k4 + k2\n",
    "\n",
    "#noisy locally periodic C2\n",
    "noise_loc_per = k4 *k2\n",
    "\n",
    "#locally periodic, global periodic with WN C3\n",
    "loc_glo_per_wn = k4 + k3 + k2\n",
    "\n",
    "#Locally noisy periodic kernel with added global periodicity C4\n",
    "noisy_lp_gp = (k4+ k2)+k3\n",
    "# kernels = [rbf_noise_per, loc_per, noise_loc_per, loc_glo_per_wn]\n",
    "\n",
    "# Creating the dictionary\n",
    "# kernels = {\n",
    "#     \"rbf_noise_per\": rbf_noise_per,\n",
    "#     \"loc_per\": loc_per,\n",
    "#     \"noise_loc_per\": noise_loc_per,\n",
    "#     \"loc_glo_per_wn\": loc_glo_per_wn\n",
    "# }\n",
    "\n",
    "kernels = {\"noisy_lp_gp\": noisy_lp_gp}\n"
   ]
  },
  {
   "cell_type": "code",
   "execution_count": 7,
   "metadata": {},
   "outputs": [],
   "source": [
    "features = {'hour':'hour_of_day', \n",
    "            'week':'day_of_week',\n",
    "            'month':'day'}"
   ]
  },
  {
   "cell_type": "code",
   "execution_count": 8,
   "metadata": {},
   "outputs": [],
   "source": [
    "# define splits\n",
    "\n"
   ]
  },
  {
   "cell_type": "code",
   "execution_count": 9,
   "metadata": {},
   "outputs": [
    {
     "name": "stderr",
     "output_type": "stream",
     "text": [
      "Failed to detect the name of this notebook, you can set it manually with the WANDB_NOTEBOOK_NAME environment variable to enable code saving.\n",
      "\u001b[34m\u001b[1mwandb\u001b[0m: Currently logged in as: \u001b[33mafn-sy\u001b[0m. Use \u001b[1m`wandb login --relogin`\u001b[0m to force relogin\n"
     ]
    },
    {
     "data": {
      "text/html": [
       "Tracking run with wandb version 0.16.2"
      ],
      "text/plain": [
       "<IPython.core.display.HTML object>"
      ]
     },
     "metadata": {},
     "output_type": "display_data"
    },
    {
     "data": {
      "text/html": [
       "Run data is saved locally in <code>/home/sf_afn/Insync/sofiaa720@gmail.com/Google Drive/masters_thesis/code_v1/msc_parking/univrses/notebooks/wandb/run-20240122_203338-epviebhe</code>"
      ],
      "text/plain": [
       "<IPython.core.display.HTML object>"
      ]
     },
     "metadata": {},
     "output_type": "display_data"
    },
    {
     "data": {
      "text/html": [
       "Syncing run <strong><a href='https://wandb.ai/afn-sy/Merged_GPR_Experiments/runs/epviebhe' target=\"_blank\">Single_win_kris_noisy_lp_gp:hour</a></strong> to <a href='https://wandb.ai/afn-sy/Merged_GPR_Experiments' target=\"_blank\">Weights & Biases</a> (<a href='https://wandb.me/run' target=\"_blank\">docs</a>)<br/>"
      ],
      "text/plain": [
       "<IPython.core.display.HTML object>"
      ]
     },
     "metadata": {},
     "output_type": "display_data"
    },
    {
     "data": {
      "text/html": [
       " View project at <a href='https://wandb.ai/afn-sy/Merged_GPR_Experiments' target=\"_blank\">https://wandb.ai/afn-sy/Merged_GPR_Experiments</a>"
      ],
      "text/plain": [
       "<IPython.core.display.HTML object>"
      ]
     },
     "metadata": {},
     "output_type": "display_data"
    },
    {
     "data": {
      "text/html": [
       " View run at <a href='https://wandb.ai/afn-sy/Merged_GPR_Experiments/runs/epviebhe' target=\"_blank\">https://wandb.ai/afn-sy/Merged_GPR_Experiments/runs/epviebhe</a>"
      ],
      "text/plain": [
       "<IPython.core.display.HTML object>"
      ]
     },
     "metadata": {},
     "output_type": "display_data"
    },
    {
     "name": "stderr",
     "output_type": "stream",
     "text": [
      "/home/sf_afn/usr_sa/anaconda3/envs/prkng_v2_env/lib/python3.11/site-packages/sklearn/gaussian_process/kernels.py:429: ConvergenceWarning:\n",
      "\n",
      "The optimal value found for dimension 0 of parameter k1__k1__k1__k2__length_scale is close to the specified upper bound 1000.0. Increasing the bound and calling fit again may find a better value.\n",
      "\n"
     ]
    },
    {
     "data": {
      "application/vnd.jupyter.widget-view+json": {
       "model_id": "2b5610efaffa41059056698bddeccc5e",
       "version_major": 2,
       "version_minor": 0
      },
      "text/plain": [
       "VBox(children=(Label(value='43.481 MB of 87.096 MB uploaded\\r'), FloatProgress(value=0.49922591697568797, max=…"
      ]
     },
     "metadata": {},
     "output_type": "display_data"
    },
    {
     "name": "stderr",
     "output_type": "stream",
     "text": [
      "wandb: WARNING Source type is set to 'repo' but some required information is missing from the environment. A job will not be created from this run. See https://docs.wandb.ai/guides/launch/create-job\n"
     ]
    },
    {
     "data": {
      "text/html": [
       "<style>\n",
       "    table.wandb td:nth-child(1) { padding: 0 10px; text-align: left ; width: auto;} td:nth-child(2) {text-align: left ; width: 100%}\n",
       "    .wandb-row { display: flex; flex-direction: row; flex-wrap: wrap; justify-content: flex-start; width: 100% }\n",
       "    .wandb-col { display: flex; flex-direction: column; flex-basis: 100%; flex: 1; padding: 10px; }\n",
       "    </style>\n",
       "<div class=\"wandb-row\"><div class=\"wandb-col\"><h3>Run history:</h3><br/><table class=\"wandb\"><tr><td>LML_test</td><td>▁</td></tr><tr><td>LML_train</td><td>▁▁</td></tr><tr><td>LML_validate</td><td>▁</td></tr><tr><td>MAE_test</td><td>▁</td></tr><tr><td>MAE_train</td><td>▁▁</td></tr><tr><td>MAE_validate</td><td>▁</td></tr><tr><td>MAPE_test</td><td>▁</td></tr><tr><td>MAPE_train</td><td>▁▁</td></tr><tr><td>MAPE_validate</td><td>▁</td></tr><tr><td>MSE_test</td><td>▁</td></tr><tr><td>MSE_train</td><td>▁▁</td></tr><tr><td>MSE_validate</td><td>▁</td></tr><tr><td>R2_test</td><td>▁</td></tr><tr><td>R2_train</td><td>▁▁</td></tr><tr><td>R2_validate</td><td>▁</td></tr><tr><td>RMSE_test</td><td>▁</td></tr><tr><td>RMSE_train</td><td>▁▁</td></tr><tr><td>RMSE_validate</td><td>▁</td></tr><tr><td>step</td><td>▁▁▁▁</td></tr></table><br/></div><div class=\"wandb-col\"><h3>Run summary:</h3><br/><table class=\"wandb\"><tr><td>LML_test</td><td>-45.87566</td></tr><tr><td>LML_train</td><td>-45.87566</td></tr><tr><td>LML_validate</td><td>-45.87566</td></tr><tr><td>MAE_test</td><td>10.88074</td></tr><tr><td>MAE_train</td><td>0.24344</td></tr><tr><td>MAE_validate</td><td>8.43752</td></tr><tr><td>MAPE_test</td><td>438.90088</td></tr><tr><td>MAPE_train</td><td>61.79061</td></tr><tr><td>MAPE_validate</td><td>207.54766</td></tr><tr><td>MSE_test</td><td>167.13329</td></tr><tr><td>MSE_train</td><td>0.10611</td></tr><tr><td>MSE_validate</td><td>92.5345</td></tr><tr><td>R2_test</td><td>-0.65781</td></tr><tr><td>R2_train</td><td>0.99146</td></tr><tr><td>R2_validate</td><td>-0.62576</td></tr><tr><td>RMSE_test</td><td>12.928</td></tr><tr><td>RMSE_train</td><td>0.32574</td></tr><tr><td>RMSE_validate</td><td>9.61949</td></tr><tr><td>step</td><td>1</td></tr></table><br/></div></div>"
      ],
      "text/plain": [
       "<IPython.core.display.HTML object>"
      ]
     },
     "metadata": {},
     "output_type": "display_data"
    },
    {
     "data": {
      "text/html": [
       " View run <strong style=\"color:#cdcd00\">Single_win_kris_noisy_lp_gp:hour</strong> at: <a href='https://wandb.ai/afn-sy/Merged_GPR_Experiments/runs/epviebhe' target=\"_blank\">https://wandb.ai/afn-sy/Merged_GPR_Experiments/runs/epviebhe</a><br/>Synced 7 W&B file(s), 9 media file(s), 4 artifact file(s) and 4 other file(s)"
      ],
      "text/plain": [
       "<IPython.core.display.HTML object>"
      ]
     },
     "metadata": {},
     "output_type": "display_data"
    },
    {
     "data": {
      "text/html": [
       "Find logs at: <code>./wandb/run-20240122_203338-epviebhe/logs</code>"
      ],
      "text/plain": [
       "<IPython.core.display.HTML object>"
      ]
     },
     "metadata": {},
     "output_type": "display_data"
    },
    {
     "data": {
      "application/vnd.jupyter.widget-view+json": {
       "model_id": "6ced13f0364b489881160c70d61a4566",
       "version_major": 2,
       "version_minor": 0
      },
      "text/plain": [
       "VBox(children=(Label(value='Waiting for wandb.init()...\\r'), FloatProgress(value=0.011112071122220691, max=1.0…"
      ]
     },
     "metadata": {},
     "output_type": "display_data"
    },
    {
     "data": {
      "text/html": [
       "Tracking run with wandb version 0.16.2"
      ],
      "text/plain": [
       "<IPython.core.display.HTML object>"
      ]
     },
     "metadata": {},
     "output_type": "display_data"
    },
    {
     "data": {
      "text/html": [
       "Run data is saved locally in <code>/home/sf_afn/Insync/sofiaa720@gmail.com/Google Drive/masters_thesis/code_v1/msc_parking/univrses/notebooks/wandb/run-20240122_203352-kxaimlsn</code>"
      ],
      "text/plain": [
       "<IPython.core.display.HTML object>"
      ]
     },
     "metadata": {},
     "output_type": "display_data"
    },
    {
     "data": {
      "text/html": [
       "Syncing run <strong><a href='https://wandb.ai/afn-sy/Merged_GPR_Experiments/runs/kxaimlsn' target=\"_blank\">Single_win_kris_noisy_lp_gp:week</a></strong> to <a href='https://wandb.ai/afn-sy/Merged_GPR_Experiments' target=\"_blank\">Weights & Biases</a> (<a href='https://wandb.me/run' target=\"_blank\">docs</a>)<br/>"
      ],
      "text/plain": [
       "<IPython.core.display.HTML object>"
      ]
     },
     "metadata": {},
     "output_type": "display_data"
    },
    {
     "data": {
      "text/html": [
       " View project at <a href='https://wandb.ai/afn-sy/Merged_GPR_Experiments' target=\"_blank\">https://wandb.ai/afn-sy/Merged_GPR_Experiments</a>"
      ],
      "text/plain": [
       "<IPython.core.display.HTML object>"
      ]
     },
     "metadata": {},
     "output_type": "display_data"
    },
    {
     "data": {
      "text/html": [
       " View run at <a href='https://wandb.ai/afn-sy/Merged_GPR_Experiments/runs/kxaimlsn' target=\"_blank\">https://wandb.ai/afn-sy/Merged_GPR_Experiments/runs/kxaimlsn</a>"
      ],
      "text/plain": [
       "<IPython.core.display.HTML object>"
      ]
     },
     "metadata": {},
     "output_type": "display_data"
    },
    {
     "name": "stderr",
     "output_type": "stream",
     "text": [
      "wandb: WARNING Source type is set to 'repo' but some required information is missing from the environment. A job will not be created from this run. See https://docs.wandb.ai/guides/launch/create-job\n"
     ]
    },
    {
     "data": {
      "application/vnd.jupyter.widget-view+json": {
       "model_id": "65d081c544f6472aacb21ea7cbdaa61f",
       "version_major": 2,
       "version_minor": 0
      },
      "text/plain": [
       "VBox(children=(Label(value='24.351 MB of 87.077 MB uploaded\\r'), FloatProgress(value=0.2796440337931727, max=1…"
      ]
     },
     "metadata": {},
     "output_type": "display_data"
    },
    {
     "data": {
      "text/html": [
       "<style>\n",
       "    table.wandb td:nth-child(1) { padding: 0 10px; text-align: left ; width: auto;} td:nth-child(2) {text-align: left ; width: 100%}\n",
       "    .wandb-row { display: flex; flex-direction: row; flex-wrap: wrap; justify-content: flex-start; width: 100% }\n",
       "    .wandb-col { display: flex; flex-direction: column; flex-basis: 100%; flex: 1; padding: 10px; }\n",
       "    </style>\n",
       "<div class=\"wandb-row\"><div class=\"wandb-col\"><h3>Run history:</h3><br/><table class=\"wandb\"><tr><td>LML_test</td><td>▁</td></tr><tr><td>LML_train</td><td>▁▁</td></tr><tr><td>LML_validate</td><td>▁</td></tr><tr><td>MAE_test</td><td>▁</td></tr><tr><td>MAE_train</td><td>▁▁</td></tr><tr><td>MAE_validate</td><td>▁</td></tr><tr><td>MAPE_test</td><td>▁</td></tr><tr><td>MAPE_train</td><td>▁▁</td></tr><tr><td>MAPE_validate</td><td>▁</td></tr><tr><td>MSE_test</td><td>▁</td></tr><tr><td>MSE_train</td><td>▁▁</td></tr><tr><td>MSE_validate</td><td>▁</td></tr><tr><td>R2_test</td><td>▁</td></tr><tr><td>R2_train</td><td>▁▁</td></tr><tr><td>R2_validate</td><td>▁</td></tr><tr><td>RMSE_test</td><td>▁</td></tr><tr><td>RMSE_train</td><td>▁▁</td></tr><tr><td>RMSE_validate</td><td>▁</td></tr><tr><td>step</td><td>▁▁▁▁</td></tr></table><br/></div><div class=\"wandb-col\"><h3>Run summary:</h3><br/><table class=\"wandb\"><tr><td>LML_test</td><td>-18.72255</td></tr><tr><td>LML_train</td><td>-18.72255</td></tr><tr><td>LML_validate</td><td>-18.72255</td></tr><tr><td>MAE_test</td><td>12.09844</td></tr><tr><td>MAE_train</td><td>1.20067</td></tr><tr><td>MAE_validate</td><td>7.62149</td></tr><tr><td>MAPE_test</td><td>155.87147</td></tr><tr><td>MAPE_train</td><td>50.47351</td></tr><tr><td>MAPE_validate</td><td>207.75905</td></tr><tr><td>MSE_test</td><td>166.52603</td></tr><tr><td>MSE_train</td><td>3.56614</td></tr><tr><td>MSE_validate</td><td>69.91549</td></tr><tr><td>R2_test</td><td>-10.2914</td></tr><tr><td>R2_train</td><td>0.70743</td></tr><tr><td>R2_validate</td><td>-22.36527</td></tr><tr><td>RMSE_test</td><td>12.9045</td></tr><tr><td>RMSE_train</td><td>1.88842</td></tr><tr><td>RMSE_validate</td><td>8.36155</td></tr><tr><td>step</td><td>1</td></tr></table><br/></div></div>"
      ],
      "text/plain": [
       "<IPython.core.display.HTML object>"
      ]
     },
     "metadata": {},
     "output_type": "display_data"
    },
    {
     "data": {
      "text/html": [
       " View run <strong style=\"color:#cdcd00\">Single_win_kris_noisy_lp_gp:week</strong> at: <a href='https://wandb.ai/afn-sy/Merged_GPR_Experiments/runs/kxaimlsn' target=\"_blank\">https://wandb.ai/afn-sy/Merged_GPR_Experiments/runs/kxaimlsn</a><br/>Synced 6 W&B file(s), 9 media file(s), 4 artifact file(s) and 4 other file(s)"
      ],
      "text/plain": [
       "<IPython.core.display.HTML object>"
      ]
     },
     "metadata": {},
     "output_type": "display_data"
    },
    {
     "data": {
      "text/html": [
       "Find logs at: <code>./wandb/run-20240122_203352-kxaimlsn/logs</code>"
      ],
      "text/plain": [
       "<IPython.core.display.HTML object>"
      ]
     },
     "metadata": {},
     "output_type": "display_data"
    },
    {
     "data": {
      "application/vnd.jupyter.widget-view+json": {
       "model_id": "fe090f652c554a25a6bfe01e7f95745f",
       "version_major": 2,
       "version_minor": 0
      },
      "text/plain": [
       "VBox(children=(Label(value='Waiting for wandb.init()...\\r'), FloatProgress(value=0.011112022644455363, max=1.0…"
      ]
     },
     "metadata": {},
     "output_type": "display_data"
    },
    {
     "data": {
      "text/html": [
       "Tracking run with wandb version 0.16.2"
      ],
      "text/plain": [
       "<IPython.core.display.HTML object>"
      ]
     },
     "metadata": {},
     "output_type": "display_data"
    },
    {
     "data": {
      "text/html": [
       "Run data is saved locally in <code>/home/sf_afn/Insync/sofiaa720@gmail.com/Google Drive/masters_thesis/code_v1/msc_parking/univrses/notebooks/wandb/run-20240122_203407-o92jcft2</code>"
      ],
      "text/plain": [
       "<IPython.core.display.HTML object>"
      ]
     },
     "metadata": {},
     "output_type": "display_data"
    },
    {
     "data": {
      "text/html": [
       "Syncing run <strong><a href='https://wandb.ai/afn-sy/Merged_GPR_Experiments/runs/o92jcft2' target=\"_blank\">Single_win_kris_noisy_lp_gp:month</a></strong> to <a href='https://wandb.ai/afn-sy/Merged_GPR_Experiments' target=\"_blank\">Weights & Biases</a> (<a href='https://wandb.me/run' target=\"_blank\">docs</a>)<br/>"
      ],
      "text/plain": [
       "<IPython.core.display.HTML object>"
      ]
     },
     "metadata": {},
     "output_type": "display_data"
    },
    {
     "data": {
      "text/html": [
       " View project at <a href='https://wandb.ai/afn-sy/Merged_GPR_Experiments' target=\"_blank\">https://wandb.ai/afn-sy/Merged_GPR_Experiments</a>"
      ],
      "text/plain": [
       "<IPython.core.display.HTML object>"
      ]
     },
     "metadata": {},
     "output_type": "display_data"
    },
    {
     "data": {
      "text/html": [
       " View run at <a href='https://wandb.ai/afn-sy/Merged_GPR_Experiments/runs/o92jcft2' target=\"_blank\">https://wandb.ai/afn-sy/Merged_GPR_Experiments/runs/o92jcft2</a>"
      ],
      "text/plain": [
       "<IPython.core.display.HTML object>"
      ]
     },
     "metadata": {},
     "output_type": "display_data"
    },
    {
     "name": "stderr",
     "output_type": "stream",
     "text": [
      "/home/sf_afn/usr_sa/anaconda3/envs/prkng_v2_env/lib/python3.11/site-packages/sklearn/gaussian_process/kernels.py:429: ConvergenceWarning:\n",
      "\n",
      "The optimal value found for dimension 0 of parameter k1__k2__noise_level is close to the specified upper bound 10.0. Increasing the bound and calling fit again may find a better value.\n",
      "\n"
     ]
    },
    {
     "data": {
      "application/vnd.jupyter.widget-view+json": {
       "model_id": "f088436e963446ac8d8e4cecefc6bc0f",
       "version_major": 2,
       "version_minor": 0
      },
      "text/plain": [
       "VBox(children=(Label(value='29.128 MB of 87.090 MB uploaded\\r'), FloatProgress(value=0.3344643356797736, max=1…"
      ]
     },
     "metadata": {},
     "output_type": "display_data"
    },
    {
     "name": "stderr",
     "output_type": "stream",
     "text": [
      "wandb: WARNING Source type is set to 'repo' but some required information is missing from the environment. A job will not be created from this run. See https://docs.wandb.ai/guides/launch/create-job\n"
     ]
    },
    {
     "data": {
      "text/html": [
       "<style>\n",
       "    table.wandb td:nth-child(1) { padding: 0 10px; text-align: left ; width: auto;} td:nth-child(2) {text-align: left ; width: 100%}\n",
       "    .wandb-row { display: flex; flex-direction: row; flex-wrap: wrap; justify-content: flex-start; width: 100% }\n",
       "    .wandb-col { display: flex; flex-direction: column; flex-basis: 100%; flex: 1; padding: 10px; }\n",
       "    </style>\n",
       "<div class=\"wandb-row\"><div class=\"wandb-col\"><h3>Run history:</h3><br/><table class=\"wandb\"><tr><td>LML_test</td><td>▁</td></tr><tr><td>LML_train</td><td>▁▁</td></tr><tr><td>LML_validate</td><td>▁</td></tr><tr><td>MAE_test</td><td>▁</td></tr><tr><td>MAE_train</td><td>▁▁</td></tr><tr><td>MAE_validate</td><td>▁</td></tr><tr><td>MAPE_test</td><td>▁</td></tr><tr><td>MAPE_train</td><td>▁▁</td></tr><tr><td>MAPE_validate</td><td>▁</td></tr><tr><td>MSE_test</td><td>▁</td></tr><tr><td>MSE_train</td><td>▁▁</td></tr><tr><td>MSE_validate</td><td>▁</td></tr><tr><td>R2_test</td><td>▁</td></tr><tr><td>R2_train</td><td>▁▁</td></tr><tr><td>R2_validate</td><td>▁</td></tr><tr><td>RMSE_test</td><td>▁</td></tr><tr><td>RMSE_train</td><td>▁▁</td></tr><tr><td>RMSE_validate</td><td>▁</td></tr><tr><td>step</td><td>▁▁▁▁</td></tr></table><br/></div><div class=\"wandb-col\"><h3>Run summary:</h3><br/><table class=\"wandb\"><tr><td>LML_test</td><td>-63.50949</td></tr><tr><td>LML_train</td><td>-63.50949</td></tr><tr><td>LML_validate</td><td>-63.50949</td></tr><tr><td>MAE_test</td><td>10.54895</td></tr><tr><td>MAE_train</td><td>3.49895</td></tr><tr><td>MAE_validate</td><td>8.16952</td></tr><tr><td>MAPE_test</td><td>189.93109</td></tr><tr><td>MAPE_train</td><td>212.7673</td></tr><tr><td>MAPE_validate</td><td>617.34737</td></tr><tr><td>MSE_test</td><td>128.05576</td></tr><tr><td>MSE_train</td><td>18.59599</td></tr><tr><td>MSE_validate</td><td>74.38186</td></tr><tr><td>R2_test</td><td>-6.87977</td></tr><tr><td>R2_train</td><td>0.0944</td></tr><tr><td>R2_validate</td><td>-8.88688</td></tr><tr><td>RMSE_test</td><td>11.31617</td></tr><tr><td>RMSE_train</td><td>4.31231</td></tr><tr><td>RMSE_validate</td><td>8.62449</td></tr><tr><td>step</td><td>1</td></tr></table><br/></div></div>"
      ],
      "text/plain": [
       "<IPython.core.display.HTML object>"
      ]
     },
     "metadata": {},
     "output_type": "display_data"
    },
    {
     "data": {
      "text/html": [
       " View run <strong style=\"color:#cdcd00\">Single_win_kris_noisy_lp_gp:month</strong> at: <a href='https://wandb.ai/afn-sy/Merged_GPR_Experiments/runs/o92jcft2' target=\"_blank\">https://wandb.ai/afn-sy/Merged_GPR_Experiments/runs/o92jcft2</a><br/>Synced 7 W&B file(s), 9 media file(s), 3 artifact file(s) and 4 other file(s)"
      ],
      "text/plain": [
       "<IPython.core.display.HTML object>"
      ]
     },
     "metadata": {},
     "output_type": "display_data"
    },
    {
     "data": {
      "text/html": [
       "Find logs at: <code>./wandb/run-20240122_203407-o92jcft2/logs</code>"
      ],
      "text/plain": [
       "<IPython.core.display.HTML object>"
      ]
     },
     "metadata": {},
     "output_type": "display_data"
    },
    {
     "data": {
      "application/vnd.jupyter.widget-view+json": {
       "model_id": "8d9f01d2e49c4036baee6c0af65e7da5",
       "version_major": 2,
       "version_minor": 0
      },
      "text/plain": [
       "VBox(children=(Label(value='Waiting for wandb.init()...\\r'), FloatProgress(value=0.011112053944493204, max=1.0…"
      ]
     },
     "metadata": {},
     "output_type": "display_data"
    },
    {
     "data": {
      "text/html": [
       "Tracking run with wandb version 0.16.2"
      ],
      "text/plain": [
       "<IPython.core.display.HTML object>"
      ]
     },
     "metadata": {},
     "output_type": "display_data"
    },
    {
     "data": {
      "text/html": [
       "Run data is saved locally in <code>/home/sf_afn/Insync/sofiaa720@gmail.com/Google Drive/masters_thesis/code_v1/msc_parking/univrses/notebooks/wandb/run-20240122_203422-rjt85n5i</code>"
      ],
      "text/plain": [
       "<IPython.core.display.HTML object>"
      ]
     },
     "metadata": {},
     "output_type": "display_data"
    },
    {
     "data": {
      "text/html": [
       "Syncing run <strong><a href='https://wandb.ai/afn-sy/Merged_GPR_Experiments/runs/rjt85n5i' target=\"_blank\">Single_win_varb_noisy_lp_gp:hour</a></strong> to <a href='https://wandb.ai/afn-sy/Merged_GPR_Experiments' target=\"_blank\">Weights & Biases</a> (<a href='https://wandb.me/run' target=\"_blank\">docs</a>)<br/>"
      ],
      "text/plain": [
       "<IPython.core.display.HTML object>"
      ]
     },
     "metadata": {},
     "output_type": "display_data"
    },
    {
     "data": {
      "text/html": [
       " View project at <a href='https://wandb.ai/afn-sy/Merged_GPR_Experiments' target=\"_blank\">https://wandb.ai/afn-sy/Merged_GPR_Experiments</a>"
      ],
      "text/plain": [
       "<IPython.core.display.HTML object>"
      ]
     },
     "metadata": {},
     "output_type": "display_data"
    },
    {
     "data": {
      "text/html": [
       " View run at <a href='https://wandb.ai/afn-sy/Merged_GPR_Experiments/runs/rjt85n5i' target=\"_blank\">https://wandb.ai/afn-sy/Merged_GPR_Experiments/runs/rjt85n5i</a>"
      ],
      "text/plain": [
       "<IPython.core.display.HTML object>"
      ]
     },
     "metadata": {},
     "output_type": "display_data"
    },
    {
     "name": "stderr",
     "output_type": "stream",
     "text": [
      "wandb: WARNING Source type is set to 'repo' but some required information is missing from the environment. A job will not be created from this run. See https://docs.wandb.ai/guides/launch/create-job\n"
     ]
    },
    {
     "data": {
      "application/vnd.jupyter.widget-view+json": {
       "model_id": "695beba8cbeb451f86221200af7d63e8",
       "version_major": 2,
       "version_minor": 0
      },
      "text/plain": [
       "VBox(children=(Label(value='8.486 MB of 87.096 MB uploaded\\r'), FloatProgress(value=0.09743054328892263, max=1…"
      ]
     },
     "metadata": {},
     "output_type": "display_data"
    },
    {
     "data": {
      "text/html": [
       "<style>\n",
       "    table.wandb td:nth-child(1) { padding: 0 10px; text-align: left ; width: auto;} td:nth-child(2) {text-align: left ; width: 100%}\n",
       "    .wandb-row { display: flex; flex-direction: row; flex-wrap: wrap; justify-content: flex-start; width: 100% }\n",
       "    .wandb-col { display: flex; flex-direction: column; flex-basis: 100%; flex: 1; padding: 10px; }\n",
       "    </style>\n",
       "<div class=\"wandb-row\"><div class=\"wandb-col\"><h3>Run history:</h3><br/><table class=\"wandb\"><tr><td>LML_test</td><td>▁</td></tr><tr><td>LML_train</td><td>▁▁</td></tr><tr><td>LML_validate</td><td>▁</td></tr><tr><td>MAE_test</td><td>▁</td></tr><tr><td>MAE_train</td><td>▁▁</td></tr><tr><td>MAE_validate</td><td>▁</td></tr><tr><td>MAPE_test</td><td>▁</td></tr><tr><td>MAPE_train</td><td>▁▁</td></tr><tr><td>MAPE_validate</td><td>▁</td></tr><tr><td>MSE_test</td><td>▁</td></tr><tr><td>MSE_train</td><td>▁▁</td></tr><tr><td>MSE_validate</td><td>▁</td></tr><tr><td>R2_test</td><td>▁</td></tr><tr><td>R2_train</td><td>▁▁</td></tr><tr><td>R2_validate</td><td>▁</td></tr><tr><td>RMSE_test</td><td>▁</td></tr><tr><td>RMSE_train</td><td>▁▁</td></tr><tr><td>RMSE_validate</td><td>▁</td></tr><tr><td>step</td><td>▁▁▁▁</td></tr></table><br/></div><div class=\"wandb-col\"><h3>Run summary:</h3><br/><table class=\"wandb\"><tr><td>LML_test</td><td>-17.20423</td></tr><tr><td>LML_train</td><td>-17.20423</td></tr><tr><td>LML_validate</td><td>-17.20423</td></tr><tr><td>MAE_test</td><td>0.69436</td></tr><tr><td>MAE_train</td><td>0.25856</td></tr><tr><td>MAE_validate</td><td>0.95606</td></tr><tr><td>MAPE_test</td><td>88.26954</td></tr><tr><td>MAPE_train</td><td>76.70205</td></tr><tr><td>MAPE_validate</td><td>60.19544</td></tr><tr><td>MSE_test</td><td>0.77709</td></tr><tr><td>MSE_train</td><td>0.11832</td></tr><tr><td>MSE_validate</td><td>1.34387</td></tr><tr><td>R2_test</td><td>0.35261</td></tr><tr><td>R2_train</td><td>0.70284</td></tr><tr><td>R2_validate</td><td>0.39326</td></tr><tr><td>RMSE_test</td><td>0.88153</td></tr><tr><td>RMSE_train</td><td>0.34397</td></tr><tr><td>RMSE_validate</td><td>1.15925</td></tr><tr><td>step</td><td>1</td></tr></table><br/></div></div>"
      ],
      "text/plain": [
       "<IPython.core.display.HTML object>"
      ]
     },
     "metadata": {},
     "output_type": "display_data"
    },
    {
     "data": {
      "text/html": [
       " View run <strong style=\"color:#cdcd00\">Single_win_varb_noisy_lp_gp:hour</strong> at: <a href='https://wandb.ai/afn-sy/Merged_GPR_Experiments/runs/rjt85n5i' target=\"_blank\">https://wandb.ai/afn-sy/Merged_GPR_Experiments/runs/rjt85n5i</a><br/>Synced 6 W&B file(s), 9 media file(s), 4 artifact file(s) and 4 other file(s)"
      ],
      "text/plain": [
       "<IPython.core.display.HTML object>"
      ]
     },
     "metadata": {},
     "output_type": "display_data"
    },
    {
     "data": {
      "text/html": [
       "Find logs at: <code>./wandb/run-20240122_203422-rjt85n5i/logs</code>"
      ],
      "text/plain": [
       "<IPython.core.display.HTML object>"
      ]
     },
     "metadata": {},
     "output_type": "display_data"
    },
    {
     "data": {
      "application/vnd.jupyter.widget-view+json": {
       "model_id": "f05ff516eba04950963a547260f288de",
       "version_major": 2,
       "version_minor": 0
      },
      "text/plain": [
       "VBox(children=(Label(value='Waiting for wandb.init()...\\r'), FloatProgress(value=0.011112207400017522, max=1.0…"
      ]
     },
     "metadata": {},
     "output_type": "display_data"
    },
    {
     "data": {
      "text/html": [
       "Tracking run with wandb version 0.16.2"
      ],
      "text/plain": [
       "<IPython.core.display.HTML object>"
      ]
     },
     "metadata": {},
     "output_type": "display_data"
    },
    {
     "data": {
      "text/html": [
       "Run data is saved locally in <code>/home/sf_afn/Insync/sofiaa720@gmail.com/Google Drive/masters_thesis/code_v1/msc_parking/univrses/notebooks/wandb/run-20240122_203439-s6tmhfsn</code>"
      ],
      "text/plain": [
       "<IPython.core.display.HTML object>"
      ]
     },
     "metadata": {},
     "output_type": "display_data"
    },
    {
     "data": {
      "text/html": [
       "Syncing run <strong><a href='https://wandb.ai/afn-sy/Merged_GPR_Experiments/runs/s6tmhfsn' target=\"_blank\">Single_win_varb_noisy_lp_gp:week</a></strong> to <a href='https://wandb.ai/afn-sy/Merged_GPR_Experiments' target=\"_blank\">Weights & Biases</a> (<a href='https://wandb.me/run' target=\"_blank\">docs</a>)<br/>"
      ],
      "text/plain": [
       "<IPython.core.display.HTML object>"
      ]
     },
     "metadata": {},
     "output_type": "display_data"
    },
    {
     "data": {
      "text/html": [
       " View project at <a href='https://wandb.ai/afn-sy/Merged_GPR_Experiments' target=\"_blank\">https://wandb.ai/afn-sy/Merged_GPR_Experiments</a>"
      ],
      "text/plain": [
       "<IPython.core.display.HTML object>"
      ]
     },
     "metadata": {},
     "output_type": "display_data"
    },
    {
     "data": {
      "text/html": [
       " View run at <a href='https://wandb.ai/afn-sy/Merged_GPR_Experiments/runs/s6tmhfsn' target=\"_blank\">https://wandb.ai/afn-sy/Merged_GPR_Experiments/runs/s6tmhfsn</a>"
      ],
      "text/plain": [
       "<IPython.core.display.HTML object>"
      ]
     },
     "metadata": {},
     "output_type": "display_data"
    },
    {
     "name": "stderr",
     "output_type": "stream",
     "text": [
      "wandb: WARNING Source type is set to 'repo' but some required information is missing from the environment. A job will not be created from this run. See https://docs.wandb.ai/guides/launch/create-job\n"
     ]
    },
    {
     "data": {
      "application/vnd.jupyter.widget-view+json": {
       "model_id": "e7926115be6d4fe1a4c147dc9f5876f3",
       "version_major": 2,
       "version_minor": 0
      },
      "text/plain": [
       "VBox(children=(Label(value='14.606 MB of 87.078 MB uploaded\\r'), FloatProgress(value=0.16774009300604234, max=…"
      ]
     },
     "metadata": {},
     "output_type": "display_data"
    },
    {
     "data": {
      "text/html": [
       "<style>\n",
       "    table.wandb td:nth-child(1) { padding: 0 10px; text-align: left ; width: auto;} td:nth-child(2) {text-align: left ; width: 100%}\n",
       "    .wandb-row { display: flex; flex-direction: row; flex-wrap: wrap; justify-content: flex-start; width: 100% }\n",
       "    .wandb-col { display: flex; flex-direction: column; flex-basis: 100%; flex: 1; padding: 10px; }\n",
       "    </style>\n",
       "<div class=\"wandb-row\"><div class=\"wandb-col\"><h3>Run history:</h3><br/><table class=\"wandb\"><tr><td>LML_test</td><td>▁</td></tr><tr><td>LML_train</td><td>▁▁</td></tr><tr><td>LML_validate</td><td>▁</td></tr><tr><td>MAE_test</td><td>▁</td></tr><tr><td>MAE_train</td><td>▁▁</td></tr><tr><td>MAE_validate</td><td>▁</td></tr><tr><td>MAPE_test</td><td>▁</td></tr><tr><td>MAPE_train</td><td>▁▁</td></tr><tr><td>MAPE_validate</td><td>▁</td></tr><tr><td>MSE_test</td><td>▁</td></tr><tr><td>MSE_train</td><td>▁▁</td></tr><tr><td>MSE_validate</td><td>▁</td></tr><tr><td>R2_test</td><td>▁</td></tr><tr><td>R2_train</td><td>▁▁</td></tr><tr><td>R2_validate</td><td>▁</td></tr><tr><td>RMSE_test</td><td>▁</td></tr><tr><td>RMSE_train</td><td>▁▁</td></tr><tr><td>RMSE_validate</td><td>▁</td></tr><tr><td>step</td><td>▁▁▁▁</td></tr></table><br/></div><div class=\"wandb-col\"><h3>Run summary:</h3><br/><table class=\"wandb\"><tr><td>LML_test</td><td>-5.68521</td></tr><tr><td>LML_train</td><td>-5.68521</td></tr><tr><td>LML_validate</td><td>-5.68521</td></tr><tr><td>MAE_test</td><td>1.03779</td></tr><tr><td>MAE_train</td><td>0.20224</td></tr><tr><td>MAE_validate</td><td>0.71271</td></tr><tr><td>MAPE_test</td><td>95.69448</td></tr><tr><td>MAPE_train</td><td>57.03213</td></tr><tr><td>MAPE_validate</td><td>96.41318</td></tr><tr><td>MSE_test</td><td>1.43373</td></tr><tr><td>MSE_train</td><td>0.05793</td></tr><tr><td>MSE_validate</td><td>0.70952</td></tr><tr><td>R2_test</td><td>0.08601</td></tr><tr><td>R2_train</td><td>0.67247</td></tr><tr><td>R2_validate</td><td>0.04593</td></tr><tr><td>RMSE_test</td><td>1.19739</td></tr><tr><td>RMSE_train</td><td>0.24068</td></tr><tr><td>RMSE_validate</td><td>0.84233</td></tr><tr><td>step</td><td>1</td></tr></table><br/></div></div>"
      ],
      "text/plain": [
       "<IPython.core.display.HTML object>"
      ]
     },
     "metadata": {},
     "output_type": "display_data"
    },
    {
     "data": {
      "text/html": [
       " View run <strong style=\"color:#cdcd00\">Single_win_varb_noisy_lp_gp:week</strong> at: <a href='https://wandb.ai/afn-sy/Merged_GPR_Experiments/runs/s6tmhfsn' target=\"_blank\">https://wandb.ai/afn-sy/Merged_GPR_Experiments/runs/s6tmhfsn</a><br/>Synced 6 W&B file(s), 9 media file(s), 4 artifact file(s) and 4 other file(s)"
      ],
      "text/plain": [
       "<IPython.core.display.HTML object>"
      ]
     },
     "metadata": {},
     "output_type": "display_data"
    },
    {
     "data": {
      "text/html": [
       "Find logs at: <code>./wandb/run-20240122_203439-s6tmhfsn/logs</code>"
      ],
      "text/plain": [
       "<IPython.core.display.HTML object>"
      ]
     },
     "metadata": {},
     "output_type": "display_data"
    },
    {
     "data": {
      "application/vnd.jupyter.widget-view+json": {
       "model_id": "7195df00b3f3467ea6fbc5d64fcd8321",
       "version_major": 2,
       "version_minor": 0
      },
      "text/plain": [
       "VBox(children=(Label(value='Waiting for wandb.init()...\\r'), FloatProgress(value=0.011112047900031839, max=1.0…"
      ]
     },
     "metadata": {},
     "output_type": "display_data"
    },
    {
     "data": {
      "text/html": [
       "Tracking run with wandb version 0.16.2"
      ],
      "text/plain": [
       "<IPython.core.display.HTML object>"
      ]
     },
     "metadata": {},
     "output_type": "display_data"
    },
    {
     "data": {
      "text/html": [
       "Run data is saved locally in <code>/home/sf_afn/Insync/sofiaa720@gmail.com/Google Drive/masters_thesis/code_v1/msc_parking/univrses/notebooks/wandb/run-20240122_203454-o1563gfi</code>"
      ],
      "text/plain": [
       "<IPython.core.display.HTML object>"
      ]
     },
     "metadata": {},
     "output_type": "display_data"
    },
    {
     "data": {
      "text/html": [
       "Syncing run <strong><a href='https://wandb.ai/afn-sy/Merged_GPR_Experiments/runs/o1563gfi' target=\"_blank\">Single_win_varb_noisy_lp_gp:month</a></strong> to <a href='https://wandb.ai/afn-sy/Merged_GPR_Experiments' target=\"_blank\">Weights & Biases</a> (<a href='https://wandb.me/run' target=\"_blank\">docs</a>)<br/>"
      ],
      "text/plain": [
       "<IPython.core.display.HTML object>"
      ]
     },
     "metadata": {},
     "output_type": "display_data"
    },
    {
     "data": {
      "text/html": [
       " View project at <a href='https://wandb.ai/afn-sy/Merged_GPR_Experiments' target=\"_blank\">https://wandb.ai/afn-sy/Merged_GPR_Experiments</a>"
      ],
      "text/plain": [
       "<IPython.core.display.HTML object>"
      ]
     },
     "metadata": {},
     "output_type": "display_data"
    },
    {
     "data": {
      "text/html": [
       " View run at <a href='https://wandb.ai/afn-sy/Merged_GPR_Experiments/runs/o1563gfi' target=\"_blank\">https://wandb.ai/afn-sy/Merged_GPR_Experiments/runs/o1563gfi</a>"
      ],
      "text/plain": [
       "<IPython.core.display.HTML object>"
      ]
     },
     "metadata": {},
     "output_type": "display_data"
    },
    {
     "name": "stderr",
     "output_type": "stream",
     "text": [
      "wandb: WARNING Source type is set to 'repo' but some required information is missing from the environment. A job will not be created from this run. See https://docs.wandb.ai/guides/launch/create-job\n"
     ]
    },
    {
     "data": {
      "application/vnd.jupyter.widget-view+json": {
       "model_id": "cc87348c4398467b8a2b1f1ab45fa1cf",
       "version_major": 2,
       "version_minor": 0
      },
      "text/plain": [
       "VBox(children=(Label(value='15.524 MB of 87.091 MB uploaded\\r'), FloatProgress(value=0.1782512764313891, max=1…"
      ]
     },
     "metadata": {},
     "output_type": "display_data"
    },
    {
     "data": {
      "text/html": [
       "<style>\n",
       "    table.wandb td:nth-child(1) { padding: 0 10px; text-align: left ; width: auto;} td:nth-child(2) {text-align: left ; width: 100%}\n",
       "    .wandb-row { display: flex; flex-direction: row; flex-wrap: wrap; justify-content: flex-start; width: 100% }\n",
       "    .wandb-col { display: flex; flex-direction: column; flex-basis: 100%; flex: 1; padding: 10px; }\n",
       "    </style>\n",
       "<div class=\"wandb-row\"><div class=\"wandb-col\"><h3>Run history:</h3><br/><table class=\"wandb\"><tr><td>LML_test</td><td>▁</td></tr><tr><td>LML_train</td><td>▁▁</td></tr><tr><td>LML_validate</td><td>▁</td></tr><tr><td>MAE_test</td><td>▁</td></tr><tr><td>MAE_train</td><td>▁▁</td></tr><tr><td>MAE_validate</td><td>▁</td></tr><tr><td>MAPE_test</td><td>▁</td></tr><tr><td>MAPE_train</td><td>▁▁</td></tr><tr><td>MAPE_validate</td><td>▁</td></tr><tr><td>MSE_test</td><td>▁</td></tr><tr><td>MSE_train</td><td>▁▁</td></tr><tr><td>MSE_validate</td><td>▁</td></tr><tr><td>R2_test</td><td>▁</td></tr><tr><td>R2_train</td><td>▁▁</td></tr><tr><td>R2_validate</td><td>▁</td></tr><tr><td>RMSE_test</td><td>▁</td></tr><tr><td>RMSE_train</td><td>▁▁</td></tr><tr><td>RMSE_validate</td><td>▁</td></tr><tr><td>step</td><td>▁▁▁▁</td></tr></table><br/></div><div class=\"wandb-col\"><h3>Run summary:</h3><br/><table class=\"wandb\"><tr><td>LML_test</td><td>-26.9975</td></tr><tr><td>LML_train</td><td>-26.9975</td></tr><tr><td>LML_validate</td><td>-26.9975</td></tr><tr><td>MAE_test</td><td>1.33606</td></tr><tr><td>MAE_train</td><td>0.50142</td></tr><tr><td>MAE_validate</td><td>1.06929</td></tr><tr><td>MAPE_test</td><td>127.80635</td></tr><tr><td>MAPE_train</td><td>143.08513</td></tr><tr><td>MAPE_validate</td><td>146.32573</td></tr><tr><td>MSE_test</td><td>2.50893</td></tr><tr><td>MSE_train</td><td>0.40586</td></tr><tr><td>MSE_validate</td><td>1.72956</td></tr><tr><td>R2_test</td><td>-0.15145</td></tr><tr><td>R2_train</td><td>0.52035</td></tr><tr><td>R2_validate</td><td>-1.02579</td></tr><tr><td>RMSE_test</td><td>1.58396</td></tr><tr><td>RMSE_train</td><td>0.63707</td></tr><tr><td>RMSE_validate</td><td>1.31513</td></tr><tr><td>step</td><td>1</td></tr></table><br/></div></div>"
      ],
      "text/plain": [
       "<IPython.core.display.HTML object>"
      ]
     },
     "metadata": {},
     "output_type": "display_data"
    },
    {
     "data": {
      "text/html": [
       " View run <strong style=\"color:#cdcd00\">Single_win_varb_noisy_lp_gp:month</strong> at: <a href='https://wandb.ai/afn-sy/Merged_GPR_Experiments/runs/o1563gfi' target=\"_blank\">https://wandb.ai/afn-sy/Merged_GPR_Experiments/runs/o1563gfi</a><br/>Synced 6 W&B file(s), 9 media file(s), 4 artifact file(s) and 4 other file(s)"
      ],
      "text/plain": [
       "<IPython.core.display.HTML object>"
      ]
     },
     "metadata": {},
     "output_type": "display_data"
    },
    {
     "data": {
      "text/html": [
       "Find logs at: <code>./wandb/run-20240122_203454-o1563gfi/logs</code>"
      ],
      "text/plain": [
       "<IPython.core.display.HTML object>"
      ]
     },
     "metadata": {},
     "output_type": "display_data"
    },
    {
     "data": {
      "application/vnd.jupyter.widget-view+json": {
       "model_id": "3eb570ab05cb425a80c5933c7c83483b",
       "version_major": 2,
       "version_minor": 0
      },
      "text/plain": [
       "VBox(children=(Label(value='Waiting for wandb.init()...\\r'), FloatProgress(value=0.011112037655564361, max=1.0…"
      ]
     },
     "metadata": {},
     "output_type": "display_data"
    },
    {
     "data": {
      "text/html": [
       "Tracking run with wandb version 0.16.2"
      ],
      "text/plain": [
       "<IPython.core.display.HTML object>"
      ]
     },
     "metadata": {},
     "output_type": "display_data"
    },
    {
     "data": {
      "text/html": [
       "Run data is saved locally in <code>/home/sf_afn/Insync/sofiaa720@gmail.com/Google Drive/masters_thesis/code_v1/msc_parking/univrses/notebooks/wandb/run-20240122_203509-02fbx6cl</code>"
      ],
      "text/plain": [
       "<IPython.core.display.HTML object>"
      ]
     },
     "metadata": {},
     "output_type": "display_data"
    },
    {
     "data": {
      "text/html": [
       "Syncing run <strong><a href='https://wandb.ai/afn-sy/Merged_GPR_Experiments/runs/02fbx6cl' target=\"_blank\">Single_win_slakt_noisy_lp_gp:hour</a></strong> to <a href='https://wandb.ai/afn-sy/Merged_GPR_Experiments' target=\"_blank\">Weights & Biases</a> (<a href='https://wandb.me/run' target=\"_blank\">docs</a>)<br/>"
      ],
      "text/plain": [
       "<IPython.core.display.HTML object>"
      ]
     },
     "metadata": {},
     "output_type": "display_data"
    },
    {
     "data": {
      "text/html": [
       " View project at <a href='https://wandb.ai/afn-sy/Merged_GPR_Experiments' target=\"_blank\">https://wandb.ai/afn-sy/Merged_GPR_Experiments</a>"
      ],
      "text/plain": [
       "<IPython.core.display.HTML object>"
      ]
     },
     "metadata": {},
     "output_type": "display_data"
    },
    {
     "data": {
      "text/html": [
       " View run at <a href='https://wandb.ai/afn-sy/Merged_GPR_Experiments/runs/02fbx6cl' target=\"_blank\">https://wandb.ai/afn-sy/Merged_GPR_Experiments/runs/02fbx6cl</a>"
      ],
      "text/plain": [
       "<IPython.core.display.HTML object>"
      ]
     },
     "metadata": {},
     "output_type": "display_data"
    },
    {
     "name": "stderr",
     "output_type": "stream",
     "text": [
      "/home/sf_afn/usr_sa/anaconda3/envs/prkng_v2_env/lib/python3.11/site-packages/sklearn/gaussian_process/kernels.py:419: ConvergenceWarning:\n",
      "\n",
      "The optimal value found for dimension 0 of parameter k1__k1__k1__k1__constant_value is close to the specified lower bound 1e-05. Decreasing the bound and calling fit again may find a better value.\n",
      "\n",
      "/home/sf_afn/usr_sa/anaconda3/envs/prkng_v2_env/lib/python3.11/site-packages/sklearn/gaussian_process/kernels.py:429: ConvergenceWarning:\n",
      "\n",
      "The optimal value found for dimension 0 of parameter k1__k1__k1__k2__length_scale is close to the specified upper bound 1000.0. Increasing the bound and calling fit again may find a better value.\n",
      "\n",
      "/home/sf_afn/usr_sa/anaconda3/envs/prkng_v2_env/lib/python3.11/site-packages/sklearn/gaussian_process/kernels.py:419: ConvergenceWarning:\n",
      "\n",
      "The optimal value found for dimension 0 of parameter k2__length_scale is close to the specified lower bound 0.1. Decreasing the bound and calling fit again may find a better value.\n",
      "\n"
     ]
    },
    {
     "data": {
      "application/vnd.jupyter.widget-view+json": {
       "model_id": "3927405b526b497ba60d914095a8cf8e",
       "version_major": 2,
       "version_minor": 0
      },
      "text/plain": [
       "VBox(children=(Label(value='16.205 MB of 87.097 MB uploaded\\r'), FloatProgress(value=0.1860540167034094, max=1…"
      ]
     },
     "metadata": {},
     "output_type": "display_data"
    },
    {
     "name": "stderr",
     "output_type": "stream",
     "text": [
      "wandb: WARNING Source type is set to 'repo' but some required information is missing from the environment. A job will not be created from this run. See https://docs.wandb.ai/guides/launch/create-job\n"
     ]
    },
    {
     "data": {
      "text/html": [
       "<style>\n",
       "    table.wandb td:nth-child(1) { padding: 0 10px; text-align: left ; width: auto;} td:nth-child(2) {text-align: left ; width: 100%}\n",
       "    .wandb-row { display: flex; flex-direction: row; flex-wrap: wrap; justify-content: flex-start; width: 100% }\n",
       "    .wandb-col { display: flex; flex-direction: column; flex-basis: 100%; flex: 1; padding: 10px; }\n",
       "    </style>\n",
       "<div class=\"wandb-row\"><div class=\"wandb-col\"><h3>Run history:</h3><br/><table class=\"wandb\"><tr><td>LML_test</td><td>▁</td></tr><tr><td>LML_train</td><td>▁▁</td></tr><tr><td>LML_validate</td><td>▁</td></tr><tr><td>MAE_test</td><td>▁</td></tr><tr><td>MAE_train</td><td>▁▁</td></tr><tr><td>MAE_validate</td><td>▁</td></tr><tr><td>MAPE_test</td><td>▁</td></tr><tr><td>MAPE_train</td><td>▁▁</td></tr><tr><td>MAPE_validate</td><td>▁</td></tr><tr><td>MSE_test</td><td>▁</td></tr><tr><td>MSE_train</td><td>▁▁</td></tr><tr><td>MSE_validate</td><td>▁</td></tr><tr><td>R2_test</td><td>▁</td></tr><tr><td>R2_train</td><td>▁▁</td></tr><tr><td>R2_validate</td><td>▁</td></tr><tr><td>RMSE_test</td><td>▁</td></tr><tr><td>RMSE_train</td><td>▁▁</td></tr><tr><td>RMSE_validate</td><td>▁</td></tr><tr><td>step</td><td>▁▁▁▁</td></tr></table><br/></div><div class=\"wandb-col\"><h3>Run summary:</h3><br/><table class=\"wandb\"><tr><td>LML_test</td><td>-5.06597</td></tr><tr><td>LML_train</td><td>-5.06597</td></tr><tr><td>LML_validate</td><td>-5.06597</td></tr><tr><td>MAE_test</td><td>0.62877</td></tr><tr><td>MAE_train</td><td>0.14745</td></tr><tr><td>MAE_validate</td><td>0.5505</td></tr><tr><td>MAPE_test</td><td>224.26752</td></tr><tr><td>MAPE_train</td><td>102.157</td></tr><tr><td>MAPE_validate</td><td>75.79553</td></tr><tr><td>MSE_test</td><td>0.58061</td></tr><tr><td>MSE_train</td><td>0.03596</td></tr><tr><td>MSE_validate</td><td>0.37896</td></tr><tr><td>R2_test</td><td>0.19816</td></tr><tr><td>R2_train</td><td>0.85049</td></tr><tr><td>R2_validate</td><td>0.30567</td></tr><tr><td>RMSE_test</td><td>0.76198</td></tr><tr><td>RMSE_train</td><td>0.18963</td></tr><tr><td>RMSE_validate</td><td>0.6156</td></tr><tr><td>step</td><td>1</td></tr></table><br/></div></div>"
      ],
      "text/plain": [
       "<IPython.core.display.HTML object>"
      ]
     },
     "metadata": {},
     "output_type": "display_data"
    },
    {
     "data": {
      "text/html": [
       " View run <strong style=\"color:#cdcd00\">Single_win_slakt_noisy_lp_gp:hour</strong> at: <a href='https://wandb.ai/afn-sy/Merged_GPR_Experiments/runs/02fbx6cl' target=\"_blank\">https://wandb.ai/afn-sy/Merged_GPR_Experiments/runs/02fbx6cl</a><br/>Synced 7 W&B file(s), 9 media file(s), 4 artifact file(s) and 4 other file(s)"
      ],
      "text/plain": [
       "<IPython.core.display.HTML object>"
      ]
     },
     "metadata": {},
     "output_type": "display_data"
    },
    {
     "data": {
      "text/html": [
       "Find logs at: <code>./wandb/run-20240122_203509-02fbx6cl/logs</code>"
      ],
      "text/plain": [
       "<IPython.core.display.HTML object>"
      ]
     },
     "metadata": {},
     "output_type": "display_data"
    },
    {
     "data": {
      "application/vnd.jupyter.widget-view+json": {
       "model_id": "43105510ade049548115e0939fb13347",
       "version_major": 2,
       "version_minor": 0
      },
      "text/plain": [
       "VBox(children=(Label(value='Waiting for wandb.init()...\\r'), FloatProgress(value=0.011112080977747811, max=1.0…"
      ]
     },
     "metadata": {},
     "output_type": "display_data"
    },
    {
     "data": {
      "text/html": [
       "Tracking run with wandb version 0.16.2"
      ],
      "text/plain": [
       "<IPython.core.display.HTML object>"
      ]
     },
     "metadata": {},
     "output_type": "display_data"
    },
    {
     "data": {
      "text/html": [
       "Run data is saved locally in <code>/home/sf_afn/Insync/sofiaa720@gmail.com/Google Drive/masters_thesis/code_v1/msc_parking/univrses/notebooks/wandb/run-20240122_203525-8ir6tdwc</code>"
      ],
      "text/plain": [
       "<IPython.core.display.HTML object>"
      ]
     },
     "metadata": {},
     "output_type": "display_data"
    },
    {
     "data": {
      "text/html": [
       "Syncing run <strong><a href='https://wandb.ai/afn-sy/Merged_GPR_Experiments/runs/8ir6tdwc' target=\"_blank\">Single_win_slakt_noisy_lp_gp:week</a></strong> to <a href='https://wandb.ai/afn-sy/Merged_GPR_Experiments' target=\"_blank\">Weights & Biases</a> (<a href='https://wandb.me/run' target=\"_blank\">docs</a>)<br/>"
      ],
      "text/plain": [
       "<IPython.core.display.HTML object>"
      ]
     },
     "metadata": {},
     "output_type": "display_data"
    },
    {
     "data": {
      "text/html": [
       " View project at <a href='https://wandb.ai/afn-sy/Merged_GPR_Experiments' target=\"_blank\">https://wandb.ai/afn-sy/Merged_GPR_Experiments</a>"
      ],
      "text/plain": [
       "<IPython.core.display.HTML object>"
      ]
     },
     "metadata": {},
     "output_type": "display_data"
    },
    {
     "data": {
      "text/html": [
       " View run at <a href='https://wandb.ai/afn-sy/Merged_GPR_Experiments/runs/8ir6tdwc' target=\"_blank\">https://wandb.ai/afn-sy/Merged_GPR_Experiments/runs/8ir6tdwc</a>"
      ],
      "text/plain": [
       "<IPython.core.display.HTML object>"
      ]
     },
     "metadata": {},
     "output_type": "display_data"
    },
    {
     "name": "stderr",
     "output_type": "stream",
     "text": [
      "/home/sf_afn/usr_sa/anaconda3/envs/prkng_v2_env/lib/python3.11/site-packages/sklearn/gaussian_process/kernels.py:419: ConvergenceWarning:\n",
      "\n",
      "The optimal value found for dimension 0 of parameter k1__k1__k1__k1__constant_value is close to the specified lower bound 1e-05. Decreasing the bound and calling fit again may find a better value.\n",
      "\n",
      "/home/sf_afn/usr_sa/anaconda3/envs/prkng_v2_env/lib/python3.11/site-packages/sklearn/gaussian_process/kernels.py:429: ConvergenceWarning:\n",
      "\n",
      "The optimal value found for dimension 0 of parameter k1__k1__k1__k2__length_scale is close to the specified upper bound 1000.0. Increasing the bound and calling fit again may find a better value.\n",
      "\n",
      "/home/sf_afn/usr_sa/anaconda3/envs/prkng_v2_env/lib/python3.11/site-packages/sklearn/gaussian_process/kernels.py:419: ConvergenceWarning:\n",
      "\n",
      "The optimal value found for dimension 0 of parameter k2__length_scale is close to the specified lower bound 0.1. Decreasing the bound and calling fit again may find a better value.\n",
      "\n"
     ]
    },
    {
     "data": {
      "application/vnd.jupyter.widget-view+json": {
       "model_id": "bc582db0949f423d8542dbb0889fbf93",
       "version_major": 2,
       "version_minor": 0
      },
      "text/plain": [
       "VBox(children=(Label(value='19.513 MB of 87.078 MB uploaded\\r'), FloatProgress(value=0.22408350626976595, max=…"
      ]
     },
     "metadata": {},
     "output_type": "display_data"
    },
    {
     "name": "stderr",
     "output_type": "stream",
     "text": [
      "wandb: WARNING Source type is set to 'repo' but some required information is missing from the environment. A job will not be created from this run. See https://docs.wandb.ai/guides/launch/create-job\n"
     ]
    },
    {
     "data": {
      "text/html": [
       "<style>\n",
       "    table.wandb td:nth-child(1) { padding: 0 10px; text-align: left ; width: auto;} td:nth-child(2) {text-align: left ; width: 100%}\n",
       "    .wandb-row { display: flex; flex-direction: row; flex-wrap: wrap; justify-content: flex-start; width: 100% }\n",
       "    .wandb-col { display: flex; flex-direction: column; flex-basis: 100%; flex: 1; padding: 10px; }\n",
       "    </style>\n",
       "<div class=\"wandb-row\"><div class=\"wandb-col\"><h3>Run history:</h3><br/><table class=\"wandb\"><tr><td>LML_test</td><td>▁</td></tr><tr><td>LML_train</td><td>▁▁</td></tr><tr><td>LML_validate</td><td>▁</td></tr><tr><td>MAE_test</td><td>▁</td></tr><tr><td>MAE_train</td><td>▁▁</td></tr><tr><td>MAE_validate</td><td>▁</td></tr><tr><td>MAPE_test</td><td>▁</td></tr><tr><td>MAPE_train</td><td>▁▁</td></tr><tr><td>MAPE_validate</td><td>▁</td></tr><tr><td>MSE_test</td><td>▁</td></tr><tr><td>MSE_train</td><td>▁▁</td></tr><tr><td>MSE_validate</td><td>▁</td></tr><tr><td>R2_test</td><td>▁</td></tr><tr><td>R2_train</td><td>▁▁</td></tr><tr><td>R2_validate</td><td>▁</td></tr><tr><td>RMSE_test</td><td>▁</td></tr><tr><td>RMSE_train</td><td>▁▁</td></tr><tr><td>RMSE_validate</td><td>▁</td></tr><tr><td>step</td><td>▁▁▁▁</td></tr></table><br/></div><div class=\"wandb-col\"><h3>Run summary:</h3><br/><table class=\"wandb\"><tr><td>LML_test</td><td>-1.06969</td></tr><tr><td>LML_train</td><td>-1.06969</td></tr><tr><td>LML_validate</td><td>-1.06969</td></tr><tr><td>MAE_test</td><td>0.67242</td></tr><tr><td>MAE_train</td><td>0.057</td></tr><tr><td>MAE_validate</td><td>0.4863</td></tr><tr><td>MAPE_test</td><td>203.75404</td></tr><tr><td>MAPE_train</td><td>47.89085</td></tr><tr><td>MAPE_validate</td><td>95.40065</td></tr><tr><td>MSE_test</td><td>0.50732</td></tr><tr><td>MSE_train</td><td>0.00428</td></tr><tr><td>MSE_validate</td><td>0.36992</td></tr><tr><td>R2_test</td><td>-2.32861</td></tr><tr><td>R2_train</td><td>0.95154</td></tr><tr><td>R2_validate</td><td>-1.91833</td></tr><tr><td>RMSE_test</td><td>0.71226</td></tr><tr><td>RMSE_train</td><td>0.06541</td></tr><tr><td>RMSE_validate</td><td>0.60821</td></tr><tr><td>step</td><td>1</td></tr></table><br/></div></div>"
      ],
      "text/plain": [
       "<IPython.core.display.HTML object>"
      ]
     },
     "metadata": {},
     "output_type": "display_data"
    },
    {
     "data": {
      "text/html": [
       " View run <strong style=\"color:#cdcd00\">Single_win_slakt_noisy_lp_gp:week</strong> at: <a href='https://wandb.ai/afn-sy/Merged_GPR_Experiments/runs/8ir6tdwc' target=\"_blank\">https://wandb.ai/afn-sy/Merged_GPR_Experiments/runs/8ir6tdwc</a><br/>Synced 7 W&B file(s), 9 media file(s), 4 artifact file(s) and 4 other file(s)"
      ],
      "text/plain": [
       "<IPython.core.display.HTML object>"
      ]
     },
     "metadata": {},
     "output_type": "display_data"
    },
    {
     "data": {
      "text/html": [
       "Find logs at: <code>./wandb/run-20240122_203525-8ir6tdwc/logs</code>"
      ],
      "text/plain": [
       "<IPython.core.display.HTML object>"
      ]
     },
     "metadata": {},
     "output_type": "display_data"
    },
    {
     "data": {
      "application/vnd.jupyter.widget-view+json": {
       "model_id": "0979b1b9c2c14aab98c63f5505144b12",
       "version_major": 2,
       "version_minor": 0
      },
      "text/plain": [
       "VBox(children=(Label(value='Waiting for wandb.init()...\\r'), FloatProgress(value=0.011112165300033262, max=1.0…"
      ]
     },
     "metadata": {},
     "output_type": "display_data"
    },
    {
     "data": {
      "text/html": [
       "Tracking run with wandb version 0.16.2"
      ],
      "text/plain": [
       "<IPython.core.display.HTML object>"
      ]
     },
     "metadata": {},
     "output_type": "display_data"
    },
    {
     "data": {
      "text/html": [
       "Run data is saved locally in <code>/home/sf_afn/Insync/sofiaa720@gmail.com/Google Drive/masters_thesis/code_v1/msc_parking/univrses/notebooks/wandb/run-20240122_203540-zlu3mzgk</code>"
      ],
      "text/plain": [
       "<IPython.core.display.HTML object>"
      ]
     },
     "metadata": {},
     "output_type": "display_data"
    },
    {
     "data": {
      "text/html": [
       "Syncing run <strong><a href='https://wandb.ai/afn-sy/Merged_GPR_Experiments/runs/zlu3mzgk' target=\"_blank\">Single_win_slakt_noisy_lp_gp:month</a></strong> to <a href='https://wandb.ai/afn-sy/Merged_GPR_Experiments' target=\"_blank\">Weights & Biases</a> (<a href='https://wandb.me/run' target=\"_blank\">docs</a>)<br/>"
      ],
      "text/plain": [
       "<IPython.core.display.HTML object>"
      ]
     },
     "metadata": {},
     "output_type": "display_data"
    },
    {
     "data": {
      "text/html": [
       " View project at <a href='https://wandb.ai/afn-sy/Merged_GPR_Experiments' target=\"_blank\">https://wandb.ai/afn-sy/Merged_GPR_Experiments</a>"
      ],
      "text/plain": [
       "<IPython.core.display.HTML object>"
      ]
     },
     "metadata": {},
     "output_type": "display_data"
    },
    {
     "data": {
      "text/html": [
       " View run at <a href='https://wandb.ai/afn-sy/Merged_GPR_Experiments/runs/zlu3mzgk' target=\"_blank\">https://wandb.ai/afn-sy/Merged_GPR_Experiments/runs/zlu3mzgk</a>"
      ],
      "text/plain": [
       "<IPython.core.display.HTML object>"
      ]
     },
     "metadata": {},
     "output_type": "display_data"
    },
    {
     "name": "stderr",
     "output_type": "stream",
     "text": [
      "wandb: WARNING Source type is set to 'repo' but some required information is missing from the environment. A job will not be created from this run. See https://docs.wandb.ai/guides/launch/create-job\n"
     ]
    },
    {
     "data": {
      "application/vnd.jupyter.widget-view+json": {
       "model_id": "5d90b49c4584461480655cebca00f3ad",
       "version_major": 2,
       "version_minor": 0
      },
      "text/plain": [
       "VBox(children=(Label(value='16.829 MB of 87.091 MB uploaded\\r'), FloatProgress(value=0.1932329927574959, max=1…"
      ]
     },
     "metadata": {},
     "output_type": "display_data"
    },
    {
     "data": {
      "text/html": [
       "<style>\n",
       "    table.wandb td:nth-child(1) { padding: 0 10px; text-align: left ; width: auto;} td:nth-child(2) {text-align: left ; width: 100%}\n",
       "    .wandb-row { display: flex; flex-direction: row; flex-wrap: wrap; justify-content: flex-start; width: 100% }\n",
       "    .wandb-col { display: flex; flex-direction: column; flex-basis: 100%; flex: 1; padding: 10px; }\n",
       "    </style>\n",
       "<div class=\"wandb-row\"><div class=\"wandb-col\"><h3>Run history:</h3><br/><table class=\"wandb\"><tr><td>LML_test</td><td>▁</td></tr><tr><td>LML_train</td><td>▁▁</td></tr><tr><td>LML_validate</td><td>▁</td></tr><tr><td>MAE_test</td><td>▁</td></tr><tr><td>MAE_train</td><td>▁▁</td></tr><tr><td>MAE_validate</td><td>▁</td></tr><tr><td>MAPE_test</td><td>▁</td></tr><tr><td>MAPE_train</td><td>▁▁</td></tr><tr><td>MAPE_validate</td><td>▁</td></tr><tr><td>MSE_test</td><td>▁</td></tr><tr><td>MSE_train</td><td>▁▁</td></tr><tr><td>MSE_validate</td><td>▁</td></tr><tr><td>R2_test</td><td>▁</td></tr><tr><td>R2_train</td><td>▁▁</td></tr><tr><td>R2_validate</td><td>▁</td></tr><tr><td>RMSE_test</td><td>▁</td></tr><tr><td>RMSE_train</td><td>▁▁</td></tr><tr><td>RMSE_validate</td><td>▁</td></tr><tr><td>step</td><td>▁▁▁▁</td></tr></table><br/></div><div class=\"wandb-col\"><h3>Run summary:</h3><br/><table class=\"wandb\"><tr><td>LML_test</td><td>-14.28405</td></tr><tr><td>LML_train</td><td>-14.28405</td></tr><tr><td>LML_validate</td><td>-14.28405</td></tr><tr><td>MAE_test</td><td>1.26114</td></tr><tr><td>MAE_train</td><td>0.1789</td></tr><tr><td>MAE_validate</td><td>0.8122</td></tr><tr><td>MAPE_test</td><td>164.46142</td></tr><tr><td>MAPE_train</td><td>81.92759</td></tr><tr><td>MAPE_validate</td><td>662.54859</td></tr><tr><td>MSE_test</td><td>2.17332</td></tr><tr><td>MSE_train</td><td>0.06941</td></tr><tr><td>MSE_validate</td><td>0.75748</td></tr><tr><td>R2_test</td><td>-3.9798</td></tr><tr><td>R2_train</td><td>0.75741</td></tr><tr><td>R2_validate</td><td>-3.67245</td></tr><tr><td>RMSE_test</td><td>1.47422</td></tr><tr><td>RMSE_train</td><td>0.26346</td></tr><tr><td>RMSE_validate</td><td>0.87034</td></tr><tr><td>step</td><td>1</td></tr></table><br/></div></div>"
      ],
      "text/plain": [
       "<IPython.core.display.HTML object>"
      ]
     },
     "metadata": {},
     "output_type": "display_data"
    },
    {
     "data": {
      "text/html": [
       " View run <strong style=\"color:#cdcd00\">Single_win_slakt_noisy_lp_gp:month</strong> at: <a href='https://wandb.ai/afn-sy/Merged_GPR_Experiments/runs/zlu3mzgk' target=\"_blank\">https://wandb.ai/afn-sy/Merged_GPR_Experiments/runs/zlu3mzgk</a><br/>Synced 6 W&B file(s), 9 media file(s), 4 artifact file(s) and 4 other file(s)"
      ],
      "text/plain": [
       "<IPython.core.display.HTML object>"
      ]
     },
     "metadata": {},
     "output_type": "display_data"
    },
    {
     "data": {
      "text/html": [
       "Find logs at: <code>./wandb/run-20240122_203540-zlu3mzgk/logs</code>"
      ],
      "text/plain": [
       "<IPython.core.display.HTML object>"
      ]
     },
     "metadata": {},
     "output_type": "display_data"
    },
    {
     "name": "stdout",
     "output_type": "stream",
     "text": [
      "All experiments completed.\n"
     ]
    }
   ],
   "source": [
    "\n",
    "# Iterate through each dataset\n",
    "for dataset_name, data in datasets.items():\n",
    "    # Iterate through each kernel\n",
    "    train, valid, test = split_data(data, train_ratio= 0.6, valid_ratio= 0.2)\n",
    "    \n",
    "    for kernel_name, kernel in kernels.items():\n",
    "        # Initialize the Gaussian Process Regressor with the current kernel\n",
    "        gpr = GaussianProcessRegressor(kernel=kernel)\n",
    "\n",
    "        # Iterate through each feature\n",
    "        for feature_name, feature_data in features.items():\n",
    "            \n",
    "            if wandb.run is not None:\n",
    "                wandb.run.finish()\n",
    "                \n",
    "            # Initialize a wandb run for tracking\n",
    "            run = wandb.init(project=\"Merged_GPR_Experiments\", \n",
    "                             name=f\"Single_win_{dataset_name}_{kernel_name}:{feature_name}\")\n",
    "            try:\n",
    "                \n",
    "                # Set experiment configuration\n",
    "                config = wandb.config\n",
    "                config.dataset = dataset_name\n",
    "                config.kernel = kernel_name\n",
    "                config.feature = feature_name\n",
    "\n",
    "                # Call your experiment function\n",
    "                y_test_pred, y_test_std, gpr = single_window_gpr_process(\n",
    "                    run,\n",
    "                    train,\n",
    "                    valid,\n",
    "                    test,\n",
    "                    gpr,\n",
    "                    features=feature_data,\n",
    "                    target='centered_car_count',  # Adjust as needed\n",
    "                    agg_func='mean'\n",
    "                )\n",
    "            except Exception as e:\n",
    "                print(f\"An error occurred: {e}\")\n",
    "            finally:\n",
    "                run.finish()\n",
    "            \n",
    "\n",
    "      \n",
    "\n",
    "print('All experiments completed.')\n"
   ]
  },
  {
   "cell_type": "code",
   "execution_count": 10,
   "metadata": {},
   "outputs": [
    {
     "data": {
      "application/vnd.jupyter.widget-view+json": {
       "model_id": "cc8065256ba74eb394ca217385be1d09",
       "version_major": 2,
       "version_minor": 0
      },
      "text/plain": [
       "VBox(children=(Label(value='Waiting for wandb.init()...\\r'), FloatProgress(value=0.011112068344421763, max=1.0…"
      ]
     },
     "metadata": {},
     "output_type": "display_data"
    },
    {
     "data": {
      "text/html": [
       "Tracking run with wandb version 0.16.2"
      ],
      "text/plain": [
       "<IPython.core.display.HTML object>"
      ]
     },
     "metadata": {},
     "output_type": "display_data"
    },
    {
     "data": {
      "text/html": [
       "Run data is saved locally in <code>/home/sf_afn/Insync/sofiaa720@gmail.com/Google Drive/masters_thesis/code_v1/msc_parking/univrses/notebooks/wandb/run-20240122_203555-whmxgwbu</code>"
      ],
      "text/plain": [
       "<IPython.core.display.HTML object>"
      ]
     },
     "metadata": {},
     "output_type": "display_data"
    },
    {
     "data": {
      "text/html": [
       "Syncing run <strong><a href='https://wandb.ai/afn-sy/Merged_GPR_Experiments/runs/whmxgwbu' target=\"_blank\">Sliding_kris_noisy_lp_gp:hour</a></strong> to <a href='https://wandb.ai/afn-sy/Merged_GPR_Experiments' target=\"_blank\">Weights & Biases</a> (<a href='https://wandb.me/run' target=\"_blank\">docs</a>)<br/>"
      ],
      "text/plain": [
       "<IPython.core.display.HTML object>"
      ]
     },
     "metadata": {},
     "output_type": "display_data"
    },
    {
     "data": {
      "text/html": [
       " View project at <a href='https://wandb.ai/afn-sy/Merged_GPR_Experiments' target=\"_blank\">https://wandb.ai/afn-sy/Merged_GPR_Experiments</a>"
      ],
      "text/plain": [
       "<IPython.core.display.HTML object>"
      ]
     },
     "metadata": {},
     "output_type": "display_data"
    },
    {
     "data": {
      "text/html": [
       " View run at <a href='https://wandb.ai/afn-sy/Merged_GPR_Experiments/runs/whmxgwbu' target=\"_blank\">https://wandb.ai/afn-sy/Merged_GPR_Experiments/runs/whmxgwbu</a>"
      ],
      "text/plain": [
       "<IPython.core.display.HTML object>"
      ]
     },
     "metadata": {},
     "output_type": "display_data"
    },
    {
     "name": "stderr",
     "output_type": "stream",
     "text": [
      "Processing sliding window:   0%|                                            | 0/108 [00:00<?, ?it/s]/home/sf_afn/usr_sa/anaconda3/envs/prkng_v2_env/lib/python3.11/site-packages/sklearn/gaussian_process/kernels.py:429: ConvergenceWarning:\n",
      "\n",
      "The optimal value found for dimension 0 of parameter k1__k1__k1__k2__length_scale is close to the specified upper bound 1000.0. Increasing the bound and calling fit again may find a better value.\n",
      "\n",
      "Processing sliding window:   2%|▋                                   | 2/108 [00:00<00:24,  4.37it/s]"
     ]
    },
    {
     "name": "stdout",
     "output_type": "stream",
     "text": [
      "Step: 1\n"
     ]
    },
    {
     "name": "stderr",
     "output_type": "stream",
     "text": [
      "Processing sliding window:   4%|█▎                                  | 4/108 [00:01<00:26,  3.90it/s]/home/sf_afn/usr_sa/anaconda3/envs/prkng_v2_env/lib/python3.11/site-packages/sklearn/gaussian_process/kernels.py:429: ConvergenceWarning:\n",
      "\n",
      "The optimal value found for dimension 0 of parameter k1__k1__k1__k2__length_scale is close to the specified upper bound 1000.0. Increasing the bound and calling fit again may find a better value.\n",
      "\n",
      "/home/sf_afn/usr_sa/anaconda3/envs/prkng_v2_env/lib/python3.11/site-packages/sklearn/gaussian_process/kernels.py:429: ConvergenceWarning:\n",
      "\n",
      "The optimal value found for dimension 0 of parameter k1__k2__noise_level is close to the specified upper bound 10.0. Increasing the bound and calling fit again may find a better value.\n",
      "\n"
     ]
    },
    {
     "name": "stdout",
     "output_type": "stream",
     "text": [
      "Step: 2\n"
     ]
    },
    {
     "name": "stderr",
     "output_type": "stream",
     "text": [
      "Processing sliding window:   6%|██                                  | 6/108 [00:01<00:27,  3.72it/s]/home/sf_afn/usr_sa/anaconda3/envs/prkng_v2_env/lib/python3.11/site-packages/sklearn/gaussian_process/kernels.py:429: ConvergenceWarning:\n",
      "\n",
      "The optimal value found for dimension 0 of parameter k1__k1__k1__k2__length_scale is close to the specified upper bound 1000.0. Increasing the bound and calling fit again may find a better value.\n",
      "\n"
     ]
    },
    {
     "name": "stdout",
     "output_type": "stream",
     "text": [
      "Step: 3\n"
     ]
    },
    {
     "name": "stderr",
     "output_type": "stream",
     "text": [
      "Processing sliding window:   7%|██▋                                 | 8/108 [00:02<00:26,  3.78it/s]"
     ]
    },
    {
     "name": "stdout",
     "output_type": "stream",
     "text": [
      "Step: 4\n"
     ]
    },
    {
     "name": "stderr",
     "output_type": "stream",
     "text": [
      "Processing sliding window:   9%|███▏                               | 10/108 [00:02<00:26,  3.68it/s]/home/sf_afn/usr_sa/anaconda3/envs/prkng_v2_env/lib/python3.11/site-packages/sklearn/gaussian_process/kernels.py:429: ConvergenceWarning:\n",
      "\n",
      "The optimal value found for dimension 0 of parameter k1__k1__k1__k2__length_scale is close to the specified upper bound 1000.0. Increasing the bound and calling fit again may find a better value.\n",
      "\n"
     ]
    },
    {
     "name": "stdout",
     "output_type": "stream",
     "text": [
      "Step: 5\n"
     ]
    },
    {
     "name": "stderr",
     "output_type": "stream",
     "text": [
      "Processing sliding window:  11%|███▉                               | 12/108 [00:03<00:26,  3.61it/s]"
     ]
    },
    {
     "name": "stdout",
     "output_type": "stream",
     "text": [
      "Step: 6\n"
     ]
    },
    {
     "name": "stderr",
     "output_type": "stream",
     "text": [
      "Processing sliding window:  13%|████▌                              | 14/108 [00:03<00:26,  3.53it/s]"
     ]
    },
    {
     "name": "stdout",
     "output_type": "stream",
     "text": [
      "Step: 7\n"
     ]
    },
    {
     "name": "stderr",
     "output_type": "stream",
     "text": [
      "Processing sliding window:  15%|█████▏                             | 16/108 [00:04<00:26,  3.42it/s]/home/sf_afn/usr_sa/anaconda3/envs/prkng_v2_env/lib/python3.11/site-packages/sklearn/gaussian_process/kernels.py:429: ConvergenceWarning:\n",
      "\n",
      "The optimal value found for dimension 0 of parameter k1__k1__k1__k2__length_scale is close to the specified upper bound 1000.0. Increasing the bound and calling fit again may find a better value.\n",
      "\n"
     ]
    },
    {
     "name": "stdout",
     "output_type": "stream",
     "text": [
      "Step: 8\n"
     ]
    },
    {
     "name": "stderr",
     "output_type": "stream",
     "text": [
      "Processing sliding window:  17%|█████▊                             | 18/108 [00:05<00:27,  3.33it/s]/home/sf_afn/usr_sa/anaconda3/envs/prkng_v2_env/lib/python3.11/site-packages/sklearn/gaussian_process/kernels.py:429: ConvergenceWarning:\n",
      "\n",
      "The optimal value found for dimension 0 of parameter k1__k1__k1__k2__length_scale is close to the specified upper bound 1000.0. Increasing the bound and calling fit again may find a better value.\n",
      "\n"
     ]
    },
    {
     "name": "stdout",
     "output_type": "stream",
     "text": [
      "Step: 9\n"
     ]
    },
    {
     "name": "stderr",
     "output_type": "stream",
     "text": [
      "Processing sliding window:  19%|██████▍                            | 20/108 [00:05<00:26,  3.36it/s]/home/sf_afn/usr_sa/anaconda3/envs/prkng_v2_env/lib/python3.11/site-packages/sklearn/gaussian_process/kernels.py:429: ConvergenceWarning:\n",
      "\n",
      "The optimal value found for dimension 0 of parameter k1__k1__k1__k2__length_scale is close to the specified upper bound 1000.0. Increasing the bound and calling fit again may find a better value.\n",
      "\n"
     ]
    },
    {
     "name": "stdout",
     "output_type": "stream",
     "text": [
      "Step: 10\n"
     ]
    },
    {
     "name": "stderr",
     "output_type": "stream",
     "text": [
      "Processing sliding window:  20%|███████▏                           | 22/108 [00:06<00:25,  3.44it/s]"
     ]
    },
    {
     "name": "stdout",
     "output_type": "stream",
     "text": [
      "Step: 11\n"
     ]
    },
    {
     "name": "stderr",
     "output_type": "stream",
     "text": [
      "Processing sliding window:  22%|███████▊                           | 24/108 [00:06<00:24,  3.42it/s]/home/sf_afn/usr_sa/anaconda3/envs/prkng_v2_env/lib/python3.11/site-packages/sklearn/gaussian_process/kernels.py:429: ConvergenceWarning:\n",
      "\n",
      "The optimal value found for dimension 0 of parameter k1__k1__k1__k2__length_scale is close to the specified upper bound 1000.0. Increasing the bound and calling fit again may find a better value.\n",
      "\n"
     ]
    },
    {
     "name": "stdout",
     "output_type": "stream",
     "text": [
      "Step: 12\n"
     ]
    },
    {
     "name": "stderr",
     "output_type": "stream",
     "text": [
      "Processing sliding window:  24%|████████▍                          | 26/108 [00:07<00:24,  3.37it/s]/home/sf_afn/usr_sa/anaconda3/envs/prkng_v2_env/lib/python3.11/site-packages/sklearn/gaussian_process/kernels.py:429: ConvergenceWarning:\n",
      "\n",
      "The optimal value found for dimension 0 of parameter k1__k1__k1__k2__length_scale is close to the specified upper bound 1000.0. Increasing the bound and calling fit again may find a better value.\n",
      "\n"
     ]
    },
    {
     "name": "stdout",
     "output_type": "stream",
     "text": [
      "Step: 13\n"
     ]
    },
    {
     "name": "stderr",
     "output_type": "stream",
     "text": [
      "Processing sliding window:  26%|█████████                          | 28/108 [00:07<00:23,  3.41it/s]/home/sf_afn/usr_sa/anaconda3/envs/prkng_v2_env/lib/python3.11/site-packages/sklearn/gaussian_process/kernels.py:429: ConvergenceWarning:\n",
      "\n",
      "The optimal value found for dimension 0 of parameter k1__k1__k1__k2__length_scale is close to the specified upper bound 1000.0. Increasing the bound and calling fit again may find a better value.\n",
      "\n"
     ]
    },
    {
     "name": "stdout",
     "output_type": "stream",
     "text": [
      "Step: 14\n"
     ]
    },
    {
     "name": "stderr",
     "output_type": "stream",
     "text": [
      "Processing sliding window:  28%|█████████▋                         | 30/108 [00:08<00:22,  3.40it/s]/home/sf_afn/usr_sa/anaconda3/envs/prkng_v2_env/lib/python3.11/site-packages/sklearn/gaussian_process/kernels.py:429: ConvergenceWarning:\n",
      "\n",
      "The optimal value found for dimension 0 of parameter k1__k1__k1__k2__length_scale is close to the specified upper bound 1000.0. Increasing the bound and calling fit again may find a better value.\n",
      "\n",
      "/home/sf_afn/usr_sa/anaconda3/envs/prkng_v2_env/lib/python3.11/site-packages/sklearn/gaussian_process/kernels.py:429: ConvergenceWarning:\n",
      "\n",
      "The optimal value found for dimension 0 of parameter k1__k2__noise_level is close to the specified upper bound 10.0. Increasing the bound and calling fit again may find a better value.\n",
      "\n"
     ]
    },
    {
     "name": "stdout",
     "output_type": "stream",
     "text": [
      "Step: 15\n"
     ]
    },
    {
     "name": "stderr",
     "output_type": "stream",
     "text": [
      "Processing sliding window:  30%|██████████▎                        | 32/108 [00:09<00:20,  3.65it/s]/home/sf_afn/usr_sa/anaconda3/envs/prkng_v2_env/lib/python3.11/site-packages/sklearn/gaussian_process/kernels.py:429: ConvergenceWarning:\n",
      "\n",
      "The optimal value found for dimension 0 of parameter k1__k1__k1__k2__length_scale is close to the specified upper bound 1000.0. Increasing the bound and calling fit again may find a better value.\n",
      "\n",
      "/home/sf_afn/usr_sa/anaconda3/envs/prkng_v2_env/lib/python3.11/site-packages/sklearn/gaussian_process/kernels.py:429: ConvergenceWarning:\n",
      "\n",
      "The optimal value found for dimension 0 of parameter k1__k2__noise_level is close to the specified upper bound 10.0. Increasing the bound and calling fit again may find a better value.\n",
      "\n"
     ]
    },
    {
     "name": "stdout",
     "output_type": "stream",
     "text": [
      "Step: 16\n"
     ]
    },
    {
     "name": "stderr",
     "output_type": "stream",
     "text": [
      "Processing sliding window:  31%|███████████                        | 34/108 [00:09<00:19,  3.80it/s]/home/sf_afn/usr_sa/anaconda3/envs/prkng_v2_env/lib/python3.11/site-packages/sklearn/gaussian_process/kernels.py:429: ConvergenceWarning:\n",
      "\n",
      "The optimal value found for dimension 0 of parameter k1__k1__k1__k2__length_scale is close to the specified upper bound 1000.0. Increasing the bound and calling fit again may find a better value.\n",
      "\n"
     ]
    },
    {
     "name": "stdout",
     "output_type": "stream",
     "text": [
      "Step: 17\n"
     ]
    },
    {
     "name": "stderr",
     "output_type": "stream",
     "text": [
      "Processing sliding window:  33%|███████████▋                       | 36/108 [00:10<00:19,  3.74it/s]/home/sf_afn/usr_sa/anaconda3/envs/prkng_v2_env/lib/python3.11/site-packages/sklearn/gaussian_process/kernels.py:429: ConvergenceWarning:\n",
      "\n",
      "The optimal value found for dimension 0 of parameter k1__k1__k1__k2__length_scale is close to the specified upper bound 1000.0. Increasing the bound and calling fit again may find a better value.\n",
      "\n"
     ]
    },
    {
     "name": "stdout",
     "output_type": "stream",
     "text": [
      "Step: 18\n"
     ]
    },
    {
     "name": "stderr",
     "output_type": "stream",
     "text": [
      "Processing sliding window:  35%|████████████▎                      | 38/108 [00:10<00:18,  3.84it/s]"
     ]
    },
    {
     "name": "stdout",
     "output_type": "stream",
     "text": [
      "Step: 19\n"
     ]
    },
    {
     "name": "stderr",
     "output_type": "stream",
     "text": [
      "Processing sliding window:  37%|████████████▉                      | 40/108 [00:11<00:17,  3.88it/s]/home/sf_afn/usr_sa/anaconda3/envs/prkng_v2_env/lib/python3.11/site-packages/sklearn/gaussian_process/kernels.py:429: ConvergenceWarning:\n",
      "\n",
      "The optimal value found for dimension 0 of parameter k1__k1__k1__k2__length_scale is close to the specified upper bound 1000.0. Increasing the bound and calling fit again may find a better value.\n",
      "\n"
     ]
    },
    {
     "name": "stdout",
     "output_type": "stream",
     "text": [
      "Step: 20\n"
     ]
    },
    {
     "name": "stderr",
     "output_type": "stream",
     "text": [
      "Processing sliding window:  39%|█████████████▌                     | 42/108 [00:11<00:16,  3.92it/s]/home/sf_afn/usr_sa/anaconda3/envs/prkng_v2_env/lib/python3.11/site-packages/sklearn/gaussian_process/kernels.py:429: ConvergenceWarning:\n",
      "\n",
      "The optimal value found for dimension 0 of parameter k1__k2__noise_level is close to the specified upper bound 10.0. Increasing the bound and calling fit again may find a better value.\n",
      "\n"
     ]
    },
    {
     "name": "stdout",
     "output_type": "stream",
     "text": [
      "Step: 21\n"
     ]
    },
    {
     "name": "stderr",
     "output_type": "stream",
     "text": [
      "Processing sliding window:  41%|██████████████▎                    | 44/108 [00:12<00:15,  4.05it/s]/home/sf_afn/usr_sa/anaconda3/envs/prkng_v2_env/lib/python3.11/site-packages/sklearn/gaussian_process/kernels.py:429: ConvergenceWarning:\n",
      "\n",
      "The optimal value found for dimension 0 of parameter k1__k1__k1__k2__length_scale is close to the specified upper bound 1000.0. Increasing the bound and calling fit again may find a better value.\n",
      "\n"
     ]
    },
    {
     "name": "stdout",
     "output_type": "stream",
     "text": [
      "Step: 22\n"
     ]
    },
    {
     "name": "stderr",
     "output_type": "stream",
     "text": [
      "Processing sliding window:  43%|██████████████▉                    | 46/108 [00:12<00:15,  4.09it/s]/home/sf_afn/usr_sa/anaconda3/envs/prkng_v2_env/lib/python3.11/site-packages/sklearn/gaussian_process/kernels.py:429: ConvergenceWarning:\n",
      "\n",
      "The optimal value found for dimension 0 of parameter k1__k1__k1__k2__length_scale is close to the specified upper bound 1000.0. Increasing the bound and calling fit again may find a better value.\n",
      "\n"
     ]
    },
    {
     "name": "stdout",
     "output_type": "stream",
     "text": [
      "Step: 23\n"
     ]
    },
    {
     "name": "stderr",
     "output_type": "stream",
     "text": [
      "Processing sliding window:  44%|███████████████▌                   | 48/108 [00:12<00:14,  4.07it/s]/home/sf_afn/usr_sa/anaconda3/envs/prkng_v2_env/lib/python3.11/site-packages/sklearn/gaussian_process/kernels.py:429: ConvergenceWarning:\n",
      "\n",
      "The optimal value found for dimension 0 of parameter k1__k1__k1__k2__length_scale is close to the specified upper bound 1000.0. Increasing the bound and calling fit again may find a better value.\n",
      "\n"
     ]
    },
    {
     "name": "stdout",
     "output_type": "stream",
     "text": [
      "Step: 24\n"
     ]
    },
    {
     "name": "stderr",
     "output_type": "stream",
     "text": [
      "Processing sliding window:  46%|████████████████▏                  | 50/108 [00:13<00:14,  4.06it/s]/home/sf_afn/usr_sa/anaconda3/envs/prkng_v2_env/lib/python3.11/site-packages/sklearn/gaussian_process/kernels.py:429: ConvergenceWarning:\n",
      "\n",
      "The optimal value found for dimension 0 of parameter k1__k1__k1__k2__length_scale is close to the specified upper bound 1000.0. Increasing the bound and calling fit again may find a better value.\n",
      "\n"
     ]
    },
    {
     "name": "stdout",
     "output_type": "stream",
     "text": [
      "Step: 25\n"
     ]
    },
    {
     "name": "stderr",
     "output_type": "stream",
     "text": [
      "Processing sliding window:  48%|████████████████▊                  | 52/108 [00:14<00:14,  3.94it/s]/home/sf_afn/usr_sa/anaconda3/envs/prkng_v2_env/lib/python3.11/site-packages/sklearn/gaussian_process/kernels.py:429: ConvergenceWarning:\n",
      "\n",
      "The optimal value found for dimension 0 of parameter k1__k1__k1__k2__length_scale is close to the specified upper bound 1000.0. Increasing the bound and calling fit again may find a better value.\n",
      "\n"
     ]
    },
    {
     "name": "stdout",
     "output_type": "stream",
     "text": [
      "Step: 26\n"
     ]
    },
    {
     "name": "stderr",
     "output_type": "stream",
     "text": [
      "Processing sliding window:  50%|█████████████████▌                 | 54/108 [00:14<00:13,  3.92it/s]/home/sf_afn/usr_sa/anaconda3/envs/prkng_v2_env/lib/python3.11/site-packages/sklearn/gaussian_process/kernels.py:429: ConvergenceWarning:\n",
      "\n",
      "The optimal value found for dimension 0 of parameter k1__k1__k1__k2__length_scale is close to the specified upper bound 1000.0. Increasing the bound and calling fit again may find a better value.\n",
      "\n"
     ]
    },
    {
     "name": "stdout",
     "output_type": "stream",
     "text": [
      "Step: 27\n"
     ]
    },
    {
     "name": "stderr",
     "output_type": "stream",
     "text": [
      "Processing sliding window:  52%|██████████████████▏                | 56/108 [00:15<00:13,  3.99it/s]/home/sf_afn/usr_sa/anaconda3/envs/prkng_v2_env/lib/python3.11/site-packages/sklearn/gaussian_process/kernels.py:429: ConvergenceWarning:\n",
      "\n",
      "The optimal value found for dimension 0 of parameter k1__k1__k1__k2__length_scale is close to the specified upper bound 1000.0. Increasing the bound and calling fit again may find a better value.\n",
      "\n"
     ]
    },
    {
     "name": "stdout",
     "output_type": "stream",
     "text": [
      "Step: 28\n"
     ]
    },
    {
     "name": "stderr",
     "output_type": "stream",
     "text": [
      "Processing sliding window:  54%|██████████████████▊                | 58/108 [00:15<00:12,  3.86it/s]"
     ]
    },
    {
     "name": "stdout",
     "output_type": "stream",
     "text": [
      "Step: 29\n"
     ]
    },
    {
     "name": "stderr",
     "output_type": "stream",
     "text": [
      "Processing sliding window:  56%|███████████████████▍               | 60/108 [00:16<00:12,  3.90it/s]"
     ]
    },
    {
     "name": "stdout",
     "output_type": "stream",
     "text": [
      "Step: 30\n"
     ]
    },
    {
     "name": "stderr",
     "output_type": "stream",
     "text": [
      "Processing sliding window:  57%|████████████████████               | 62/108 [00:16<00:11,  3.90it/s]"
     ]
    },
    {
     "name": "stdout",
     "output_type": "stream",
     "text": [
      "Step: 31\n"
     ]
    },
    {
     "name": "stderr",
     "output_type": "stream",
     "text": [
      "Processing sliding window:  59%|████████████████████▋              | 64/108 [00:17<00:11,  3.92it/s]/home/sf_afn/usr_sa/anaconda3/envs/prkng_v2_env/lib/python3.11/site-packages/sklearn/gaussian_process/kernels.py:429: ConvergenceWarning:\n",
      "\n",
      "The optimal value found for dimension 0 of parameter k1__k1__k1__k2__length_scale is close to the specified upper bound 1000.0. Increasing the bound and calling fit again may find a better value.\n",
      "\n"
     ]
    },
    {
     "name": "stdout",
     "output_type": "stream",
     "text": [
      "Step: 32\n"
     ]
    },
    {
     "name": "stderr",
     "output_type": "stream",
     "text": [
      "Processing sliding window:  61%|█████████████████████▍             | 66/108 [00:17<00:11,  3.71it/s]/home/sf_afn/usr_sa/anaconda3/envs/prkng_v2_env/lib/python3.11/site-packages/sklearn/gaussian_process/kernels.py:429: ConvergenceWarning:\n",
      "\n",
      "The optimal value found for dimension 0 of parameter k1__k1__k1__k2__length_scale is close to the specified upper bound 1000.0. Increasing the bound and calling fit again may find a better value.\n",
      "\n"
     ]
    },
    {
     "name": "stdout",
     "output_type": "stream",
     "text": [
      "Step: 33\n"
     ]
    },
    {
     "name": "stderr",
     "output_type": "stream",
     "text": [
      "Processing sliding window:  63%|██████████████████████             | 68/108 [00:18<00:10,  3.75it/s]/home/sf_afn/usr_sa/anaconda3/envs/prkng_v2_env/lib/python3.11/site-packages/sklearn/gaussian_process/kernels.py:429: ConvergenceWarning:\n",
      "\n",
      "The optimal value found for dimension 0 of parameter k1__k1__k1__k2__length_scale is close to the specified upper bound 1000.0. Increasing the bound and calling fit again may find a better value.\n",
      "\n"
     ]
    },
    {
     "name": "stdout",
     "output_type": "stream",
     "text": [
      "Step: 34\n"
     ]
    },
    {
     "name": "stderr",
     "output_type": "stream",
     "text": [
      "Processing sliding window:  65%|██████████████████████▋            | 70/108 [00:18<00:09,  3.87it/s]"
     ]
    },
    {
     "name": "stdout",
     "output_type": "stream",
     "text": [
      "Step: 35\n"
     ]
    },
    {
     "name": "stderr",
     "output_type": "stream",
     "text": [
      "Processing sliding window:  67%|███████████████████████▎           | 72/108 [00:19<00:09,  3.93it/s]"
     ]
    },
    {
     "name": "stdout",
     "output_type": "stream",
     "text": [
      "Step: 36\n"
     ]
    },
    {
     "name": "stderr",
     "output_type": "stream",
     "text": [
      "Processing sliding window:  69%|███████████████████████▉           | 74/108 [00:19<00:08,  4.05it/s]"
     ]
    },
    {
     "name": "stdout",
     "output_type": "stream",
     "text": [
      "Step: 37\n"
     ]
    },
    {
     "name": "stderr",
     "output_type": "stream",
     "text": [
      "Processing sliding window:  70%|████████████████████████▋          | 76/108 [00:20<00:07,  4.08it/s]"
     ]
    },
    {
     "name": "stdout",
     "output_type": "stream",
     "text": [
      "Step: 38\n"
     ]
    },
    {
     "name": "stderr",
     "output_type": "stream",
     "text": [
      "Processing sliding window:  72%|█████████████████████████▎         | 78/108 [00:20<00:07,  4.14it/s]"
     ]
    },
    {
     "name": "stdout",
     "output_type": "stream",
     "text": [
      "Step: 39\n"
     ]
    },
    {
     "name": "stderr",
     "output_type": "stream",
     "text": [
      "Processing sliding window:  74%|█████████████████████████▉         | 80/108 [00:21<00:06,  4.08it/s]"
     ]
    },
    {
     "name": "stdout",
     "output_type": "stream",
     "text": [
      "Step: 40\n"
     ]
    },
    {
     "name": "stderr",
     "output_type": "stream",
     "text": [
      "Processing sliding window:  76%|██████████████████████████▌        | 82/108 [00:21<00:06,  3.98it/s]"
     ]
    },
    {
     "name": "stdout",
     "output_type": "stream",
     "text": [
      "Step: 41\n"
     ]
    },
    {
     "name": "stderr",
     "output_type": "stream",
     "text": [
      "Processing sliding window:  78%|███████████████████████████▏       | 84/108 [00:22<00:05,  4.05it/s]"
     ]
    },
    {
     "name": "stdout",
     "output_type": "stream",
     "text": [
      "Step: 42\n"
     ]
    },
    {
     "name": "stderr",
     "output_type": "stream",
     "text": [
      "Processing sliding window:  80%|███████████████████████████▊       | 86/108 [00:22<00:05,  3.99it/s]/home/sf_afn/usr_sa/anaconda3/envs/prkng_v2_env/lib/python3.11/site-packages/sklearn/gaussian_process/kernels.py:419: ConvergenceWarning:\n",
      "\n",
      "The optimal value found for dimension 0 of parameter k2__length_scale is close to the specified lower bound 0.1. Decreasing the bound and calling fit again may find a better value.\n",
      "\n"
     ]
    },
    {
     "name": "stdout",
     "output_type": "stream",
     "text": [
      "Step: 43\n"
     ]
    },
    {
     "name": "stderr",
     "output_type": "stream",
     "text": [
      "Processing sliding window:  81%|████████████████████████████▌      | 88/108 [00:23<00:05,  3.84it/s]/home/sf_afn/usr_sa/anaconda3/envs/prkng_v2_env/lib/python3.11/site-packages/sklearn/gaussian_process/kernels.py:419: ConvergenceWarning:\n",
      "\n",
      "The optimal value found for dimension 0 of parameter k2__length_scale is close to the specified lower bound 0.1. Decreasing the bound and calling fit again may find a better value.\n",
      "\n"
     ]
    },
    {
     "name": "stdout",
     "output_type": "stream",
     "text": [
      "Step: 44\n"
     ]
    },
    {
     "name": "stderr",
     "output_type": "stream",
     "text": [
      "Processing sliding window:  83%|█████████████████████████████▏     | 90/108 [00:23<00:04,  3.81it/s]"
     ]
    },
    {
     "name": "stdout",
     "output_type": "stream",
     "text": [
      "Step: 45\n"
     ]
    },
    {
     "name": "stderr",
     "output_type": "stream",
     "text": [
      "Processing sliding window:  85%|█████████████████████████████▊     | 92/108 [00:24<00:04,  3.94it/s]/home/sf_afn/usr_sa/anaconda3/envs/prkng_v2_env/lib/python3.11/site-packages/sklearn/gaussian_process/kernels.py:419: ConvergenceWarning:\n",
      "\n",
      "The optimal value found for dimension 0 of parameter k2__length_scale is close to the specified lower bound 0.1. Decreasing the bound and calling fit again may find a better value.\n",
      "\n"
     ]
    },
    {
     "name": "stdout",
     "output_type": "stream",
     "text": [
      "Step: 46\n"
     ]
    },
    {
     "name": "stderr",
     "output_type": "stream",
     "text": [
      "Processing sliding window:  87%|██████████████████████████████▍    | 94/108 [00:24<00:03,  3.94it/s]"
     ]
    },
    {
     "name": "stdout",
     "output_type": "stream",
     "text": [
      "Step: 47\n"
     ]
    },
    {
     "name": "stderr",
     "output_type": "stream",
     "text": [
      "Processing sliding window:  89%|███████████████████████████████    | 96/108 [00:25<00:02,  4.06it/s]/home/sf_afn/usr_sa/anaconda3/envs/prkng_v2_env/lib/python3.11/site-packages/sklearn/gaussian_process/kernels.py:419: ConvergenceWarning:\n",
      "\n",
      "The optimal value found for dimension 0 of parameter k2__length_scale is close to the specified lower bound 0.1. Decreasing the bound and calling fit again may find a better value.\n",
      "\n"
     ]
    },
    {
     "name": "stdout",
     "output_type": "stream",
     "text": [
      "Step: 48\n"
     ]
    },
    {
     "name": "stderr",
     "output_type": "stream",
     "text": [
      "Processing sliding window:  91%|███████████████████████████████▊   | 98/108 [00:25<00:02,  3.88it/s]/home/sf_afn/usr_sa/anaconda3/envs/prkng_v2_env/lib/python3.11/site-packages/sklearn/gaussian_process/kernels.py:429: ConvergenceWarning:\n",
      "\n",
      "The optimal value found for dimension 0 of parameter k1__k1__k1__k2__length_scale is close to the specified upper bound 1000.0. Increasing the bound and calling fit again may find a better value.\n",
      "\n",
      "/home/sf_afn/usr_sa/anaconda3/envs/prkng_v2_env/lib/python3.11/site-packages/sklearn/gaussian_process/kernels.py:429: ConvergenceWarning:\n",
      "\n",
      "The optimal value found for dimension 0 of parameter k1__k2__noise_level is close to the specified upper bound 10.0. Increasing the bound and calling fit again may find a better value.\n",
      "\n"
     ]
    },
    {
     "name": "stdout",
     "output_type": "stream",
     "text": [
      "Step: 49\n"
     ]
    },
    {
     "name": "stderr",
     "output_type": "stream",
     "text": [
      "Processing sliding window:  93%|███████████████████████████████▍  | 100/108 [00:26<00:02,  3.87it/s]/home/sf_afn/usr_sa/anaconda3/envs/prkng_v2_env/lib/python3.11/site-packages/sklearn/gaussian_process/kernels.py:429: ConvergenceWarning:\n",
      "\n",
      "The optimal value found for dimension 0 of parameter k1__k2__noise_level is close to the specified upper bound 10.0. Increasing the bound and calling fit again may find a better value.\n",
      "\n"
     ]
    },
    {
     "name": "stdout",
     "output_type": "stream",
     "text": [
      "Step: 50\n"
     ]
    },
    {
     "name": "stderr",
     "output_type": "stream",
     "text": [
      "Processing sliding window:  94%|████████████████████████████████  | 102/108 [00:26<00:01,  3.97it/s]/home/sf_afn/usr_sa/anaconda3/envs/prkng_v2_env/lib/python3.11/site-packages/sklearn/gaussian_process/kernels.py:429: ConvergenceWarning:\n",
      "\n",
      "The optimal value found for dimension 0 of parameter k1__k1__k1__k2__length_scale is close to the specified upper bound 1000.0. Increasing the bound and calling fit again may find a better value.\n",
      "\n"
     ]
    },
    {
     "name": "stdout",
     "output_type": "stream",
     "text": [
      "Step: 51\n"
     ]
    },
    {
     "name": "stderr",
     "output_type": "stream",
     "text": [
      "Processing sliding window:  96%|████████████████████████████████▋ | 104/108 [00:27<00:01,  3.87it/s]/home/sf_afn/usr_sa/anaconda3/envs/prkng_v2_env/lib/python3.11/site-packages/sklearn/gaussian_process/kernels.py:429: ConvergenceWarning:\n",
      "\n",
      "The optimal value found for dimension 0 of parameter k1__k1__k1__k2__length_scale is close to the specified upper bound 1000.0. Increasing the bound and calling fit again may find a better value.\n",
      "\n"
     ]
    },
    {
     "name": "stdout",
     "output_type": "stream",
     "text": [
      "Step: 52\n"
     ]
    },
    {
     "name": "stderr",
     "output_type": "stream",
     "text": [
      "Processing sliding window:  98%|█████████████████████████████████▎| 106/108 [00:27<00:00,  3.90it/s]/home/sf_afn/usr_sa/anaconda3/envs/prkng_v2_env/lib/python3.11/site-packages/sklearn/gaussian_process/kernels.py:429: ConvergenceWarning:\n",
      "\n",
      "The optimal value found for dimension 0 of parameter k1__k1__k1__k2__length_scale is close to the specified upper bound 1000.0. Increasing the bound and calling fit again may find a better value.\n",
      "\n"
     ]
    },
    {
     "name": "stdout",
     "output_type": "stream",
     "text": [
      "Step: 53\n"
     ]
    },
    {
     "name": "stderr",
     "output_type": "stream",
     "text": [
      "Processing sliding window: 100%|██████████████████████████████████| 108/108 [00:28<00:00,  3.82it/s]\n"
     ]
    },
    {
     "name": "stdout",
     "output_type": "stream",
     "text": [
      "Step: 54\n",
      "Testing final GPR on test set\n"
     ]
    },
    {
     "data": {
      "application/vnd.jupyter.widget-view+json": {
       "model_id": "71d78ba334484157a8970a50e298db6b",
       "version_major": 2,
       "version_minor": 0
      },
      "text/plain": [
       "VBox(children=(Label(value='89.853 MB of 89.896 MB uploaded\\r'), FloatProgress(value=0.9995236075602014, max=1…"
      ]
     },
     "metadata": {},
     "output_type": "display_data"
    },
    {
     "name": "stderr",
     "output_type": "stream",
     "text": [
      "wandb: WARNING Source type is set to 'repo' but some required information is missing from the environment. A job will not be created from this run. See https://docs.wandb.ai/guides/launch/create-job\n"
     ]
    },
    {
     "data": {
      "text/html": [
       "<style>\n",
       "    table.wandb td:nth-child(1) { padding: 0 10px; text-align: left ; width: auto;} td:nth-child(2) {text-align: left ; width: 100%}\n",
       "    .wandb-row { display: flex; flex-direction: row; flex-wrap: wrap; justify-content: flex-start; width: 100% }\n",
       "    .wandb-col { display: flex; flex-direction: column; flex-basis: 100%; flex: 1; padding: 10px; }\n",
       "    </style>\n",
       "<div class=\"wandb-row\"><div class=\"wandb-col\"><h3>Run history:</h3><br/><table class=\"wandb\"><tr><td>LML_test</td><td>▁</td></tr><tr><td>LML_train</td><td>▅▆▃▅▄▅▅▅▆▅▃▁▁▄▄▃██▆▅▅▃▂▃▃▄▄▄▃▃▂▃▃▃▂▂▁▂▃▂</td></tr><tr><td>LML_validate</td><td>▆▇▄▆▅▆▆▆▆▆▄▅▃▅▅▄▄█▇▅▅▄▄▄▅▄▅▅▄▄▄▄▄▄▄▄▃▁▄▃</td></tr><tr><td>MAE_test</td><td>▁</td></tr><tr><td>MAE_train</td><td>▃▂▆▃▃▃▁▂▂▃▆██▄▄▄▂▂▂▂▂▂▃▂▃▃▃▃▃▂▃▁▃▄▄▂▅▁▃▄</td></tr><tr><td>MAE_validate</td><td>▁▁▂▂▁▂▁▁▂▂▂▆▃▂▂▂▁▅▃▆▃▃▂█▃▃▁▁▂▁▂▂▁▁▁▂▂▂▁▁</td></tr><tr><td>MAPE_test</td><td>▁</td></tr><tr><td>MAPE_train</td><td>▁▁▁▁▁▁▁▅▁▁▂▁▂▁▁▁▁▁▁▃▁▁▁▁▁▁▁▁▁▃▁▁▁▁▁▁█▁▂▂</td></tr><tr><td>MAPE_validate</td><td>▁▁▁▁▁▁▁▁▁▁▁▁▁▁▁▁▁▂▁▁▁▁▁▁▁▁▁▁▁▁▁▁▁▁▁█▂▁▁▁</td></tr><tr><td>MSE_test</td><td>▁</td></tr><tr><td>MSE_train</td><td>▁▁▅▁▂▁▁▁▁▁▄██▂▂▃▁▁▁▁▁▁▂▁▂▂▂▂▂▁▂▁▂▂▃▁▄▁▂▃</td></tr><tr><td>MSE_validate</td><td>▁▁▁▁▁▁▁▁▁▁▂▄▂▂▁▁▁▄▃▅▂▂▁█▂▂▁▁▁▁▂▁▁▁▁▁▂▁▁▁</td></tr><tr><td>R2_test</td><td>▁</td></tr><tr><td>R2_train</td><td>██▁▇▇███▇▇▁▁▁▇▆▆▇▇▇██████▇█▆▇███████▇██▇</td></tr><tr><td>R2_validate</td><td>███████████████████████▁████████████████</td></tr><tr><td>RMSE_test</td><td>▁</td></tr><tr><td>RMSE_train</td><td>▃▂▆▃▃▃▁▂▂▃▆██▄▄▄▂▂▂▃▂▂▃▂▃▄▃▄▄▂▃▂▃▄▅▂▆▁▃▅</td></tr><tr><td>RMSE_validate</td><td>▁▁▂▂▁▂▁▁▂▂▃▆▃▃▂▂▁▅▄▆▃▃▂█▃▃▁▁▂▁▃▂▂▁▁▂▃▂▁▁</td></tr><tr><td>step</td><td>▁▁▁▂▂▂▂▂▂▃▃▃▃▃▄▄▄▄▄▄▅▅▅▅▅▅▆▆▆▆▆▇▇▇▇▇███▁</td></tr></table><br/></div><div class=\"wandb-col\"><h3>Run summary:</h3><br/><table class=\"wandb\"><tr><td>LML_test</td><td>-68.54371</td></tr><tr><td>LML_train</td><td>-68.54371</td></tr><tr><td>LML_validate</td><td>-68.54371</td></tr><tr><td>MAE_test</td><td>4.2533</td></tr><tr><td>MAE_train</td><td>1.62174</td></tr><tr><td>MAE_validate</td><td>2.43681</td></tr><tr><td>MAPE_test</td><td>218.90812</td></tr><tr><td>MAPE_train</td><td>383.2678</td></tr><tr><td>MAPE_validate</td><td>355.77834</td></tr><tr><td>MSE_test</td><td>26.19427</td></tr><tr><td>MSE_train</td><td>5.34015</td></tr><tr><td>MSE_validate</td><td>12.35777</td></tr><tr><td>R2_test</td><td>0.74018</td></tr><tr><td>R2_train</td><td>0.8845</td></tr><tr><td>R2_validate</td><td>0.58664</td></tr><tr><td>RMSE_test</td><td>5.11803</td></tr><tr><td>RMSE_train</td><td>2.31088</td></tr><tr><td>RMSE_validate</td><td>3.51536</td></tr><tr><td>step</td><td>1</td></tr></table><br/></div></div>"
      ],
      "text/plain": [
       "<IPython.core.display.HTML object>"
      ]
     },
     "metadata": {},
     "output_type": "display_data"
    },
    {
     "data": {
      "text/html": [
       " View run <strong style=\"color:#cdcd00\">Sliding_kris_noisy_lp_gp:hour</strong> at: <a href='https://wandb.ai/afn-sy/Merged_GPR_Experiments/runs/whmxgwbu' target=\"_blank\">https://wandb.ai/afn-sy/Merged_GPR_Experiments/runs/whmxgwbu</a><br/>Synced 7 W&B file(s), 328 media file(s), 110 artifact file(s) and 4 other file(s)"
      ],
      "text/plain": [
       "<IPython.core.display.HTML object>"
      ]
     },
     "metadata": {},
     "output_type": "display_data"
    },
    {
     "data": {
      "text/html": [
       "Find logs at: <code>./wandb/run-20240122_203555-whmxgwbu/logs</code>"
      ],
      "text/plain": [
       "<IPython.core.display.HTML object>"
      ]
     },
     "metadata": {},
     "output_type": "display_data"
    },
    {
     "data": {
      "application/vnd.jupyter.widget-view+json": {
       "model_id": "06f97df01b8f4751b9dec29eba023dbb",
       "version_major": 2,
       "version_minor": 0
      },
      "text/plain": [
       "VBox(children=(Label(value='Waiting for wandb.init()...\\r'), FloatProgress(value=0.011112003133328269, max=1.0…"
      ]
     },
     "metadata": {},
     "output_type": "display_data"
    },
    {
     "data": {
      "text/html": [
       "Tracking run with wandb version 0.16.2"
      ],
      "text/plain": [
       "<IPython.core.display.HTML object>"
      ]
     },
     "metadata": {},
     "output_type": "display_data"
    },
    {
     "data": {
      "text/html": [
       "Run data is saved locally in <code>/home/sf_afn/Insync/sofiaa720@gmail.com/Google Drive/masters_thesis/code_v1/msc_parking/univrses/notebooks/wandb/run-20240122_203817-j6jxhdta</code>"
      ],
      "text/plain": [
       "<IPython.core.display.HTML object>"
      ]
     },
     "metadata": {},
     "output_type": "display_data"
    },
    {
     "data": {
      "text/html": [
       "Syncing run <strong><a href='https://wandb.ai/afn-sy/Merged_GPR_Experiments/runs/j6jxhdta' target=\"_blank\">Sliding_kris_noisy_lp_gp:week</a></strong> to <a href='https://wandb.ai/afn-sy/Merged_GPR_Experiments' target=\"_blank\">Weights & Biases</a> (<a href='https://wandb.me/run' target=\"_blank\">docs</a>)<br/>"
      ],
      "text/plain": [
       "<IPython.core.display.HTML object>"
      ]
     },
     "metadata": {},
     "output_type": "display_data"
    },
    {
     "data": {
      "text/html": [
       " View project at <a href='https://wandb.ai/afn-sy/Merged_GPR_Experiments' target=\"_blank\">https://wandb.ai/afn-sy/Merged_GPR_Experiments</a>"
      ],
      "text/plain": [
       "<IPython.core.display.HTML object>"
      ]
     },
     "metadata": {},
     "output_type": "display_data"
    },
    {
     "data": {
      "text/html": [
       " View run at <a href='https://wandb.ai/afn-sy/Merged_GPR_Experiments/runs/j6jxhdta' target=\"_blank\">https://wandb.ai/afn-sy/Merged_GPR_Experiments/runs/j6jxhdta</a>"
      ],
      "text/plain": [
       "<IPython.core.display.HTML object>"
      ]
     },
     "metadata": {},
     "output_type": "display_data"
    },
    {
     "name": "stderr",
     "output_type": "stream",
     "text": [
      "Processing sliding window:   0%|                                            | 0/108 [00:00<?, ?it/s]/home/sf_afn/usr_sa/anaconda3/envs/prkng_v2_env/lib/python3.11/site-packages/sklearn/gaussian_process/kernels.py:429: ConvergenceWarning:\n",
      "\n",
      "The optimal value found for dimension 0 of parameter k1__k1__k1__k2__length_scale is close to the specified upper bound 1000.0. Increasing the bound and calling fit again may find a better value.\n",
      "\n",
      "Processing sliding window:   2%|▋                                   | 2/108 [00:00<00:24,  4.30it/s]"
     ]
    },
    {
     "name": "stdout",
     "output_type": "stream",
     "text": [
      "Step: 1\n"
     ]
    },
    {
     "name": "stderr",
     "output_type": "stream",
     "text": [
      "Processing sliding window:   4%|█▎                                  | 4/108 [00:00<00:24,  4.22it/s]/home/sf_afn/usr_sa/anaconda3/envs/prkng_v2_env/lib/python3.11/site-packages/sklearn/gaussian_process/kernels.py:429: ConvergenceWarning:\n",
      "\n",
      "The optimal value found for dimension 0 of parameter k1__k1__k1__k2__length_scale is close to the specified upper bound 1000.0. Increasing the bound and calling fit again may find a better value.\n",
      "\n",
      "/home/sf_afn/usr_sa/anaconda3/envs/prkng_v2_env/lib/python3.11/site-packages/sklearn/gaussian_process/kernels.py:429: ConvergenceWarning:\n",
      "\n",
      "The optimal value found for dimension 0 of parameter k1__k2__noise_level is close to the specified upper bound 10.0. Increasing the bound and calling fit again may find a better value.\n",
      "\n"
     ]
    },
    {
     "name": "stdout",
     "output_type": "stream",
     "text": [
      "Step: 2\n"
     ]
    },
    {
     "name": "stderr",
     "output_type": "stream",
     "text": [
      "Processing sliding window:   6%|██                                  | 6/108 [00:01<00:25,  4.00it/s]/home/sf_afn/usr_sa/anaconda3/envs/prkng_v2_env/lib/python3.11/site-packages/sklearn/gaussian_process/kernels.py:429: ConvergenceWarning:\n",
      "\n",
      "The optimal value found for dimension 0 of parameter k1__k1__k1__k2__length_scale is close to the specified upper bound 1000.0. Increasing the bound and calling fit again may find a better value.\n",
      "\n"
     ]
    },
    {
     "name": "stdout",
     "output_type": "stream",
     "text": [
      "Step: 3\n"
     ]
    },
    {
     "name": "stderr",
     "output_type": "stream",
     "text": [
      "Processing sliding window:   7%|██▋                                 | 8/108 [00:01<00:25,  3.96it/s]"
     ]
    },
    {
     "name": "stdout",
     "output_type": "stream",
     "text": [
      "Step: 4\n"
     ]
    },
    {
     "name": "stderr",
     "output_type": "stream",
     "text": [
      "Processing sliding window:   9%|███▏                               | 10/108 [00:02<00:25,  3.78it/s]/home/sf_afn/usr_sa/anaconda3/envs/prkng_v2_env/lib/python3.11/site-packages/sklearn/gaussian_process/kernels.py:429: ConvergenceWarning:\n",
      "\n",
      "The optimal value found for dimension 0 of parameter k1__k1__k1__k2__length_scale is close to the specified upper bound 1000.0. Increasing the bound and calling fit again may find a better value.\n",
      "\n"
     ]
    },
    {
     "name": "stdout",
     "output_type": "stream",
     "text": [
      "Step: 5\n"
     ]
    },
    {
     "name": "stderr",
     "output_type": "stream",
     "text": [
      "Processing sliding window:  11%|███▉                               | 12/108 [00:03<00:26,  3.65it/s]"
     ]
    },
    {
     "name": "stdout",
     "output_type": "stream",
     "text": [
      "Step: 6\n"
     ]
    },
    {
     "name": "stderr",
     "output_type": "stream",
     "text": [
      "Processing sliding window:  13%|████▌                              | 14/108 [00:03<00:28,  3.29it/s]"
     ]
    },
    {
     "name": "stdout",
     "output_type": "stream",
     "text": [
      "Step: 7\n"
     ]
    },
    {
     "name": "stderr",
     "output_type": "stream",
     "text": [
      "Processing sliding window:  15%|█████▏                             | 16/108 [00:04<00:31,  2.90it/s]/home/sf_afn/usr_sa/anaconda3/envs/prkng_v2_env/lib/python3.11/site-packages/sklearn/gaussian_process/kernels.py:429: ConvergenceWarning:\n",
      "\n",
      "The optimal value found for dimension 0 of parameter k1__k1__k1__k2__length_scale is close to the specified upper bound 1000.0. Increasing the bound and calling fit again may find a better value.\n",
      "\n"
     ]
    },
    {
     "name": "stdout",
     "output_type": "stream",
     "text": [
      "Step: 8\n"
     ]
    },
    {
     "name": "stderr",
     "output_type": "stream",
     "text": [
      "Processing sliding window:  17%|█████▊                             | 18/108 [00:05<00:30,  2.99it/s]/home/sf_afn/usr_sa/anaconda3/envs/prkng_v2_env/lib/python3.11/site-packages/sklearn/gaussian_process/kernels.py:429: ConvergenceWarning:\n",
      "\n",
      "The optimal value found for dimension 0 of parameter k1__k1__k1__k2__length_scale is close to the specified upper bound 1000.0. Increasing the bound and calling fit again may find a better value.\n",
      "\n"
     ]
    },
    {
     "name": "stdout",
     "output_type": "stream",
     "text": [
      "Step: 9\n"
     ]
    },
    {
     "name": "stderr",
     "output_type": "stream",
     "text": [
      "Processing sliding window:  19%|██████▍                            | 20/108 [00:05<00:28,  3.14it/s]/home/sf_afn/usr_sa/anaconda3/envs/prkng_v2_env/lib/python3.11/site-packages/sklearn/gaussian_process/kernels.py:429: ConvergenceWarning:\n",
      "\n",
      "The optimal value found for dimension 0 of parameter k1__k1__k1__k2__length_scale is close to the specified upper bound 1000.0. Increasing the bound and calling fit again may find a better value.\n",
      "\n"
     ]
    },
    {
     "name": "stdout",
     "output_type": "stream",
     "text": [
      "Step: 10\n"
     ]
    },
    {
     "name": "stderr",
     "output_type": "stream",
     "text": [
      "Processing sliding window:  20%|███████▏                           | 22/108 [00:06<00:26,  3.25it/s]"
     ]
    },
    {
     "name": "stdout",
     "output_type": "stream",
     "text": [
      "Step: 11\n"
     ]
    },
    {
     "name": "stderr",
     "output_type": "stream",
     "text": [
      "Processing sliding window:  22%|███████▊                           | 24/108 [00:07<00:25,  3.25it/s]/home/sf_afn/usr_sa/anaconda3/envs/prkng_v2_env/lib/python3.11/site-packages/sklearn/gaussian_process/kernels.py:429: ConvergenceWarning:\n",
      "\n",
      "The optimal value found for dimension 0 of parameter k1__k1__k1__k2__length_scale is close to the specified upper bound 1000.0. Increasing the bound and calling fit again may find a better value.\n",
      "\n"
     ]
    },
    {
     "name": "stdout",
     "output_type": "stream",
     "text": [
      "Step: 12\n"
     ]
    },
    {
     "name": "stderr",
     "output_type": "stream",
     "text": [
      "Processing sliding window:  24%|████████▍                          | 26/108 [00:07<00:24,  3.33it/s]/home/sf_afn/usr_sa/anaconda3/envs/prkng_v2_env/lib/python3.11/site-packages/sklearn/gaussian_process/kernels.py:429: ConvergenceWarning:\n",
      "\n",
      "The optimal value found for dimension 0 of parameter k1__k1__k1__k2__length_scale is close to the specified upper bound 1000.0. Increasing the bound and calling fit again may find a better value.\n",
      "\n"
     ]
    },
    {
     "name": "stdout",
     "output_type": "stream",
     "text": [
      "Step: 13\n"
     ]
    },
    {
     "name": "stderr",
     "output_type": "stream",
     "text": [
      "Processing sliding window:  26%|█████████                          | 28/108 [00:08<00:23,  3.39it/s]/home/sf_afn/usr_sa/anaconda3/envs/prkng_v2_env/lib/python3.11/site-packages/sklearn/gaussian_process/kernels.py:429: ConvergenceWarning:\n",
      "\n",
      "The optimal value found for dimension 0 of parameter k1__k1__k1__k2__length_scale is close to the specified upper bound 1000.0. Increasing the bound and calling fit again may find a better value.\n",
      "\n"
     ]
    },
    {
     "name": "stdout",
     "output_type": "stream",
     "text": [
      "Step: 14\n"
     ]
    },
    {
     "name": "stderr",
     "output_type": "stream",
     "text": [
      "Processing sliding window:  28%|█████████▋                         | 30/108 [00:08<00:23,  3.34it/s]/home/sf_afn/usr_sa/anaconda3/envs/prkng_v2_env/lib/python3.11/site-packages/sklearn/gaussian_process/kernels.py:429: ConvergenceWarning:\n",
      "\n",
      "The optimal value found for dimension 0 of parameter k1__k1__k1__k2__length_scale is close to the specified upper bound 1000.0. Increasing the bound and calling fit again may find a better value.\n",
      "\n",
      "/home/sf_afn/usr_sa/anaconda3/envs/prkng_v2_env/lib/python3.11/site-packages/sklearn/gaussian_process/kernels.py:429: ConvergenceWarning:\n",
      "\n",
      "The optimal value found for dimension 0 of parameter k1__k2__noise_level is close to the specified upper bound 10.0. Increasing the bound and calling fit again may find a better value.\n",
      "\n"
     ]
    },
    {
     "name": "stdout",
     "output_type": "stream",
     "text": [
      "Step: 15\n"
     ]
    },
    {
     "name": "stderr",
     "output_type": "stream",
     "text": [
      "Processing sliding window:  30%|██████████▎                        | 32/108 [00:09<00:21,  3.54it/s]/home/sf_afn/usr_sa/anaconda3/envs/prkng_v2_env/lib/python3.11/site-packages/sklearn/gaussian_process/kernels.py:429: ConvergenceWarning:\n",
      "\n",
      "The optimal value found for dimension 0 of parameter k1__k1__k1__k2__length_scale is close to the specified upper bound 1000.0. Increasing the bound and calling fit again may find a better value.\n",
      "\n",
      "/home/sf_afn/usr_sa/anaconda3/envs/prkng_v2_env/lib/python3.11/site-packages/sklearn/gaussian_process/kernels.py:429: ConvergenceWarning:\n",
      "\n",
      "The optimal value found for dimension 0 of parameter k1__k2__noise_level is close to the specified upper bound 10.0. Increasing the bound and calling fit again may find a better value.\n",
      "\n"
     ]
    },
    {
     "name": "stdout",
     "output_type": "stream",
     "text": [
      "Step: 16\n"
     ]
    },
    {
     "name": "stderr",
     "output_type": "stream",
     "text": [
      "Processing sliding window:  31%|███████████                        | 34/108 [00:09<00:19,  3.81it/s]/home/sf_afn/usr_sa/anaconda3/envs/prkng_v2_env/lib/python3.11/site-packages/sklearn/gaussian_process/kernels.py:429: ConvergenceWarning:\n",
      "\n",
      "The optimal value found for dimension 0 of parameter k1__k1__k1__k2__length_scale is close to the specified upper bound 1000.0. Increasing the bound and calling fit again may find a better value.\n",
      "\n"
     ]
    },
    {
     "name": "stdout",
     "output_type": "stream",
     "text": [
      "Step: 17\n"
     ]
    },
    {
     "name": "stderr",
     "output_type": "stream",
     "text": [
      "Processing sliding window:  33%|███████████▋                       | 36/108 [00:10<00:18,  3.81it/s]/home/sf_afn/usr_sa/anaconda3/envs/prkng_v2_env/lib/python3.11/site-packages/sklearn/gaussian_process/kernels.py:429: ConvergenceWarning:\n",
      "\n",
      "The optimal value found for dimension 0 of parameter k1__k1__k1__k2__length_scale is close to the specified upper bound 1000.0. Increasing the bound and calling fit again may find a better value.\n",
      "\n"
     ]
    },
    {
     "name": "stdout",
     "output_type": "stream",
     "text": [
      "Step: 18\n"
     ]
    },
    {
     "name": "stderr",
     "output_type": "stream",
     "text": [
      "Processing sliding window:  35%|████████████▎                      | 38/108 [00:10<00:17,  3.97it/s]"
     ]
    },
    {
     "name": "stdout",
     "output_type": "stream",
     "text": [
      "Step: 19\n"
     ]
    },
    {
     "name": "stderr",
     "output_type": "stream",
     "text": [
      "Processing sliding window:  37%|████████████▉                      | 40/108 [00:11<00:16,  4.11it/s]/home/sf_afn/usr_sa/anaconda3/envs/prkng_v2_env/lib/python3.11/site-packages/sklearn/gaussian_process/kernels.py:429: ConvergenceWarning:\n",
      "\n",
      "The optimal value found for dimension 0 of parameter k1__k1__k1__k2__length_scale is close to the specified upper bound 1000.0. Increasing the bound and calling fit again may find a better value.\n",
      "\n"
     ]
    },
    {
     "name": "stdout",
     "output_type": "stream",
     "text": [
      "Step: 20\n"
     ]
    },
    {
     "name": "stderr",
     "output_type": "stream",
     "text": [
      "Processing sliding window:  39%|█████████████▌                     | 42/108 [00:11<00:16,  4.06it/s]/home/sf_afn/usr_sa/anaconda3/envs/prkng_v2_env/lib/python3.11/site-packages/sklearn/gaussian_process/kernels.py:429: ConvergenceWarning:\n",
      "\n",
      "The optimal value found for dimension 0 of parameter k1__k2__noise_level is close to the specified upper bound 10.0. Increasing the bound and calling fit again may find a better value.\n",
      "\n"
     ]
    },
    {
     "name": "stdout",
     "output_type": "stream",
     "text": [
      "Step: 21\n"
     ]
    },
    {
     "name": "stderr",
     "output_type": "stream",
     "text": [
      "Processing sliding window:  41%|██████████████▎                    | 44/108 [00:12<00:15,  4.24it/s]/home/sf_afn/usr_sa/anaconda3/envs/prkng_v2_env/lib/python3.11/site-packages/sklearn/gaussian_process/kernels.py:429: ConvergenceWarning:\n",
      "\n",
      "The optimal value found for dimension 0 of parameter k1__k1__k1__k2__length_scale is close to the specified upper bound 1000.0. Increasing the bound and calling fit again may find a better value.\n",
      "\n"
     ]
    },
    {
     "name": "stdout",
     "output_type": "stream",
     "text": [
      "Step: 22\n"
     ]
    },
    {
     "name": "stderr",
     "output_type": "stream",
     "text": [
      "Processing sliding window:  43%|██████████████▉                    | 46/108 [00:12<00:14,  4.23it/s]/home/sf_afn/usr_sa/anaconda3/envs/prkng_v2_env/lib/python3.11/site-packages/sklearn/gaussian_process/kernels.py:429: ConvergenceWarning:\n",
      "\n",
      "The optimal value found for dimension 0 of parameter k1__k1__k1__k2__length_scale is close to the specified upper bound 1000.0. Increasing the bound and calling fit again may find a better value.\n",
      "\n"
     ]
    },
    {
     "name": "stdout",
     "output_type": "stream",
     "text": [
      "Step: 23\n"
     ]
    },
    {
     "name": "stderr",
     "output_type": "stream",
     "text": [
      "Processing sliding window:  44%|███████████████▌                   | 48/108 [00:13<00:13,  4.31it/s]/home/sf_afn/usr_sa/anaconda3/envs/prkng_v2_env/lib/python3.11/site-packages/sklearn/gaussian_process/kernels.py:429: ConvergenceWarning:\n",
      "\n",
      "The optimal value found for dimension 0 of parameter k1__k1__k1__k2__length_scale is close to the specified upper bound 1000.0. Increasing the bound and calling fit again may find a better value.\n",
      "\n"
     ]
    },
    {
     "name": "stdout",
     "output_type": "stream",
     "text": [
      "Step: 24\n"
     ]
    },
    {
     "name": "stderr",
     "output_type": "stream",
     "text": [
      "Processing sliding window:  46%|████████████████▏                  | 50/108 [00:13<00:13,  4.16it/s]/home/sf_afn/usr_sa/anaconda3/envs/prkng_v2_env/lib/python3.11/site-packages/sklearn/gaussian_process/kernels.py:429: ConvergenceWarning:\n",
      "\n",
      "The optimal value found for dimension 0 of parameter k1__k1__k1__k2__length_scale is close to the specified upper bound 1000.0. Increasing the bound and calling fit again may find a better value.\n",
      "\n"
     ]
    },
    {
     "name": "stdout",
     "output_type": "stream",
     "text": [
      "Step: 25\n"
     ]
    },
    {
     "name": "stderr",
     "output_type": "stream",
     "text": [
      "Processing sliding window:  48%|████████████████▊                  | 52/108 [00:14<00:13,  4.16it/s]/home/sf_afn/usr_sa/anaconda3/envs/prkng_v2_env/lib/python3.11/site-packages/sklearn/gaussian_process/kernels.py:429: ConvergenceWarning:\n",
      "\n",
      "The optimal value found for dimension 0 of parameter k1__k1__k1__k2__length_scale is close to the specified upper bound 1000.0. Increasing the bound and calling fit again may find a better value.\n",
      "\n"
     ]
    },
    {
     "name": "stdout",
     "output_type": "stream",
     "text": [
      "Step: 26\n"
     ]
    },
    {
     "name": "stderr",
     "output_type": "stream",
     "text": [
      "Processing sliding window:  50%|█████████████████▌                 | 54/108 [00:14<00:13,  4.10it/s]/home/sf_afn/usr_sa/anaconda3/envs/prkng_v2_env/lib/python3.11/site-packages/sklearn/gaussian_process/kernels.py:429: ConvergenceWarning:\n",
      "\n",
      "The optimal value found for dimension 0 of parameter k1__k1__k1__k2__length_scale is close to the specified upper bound 1000.0. Increasing the bound and calling fit again may find a better value.\n",
      "\n"
     ]
    },
    {
     "name": "stdout",
     "output_type": "stream",
     "text": [
      "Step: 27\n"
     ]
    },
    {
     "name": "stderr",
     "output_type": "stream",
     "text": [
      "Processing sliding window:  52%|██████████████████▏                | 56/108 [00:15<00:12,  4.08it/s]/home/sf_afn/usr_sa/anaconda3/envs/prkng_v2_env/lib/python3.11/site-packages/sklearn/gaussian_process/kernels.py:429: ConvergenceWarning:\n",
      "\n",
      "The optimal value found for dimension 0 of parameter k1__k1__k1__k2__length_scale is close to the specified upper bound 1000.0. Increasing the bound and calling fit again may find a better value.\n",
      "\n"
     ]
    },
    {
     "name": "stdout",
     "output_type": "stream",
     "text": [
      "Step: 28\n"
     ]
    },
    {
     "name": "stderr",
     "output_type": "stream",
     "text": [
      "Processing sliding window:  54%|██████████████████▊                | 58/108 [00:15<00:12,  3.94it/s]"
     ]
    },
    {
     "name": "stdout",
     "output_type": "stream",
     "text": [
      "Step: 29\n"
     ]
    },
    {
     "name": "stderr",
     "output_type": "stream",
     "text": [
      "Processing sliding window:  56%|███████████████████▍               | 60/108 [00:16<00:13,  3.68it/s]"
     ]
    },
    {
     "name": "stdout",
     "output_type": "stream",
     "text": [
      "Step: 30\n"
     ]
    },
    {
     "name": "stderr",
     "output_type": "stream",
     "text": [
      "Processing sliding window:  57%|████████████████████               | 62/108 [00:16<00:12,  3.79it/s]"
     ]
    },
    {
     "name": "stdout",
     "output_type": "stream",
     "text": [
      "Step: 31\n"
     ]
    },
    {
     "name": "stderr",
     "output_type": "stream",
     "text": [
      "Processing sliding window:  59%|████████████████████▋              | 64/108 [00:17<00:11,  3.89it/s]/home/sf_afn/usr_sa/anaconda3/envs/prkng_v2_env/lib/python3.11/site-packages/sklearn/gaussian_process/kernels.py:429: ConvergenceWarning:\n",
      "\n",
      "The optimal value found for dimension 0 of parameter k1__k1__k1__k2__length_scale is close to the specified upper bound 1000.0. Increasing the bound and calling fit again may find a better value.\n",
      "\n"
     ]
    },
    {
     "name": "stdout",
     "output_type": "stream",
     "text": [
      "Step: 32\n"
     ]
    },
    {
     "name": "stderr",
     "output_type": "stream",
     "text": [
      "Processing sliding window:  61%|█████████████████████▍             | 66/108 [00:17<00:10,  3.93it/s]/home/sf_afn/usr_sa/anaconda3/envs/prkng_v2_env/lib/python3.11/site-packages/sklearn/gaussian_process/kernels.py:429: ConvergenceWarning:\n",
      "\n",
      "The optimal value found for dimension 0 of parameter k1__k1__k1__k2__length_scale is close to the specified upper bound 1000.0. Increasing the bound and calling fit again may find a better value.\n",
      "\n"
     ]
    },
    {
     "name": "stdout",
     "output_type": "stream",
     "text": [
      "Step: 33\n"
     ]
    },
    {
     "name": "stderr",
     "output_type": "stream",
     "text": [
      "Processing sliding window:  63%|██████████████████████             | 68/108 [00:18<00:09,  4.03it/s]/home/sf_afn/usr_sa/anaconda3/envs/prkng_v2_env/lib/python3.11/site-packages/sklearn/gaussian_process/kernels.py:429: ConvergenceWarning:\n",
      "\n",
      "The optimal value found for dimension 0 of parameter k1__k1__k1__k2__length_scale is close to the specified upper bound 1000.0. Increasing the bound and calling fit again may find a better value.\n",
      "\n"
     ]
    },
    {
     "name": "stdout",
     "output_type": "stream",
     "text": [
      "Step: 34\n"
     ]
    },
    {
     "name": "stderr",
     "output_type": "stream",
     "text": [
      "Processing sliding window:  65%|██████████████████████▋            | 70/108 [00:18<00:09,  4.05it/s]"
     ]
    },
    {
     "name": "stdout",
     "output_type": "stream",
     "text": [
      "Step: 35\n"
     ]
    },
    {
     "name": "stderr",
     "output_type": "stream",
     "text": [
      "Processing sliding window:  67%|███████████████████████▎           | 72/108 [00:19<00:08,  4.07it/s]"
     ]
    },
    {
     "name": "stdout",
     "output_type": "stream",
     "text": [
      "Step: 36\n"
     ]
    },
    {
     "name": "stderr",
     "output_type": "stream",
     "text": [
      "Processing sliding window:  69%|███████████████████████▉           | 74/108 [00:19<00:08,  4.05it/s]"
     ]
    },
    {
     "name": "stdout",
     "output_type": "stream",
     "text": [
      "Step: 37\n"
     ]
    },
    {
     "name": "stderr",
     "output_type": "stream",
     "text": [
      "Processing sliding window:  70%|████████████████████████▋          | 76/108 [00:20<00:07,  4.10it/s]"
     ]
    },
    {
     "name": "stdout",
     "output_type": "stream",
     "text": [
      "Step: 38\n"
     ]
    },
    {
     "name": "stderr",
     "output_type": "stream",
     "text": [
      "Processing sliding window:  72%|█████████████████████████▎         | 78/108 [00:20<00:07,  4.11it/s]"
     ]
    },
    {
     "name": "stdout",
     "output_type": "stream",
     "text": [
      "Step: 39\n"
     ]
    },
    {
     "name": "stderr",
     "output_type": "stream",
     "text": [
      "Processing sliding window:  74%|█████████████████████████▉         | 80/108 [00:22<00:12,  2.16it/s]"
     ]
    },
    {
     "name": "stdout",
     "output_type": "stream",
     "text": [
      "Step: 40\n"
     ]
    },
    {
     "name": "stderr",
     "output_type": "stream",
     "text": [
      "Processing sliding window:  76%|██████████████████████████▌        | 82/108 [00:23<00:10,  2.46it/s]"
     ]
    },
    {
     "name": "stdout",
     "output_type": "stream",
     "text": [
      "Step: 41\n"
     ]
    },
    {
     "name": "stderr",
     "output_type": "stream",
     "text": [
      "Processing sliding window:  78%|███████████████████████████▏       | 84/108 [00:23<00:08,  2.78it/s]"
     ]
    },
    {
     "name": "stdout",
     "output_type": "stream",
     "text": [
      "Step: 42\n"
     ]
    },
    {
     "name": "stderr",
     "output_type": "stream",
     "text": [
      "Processing sliding window:  80%|███████████████████████████▊       | 86/108 [00:24<00:07,  2.90it/s]/home/sf_afn/usr_sa/anaconda3/envs/prkng_v2_env/lib/python3.11/site-packages/sklearn/gaussian_process/kernels.py:419: ConvergenceWarning:\n",
      "\n",
      "The optimal value found for dimension 0 of parameter k2__length_scale is close to the specified lower bound 0.1. Decreasing the bound and calling fit again may find a better value.\n",
      "\n"
     ]
    },
    {
     "name": "stdout",
     "output_type": "stream",
     "text": [
      "Step: 43\n"
     ]
    },
    {
     "name": "stderr",
     "output_type": "stream",
     "text": [
      "Processing sliding window:  81%|████████████████████████████▌      | 88/108 [00:24<00:06,  2.96it/s]/home/sf_afn/usr_sa/anaconda3/envs/prkng_v2_env/lib/python3.11/site-packages/sklearn/gaussian_process/kernels.py:419: ConvergenceWarning:\n",
      "\n",
      "The optimal value found for dimension 0 of parameter k2__length_scale is close to the specified lower bound 0.1. Decreasing the bound and calling fit again may find a better value.\n",
      "\n"
     ]
    },
    {
     "name": "stdout",
     "output_type": "stream",
     "text": [
      "Step: 44\n"
     ]
    },
    {
     "name": "stderr",
     "output_type": "stream",
     "text": [
      "Processing sliding window:  83%|█████████████████████████████▏     | 90/108 [00:25<00:05,  3.17it/s]"
     ]
    },
    {
     "name": "stdout",
     "output_type": "stream",
     "text": [
      "Step: 45\n"
     ]
    },
    {
     "name": "stderr",
     "output_type": "stream",
     "text": [
      "Processing sliding window:  85%|█████████████████████████████▊     | 92/108 [00:25<00:04,  3.44it/s]/home/sf_afn/usr_sa/anaconda3/envs/prkng_v2_env/lib/python3.11/site-packages/sklearn/gaussian_process/kernels.py:419: ConvergenceWarning:\n",
      "\n",
      "The optimal value found for dimension 0 of parameter k2__length_scale is close to the specified lower bound 0.1. Decreasing the bound and calling fit again may find a better value.\n",
      "\n"
     ]
    },
    {
     "name": "stdout",
     "output_type": "stream",
     "text": [
      "Step: 46\n"
     ]
    },
    {
     "name": "stderr",
     "output_type": "stream",
     "text": [
      "Processing sliding window:  87%|██████████████████████████████▍    | 94/108 [00:26<00:03,  3.52it/s]"
     ]
    },
    {
     "name": "stdout",
     "output_type": "stream",
     "text": [
      "Step: 47\n"
     ]
    },
    {
     "name": "stderr",
     "output_type": "stream",
     "text": [
      "Processing sliding window:  89%|███████████████████████████████    | 96/108 [00:26<00:03,  3.69it/s]/home/sf_afn/usr_sa/anaconda3/envs/prkng_v2_env/lib/python3.11/site-packages/sklearn/gaussian_process/kernels.py:419: ConvergenceWarning:\n",
      "\n",
      "The optimal value found for dimension 0 of parameter k2__length_scale is close to the specified lower bound 0.1. Decreasing the bound and calling fit again may find a better value.\n",
      "\n"
     ]
    },
    {
     "name": "stdout",
     "output_type": "stream",
     "text": [
      "Step: 48\n"
     ]
    },
    {
     "name": "stderr",
     "output_type": "stream",
     "text": [
      "Processing sliding window:  91%|███████████████████████████████▊   | 98/108 [00:27<00:02,  3.58it/s]/home/sf_afn/usr_sa/anaconda3/envs/prkng_v2_env/lib/python3.11/site-packages/sklearn/gaussian_process/kernels.py:429: ConvergenceWarning:\n",
      "\n",
      "The optimal value found for dimension 0 of parameter k1__k1__k1__k2__length_scale is close to the specified upper bound 1000.0. Increasing the bound and calling fit again may find a better value.\n",
      "\n",
      "/home/sf_afn/usr_sa/anaconda3/envs/prkng_v2_env/lib/python3.11/site-packages/sklearn/gaussian_process/kernels.py:429: ConvergenceWarning:\n",
      "\n",
      "The optimal value found for dimension 0 of parameter k1__k2__noise_level is close to the specified upper bound 10.0. Increasing the bound and calling fit again may find a better value.\n",
      "\n"
     ]
    },
    {
     "name": "stdout",
     "output_type": "stream",
     "text": [
      "Step: 49\n"
     ]
    },
    {
     "name": "stderr",
     "output_type": "stream",
     "text": [
      "Processing sliding window:  93%|███████████████████████████████▍  | 100/108 [00:27<00:02,  3.69it/s]/home/sf_afn/usr_sa/anaconda3/envs/prkng_v2_env/lib/python3.11/site-packages/sklearn/gaussian_process/kernels.py:429: ConvergenceWarning:\n",
      "\n",
      "The optimal value found for dimension 0 of parameter k1__k2__noise_level is close to the specified upper bound 10.0. Increasing the bound and calling fit again may find a better value.\n",
      "\n"
     ]
    },
    {
     "name": "stdout",
     "output_type": "stream",
     "text": [
      "Step: 50\n"
     ]
    },
    {
     "name": "stderr",
     "output_type": "stream",
     "text": [
      "Processing sliding window:  94%|████████████████████████████████  | 102/108 [00:28<00:01,  3.79it/s]/home/sf_afn/usr_sa/anaconda3/envs/prkng_v2_env/lib/python3.11/site-packages/sklearn/gaussian_process/kernels.py:429: ConvergenceWarning:\n",
      "\n",
      "The optimal value found for dimension 0 of parameter k1__k1__k1__k2__length_scale is close to the specified upper bound 1000.0. Increasing the bound and calling fit again may find a better value.\n",
      "\n"
     ]
    },
    {
     "name": "stdout",
     "output_type": "stream",
     "text": [
      "Step: 51\n"
     ]
    },
    {
     "name": "stderr",
     "output_type": "stream",
     "text": [
      "Processing sliding window:  96%|████████████████████████████████▋ | 104/108 [00:28<00:01,  3.84it/s]/home/sf_afn/usr_sa/anaconda3/envs/prkng_v2_env/lib/python3.11/site-packages/sklearn/gaussian_process/kernels.py:429: ConvergenceWarning:\n",
      "\n",
      "The optimal value found for dimension 0 of parameter k1__k1__k1__k2__length_scale is close to the specified upper bound 1000.0. Increasing the bound and calling fit again may find a better value.\n",
      "\n"
     ]
    },
    {
     "name": "stdout",
     "output_type": "stream",
     "text": [
      "Step: 52\n"
     ]
    },
    {
     "name": "stderr",
     "output_type": "stream",
     "text": [
      "Processing sliding window:  98%|█████████████████████████████████▎| 106/108 [00:29<00:00,  3.94it/s]/home/sf_afn/usr_sa/anaconda3/envs/prkng_v2_env/lib/python3.11/site-packages/sklearn/gaussian_process/kernels.py:429: ConvergenceWarning:\n",
      "\n",
      "The optimal value found for dimension 0 of parameter k1__k1__k1__k2__length_scale is close to the specified upper bound 1000.0. Increasing the bound and calling fit again may find a better value.\n",
      "\n"
     ]
    },
    {
     "name": "stdout",
     "output_type": "stream",
     "text": [
      "Step: 53\n"
     ]
    },
    {
     "name": "stderr",
     "output_type": "stream",
     "text": [
      "Processing sliding window: 100%|██████████████████████████████████| 108/108 [00:29<00:00,  3.60it/s]\n"
     ]
    },
    {
     "name": "stdout",
     "output_type": "stream",
     "text": [
      "Step: 54\n",
      "Testing final GPR on test set\n"
     ]
    },
    {
     "data": {
      "application/vnd.jupyter.widget-view+json": {
       "model_id": "c91800223c154e35a8218e54a0ece3fe",
       "version_major": 2,
       "version_minor": 0
      },
      "text/plain": [
       "VBox(children=(Label(value='89.851 MB of 89.890 MB uploaded\\r'), FloatProgress(value=0.999570553886395, max=1.…"
      ]
     },
     "metadata": {},
     "output_type": "display_data"
    },
    {
     "name": "stderr",
     "output_type": "stream",
     "text": [
      "wandb: WARNING Source type is set to 'repo' but some required information is missing from the environment. A job will not be created from this run. See https://docs.wandb.ai/guides/launch/create-job\n"
     ]
    },
    {
     "data": {
      "text/html": [
       "<style>\n",
       "    table.wandb td:nth-child(1) { padding: 0 10px; text-align: left ; width: auto;} td:nth-child(2) {text-align: left ; width: 100%}\n",
       "    .wandb-row { display: flex; flex-direction: row; flex-wrap: wrap; justify-content: flex-start; width: 100% }\n",
       "    .wandb-col { display: flex; flex-direction: column; flex-basis: 100%; flex: 1; padding: 10px; }\n",
       "    </style>\n",
       "<div class=\"wandb-row\"><div class=\"wandb-col\"><h3>Run history:</h3><br/><table class=\"wandb\"><tr><td>LML_test</td><td>▁</td></tr><tr><td>LML_train</td><td>▅▆▃▅▄▅▅▅▆▅▃▁▁▄▄▃██▆▅▅▃▂▃▃▄▄▄▃▃▂▃▃▃▂▂▁▂▃▂</td></tr><tr><td>LML_validate</td><td>▆▇▄▆▅▆▆▆▆▆▄▅▃▅▅▄▄█▇▅▅▄▄▄▅▄▅▅▄▄▄▄▄▄▄▄▃▁▄▃</td></tr><tr><td>MAE_test</td><td>▁</td></tr><tr><td>MAE_train</td><td>▃▂▆▃▃▃▁▂▂▃▆██▄▄▄▂▂▂▂▂▂▃▂▃▃▃▃▃▂▃▁▃▄▄▂▅▁▃▄</td></tr><tr><td>MAE_validate</td><td>▁▁▂▂▁▂▁▁▂▂▂▆▃▂▂▂▁▅▃▆▃▃▂█▃▃▁▁▂▁▂▂▁▁▁▂▂▂▁▁</td></tr><tr><td>MAPE_test</td><td>▁</td></tr><tr><td>MAPE_train</td><td>▁▁▁▁▁▁▁▅▁▁▂▁▂▁▁▁▁▁▁▃▁▁▁▁▁▁▁▁▁▃▁▁▁▁▁▁█▁▂▂</td></tr><tr><td>MAPE_validate</td><td>▁▁▁▁▁▁▁▁▁▁▁▁▁▁▁▁▁▂▁▁▁▁▁▁▁▁▁▁▁▁▁▁▁▁▁█▂▁▁▁</td></tr><tr><td>MSE_test</td><td>▁</td></tr><tr><td>MSE_train</td><td>▁▁▅▁▂▁▁▁▁▁▄██▂▂▃▁▁▁▁▁▁▂▁▂▂▂▂▂▁▂▁▂▂▃▁▄▁▂▃</td></tr><tr><td>MSE_validate</td><td>▁▁▁▁▁▁▁▁▁▁▂▄▂▂▁▁▁▄▃▅▂▂▁█▂▂▁▁▁▁▂▁▁▁▁▁▂▁▁▁</td></tr><tr><td>R2_test</td><td>▁</td></tr><tr><td>R2_train</td><td>██▁▇▇███▇▇▁▁▁▇▆▆▇▇▇██████▇█▆▇███████▇██▇</td></tr><tr><td>R2_validate</td><td>███████████████████████▁████████████████</td></tr><tr><td>RMSE_test</td><td>▁</td></tr><tr><td>RMSE_train</td><td>▃▂▆▃▃▃▁▂▂▃▆██▄▄▄▂▂▂▃▂▂▃▂▃▄▃▄▄▂▃▂▃▄▅▂▆▁▃▅</td></tr><tr><td>RMSE_validate</td><td>▁▁▂▂▁▂▁▁▂▂▃▆▃▃▂▂▁▅▄▆▃▃▂█▃▃▁▁▂▁▃▂▂▁▁▂▃▂▁▁</td></tr><tr><td>step</td><td>▁▁▁▂▂▂▂▂▂▃▃▃▃▃▄▄▄▄▄▄▅▅▅▅▅▅▆▆▆▆▆▇▇▇▇▇███▁</td></tr></table><br/></div><div class=\"wandb-col\"><h3>Run summary:</h3><br/><table class=\"wandb\"><tr><td>LML_test</td><td>-68.54371</td></tr><tr><td>LML_train</td><td>-68.54371</td></tr><tr><td>LML_validate</td><td>-68.54371</td></tr><tr><td>MAE_test</td><td>8.68634</td></tr><tr><td>MAE_train</td><td>1.62174</td></tr><tr><td>MAE_validate</td><td>2.43681</td></tr><tr><td>MAPE_test</td><td>110.37937</td></tr><tr><td>MAPE_train</td><td>383.2678</td></tr><tr><td>MAPE_validate</td><td>355.77834</td></tr><tr><td>MSE_test</td><td>90.6897</td></tr><tr><td>MSE_train</td><td>5.34015</td></tr><tr><td>MSE_validate</td><td>12.35777</td></tr><tr><td>R2_test</td><td>-5.14927</td></tr><tr><td>R2_train</td><td>0.8845</td></tr><tr><td>R2_validate</td><td>0.58664</td></tr><tr><td>RMSE_test</td><td>9.52311</td></tr><tr><td>RMSE_train</td><td>2.31088</td></tr><tr><td>RMSE_validate</td><td>3.51536</td></tr><tr><td>step</td><td>1</td></tr></table><br/></div></div>"
      ],
      "text/plain": [
       "<IPython.core.display.HTML object>"
      ]
     },
     "metadata": {},
     "output_type": "display_data"
    },
    {
     "data": {
      "text/html": [
       " View run <strong style=\"color:#cdcd00\">Sliding_kris_noisy_lp_gp:week</strong> at: <a href='https://wandb.ai/afn-sy/Merged_GPR_Experiments/runs/j6jxhdta' target=\"_blank\">https://wandb.ai/afn-sy/Merged_GPR_Experiments/runs/j6jxhdta</a><br/>Synced 7 W&B file(s), 328 media file(s), 110 artifact file(s) and 4 other file(s)"
      ],
      "text/plain": [
       "<IPython.core.display.HTML object>"
      ]
     },
     "metadata": {},
     "output_type": "display_data"
    },
    {
     "data": {
      "text/html": [
       "Find logs at: <code>./wandb/run-20240122_203817-j6jxhdta/logs</code>"
      ],
      "text/plain": [
       "<IPython.core.display.HTML object>"
      ]
     },
     "metadata": {},
     "output_type": "display_data"
    },
    {
     "data": {
      "application/vnd.jupyter.widget-view+json": {
       "model_id": "27c25f67526848599b78b639458962c4",
       "version_major": 2,
       "version_minor": 0
      },
      "text/plain": [
       "VBox(children=(Label(value='Waiting for wandb.init()...\\r'), FloatProgress(value=0.011112024599990238, max=1.0…"
      ]
     },
     "metadata": {},
     "output_type": "display_data"
    },
    {
     "data": {
      "text/html": [
       "Tracking run with wandb version 0.16.2"
      ],
      "text/plain": [
       "<IPython.core.display.HTML object>"
      ]
     },
     "metadata": {},
     "output_type": "display_data"
    },
    {
     "data": {
      "text/html": [
       "Run data is saved locally in <code>/home/sf_afn/Insync/sofiaa720@gmail.com/Google Drive/masters_thesis/code_v1/msc_parking/univrses/notebooks/wandb/run-20240122_204052-t31t7aim</code>"
      ],
      "text/plain": [
       "<IPython.core.display.HTML object>"
      ]
     },
     "metadata": {},
     "output_type": "display_data"
    },
    {
     "data": {
      "text/html": [
       "Syncing run <strong><a href='https://wandb.ai/afn-sy/Merged_GPR_Experiments/runs/t31t7aim' target=\"_blank\">Sliding_kris_noisy_lp_gp:month</a></strong> to <a href='https://wandb.ai/afn-sy/Merged_GPR_Experiments' target=\"_blank\">Weights & Biases</a> (<a href='https://wandb.me/run' target=\"_blank\">docs</a>)<br/>"
      ],
      "text/plain": [
       "<IPython.core.display.HTML object>"
      ]
     },
     "metadata": {},
     "output_type": "display_data"
    },
    {
     "data": {
      "text/html": [
       " View project at <a href='https://wandb.ai/afn-sy/Merged_GPR_Experiments' target=\"_blank\">https://wandb.ai/afn-sy/Merged_GPR_Experiments</a>"
      ],
      "text/plain": [
       "<IPython.core.display.HTML object>"
      ]
     },
     "metadata": {},
     "output_type": "display_data"
    },
    {
     "data": {
      "text/html": [
       " View run at <a href='https://wandb.ai/afn-sy/Merged_GPR_Experiments/runs/t31t7aim' target=\"_blank\">https://wandb.ai/afn-sy/Merged_GPR_Experiments/runs/t31t7aim</a>"
      ],
      "text/plain": [
       "<IPython.core.display.HTML object>"
      ]
     },
     "metadata": {},
     "output_type": "display_data"
    },
    {
     "name": "stderr",
     "output_type": "stream",
     "text": [
      "Processing sliding window:   0%|                                            | 0/108 [00:00<?, ?it/s]/home/sf_afn/usr_sa/anaconda3/envs/prkng_v2_env/lib/python3.11/site-packages/sklearn/gaussian_process/kernels.py:429: ConvergenceWarning:\n",
      "\n",
      "The optimal value found for dimension 0 of parameter k1__k1__k1__k2__length_scale is close to the specified upper bound 1000.0. Increasing the bound and calling fit again may find a better value.\n",
      "\n",
      "Processing sliding window:   2%|▋                                   | 2/108 [00:00<00:24,  4.31it/s]"
     ]
    },
    {
     "name": "stdout",
     "output_type": "stream",
     "text": [
      "Step: 1\n"
     ]
    },
    {
     "name": "stderr",
     "output_type": "stream",
     "text": [
      "Processing sliding window:   4%|█▎                                  | 4/108 [00:00<00:24,  4.27it/s]/home/sf_afn/usr_sa/anaconda3/envs/prkng_v2_env/lib/python3.11/site-packages/sklearn/gaussian_process/kernels.py:429: ConvergenceWarning:\n",
      "\n",
      "The optimal value found for dimension 0 of parameter k1__k1__k1__k2__length_scale is close to the specified upper bound 1000.0. Increasing the bound and calling fit again may find a better value.\n",
      "\n",
      "/home/sf_afn/usr_sa/anaconda3/envs/prkng_v2_env/lib/python3.11/site-packages/sklearn/gaussian_process/kernels.py:429: ConvergenceWarning:\n",
      "\n",
      "The optimal value found for dimension 0 of parameter k1__k2__noise_level is close to the specified upper bound 10.0. Increasing the bound and calling fit again may find a better value.\n",
      "\n"
     ]
    },
    {
     "name": "stdout",
     "output_type": "stream",
     "text": [
      "Step: 2\n"
     ]
    },
    {
     "name": "stderr",
     "output_type": "stream",
     "text": [
      "Processing sliding window:   6%|██                                  | 6/108 [00:01<00:25,  4.04it/s]/home/sf_afn/usr_sa/anaconda3/envs/prkng_v2_env/lib/python3.11/site-packages/sklearn/gaussian_process/kernels.py:429: ConvergenceWarning:\n",
      "\n",
      "The optimal value found for dimension 0 of parameter k1__k1__k1__k2__length_scale is close to the specified upper bound 1000.0. Increasing the bound and calling fit again may find a better value.\n",
      "\n"
     ]
    },
    {
     "name": "stdout",
     "output_type": "stream",
     "text": [
      "Step: 3\n"
     ]
    },
    {
     "name": "stderr",
     "output_type": "stream",
     "text": [
      "Processing sliding window:   7%|██▋                                 | 8/108 [00:02<00:26,  3.81it/s]"
     ]
    },
    {
     "name": "stdout",
     "output_type": "stream",
     "text": [
      "Step: 4\n"
     ]
    },
    {
     "name": "stderr",
     "output_type": "stream",
     "text": [
      "Processing sliding window:   9%|███▏                               | 10/108 [00:02<00:27,  3.57it/s]/home/sf_afn/usr_sa/anaconda3/envs/prkng_v2_env/lib/python3.11/site-packages/sklearn/gaussian_process/kernels.py:429: ConvergenceWarning:\n",
      "\n",
      "The optimal value found for dimension 0 of parameter k1__k1__k1__k2__length_scale is close to the specified upper bound 1000.0. Increasing the bound and calling fit again may find a better value.\n",
      "\n"
     ]
    },
    {
     "name": "stdout",
     "output_type": "stream",
     "text": [
      "Step: 5\n"
     ]
    },
    {
     "name": "stderr",
     "output_type": "stream",
     "text": [
      "Processing sliding window:  11%|███▉                               | 12/108 [00:03<00:26,  3.57it/s]"
     ]
    },
    {
     "name": "stdout",
     "output_type": "stream",
     "text": [
      "Step: 6\n"
     ]
    },
    {
     "name": "stderr",
     "output_type": "stream",
     "text": [
      "Processing sliding window:  13%|████▌                              | 14/108 [00:03<00:27,  3.45it/s]"
     ]
    },
    {
     "name": "stdout",
     "output_type": "stream",
     "text": [
      "Step: 7\n"
     ]
    },
    {
     "name": "stderr",
     "output_type": "stream",
     "text": [
      "Processing sliding window:  15%|█████▏                             | 16/108 [00:04<00:27,  3.39it/s]/home/sf_afn/usr_sa/anaconda3/envs/prkng_v2_env/lib/python3.11/site-packages/sklearn/gaussian_process/kernels.py:429: ConvergenceWarning:\n",
      "\n",
      "The optimal value found for dimension 0 of parameter k1__k1__k1__k2__length_scale is close to the specified upper bound 1000.0. Increasing the bound and calling fit again may find a better value.\n",
      "\n"
     ]
    },
    {
     "name": "stdout",
     "output_type": "stream",
     "text": [
      "Step: 8\n"
     ]
    },
    {
     "name": "stderr",
     "output_type": "stream",
     "text": [
      "Processing sliding window:  17%|█████▊                             | 18/108 [00:05<00:27,  3.29it/s]/home/sf_afn/usr_sa/anaconda3/envs/prkng_v2_env/lib/python3.11/site-packages/sklearn/gaussian_process/kernels.py:429: ConvergenceWarning:\n",
      "\n",
      "The optimal value found for dimension 0 of parameter k1__k1__k1__k2__length_scale is close to the specified upper bound 1000.0. Increasing the bound and calling fit again may find a better value.\n",
      "\n"
     ]
    },
    {
     "name": "stdout",
     "output_type": "stream",
     "text": [
      "Step: 9\n"
     ]
    },
    {
     "name": "stderr",
     "output_type": "stream",
     "text": [
      "Processing sliding window:  19%|██████▍                            | 20/108 [00:05<00:26,  3.28it/s]/home/sf_afn/usr_sa/anaconda3/envs/prkng_v2_env/lib/python3.11/site-packages/sklearn/gaussian_process/kernels.py:429: ConvergenceWarning:\n",
      "\n",
      "The optimal value found for dimension 0 of parameter k1__k1__k1__k2__length_scale is close to the specified upper bound 1000.0. Increasing the bound and calling fit again may find a better value.\n",
      "\n"
     ]
    },
    {
     "name": "stdout",
     "output_type": "stream",
     "text": [
      "Step: 10\n"
     ]
    },
    {
     "name": "stderr",
     "output_type": "stream",
     "text": [
      "Processing sliding window:  20%|███████▏                           | 22/108 [00:06<00:25,  3.40it/s]"
     ]
    },
    {
     "name": "stdout",
     "output_type": "stream",
     "text": [
      "Step: 11\n"
     ]
    },
    {
     "name": "stderr",
     "output_type": "stream",
     "text": [
      "Processing sliding window:  22%|███████▊                           | 24/108 [00:06<00:24,  3.37it/s]/home/sf_afn/usr_sa/anaconda3/envs/prkng_v2_env/lib/python3.11/site-packages/sklearn/gaussian_process/kernels.py:429: ConvergenceWarning:\n",
      "\n",
      "The optimal value found for dimension 0 of parameter k1__k1__k1__k2__length_scale is close to the specified upper bound 1000.0. Increasing the bound and calling fit again may find a better value.\n",
      "\n"
     ]
    },
    {
     "name": "stdout",
     "output_type": "stream",
     "text": [
      "Step: 12\n"
     ]
    },
    {
     "name": "stderr",
     "output_type": "stream",
     "text": [
      "Processing sliding window:  24%|████████▍                          | 26/108 [00:07<00:24,  3.38it/s]/home/sf_afn/usr_sa/anaconda3/envs/prkng_v2_env/lib/python3.11/site-packages/sklearn/gaussian_process/kernels.py:429: ConvergenceWarning:\n",
      "\n",
      "The optimal value found for dimension 0 of parameter k1__k1__k1__k2__length_scale is close to the specified upper bound 1000.0. Increasing the bound and calling fit again may find a better value.\n",
      "\n"
     ]
    },
    {
     "name": "stdout",
     "output_type": "stream",
     "text": [
      "Step: 13\n"
     ]
    },
    {
     "name": "stderr",
     "output_type": "stream",
     "text": [
      "Processing sliding window:  26%|█████████                          | 28/108 [00:08<00:23,  3.43it/s]/home/sf_afn/usr_sa/anaconda3/envs/prkng_v2_env/lib/python3.11/site-packages/sklearn/gaussian_process/kernels.py:429: ConvergenceWarning:\n",
      "\n",
      "The optimal value found for dimension 0 of parameter k1__k1__k1__k2__length_scale is close to the specified upper bound 1000.0. Increasing the bound and calling fit again may find a better value.\n",
      "\n"
     ]
    },
    {
     "name": "stdout",
     "output_type": "stream",
     "text": [
      "Step: 14\n"
     ]
    },
    {
     "name": "stderr",
     "output_type": "stream",
     "text": [
      "Processing sliding window:  28%|█████████▋                         | 30/108 [00:08<00:22,  3.44it/s]/home/sf_afn/usr_sa/anaconda3/envs/prkng_v2_env/lib/python3.11/site-packages/sklearn/gaussian_process/kernels.py:429: ConvergenceWarning:\n",
      "\n",
      "The optimal value found for dimension 0 of parameter k1__k1__k1__k2__length_scale is close to the specified upper bound 1000.0. Increasing the bound and calling fit again may find a better value.\n",
      "\n",
      "/home/sf_afn/usr_sa/anaconda3/envs/prkng_v2_env/lib/python3.11/site-packages/sklearn/gaussian_process/kernels.py:429: ConvergenceWarning:\n",
      "\n",
      "The optimal value found for dimension 0 of parameter k1__k2__noise_level is close to the specified upper bound 10.0. Increasing the bound and calling fit again may find a better value.\n",
      "\n"
     ]
    },
    {
     "name": "stdout",
     "output_type": "stream",
     "text": [
      "Step: 15\n"
     ]
    },
    {
     "name": "stderr",
     "output_type": "stream",
     "text": [
      "Processing sliding window:  30%|██████████▎                        | 32/108 [00:09<00:21,  3.51it/s]/home/sf_afn/usr_sa/anaconda3/envs/prkng_v2_env/lib/python3.11/site-packages/sklearn/gaussian_process/kernels.py:429: ConvergenceWarning:\n",
      "\n",
      "The optimal value found for dimension 0 of parameter k1__k1__k1__k2__length_scale is close to the specified upper bound 1000.0. Increasing the bound and calling fit again may find a better value.\n",
      "\n",
      "/home/sf_afn/usr_sa/anaconda3/envs/prkng_v2_env/lib/python3.11/site-packages/sklearn/gaussian_process/kernels.py:429: ConvergenceWarning:\n",
      "\n",
      "The optimal value found for dimension 0 of parameter k1__k2__noise_level is close to the specified upper bound 10.0. Increasing the bound and calling fit again may find a better value.\n",
      "\n"
     ]
    },
    {
     "name": "stdout",
     "output_type": "stream",
     "text": [
      "Step: 16\n"
     ]
    },
    {
     "name": "stderr",
     "output_type": "stream",
     "text": [
      "Processing sliding window:  31%|███████████                        | 34/108 [00:09<00:19,  3.74it/s]/home/sf_afn/usr_sa/anaconda3/envs/prkng_v2_env/lib/python3.11/site-packages/sklearn/gaussian_process/kernels.py:429: ConvergenceWarning:\n",
      "\n",
      "The optimal value found for dimension 0 of parameter k1__k1__k1__k2__length_scale is close to the specified upper bound 1000.0. Increasing the bound and calling fit again may find a better value.\n",
      "\n"
     ]
    },
    {
     "name": "stdout",
     "output_type": "stream",
     "text": [
      "Step: 17\n"
     ]
    },
    {
     "name": "stderr",
     "output_type": "stream",
     "text": [
      "Processing sliding window:  33%|███████████▋                       | 36/108 [00:10<00:19,  3.69it/s]/home/sf_afn/usr_sa/anaconda3/envs/prkng_v2_env/lib/python3.11/site-packages/sklearn/gaussian_process/kernels.py:429: ConvergenceWarning:\n",
      "\n",
      "The optimal value found for dimension 0 of parameter k1__k1__k1__k2__length_scale is close to the specified upper bound 1000.0. Increasing the bound and calling fit again may find a better value.\n",
      "\n"
     ]
    },
    {
     "name": "stdout",
     "output_type": "stream",
     "text": [
      "Step: 18\n"
     ]
    },
    {
     "name": "stderr",
     "output_type": "stream",
     "text": [
      "Processing sliding window:  35%|████████████▎                      | 38/108 [00:10<00:18,  3.82it/s]"
     ]
    },
    {
     "name": "stdout",
     "output_type": "stream",
     "text": [
      "Step: 19\n"
     ]
    },
    {
     "name": "stderr",
     "output_type": "stream",
     "text": [
      "Processing sliding window:  37%|████████████▉                      | 40/108 [00:11<00:18,  3.71it/s]/home/sf_afn/usr_sa/anaconda3/envs/prkng_v2_env/lib/python3.11/site-packages/sklearn/gaussian_process/kernels.py:429: ConvergenceWarning:\n",
      "\n",
      "The optimal value found for dimension 0 of parameter k1__k1__k1__k2__length_scale is close to the specified upper bound 1000.0. Increasing the bound and calling fit again may find a better value.\n",
      "\n"
     ]
    },
    {
     "name": "stdout",
     "output_type": "stream",
     "text": [
      "Step: 20\n"
     ]
    },
    {
     "name": "stderr",
     "output_type": "stream",
     "text": [
      "Processing sliding window:  39%|█████████████▌                     | 42/108 [00:11<00:17,  3.85it/s]/home/sf_afn/usr_sa/anaconda3/envs/prkng_v2_env/lib/python3.11/site-packages/sklearn/gaussian_process/kernels.py:429: ConvergenceWarning:\n",
      "\n",
      "The optimal value found for dimension 0 of parameter k1__k2__noise_level is close to the specified upper bound 10.0. Increasing the bound and calling fit again may find a better value.\n",
      "\n"
     ]
    },
    {
     "name": "stdout",
     "output_type": "stream",
     "text": [
      "Step: 21\n"
     ]
    },
    {
     "name": "stderr",
     "output_type": "stream",
     "text": [
      "Processing sliding window:  41%|██████████████▎                    | 44/108 [00:12<00:15,  4.05it/s]/home/sf_afn/usr_sa/anaconda3/envs/prkng_v2_env/lib/python3.11/site-packages/sklearn/gaussian_process/kernels.py:429: ConvergenceWarning:\n",
      "\n",
      "The optimal value found for dimension 0 of parameter k1__k1__k1__k2__length_scale is close to the specified upper bound 1000.0. Increasing the bound and calling fit again may find a better value.\n",
      "\n"
     ]
    },
    {
     "name": "stdout",
     "output_type": "stream",
     "text": [
      "Step: 22\n"
     ]
    },
    {
     "name": "stderr",
     "output_type": "stream",
     "text": [
      "Processing sliding window:  43%|██████████████▉                    | 46/108 [00:12<00:16,  3.84it/s]/home/sf_afn/usr_sa/anaconda3/envs/prkng_v2_env/lib/python3.11/site-packages/sklearn/gaussian_process/kernels.py:429: ConvergenceWarning:\n",
      "\n",
      "The optimal value found for dimension 0 of parameter k1__k1__k1__k2__length_scale is close to the specified upper bound 1000.0. Increasing the bound and calling fit again may find a better value.\n",
      "\n"
     ]
    },
    {
     "name": "stdout",
     "output_type": "stream",
     "text": [
      "Step: 23\n"
     ]
    },
    {
     "name": "stderr",
     "output_type": "stream",
     "text": [
      "Processing sliding window:  44%|███████████████▌                   | 48/108 [00:13<00:15,  3.92it/s]/home/sf_afn/usr_sa/anaconda3/envs/prkng_v2_env/lib/python3.11/site-packages/sklearn/gaussian_process/kernels.py:429: ConvergenceWarning:\n",
      "\n",
      "The optimal value found for dimension 0 of parameter k1__k1__k1__k2__length_scale is close to the specified upper bound 1000.0. Increasing the bound and calling fit again may find a better value.\n",
      "\n"
     ]
    },
    {
     "name": "stdout",
     "output_type": "stream",
     "text": [
      "Step: 24\n"
     ]
    },
    {
     "name": "stderr",
     "output_type": "stream",
     "text": [
      "Processing sliding window:  46%|████████████████▏                  | 50/108 [00:13<00:14,  4.02it/s]/home/sf_afn/usr_sa/anaconda3/envs/prkng_v2_env/lib/python3.11/site-packages/sklearn/gaussian_process/kernels.py:429: ConvergenceWarning:\n",
      "\n",
      "The optimal value found for dimension 0 of parameter k1__k1__k1__k2__length_scale is close to the specified upper bound 1000.0. Increasing the bound and calling fit again may find a better value.\n",
      "\n"
     ]
    },
    {
     "name": "stdout",
     "output_type": "stream",
     "text": [
      "Step: 25\n"
     ]
    },
    {
     "name": "stderr",
     "output_type": "stream",
     "text": [
      "Processing sliding window:  48%|████████████████▊                  | 52/108 [00:14<00:14,  3.91it/s]/home/sf_afn/usr_sa/anaconda3/envs/prkng_v2_env/lib/python3.11/site-packages/sklearn/gaussian_process/kernels.py:429: ConvergenceWarning:\n",
      "\n",
      "The optimal value found for dimension 0 of parameter k1__k1__k1__k2__length_scale is close to the specified upper bound 1000.0. Increasing the bound and calling fit again may find a better value.\n",
      "\n"
     ]
    },
    {
     "name": "stdout",
     "output_type": "stream",
     "text": [
      "Step: 26\n"
     ]
    },
    {
     "name": "stderr",
     "output_type": "stream",
     "text": [
      "Processing sliding window:  50%|█████████████████▌                 | 54/108 [00:14<00:13,  3.89it/s]/home/sf_afn/usr_sa/anaconda3/envs/prkng_v2_env/lib/python3.11/site-packages/sklearn/gaussian_process/kernels.py:429: ConvergenceWarning:\n",
      "\n",
      "The optimal value found for dimension 0 of parameter k1__k1__k1__k2__length_scale is close to the specified upper bound 1000.0. Increasing the bound and calling fit again may find a better value.\n",
      "\n"
     ]
    },
    {
     "name": "stdout",
     "output_type": "stream",
     "text": [
      "Step: 27\n"
     ]
    },
    {
     "name": "stderr",
     "output_type": "stream",
     "text": [
      "Processing sliding window:  52%|██████████████████▏                | 56/108 [00:15<00:13,  3.95it/s]/home/sf_afn/usr_sa/anaconda3/envs/prkng_v2_env/lib/python3.11/site-packages/sklearn/gaussian_process/kernels.py:429: ConvergenceWarning:\n",
      "\n",
      "The optimal value found for dimension 0 of parameter k1__k1__k1__k2__length_scale is close to the specified upper bound 1000.0. Increasing the bound and calling fit again may find a better value.\n",
      "\n"
     ]
    },
    {
     "name": "stdout",
     "output_type": "stream",
     "text": [
      "Step: 28\n"
     ]
    },
    {
     "name": "stderr",
     "output_type": "stream",
     "text": [
      "Processing sliding window:  54%|██████████████████▊                | 58/108 [00:15<00:12,  3.99it/s]"
     ]
    },
    {
     "name": "stdout",
     "output_type": "stream",
     "text": [
      "Step: 29\n"
     ]
    },
    {
     "name": "stderr",
     "output_type": "stream",
     "text": [
      "Processing sliding window:  56%|███████████████████▍               | 60/108 [00:16<00:12,  3.95it/s]"
     ]
    },
    {
     "name": "stdout",
     "output_type": "stream",
     "text": [
      "Step: 30\n"
     ]
    },
    {
     "name": "stderr",
     "output_type": "stream",
     "text": [
      "Processing sliding window:  57%|████████████████████               | 62/108 [00:16<00:11,  3.94it/s]"
     ]
    },
    {
     "name": "stdout",
     "output_type": "stream",
     "text": [
      "Step: 31\n"
     ]
    },
    {
     "name": "stderr",
     "output_type": "stream",
     "text": [
      "Processing sliding window:  59%|████████████████████▋              | 64/108 [00:17<00:11,  3.98it/s]/home/sf_afn/usr_sa/anaconda3/envs/prkng_v2_env/lib/python3.11/site-packages/sklearn/gaussian_process/kernels.py:429: ConvergenceWarning:\n",
      "\n",
      "The optimal value found for dimension 0 of parameter k1__k1__k1__k2__length_scale is close to the specified upper bound 1000.0. Increasing the bound and calling fit again may find a better value.\n",
      "\n"
     ]
    },
    {
     "name": "stdout",
     "output_type": "stream",
     "text": [
      "Step: 32\n"
     ]
    },
    {
     "name": "stderr",
     "output_type": "stream",
     "text": [
      "Processing sliding window:  61%|█████████████████████▍             | 66/108 [00:17<00:10,  4.05it/s]/home/sf_afn/usr_sa/anaconda3/envs/prkng_v2_env/lib/python3.11/site-packages/sklearn/gaussian_process/kernels.py:429: ConvergenceWarning:\n",
      "\n",
      "The optimal value found for dimension 0 of parameter k1__k1__k1__k2__length_scale is close to the specified upper bound 1000.0. Increasing the bound and calling fit again may find a better value.\n",
      "\n"
     ]
    },
    {
     "name": "stdout",
     "output_type": "stream",
     "text": [
      "Step: 33\n"
     ]
    },
    {
     "name": "stderr",
     "output_type": "stream",
     "text": [
      "Processing sliding window:  63%|██████████████████████             | 68/108 [00:18<00:09,  4.09it/s]/home/sf_afn/usr_sa/anaconda3/envs/prkng_v2_env/lib/python3.11/site-packages/sklearn/gaussian_process/kernels.py:429: ConvergenceWarning:\n",
      "\n",
      "The optimal value found for dimension 0 of parameter k1__k1__k1__k2__length_scale is close to the specified upper bound 1000.0. Increasing the bound and calling fit again may find a better value.\n",
      "\n"
     ]
    },
    {
     "name": "stdout",
     "output_type": "stream",
     "text": [
      "Step: 34\n"
     ]
    },
    {
     "name": "stderr",
     "output_type": "stream",
     "text": [
      "Processing sliding window:  65%|██████████████████████▋            | 70/108 [00:18<00:09,  3.85it/s]"
     ]
    },
    {
     "name": "stdout",
     "output_type": "stream",
     "text": [
      "Step: 35\n"
     ]
    },
    {
     "name": "stderr",
     "output_type": "stream",
     "text": [
      "Processing sliding window:  67%|███████████████████████▎           | 72/108 [00:19<00:10,  3.56it/s]"
     ]
    },
    {
     "name": "stdout",
     "output_type": "stream",
     "text": [
      "Step: 36\n"
     ]
    },
    {
     "name": "stderr",
     "output_type": "stream",
     "text": [
      "Processing sliding window:  69%|███████████████████████▉           | 74/108 [00:20<00:09,  3.47it/s]"
     ]
    },
    {
     "name": "stdout",
     "output_type": "stream",
     "text": [
      "Step: 37\n"
     ]
    },
    {
     "name": "stderr",
     "output_type": "stream",
     "text": [
      "Processing sliding window:  70%|████████████████████████▋          | 76/108 [00:20<00:08,  3.61it/s]"
     ]
    },
    {
     "name": "stdout",
     "output_type": "stream",
     "text": [
      "Step: 38\n"
     ]
    },
    {
     "name": "stderr",
     "output_type": "stream",
     "text": [
      "Processing sliding window:  72%|█████████████████████████▎         | 78/108 [00:21<00:07,  3.75it/s]"
     ]
    },
    {
     "name": "stdout",
     "output_type": "stream",
     "text": [
      "Step: 39\n"
     ]
    },
    {
     "name": "stderr",
     "output_type": "stream",
     "text": [
      "Processing sliding window:  74%|█████████████████████████▉         | 80/108 [00:21<00:07,  3.84it/s]"
     ]
    },
    {
     "name": "stdout",
     "output_type": "stream",
     "text": [
      "Step: 40\n"
     ]
    },
    {
     "name": "stderr",
     "output_type": "stream",
     "text": [
      "Processing sliding window:  76%|██████████████████████████▌        | 82/108 [00:22<00:06,  3.79it/s]"
     ]
    },
    {
     "name": "stdout",
     "output_type": "stream",
     "text": [
      "Step: 41\n"
     ]
    },
    {
     "name": "stderr",
     "output_type": "stream",
     "text": [
      "Processing sliding window:  78%|███████████████████████████▏       | 84/108 [00:22<00:06,  3.96it/s]"
     ]
    },
    {
     "name": "stdout",
     "output_type": "stream",
     "text": [
      "Step: 42\n"
     ]
    },
    {
     "name": "stderr",
     "output_type": "stream",
     "text": [
      "Processing sliding window:  80%|███████████████████████████▊       | 86/108 [00:23<00:05,  3.75it/s]/home/sf_afn/usr_sa/anaconda3/envs/prkng_v2_env/lib/python3.11/site-packages/sklearn/gaussian_process/kernels.py:419: ConvergenceWarning:\n",
      "\n",
      "The optimal value found for dimension 0 of parameter k2__length_scale is close to the specified lower bound 0.1. Decreasing the bound and calling fit again may find a better value.\n",
      "\n"
     ]
    },
    {
     "name": "stdout",
     "output_type": "stream",
     "text": [
      "Step: 43\n"
     ]
    },
    {
     "name": "stderr",
     "output_type": "stream",
     "text": [
      "Processing sliding window:  81%|████████████████████████████▌      | 88/108 [00:23<00:05,  3.76it/s]/home/sf_afn/usr_sa/anaconda3/envs/prkng_v2_env/lib/python3.11/site-packages/sklearn/gaussian_process/kernels.py:419: ConvergenceWarning:\n",
      "\n",
      "The optimal value found for dimension 0 of parameter k2__length_scale is close to the specified lower bound 0.1. Decreasing the bound and calling fit again may find a better value.\n",
      "\n"
     ]
    },
    {
     "name": "stdout",
     "output_type": "stream",
     "text": [
      "Step: 44\n"
     ]
    },
    {
     "name": "stderr",
     "output_type": "stream",
     "text": [
      "Processing sliding window:  83%|█████████████████████████████▏     | 90/108 [00:24<00:04,  3.65it/s]"
     ]
    },
    {
     "name": "stdout",
     "output_type": "stream",
     "text": [
      "Step: 45\n"
     ]
    },
    {
     "name": "stderr",
     "output_type": "stream",
     "text": [
      "Processing sliding window:  85%|█████████████████████████████▊     | 92/108 [00:24<00:04,  3.78it/s]/home/sf_afn/usr_sa/anaconda3/envs/prkng_v2_env/lib/python3.11/site-packages/sklearn/gaussian_process/kernels.py:419: ConvergenceWarning:\n",
      "\n",
      "The optimal value found for dimension 0 of parameter k2__length_scale is close to the specified lower bound 0.1. Decreasing the bound and calling fit again may find a better value.\n",
      "\n"
     ]
    },
    {
     "name": "stdout",
     "output_type": "stream",
     "text": [
      "Step: 46\n"
     ]
    },
    {
     "name": "stderr",
     "output_type": "stream",
     "text": [
      "Processing sliding window:  87%|██████████████████████████████▍    | 94/108 [00:25<00:03,  3.81it/s]"
     ]
    },
    {
     "name": "stdout",
     "output_type": "stream",
     "text": [
      "Step: 47\n"
     ]
    },
    {
     "name": "stderr",
     "output_type": "stream",
     "text": [
      "Processing sliding window:  89%|███████████████████████████████    | 96/108 [00:25<00:03,  3.81it/s]/home/sf_afn/usr_sa/anaconda3/envs/prkng_v2_env/lib/python3.11/site-packages/sklearn/gaussian_process/kernels.py:419: ConvergenceWarning:\n",
      "\n",
      "The optimal value found for dimension 0 of parameter k2__length_scale is close to the specified lower bound 0.1. Decreasing the bound and calling fit again may find a better value.\n",
      "\n"
     ]
    },
    {
     "name": "stdout",
     "output_type": "stream",
     "text": [
      "Step: 48\n"
     ]
    },
    {
     "name": "stderr",
     "output_type": "stream",
     "text": [
      "Processing sliding window:  91%|███████████████████████████████▊   | 98/108 [00:26<00:02,  3.72it/s]/home/sf_afn/usr_sa/anaconda3/envs/prkng_v2_env/lib/python3.11/site-packages/sklearn/gaussian_process/kernels.py:429: ConvergenceWarning:\n",
      "\n",
      "The optimal value found for dimension 0 of parameter k1__k1__k1__k2__length_scale is close to the specified upper bound 1000.0. Increasing the bound and calling fit again may find a better value.\n",
      "\n",
      "/home/sf_afn/usr_sa/anaconda3/envs/prkng_v2_env/lib/python3.11/site-packages/sklearn/gaussian_process/kernels.py:429: ConvergenceWarning:\n",
      "\n",
      "The optimal value found for dimension 0 of parameter k1__k2__noise_level is close to the specified upper bound 10.0. Increasing the bound and calling fit again may find a better value.\n",
      "\n"
     ]
    },
    {
     "name": "stdout",
     "output_type": "stream",
     "text": [
      "Step: 49\n"
     ]
    },
    {
     "name": "stderr",
     "output_type": "stream",
     "text": [
      "Processing sliding window:  93%|███████████████████████████████▍  | 100/108 [00:26<00:02,  3.75it/s]/home/sf_afn/usr_sa/anaconda3/envs/prkng_v2_env/lib/python3.11/site-packages/sklearn/gaussian_process/kernels.py:429: ConvergenceWarning:\n",
      "\n",
      "The optimal value found for dimension 0 of parameter k1__k2__noise_level is close to the specified upper bound 10.0. Increasing the bound and calling fit again may find a better value.\n",
      "\n"
     ]
    },
    {
     "name": "stdout",
     "output_type": "stream",
     "text": [
      "Step: 50\n"
     ]
    },
    {
     "name": "stderr",
     "output_type": "stream",
     "text": [
      "Processing sliding window:  94%|████████████████████████████████  | 102/108 [00:27<00:01,  3.89it/s]/home/sf_afn/usr_sa/anaconda3/envs/prkng_v2_env/lib/python3.11/site-packages/sklearn/gaussian_process/kernels.py:429: ConvergenceWarning:\n",
      "\n",
      "The optimal value found for dimension 0 of parameter k1__k1__k1__k2__length_scale is close to the specified upper bound 1000.0. Increasing the bound and calling fit again may find a better value.\n",
      "\n"
     ]
    },
    {
     "name": "stdout",
     "output_type": "stream",
     "text": [
      "Step: 51\n"
     ]
    },
    {
     "name": "stderr",
     "output_type": "stream",
     "text": [
      "Processing sliding window:  96%|████████████████████████████████▋ | 104/108 [00:27<00:01,  3.96it/s]/home/sf_afn/usr_sa/anaconda3/envs/prkng_v2_env/lib/python3.11/site-packages/sklearn/gaussian_process/kernels.py:429: ConvergenceWarning:\n",
      "\n",
      "The optimal value found for dimension 0 of parameter k1__k1__k1__k2__length_scale is close to the specified upper bound 1000.0. Increasing the bound and calling fit again may find a better value.\n",
      "\n"
     ]
    },
    {
     "name": "stdout",
     "output_type": "stream",
     "text": [
      "Step: 52\n"
     ]
    },
    {
     "name": "stderr",
     "output_type": "stream",
     "text": [
      "Processing sliding window:  98%|█████████████████████████████████▎| 106/108 [00:28<00:00,  4.05it/s]/home/sf_afn/usr_sa/anaconda3/envs/prkng_v2_env/lib/python3.11/site-packages/sklearn/gaussian_process/kernels.py:429: ConvergenceWarning:\n",
      "\n",
      "The optimal value found for dimension 0 of parameter k1__k1__k1__k2__length_scale is close to the specified upper bound 1000.0. Increasing the bound and calling fit again may find a better value.\n",
      "\n"
     ]
    },
    {
     "name": "stdout",
     "output_type": "stream",
     "text": [
      "Step: 53\n"
     ]
    },
    {
     "name": "stderr",
     "output_type": "stream",
     "text": [
      "Processing sliding window: 100%|██████████████████████████████████| 108/108 [00:28<00:00,  3.77it/s]\n"
     ]
    },
    {
     "name": "stdout",
     "output_type": "stream",
     "text": [
      "Step: 54\n",
      "Testing final GPR on test set\n"
     ]
    },
    {
     "data": {
      "application/vnd.jupyter.widget-view+json": {
       "model_id": "ddc0794590b04680bc082abe2b83bf69",
       "version_major": 2,
       "version_minor": 0
      },
      "text/plain": [
       "VBox(children=(Label(value='89.851 MB of 89.891 MB uploaded\\r'), FloatProgress(value=0.9995478999734155, max=1…"
      ]
     },
     "metadata": {},
     "output_type": "display_data"
    },
    {
     "name": "stderr",
     "output_type": "stream",
     "text": [
      "wandb: WARNING Source type is set to 'repo' but some required information is missing from the environment. A job will not be created from this run. See https://docs.wandb.ai/guides/launch/create-job\n"
     ]
    },
    {
     "data": {
      "text/html": [
       "<style>\n",
       "    table.wandb td:nth-child(1) { padding: 0 10px; text-align: left ; width: auto;} td:nth-child(2) {text-align: left ; width: 100%}\n",
       "    .wandb-row { display: flex; flex-direction: row; flex-wrap: wrap; justify-content: flex-start; width: 100% }\n",
       "    .wandb-col { display: flex; flex-direction: column; flex-basis: 100%; flex: 1; padding: 10px; }\n",
       "    </style>\n",
       "<div class=\"wandb-row\"><div class=\"wandb-col\"><h3>Run history:</h3><br/><table class=\"wandb\"><tr><td>LML_test</td><td>▁</td></tr><tr><td>LML_train</td><td>▅▆▃▅▄▅▅▅▆▅▃▁▁▄▄▃██▆▅▅▃▂▃▃▄▄▄▃▃▂▃▃▃▂▂▁▂▃▂</td></tr><tr><td>LML_validate</td><td>▆▇▄▆▅▆▆▆▆▆▄▅▃▅▅▄▄█▇▅▅▄▄▄▅▄▅▅▄▄▄▄▄▄▄▄▃▁▄▃</td></tr><tr><td>MAE_test</td><td>▁</td></tr><tr><td>MAE_train</td><td>▃▂▆▃▃▃▁▂▂▃▆██▄▄▄▂▂▂▂▂▂▃▂▃▃▃▃▃▂▃▁▃▄▄▂▅▁▃▄</td></tr><tr><td>MAE_validate</td><td>▁▁▂▂▁▂▁▁▂▂▂▆▃▂▂▂▁▅▃▆▃▃▂█▃▃▁▁▂▁▂▂▁▁▁▂▂▂▁▁</td></tr><tr><td>MAPE_test</td><td>▁</td></tr><tr><td>MAPE_train</td><td>▁▁▁▁▁▁▁▅▁▁▂▁▂▁▁▁▁▁▁▃▁▁▁▁▁▁▁▁▁▃▁▁▁▁▁▁█▁▂▂</td></tr><tr><td>MAPE_validate</td><td>▁▁▁▁▁▁▁▁▁▁▁▁▁▁▁▁▁▂▁▁▁▁▁▁▁▁▁▁▁▁▁▁▁▁▁█▂▁▁▁</td></tr><tr><td>MSE_test</td><td>▁</td></tr><tr><td>MSE_train</td><td>▁▁▅▁▂▁▁▁▁▁▄██▂▂▃▁▁▁▁▁▁▂▁▂▂▂▂▂▁▂▁▂▂▃▁▄▁▂▃</td></tr><tr><td>MSE_validate</td><td>▁▁▁▁▁▁▁▁▁▁▂▄▂▂▁▁▁▄▃▅▂▂▁█▂▂▁▁▁▁▂▁▁▁▁▁▂▁▁▁</td></tr><tr><td>R2_test</td><td>▁</td></tr><tr><td>R2_train</td><td>██▁▇▇███▇▇▁▁▁▇▆▆▇▇▇██████▇█▆▇███████▇██▇</td></tr><tr><td>R2_validate</td><td>███████████████████████▁████████████████</td></tr><tr><td>RMSE_test</td><td>▁</td></tr><tr><td>RMSE_train</td><td>▃▂▆▃▃▃▁▂▂▃▆██▄▄▄▂▂▂▃▂▂▃▂▃▄▃▄▄▂▃▂▃▄▅▂▆▁▃▅</td></tr><tr><td>RMSE_validate</td><td>▁▁▂▂▁▂▁▁▂▂▃▆▃▃▂▂▁▅▄▆▃▃▂█▃▃▁▁▂▁▃▂▂▁▁▂▃▂▁▁</td></tr><tr><td>step</td><td>▁▁▁▂▂▂▂▂▂▃▃▃▃▃▄▄▄▄▄▄▅▅▅▅▅▅▆▆▆▆▆▇▇▇▇▇███▁</td></tr></table><br/></div><div class=\"wandb-col\"><h3>Run summary:</h3><br/><table class=\"wandb\"><tr><td>LML_test</td><td>-68.54371</td></tr><tr><td>LML_train</td><td>-68.54371</td></tr><tr><td>LML_validate</td><td>-68.54371</td></tr><tr><td>MAE_test</td><td>8.18174</td></tr><tr><td>MAE_train</td><td>1.62174</td></tr><tr><td>MAE_validate</td><td>2.43681</td></tr><tr><td>MAPE_test</td><td>262.87289</td></tr><tr><td>MAPE_train</td><td>383.2678</td></tr><tr><td>MAPE_validate</td><td>355.77834</td></tr><tr><td>MSE_test</td><td>80.63819</td></tr><tr><td>MSE_train</td><td>5.34015</td></tr><tr><td>MSE_validate</td><td>12.35777</td></tr><tr><td>R2_test</td><td>-3.96198</td></tr><tr><td>R2_train</td><td>0.8845</td></tr><tr><td>R2_validate</td><td>0.58664</td></tr><tr><td>RMSE_test</td><td>8.97988</td></tr><tr><td>RMSE_train</td><td>2.31088</td></tr><tr><td>RMSE_validate</td><td>3.51536</td></tr><tr><td>step</td><td>1</td></tr></table><br/></div></div>"
      ],
      "text/plain": [
       "<IPython.core.display.HTML object>"
      ]
     },
     "metadata": {},
     "output_type": "display_data"
    },
    {
     "data": {
      "text/html": [
       " View run <strong style=\"color:#cdcd00\">Sliding_kris_noisy_lp_gp:month</strong> at: <a href='https://wandb.ai/afn-sy/Merged_GPR_Experiments/runs/t31t7aim' target=\"_blank\">https://wandb.ai/afn-sy/Merged_GPR_Experiments/runs/t31t7aim</a><br/>Synced 7 W&B file(s), 328 media file(s), 110 artifact file(s) and 4 other file(s)"
      ],
      "text/plain": [
       "<IPython.core.display.HTML object>"
      ]
     },
     "metadata": {},
     "output_type": "display_data"
    },
    {
     "data": {
      "text/html": [
       "Find logs at: <code>./wandb/run-20240122_204052-t31t7aim/logs</code>"
      ],
      "text/plain": [
       "<IPython.core.display.HTML object>"
      ]
     },
     "metadata": {},
     "output_type": "display_data"
    },
    {
     "data": {
      "application/vnd.jupyter.widget-view+json": {
       "model_id": "004d3c3693f2460883d18d0c05d2be99",
       "version_major": 2,
       "version_minor": 0
      },
      "text/plain": [
       "VBox(children=(Label(value='Waiting for wandb.init()...\\r'), FloatProgress(value=0.011111984622241127, max=1.0…"
      ]
     },
     "metadata": {},
     "output_type": "display_data"
    },
    {
     "data": {
      "text/html": [
       "Tracking run with wandb version 0.16.2"
      ],
      "text/plain": [
       "<IPython.core.display.HTML object>"
      ]
     },
     "metadata": {},
     "output_type": "display_data"
    },
    {
     "data": {
      "text/html": [
       "Run data is saved locally in <code>/home/sf_afn/Insync/sofiaa720@gmail.com/Google Drive/masters_thesis/code_v1/msc_parking/univrses/notebooks/wandb/run-20240122_204317-83nvgg4g</code>"
      ],
      "text/plain": [
       "<IPython.core.display.HTML object>"
      ]
     },
     "metadata": {},
     "output_type": "display_data"
    },
    {
     "data": {
      "text/html": [
       "Syncing run <strong><a href='https://wandb.ai/afn-sy/Merged_GPR_Experiments/runs/83nvgg4g' target=\"_blank\">Sliding_varb_noisy_lp_gp:hour</a></strong> to <a href='https://wandb.ai/afn-sy/Merged_GPR_Experiments' target=\"_blank\">Weights & Biases</a> (<a href='https://wandb.me/run' target=\"_blank\">docs</a>)<br/>"
      ],
      "text/plain": [
       "<IPython.core.display.HTML object>"
      ]
     },
     "metadata": {},
     "output_type": "display_data"
    },
    {
     "data": {
      "text/html": [
       " View project at <a href='https://wandb.ai/afn-sy/Merged_GPR_Experiments' target=\"_blank\">https://wandb.ai/afn-sy/Merged_GPR_Experiments</a>"
      ],
      "text/plain": [
       "<IPython.core.display.HTML object>"
      ]
     },
     "metadata": {},
     "output_type": "display_data"
    },
    {
     "data": {
      "text/html": [
       " View run at <a href='https://wandb.ai/afn-sy/Merged_GPR_Experiments/runs/83nvgg4g' target=\"_blank\">https://wandb.ai/afn-sy/Merged_GPR_Experiments/runs/83nvgg4g</a>"
      ],
      "text/plain": [
       "<IPython.core.display.HTML object>"
      ]
     },
     "metadata": {},
     "output_type": "display_data"
    },
    {
     "name": "stderr",
     "output_type": "stream",
     "text": [
      "Processing sliding window:   2%|▋                                   | 2/106 [00:00<00:23,  4.47it/s]"
     ]
    },
    {
     "name": "stdout",
     "output_type": "stream",
     "text": [
      "Step: 1\n"
     ]
    },
    {
     "name": "stderr",
     "output_type": "stream",
     "text": [
      "Processing sliding window:   4%|█▎                                  | 4/106 [00:00<00:23,  4.30it/s]/home/sf_afn/usr_sa/anaconda3/envs/prkng_v2_env/lib/python3.11/site-packages/sklearn/gaussian_process/kernels.py:419: ConvergenceWarning:\n",
      "\n",
      "The optimal value found for dimension 0 of parameter k1__k1__k1__k1__constant_value is close to the specified lower bound 1e-05. Decreasing the bound and calling fit again may find a better value.\n",
      "\n"
     ]
    },
    {
     "name": "stdout",
     "output_type": "stream",
     "text": [
      "Step: 2\n"
     ]
    },
    {
     "name": "stderr",
     "output_type": "stream",
     "text": [
      "Processing sliding window:   6%|██                                  | 6/106 [00:01<00:28,  3.54it/s]"
     ]
    },
    {
     "name": "stdout",
     "output_type": "stream",
     "text": [
      "Step: 3\n"
     ]
    },
    {
     "name": "stderr",
     "output_type": "stream",
     "text": [
      "Processing sliding window:   8%|██▋                                 | 8/106 [00:02<00:29,  3.33it/s]"
     ]
    },
    {
     "name": "stdout",
     "output_type": "stream",
     "text": [
      "Step: 4\n"
     ]
    },
    {
     "name": "stderr",
     "output_type": "stream",
     "text": [
      "Processing sliding window:   9%|███▎                               | 10/106 [00:03<00:31,  3.07it/s]"
     ]
    },
    {
     "name": "stdout",
     "output_type": "stream",
     "text": [
      "Step: 5\n"
     ]
    },
    {
     "name": "stderr",
     "output_type": "stream",
     "text": [
      "Processing sliding window:  11%|███▉                               | 12/106 [00:03<00:31,  2.96it/s]"
     ]
    },
    {
     "name": "stdout",
     "output_type": "stream",
     "text": [
      "Step: 6\n"
     ]
    },
    {
     "name": "stderr",
     "output_type": "stream",
     "text": [
      "Processing sliding window:  13%|████▌                              | 14/106 [00:04<00:32,  2.87it/s]/home/sf_afn/usr_sa/anaconda3/envs/prkng_v2_env/lib/python3.11/site-packages/sklearn/gaussian_process/kernels.py:419: ConvergenceWarning:\n",
      "\n",
      "The optimal value found for dimension 0 of parameter k1__k1__k1__k1__constant_value is close to the specified lower bound 1e-05. Decreasing the bound and calling fit again may find a better value.\n",
      "\n"
     ]
    },
    {
     "name": "stdout",
     "output_type": "stream",
     "text": [
      "Step: 7\n"
     ]
    },
    {
     "name": "stderr",
     "output_type": "stream",
     "text": [
      "Processing sliding window:  15%|█████▎                             | 16/106 [00:05<00:32,  2.75it/s]"
     ]
    },
    {
     "name": "stdout",
     "output_type": "stream",
     "text": [
      "Step: 8\n"
     ]
    },
    {
     "name": "stderr",
     "output_type": "stream",
     "text": [
      "Processing sliding window:  17%|█████▉                             | 18/106 [00:07<00:49,  1.77it/s]/home/sf_afn/usr_sa/anaconda3/envs/prkng_v2_env/lib/python3.11/site-packages/sklearn/gaussian_process/kernels.py:419: ConvergenceWarning:\n",
      "\n",
      "The optimal value found for dimension 0 of parameter k2__length_scale is close to the specified lower bound 0.1. Decreasing the bound and calling fit again may find a better value.\n",
      "\n"
     ]
    },
    {
     "name": "stdout",
     "output_type": "stream",
     "text": [
      "Step: 9\n"
     ]
    },
    {
     "name": "stderr",
     "output_type": "stream",
     "text": [
      "wandb: Network error (ConnectionError), entering retry loop.\n",
      "\u001b[34m\u001b[1mwandb\u001b[0m: Network error (ConnectionError), entering retry loop.\n",
      "\u001b[34m\u001b[1mwandb\u001b[0m: Network error resolved after 0:00:00.519357, resuming normal operation.\n",
      "Processing sliding window:  19%|██████▌                            | 20/106 [00:24<04:16,  2.99s/it]/home/sf_afn/usr_sa/anaconda3/envs/prkng_v2_env/lib/python3.11/site-packages/sklearn/gaussian_process/kernels.py:419: ConvergenceWarning:\n",
      "\n",
      "The optimal value found for dimension 0 of parameter k1__k2__noise_level is close to the specified lower bound 1e-10. Decreasing the bound and calling fit again may find a better value.\n",
      "\n",
      "/home/sf_afn/usr_sa/anaconda3/envs/prkng_v2_env/lib/python3.11/site-packages/sklearn/gaussian_process/kernels.py:419: ConvergenceWarning:\n",
      "\n",
      "The optimal value found for dimension 0 of parameter k2__length_scale is close to the specified lower bound 0.1. Decreasing the bound and calling fit again may find a better value.\n",
      "\n"
     ]
    },
    {
     "name": "stdout",
     "output_type": "stream",
     "text": [
      "Step: 10\n"
     ]
    },
    {
     "name": "stderr",
     "output_type": "stream",
     "text": [
      "Processing sliding window:  21%|███████▎                           | 22/106 [00:24<03:00,  2.15s/it]"
     ]
    },
    {
     "name": "stdout",
     "output_type": "stream",
     "text": [
      "Step: 11\n"
     ]
    },
    {
     "name": "stderr",
     "output_type": "stream",
     "text": [
      "\u001b[34m\u001b[1mwandb\u001b[0m: Network error (ConnectionError), entering retry loop.\n",
      "\u001b[34m\u001b[1mwandb\u001b[0m: Network error (ConnectionError), entering retry loop.\n",
      "Processing sliding window:  23%|███████▉                           | 24/106 [01:37<17:09, 12.55s/it]"
     ]
    },
    {
     "name": "stdout",
     "output_type": "stream",
     "text": [
      "Step: 12\n"
     ]
    },
    {
     "name": "stderr",
     "output_type": "stream",
     "text": [
      "Processing sliding window:  25%|████████▌                          | 26/106 [01:37<11:45,  8.82s/it]"
     ]
    },
    {
     "name": "stdout",
     "output_type": "stream",
     "text": [
      "Step: 13\n"
     ]
    },
    {
     "name": "stderr",
     "output_type": "stream",
     "text": [
      "Processing sliding window:  26%|█████████▏                         | 28/106 [01:40<08:31,  6.56s/it]"
     ]
    },
    {
     "name": "stdout",
     "output_type": "stream",
     "text": [
      "Step: 14\n"
     ]
    },
    {
     "name": "stderr",
     "output_type": "stream",
     "text": [
      "Processing sliding window:  28%|█████████▉                         | 30/106 [01:40<05:53,  4.65s/it]"
     ]
    },
    {
     "name": "stdout",
     "output_type": "stream",
     "text": [
      "Step: 15\n"
     ]
    },
    {
     "name": "stderr",
     "output_type": "stream",
     "text": [
      "\u001b[34m\u001b[1mwandb\u001b[0m: Network error (ConnectionError), entering retry loop.\n",
      "\u001b[34m\u001b[1mwandb\u001b[0m: Network error resolved after 0:00:01.171496, resuming normal operation.\n",
      "Processing sliding window:  30%|██████████▌                        | 32/106 [01:48<05:29,  4.45s/it]"
     ]
    },
    {
     "name": "stdout",
     "output_type": "stream",
     "text": [
      "Step: 16\n"
     ]
    },
    {
     "name": "stderr",
     "output_type": "stream",
     "text": [
      "\u001b[34m\u001b[1mwandb\u001b[0m: Network error (ConnectionError), entering retry loop.\n",
      "Processing sliding window:  32%|███████████▏                       | 34/106 [01:57<05:13,  4.36s/it]"
     ]
    },
    {
     "name": "stdout",
     "output_type": "stream",
     "text": [
      "Step: 17\n"
     ]
    },
    {
     "name": "stderr",
     "output_type": "stream",
     "text": [
      "Processing sliding window:  34%|███████████▉                       | 36/106 [01:58<03:50,  3.29s/it]"
     ]
    },
    {
     "name": "stdout",
     "output_type": "stream",
     "text": [
      "Step: 18\n"
     ]
    },
    {
     "name": "stderr",
     "output_type": "stream",
     "text": [
      "Processing sliding window:  36%|████████████▌                      | 38/106 [01:59<02:40,  2.37s/it]"
     ]
    },
    {
     "name": "stdout",
     "output_type": "stream",
     "text": [
      "Step: 19\n"
     ]
    },
    {
     "name": "stderr",
     "output_type": "stream",
     "text": [
      "Processing sliding window:  38%|█████████████▏                     | 40/106 [02:04<02:37,  2.38s/it]"
     ]
    },
    {
     "name": "stdout",
     "output_type": "stream",
     "text": [
      "Step: 20\n"
     ]
    },
    {
     "name": "stderr",
     "output_type": "stream",
     "text": [
      "Processing sliding window:  40%|█████████████▊                     | 42/106 [02:08<02:31,  2.36s/it]"
     ]
    },
    {
     "name": "stdout",
     "output_type": "stream",
     "text": [
      "Step: 21\n"
     ]
    },
    {
     "name": "stderr",
     "output_type": "stream",
     "text": [
      "Processing sliding window:  42%|██████████████▌                    | 44/106 [02:12<02:17,  2.22s/it]"
     ]
    },
    {
     "name": "stdout",
     "output_type": "stream",
     "text": [
      "Step: 22\n"
     ]
    },
    {
     "name": "stderr",
     "output_type": "stream",
     "text": [
      "Processing sliding window:  43%|███████████████▏                   | 46/106 [02:12<01:37,  1.62s/it]"
     ]
    },
    {
     "name": "stdout",
     "output_type": "stream",
     "text": [
      "Step: 23\n"
     ]
    },
    {
     "name": "stderr",
     "output_type": "stream",
     "text": [
      "Processing sliding window:  45%|███████████████▊                   | 48/106 [02:14<01:19,  1.37s/it]"
     ]
    },
    {
     "name": "stdout",
     "output_type": "stream",
     "text": [
      "Step: 24\n"
     ]
    },
    {
     "name": "stderr",
     "output_type": "stream",
     "text": [
      "\u001b[34m\u001b[1mwandb\u001b[0m: Network error (ConnectionError), entering retry loop.\n",
      "Processing sliding window:  47%|████████████████▌                  | 50/106 [02:30<03:09,  3.38s/it]"
     ]
    },
    {
     "name": "stdout",
     "output_type": "stream",
     "text": [
      "Step: 25\n"
     ]
    },
    {
     "name": "stderr",
     "output_type": "stream",
     "text": [
      "\u001b[34m\u001b[1mwandb\u001b[0m: Network error (ConnectionError), entering retry loop.\n",
      "Processing sliding window:  49%|█████████████████▏                 | 52/106 [03:04<06:43,  7.48s/it]"
     ]
    },
    {
     "name": "stdout",
     "output_type": "stream",
     "text": [
      "Step: 26\n"
     ]
    },
    {
     "name": "stderr",
     "output_type": "stream",
     "text": [
      "\u001b[34m\u001b[1mwandb\u001b[0m: Network error (ConnectionError), entering retry loop.\n",
      "Processing sliding window:  51%|█████████████████▊                 | 54/106 [03:16<06:05,  7.04s/it]"
     ]
    },
    {
     "name": "stdout",
     "output_type": "stream",
     "text": [
      "Step: 27\n"
     ]
    },
    {
     "name": "stderr",
     "output_type": "stream",
     "text": [
      "Processing sliding window:  53%|██████████████████▍                | 56/106 [03:17<04:09,  4.99s/it]"
     ]
    },
    {
     "name": "stdout",
     "output_type": "stream",
     "text": [
      "Step: 28\n"
     ]
    },
    {
     "name": "stderr",
     "output_type": "stream",
     "text": [
      "\u001b[34m\u001b[1mwandb\u001b[0m: Network error (ConnectionError), entering retry loop.\n",
      "Processing sliding window:  55%|███████████████████▏               | 58/106 [03:25<03:48,  4.76s/it]"
     ]
    },
    {
     "name": "stdout",
     "output_type": "stream",
     "text": [
      "Step: 29\n"
     ]
    },
    {
     "name": "stderr",
     "output_type": "stream",
     "text": [
      "\u001b[34m\u001b[1mwandb\u001b[0m: Network error (ConnectionError), entering retry loop.\n",
      "Processing sliding window:  57%|███████████████████▊               | 60/106 [03:33<03:27,  4.51s/it]"
     ]
    },
    {
     "name": "stdout",
     "output_type": "stream",
     "text": [
      "Step: 30\n"
     ]
    },
    {
     "name": "stderr",
     "output_type": "stream",
     "text": [
      "\u001b[34m\u001b[1mwandb\u001b[0m: Network error (ConnectionError), entering retry loop.\n",
      "Processing sliding window:  58%|████████████████████▍              | 62/106 [03:41<03:14,  4.43s/it]"
     ]
    },
    {
     "name": "stdout",
     "output_type": "stream",
     "text": [
      "Step: 31\n"
     ]
    },
    {
     "name": "stderr",
     "output_type": "stream",
     "text": [
      "\u001b[34m\u001b[1mwandb\u001b[0m: Network error (ConnectionError), entering retry loop.\n",
      "Processing sliding window:  60%|█████████████████████▏             | 64/106 [03:49<02:58,  4.25s/it]"
     ]
    },
    {
     "name": "stdout",
     "output_type": "stream",
     "text": [
      "Step: 32\n"
     ]
    },
    {
     "name": "stderr",
     "output_type": "stream",
     "text": [
      "Processing sliding window:  62%|█████████████████████▊             | 66/106 [03:49<02:01,  3.04s/it]"
     ]
    },
    {
     "name": "stdout",
     "output_type": "stream",
     "text": [
      "Step: 33\n"
     ]
    },
    {
     "name": "stderr",
     "output_type": "stream",
     "text": [
      "Processing sliding window:  64%|██████████████████████▍            | 68/106 [03:50<01:23,  2.21s/it]/home/sf_afn/usr_sa/anaconda3/envs/prkng_v2_env/lib/python3.11/site-packages/sklearn/gaussian_process/kernels.py:419: ConvergenceWarning:\n",
      "\n",
      "The optimal value found for dimension 0 of parameter k1__k1__k1__k1__constant_value is close to the specified lower bound 1e-05. Decreasing the bound and calling fit again may find a better value.\n",
      "\n"
     ]
    },
    {
     "name": "stdout",
     "output_type": "stream",
     "text": [
      "Step: 34\n"
     ]
    },
    {
     "name": "stderr",
     "output_type": "stream",
     "text": [
      "\u001b[34m\u001b[1mwandb\u001b[0m: Network error (ConnectionError), entering retry loop.\n",
      "\u001b[34m\u001b[1mwandb\u001b[0m: Network error resolved after 0:00:01.892389, resuming normal operation.\n",
      "Processing sliding window:  66%|███████████████████████            | 70/106 [04:28<04:18,  7.19s/it]"
     ]
    },
    {
     "name": "stdout",
     "output_type": "stream",
     "text": [
      "Step: 35\n"
     ]
    },
    {
     "name": "stderr",
     "output_type": "stream",
     "text": [
      "\u001b[34m\u001b[1mwandb\u001b[0m: Network error (ConnectionError), entering retry loop.\n",
      "Processing sliding window:  68%|███████████████████████▊           | 72/106 [05:03<05:49, 10.28s/it]/home/sf_afn/usr_sa/anaconda3/envs/prkng_v2_env/lib/python3.11/site-packages/sklearn/gaussian_process/kernels.py:419: ConvergenceWarning:\n",
      "\n",
      "The optimal value found for dimension 0 of parameter k1__k1__k1__k1__constant_value is close to the specified lower bound 1e-05. Decreasing the bound and calling fit again may find a better value.\n",
      "\n",
      "/home/sf_afn/usr_sa/anaconda3/envs/prkng_v2_env/lib/python3.11/site-packages/sklearn/gaussian_process/kernels.py:419: ConvergenceWarning:\n",
      "\n",
      "The optimal value found for dimension 0 of parameter k1__k1__k1__k2__length_scale is close to the specified lower bound 0.001. Decreasing the bound and calling fit again may find a better value.\n",
      "\n"
     ]
    },
    {
     "name": "stdout",
     "output_type": "stream",
     "text": [
      "Step: 36\n"
     ]
    },
    {
     "name": "stderr",
     "output_type": "stream",
     "text": [
      "Processing sliding window:  70%|████████████████████████▍          | 74/106 [05:03<03:52,  7.27s/it]"
     ]
    },
    {
     "name": "stdout",
     "output_type": "stream",
     "text": [
      "Step: 37\n"
     ]
    },
    {
     "name": "stderr",
     "output_type": "stream",
     "text": [
      "Processing sliding window:  72%|█████████████████████████          | 76/106 [05:07<02:49,  5.65s/it]"
     ]
    },
    {
     "name": "stdout",
     "output_type": "stream",
     "text": [
      "Step: 38\n"
     ]
    },
    {
     "name": "stderr",
     "output_type": "stream",
     "text": [
      "Processing sliding window:  74%|█████████████████████████▊         | 78/106 [05:09<01:58,  4.22s/it]"
     ]
    },
    {
     "name": "stdout",
     "output_type": "stream",
     "text": [
      "Step: 39\n"
     ]
    },
    {
     "name": "stderr",
     "output_type": "stream",
     "text": [
      "Processing sliding window:  75%|██████████████████████████▍        | 80/106 [05:10<01:22,  3.18s/it]"
     ]
    },
    {
     "name": "stdout",
     "output_type": "stream",
     "text": [
      "Step: 40\n"
     ]
    },
    {
     "name": "stderr",
     "output_type": "stream",
     "text": [
      "Processing sliding window:  77%|███████████████████████████        | 82/106 [05:12<00:59,  2.47s/it]"
     ]
    },
    {
     "name": "stdout",
     "output_type": "stream",
     "text": [
      "Step: 41\n"
     ]
    },
    {
     "name": "stderr",
     "output_type": "stream",
     "text": [
      "Processing sliding window:  79%|███████████████████████████▋       | 84/106 [05:12<00:39,  1.79s/it]"
     ]
    },
    {
     "name": "stdout",
     "output_type": "stream",
     "text": [
      "Step: 42\n"
     ]
    },
    {
     "name": "stderr",
     "output_type": "stream",
     "text": [
      "Processing sliding window:  81%|████████████████████████████▍      | 86/106 [05:13<00:26,  1.32s/it]"
     ]
    },
    {
     "name": "stdout",
     "output_type": "stream",
     "text": [
      "Step: 43\n"
     ]
    },
    {
     "name": "stderr",
     "output_type": "stream",
     "text": [
      "Processing sliding window:  83%|█████████████████████████████      | 88/106 [05:13<00:17,  1.00it/s]/home/sf_afn/usr_sa/anaconda3/envs/prkng_v2_env/lib/python3.11/site-packages/sklearn/gaussian_process/kernels.py:419: ConvergenceWarning:\n",
      "\n",
      "The optimal value found for dimension 0 of parameter k1__k1__k1__k1__constant_value is close to the specified lower bound 1e-05. Decreasing the bound and calling fit again may find a better value.\n",
      "\n",
      "/home/sf_afn/usr_sa/anaconda3/envs/prkng_v2_env/lib/python3.11/site-packages/sklearn/gaussian_process/kernels.py:429: ConvergenceWarning:\n",
      "\n",
      "The optimal value found for dimension 0 of parameter k1__k1__k1__k2__length_scale is close to the specified upper bound 1000.0. Increasing the bound and calling fit again may find a better value.\n",
      "\n"
     ]
    },
    {
     "name": "stdout",
     "output_type": "stream",
     "text": [
      "Step: 44\n"
     ]
    },
    {
     "name": "stderr",
     "output_type": "stream",
     "text": [
      "Processing sliding window:  85%|█████████████████████████████▋     | 90/106 [05:14<00:12,  1.30it/s]/home/sf_afn/usr_sa/anaconda3/envs/prkng_v2_env/lib/python3.11/site-packages/sklearn/gaussian_process/kernels.py:429: ConvergenceWarning:\n",
      "\n",
      "The optimal value found for dimension 0 of parameter k1__k1__k1__k2__length_scale is close to the specified upper bound 1000.0. Increasing the bound and calling fit again may find a better value.\n",
      "\n"
     ]
    },
    {
     "name": "stdout",
     "output_type": "stream",
     "text": [
      "Step: 45\n"
     ]
    },
    {
     "name": "stderr",
     "output_type": "stream",
     "text": [
      "Processing sliding window:  87%|██████████████████████████████▍    | 92/106 [05:14<00:08,  1.62it/s]"
     ]
    },
    {
     "name": "stdout",
     "output_type": "stream",
     "text": [
      "Step: 46\n"
     ]
    },
    {
     "name": "stderr",
     "output_type": "stream",
     "text": [
      "Processing sliding window:  89%|███████████████████████████████    | 94/106 [05:15<00:06,  1.94it/s]"
     ]
    },
    {
     "name": "stdout",
     "output_type": "stream",
     "text": [
      "Step: 47\n"
     ]
    },
    {
     "name": "stderr",
     "output_type": "stream",
     "text": [
      "wandb: Network error (ConnectionError), entering retry loop.\n",
      "\u001b[34m\u001b[1mwandb\u001b[0m: Network error resolved after 0:00:00.150327, resuming normal operation.\n",
      "wandb: Network error (ConnectionError), entering retry loop.\n",
      "\u001b[34m\u001b[1mwandb\u001b[0m: Network error (ConnectionError), entering retry loop.\n",
      "wandb: Network error (ConnectionError), entering retry loop.\n",
      "Processing sliding window:  91%|███████████████████████████████▋   | 96/106 [05:48<00:54,  5.42s/it]"
     ]
    },
    {
     "name": "stdout",
     "output_type": "stream",
     "text": [
      "Step: 48\n"
     ]
    },
    {
     "name": "stderr",
     "output_type": "stream",
     "text": [
      "Processing sliding window:  92%|████████████████████████████████▎  | 98/106 [05:53<00:36,  4.55s/it]"
     ]
    },
    {
     "name": "stdout",
     "output_type": "stream",
     "text": [
      "Step: 49\n"
     ]
    },
    {
     "name": "stderr",
     "output_type": "stream",
     "text": [
      "Processing sliding window:  94%|████████████████████████████████  | 100/106 [05:55<00:20,  3.42s/it]"
     ]
    },
    {
     "name": "stdout",
     "output_type": "stream",
     "text": [
      "Step: 50\n"
     ]
    },
    {
     "name": "stderr",
     "output_type": "stream",
     "text": [
      "Processing sliding window:  96%|████████████████████████████████▋ | 102/106 [05:55<00:09,  2.46s/it]"
     ]
    },
    {
     "name": "stdout",
     "output_type": "stream",
     "text": [
      "Step: 51\n"
     ]
    },
    {
     "name": "stderr",
     "output_type": "stream",
     "text": [
      "\u001b[34m\u001b[1mwandb\u001b[0m: Network error (ConnectionError), entering retry loop.\n",
      "Processing sliding window:  98%|█████████████████████████████████▎| 104/106 [06:13<00:08,  4.35s/it]"
     ]
    },
    {
     "name": "stdout",
     "output_type": "stream",
     "text": [
      "Step: 52\n"
     ]
    },
    {
     "name": "stderr",
     "output_type": "stream",
     "text": [
      "Processing sliding window: 100%|██████████████████████████████████| 106/106 [06:14<00:00,  3.54s/it]\n"
     ]
    },
    {
     "name": "stdout",
     "output_type": "stream",
     "text": [
      "Step: 53\n",
      "Testing final GPR on test set\n"
     ]
    },
    {
     "name": "stderr",
     "output_type": "stream",
     "text": [
      "\u001b[34m\u001b[1mwandb\u001b[0m: Network error (ConnectionError), entering retry loop.\n",
      "wandb: WARNING Source type is set to 'repo' but some required information is missing from the environment. A job will not be created from this run. See https://docs.wandb.ai/guides/launch/create-job\n"
     ]
    },
    {
     "data": {
      "application/vnd.jupyter.widget-view+json": {
       "model_id": "9a2e51bdeaa04196a5903e95ca6c7d59",
       "version_major": 2,
       "version_minor": 0
      },
      "text/plain": [
       "VBox(children=(Label(value='89.856 MB of 89.856 MB uploaded\\r'), FloatProgress(value=1.0, max=1.0)))"
      ]
     },
     "metadata": {},
     "output_type": "display_data"
    },
    {
     "data": {
      "text/html": [
       "<style>\n",
       "    table.wandb td:nth-child(1) { padding: 0 10px; text-align: left ; width: auto;} td:nth-child(2) {text-align: left ; width: 100%}\n",
       "    .wandb-row { display: flex; flex-direction: row; flex-wrap: wrap; justify-content: flex-start; width: 100% }\n",
       "    .wandb-col { display: flex; flex-direction: column; flex-basis: 100%; flex: 1; padding: 10px; }\n",
       "    </style>\n",
       "<div class=\"wandb-row\"><div class=\"wandb-col\"><h3>Run history:</h3><br/><table class=\"wandb\"><tr><td>LML_test</td><td>▁</td></tr><tr><td>LML_train</td><td>▇▇█▇▇▇█▇▇▆▆▇▆▇▇▆▅▆▆▅▆█▇▆▆█▅▆▇▇▆▄▄▁▂▃▄▅▆▆</td></tr><tr><td>LML_validate</td><td>▇▇█▇▇▇█▇▇▆▆▇▆▇▆▆▅▅▆▅▆█▇▆▆█▆▆▆▇▆▅▄▁▂▂▄▅▅▆</td></tr><tr><td>MAE_test</td><td>▁</td></tr><tr><td>MAE_train</td><td>▃▁▄▄▄▄▁▁▁▁▁▂▄▄▂▃▅▃▃▁▄▃▃▃▄▃▄▁▃▄▄▅▂██▇▆▁▄▃</td></tr><tr><td>MAE_validate</td><td>▂▃▂▂▂█▄▄▆▃▄▅▄▃▃▇▂▅▂▂▃▄▁▃▅▃▄▃▁▆▄▃▂▃█▄▃▂▆▂</td></tr><tr><td>MAPE_test</td><td>▁</td></tr><tr><td>MAPE_train</td><td>▄▁▇▃▃█▁▁▁▁▁▂▃▅▃▃▃▂▂▁▂▃▆▃▄▃█▁▄▃▇▇▂▃▅▄▄▁▃▇</td></tr><tr><td>MAPE_validate</td><td>▂▃▃▁▄▃▂▄▇▃▄▃▂▂▃▄▃█▂▂▂▅▂▄▇▂▂▄▂▂▂▃▁▂▄▂█▁▄▄</td></tr><tr><td>MSE_test</td><td>▁</td></tr><tr><td>MSE_train</td><td>▂▁▂▂▂▂▁▁▁▁▁▁▂▂▁▂▃▂▂▁▂▁▂▂▂▁▂▁▂▂▃▃▁█▇▅▄▁▂▂</td></tr><tr><td>MSE_validate</td><td>▂▂▁▁▁█▃▃▄▂▃▄▃▂▂▆▁▃▂▁▂▃▁▂▃▂▃▂▁▆▄▂▁▃▇▃▂▂▅▁</td></tr><tr><td>R2_test</td><td>▁</td></tr><tr><td>R2_train</td><td>▆█▅▄▄▅█████▇▄▄█▆▅▇▇█▇▇▇▇▆▇▆█▄▂▄▅█▄▃▂▁█▅▇</td></tr><tr><td>R2_validate</td><td>█▇███▇▇▇▇▇▆▇▇▇▇▇█▅███▇█▇▁▇▇▇▇▇██▅█▇▂█▄▇█</td></tr><tr><td>RMSE_test</td><td>▁</td></tr><tr><td>RMSE_train</td><td>▃▁▃▄▄▄▁▁▁▁▁▂▄▄▂▃▅▃▃▁▄▃▃▄▄▃▄▁▃▄▄▅▂█▇▆▆▁▄▃</td></tr><tr><td>RMSE_validate</td><td>▂▃▂▂▂█▄▄▅▃▅▅▄▃▃▇▁▄▂▂▃▄▁▃▅▄▅▃▁▇▅▃▂▄█▄▃▂▆▂</td></tr><tr><td>step</td><td>▁▁▁▂▂▂▂▂▂▃▃▃▃▃▄▄▄▄▄▅▅▅▅▅▅▆▆▆▆▆▇▇▇▇▇▇███▁</td></tr></table><br/></div><div class=\"wandb-col\"><h3>Run summary:</h3><br/><table class=\"wandb\"><tr><td>LML_test</td><td>-35.0543</td></tr><tr><td>LML_train</td><td>-35.0543</td></tr><tr><td>LML_validate</td><td>-35.0543</td></tr><tr><td>MAE_test</td><td>1.34323</td></tr><tr><td>MAE_train</td><td>0.32445</td></tr><tr><td>MAE_validate</td><td>0.98908</td></tr><tr><td>MAPE_test</td><td>214.85996</td></tr><tr><td>MAPE_train</td><td>213.2782</td></tr><tr><td>MAPE_validate</td><td>180.75217</td></tr><tr><td>MSE_test</td><td>2.52966</td></tr><tr><td>MSE_train</td><td>0.18202</td></tr><tr><td>MSE_validate</td><td>1.35397</td></tr><tr><td>R2_test</td><td>-1.10744</td></tr><tr><td>R2_train</td><td>0.8918</td></tr><tr><td>R2_validate</td><td>0.08255</td></tr><tr><td>RMSE_test</td><td>1.59049</td></tr><tr><td>RMSE_train</td><td>0.42663</td></tr><tr><td>RMSE_validate</td><td>1.1636</td></tr><tr><td>step</td><td>1</td></tr></table><br/></div></div>"
      ],
      "text/plain": [
       "<IPython.core.display.HTML object>"
      ]
     },
     "metadata": {},
     "output_type": "display_data"
    },
    {
     "data": {
      "text/html": [
       " View run <strong style=\"color:#cdcd00\">Sliding_varb_noisy_lp_gp:hour</strong> at: <a href='https://wandb.ai/afn-sy/Merged_GPR_Experiments/runs/83nvgg4g' target=\"_blank\">https://wandb.ai/afn-sy/Merged_GPR_Experiments/runs/83nvgg4g</a><br/>Synced 7 W&B file(s), 322 media file(s), 107 artifact file(s) and 4 other file(s)"
      ],
      "text/plain": [
       "<IPython.core.display.HTML object>"
      ]
     },
     "metadata": {},
     "output_type": "display_data"
    },
    {
     "data": {
      "text/html": [
       "Find logs at: <code>./wandb/run-20240122_204317-83nvgg4g/logs</code>"
      ],
      "text/plain": [
       "<IPython.core.display.HTML object>"
      ]
     },
     "metadata": {},
     "output_type": "display_data"
    },
    {
     "data": {
      "application/vnd.jupyter.widget-view+json": {
       "model_id": "ab7faaa91a254ff68b8c4b8141ec05fa",
       "version_major": 2,
       "version_minor": 0
      },
      "text/plain": [
       "VBox(children=(Label(value='Waiting for wandb.init()...\\r'), FloatProgress(value=0.01111195605553803, max=1.0)…"
      ]
     },
     "metadata": {},
     "output_type": "display_data"
    },
    {
     "name": "stderr",
     "output_type": "stream",
     "text": [
      "wandb: Network error (ConnectionError), entering retry loop.\n"
     ]
    },
    {
     "data": {
      "text/html": [
       "Tracking run with wandb version 0.16.2"
      ],
      "text/plain": [
       "<IPython.core.display.HTML object>"
      ]
     },
     "metadata": {},
     "output_type": "display_data"
    },
    {
     "data": {
      "text/html": [
       "Run data is saved locally in <code>/home/sf_afn/Insync/sofiaa720@gmail.com/Google Drive/masters_thesis/code_v1/msc_parking/univrses/notebooks/wandb/run-20240122_204954-sv4e0ol6</code>"
      ],
      "text/plain": [
       "<IPython.core.display.HTML object>"
      ]
     },
     "metadata": {},
     "output_type": "display_data"
    },
    {
     "data": {
      "text/html": [
       "Syncing run <strong><a href='https://wandb.ai/afn-sy/Merged_GPR_Experiments/runs/sv4e0ol6' target=\"_blank\">Sliding_varb_noisy_lp_gp:week</a></strong> to <a href='https://wandb.ai/afn-sy/Merged_GPR_Experiments' target=\"_blank\">Weights & Biases</a> (<a href='https://wandb.me/run' target=\"_blank\">docs</a>)<br/>"
      ],
      "text/plain": [
       "<IPython.core.display.HTML object>"
      ]
     },
     "metadata": {},
     "output_type": "display_data"
    },
    {
     "data": {
      "text/html": [
       " View project at <a href='https://wandb.ai/afn-sy/Merged_GPR_Experiments' target=\"_blank\">https://wandb.ai/afn-sy/Merged_GPR_Experiments</a>"
      ],
      "text/plain": [
       "<IPython.core.display.HTML object>"
      ]
     },
     "metadata": {},
     "output_type": "display_data"
    },
    {
     "data": {
      "text/html": [
       " View run at <a href='https://wandb.ai/afn-sy/Merged_GPR_Experiments/runs/sv4e0ol6' target=\"_blank\">https://wandb.ai/afn-sy/Merged_GPR_Experiments/runs/sv4e0ol6</a>"
      ],
      "text/plain": [
       "<IPython.core.display.HTML object>"
      ]
     },
     "metadata": {},
     "output_type": "display_data"
    },
    {
     "name": "stderr",
     "output_type": "stream",
     "text": [
      "Processing sliding window:   0%|                                            | 0/106 [00:00<?, ?it/s]\u001b[34m\u001b[1mwandb\u001b[0m: Network error resolved after 0:00:16.733613, resuming normal operation.\n",
      "\u001b[34m\u001b[1mwandb\u001b[0m: Network error (ConnectionError), entering retry loop.\n",
      "Processing sliding window:   2%|▋                                   | 2/106 [00:36<31:19, 18.07s/it]"
     ]
    },
    {
     "name": "stdout",
     "output_type": "stream",
     "text": [
      "Step: 1\n"
     ]
    },
    {
     "name": "stderr",
     "output_type": "stream",
     "text": [
      "Processing sliding window:   4%|█▎                                  | 4/106 [00:40<14:39,  8.63s/it]/home/sf_afn/usr_sa/anaconda3/envs/prkng_v2_env/lib/python3.11/site-packages/sklearn/gaussian_process/kernels.py:419: ConvergenceWarning:\n",
      "\n",
      "The optimal value found for dimension 0 of parameter k1__k1__k1__k1__constant_value is close to the specified lower bound 1e-05. Decreasing the bound and calling fit again may find a better value.\n",
      "\n"
     ]
    },
    {
     "name": "stdout",
     "output_type": "stream",
     "text": [
      "Step: 2\n"
     ]
    },
    {
     "name": "stderr",
     "output_type": "stream",
     "text": [
      "\u001b[34m\u001b[1mwandb\u001b[0m: Network error (ConnectionError), entering retry loop.\n",
      "Processing sliding window:   6%|██                                  | 6/106 [01:15<21:22, 12.82s/it]"
     ]
    },
    {
     "name": "stdout",
     "output_type": "stream",
     "text": [
      "Step: 3\n"
     ]
    },
    {
     "name": "stderr",
     "output_type": "stream",
     "text": [
      "Processing sliding window:   8%|██▋                                 | 8/106 [01:19<13:59,  8.56s/it]wandb: Network error (TransientError), entering retry loop.\n"
     ]
    },
    {
     "name": "stdout",
     "output_type": "stream",
     "text": [
      "Step: 4\n"
     ]
    },
    {
     "name": "stderr",
     "output_type": "stream",
     "text": [
      "Processing sliding window:   9%|███▎                               | 10/106 [01:23<09:53,  6.18s/it]"
     ]
    },
    {
     "name": "stdout",
     "output_type": "stream",
     "text": [
      "Step: 5\n"
     ]
    },
    {
     "name": "stderr",
     "output_type": "stream",
     "text": [
      "\u001b[34m\u001b[1mwandb\u001b[0m: Network error (ConnectionError), entering retry loop.\n",
      "\u001b[34m\u001b[1mwandb\u001b[0m: Network error resolved after 0:00:01.188478, resuming normal operation.\n",
      "Processing sliding window:  11%|███▉                               | 12/106 [02:00<16:03, 10.25s/it]"
     ]
    },
    {
     "name": "stdout",
     "output_type": "stream",
     "text": [
      "Step: 6\n"
     ]
    },
    {
     "name": "stderr",
     "output_type": "stream",
     "text": [
      "\u001b[34m\u001b[1mwandb\u001b[0m: Network error (ConnectionError), entering retry loop.\n",
      "Processing sliding window:  13%|████▌                              | 14/106 [02:17<15:00,  9.79s/it]/home/sf_afn/usr_sa/anaconda3/envs/prkng_v2_env/lib/python3.11/site-packages/sklearn/gaussian_process/kernels.py:419: ConvergenceWarning:\n",
      "\n",
      "The optimal value found for dimension 0 of parameter k1__k1__k1__k1__constant_value is close to the specified lower bound 1e-05. Decreasing the bound and calling fit again may find a better value.\n",
      "\n"
     ]
    },
    {
     "name": "stdout",
     "output_type": "stream",
     "text": [
      "Step: 7\n"
     ]
    },
    {
     "name": "stderr",
     "output_type": "stream",
     "text": [
      "Processing sliding window:  15%|█████▎                             | 16/106 [02:18<10:07,  6.75s/it]"
     ]
    },
    {
     "name": "stdout",
     "output_type": "stream",
     "text": [
      "Step: 8\n"
     ]
    },
    {
     "name": "stderr",
     "output_type": "stream",
     "text": [
      "Processing sliding window:  17%|█████▉                             | 18/106 [02:18<06:54,  4.71s/it]/home/sf_afn/usr_sa/anaconda3/envs/prkng_v2_env/lib/python3.11/site-packages/sklearn/gaussian_process/kernels.py:419: ConvergenceWarning:\n",
      "\n",
      "The optimal value found for dimension 0 of parameter k2__length_scale is close to the specified lower bound 0.1. Decreasing the bound and calling fit again may find a better value.\n",
      "\n"
     ]
    },
    {
     "name": "stdout",
     "output_type": "stream",
     "text": [
      "Step: 9\n"
     ]
    },
    {
     "name": "stderr",
     "output_type": "stream",
     "text": [
      "Processing sliding window:  19%|██████▌                            | 20/106 [02:19<04:46,  3.34s/it]/home/sf_afn/usr_sa/anaconda3/envs/prkng_v2_env/lib/python3.11/site-packages/sklearn/gaussian_process/kernels.py:419: ConvergenceWarning:\n",
      "\n",
      "The optimal value found for dimension 0 of parameter k1__k2__noise_level is close to the specified lower bound 1e-10. Decreasing the bound and calling fit again may find a better value.\n",
      "\n",
      "/home/sf_afn/usr_sa/anaconda3/envs/prkng_v2_env/lib/python3.11/site-packages/sklearn/gaussian_process/kernels.py:419: ConvergenceWarning:\n",
      "\n",
      "The optimal value found for dimension 0 of parameter k2__length_scale is close to the specified lower bound 0.1. Decreasing the bound and calling fit again may find a better value.\n",
      "\n"
     ]
    },
    {
     "name": "stdout",
     "output_type": "stream",
     "text": [
      "Step: 10\n"
     ]
    },
    {
     "name": "stderr",
     "output_type": "stream",
     "text": [
      "Processing sliding window:  21%|███████▎                           | 22/106 [02:19<03:20,  2.39s/it]"
     ]
    },
    {
     "name": "stdout",
     "output_type": "stream",
     "text": [
      "Step: 11\n"
     ]
    },
    {
     "name": "stderr",
     "output_type": "stream",
     "text": [
      "Processing sliding window:  23%|███████▉                           | 24/106 [02:22<02:48,  2.06s/it]"
     ]
    },
    {
     "name": "stdout",
     "output_type": "stream",
     "text": [
      "Step: 12\n"
     ]
    },
    {
     "name": "stderr",
     "output_type": "stream",
     "text": [
      "wandb: Network error (ConnectionError), entering retry loop.\n",
      "Processing sliding window:  25%|████████▌                          | 26/106 [02:27<02:55,  2.20s/it]"
     ]
    },
    {
     "name": "stdout",
     "output_type": "stream",
     "text": [
      "Step: 13\n"
     ]
    },
    {
     "name": "stderr",
     "output_type": "stream",
     "text": [
      "Processing sliding window:  26%|█████████▏                         | 28/106 [02:27<02:04,  1.60s/it]"
     ]
    },
    {
     "name": "stdout",
     "output_type": "stream",
     "text": [
      "Step: 14\n"
     ]
    },
    {
     "name": "stderr",
     "output_type": "stream",
     "text": [
      "Processing sliding window:  28%|█████████▉                         | 30/106 [02:28<01:29,  1.18s/it]"
     ]
    },
    {
     "name": "stdout",
     "output_type": "stream",
     "text": [
      "Step: 15\n"
     ]
    },
    {
     "name": "stderr",
     "output_type": "stream",
     "text": [
      "wandb: Network error (ConnectionError), entering retry loop.\n",
      "\u001b[34m\u001b[1mwandb\u001b[0m: Network error resolved after 0:00:01.208627, resuming normal operation.\n",
      "\u001b[34m\u001b[1mwandb\u001b[0m: Network error (ConnectionError), entering retry loop.\n",
      "Processing sliding window:  30%|██████████▌                        | 32/106 [03:06<08:02,  6.52s/it]"
     ]
    },
    {
     "name": "stdout",
     "output_type": "stream",
     "text": [
      "Step: 16\n"
     ]
    },
    {
     "name": "stderr",
     "output_type": "stream",
     "text": [
      "Processing sliding window:  32%|███████████▏                       | 34/106 [03:06<05:32,  4.62s/it]"
     ]
    },
    {
     "name": "stdout",
     "output_type": "stream",
     "text": [
      "Step: 17\n"
     ]
    },
    {
     "name": "stderr",
     "output_type": "stream",
     "text": [
      "Processing sliding window:  34%|███████████▉                       | 36/106 [03:06<03:51,  3.30s/it]"
     ]
    },
    {
     "name": "stdout",
     "output_type": "stream",
     "text": [
      "Step: 18\n"
     ]
    },
    {
     "name": "stderr",
     "output_type": "stream",
     "text": [
      "Processing sliding window:  36%|████████████▌                      | 38/106 [03:07<02:41,  2.38s/it]"
     ]
    },
    {
     "name": "stdout",
     "output_type": "stream",
     "text": [
      "Step: 19\n"
     ]
    },
    {
     "name": "stderr",
     "output_type": "stream",
     "text": [
      "Processing sliding window:  38%|█████████████▏                     | 40/106 [03:07<01:54,  1.73s/it]"
     ]
    },
    {
     "name": "stdout",
     "output_type": "stream",
     "text": [
      "Step: 20\n"
     ]
    },
    {
     "name": "stderr",
     "output_type": "stream",
     "text": [
      "\u001b[34m\u001b[1mwandb\u001b[0m: Network error (ConnectionError), entering retry loop.\n",
      "Processing sliding window:  40%|█████████████▊                     | 42/106 [03:16<02:44,  2.57s/it]"
     ]
    },
    {
     "name": "stdout",
     "output_type": "stream",
     "text": [
      "Step: 21\n"
     ]
    },
    {
     "name": "stderr",
     "output_type": "stream",
     "text": [
      "Processing sliding window:  42%|██████████████▌                    | 44/106 [03:18<02:06,  2.03s/it]"
     ]
    },
    {
     "name": "stdout",
     "output_type": "stream",
     "text": [
      "Step: 22\n"
     ]
    },
    {
     "name": "stderr",
     "output_type": "stream",
     "text": [
      "\u001b[34m\u001b[1mwandb\u001b[0m: Network error (ConnectionError), entering retry loop.\n",
      "Processing sliding window:  43%|███████████████▏                   | 46/106 [03:34<03:53,  3.89s/it]"
     ]
    },
    {
     "name": "stdout",
     "output_type": "stream",
     "text": [
      "Step: 23\n"
     ]
    },
    {
     "name": "stderr",
     "output_type": "stream",
     "text": [
      "Processing sliding window:  45%|███████████████▊                   | 48/106 [03:35<02:41,  2.79s/it]"
     ]
    },
    {
     "name": "stdout",
     "output_type": "stream",
     "text": [
      "Step: 24\n"
     ]
    },
    {
     "name": "stderr",
     "output_type": "stream",
     "text": [
      "\u001b[34m\u001b[1mwandb\u001b[0m: Network error (ConnectionError), entering retry loop.\n",
      "Processing sliding window:  47%|████████████████▌                  | 50/106 [03:43<02:58,  3.19s/it]"
     ]
    },
    {
     "name": "stdout",
     "output_type": "stream",
     "text": [
      "Step: 25\n"
     ]
    },
    {
     "name": "stderr",
     "output_type": "stream",
     "text": [
      "Processing sliding window:  49%|█████████████████▏                 | 52/106 [03:44<02:04,  2.30s/it]"
     ]
    },
    {
     "name": "stdout",
     "output_type": "stream",
     "text": [
      "Step: 26\n"
     ]
    },
    {
     "name": "stderr",
     "output_type": "stream",
     "text": [
      "Processing sliding window:  51%|█████████████████▊                 | 54/106 [03:44<01:27,  1.68s/it]"
     ]
    },
    {
     "name": "stdout",
     "output_type": "stream",
     "text": [
      "Step: 27\n"
     ]
    },
    {
     "name": "stderr",
     "output_type": "stream",
     "text": [
      "\u001b[34m\u001b[1mwandb\u001b[0m: Network error resolved after 0:00:01.284714, resuming normal operation.\n",
      "\u001b[34m\u001b[1mwandb\u001b[0m: Network error (ConnectionError), entering retry loop.\n",
      "Processing sliding window:  53%|██████████████████▍                | 56/106 [04:01<03:04,  3.69s/it]"
     ]
    },
    {
     "name": "stdout",
     "output_type": "stream",
     "text": [
      "Step: 28\n"
     ]
    },
    {
     "name": "stderr",
     "output_type": "stream",
     "text": [
      "\u001b[34m\u001b[1mwandb\u001b[0m: Network error (ConnectionError), entering retry loop.\n",
      "Processing sliding window:  55%|███████████████████▏               | 58/106 [04:09<03:04,  3.84s/it]"
     ]
    },
    {
     "name": "stdout",
     "output_type": "stream",
     "text": [
      "Step: 29\n"
     ]
    },
    {
     "name": "stderr",
     "output_type": "stream",
     "text": [
      "Processing sliding window:  57%|███████████████████▊               | 60/106 [04:13<02:31,  3.29s/it]"
     ]
    },
    {
     "name": "stdout",
     "output_type": "stream",
     "text": [
      "Step: 30\n"
     ]
    },
    {
     "name": "stderr",
     "output_type": "stream",
     "text": [
      "Processing sliding window:  58%|████████████████████▍              | 62/106 [04:14<01:44,  2.37s/it]"
     ]
    },
    {
     "name": "stdout",
     "output_type": "stream",
     "text": [
      "Step: 31\n"
     ]
    },
    {
     "name": "stderr",
     "output_type": "stream",
     "text": [
      "Processing sliding window:  60%|█████████████████████▏             | 64/106 [04:14<01:12,  1.73s/it]"
     ]
    },
    {
     "name": "stdout",
     "output_type": "stream",
     "text": [
      "Step: 32\n"
     ]
    },
    {
     "name": "stderr",
     "output_type": "stream",
     "text": [
      "Processing sliding window:  62%|█████████████████████▊             | 66/106 [04:15<00:51,  1.28s/it]"
     ]
    },
    {
     "name": "stdout",
     "output_type": "stream",
     "text": [
      "Step: 33\n"
     ]
    },
    {
     "name": "stderr",
     "output_type": "stream",
     "text": [
      "Processing sliding window:  64%|██████████████████████▍            | 68/106 [04:15<00:36,  1.04it/s]/home/sf_afn/usr_sa/anaconda3/envs/prkng_v2_env/lib/python3.11/site-packages/sklearn/gaussian_process/kernels.py:419: ConvergenceWarning:\n",
      "\n",
      "The optimal value found for dimension 0 of parameter k1__k1__k1__k1__constant_value is close to the specified lower bound 1e-05. Decreasing the bound and calling fit again may find a better value.\n",
      "\n"
     ]
    },
    {
     "name": "stdout",
     "output_type": "stream",
     "text": [
      "Step: 34\n"
     ]
    },
    {
     "name": "stderr",
     "output_type": "stream",
     "text": [
      "Processing sliding window:  66%|███████████████████████            | 70/106 [04:15<00:26,  1.35it/s]"
     ]
    },
    {
     "name": "stdout",
     "output_type": "stream",
     "text": [
      "Step: 35\n"
     ]
    },
    {
     "name": "stderr",
     "output_type": "stream",
     "text": [
      "wandb: Network error (ConnectionError), entering retry loop.\n",
      "wandb: Network error (TransientError), entering retry loop.\n",
      "Processing sliding window:  68%|███████████████████████▊           | 72/106 [04:20<00:42,  1.25s/it]/home/sf_afn/usr_sa/anaconda3/envs/prkng_v2_env/lib/python3.11/site-packages/sklearn/gaussian_process/kernels.py:419: ConvergenceWarning:\n",
      "\n",
      "The optimal value found for dimension 0 of parameter k1__k1__k1__k1__constant_value is close to the specified lower bound 1e-05. Decreasing the bound and calling fit again may find a better value.\n",
      "\n",
      "/home/sf_afn/usr_sa/anaconda3/envs/prkng_v2_env/lib/python3.11/site-packages/sklearn/gaussian_process/kernels.py:419: ConvergenceWarning:\n",
      "\n",
      "The optimal value found for dimension 0 of parameter k1__k1__k1__k2__length_scale is close to the specified lower bound 0.001. Decreasing the bound and calling fit again may find a better value.\n",
      "\n"
     ]
    },
    {
     "name": "stdout",
     "output_type": "stream",
     "text": [
      "Step: 36\n"
     ]
    },
    {
     "name": "stderr",
     "output_type": "stream",
     "text": [
      "wandb: Network error (ConnectionError), entering retry loop.\n",
      "Processing sliding window:  70%|████████████████████████▍          | 74/106 [04:21<00:30,  1.06it/s]"
     ]
    },
    {
     "name": "stdout",
     "output_type": "stream",
     "text": [
      "Step: 37\n"
     ]
    },
    {
     "name": "stderr",
     "output_type": "stream",
     "text": [
      "\u001b[34m\u001b[1mwandb\u001b[0m: Network error (ConnectionError), entering retry loop.\n",
      "\u001b[34m\u001b[1mwandb\u001b[0m: Network error (ConnectionError), entering retry loop.\n",
      "Processing sliding window:  72%|█████████████████████████          | 76/106 [04:46<02:14,  4.49s/it]"
     ]
    },
    {
     "name": "stdout",
     "output_type": "stream",
     "text": [
      "Step: 38\n"
     ]
    },
    {
     "name": "stderr",
     "output_type": "stream",
     "text": [
      "Processing sliding window:  74%|█████████████████████████▊         | 78/106 [04:47<01:29,  3.21s/it]"
     ]
    },
    {
     "name": "stdout",
     "output_type": "stream",
     "text": [
      "Step: 39\n"
     ]
    },
    {
     "name": "stderr",
     "output_type": "stream",
     "text": [
      "Processing sliding window:  75%|██████████████████████████▍        | 80/106 [04:47<01:00,  2.31s/it]"
     ]
    },
    {
     "name": "stdout",
     "output_type": "stream",
     "text": [
      "Step: 40\n"
     ]
    },
    {
     "name": "stderr",
     "output_type": "stream",
     "text": [
      "Processing sliding window:  77%|███████████████████████████        | 82/106 [04:48<00:40,  1.68s/it]"
     ]
    },
    {
     "name": "stdout",
     "output_type": "stream",
     "text": [
      "Step: 41\n"
     ]
    },
    {
     "name": "stderr",
     "output_type": "stream",
     "text": [
      "Processing sliding window:  79%|███████████████████████████▋       | 84/106 [04:48<00:27,  1.24s/it]"
     ]
    },
    {
     "name": "stdout",
     "output_type": "stream",
     "text": [
      "Step: 42\n"
     ]
    },
    {
     "name": "stderr",
     "output_type": "stream",
     "text": [
      "Processing sliding window:  81%|████████████████████████████▍      | 86/106 [04:48<00:18,  1.06it/s]"
     ]
    },
    {
     "name": "stdout",
     "output_type": "stream",
     "text": [
      "Step: 43\n"
     ]
    },
    {
     "name": "stderr",
     "output_type": "stream",
     "text": [
      "Processing sliding window:  83%|█████████████████████████████      | 88/106 [04:49<00:13,  1.37it/s]/home/sf_afn/usr_sa/anaconda3/envs/prkng_v2_env/lib/python3.11/site-packages/sklearn/gaussian_process/kernels.py:419: ConvergenceWarning:\n",
      "\n",
      "The optimal value found for dimension 0 of parameter k1__k1__k1__k1__constant_value is close to the specified lower bound 1e-05. Decreasing the bound and calling fit again may find a better value.\n",
      "\n",
      "/home/sf_afn/usr_sa/anaconda3/envs/prkng_v2_env/lib/python3.11/site-packages/sklearn/gaussian_process/kernels.py:429: ConvergenceWarning:\n",
      "\n",
      "The optimal value found for dimension 0 of parameter k1__k1__k1__k2__length_scale is close to the specified upper bound 1000.0. Increasing the bound and calling fit again may find a better value.\n",
      "\n"
     ]
    },
    {
     "name": "stdout",
     "output_type": "stream",
     "text": [
      "Step: 44\n"
     ]
    },
    {
     "name": "stderr",
     "output_type": "stream",
     "text": [
      "wandb: Network error (ConnectionError), entering retry loop.\n",
      "\u001b[34m\u001b[1mwandb\u001b[0m: Network error (ConnectionError), entering retry loop.\n",
      "wandb: Network error (ConnectionError), entering retry loop.\n",
      "\u001b[34m\u001b[1mwandb\u001b[0m: Network error resolved after 0:00:00.203094, resuming normal operation.\n",
      "Processing sliding window:  85%|█████████████████████████████▋     | 90/106 [05:25<01:35,  5.94s/it]/home/sf_afn/usr_sa/anaconda3/envs/prkng_v2_env/lib/python3.11/site-packages/sklearn/gaussian_process/kernels.py:429: ConvergenceWarning:\n",
      "\n",
      "The optimal value found for dimension 0 of parameter k1__k1__k1__k2__length_scale is close to the specified upper bound 1000.0. Increasing the bound and calling fit again may find a better value.\n",
      "\n"
     ]
    },
    {
     "name": "stdout",
     "output_type": "stream",
     "text": [
      "Step: 45\n"
     ]
    },
    {
     "name": "stderr",
     "output_type": "stream",
     "text": [
      "Processing sliding window:  87%|██████████████████████████████▍    | 92/106 [05:26<00:59,  4.23s/it]"
     ]
    },
    {
     "name": "stdout",
     "output_type": "stream",
     "text": [
      "Step: 46\n"
     ]
    },
    {
     "name": "stderr",
     "output_type": "stream",
     "text": [
      "Processing sliding window:  89%|███████████████████████████████    | 94/106 [05:26<00:36,  3.04s/it]"
     ]
    },
    {
     "name": "stdout",
     "output_type": "stream",
     "text": [
      "Step: 47\n"
     ]
    },
    {
     "name": "stderr",
     "output_type": "stream",
     "text": [
      "Processing sliding window:  91%|███████████████████████████████▋   | 96/106 [05:28<00:23,  2.35s/it]"
     ]
    },
    {
     "name": "stdout",
     "output_type": "stream",
     "text": [
      "Step: 48\n"
     ]
    },
    {
     "name": "stderr",
     "output_type": "stream",
     "text": [
      "wandb: Network error (ConnectionError), entering retry loop.\n",
      "\u001b[34m\u001b[1mwandb\u001b[0m: Network error (ConnectionError), entering retry loop.\n",
      "Processing sliding window:  92%|████████████████████████████████▎  | 98/106 [05:39<00:26,  3.32s/it]"
     ]
    },
    {
     "name": "stdout",
     "output_type": "stream",
     "text": [
      "Step: 49\n"
     ]
    },
    {
     "name": "stderr",
     "output_type": "stream",
     "text": [
      "Processing sliding window:  94%|████████████████████████████████  | 100/106 [06:04<00:36,  6.07s/it]"
     ]
    },
    {
     "name": "stdout",
     "output_type": "stream",
     "text": [
      "Step: 50\n"
     ]
    },
    {
     "name": "stderr",
     "output_type": "stream",
     "text": [
      "Processing sliding window:  96%|████████████████████████████████▋ | 102/106 [06:04<00:17,  4.32s/it]"
     ]
    },
    {
     "name": "stdout",
     "output_type": "stream",
     "text": [
      "Step: 51\n"
     ]
    },
    {
     "name": "stderr",
     "output_type": "stream",
     "text": [
      "Processing sliding window:  98%|█████████████████████████████████▎| 104/106 [06:05<00:06,  3.09s/it]"
     ]
    },
    {
     "name": "stdout",
     "output_type": "stream",
     "text": [
      "Step: 52\n"
     ]
    },
    {
     "name": "stderr",
     "output_type": "stream",
     "text": [
      "Processing sliding window: 100%|██████████████████████████████████| 106/106 [06:05<00:00,  3.45s/it]\n"
     ]
    },
    {
     "name": "stdout",
     "output_type": "stream",
     "text": [
      "Step: 53\n",
      "Testing final GPR on test set\n"
     ]
    },
    {
     "data": {
      "application/vnd.jupyter.widget-view+json": {
       "model_id": "7ccaf35c5bea48ac82e478a511373d55",
       "version_major": 2,
       "version_minor": 0
      },
      "text/plain": [
       "VBox(children=(Label(value='89.826 MB of 89.841 MB uploaded\\r'), FloatProgress(value=0.9998383841892202, max=1…"
      ]
     },
     "metadata": {},
     "output_type": "display_data"
    },
    {
     "name": "stderr",
     "output_type": "stream",
     "text": [
      "wandb: WARNING Source type is set to 'repo' but some required information is missing from the environment. A job will not be created from this run. See https://docs.wandb.ai/guides/launch/create-job\n"
     ]
    },
    {
     "data": {
      "text/html": [
       "<style>\n",
       "    table.wandb td:nth-child(1) { padding: 0 10px; text-align: left ; width: auto;} td:nth-child(2) {text-align: left ; width: 100%}\n",
       "    .wandb-row { display: flex; flex-direction: row; flex-wrap: wrap; justify-content: flex-start; width: 100% }\n",
       "    .wandb-col { display: flex; flex-direction: column; flex-basis: 100%; flex: 1; padding: 10px; }\n",
       "    </style>\n",
       "<div class=\"wandb-row\"><div class=\"wandb-col\"><h3>Run history:</h3><br/><table class=\"wandb\"><tr><td>LML_test</td><td>▁</td></tr><tr><td>LML_train</td><td>▇▇█▇▇▇█▇▇▆▆▇▆▇▇▆▅▆▆▅▆█▇▆▆█▅▆▇▇▆▄▄▁▂▃▄▅▆▆</td></tr><tr><td>LML_validate</td><td>▇▇█▇▇▇█▇▇▆▆▇▆▇▆▆▅▅▆▅▆█▇▆▆█▆▆▆▇▆▅▄▁▂▂▄▅▅▆</td></tr><tr><td>MAE_test</td><td>▁</td></tr><tr><td>MAE_train</td><td>▃▁▄▄▄▄▁▁▁▁▁▂▄▄▂▃▅▃▃▁▄▃▃▃▄▃▄▁▃▄▄▅▂██▇▆▁▄▃</td></tr><tr><td>MAE_validate</td><td>▂▃▂▂▂█▄▄▆▃▄▅▄▃▃▇▂▅▂▂▃▄▁▃▅▃▄▃▁▆▄▃▂▃█▄▃▂▆▂</td></tr><tr><td>MAPE_test</td><td>▁</td></tr><tr><td>MAPE_train</td><td>▄▁▇▃▃█▁▁▁▁▁▂▃▅▃▃▃▂▂▁▂▃▆▃▄▃█▁▄▃▇▇▂▃▅▄▄▁▃▇</td></tr><tr><td>MAPE_validate</td><td>▂▃▃▁▄▃▂▄▇▃▄▃▂▂▃▄▃█▂▂▂▅▂▄▇▂▂▄▂▂▂▃▁▂▄▂█▁▄▄</td></tr><tr><td>MSE_test</td><td>▁</td></tr><tr><td>MSE_train</td><td>▂▁▂▂▂▂▁▁▁▁▁▁▂▂▁▂▃▂▂▁▂▁▂▂▂▁▂▁▂▂▃▃▁█▇▅▄▁▂▂</td></tr><tr><td>MSE_validate</td><td>▂▂▁▁▁█▃▃▄▂▃▄▃▂▂▆▁▃▂▁▂▃▁▂▃▂▃▂▁▆▄▂▁▃▇▃▂▂▅▁</td></tr><tr><td>R2_test</td><td>▁</td></tr><tr><td>R2_train</td><td>▆█▅▄▄▅█████▇▄▄█▆▅▇▇█▇▇▇▇▆▇▆█▄▂▄▅█▄▃▂▁█▅▇</td></tr><tr><td>R2_validate</td><td>█▇███▇▇▇▇▇▆▇▇▇▇▇█▅███▇█▇▁▇▇▇▇▇██▅█▇▂█▄▇█</td></tr><tr><td>RMSE_test</td><td>▁</td></tr><tr><td>RMSE_train</td><td>▃▁▃▄▄▄▁▁▁▁▁▂▄▄▂▃▅▃▃▁▄▃▃▄▄▃▄▁▃▄▄▅▂█▇▆▆▁▄▃</td></tr><tr><td>RMSE_validate</td><td>▂▃▂▂▂█▄▄▅▃▅▅▄▃▃▇▁▄▂▂▃▄▁▃▅▄▅▃▁▇▅▃▂▄█▄▃▂▆▂</td></tr><tr><td>step</td><td>▁▁▁▂▂▂▂▂▂▃▃▃▃▃▄▄▄▄▄▅▅▅▅▅▅▆▆▆▆▆▇▇▇▇▇▇███▁</td></tr></table><br/></div><div class=\"wandb-col\"><h3>Run summary:</h3><br/><table class=\"wandb\"><tr><td>LML_test</td><td>-35.0543</td></tr><tr><td>LML_train</td><td>-35.0543</td></tr><tr><td>LML_validate</td><td>-35.0543</td></tr><tr><td>MAE_test</td><td>1.75794</td></tr><tr><td>MAE_train</td><td>0.32445</td></tr><tr><td>MAE_validate</td><td>0.98908</td></tr><tr><td>MAPE_test</td><td>182.94435</td></tr><tr><td>MAPE_train</td><td>213.2782</td></tr><tr><td>MAPE_validate</td><td>180.75217</td></tr><tr><td>MSE_test</td><td>4.45855</td></tr><tr><td>MSE_train</td><td>0.18202</td></tr><tr><td>MSE_validate</td><td>1.35397</td></tr><tr><td>R2_test</td><td>-1.84228</td></tr><tr><td>R2_train</td><td>0.8918</td></tr><tr><td>R2_validate</td><td>0.08255</td></tr><tr><td>RMSE_test</td><td>2.11153</td></tr><tr><td>RMSE_train</td><td>0.42663</td></tr><tr><td>RMSE_validate</td><td>1.1636</td></tr><tr><td>step</td><td>1</td></tr></table><br/></div></div>"
      ],
      "text/plain": [
       "<IPython.core.display.HTML object>"
      ]
     },
     "metadata": {},
     "output_type": "display_data"
    },
    {
     "data": {
      "text/html": [
       " View run <strong style=\"color:#cdcd00\">Sliding_varb_noisy_lp_gp:week</strong> at: <a href='https://wandb.ai/afn-sy/Merged_GPR_Experiments/runs/sv4e0ol6' target=\"_blank\">https://wandb.ai/afn-sy/Merged_GPR_Experiments/runs/sv4e0ol6</a><br/>Synced 7 W&B file(s), 322 media file(s), 108 artifact file(s) and 4 other file(s)"
      ],
      "text/plain": [
       "<IPython.core.display.HTML object>"
      ]
     },
     "metadata": {},
     "output_type": "display_data"
    },
    {
     "data": {
      "text/html": [
       "Find logs at: <code>./wandb/run-20240122_204954-sv4e0ol6/logs</code>"
      ],
      "text/plain": [
       "<IPython.core.display.HTML object>"
      ]
     },
     "metadata": {},
     "output_type": "display_data"
    },
    {
     "data": {
      "application/vnd.jupyter.widget-view+json": {
       "model_id": "0ae33b4aa719436fb311e1ef5af832ac",
       "version_major": 2,
       "version_minor": 0
      },
      "text/plain": [
       "VBox(children=(Label(value='Waiting for wandb.init()...\\r'), FloatProgress(value=0.011112081900015862, max=1.0…"
      ]
     },
     "metadata": {},
     "output_type": "display_data"
    },
    {
     "data": {
      "text/html": [
       "Tracking run with wandb version 0.16.2"
      ],
      "text/plain": [
       "<IPython.core.display.HTML object>"
      ]
     },
     "metadata": {},
     "output_type": "display_data"
    },
    {
     "data": {
      "text/html": [
       "Run data is saved locally in <code>/home/sf_afn/Insync/sofiaa720@gmail.com/Google Drive/masters_thesis/code_v1/msc_parking/univrses/notebooks/wandb/run-20240122_205640-otnpjyok</code>"
      ],
      "text/plain": [
       "<IPython.core.display.HTML object>"
      ]
     },
     "metadata": {},
     "output_type": "display_data"
    },
    {
     "data": {
      "text/html": [
       "Syncing run <strong><a href='https://wandb.ai/afn-sy/Merged_GPR_Experiments/runs/otnpjyok' target=\"_blank\">Sliding_varb_noisy_lp_gp:month</a></strong> to <a href='https://wandb.ai/afn-sy/Merged_GPR_Experiments' target=\"_blank\">Weights & Biases</a> (<a href='https://wandb.me/run' target=\"_blank\">docs</a>)<br/>"
      ],
      "text/plain": [
       "<IPython.core.display.HTML object>"
      ]
     },
     "metadata": {},
     "output_type": "display_data"
    },
    {
     "data": {
      "text/html": [
       " View project at <a href='https://wandb.ai/afn-sy/Merged_GPR_Experiments' target=\"_blank\">https://wandb.ai/afn-sy/Merged_GPR_Experiments</a>"
      ],
      "text/plain": [
       "<IPython.core.display.HTML object>"
      ]
     },
     "metadata": {},
     "output_type": "display_data"
    },
    {
     "data": {
      "text/html": [
       " View run at <a href='https://wandb.ai/afn-sy/Merged_GPR_Experiments/runs/otnpjyok' target=\"_blank\">https://wandb.ai/afn-sy/Merged_GPR_Experiments/runs/otnpjyok</a>"
      ],
      "text/plain": [
       "<IPython.core.display.HTML object>"
      ]
     },
     "metadata": {},
     "output_type": "display_data"
    },
    {
     "name": "stderr",
     "output_type": "stream",
     "text": [
      "Processing sliding window:   2%|▋                                   | 2/106 [00:00<00:22,  4.54it/s]"
     ]
    },
    {
     "name": "stdout",
     "output_type": "stream",
     "text": [
      "Step: 1\n"
     ]
    },
    {
     "name": "stderr",
     "output_type": "stream",
     "text": [
      "Processing sliding window:   4%|█▎                                  | 4/106 [00:00<00:22,  4.51it/s]/home/sf_afn/usr_sa/anaconda3/envs/prkng_v2_env/lib/python3.11/site-packages/sklearn/gaussian_process/kernels.py:419: ConvergenceWarning:\n",
      "\n",
      "The optimal value found for dimension 0 of parameter k1__k1__k1__k1__constant_value is close to the specified lower bound 1e-05. Decreasing the bound and calling fit again may find a better value.\n",
      "\n"
     ]
    },
    {
     "name": "stdout",
     "output_type": "stream",
     "text": [
      "Step: 2\n"
     ]
    },
    {
     "name": "stderr",
     "output_type": "stream",
     "text": [
      "Processing sliding window:   6%|██                                  | 6/106 [00:01<00:27,  3.61it/s]"
     ]
    },
    {
     "name": "stdout",
     "output_type": "stream",
     "text": [
      "Step: 3\n"
     ]
    },
    {
     "name": "stderr",
     "output_type": "stream",
     "text": [
      "Processing sliding window:   8%|██▋                                 | 8/106 [00:02<00:27,  3.53it/s]"
     ]
    },
    {
     "name": "stdout",
     "output_type": "stream",
     "text": [
      "Step: 4\n"
     ]
    },
    {
     "name": "stderr",
     "output_type": "stream",
     "text": [
      "Processing sliding window:   9%|███▎                               | 10/106 [00:02<00:27,  3.44it/s]"
     ]
    },
    {
     "name": "stdout",
     "output_type": "stream",
     "text": [
      "Step: 5\n"
     ]
    },
    {
     "name": "stderr",
     "output_type": "stream",
     "text": [
      "Processing sliding window:  11%|███▉                               | 12/106 [00:03<00:27,  3.44it/s]"
     ]
    },
    {
     "name": "stdout",
     "output_type": "stream",
     "text": [
      "Step: 6\n"
     ]
    },
    {
     "name": "stderr",
     "output_type": "stream",
     "text": [
      "Processing sliding window:  13%|████▌                              | 14/106 [00:03<00:26,  3.45it/s]/home/sf_afn/usr_sa/anaconda3/envs/prkng_v2_env/lib/python3.11/site-packages/sklearn/gaussian_process/kernels.py:419: ConvergenceWarning:\n",
      "\n",
      "The optimal value found for dimension 0 of parameter k1__k1__k1__k1__constant_value is close to the specified lower bound 1e-05. Decreasing the bound and calling fit again may find a better value.\n",
      "\n"
     ]
    },
    {
     "name": "stdout",
     "output_type": "stream",
     "text": [
      "Step: 7\n"
     ]
    },
    {
     "name": "stderr",
     "output_type": "stream",
     "text": [
      "Processing sliding window:  15%|█████▎                             | 16/106 [00:04<00:26,  3.40it/s]"
     ]
    },
    {
     "name": "stdout",
     "output_type": "stream",
     "text": [
      "Step: 8\n"
     ]
    },
    {
     "name": "stderr",
     "output_type": "stream",
     "text": [
      "Processing sliding window:  17%|█████▉                             | 18/106 [00:05<00:26,  3.31it/s]/home/sf_afn/usr_sa/anaconda3/envs/prkng_v2_env/lib/python3.11/site-packages/sklearn/gaussian_process/kernels.py:419: ConvergenceWarning:\n",
      "\n",
      "The optimal value found for dimension 0 of parameter k2__length_scale is close to the specified lower bound 0.1. Decreasing the bound and calling fit again may find a better value.\n",
      "\n"
     ]
    },
    {
     "name": "stdout",
     "output_type": "stream",
     "text": [
      "Step: 9\n"
     ]
    },
    {
     "name": "stderr",
     "output_type": "stream",
     "text": [
      "Processing sliding window:  19%|██████▌                            | 20/106 [00:05<00:27,  3.11it/s]/home/sf_afn/usr_sa/anaconda3/envs/prkng_v2_env/lib/python3.11/site-packages/sklearn/gaussian_process/kernels.py:419: ConvergenceWarning:\n",
      "\n",
      "The optimal value found for dimension 0 of parameter k1__k2__noise_level is close to the specified lower bound 1e-10. Decreasing the bound and calling fit again may find a better value.\n",
      "\n",
      "/home/sf_afn/usr_sa/anaconda3/envs/prkng_v2_env/lib/python3.11/site-packages/sklearn/gaussian_process/kernels.py:419: ConvergenceWarning:\n",
      "\n",
      "The optimal value found for dimension 0 of parameter k2__length_scale is close to the specified lower bound 0.1. Decreasing the bound and calling fit again may find a better value.\n",
      "\n"
     ]
    },
    {
     "name": "stdout",
     "output_type": "stream",
     "text": [
      "Step: 10\n"
     ]
    },
    {
     "name": "stderr",
     "output_type": "stream",
     "text": [
      "Processing sliding window:  21%|███████▎                           | 22/106 [00:06<00:26,  3.17it/s]"
     ]
    },
    {
     "name": "stdout",
     "output_type": "stream",
     "text": [
      "Step: 11\n"
     ]
    },
    {
     "name": "stderr",
     "output_type": "stream",
     "text": [
      "Processing sliding window:  23%|███████▉                           | 24/106 [00:07<00:25,  3.23it/s]"
     ]
    },
    {
     "name": "stdout",
     "output_type": "stream",
     "text": [
      "Step: 12\n"
     ]
    },
    {
     "name": "stderr",
     "output_type": "stream",
     "text": [
      "Processing sliding window:  25%|████████▌                          | 26/106 [00:12<01:25,  1.07s/it]"
     ]
    },
    {
     "name": "stdout",
     "output_type": "stream",
     "text": [
      "Step: 13\n"
     ]
    },
    {
     "name": "stderr",
     "output_type": "stream",
     "text": [
      "Processing sliding window:  26%|█████████▏                         | 28/106 [00:13<01:03,  1.23it/s]"
     ]
    },
    {
     "name": "stdout",
     "output_type": "stream",
     "text": [
      "Step: 14\n"
     ]
    },
    {
     "name": "stderr",
     "output_type": "stream",
     "text": [
      "Processing sliding window:  28%|█████████▉                         | 30/106 [00:13<00:48,  1.58it/s]"
     ]
    },
    {
     "name": "stdout",
     "output_type": "stream",
     "text": [
      "Step: 15\n"
     ]
    },
    {
     "name": "stderr",
     "output_type": "stream",
     "text": [
      "Processing sliding window:  30%|██████████▌                        | 32/106 [00:14<00:37,  1.97it/s]"
     ]
    },
    {
     "name": "stdout",
     "output_type": "stream",
     "text": [
      "Step: 16\n"
     ]
    },
    {
     "name": "stderr",
     "output_type": "stream",
     "text": [
      "Processing sliding window:  32%|███████████▏                       | 34/106 [00:14<00:30,  2.36it/s]"
     ]
    },
    {
     "name": "stdout",
     "output_type": "stream",
     "text": [
      "Step: 17\n"
     ]
    },
    {
     "name": "stderr",
     "output_type": "stream",
     "text": [
      "Processing sliding window:  34%|███████████▉                       | 36/106 [00:35<03:56,  3.38s/it]"
     ]
    },
    {
     "name": "stdout",
     "output_type": "stream",
     "text": [
      "Step: 18\n"
     ]
    },
    {
     "name": "stderr",
     "output_type": "stream",
     "text": [
      "Processing sliding window:  36%|████████████▌                      | 38/106 [00:35<02:45,  2.43s/it]"
     ]
    },
    {
     "name": "stdout",
     "output_type": "stream",
     "text": [
      "Step: 19\n"
     ]
    },
    {
     "name": "stderr",
     "output_type": "stream",
     "text": [
      "Processing sliding window:  38%|█████████████▏                     | 40/106 [00:39<02:37,  2.38s/it]"
     ]
    },
    {
     "name": "stdout",
     "output_type": "stream",
     "text": [
      "Step: 20\n"
     ]
    },
    {
     "name": "stderr",
     "output_type": "stream",
     "text": [
      "Processing sliding window:  40%|█████████████▊                     | 42/106 [00:40<01:50,  1.73s/it]"
     ]
    },
    {
     "name": "stdout",
     "output_type": "stream",
     "text": [
      "Step: 21\n"
     ]
    },
    {
     "name": "stderr",
     "output_type": "stream",
     "text": [
      "Processing sliding window:  42%|██████████████▌                    | 44/106 [00:40<01:19,  1.28s/it]"
     ]
    },
    {
     "name": "stdout",
     "output_type": "stream",
     "text": [
      "Step: 22\n"
     ]
    },
    {
     "name": "stderr",
     "output_type": "stream",
     "text": [
      "Processing sliding window:  43%|███████████████▏                   | 46/106 [00:41<00:57,  1.04it/s]"
     ]
    },
    {
     "name": "stdout",
     "output_type": "stream",
     "text": [
      "Step: 23\n"
     ]
    },
    {
     "name": "stderr",
     "output_type": "stream",
     "text": [
      "\u001b[34m\u001b[1mwandb\u001b[0m: Network error resolved after 0:00:21.302413, resuming normal operation.\n",
      "Processing sliding window:  45%|███████████████▊                   | 48/106 [01:20<06:22,  6.59s/it]"
     ]
    },
    {
     "name": "stdout",
     "output_type": "stream",
     "text": [
      "Step: 24\n"
     ]
    },
    {
     "name": "stderr",
     "output_type": "stream",
     "text": [
      "Processing sliding window:  47%|████████████████▌                  | 50/106 [01:21<04:22,  4.68s/it]"
     ]
    },
    {
     "name": "stdout",
     "output_type": "stream",
     "text": [
      "Step: 25\n"
     ]
    },
    {
     "name": "stderr",
     "output_type": "stream",
     "text": [
      "Processing sliding window:  49%|█████████████████▏                 | 52/106 [01:21<03:00,  3.35s/it]"
     ]
    },
    {
     "name": "stdout",
     "output_type": "stream",
     "text": [
      "Step: 26\n"
     ]
    },
    {
     "name": "stderr",
     "output_type": "stream",
     "text": [
      "Processing sliding window:  51%|█████████████████▊                 | 54/106 [01:33<03:34,  4.12s/it]"
     ]
    },
    {
     "name": "stdout",
     "output_type": "stream",
     "text": [
      "Step: 27\n"
     ]
    },
    {
     "name": "stderr",
     "output_type": "stream",
     "text": [
      "Processing sliding window:  53%|██████████████████▍                | 56/106 [01:33<02:27,  2.95s/it]"
     ]
    },
    {
     "name": "stdout",
     "output_type": "stream",
     "text": [
      "Step: 28\n"
     ]
    },
    {
     "name": "stderr",
     "output_type": "stream",
     "text": [
      "Processing sliding window:  55%|███████████████████▏               | 58/106 [01:34<01:42,  2.14s/it]"
     ]
    },
    {
     "name": "stdout",
     "output_type": "stream",
     "text": [
      "Step: 29\n"
     ]
    },
    {
     "name": "stderr",
     "output_type": "stream",
     "text": [
      "Processing sliding window:  57%|███████████████████▊               | 60/106 [01:46<02:30,  3.27s/it]"
     ]
    },
    {
     "name": "stdout",
     "output_type": "stream",
     "text": [
      "Step: 30\n"
     ]
    },
    {
     "name": "stderr",
     "output_type": "stream",
     "text": [
      "Processing sliding window:  58%|████████████████████▍              | 62/106 [01:59<03:10,  4.33s/it]"
     ]
    },
    {
     "name": "stdout",
     "output_type": "stream",
     "text": [
      "Step: 31\n"
     ]
    },
    {
     "name": "stderr",
     "output_type": "stream",
     "text": [
      "Processing sliding window:  60%|█████████████████████▏             | 64/106 [02:00<02:10,  3.10s/it]"
     ]
    },
    {
     "name": "stdout",
     "output_type": "stream",
     "text": [
      "Step: 32\n"
     ]
    },
    {
     "name": "stderr",
     "output_type": "stream",
     "text": [
      "Processing sliding window:  62%|█████████████████████▊             | 66/106 [02:00<01:29,  2.25s/it]"
     ]
    },
    {
     "name": "stdout",
     "output_type": "stream",
     "text": [
      "Step: 33\n"
     ]
    },
    {
     "name": "stderr",
     "output_type": "stream",
     "text": [
      "Processing sliding window:  64%|██████████████████████▍            | 68/106 [02:01<01:02,  1.64s/it]/home/sf_afn/usr_sa/anaconda3/envs/prkng_v2_env/lib/python3.11/site-packages/sklearn/gaussian_process/kernels.py:419: ConvergenceWarning:\n",
      "\n",
      "The optimal value found for dimension 0 of parameter k1__k1__k1__k1__constant_value is close to the specified lower bound 1e-05. Decreasing the bound and calling fit again may find a better value.\n",
      "\n"
     ]
    },
    {
     "name": "stdout",
     "output_type": "stream",
     "text": [
      "Step: 34\n"
     ]
    },
    {
     "name": "stderr",
     "output_type": "stream",
     "text": [
      "Processing sliding window:  66%|███████████████████████            | 70/106 [02:01<00:43,  1.22s/it]"
     ]
    },
    {
     "name": "stdout",
     "output_type": "stream",
     "text": [
      "Step: 35\n"
     ]
    },
    {
     "name": "stderr",
     "output_type": "stream",
     "text": [
      "Processing sliding window:  68%|███████████████████████▊           | 72/106 [02:02<00:31,  1.09it/s]/home/sf_afn/usr_sa/anaconda3/envs/prkng_v2_env/lib/python3.11/site-packages/sklearn/gaussian_process/kernels.py:419: ConvergenceWarning:\n",
      "\n",
      "The optimal value found for dimension 0 of parameter k1__k1__k1__k1__constant_value is close to the specified lower bound 1e-05. Decreasing the bound and calling fit again may find a better value.\n",
      "\n",
      "/home/sf_afn/usr_sa/anaconda3/envs/prkng_v2_env/lib/python3.11/site-packages/sklearn/gaussian_process/kernels.py:419: ConvergenceWarning:\n",
      "\n",
      "The optimal value found for dimension 0 of parameter k1__k1__k1__k2__length_scale is close to the specified lower bound 0.001. Decreasing the bound and calling fit again may find a better value.\n",
      "\n"
     ]
    },
    {
     "name": "stdout",
     "output_type": "stream",
     "text": [
      "Step: 36\n"
     ]
    },
    {
     "name": "stderr",
     "output_type": "stream",
     "text": [
      "Processing sliding window:  70%|████████████████████████▍          | 74/106 [02:02<00:23,  1.37it/s]"
     ]
    },
    {
     "name": "stdout",
     "output_type": "stream",
     "text": [
      "Step: 37\n"
     ]
    },
    {
     "name": "stderr",
     "output_type": "stream",
     "text": [
      "Processing sliding window:  72%|█████████████████████████          | 76/106 [02:03<00:17,  1.73it/s]"
     ]
    },
    {
     "name": "stdout",
     "output_type": "stream",
     "text": [
      "Step: 38\n"
     ]
    },
    {
     "name": "stderr",
     "output_type": "stream",
     "text": [
      "Processing sliding window:  74%|█████████████████████████▊         | 78/106 [02:03<00:13,  2.14it/s]"
     ]
    },
    {
     "name": "stdout",
     "output_type": "stream",
     "text": [
      "Step: 39\n"
     ]
    },
    {
     "name": "stderr",
     "output_type": "stream",
     "text": [
      "Processing sliding window:  75%|██████████████████████████▍        | 80/106 [02:04<00:10,  2.45it/s]"
     ]
    },
    {
     "name": "stdout",
     "output_type": "stream",
     "text": [
      "Step: 40\n"
     ]
    },
    {
     "name": "stderr",
     "output_type": "stream",
     "text": [
      "Processing sliding window:  77%|███████████████████████████        | 82/106 [02:09<00:26,  1.12s/it]"
     ]
    },
    {
     "name": "stdout",
     "output_type": "stream",
     "text": [
      "Step: 41\n"
     ]
    },
    {
     "name": "stderr",
     "output_type": "stream",
     "text": [
      "Processing sliding window:  79%|███████████████████████████▋       | 84/106 [02:11<00:22,  1.02s/it]"
     ]
    },
    {
     "name": "stdout",
     "output_type": "stream",
     "text": [
      "Step: 42\n"
     ]
    },
    {
     "name": "stderr",
     "output_type": "stream",
     "text": [
      "Processing sliding window:  81%|████████████████████████████▍      | 86/106 [02:11<00:15,  1.27it/s]"
     ]
    },
    {
     "name": "stdout",
     "output_type": "stream",
     "text": [
      "Step: 43\n"
     ]
    },
    {
     "name": "stderr",
     "output_type": "stream",
     "text": [
      "Processing sliding window:  83%|█████████████████████████████      | 88/106 [02:23<00:41,  2.33s/it]/home/sf_afn/usr_sa/anaconda3/envs/prkng_v2_env/lib/python3.11/site-packages/sklearn/gaussian_process/kernels.py:419: ConvergenceWarning:\n",
      "\n",
      "The optimal value found for dimension 0 of parameter k1__k1__k1__k1__constant_value is close to the specified lower bound 1e-05. Decreasing the bound and calling fit again may find a better value.\n",
      "\n",
      "/home/sf_afn/usr_sa/anaconda3/envs/prkng_v2_env/lib/python3.11/site-packages/sklearn/gaussian_process/kernels.py:429: ConvergenceWarning:\n",
      "\n",
      "The optimal value found for dimension 0 of parameter k1__k1__k1__k2__length_scale is close to the specified upper bound 1000.0. Increasing the bound and calling fit again may find a better value.\n",
      "\n"
     ]
    },
    {
     "name": "stdout",
     "output_type": "stream",
     "text": [
      "Step: 44\n"
     ]
    },
    {
     "name": "stderr",
     "output_type": "stream",
     "text": [
      "Processing sliding window:  85%|█████████████████████████████▋     | 90/106 [02:24<00:27,  1.70s/it]/home/sf_afn/usr_sa/anaconda3/envs/prkng_v2_env/lib/python3.11/site-packages/sklearn/gaussian_process/kernels.py:429: ConvergenceWarning:\n",
      "\n",
      "The optimal value found for dimension 0 of parameter k1__k1__k1__k2__length_scale is close to the specified upper bound 1000.0. Increasing the bound and calling fit again may find a better value.\n",
      "\n"
     ]
    },
    {
     "name": "stdout",
     "output_type": "stream",
     "text": [
      "Step: 45\n"
     ]
    },
    {
     "name": "stderr",
     "output_type": "stream",
     "text": [
      "Processing sliding window:  87%|██████████████████████████████▍    | 92/106 [02:24<00:17,  1.27s/it]"
     ]
    },
    {
     "name": "stdout",
     "output_type": "stream",
     "text": [
      "Step: 46\n"
     ]
    },
    {
     "name": "stderr",
     "output_type": "stream",
     "text": [
      "Processing sliding window:  89%|███████████████████████████████    | 94/106 [02:25<00:11,  1.04it/s]"
     ]
    },
    {
     "name": "stdout",
     "output_type": "stream",
     "text": [
      "Step: 47\n"
     ]
    },
    {
     "name": "stderr",
     "output_type": "stream",
     "text": [
      "Processing sliding window:  91%|███████████████████████████████▋   | 96/106 [02:25<00:07,  1.34it/s]"
     ]
    },
    {
     "name": "stdout",
     "output_type": "stream",
     "text": [
      "Step: 48\n"
     ]
    },
    {
     "name": "stderr",
     "output_type": "stream",
     "text": [
      "Processing sliding window:  92%|████████████████████████████████▎  | 98/106 [02:26<00:04,  1.70it/s]"
     ]
    },
    {
     "name": "stdout",
     "output_type": "stream",
     "text": [
      "Step: 49\n"
     ]
    },
    {
     "name": "stderr",
     "output_type": "stream",
     "text": [
      "Processing sliding window:  94%|████████████████████████████████  | 100/106 [02:31<00:07,  1.21s/it]"
     ]
    },
    {
     "name": "stdout",
     "output_type": "stream",
     "text": [
      "Step: 50\n"
     ]
    },
    {
     "name": "stderr",
     "output_type": "stream",
     "text": [
      "Processing sliding window:  96%|████████████████████████████████▋ | 102/106 [02:31<00:03,  1.07it/s]"
     ]
    },
    {
     "name": "stdout",
     "output_type": "stream",
     "text": [
      "Step: 51\n"
     ]
    },
    {
     "name": "stderr",
     "output_type": "stream",
     "text": [
      "Processing sliding window:  98%|█████████████████████████████████▎| 104/106 [02:32<00:01,  1.38it/s]"
     ]
    },
    {
     "name": "stdout",
     "output_type": "stream",
     "text": [
      "Step: 52\n"
     ]
    },
    {
     "name": "stderr",
     "output_type": "stream",
     "text": [
      "Processing sliding window: 100%|██████████████████████████████████| 106/106 [02:32<00:00,  1.44s/it]\n"
     ]
    },
    {
     "name": "stdout",
     "output_type": "stream",
     "text": [
      "Step: 53\n",
      "Testing final GPR on test set\n"
     ]
    },
    {
     "data": {
      "application/vnd.jupyter.widget-view+json": {
       "model_id": "cef583c420ff446cacc1c7e0b6696d44",
       "version_major": 2,
       "version_minor": 0
      },
      "text/plain": [
       "VBox(children=(Label(value='88.615 MB of 89.852 MB uploaded\\r'), FloatProgress(value=0.9862246794685441, max=1…"
      ]
     },
     "metadata": {},
     "output_type": "display_data"
    },
    {
     "name": "stderr",
     "output_type": "stream",
     "text": [
      "wandb: WARNING Source type is set to 'repo' but some required information is missing from the environment. A job will not be created from this run. See https://docs.wandb.ai/guides/launch/create-job\n"
     ]
    },
    {
     "data": {
      "text/html": [
       "<style>\n",
       "    table.wandb td:nth-child(1) { padding: 0 10px; text-align: left ; width: auto;} td:nth-child(2) {text-align: left ; width: 100%}\n",
       "    .wandb-row { display: flex; flex-direction: row; flex-wrap: wrap; justify-content: flex-start; width: 100% }\n",
       "    .wandb-col { display: flex; flex-direction: column; flex-basis: 100%; flex: 1; padding: 10px; }\n",
       "    </style>\n",
       "<div class=\"wandb-row\"><div class=\"wandb-col\"><h3>Run history:</h3><br/><table class=\"wandb\"><tr><td>LML_test</td><td>▁</td></tr><tr><td>LML_train</td><td>▇▇█▇▇▇█▇▇▆▆▇▆▇▇▆▅▆▆▅▆█▇▆▆█▅▆▇▇▆▄▄▁▂▃▄▅▆▆</td></tr><tr><td>LML_validate</td><td>▇▇█▇▇▇█▇▇▆▆▇▆▇▆▆▅▅▆▅▆█▇▆▆█▆▆▆▇▆▅▄▁▂▂▄▅▅▆</td></tr><tr><td>MAE_test</td><td>▁</td></tr><tr><td>MAE_train</td><td>▃▁▄▄▄▄▁▁▁▁▁▂▄▄▂▃▅▃▃▁▄▃▃▃▄▃▄▁▃▄▄▅▂██▇▆▁▄▃</td></tr><tr><td>MAE_validate</td><td>▂▃▂▂▂█▄▄▆▃▄▅▄▃▃▇▂▅▂▂▃▄▁▃▅▃▄▃▁▆▄▃▂▃█▄▃▂▆▂</td></tr><tr><td>MAPE_test</td><td>▁</td></tr><tr><td>MAPE_train</td><td>▄▁▇▃▃█▁▁▁▁▁▂▃▅▃▃▃▂▂▁▂▃▆▃▄▃█▁▄▃▇▇▂▃▅▄▄▁▃▇</td></tr><tr><td>MAPE_validate</td><td>▂▃▃▁▄▃▂▄▇▃▄▃▂▂▃▄▃█▂▂▂▅▂▄▇▂▂▄▂▂▂▃▁▂▄▂█▁▄▄</td></tr><tr><td>MSE_test</td><td>▁</td></tr><tr><td>MSE_train</td><td>▂▁▂▂▂▂▁▁▁▁▁▁▂▂▁▂▃▂▂▁▂▁▂▂▂▁▂▁▂▂▃▃▁█▇▅▄▁▂▂</td></tr><tr><td>MSE_validate</td><td>▂▂▁▁▁█▃▃▄▂▃▄▃▂▂▆▁▃▂▁▂▃▁▂▃▂▃▂▁▆▄▂▁▃▇▃▂▂▅▁</td></tr><tr><td>R2_test</td><td>▁</td></tr><tr><td>R2_train</td><td>▆█▅▄▄▅█████▇▄▄█▆▅▇▇█▇▇▇▇▆▇▆█▄▂▄▅█▄▃▂▁█▅▇</td></tr><tr><td>R2_validate</td><td>█▇███▇▇▇▇▇▆▇▇▇▇▇█▅███▇█▇▁▇▇▇▇▇██▅█▇▂█▄▇█</td></tr><tr><td>RMSE_test</td><td>▁</td></tr><tr><td>RMSE_train</td><td>▃▁▃▄▄▄▁▁▁▁▁▂▄▄▂▃▅▃▃▁▄▃▃▄▄▃▄▁▃▄▄▅▂█▇▆▆▁▄▃</td></tr><tr><td>RMSE_validate</td><td>▂▃▂▂▂█▄▄▅▃▅▅▄▃▃▇▁▄▂▂▃▄▁▃▅▄▅▃▁▇▅▃▂▄█▄▃▂▆▂</td></tr><tr><td>step</td><td>▁▁▁▂▂▂▂▂▂▃▃▃▃▃▄▄▄▄▄▅▅▅▅▅▅▆▆▆▆▆▇▇▇▇▇▇███▁</td></tr></table><br/></div><div class=\"wandb-col\"><h3>Run summary:</h3><br/><table class=\"wandb\"><tr><td>LML_test</td><td>-35.0543</td></tr><tr><td>LML_train</td><td>-35.0543</td></tr><tr><td>LML_validate</td><td>-35.0543</td></tr><tr><td>MAE_test</td><td>2.09051</td></tr><tr><td>MAE_train</td><td>0.32445</td></tr><tr><td>MAE_validate</td><td>0.98908</td></tr><tr><td>MAPE_test</td><td>327.13228</td></tr><tr><td>MAPE_train</td><td>213.2782</td></tr><tr><td>MAPE_validate</td><td>180.75217</td></tr><tr><td>MSE_test</td><td>5.97652</td></tr><tr><td>MSE_train</td><td>0.18202</td></tr><tr><td>MSE_validate</td><td>1.35397</td></tr><tr><td>R2_test</td><td>-1.74286</td></tr><tr><td>R2_train</td><td>0.8918</td></tr><tr><td>R2_validate</td><td>0.08255</td></tr><tr><td>RMSE_test</td><td>2.44469</td></tr><tr><td>RMSE_train</td><td>0.42663</td></tr><tr><td>RMSE_validate</td><td>1.1636</td></tr><tr><td>step</td><td>1</td></tr></table><br/></div></div>"
      ],
      "text/plain": [
       "<IPython.core.display.HTML object>"
      ]
     },
     "metadata": {},
     "output_type": "display_data"
    },
    {
     "data": {
      "text/html": [
       " View run <strong style=\"color:#cdcd00\">Sliding_varb_noisy_lp_gp:month</strong> at: <a href='https://wandb.ai/afn-sy/Merged_GPR_Experiments/runs/otnpjyok' target=\"_blank\">https://wandb.ai/afn-sy/Merged_GPR_Experiments/runs/otnpjyok</a><br/>Synced 7 W&B file(s), 322 media file(s), 108 artifact file(s) and 4 other file(s)"
      ],
      "text/plain": [
       "<IPython.core.display.HTML object>"
      ]
     },
     "metadata": {},
     "output_type": "display_data"
    },
    {
     "data": {
      "text/html": [
       "Find logs at: <code>./wandb/run-20240122_205640-otnpjyok/logs</code>"
      ],
      "text/plain": [
       "<IPython.core.display.HTML object>"
      ]
     },
     "metadata": {},
     "output_type": "display_data"
    },
    {
     "data": {
      "application/vnd.jupyter.widget-view+json": {
       "model_id": "cd2260e3a4fc444b858c232a0cf4b146",
       "version_major": 2,
       "version_minor": 0
      },
      "text/plain": [
       "VBox(children=(Label(value='Waiting for wandb.init()...\\r'), FloatProgress(value=0.011112066944365829, max=1.0…"
      ]
     },
     "metadata": {},
     "output_type": "display_data"
    },
    {
     "data": {
      "text/html": [
       "Tracking run with wandb version 0.16.2"
      ],
      "text/plain": [
       "<IPython.core.display.HTML object>"
      ]
     },
     "metadata": {},
     "output_type": "display_data"
    },
    {
     "data": {
      "text/html": [
       "Run data is saved locally in <code>/home/sf_afn/Insync/sofiaa720@gmail.com/Google Drive/masters_thesis/code_v1/msc_parking/univrses/notebooks/wandb/run-20240122_210302-q7ntr9ck</code>"
      ],
      "text/plain": [
       "<IPython.core.display.HTML object>"
      ]
     },
     "metadata": {},
     "output_type": "display_data"
    },
    {
     "data": {
      "text/html": [
       "Syncing run <strong><a href='https://wandb.ai/afn-sy/Merged_GPR_Experiments/runs/q7ntr9ck' target=\"_blank\">Sliding_slakt_noisy_lp_gp:hour</a></strong> to <a href='https://wandb.ai/afn-sy/Merged_GPR_Experiments' target=\"_blank\">Weights & Biases</a> (<a href='https://wandb.me/run' target=\"_blank\">docs</a>)<br/>"
      ],
      "text/plain": [
       "<IPython.core.display.HTML object>"
      ]
     },
     "metadata": {},
     "output_type": "display_data"
    },
    {
     "data": {
      "text/html": [
       " View project at <a href='https://wandb.ai/afn-sy/Merged_GPR_Experiments' target=\"_blank\">https://wandb.ai/afn-sy/Merged_GPR_Experiments</a>"
      ],
      "text/plain": [
       "<IPython.core.display.HTML object>"
      ]
     },
     "metadata": {},
     "output_type": "display_data"
    },
    {
     "data": {
      "text/html": [
       " View run at <a href='https://wandb.ai/afn-sy/Merged_GPR_Experiments/runs/q7ntr9ck' target=\"_blank\">https://wandb.ai/afn-sy/Merged_GPR_Experiments/runs/q7ntr9ck</a>"
      ],
      "text/plain": [
       "<IPython.core.display.HTML object>"
      ]
     },
     "metadata": {},
     "output_type": "display_data"
    },
    {
     "name": "stderr",
     "output_type": "stream",
     "text": [
      "Processing sliding window:   2%|▋                                   | 2/108 [00:00<00:22,  4.71it/s]"
     ]
    },
    {
     "name": "stdout",
     "output_type": "stream",
     "text": [
      "Step: 1\n"
     ]
    },
    {
     "name": "stderr",
     "output_type": "stream",
     "text": [
      "Processing sliding window:   4%|█▎                                  | 4/108 [00:00<00:24,  4.21it/s]"
     ]
    },
    {
     "name": "stdout",
     "output_type": "stream",
     "text": [
      "Step: 2\n"
     ]
    },
    {
     "name": "stderr",
     "output_type": "stream",
     "text": [
      "Processing sliding window:   6%|██                                  | 6/108 [00:01<00:26,  3.79it/s]"
     ]
    },
    {
     "name": "stdout",
     "output_type": "stream",
     "text": [
      "Step: 3\n"
     ]
    },
    {
     "name": "stderr",
     "output_type": "stream",
     "text": [
      "Processing sliding window:   7%|██▋                                 | 8/108 [00:02<00:27,  3.64it/s]"
     ]
    },
    {
     "name": "stdout",
     "output_type": "stream",
     "text": [
      "Step: 4\n"
     ]
    },
    {
     "name": "stderr",
     "output_type": "stream",
     "text": [
      "Processing sliding window:   9%|███▏                               | 10/108 [00:02<00:27,  3.55it/s]"
     ]
    },
    {
     "name": "stdout",
     "output_type": "stream",
     "text": [
      "Step: 5\n"
     ]
    },
    {
     "name": "stderr",
     "output_type": "stream",
     "text": [
      "Processing sliding window:  11%|███▉                               | 12/108 [00:03<00:27,  3.55it/s]"
     ]
    },
    {
     "name": "stdout",
     "output_type": "stream",
     "text": [
      "Step: 6\n"
     ]
    },
    {
     "name": "stderr",
     "output_type": "stream",
     "text": [
      "Processing sliding window:  13%|████▌                              | 14/108 [00:03<00:26,  3.50it/s]/home/sf_afn/usr_sa/anaconda3/envs/prkng_v2_env/lib/python3.11/site-packages/sklearn/gaussian_process/kernels.py:419: ConvergenceWarning:\n",
      "\n",
      "The optimal value found for dimension 0 of parameter k2__length_scale is close to the specified lower bound 0.1. Decreasing the bound and calling fit again may find a better value.\n",
      "\n"
     ]
    },
    {
     "name": "stdout",
     "output_type": "stream",
     "text": [
      "Step: 7\n"
     ]
    },
    {
     "name": "stderr",
     "output_type": "stream",
     "text": [
      "Processing sliding window:  15%|█████▏                             | 16/108 [00:04<00:27,  3.40it/s]/home/sf_afn/usr_sa/anaconda3/envs/prkng_v2_env/lib/python3.11/site-packages/sklearn/gaussian_process/kernels.py:419: ConvergenceWarning:\n",
      "\n",
      "The optimal value found for dimension 0 of parameter k2__length_scale is close to the specified lower bound 0.1. Decreasing the bound and calling fit again may find a better value.\n",
      "\n"
     ]
    },
    {
     "name": "stdout",
     "output_type": "stream",
     "text": [
      "Step: 8\n"
     ]
    },
    {
     "name": "stderr",
     "output_type": "stream",
     "text": [
      "Processing sliding window:  17%|█████▊                             | 18/108 [00:09<01:29,  1.00it/s]"
     ]
    },
    {
     "name": "stdout",
     "output_type": "stream",
     "text": [
      "Step: 9\n"
     ]
    },
    {
     "name": "stderr",
     "output_type": "stream",
     "text": [
      "wandb: Network error (ConnectionError), entering retry loop.\n",
      "Processing sliding window:  19%|██████▍                            | 20/108 [00:11<01:20,  1.10it/s]"
     ]
    },
    {
     "name": "stdout",
     "output_type": "stream",
     "text": [
      "Step: 10\n"
     ]
    },
    {
     "name": "stderr",
     "output_type": "stream",
     "text": [
      "Processing sliding window:  20%|███████▏                           | 22/108 [00:12<01:13,  1.17it/s]/home/sf_afn/usr_sa/anaconda3/envs/prkng_v2_env/lib/python3.11/site-packages/sklearn/gaussian_process/kernels.py:419: ConvergenceWarning:\n",
      "\n",
      "The optimal value found for dimension 0 of parameter k1__k1__k1__k1__constant_value is close to the specified lower bound 1e-05. Decreasing the bound and calling fit again may find a better value.\n",
      "\n",
      "/home/sf_afn/usr_sa/anaconda3/envs/prkng_v2_env/lib/python3.11/site-packages/sklearn/gaussian_process/kernels.py:419: ConvergenceWarning:\n",
      "\n",
      "The optimal value found for dimension 0 of parameter k2__length_scale is close to the specified lower bound 0.1. Decreasing the bound and calling fit again may find a better value.\n",
      "\n"
     ]
    },
    {
     "name": "stdout",
     "output_type": "stream",
     "text": [
      "Step: 11\n"
     ]
    },
    {
     "name": "stderr",
     "output_type": "stream",
     "text": [
      "Processing sliding window:  22%|███████▊                           | 24/108 [00:15<01:25,  1.01s/it]/home/sf_afn/usr_sa/anaconda3/envs/prkng_v2_env/lib/python3.11/site-packages/sklearn/gaussian_process/kernels.py:419: ConvergenceWarning:\n",
      "\n",
      "The optimal value found for dimension 0 of parameter k1__k1__k1__k1__constant_value is close to the specified lower bound 1e-05. Decreasing the bound and calling fit again may find a better value.\n",
      "\n"
     ]
    },
    {
     "name": "stdout",
     "output_type": "stream",
     "text": [
      "Step: 12\n"
     ]
    },
    {
     "name": "stderr",
     "output_type": "stream",
     "text": [
      "Processing sliding window:  24%|████████▍                          | 26/108 [00:15<01:03,  1.28it/s]"
     ]
    },
    {
     "name": "stdout",
     "output_type": "stream",
     "text": [
      "Step: 13\n"
     ]
    },
    {
     "name": "stderr",
     "output_type": "stream",
     "text": [
      "\u001b[34m\u001b[1mwandb\u001b[0m: Network error resolved after 0:00:01.322359, resuming normal operation.\n",
      "Processing sliding window:  26%|█████████                          | 28/108 [00:20<01:43,  1.30s/it]"
     ]
    },
    {
     "name": "stdout",
     "output_type": "stream",
     "text": [
      "Step: 14\n"
     ]
    },
    {
     "name": "stderr",
     "output_type": "stream",
     "text": [
      "\u001b[34m\u001b[1mwandb\u001b[0m: Network error (ConnectionError), entering retry loop.\n",
      "Processing sliding window:  28%|█████████▋                         | 30/108 [00:37<04:32,  3.50s/it]"
     ]
    },
    {
     "name": "stdout",
     "output_type": "stream",
     "text": [
      "Step: 15\n"
     ]
    },
    {
     "name": "stderr",
     "output_type": "stream",
     "text": [
      "Processing sliding window:  30%|██████████▎                        | 32/108 [00:38<03:10,  2.51s/it]"
     ]
    },
    {
     "name": "stdout",
     "output_type": "stream",
     "text": [
      "Step: 16\n"
     ]
    },
    {
     "name": "stderr",
     "output_type": "stream",
     "text": [
      "wandb: Network error (ConnectionError), entering retry loop.\n",
      "Processing sliding window:  31%|███████████                        | 34/108 [00:42<02:54,  2.36s/it]"
     ]
    },
    {
     "name": "stdout",
     "output_type": "stream",
     "text": [
      "Step: 17\n"
     ]
    },
    {
     "name": "stderr",
     "output_type": "stream",
     "text": [
      "Processing sliding window:  33%|███████████▋                       | 36/108 [00:43<02:15,  1.88s/it]"
     ]
    },
    {
     "name": "stdout",
     "output_type": "stream",
     "text": [
      "Step: 18\n"
     ]
    },
    {
     "name": "stderr",
     "output_type": "stream",
     "text": [
      "Processing sliding window:  35%|████████████▎                      | 38/108 [00:45<01:49,  1.56s/it]"
     ]
    },
    {
     "name": "stdout",
     "output_type": "stream",
     "text": [
      "Step: 19\n"
     ]
    },
    {
     "name": "stderr",
     "output_type": "stream",
     "text": [
      "wandb: Network error (ConnectionError), entering retry loop.\n",
      "\u001b[34m\u001b[1mwandb\u001b[0m: Network error (ConnectionError), entering retry loop.\n",
      "Processing sliding window:  37%|████████████▉                      | 40/108 [00:55<02:51,  2.53s/it]"
     ]
    },
    {
     "name": "stdout",
     "output_type": "stream",
     "text": [
      "Step: 20\n"
     ]
    },
    {
     "name": "stderr",
     "output_type": "stream",
     "text": [
      "\u001b[34m\u001b[1mwandb\u001b[0m: Network error (ConnectionError), entering retry loop.\n",
      "Processing sliding window:  39%|█████████████▌                     | 42/108 [01:13<05:01,  4.56s/it]"
     ]
    },
    {
     "name": "stdout",
     "output_type": "stream",
     "text": [
      "Step: 21\n"
     ]
    },
    {
     "name": "stderr",
     "output_type": "stream",
     "text": [
      "Processing sliding window:  41%|██████████████▎                    | 44/108 [01:14<03:28,  3.26s/it]"
     ]
    },
    {
     "name": "stdout",
     "output_type": "stream",
     "text": [
      "Step: 22\n"
     ]
    },
    {
     "name": "stderr",
     "output_type": "stream",
     "text": [
      "Processing sliding window:  43%|██████████████▉                    | 46/108 [01:14<02:25,  2.35s/it]"
     ]
    },
    {
     "name": "stdout",
     "output_type": "stream",
     "text": [
      "Step: 23\n"
     ]
    },
    {
     "name": "stderr",
     "output_type": "stream",
     "text": [
      "Processing sliding window:  44%|███████████████▌                   | 48/108 [01:15<01:42,  1.72s/it]"
     ]
    },
    {
     "name": "stdout",
     "output_type": "stream",
     "text": [
      "Step: 24\n"
     ]
    },
    {
     "name": "stderr",
     "output_type": "stream",
     "text": [
      "\u001b[34m\u001b[1mwandb\u001b[0m: Network error (ConnectionError), entering retry loop.\n",
      "Processing sliding window:  46%|████████████████▏                  | 50/108 [01:23<02:26,  2.53s/it]"
     ]
    },
    {
     "name": "stdout",
     "output_type": "stream",
     "text": [
      "Step: 25\n"
     ]
    },
    {
     "name": "stderr",
     "output_type": "stream",
     "text": [
      "Processing sliding window:  48%|████████████████▊                  | 52/108 [01:27<02:12,  2.36s/it]"
     ]
    },
    {
     "name": "stdout",
     "output_type": "stream",
     "text": [
      "Step: 26\n"
     ]
    },
    {
     "name": "stderr",
     "output_type": "stream",
     "text": [
      "\u001b[34m\u001b[1mwandb\u001b[0m: Network error resolved after 0:00:01.182501, resuming normal operation.\n",
      "\u001b[34m\u001b[1mwandb\u001b[0m: Network error (ConnectionError), entering retry loop.\n",
      "Processing sliding window:  50%|█████████████████▌                 | 54/108 [01:40<03:14,  3.61s/it]/home/sf_afn/usr_sa/anaconda3/envs/prkng_v2_env/lib/python3.11/site-packages/sklearn/gaussian_process/kernels.py:419: ConvergenceWarning:\n",
      "\n",
      "The optimal value found for dimension 0 of parameter k1__k2__noise_level is close to the specified lower bound 1e-10. Decreasing the bound and calling fit again may find a better value.\n",
      "\n"
     ]
    },
    {
     "name": "stdout",
     "output_type": "stream",
     "text": [
      "Step: 27\n"
     ]
    },
    {
     "name": "stderr",
     "output_type": "stream",
     "text": [
      "Processing sliding window:  52%|██████████████████▏                | 56/108 [01:42<02:22,  2.75s/it]"
     ]
    },
    {
     "name": "stdout",
     "output_type": "stream",
     "text": [
      "Step: 28\n"
     ]
    },
    {
     "name": "stderr",
     "output_type": "stream",
     "text": [
      "\u001b[34m\u001b[1mwandb\u001b[0m: Network error (ConnectionError), entering retry loop.\n",
      "Processing sliding window:  54%|██████████████████▊                | 58/108 [01:50<02:40,  3.20s/it]"
     ]
    },
    {
     "name": "stdout",
     "output_type": "stream",
     "text": [
      "Step: 29\n"
     ]
    },
    {
     "name": "stderr",
     "output_type": "stream",
     "text": [
      "Processing sliding window:  56%|███████████████████▍               | 60/108 [01:51<01:50,  2.31s/it]"
     ]
    },
    {
     "name": "stdout",
     "output_type": "stream",
     "text": [
      "Step: 30\n"
     ]
    },
    {
     "name": "stderr",
     "output_type": "stream",
     "text": [
      "Processing sliding window:  57%|████████████████████               | 62/108 [01:51<01:17,  1.69s/it]"
     ]
    },
    {
     "name": "stdout",
     "output_type": "stream",
     "text": [
      "Step: 31\n"
     ]
    },
    {
     "name": "stderr",
     "output_type": "stream",
     "text": [
      "Processing sliding window:  59%|████████████████████▋              | 64/108 [01:52<00:55,  1.25s/it]/home/sf_afn/usr_sa/anaconda3/envs/prkng_v2_env/lib/python3.11/site-packages/sklearn/gaussian_process/kernels.py:419: ConvergenceWarning:\n",
      "\n",
      "The optimal value found for dimension 0 of parameter k1__k2__noise_level is close to the specified lower bound 1e-10. Decreasing the bound and calling fit again may find a better value.\n",
      "\n"
     ]
    },
    {
     "name": "stdout",
     "output_type": "stream",
     "text": [
      "Step: 32\n"
     ]
    },
    {
     "name": "stderr",
     "output_type": "stream",
     "text": [
      "Processing sliding window:  61%|█████████████████████▍             | 66/108 [01:52<00:40,  1.05it/s]"
     ]
    },
    {
     "name": "stdout",
     "output_type": "stream",
     "text": [
      "Step: 33\n"
     ]
    },
    {
     "name": "stderr",
     "output_type": "stream",
     "text": [
      "Processing sliding window:  63%|██████████████████████             | 68/108 [01:53<00:29,  1.36it/s]"
     ]
    },
    {
     "name": "stdout",
     "output_type": "stream",
     "text": [
      "Step: 34\n"
     ]
    },
    {
     "name": "stderr",
     "output_type": "stream",
     "text": [
      "Processing sliding window:  65%|██████████████████████▋            | 70/108 [01:53<00:22,  1.72it/s]"
     ]
    },
    {
     "name": "stdout",
     "output_type": "stream",
     "text": [
      "Step: 35\n"
     ]
    },
    {
     "name": "stderr",
     "output_type": "stream",
     "text": [
      "Processing sliding window:  67%|███████████████████████▎           | 72/108 [01:54<00:17,  2.10it/s]"
     ]
    },
    {
     "name": "stdout",
     "output_type": "stream",
     "text": [
      "Step: 36\n"
     ]
    },
    {
     "name": "stderr",
     "output_type": "stream",
     "text": [
      "Processing sliding window:  69%|███████████████████████▉           | 74/108 [01:54<00:13,  2.48it/s]"
     ]
    },
    {
     "name": "stdout",
     "output_type": "stream",
     "text": [
      "Step: 37\n"
     ]
    },
    {
     "name": "stderr",
     "output_type": "stream",
     "text": [
      "Processing sliding window:  70%|████████████████████████▋          | 76/108 [01:55<00:11,  2.84it/s]"
     ]
    },
    {
     "name": "stdout",
     "output_type": "stream",
     "text": [
      "Step: 38\n"
     ]
    },
    {
     "name": "stderr",
     "output_type": "stream",
     "text": [
      "\u001b[34m\u001b[1mwandb\u001b[0m: Network error (ConnectionError), entering retry loop.\n",
      "Processing sliding window:  72%|█████████████████████████▎         | 78/108 [02:03<00:46,  1.56s/it]"
     ]
    },
    {
     "name": "stdout",
     "output_type": "stream",
     "text": [
      "Step: 39\n"
     ]
    },
    {
     "name": "stderr",
     "output_type": "stream",
     "text": [
      "Processing sliding window:  74%|█████████████████████████▉         | 80/108 [02:05<00:37,  1.34s/it]"
     ]
    },
    {
     "name": "stdout",
     "output_type": "stream",
     "text": [
      "Step: 40\n"
     ]
    },
    {
     "name": "stderr",
     "output_type": "stream",
     "text": [
      "\u001b[34m\u001b[1mwandb\u001b[0m: Network error (ConnectionError), entering retry loop.\n",
      "Processing sliding window:  76%|██████████████████████████▌        | 82/108 [02:15<01:01,  2.37s/it]"
     ]
    },
    {
     "name": "stdout",
     "output_type": "stream",
     "text": [
      "Step: 41\n"
     ]
    },
    {
     "name": "stderr",
     "output_type": "stream",
     "text": [
      "Processing sliding window:  78%|███████████████████████████▏       | 84/108 [02:15<00:41,  1.73s/it]"
     ]
    },
    {
     "name": "stdout",
     "output_type": "stream",
     "text": [
      "Step: 42\n"
     ]
    },
    {
     "name": "stderr",
     "output_type": "stream",
     "text": [
      "Processing sliding window:  80%|███████████████████████████▊       | 86/108 [02:16<00:28,  1.29s/it]"
     ]
    },
    {
     "name": "stdout",
     "output_type": "stream",
     "text": [
      "Step: 43\n"
     ]
    },
    {
     "name": "stderr",
     "output_type": "stream",
     "text": [
      "\u001b[34m\u001b[1mwandb\u001b[0m: Network error (ConnectionError), entering retry loop.\n",
      "Processing sliding window:  81%|████████████████████████████▌      | 88/108 [02:25<00:47,  2.39s/it]"
     ]
    },
    {
     "name": "stdout",
     "output_type": "stream",
     "text": [
      "Step: 44\n"
     ]
    },
    {
     "name": "stderr",
     "output_type": "stream",
     "text": [
      "Processing sliding window:  83%|█████████████████████████████▏     | 90/108 [02:27<00:34,  1.91s/it]"
     ]
    },
    {
     "name": "stdout",
     "output_type": "stream",
     "text": [
      "Step: 45\n"
     ]
    },
    {
     "name": "stderr",
     "output_type": "stream",
     "text": [
      "Processing sliding window:  85%|█████████████████████████████▊     | 92/108 [02:29<00:25,  1.57s/it]/home/sf_afn/usr_sa/anaconda3/envs/prkng_v2_env/lib/python3.11/site-packages/sklearn/gaussian_process/kernels.py:419: ConvergenceWarning:\n",
      "\n",
      "The optimal value found for dimension 0 of parameter k1__k1__k1__k1__constant_value is close to the specified lower bound 1e-05. Decreasing the bound and calling fit again may find a better value.\n",
      "\n"
     ]
    },
    {
     "name": "stdout",
     "output_type": "stream",
     "text": [
      "Step: 46\n"
     ]
    },
    {
     "name": "stderr",
     "output_type": "stream",
     "text": [
      "\u001b[34m\u001b[1mwandb\u001b[0m: Network error resolved after 0:00:01.179052, resuming normal operation.\n",
      "Processing sliding window:  87%|██████████████████████████████▍    | 94/108 [02:30<00:18,  1.35s/it]"
     ]
    },
    {
     "name": "stdout",
     "output_type": "stream",
     "text": [
      "Step: 47\n"
     ]
    },
    {
     "name": "stderr",
     "output_type": "stream",
     "text": [
      "\u001b[34m\u001b[1mwandb\u001b[0m: Network error (ConnectionError), entering retry loop.\n",
      "Processing sliding window:  89%|███████████████████████████████    | 96/108 [03:06<01:15,  6.28s/it]/home/sf_afn/usr_sa/anaconda3/envs/prkng_v2_env/lib/python3.11/site-packages/sklearn/gaussian_process/kernels.py:419: ConvergenceWarning:\n",
      "\n",
      "The optimal value found for dimension 0 of parameter k1__k1__k1__k1__constant_value is close to the specified lower bound 1e-05. Decreasing the bound and calling fit again may find a better value.\n",
      "\n",
      "/home/sf_afn/usr_sa/anaconda3/envs/prkng_v2_env/lib/python3.11/site-packages/sklearn/gaussian_process/kernels.py:429: ConvergenceWarning:\n",
      "\n",
      "The optimal value found for dimension 0 of parameter k1__k1__k1__k2__length_scale is close to the specified upper bound 1000.0. Increasing the bound and calling fit again may find a better value.\n",
      "\n"
     ]
    },
    {
     "name": "stdout",
     "output_type": "stream",
     "text": [
      "Step: 48\n"
     ]
    },
    {
     "name": "stderr",
     "output_type": "stream",
     "text": [
      "Processing sliding window:  91%|███████████████████████████████▊   | 98/108 [03:07<00:45,  4.60s/it]"
     ]
    },
    {
     "name": "stdout",
     "output_type": "stream",
     "text": [
      "Step: 49\n"
     ]
    },
    {
     "name": "stderr",
     "output_type": "stream",
     "text": [
      "Processing sliding window:  93%|███████████████████████████████▍  | 100/108 [03:08<00:26,  3.29s/it]"
     ]
    },
    {
     "name": "stdout",
     "output_type": "stream",
     "text": [
      "Step: 50\n"
     ]
    },
    {
     "name": "stderr",
     "output_type": "stream",
     "text": [
      "Processing sliding window:  94%|████████████████████████████████  | 102/108 [03:08<00:14,  2.37s/it]"
     ]
    },
    {
     "name": "stdout",
     "output_type": "stream",
     "text": [
      "Step: 51\n"
     ]
    },
    {
     "name": "stderr",
     "output_type": "stream",
     "text": [
      "Processing sliding window:  96%|████████████████████████████████▋ | 104/108 [03:09<00:06,  1.73s/it]"
     ]
    },
    {
     "name": "stdout",
     "output_type": "stream",
     "text": [
      "Step: 52\n"
     ]
    },
    {
     "name": "stderr",
     "output_type": "stream",
     "text": [
      "Processing sliding window:  98%|█████████████████████████████████▎| 106/108 [03:09<00:02,  1.28s/it]"
     ]
    },
    {
     "name": "stdout",
     "output_type": "stream",
     "text": [
      "Step: 53\n"
     ]
    },
    {
     "name": "stderr",
     "output_type": "stream",
     "text": [
      "Processing sliding window: 100%|██████████████████████████████████| 108/108 [03:10<00:00,  1.76s/it]\n"
     ]
    },
    {
     "name": "stdout",
     "output_type": "stream",
     "text": [
      "Step: 54\n",
      "Testing final GPR on test set\n"
     ]
    },
    {
     "name": "stderr",
     "output_type": "stream",
     "text": [
      "wandb: Network error (ConnectionError), entering retry loop.\n",
      "wandb: Network error (ConnectionError), entering retry loop.\n",
      "wandb: Network error (ConnectionError), entering retry loop.\n"
     ]
    },
    {
     "data": {
      "application/vnd.jupyter.widget-view+json": {
       "model_id": "94a2f7583d3749f29e6f2550a09d3721",
       "version_major": 2,
       "version_minor": 0
      },
      "text/plain": [
       "VBox(children=(Label(value='89.847 MB of 89.918 MB uploaded\\r'), FloatProgress(value=0.9992057361192741, max=1…"
      ]
     },
     "metadata": {},
     "output_type": "display_data"
    },
    {
     "name": "stderr",
     "output_type": "stream",
     "text": [
      "wandb: WARNING Source type is set to 'repo' but some required information is missing from the environment. A job will not be created from this run. See https://docs.wandb.ai/guides/launch/create-job\n"
     ]
    },
    {
     "data": {
      "text/html": [
       "<style>\n",
       "    table.wandb td:nth-child(1) { padding: 0 10px; text-align: left ; width: auto;} td:nth-child(2) {text-align: left ; width: 100%}\n",
       "    .wandb-row { display: flex; flex-direction: row; flex-wrap: wrap; justify-content: flex-start; width: 100% }\n",
       "    .wandb-col { display: flex; flex-direction: column; flex-basis: 100%; flex: 1; padding: 10px; }\n",
       "    </style>\n",
       "<div class=\"wandb-row\"><div class=\"wandb-col\"><h3>Run history:</h3><br/><table class=\"wandb\"><tr><td>LML_test</td><td>▁</td></tr><tr><td>LML_train</td><td>▁▁▁▃▄▄▅▆▄▃▅▇███▆▆▆▅▅▇▆▆▄▅▅▇▅▃▃▄▃█▆▄▅▄▃▂▃</td></tr><tr><td>LML_validate</td><td>▁▁▁▃▄▄▅▅▅▃▅▆▇██▆▆▆▅▅▇▆▆▄▆▅▅▇▃▃▃▂▃██▄▅▄▃▃</td></tr><tr><td>MAE_test</td><td>▁</td></tr><tr><td>MAE_train</td><td>▆▁█▁▄▃▁▅▆▇▆▅▄▃▄▄▅▅▆▁▁▃▄▅▃▁▄▆▇█▅▄▁▄▁▂▅▂▁▁</td></tr><tr><td>MAE_validate</td><td>▄▇▅▃▇▇▅▄██▃▂▆▄▄▄▃▃▄▃▄▆▂▄▄▅▅▄▃▂▃▂▇▅▄▁▂▁▅▂</td></tr><tr><td>MAPE_test</td><td>▁</td></tr><tr><td>MAPE_train</td><td>▂▁▂▁▂▁▁▂▂▂▆▂▂▁▄▂▂▃▂▁▁▁▂▂▂▁█▂▂▂▂▁▁▁▁▁▁▁▁▁</td></tr><tr><td>MAPE_validate</td><td>███▃▄▃▃▅▇▄▃▃▄▂▂▂▂▂▄▂▄▄▅▂▆▂▄▂▂▄▂▁▂▄▃▂▁▃▂▅</td></tr><tr><td>MSE_test</td><td>▁</td></tr><tr><td>MSE_train</td><td>▄▁█▁▂▂▁▄▆▇▄▃▂▁▂▂▃▃▄▁▁▂▂▃▁▁▂▅▇█▃▃▁▂▁▁▃▁▁▁</td></tr><tr><td>MSE_validate</td><td>▂▆▃▂▆█▃▃▆▆▂▁▄▂▂▂▂▂▃▂▃▆▁▂▂▄▃▄▂▁▂▁█▄▂▁▂▁▄▂</td></tr><tr><td>R2_test</td><td>▁</td></tr><tr><td>R2_train</td><td>▆█▄█▇▇█▅▄▄▄▂▃▆▄▆▅▅▄███▇▆▇█▅▁▂▁▆▆█▇██▆███</td></tr><tr><td>R2_validate</td><td>█████████▁██████████████████████████████</td></tr><tr><td>RMSE_test</td><td>▁</td></tr><tr><td>RMSE_train</td><td>▆▁█▁▄▃▁▅▇▇▅▅▄▃▄▄▅▄▆▁▁▃▃▅▃▁▄▇██▄▅▁▄▁▂▅▂▁▁</td></tr><tr><td>RMSE_validate</td><td>▄▆▄▃▇█▄▅▇▇▃▂▅▃▄▄▃▃▄▃▄▇▂▄▃▅▅▅▃▂▃▂█▅▄▁▃▁▅▃</td></tr><tr><td>step</td><td>▁▁▁▂▂▂▂▂▂▃▃▃▃▃▄▄▄▄▄▄▅▅▅▅▅▅▆▆▆▆▆▇▇▇▇▇███▁</td></tr></table><br/></div><div class=\"wandb-col\"><h3>Run summary:</h3><br/><table class=\"wandb\"><tr><td>LML_test</td><td>-28.61514</td></tr><tr><td>LML_train</td><td>-28.61514</td></tr><tr><td>LML_validate</td><td>-28.61514</td></tr><tr><td>MAE_test</td><td>1.07602</td></tr><tr><td>MAE_train</td><td>0.0</td></tr><tr><td>MAE_validate</td><td>0.4</td></tr><tr><td>MAPE_test</td><td>495.74848</td></tr><tr><td>MAPE_train</td><td>0.00239</td></tr><tr><td>MAPE_validate</td><td>197.46578</td></tr><tr><td>MSE_test</td><td>1.67663</td></tr><tr><td>MSE_train</td><td>0.0</td></tr><tr><td>MSE_validate</td><td>0.54721</td></tr><tr><td>R2_test</td><td>-1.31546</td></tr><tr><td>R2_train</td><td>1.0</td></tr><tr><td>R2_validate</td><td>-0.23673</td></tr><tr><td>RMSE_test</td><td>1.29485</td></tr><tr><td>RMSE_train</td><td>1e-05</td></tr><tr><td>RMSE_validate</td><td>0.73974</td></tr><tr><td>step</td><td>1</td></tr></table><br/></div></div>"
      ],
      "text/plain": [
       "<IPython.core.display.HTML object>"
      ]
     },
     "metadata": {},
     "output_type": "display_data"
    },
    {
     "data": {
      "text/html": [
       " View run <strong style=\"color:#cdcd00\">Sliding_slakt_noisy_lp_gp:hour</strong> at: <a href='https://wandb.ai/afn-sy/Merged_GPR_Experiments/runs/q7ntr9ck' target=\"_blank\">https://wandb.ai/afn-sy/Merged_GPR_Experiments/runs/q7ntr9ck</a><br/>Synced 7 W&B file(s), 328 media file(s), 110 artifact file(s) and 4 other file(s)"
      ],
      "text/plain": [
       "<IPython.core.display.HTML object>"
      ]
     },
     "metadata": {},
     "output_type": "display_data"
    },
    {
     "data": {
      "text/html": [
       "Find logs at: <code>./wandb/run-20240122_210302-q7ntr9ck/logs</code>"
      ],
      "text/plain": [
       "<IPython.core.display.HTML object>"
      ]
     },
     "metadata": {},
     "output_type": "display_data"
    },
    {
     "data": {
      "application/vnd.jupyter.widget-view+json": {
       "model_id": "9f560ea42e9140b2a0ac499f6055e58e",
       "version_major": 2,
       "version_minor": 0
      },
      "text/plain": [
       "VBox(children=(Label(value='Waiting for wandb.init()...\\r'), FloatProgress(value=0.0111119809000229, max=1.0))…"
      ]
     },
     "metadata": {},
     "output_type": "display_data"
    },
    {
     "data": {
      "text/html": [
       "Tracking run with wandb version 0.16.2"
      ],
      "text/plain": [
       "<IPython.core.display.HTML object>"
      ]
     },
     "metadata": {},
     "output_type": "display_data"
    },
    {
     "data": {
      "text/html": [
       "Run data is saved locally in <code>/home/sf_afn/Insync/sofiaa720@gmail.com/Google Drive/masters_thesis/code_v1/msc_parking/univrses/notebooks/wandb/run-20240122_210634-gba7h8sq</code>"
      ],
      "text/plain": [
       "<IPython.core.display.HTML object>"
      ]
     },
     "metadata": {},
     "output_type": "display_data"
    },
    {
     "data": {
      "text/html": [
       "Syncing run <strong><a href='https://wandb.ai/afn-sy/Merged_GPR_Experiments/runs/gba7h8sq' target=\"_blank\">Sliding_slakt_noisy_lp_gp:week</a></strong> to <a href='https://wandb.ai/afn-sy/Merged_GPR_Experiments' target=\"_blank\">Weights & Biases</a> (<a href='https://wandb.me/run' target=\"_blank\">docs</a>)<br/>"
      ],
      "text/plain": [
       "<IPython.core.display.HTML object>"
      ]
     },
     "metadata": {},
     "output_type": "display_data"
    },
    {
     "data": {
      "text/html": [
       " View project at <a href='https://wandb.ai/afn-sy/Merged_GPR_Experiments' target=\"_blank\">https://wandb.ai/afn-sy/Merged_GPR_Experiments</a>"
      ],
      "text/plain": [
       "<IPython.core.display.HTML object>"
      ]
     },
     "metadata": {},
     "output_type": "display_data"
    },
    {
     "data": {
      "text/html": [
       " View run at <a href='https://wandb.ai/afn-sy/Merged_GPR_Experiments/runs/gba7h8sq' target=\"_blank\">https://wandb.ai/afn-sy/Merged_GPR_Experiments/runs/gba7h8sq</a>"
      ],
      "text/plain": [
       "<IPython.core.display.HTML object>"
      ]
     },
     "metadata": {},
     "output_type": "display_data"
    },
    {
     "name": "stderr",
     "output_type": "stream",
     "text": [
      "Processing sliding window:   2%|▋                                   | 2/108 [00:00<00:23,  4.53it/s]"
     ]
    },
    {
     "name": "stdout",
     "output_type": "stream",
     "text": [
      "Step: 1\n"
     ]
    },
    {
     "name": "stderr",
     "output_type": "stream",
     "text": [
      "Processing sliding window:   4%|█▎                                  | 4/108 [00:00<00:25,  4.11it/s]"
     ]
    },
    {
     "name": "stdout",
     "output_type": "stream",
     "text": [
      "Step: 2\n"
     ]
    },
    {
     "name": "stderr",
     "output_type": "stream",
     "text": [
      "Processing sliding window:   6%|██                                  | 6/108 [00:05<01:59,  1.17s/it]"
     ]
    },
    {
     "name": "stdout",
     "output_type": "stream",
     "text": [
      "Step: 3\n"
     ]
    },
    {
     "name": "stderr",
     "output_type": "stream",
     "text": [
      "Processing sliding window:   7%|██▋                                 | 8/108 [00:06<01:30,  1.11it/s]"
     ]
    },
    {
     "name": "stdout",
     "output_type": "stream",
     "text": [
      "Step: 4\n"
     ]
    },
    {
     "name": "stderr",
     "output_type": "stream",
     "text": [
      "Processing sliding window:   9%|███▏                               | 10/108 [00:07<01:08,  1.44it/s]"
     ]
    },
    {
     "name": "stdout",
     "output_type": "stream",
     "text": [
      "Step: 5\n"
     ]
    },
    {
     "name": "stderr",
     "output_type": "stream",
     "text": [
      "Processing sliding window:  11%|███▉                               | 12/108 [00:07<00:53,  1.79it/s]"
     ]
    },
    {
     "name": "stdout",
     "output_type": "stream",
     "text": [
      "Step: 6\n"
     ]
    },
    {
     "name": "stderr",
     "output_type": "stream",
     "text": [
      "Processing sliding window:  13%|████▌                              | 14/108 [00:08<00:44,  2.12it/s]/home/sf_afn/usr_sa/anaconda3/envs/prkng_v2_env/lib/python3.11/site-packages/sklearn/gaussian_process/kernels.py:419: ConvergenceWarning:\n",
      "\n",
      "The optimal value found for dimension 0 of parameter k2__length_scale is close to the specified lower bound 0.1. Decreasing the bound and calling fit again may find a better value.\n",
      "\n"
     ]
    },
    {
     "name": "stdout",
     "output_type": "stream",
     "text": [
      "Step: 7\n"
     ]
    },
    {
     "name": "stderr",
     "output_type": "stream",
     "text": [
      "Processing sliding window:  15%|█████▏                             | 16/108 [00:08<00:38,  2.42it/s]/home/sf_afn/usr_sa/anaconda3/envs/prkng_v2_env/lib/python3.11/site-packages/sklearn/gaussian_process/kernels.py:419: ConvergenceWarning:\n",
      "\n",
      "The optimal value found for dimension 0 of parameter k2__length_scale is close to the specified lower bound 0.1. Decreasing the bound and calling fit again may find a better value.\n",
      "\n"
     ]
    },
    {
     "name": "stdout",
     "output_type": "stream",
     "text": [
      "Step: 8\n"
     ]
    },
    {
     "name": "stderr",
     "output_type": "stream",
     "text": [
      "Processing sliding window:  17%|█████▊                             | 18/108 [00:09<00:32,  2.74it/s]"
     ]
    },
    {
     "name": "stdout",
     "output_type": "stream",
     "text": [
      "Step: 9\n"
     ]
    },
    {
     "name": "stderr",
     "output_type": "stream",
     "text": [
      "Processing sliding window:  19%|██████▍                            | 20/108 [00:09<00:28,  3.04it/s]"
     ]
    },
    {
     "name": "stdout",
     "output_type": "stream",
     "text": [
      "Step: 10\n"
     ]
    },
    {
     "name": "stderr",
     "output_type": "stream",
     "text": [
      "Processing sliding window:  20%|███████▏                           | 22/108 [00:10<00:25,  3.31it/s]/home/sf_afn/usr_sa/anaconda3/envs/prkng_v2_env/lib/python3.11/site-packages/sklearn/gaussian_process/kernels.py:419: ConvergenceWarning:\n",
      "\n",
      "The optimal value found for dimension 0 of parameter k1__k1__k1__k1__constant_value is close to the specified lower bound 1e-05. Decreasing the bound and calling fit again may find a better value.\n",
      "\n",
      "/home/sf_afn/usr_sa/anaconda3/envs/prkng_v2_env/lib/python3.11/site-packages/sklearn/gaussian_process/kernels.py:419: ConvergenceWarning:\n",
      "\n",
      "The optimal value found for dimension 0 of parameter k2__length_scale is close to the specified lower bound 0.1. Decreasing the bound and calling fit again may find a better value.\n",
      "\n"
     ]
    },
    {
     "name": "stdout",
     "output_type": "stream",
     "text": [
      "Step: 11\n"
     ]
    },
    {
     "name": "stderr",
     "output_type": "stream",
     "text": [
      "Processing sliding window:  22%|███████▊                           | 24/108 [00:10<00:24,  3.48it/s]/home/sf_afn/usr_sa/anaconda3/envs/prkng_v2_env/lib/python3.11/site-packages/sklearn/gaussian_process/kernels.py:419: ConvergenceWarning:\n",
      "\n",
      "The optimal value found for dimension 0 of parameter k1__k1__k1__k1__constant_value is close to the specified lower bound 1e-05. Decreasing the bound and calling fit again may find a better value.\n",
      "\n"
     ]
    },
    {
     "name": "stdout",
     "output_type": "stream",
     "text": [
      "Step: 12\n"
     ]
    },
    {
     "name": "stderr",
     "output_type": "stream",
     "text": [
      "Processing sliding window:  24%|████████▍                          | 26/108 [00:11<00:22,  3.58it/s]"
     ]
    },
    {
     "name": "stdout",
     "output_type": "stream",
     "text": [
      "Step: 13\n"
     ]
    },
    {
     "name": "stderr",
     "output_type": "stream",
     "text": [
      "Processing sliding window:  26%|█████████                          | 28/108 [00:11<00:21,  3.67it/s]"
     ]
    },
    {
     "name": "stdout",
     "output_type": "stream",
     "text": [
      "Step: 14\n"
     ]
    },
    {
     "name": "stderr",
     "output_type": "stream",
     "text": [
      "Processing sliding window:  28%|█████████▋                         | 30/108 [00:12<00:20,  3.89it/s]"
     ]
    },
    {
     "name": "stdout",
     "output_type": "stream",
     "text": [
      "Step: 15\n"
     ]
    },
    {
     "name": "stderr",
     "output_type": "stream",
     "text": [
      "Processing sliding window:  30%|██████████▎                        | 32/108 [00:12<00:18,  4.06it/s]"
     ]
    },
    {
     "name": "stdout",
     "output_type": "stream",
     "text": [
      "Step: 16\n"
     ]
    },
    {
     "name": "stderr",
     "output_type": "stream",
     "text": [
      "Processing sliding window:  31%|███████████                        | 34/108 [00:13<00:17,  4.15it/s]"
     ]
    },
    {
     "name": "stdout",
     "output_type": "stream",
     "text": [
      "Step: 17\n"
     ]
    },
    {
     "name": "stderr",
     "output_type": "stream",
     "text": [
      "Processing sliding window:  33%|███████████▋                       | 36/108 [00:13<00:17,  4.16it/s]"
     ]
    },
    {
     "name": "stdout",
     "output_type": "stream",
     "text": [
      "Step: 18\n"
     ]
    },
    {
     "name": "stderr",
     "output_type": "stream",
     "text": [
      "Processing sliding window:  35%|████████████▎                      | 38/108 [00:14<00:16,  4.18it/s]"
     ]
    },
    {
     "name": "stdout",
     "output_type": "stream",
     "text": [
      "Step: 19\n"
     ]
    },
    {
     "name": "stderr",
     "output_type": "stream",
     "text": [
      "Processing sliding window:  37%|████████████▉                      | 40/108 [00:14<00:17,  3.82it/s]"
     ]
    },
    {
     "name": "stdout",
     "output_type": "stream",
     "text": [
      "Step: 20\n"
     ]
    },
    {
     "name": "stderr",
     "output_type": "stream",
     "text": [
      "Processing sliding window:  39%|█████████████▌                     | 42/108 [00:15<00:18,  3.52it/s]"
     ]
    },
    {
     "name": "stdout",
     "output_type": "stream",
     "text": [
      "Step: 21\n"
     ]
    },
    {
     "name": "stderr",
     "output_type": "stream",
     "text": [
      "Processing sliding window:  41%|██████████████▎                    | 44/108 [00:16<00:18,  3.45it/s]"
     ]
    },
    {
     "name": "stdout",
     "output_type": "stream",
     "text": [
      "Step: 22\n"
     ]
    },
    {
     "name": "stderr",
     "output_type": "stream",
     "text": [
      "Processing sliding window:  43%|██████████████▉                    | 46/108 [00:16<00:16,  3.67it/s]"
     ]
    },
    {
     "name": "stdout",
     "output_type": "stream",
     "text": [
      "Step: 23\n"
     ]
    },
    {
     "name": "stderr",
     "output_type": "stream",
     "text": [
      "Processing sliding window:  44%|███████████████▌                   | 48/108 [00:17<00:15,  3.86it/s]"
     ]
    },
    {
     "name": "stdout",
     "output_type": "stream",
     "text": [
      "Step: 24\n"
     ]
    },
    {
     "name": "stderr",
     "output_type": "stream",
     "text": [
      "Processing sliding window:  46%|████████████████▏                  | 50/108 [00:17<00:14,  3.98it/s]"
     ]
    },
    {
     "name": "stdout",
     "output_type": "stream",
     "text": [
      "Step: 25\n"
     ]
    },
    {
     "name": "stderr",
     "output_type": "stream",
     "text": [
      "Processing sliding window:  48%|████████████████▊                  | 52/108 [00:17<00:13,  4.16it/s]"
     ]
    },
    {
     "name": "stdout",
     "output_type": "stream",
     "text": [
      "Step: 26\n"
     ]
    },
    {
     "name": "stderr",
     "output_type": "stream",
     "text": [
      "Processing sliding window:  50%|█████████████████▌                 | 54/108 [00:18<00:12,  4.26it/s]/home/sf_afn/usr_sa/anaconda3/envs/prkng_v2_env/lib/python3.11/site-packages/sklearn/gaussian_process/kernels.py:419: ConvergenceWarning:\n",
      "\n",
      "The optimal value found for dimension 0 of parameter k1__k2__noise_level is close to the specified lower bound 1e-10. Decreasing the bound and calling fit again may find a better value.\n",
      "\n"
     ]
    },
    {
     "name": "stdout",
     "output_type": "stream",
     "text": [
      "Step: 27\n"
     ]
    },
    {
     "name": "stderr",
     "output_type": "stream",
     "text": [
      "Processing sliding window:  52%|██████████████████▏                | 56/108 [00:18<00:12,  4.29it/s]"
     ]
    },
    {
     "name": "stdout",
     "output_type": "stream",
     "text": [
      "Step: 28\n"
     ]
    },
    {
     "name": "stderr",
     "output_type": "stream",
     "text": [
      "Processing sliding window:  54%|██████████████████▊                | 58/108 [00:19<00:11,  4.38it/s]"
     ]
    },
    {
     "name": "stdout",
     "output_type": "stream",
     "text": [
      "Step: 29\n"
     ]
    },
    {
     "name": "stderr",
     "output_type": "stream",
     "text": [
      "Processing sliding window:  56%|███████████████████▍               | 60/108 [00:19<00:11,  4.34it/s]"
     ]
    },
    {
     "name": "stdout",
     "output_type": "stream",
     "text": [
      "Step: 30\n"
     ]
    },
    {
     "name": "stderr",
     "output_type": "stream",
     "text": [
      "Processing sliding window:  57%|████████████████████               | 62/108 [00:20<00:10,  4.29it/s]"
     ]
    },
    {
     "name": "stdout",
     "output_type": "stream",
     "text": [
      "Step: 31\n"
     ]
    },
    {
     "name": "stderr",
     "output_type": "stream",
     "text": [
      "Processing sliding window:  59%|████████████████████▋              | 64/108 [00:20<00:10,  4.22it/s]/home/sf_afn/usr_sa/anaconda3/envs/prkng_v2_env/lib/python3.11/site-packages/sklearn/gaussian_process/kernels.py:419: ConvergenceWarning:\n",
      "\n",
      "The optimal value found for dimension 0 of parameter k1__k2__noise_level is close to the specified lower bound 1e-10. Decreasing the bound and calling fit again may find a better value.\n",
      "\n"
     ]
    },
    {
     "name": "stdout",
     "output_type": "stream",
     "text": [
      "Step: 32\n"
     ]
    },
    {
     "name": "stderr",
     "output_type": "stream",
     "text": [
      "Processing sliding window:  61%|█████████████████████▍             | 66/108 [00:21<00:11,  3.61it/s]"
     ]
    },
    {
     "name": "stdout",
     "output_type": "stream",
     "text": [
      "Step: 33\n"
     ]
    },
    {
     "name": "stderr",
     "output_type": "stream",
     "text": [
      "Processing sliding window:  63%|██████████████████████             | 68/108 [00:22<00:12,  3.22it/s]"
     ]
    },
    {
     "name": "stdout",
     "output_type": "stream",
     "text": [
      "Step: 34\n"
     ]
    },
    {
     "name": "stderr",
     "output_type": "stream",
     "text": [
      "Processing sliding window:  65%|██████████████████████▋            | 70/108 [00:22<00:12,  3.05it/s]"
     ]
    },
    {
     "name": "stdout",
     "output_type": "stream",
     "text": [
      "Step: 35\n"
     ]
    },
    {
     "name": "stderr",
     "output_type": "stream",
     "text": [
      "Processing sliding window:  67%|███████████████████████▎           | 72/108 [00:23<00:11,  3.18it/s]"
     ]
    },
    {
     "name": "stdout",
     "output_type": "stream",
     "text": [
      "Step: 36\n"
     ]
    },
    {
     "name": "stderr",
     "output_type": "stream",
     "text": [
      "Processing sliding window:  69%|███████████████████████▉           | 74/108 [00:24<00:10,  3.39it/s]"
     ]
    },
    {
     "name": "stdout",
     "output_type": "stream",
     "text": [
      "Step: 37\n"
     ]
    },
    {
     "name": "stderr",
     "output_type": "stream",
     "text": [
      "Processing sliding window:  70%|████████████████████████▋          | 76/108 [00:24<00:08,  3.58it/s]"
     ]
    },
    {
     "name": "stdout",
     "output_type": "stream",
     "text": [
      "Step: 38\n"
     ]
    },
    {
     "name": "stderr",
     "output_type": "stream",
     "text": [
      "Processing sliding window:  72%|█████████████████████████▎         | 78/108 [00:24<00:07,  3.81it/s]"
     ]
    },
    {
     "name": "stdout",
     "output_type": "stream",
     "text": [
      "Step: 39\n"
     ]
    },
    {
     "name": "stderr",
     "output_type": "stream",
     "text": [
      "Processing sliding window:  74%|█████████████████████████▉         | 80/108 [00:25<00:06,  4.01it/s]"
     ]
    },
    {
     "name": "stdout",
     "output_type": "stream",
     "text": [
      "Step: 40\n"
     ]
    },
    {
     "name": "stderr",
     "output_type": "stream",
     "text": [
      "Processing sliding window:  76%|██████████████████████████▌        | 82/108 [00:25<00:06,  3.85it/s]"
     ]
    },
    {
     "name": "stdout",
     "output_type": "stream",
     "text": [
      "Step: 41\n"
     ]
    },
    {
     "name": "stderr",
     "output_type": "stream",
     "text": [
      "Processing sliding window:  78%|███████████████████████████▏       | 84/108 [00:26<00:06,  3.97it/s]"
     ]
    },
    {
     "name": "stdout",
     "output_type": "stream",
     "text": [
      "Step: 42\n"
     ]
    },
    {
     "name": "stderr",
     "output_type": "stream",
     "text": [
      "Processing sliding window:  80%|███████████████████████████▊       | 86/108 [00:26<00:05,  4.10it/s]"
     ]
    },
    {
     "name": "stdout",
     "output_type": "stream",
     "text": [
      "Step: 43\n"
     ]
    },
    {
     "name": "stderr",
     "output_type": "stream",
     "text": [
      "Processing sliding window:  81%|████████████████████████████▌      | 88/108 [00:27<00:04,  4.23it/s]"
     ]
    },
    {
     "name": "stdout",
     "output_type": "stream",
     "text": [
      "Step: 44\n"
     ]
    },
    {
     "name": "stderr",
     "output_type": "stream",
     "text": [
      "Processing sliding window:  83%|█████████████████████████████▏     | 90/108 [00:27<00:04,  4.34it/s]"
     ]
    },
    {
     "name": "stdout",
     "output_type": "stream",
     "text": [
      "Step: 45\n"
     ]
    },
    {
     "name": "stderr",
     "output_type": "stream",
     "text": [
      "Processing sliding window:  85%|█████████████████████████████▊     | 92/108 [00:28<00:03,  4.39it/s]/home/sf_afn/usr_sa/anaconda3/envs/prkng_v2_env/lib/python3.11/site-packages/sklearn/gaussian_process/kernels.py:419: ConvergenceWarning:\n",
      "\n",
      "The optimal value found for dimension 0 of parameter k1__k1__k1__k1__constant_value is close to the specified lower bound 1e-05. Decreasing the bound and calling fit again may find a better value.\n",
      "\n"
     ]
    },
    {
     "name": "stdout",
     "output_type": "stream",
     "text": [
      "Step: 46\n"
     ]
    },
    {
     "name": "stderr",
     "output_type": "stream",
     "text": [
      "Processing sliding window:  87%|██████████████████████████████▍    | 94/108 [00:28<00:03,  4.30it/s]"
     ]
    },
    {
     "name": "stdout",
     "output_type": "stream",
     "text": [
      "Step: 47\n"
     ]
    },
    {
     "name": "stderr",
     "output_type": "stream",
     "text": [
      "Processing sliding window:  89%|███████████████████████████████    | 96/108 [00:29<00:02,  4.19it/s]/home/sf_afn/usr_sa/anaconda3/envs/prkng_v2_env/lib/python3.11/site-packages/sklearn/gaussian_process/kernels.py:419: ConvergenceWarning:\n",
      "\n",
      "The optimal value found for dimension 0 of parameter k1__k1__k1__k1__constant_value is close to the specified lower bound 1e-05. Decreasing the bound and calling fit again may find a better value.\n",
      "\n",
      "/home/sf_afn/usr_sa/anaconda3/envs/prkng_v2_env/lib/python3.11/site-packages/sklearn/gaussian_process/kernels.py:429: ConvergenceWarning:\n",
      "\n",
      "The optimal value found for dimension 0 of parameter k1__k1__k1__k2__length_scale is close to the specified upper bound 1000.0. Increasing the bound and calling fit again may find a better value.\n",
      "\n"
     ]
    },
    {
     "name": "stdout",
     "output_type": "stream",
     "text": [
      "Step: 48\n"
     ]
    },
    {
     "name": "stderr",
     "output_type": "stream",
     "text": [
      "Processing sliding window:  91%|███████████████████████████████▊   | 98/108 [00:29<00:02,  4.15it/s]"
     ]
    },
    {
     "name": "stdout",
     "output_type": "stream",
     "text": [
      "Step: 49\n"
     ]
    },
    {
     "name": "stderr",
     "output_type": "stream",
     "text": [
      "Processing sliding window:  93%|███████████████████████████████▍  | 100/108 [00:30<00:01,  4.26it/s]"
     ]
    },
    {
     "name": "stdout",
     "output_type": "stream",
     "text": [
      "Step: 50\n"
     ]
    },
    {
     "name": "stderr",
     "output_type": "stream",
     "text": [
      "Processing sliding window:  94%|████████████████████████████████  | 102/108 [00:30<00:01,  4.30it/s]"
     ]
    },
    {
     "name": "stdout",
     "output_type": "stream",
     "text": [
      "Step: 51\n"
     ]
    },
    {
     "name": "stderr",
     "output_type": "stream",
     "text": [
      "Processing sliding window:  96%|████████████████████████████████▋ | 104/108 [00:31<00:00,  4.33it/s]"
     ]
    },
    {
     "name": "stdout",
     "output_type": "stream",
     "text": [
      "Step: 52\n"
     ]
    },
    {
     "name": "stderr",
     "output_type": "stream",
     "text": [
      "Processing sliding window:  98%|█████████████████████████████████▎| 106/108 [00:31<00:00,  4.13it/s]"
     ]
    },
    {
     "name": "stdout",
     "output_type": "stream",
     "text": [
      "Step: 53\n"
     ]
    },
    {
     "name": "stderr",
     "output_type": "stream",
     "text": [
      "Processing sliding window: 100%|██████████████████████████████████| 108/108 [00:32<00:00,  3.37it/s]\n"
     ]
    },
    {
     "name": "stdout",
     "output_type": "stream",
     "text": [
      "Step: 54\n",
      "Testing final GPR on test set\n"
     ]
    },
    {
     "name": "stderr",
     "output_type": "stream",
     "text": [
      "wandb: Network error (ConnectionError), entering retry loop.\n",
      "wandb: Network error (ConnectionError), entering retry loop.\n",
      "wandb: Network error (ConnectionError), entering retry loop.\n",
      "wandb: Network error (ConnectionError), entering retry loop.\n"
     ]
    },
    {
     "data": {
      "application/vnd.jupyter.widget-view+json": {
       "model_id": "76df604a6d6247a5ac4ee8c9e92fc92a",
       "version_major": 2,
       "version_minor": 0
      },
      "text/plain": [
       "VBox(children=(Label(value='89.791 MB of 89.912 MB uploaded\\r'), FloatProgress(value=0.9986580248762165, max=1…"
      ]
     },
     "metadata": {},
     "output_type": "display_data"
    },
    {
     "name": "stderr",
     "output_type": "stream",
     "text": [
      "wandb: WARNING Source type is set to 'repo' but some required information is missing from the environment. A job will not be created from this run. See https://docs.wandb.ai/guides/launch/create-job\n"
     ]
    },
    {
     "data": {
      "text/html": [
       "<style>\n",
       "    table.wandb td:nth-child(1) { padding: 0 10px; text-align: left ; width: auto;} td:nth-child(2) {text-align: left ; width: 100%}\n",
       "    .wandb-row { display: flex; flex-direction: row; flex-wrap: wrap; justify-content: flex-start; width: 100% }\n",
       "    .wandb-col { display: flex; flex-direction: column; flex-basis: 100%; flex: 1; padding: 10px; }\n",
       "    </style>\n",
       "<div class=\"wandb-row\"><div class=\"wandb-col\"><h3>Run history:</h3><br/><table class=\"wandb\"><tr><td>LML_test</td><td>▁</td></tr><tr><td>LML_train</td><td>▁▁▁▃▄▄▅▆▄▃▅▇███▆▆▆▅▅▇▆▆▄▅▅▇▅▃▃▄▃█▆▄▅▄▃▂▃</td></tr><tr><td>LML_validate</td><td>▁▁▁▃▄▄▅▅▅▃▅▆▇██▆▆▆▅▅▇▆▆▄▆▅▅▇▃▃▃▂▃██▄▅▄▃▃</td></tr><tr><td>MAE_test</td><td>▁</td></tr><tr><td>MAE_train</td><td>▆▁█▁▄▃▁▅▆▇▆▅▄▃▄▄▅▅▆▁▁▃▄▅▃▁▄▆▇█▅▄▁▄▁▂▅▂▁▁</td></tr><tr><td>MAE_validate</td><td>▄▇▅▃▇▇▅▄██▃▂▆▄▄▄▃▃▄▃▄▆▂▄▄▅▅▄▃▂▃▂▇▅▄▁▂▁▅▂</td></tr><tr><td>MAPE_test</td><td>▁</td></tr><tr><td>MAPE_train</td><td>▂▁▂▁▂▁▁▂▂▂▆▂▂▁▄▂▂▃▂▁▁▁▂▂▂▁█▂▂▂▂▁▁▁▁▁▁▁▁▁</td></tr><tr><td>MAPE_validate</td><td>███▃▄▃▃▅▇▄▃▃▄▂▂▂▂▂▄▂▄▄▅▂▆▂▄▂▂▄▂▁▂▄▃▂▁▃▂▅</td></tr><tr><td>MSE_test</td><td>▁</td></tr><tr><td>MSE_train</td><td>▄▁█▁▂▂▁▄▆▇▄▃▂▁▂▂▃▃▄▁▁▂▂▃▁▁▂▅▇█▃▃▁▂▁▁▃▁▁▁</td></tr><tr><td>MSE_validate</td><td>▂▆▃▂▆█▃▃▆▆▂▁▄▂▂▂▂▂▃▂▃▆▁▂▂▄▃▄▂▁▂▁█▄▂▁▂▁▄▂</td></tr><tr><td>R2_test</td><td>▁</td></tr><tr><td>R2_train</td><td>▆█▄█▇▇█▅▄▄▄▂▃▆▄▆▅▅▄███▇▆▇█▅▁▂▁▆▆█▇██▆███</td></tr><tr><td>R2_validate</td><td>█████████▁██████████████████████████████</td></tr><tr><td>RMSE_test</td><td>▁</td></tr><tr><td>RMSE_train</td><td>▆▁█▁▄▃▁▅▇▇▅▅▄▃▄▄▅▄▆▁▁▃▃▅▃▁▄▇██▄▅▁▄▁▂▅▂▁▁</td></tr><tr><td>RMSE_validate</td><td>▄▆▄▃▇█▄▅▇▇▃▂▅▃▄▄▃▃▄▃▄▇▂▄▃▅▅▅▃▂▃▂█▅▄▁▃▁▅▃</td></tr><tr><td>step</td><td>▁▁▁▂▂▂▂▂▂▃▃▃▃▃▄▄▄▄▄▄▅▅▅▅▅▅▆▆▆▆▆▇▇▇▇▇███▁</td></tr></table><br/></div><div class=\"wandb-col\"><h3>Run summary:</h3><br/><table class=\"wandb\"><tr><td>LML_test</td><td>-28.61514</td></tr><tr><td>LML_train</td><td>-28.61514</td></tr><tr><td>LML_validate</td><td>-28.61514</td></tr><tr><td>MAE_test</td><td>1.70746</td></tr><tr><td>MAE_train</td><td>0.0</td></tr><tr><td>MAE_validate</td><td>0.4</td></tr><tr><td>MAPE_test</td><td>576.55303</td></tr><tr><td>MAPE_train</td><td>0.00239</td></tr><tr><td>MAPE_validate</td><td>197.46578</td></tr><tr><td>MSE_test</td><td>3.06783</td></tr><tr><td>MSE_train</td><td>0.0</td></tr><tr><td>MSE_validate</td><td>0.54721</td></tr><tr><td>R2_test</td><td>-19.12863</td></tr><tr><td>R2_train</td><td>1.0</td></tr><tr><td>R2_validate</td><td>-0.23673</td></tr><tr><td>RMSE_test</td><td>1.75152</td></tr><tr><td>RMSE_train</td><td>1e-05</td></tr><tr><td>RMSE_validate</td><td>0.73974</td></tr><tr><td>step</td><td>1</td></tr></table><br/></div></div>"
      ],
      "text/plain": [
       "<IPython.core.display.HTML object>"
      ]
     },
     "metadata": {},
     "output_type": "display_data"
    },
    {
     "data": {
      "text/html": [
       " View run <strong style=\"color:#cdcd00\">Sliding_slakt_noisy_lp_gp:week</strong> at: <a href='https://wandb.ai/afn-sy/Merged_GPR_Experiments/runs/gba7h8sq' target=\"_blank\">https://wandb.ai/afn-sy/Merged_GPR_Experiments/runs/gba7h8sq</a><br/>Synced 7 W&B file(s), 328 media file(s), 110 artifact file(s) and 4 other file(s)"
      ],
      "text/plain": [
       "<IPython.core.display.HTML object>"
      ]
     },
     "metadata": {},
     "output_type": "display_data"
    },
    {
     "data": {
      "text/html": [
       "Find logs at: <code>./wandb/run-20240122_210634-gba7h8sq/logs</code>"
      ],
      "text/plain": [
       "<IPython.core.display.HTML object>"
      ]
     },
     "metadata": {},
     "output_type": "display_data"
    },
    {
     "data": {
      "application/vnd.jupyter.widget-view+json": {
       "model_id": "bb87a0092be948d19a3a0d6d1b974d21",
       "version_major": 2,
       "version_minor": 0
      },
      "text/plain": [
       "VBox(children=(Label(value='Waiting for wandb.init()...\\r'), FloatProgress(value=0.011112002399992585, max=1.0…"
      ]
     },
     "metadata": {},
     "output_type": "display_data"
    },
    {
     "data": {
      "text/html": [
       "Tracking run with wandb version 0.16.2"
      ],
      "text/plain": [
       "<IPython.core.display.HTML object>"
      ]
     },
     "metadata": {},
     "output_type": "display_data"
    },
    {
     "data": {
      "text/html": [
       "Run data is saved locally in <code>/home/sf_afn/Insync/sofiaa720@gmail.com/Google Drive/masters_thesis/code_v1/msc_parking/univrses/notebooks/wandb/run-20240122_210931-sruuamt8</code>"
      ],
      "text/plain": [
       "<IPython.core.display.HTML object>"
      ]
     },
     "metadata": {},
     "output_type": "display_data"
    },
    {
     "data": {
      "text/html": [
       "Syncing run <strong><a href='https://wandb.ai/afn-sy/Merged_GPR_Experiments/runs/sruuamt8' target=\"_blank\">Sliding_slakt_noisy_lp_gp:month</a></strong> to <a href='https://wandb.ai/afn-sy/Merged_GPR_Experiments' target=\"_blank\">Weights & Biases</a> (<a href='https://wandb.me/run' target=\"_blank\">docs</a>)<br/>"
      ],
      "text/plain": [
       "<IPython.core.display.HTML object>"
      ]
     },
     "metadata": {},
     "output_type": "display_data"
    },
    {
     "data": {
      "text/html": [
       " View project at <a href='https://wandb.ai/afn-sy/Merged_GPR_Experiments' target=\"_blank\">https://wandb.ai/afn-sy/Merged_GPR_Experiments</a>"
      ],
      "text/plain": [
       "<IPython.core.display.HTML object>"
      ]
     },
     "metadata": {},
     "output_type": "display_data"
    },
    {
     "data": {
      "text/html": [
       " View run at <a href='https://wandb.ai/afn-sy/Merged_GPR_Experiments/runs/sruuamt8' target=\"_blank\">https://wandb.ai/afn-sy/Merged_GPR_Experiments/runs/sruuamt8</a>"
      ],
      "text/plain": [
       "<IPython.core.display.HTML object>"
      ]
     },
     "metadata": {},
     "output_type": "display_data"
    },
    {
     "name": "stderr",
     "output_type": "stream",
     "text": [
      "Processing sliding window:   2%|▋                                   | 2/108 [00:00<00:26,  4.05it/s]"
     ]
    },
    {
     "name": "stdout",
     "output_type": "stream",
     "text": [
      "Step: 1\n"
     ]
    },
    {
     "name": "stderr",
     "output_type": "stream",
     "text": [
      "Processing sliding window:   4%|█▎                                  | 4/108 [00:01<00:27,  3.81it/s]"
     ]
    },
    {
     "name": "stdout",
     "output_type": "stream",
     "text": [
      "Step: 2\n"
     ]
    },
    {
     "name": "stderr",
     "output_type": "stream",
     "text": [
      "Processing sliding window:   6%|██                                  | 6/108 [00:01<00:27,  3.65it/s]"
     ]
    },
    {
     "name": "stdout",
     "output_type": "stream",
     "text": [
      "Step: 3\n"
     ]
    },
    {
     "name": "stderr",
     "output_type": "stream",
     "text": [
      "Processing sliding window:   7%|██▋                                 | 8/108 [00:02<00:27,  3.64it/s]"
     ]
    },
    {
     "name": "stdout",
     "output_type": "stream",
     "text": [
      "Step: 4\n"
     ]
    },
    {
     "name": "stderr",
     "output_type": "stream",
     "text": [
      "Processing sliding window:   9%|███▏                               | 10/108 [00:02<00:28,  3.40it/s]"
     ]
    },
    {
     "name": "stdout",
     "output_type": "stream",
     "text": [
      "Step: 5\n"
     ]
    },
    {
     "name": "stderr",
     "output_type": "stream",
     "text": [
      "Processing sliding window:  11%|███▉                               | 12/108 [00:03<00:28,  3.42it/s]"
     ]
    },
    {
     "name": "stdout",
     "output_type": "stream",
     "text": [
      "Step: 6\n"
     ]
    },
    {
     "name": "stderr",
     "output_type": "stream",
     "text": [
      "Processing sliding window:  13%|████▌                              | 14/108 [00:03<00:27,  3.43it/s]/home/sf_afn/usr_sa/anaconda3/envs/prkng_v2_env/lib/python3.11/site-packages/sklearn/gaussian_process/kernels.py:419: ConvergenceWarning:\n",
      "\n",
      "The optimal value found for dimension 0 of parameter k2__length_scale is close to the specified lower bound 0.1. Decreasing the bound and calling fit again may find a better value.\n",
      "\n"
     ]
    },
    {
     "name": "stdout",
     "output_type": "stream",
     "text": [
      "Step: 7\n"
     ]
    },
    {
     "name": "stderr",
     "output_type": "stream",
     "text": [
      "Processing sliding window:  15%|█████▏                             | 16/108 [00:04<00:27,  3.35it/s]/home/sf_afn/usr_sa/anaconda3/envs/prkng_v2_env/lib/python3.11/site-packages/sklearn/gaussian_process/kernels.py:419: ConvergenceWarning:\n",
      "\n",
      "The optimal value found for dimension 0 of parameter k2__length_scale is close to the specified lower bound 0.1. Decreasing the bound and calling fit again may find a better value.\n",
      "\n"
     ]
    },
    {
     "name": "stdout",
     "output_type": "stream",
     "text": [
      "Step: 8\n"
     ]
    },
    {
     "name": "stderr",
     "output_type": "stream",
     "text": [
      "Processing sliding window:  17%|█████▊                             | 18/108 [00:05<00:26,  3.37it/s]"
     ]
    },
    {
     "name": "stdout",
     "output_type": "stream",
     "text": [
      "Step: 9\n"
     ]
    },
    {
     "name": "stderr",
     "output_type": "stream",
     "text": [
      "Processing sliding window:  19%|██████▍                            | 20/108 [00:05<00:25,  3.42it/s]"
     ]
    },
    {
     "name": "stdout",
     "output_type": "stream",
     "text": [
      "Step: 10\n"
     ]
    },
    {
     "name": "stderr",
     "output_type": "stream",
     "text": [
      "Processing sliding window:  20%|███████▏                           | 22/108 [00:06<00:24,  3.50it/s]/home/sf_afn/usr_sa/anaconda3/envs/prkng_v2_env/lib/python3.11/site-packages/sklearn/gaussian_process/kernels.py:419: ConvergenceWarning:\n",
      "\n",
      "The optimal value found for dimension 0 of parameter k1__k1__k1__k1__constant_value is close to the specified lower bound 1e-05. Decreasing the bound and calling fit again may find a better value.\n",
      "\n",
      "/home/sf_afn/usr_sa/anaconda3/envs/prkng_v2_env/lib/python3.11/site-packages/sklearn/gaussian_process/kernels.py:419: ConvergenceWarning:\n",
      "\n",
      "The optimal value found for dimension 0 of parameter k2__length_scale is close to the specified lower bound 0.1. Decreasing the bound and calling fit again may find a better value.\n",
      "\n"
     ]
    },
    {
     "name": "stdout",
     "output_type": "stream",
     "text": [
      "Step: 11\n"
     ]
    },
    {
     "name": "stderr",
     "output_type": "stream",
     "text": [
      "Processing sliding window:  22%|███████▊                           | 24/108 [00:06<00:24,  3.45it/s]/home/sf_afn/usr_sa/anaconda3/envs/prkng_v2_env/lib/python3.11/site-packages/sklearn/gaussian_process/kernels.py:419: ConvergenceWarning:\n",
      "\n",
      "The optimal value found for dimension 0 of parameter k1__k1__k1__k1__constant_value is close to the specified lower bound 1e-05. Decreasing the bound and calling fit again may find a better value.\n",
      "\n"
     ]
    },
    {
     "name": "stdout",
     "output_type": "stream",
     "text": [
      "Step: 12\n"
     ]
    },
    {
     "name": "stderr",
     "output_type": "stream",
     "text": [
      "Processing sliding window:  24%|████████▍                          | 26/108 [00:07<00:25,  3.26it/s]"
     ]
    },
    {
     "name": "stdout",
     "output_type": "stream",
     "text": [
      "Step: 13\n"
     ]
    },
    {
     "name": "stderr",
     "output_type": "stream",
     "text": [
      "Processing sliding window:  26%|█████████                          | 28/108 [00:08<00:24,  3.32it/s]"
     ]
    },
    {
     "name": "stdout",
     "output_type": "stream",
     "text": [
      "Step: 14\n"
     ]
    },
    {
     "name": "stderr",
     "output_type": "stream",
     "text": [
      "Processing sliding window:  28%|█████████▋                         | 30/108 [00:08<00:23,  3.35it/s]"
     ]
    },
    {
     "name": "stdout",
     "output_type": "stream",
     "text": [
      "Step: 15\n"
     ]
    },
    {
     "name": "stderr",
     "output_type": "stream",
     "text": [
      "Processing sliding window:  30%|██████████▎                        | 32/108 [00:09<00:21,  3.62it/s]"
     ]
    },
    {
     "name": "stdout",
     "output_type": "stream",
     "text": [
      "Step: 16\n"
     ]
    },
    {
     "name": "stderr",
     "output_type": "stream",
     "text": [
      "Processing sliding window:  31%|███████████                        | 34/108 [00:09<00:19,  3.83it/s]"
     ]
    },
    {
     "name": "stdout",
     "output_type": "stream",
     "text": [
      "Step: 17\n"
     ]
    },
    {
     "name": "stderr",
     "output_type": "stream",
     "text": [
      "Processing sliding window:  33%|███████████▋                       | 36/108 [00:10<00:18,  3.97it/s]"
     ]
    },
    {
     "name": "stdout",
     "output_type": "stream",
     "text": [
      "Step: 18\n"
     ]
    },
    {
     "name": "stderr",
     "output_type": "stream",
     "text": [
      "Processing sliding window:  35%|████████████▎                      | 38/108 [00:10<00:17,  4.00it/s]"
     ]
    },
    {
     "name": "stdout",
     "output_type": "stream",
     "text": [
      "Step: 19\n"
     ]
    },
    {
     "name": "stderr",
     "output_type": "stream",
     "text": [
      "Processing sliding window:  37%|████████████▉                      | 40/108 [00:11<00:16,  4.07it/s]"
     ]
    },
    {
     "name": "stdout",
     "output_type": "stream",
     "text": [
      "Step: 20\n"
     ]
    },
    {
     "name": "stderr",
     "output_type": "stream",
     "text": [
      "Processing sliding window:  39%|█████████████▌                     | 42/108 [00:11<00:15,  4.22it/s]"
     ]
    },
    {
     "name": "stdout",
     "output_type": "stream",
     "text": [
      "Step: 21\n"
     ]
    },
    {
     "name": "stderr",
     "output_type": "stream",
     "text": [
      "Processing sliding window:  41%|██████████████▎                    | 44/108 [00:12<00:16,  3.94it/s]"
     ]
    },
    {
     "name": "stdout",
     "output_type": "stream",
     "text": [
      "Step: 22\n"
     ]
    },
    {
     "name": "stderr",
     "output_type": "stream",
     "text": [
      "Processing sliding window:  43%|██████████████▉                    | 46/108 [00:12<00:15,  3.99it/s]"
     ]
    },
    {
     "name": "stdout",
     "output_type": "stream",
     "text": [
      "Step: 23\n"
     ]
    },
    {
     "name": "stderr",
     "output_type": "stream",
     "text": [
      "Processing sliding window:  44%|███████████████▌                   | 48/108 [00:12<00:14,  4.20it/s]"
     ]
    },
    {
     "name": "stdout",
     "output_type": "stream",
     "text": [
      "Step: 24\n"
     ]
    },
    {
     "name": "stderr",
     "output_type": "stream",
     "text": [
      "Processing sliding window:  46%|████████████████▏                  | 50/108 [00:13<00:13,  4.18it/s]"
     ]
    },
    {
     "name": "stdout",
     "output_type": "stream",
     "text": [
      "Step: 25\n"
     ]
    },
    {
     "name": "stderr",
     "output_type": "stream",
     "text": [
      "Processing sliding window:  48%|████████████████▊                  | 52/108 [00:14<00:14,  3.79it/s]"
     ]
    },
    {
     "name": "stdout",
     "output_type": "stream",
     "text": [
      "Step: 26\n"
     ]
    },
    {
     "name": "stderr",
     "output_type": "stream",
     "text": [
      "Processing sliding window:  50%|█████████████████▌                 | 54/108 [00:14<00:14,  3.63it/s]/home/sf_afn/usr_sa/anaconda3/envs/prkng_v2_env/lib/python3.11/site-packages/sklearn/gaussian_process/kernels.py:419: ConvergenceWarning:\n",
      "\n",
      "The optimal value found for dimension 0 of parameter k1__k2__noise_level is close to the specified lower bound 1e-10. Decreasing the bound and calling fit again may find a better value.\n",
      "\n"
     ]
    },
    {
     "name": "stdout",
     "output_type": "stream",
     "text": [
      "Step: 27\n"
     ]
    },
    {
     "name": "stderr",
     "output_type": "stream",
     "text": [
      "Processing sliding window:  52%|██████████████████▏                | 56/108 [00:15<00:14,  3.49it/s]"
     ]
    },
    {
     "name": "stdout",
     "output_type": "stream",
     "text": [
      "Step: 28\n"
     ]
    },
    {
     "name": "stderr",
     "output_type": "stream",
     "text": [
      "Processing sliding window:  54%|██████████████████▊                | 58/108 [00:15<00:14,  3.42it/s]"
     ]
    },
    {
     "name": "stdout",
     "output_type": "stream",
     "text": [
      "Step: 29\n"
     ]
    },
    {
     "name": "stderr",
     "output_type": "stream",
     "text": [
      "Processing sliding window:  56%|███████████████████▍               | 60/108 [00:16<00:14,  3.37it/s]"
     ]
    },
    {
     "name": "stdout",
     "output_type": "stream",
     "text": [
      "Step: 30\n"
     ]
    },
    {
     "name": "stderr",
     "output_type": "stream",
     "text": [
      "Processing sliding window:  57%|████████████████████               | 62/108 [00:17<00:13,  3.51it/s]"
     ]
    },
    {
     "name": "stdout",
     "output_type": "stream",
     "text": [
      "Step: 31\n"
     ]
    },
    {
     "name": "stderr",
     "output_type": "stream",
     "text": [
      "Processing sliding window:  59%|████████████████████▋              | 64/108 [00:17<00:11,  3.74it/s]/home/sf_afn/usr_sa/anaconda3/envs/prkng_v2_env/lib/python3.11/site-packages/sklearn/gaussian_process/kernels.py:419: ConvergenceWarning:\n",
      "\n",
      "The optimal value found for dimension 0 of parameter k1__k2__noise_level is close to the specified lower bound 1e-10. Decreasing the bound and calling fit again may find a better value.\n",
      "\n"
     ]
    },
    {
     "name": "stdout",
     "output_type": "stream",
     "text": [
      "Step: 32\n"
     ]
    },
    {
     "name": "stderr",
     "output_type": "stream",
     "text": [
      "Processing sliding window:  61%|█████████████████████▍             | 66/108 [00:18<00:10,  3.86it/s]"
     ]
    },
    {
     "name": "stdout",
     "output_type": "stream",
     "text": [
      "Step: 33\n"
     ]
    },
    {
     "name": "stderr",
     "output_type": "stream",
     "text": [
      "Processing sliding window:  63%|██████████████████████             | 68/108 [00:18<00:09,  4.06it/s]"
     ]
    },
    {
     "name": "stdout",
     "output_type": "stream",
     "text": [
      "Step: 34\n"
     ]
    },
    {
     "name": "stderr",
     "output_type": "stream",
     "text": [
      "Processing sliding window:  65%|██████████████████████▋            | 70/108 [00:18<00:09,  4.18it/s]"
     ]
    },
    {
     "name": "stdout",
     "output_type": "stream",
     "text": [
      "Step: 35\n"
     ]
    },
    {
     "name": "stderr",
     "output_type": "stream",
     "text": [
      "Processing sliding window:  67%|███████████████████████▎           | 72/108 [00:19<00:08,  4.20it/s]"
     ]
    },
    {
     "name": "stdout",
     "output_type": "stream",
     "text": [
      "Step: 36\n"
     ]
    },
    {
     "name": "stderr",
     "output_type": "stream",
     "text": [
      "Processing sliding window:  69%|███████████████████████▉           | 74/108 [00:19<00:08,  4.25it/s]"
     ]
    },
    {
     "name": "stdout",
     "output_type": "stream",
     "text": [
      "Step: 37\n"
     ]
    },
    {
     "name": "stderr",
     "output_type": "stream",
     "text": [
      "Processing sliding window:  70%|████████████████████████▋          | 76/108 [00:20<00:07,  4.37it/s]"
     ]
    },
    {
     "name": "stdout",
     "output_type": "stream",
     "text": [
      "Step: 38\n"
     ]
    },
    {
     "name": "stderr",
     "output_type": "stream",
     "text": [
      "Processing sliding window:  72%|█████████████████████████▎         | 78/108 [00:20<00:06,  4.41it/s]"
     ]
    },
    {
     "name": "stdout",
     "output_type": "stream",
     "text": [
      "Step: 39\n"
     ]
    },
    {
     "name": "stderr",
     "output_type": "stream",
     "text": [
      "Processing sliding window:  74%|█████████████████████████▉         | 80/108 [00:21<00:06,  4.45it/s]"
     ]
    },
    {
     "name": "stdout",
     "output_type": "stream",
     "text": [
      "Step: 40\n"
     ]
    },
    {
     "name": "stderr",
     "output_type": "stream",
     "text": [
      "Processing sliding window:  76%|██████████████████████████▌        | 82/108 [00:21<00:05,  4.45it/s]"
     ]
    },
    {
     "name": "stdout",
     "output_type": "stream",
     "text": [
      "Step: 41\n"
     ]
    },
    {
     "name": "stderr",
     "output_type": "stream",
     "text": [
      "Processing sliding window:  78%|███████████████████████████▏       | 84/108 [00:22<00:05,  4.41it/s]"
     ]
    },
    {
     "name": "stdout",
     "output_type": "stream",
     "text": [
      "Step: 42\n"
     ]
    },
    {
     "name": "stderr",
     "output_type": "stream",
     "text": [
      "Processing sliding window:  80%|███████████████████████████▊       | 86/108 [00:22<00:04,  4.50it/s]"
     ]
    },
    {
     "name": "stdout",
     "output_type": "stream",
     "text": [
      "Step: 43\n"
     ]
    },
    {
     "name": "stderr",
     "output_type": "stream",
     "text": [
      "Processing sliding window:  81%|████████████████████████████▌      | 88/108 [00:22<00:04,  4.62it/s]"
     ]
    },
    {
     "name": "stdout",
     "output_type": "stream",
     "text": [
      "Step: 44\n"
     ]
    },
    {
     "name": "stderr",
     "output_type": "stream",
     "text": [
      "Processing sliding window:  83%|█████████████████████████████▏     | 90/108 [00:23<00:03,  4.57it/s]"
     ]
    },
    {
     "name": "stdout",
     "output_type": "stream",
     "text": [
      "Step: 45\n"
     ]
    },
    {
     "name": "stderr",
     "output_type": "stream",
     "text": [
      "Processing sliding window:  85%|█████████████████████████████▊     | 92/108 [00:23<00:03,  4.45it/s]/home/sf_afn/usr_sa/anaconda3/envs/prkng_v2_env/lib/python3.11/site-packages/sklearn/gaussian_process/kernels.py:419: ConvergenceWarning:\n",
      "\n",
      "The optimal value found for dimension 0 of parameter k1__k1__k1__k1__constant_value is close to the specified lower bound 1e-05. Decreasing the bound and calling fit again may find a better value.\n",
      "\n"
     ]
    },
    {
     "name": "stdout",
     "output_type": "stream",
     "text": [
      "Step: 46\n"
     ]
    },
    {
     "name": "stderr",
     "output_type": "stream",
     "text": [
      "Processing sliding window:  87%|██████████████████████████████▍    | 94/108 [00:28<00:12,  1.09it/s]"
     ]
    },
    {
     "name": "stdout",
     "output_type": "stream",
     "text": [
      "Step: 47\n"
     ]
    },
    {
     "name": "stderr",
     "output_type": "stream",
     "text": [
      "Processing sliding window:  89%|███████████████████████████████    | 96/108 [00:34<00:17,  1.42s/it]/home/sf_afn/usr_sa/anaconda3/envs/prkng_v2_env/lib/python3.11/site-packages/sklearn/gaussian_process/kernels.py:419: ConvergenceWarning:\n",
      "\n",
      "The optimal value found for dimension 0 of parameter k1__k1__k1__k1__constant_value is close to the specified lower bound 1e-05. Decreasing the bound and calling fit again may find a better value.\n",
      "\n",
      "/home/sf_afn/usr_sa/anaconda3/envs/prkng_v2_env/lib/python3.11/site-packages/sklearn/gaussian_process/kernels.py:429: ConvergenceWarning:\n",
      "\n",
      "The optimal value found for dimension 0 of parameter k1__k1__k1__k2__length_scale is close to the specified upper bound 1000.0. Increasing the bound and calling fit again may find a better value.\n",
      "\n"
     ]
    },
    {
     "name": "stdout",
     "output_type": "stream",
     "text": [
      "Step: 48\n"
     ]
    },
    {
     "name": "stderr",
     "output_type": "stream",
     "text": [
      "Processing sliding window:  91%|███████████████████████████████▊   | 98/108 [00:40<00:19,  1.99s/it]"
     ]
    },
    {
     "name": "stdout",
     "output_type": "stream",
     "text": [
      "Step: 49\n"
     ]
    },
    {
     "name": "stderr",
     "output_type": "stream",
     "text": [
      "\u001b[34m\u001b[1mwandb\u001b[0m: Network error (ConnectionError), entering retry loop.\n",
      "Processing sliding window:  93%|███████████████████████████████▍  | 100/108 [00:49<00:21,  2.74s/it]"
     ]
    },
    {
     "name": "stdout",
     "output_type": "stream",
     "text": [
      "Step: 50\n"
     ]
    },
    {
     "name": "stderr",
     "output_type": "stream",
     "text": [
      "\u001b[34m\u001b[1mwandb\u001b[0m: Network error (ConnectionError), entering retry loop.\n",
      "Processing sliding window:  94%|████████████████████████████████  | 102/108 [01:09<00:29,  4.86s/it]"
     ]
    },
    {
     "name": "stdout",
     "output_type": "stream",
     "text": [
      "Step: 51\n"
     ]
    },
    {
     "name": "stderr",
     "output_type": "stream",
     "text": [
      "\u001b[34m\u001b[1mwandb\u001b[0m: Network error (ConnectionError), entering retry loop.\n",
      "Processing sliding window:  96%|████████████████████████████████▋ | 104/108 [01:48<00:37,  9.35s/it]"
     ]
    },
    {
     "name": "stdout",
     "output_type": "stream",
     "text": [
      "Step: 52\n"
     ]
    },
    {
     "name": "stderr",
     "output_type": "stream",
     "text": [
      "Processing sliding window:  98%|█████████████████████████████████▎| 106/108 [01:51<00:13,  6.96s/it]"
     ]
    },
    {
     "name": "stdout",
     "output_type": "stream",
     "text": [
      "Step: 53\n"
     ]
    },
    {
     "name": "stderr",
     "output_type": "stream",
     "text": [
      "\u001b[34m\u001b[1mwandb\u001b[0m: Network error (ConnectionError), entering retry loop.\n",
      "Processing sliding window: 100%|██████████████████████████████████| 108/108 [02:00<00:00,  1.11s/it]\n"
     ]
    },
    {
     "name": "stdout",
     "output_type": "stream",
     "text": [
      "Step: 54\n",
      "Testing final GPR on test set\n"
     ]
    },
    {
     "data": {
      "application/vnd.jupyter.widget-view+json": {
       "model_id": "ee70e086c77c422da0fa238f7b94361c",
       "version_major": 2,
       "version_minor": 0
      },
      "text/plain": [
       "VBox(children=(Label(value='89.882 MB of 89.903 MB uploaded\\r'), FloatProgress(value=0.9997654717767152, max=1…"
      ]
     },
     "metadata": {},
     "output_type": "display_data"
    },
    {
     "name": "stderr",
     "output_type": "stream",
     "text": [
      "wandb: WARNING Source type is set to 'repo' but some required information is missing from the environment. A job will not be created from this run. See https://docs.wandb.ai/guides/launch/create-job\n"
     ]
    },
    {
     "data": {
      "text/html": [
       "<style>\n",
       "    table.wandb td:nth-child(1) { padding: 0 10px; text-align: left ; width: auto;} td:nth-child(2) {text-align: left ; width: 100%}\n",
       "    .wandb-row { display: flex; flex-direction: row; flex-wrap: wrap; justify-content: flex-start; width: 100% }\n",
       "    .wandb-col { display: flex; flex-direction: column; flex-basis: 100%; flex: 1; padding: 10px; }\n",
       "    </style>\n",
       "<div class=\"wandb-row\"><div class=\"wandb-col\"><h3>Run history:</h3><br/><table class=\"wandb\"><tr><td>LML_test</td><td>▁</td></tr><tr><td>LML_train</td><td>▁▁▁▃▄▄▅▆▄▃▅▇███▆▆▆▅▅▇▆▆▄▅▅▇▅▃▃▄▃█▆▄▅▄▃▂▃</td></tr><tr><td>LML_validate</td><td>▁▁▁▃▄▄▅▅▅▃▅▆▇██▆▆▆▅▅▇▆▆▄▆▅▅▇▃▃▃▂▃██▄▅▄▃▃</td></tr><tr><td>MAE_test</td><td>▁</td></tr><tr><td>MAE_train</td><td>▆▁█▁▄▃▁▅▆▇▆▅▄▃▄▄▅▅▆▁▁▃▄▅▃▁▄▆▇█▅▄▁▄▁▂▅▂▁▁</td></tr><tr><td>MAE_validate</td><td>▄▇▅▃▇▇▅▄██▃▂▆▄▄▄▃▃▄▃▄▆▂▄▄▅▅▄▃▂▃▂▇▅▄▁▂▁▅▂</td></tr><tr><td>MAPE_test</td><td>▁</td></tr><tr><td>MAPE_train</td><td>▂▁▂▁▂▁▁▂▂▂▆▂▂▁▄▂▂▃▂▁▁▁▂▂▂▁█▂▂▂▂▁▁▁▁▁▁▁▁▁</td></tr><tr><td>MAPE_validate</td><td>███▃▄▃▃▅▇▄▃▃▄▂▂▂▂▂▄▂▄▄▅▂▆▂▄▂▂▄▂▁▂▄▃▂▁▃▂▅</td></tr><tr><td>MSE_test</td><td>▁</td></tr><tr><td>MSE_train</td><td>▄▁█▁▂▂▁▄▆▇▄▃▂▁▂▂▃▃▄▁▁▂▂▃▁▁▂▅▇█▃▃▁▂▁▁▃▁▁▁</td></tr><tr><td>MSE_validate</td><td>▂▆▃▂▆█▃▃▆▆▂▁▄▂▂▂▂▂▃▂▃▆▁▂▂▄▃▄▂▁▂▁█▄▂▁▂▁▄▂</td></tr><tr><td>R2_test</td><td>▁</td></tr><tr><td>R2_train</td><td>▆█▄█▇▇█▅▄▄▄▂▃▆▄▆▅▅▄███▇▆▇█▅▁▂▁▆▆█▇██▆███</td></tr><tr><td>R2_validate</td><td>█████████▁██████████████████████████████</td></tr><tr><td>RMSE_test</td><td>▁</td></tr><tr><td>RMSE_train</td><td>▆▁█▁▄▃▁▅▇▇▅▅▄▃▄▄▅▄▆▁▁▃▃▅▃▁▄▇██▄▅▁▄▁▂▅▂▁▁</td></tr><tr><td>RMSE_validate</td><td>▄▆▄▃▇█▄▅▇▇▃▂▅▃▄▄▃▃▄▃▄▇▂▄▃▅▅▅▃▂▃▂█▅▄▁▃▁▅▃</td></tr><tr><td>step</td><td>▁▁▁▂▂▂▂▂▂▃▃▃▃▃▄▄▄▄▄▄▅▅▅▅▅▅▆▆▆▆▆▇▇▇▇▇███▁</td></tr></table><br/></div><div class=\"wandb-col\"><h3>Run summary:</h3><br/><table class=\"wandb\"><tr><td>LML_test</td><td>-28.61514</td></tr><tr><td>LML_train</td><td>-28.61514</td></tr><tr><td>LML_validate</td><td>-28.61514</td></tr><tr><td>MAE_test</td><td>1.19247</td></tr><tr><td>MAE_train</td><td>0.0</td></tr><tr><td>MAE_validate</td><td>0.4</td></tr><tr><td>MAPE_test</td><td>196.39839</td></tr><tr><td>MAPE_train</td><td>0.00239</td></tr><tr><td>MAPE_validate</td><td>197.46578</td></tr><tr><td>MSE_test</td><td>1.69642</td></tr><tr><td>MSE_train</td><td>0.0</td></tr><tr><td>MSE_validate</td><td>0.54721</td></tr><tr><td>R2_test</td><td>-2.88707</td></tr><tr><td>R2_train</td><td>1.0</td></tr><tr><td>R2_validate</td><td>-0.23673</td></tr><tr><td>RMSE_test</td><td>1.30247</td></tr><tr><td>RMSE_train</td><td>1e-05</td></tr><tr><td>RMSE_validate</td><td>0.73974</td></tr><tr><td>step</td><td>1</td></tr></table><br/></div></div>"
      ],
      "text/plain": [
       "<IPython.core.display.HTML object>"
      ]
     },
     "metadata": {},
     "output_type": "display_data"
    },
    {
     "data": {
      "text/html": [
       " View run <strong style=\"color:#cdcd00\">Sliding_slakt_noisy_lp_gp:month</strong> at: <a href='https://wandb.ai/afn-sy/Merged_GPR_Experiments/runs/sruuamt8' target=\"_blank\">https://wandb.ai/afn-sy/Merged_GPR_Experiments/runs/sruuamt8</a><br/>Synced 7 W&B file(s), 328 media file(s), 110 artifact file(s) and 4 other file(s)"
      ],
      "text/plain": [
       "<IPython.core.display.HTML object>"
      ]
     },
     "metadata": {},
     "output_type": "display_data"
    },
    {
     "data": {
      "text/html": [
       "Find logs at: <code>./wandb/run-20240122_210931-sruuamt8/logs</code>"
      ],
      "text/plain": [
       "<IPython.core.display.HTML object>"
      ]
     },
     "metadata": {},
     "output_type": "display_data"
    },
    {
     "name": "stdout",
     "output_type": "stream",
     "text": [
      "All experiments completed.\n"
     ]
    }
   ],
   "source": [
    "\n",
    "# Iterate through each dataset\n",
    "for dataset_name, data in datasets.items():\n",
    "    # Iterate through each kernel\n",
    "    train,valid ,test = split_data(data, train_ratio= 0.8,valid_ratio=0)\n",
    "    \n",
    "    for kernel_name, kernel in kernels.items():\n",
    "        # Initialize the Gaussian Process Regressor with the current kernel\n",
    "        gpr = GaussianProcessRegressor(kernel=kernel)\n",
    "\n",
    "        # Iterate through each feature\n",
    "        for feature_name, feature_data in features.items():\n",
    "            if wandb.run is not None:\n",
    "                wandb.run.finish()\n",
    "                \n",
    "            run = wandb.init(project=\"Merged_GPR_Experiments\",\n",
    "                             name=f\"Sliding_{dataset_name}_{kernel_name}:{feature_name}\") \n",
    "\n",
    "            try:\n",
    "                # Initialize a wandb run for tracking\n",
    "                config = wandb.config\n",
    "                # config.ini_train_win_len = 24\n",
    "                config.ini_train_win_len = 24 * 7\n",
    "                config.valid_win_len = 24\n",
    "                # config.valid_win_len = 24 *7\n",
    "                config.step_size = 1 # 24 hours or 1 day\n",
    "\n",
    "                # Call the expanding window function\n",
    "                y_pred, y_std, gpr = sliding_window_gpr_process(run,\n",
    "                                                                train,\n",
    "                                                                gpr,\n",
    "                                                                test, \n",
    "                                                                train_win_len=config.ini_train_win_len, \n",
    "                                                                valid_win_len=config.valid_win_len,\n",
    "                                                                features=feature_data,\n",
    "                                                                target='centered_car_count',\n",
    "                                                                agg_func='mean')\n",
    "            except Exception as e:\n",
    "                print(f\"An error occurred: {e}\")\n",
    "            finally:\n",
    "                run.finish()\n",
    "\n",
    "\n",
    "print('All experiments completed.')\n"
   ]
  },
  {
   "cell_type": "code",
   "execution_count": 11,
   "metadata": {},
   "outputs": [
    {
     "data": {
      "application/vnd.jupyter.widget-view+json": {
       "model_id": "a1a71d97fb8f49ce8cadd0902748cf73",
       "version_major": 2,
       "version_minor": 0
      },
      "text/plain": [
       "VBox(children=(Label(value='Waiting for wandb.init()...\\r'), FloatProgress(value=0.011112136533322175, max=1.0…"
      ]
     },
     "metadata": {},
     "output_type": "display_data"
    },
    {
     "data": {
      "text/html": [
       "Tracking run with wandb version 0.16.2"
      ],
      "text/plain": [
       "<IPython.core.display.HTML object>"
      ]
     },
     "metadata": {},
     "output_type": "display_data"
    },
    {
     "data": {
      "text/html": [
       "Run data is saved locally in <code>/home/sf_afn/Insync/sofiaa720@gmail.com/Google Drive/masters_thesis/code_v1/msc_parking/univrses/notebooks/wandb/run-20240122_211204-moyw6y8a</code>"
      ],
      "text/plain": [
       "<IPython.core.display.HTML object>"
      ]
     },
     "metadata": {},
     "output_type": "display_data"
    },
    {
     "data": {
      "text/html": [
       "Syncing run <strong><a href='https://wandb.ai/afn-sy/Merged_GPR_Experiments/runs/moyw6y8a' target=\"_blank\">Expand_kris_noisy_lp_gp:hour</a></strong> to <a href='https://wandb.ai/afn-sy/Merged_GPR_Experiments' target=\"_blank\">Weights & Biases</a> (<a href='https://wandb.me/run' target=\"_blank\">docs</a>)<br/>"
      ],
      "text/plain": [
       "<IPython.core.display.HTML object>"
      ]
     },
     "metadata": {},
     "output_type": "display_data"
    },
    {
     "data": {
      "text/html": [
       " View project at <a href='https://wandb.ai/afn-sy/Merged_GPR_Experiments' target=\"_blank\">https://wandb.ai/afn-sy/Merged_GPR_Experiments</a>"
      ],
      "text/plain": [
       "<IPython.core.display.HTML object>"
      ]
     },
     "metadata": {},
     "output_type": "display_data"
    },
    {
     "data": {
      "text/html": [
       " View run at <a href='https://wandb.ai/afn-sy/Merged_GPR_Experiments/runs/moyw6y8a' target=\"_blank\">https://wandb.ai/afn-sy/Merged_GPR_Experiments/runs/moyw6y8a</a>"
      ],
      "text/plain": [
       "<IPython.core.display.HTML object>"
      ]
     },
     "metadata": {},
     "output_type": "display_data"
    },
    {
     "name": "stderr",
     "output_type": "stream",
     "text": [
      "Processing expanding window:   0%|                                          | 0/108 [00:00<?, ?it/s]/home/sf_afn/usr_sa/anaconda3/envs/prkng_v2_env/lib/python3.11/site-packages/sklearn/gaussian_process/kernels.py:429: ConvergenceWarning:\n",
      "\n",
      "The optimal value found for dimension 0 of parameter k1__k1__k1__k2__length_scale is close to the specified upper bound 1000.0. Increasing the bound and calling fit again may find a better value.\n",
      "\n",
      "Processing expanding window:   2%|▋                                 | 2/108 [00:00<00:22,  4.77it/s]"
     ]
    },
    {
     "name": "stdout",
     "output_type": "stream",
     "text": [
      "Step: 1\n"
     ]
    },
    {
     "name": "stderr",
     "output_type": "stream",
     "text": [
      "Processing expanding window:   4%|█▎                                | 4/108 [00:01<00:27,  3.85it/s]/home/sf_afn/usr_sa/anaconda3/envs/prkng_v2_env/lib/python3.11/site-packages/sklearn/gaussian_process/kernels.py:429: ConvergenceWarning:\n",
      "\n",
      "The optimal value found for dimension 0 of parameter k1__k1__k1__k2__length_scale is close to the specified upper bound 1000.0. Increasing the bound and calling fit again may find a better value.\n",
      "\n"
     ]
    },
    {
     "name": "stdout",
     "output_type": "stream",
     "text": [
      "Step: 2\n"
     ]
    },
    {
     "name": "stderr",
     "output_type": "stream",
     "text": [
      "Processing expanding window:   6%|█▉                                | 6/108 [00:01<00:27,  3.72it/s]"
     ]
    },
    {
     "name": "stdout",
     "output_type": "stream",
     "text": [
      "Step: 3\n"
     ]
    },
    {
     "name": "stderr",
     "output_type": "stream",
     "text": [
      "Processing expanding window:   7%|██▌                               | 8/108 [00:02<00:29,  3.39it/s]"
     ]
    },
    {
     "name": "stdout",
     "output_type": "stream",
     "text": [
      "Step: 4\n"
     ]
    },
    {
     "name": "stderr",
     "output_type": "stream",
     "text": [
      "Processing expanding window:   9%|███                              | 10/108 [00:02<00:28,  3.38it/s]/home/sf_afn/usr_sa/anaconda3/envs/prkng_v2_env/lib/python3.11/site-packages/sklearn/gaussian_process/kernels.py:429: ConvergenceWarning:\n",
      "\n",
      "The optimal value found for dimension 0 of parameter k1__k1__k1__k2__length_scale is close to the specified upper bound 1000.0. Increasing the bound and calling fit again may find a better value.\n",
      "\n"
     ]
    },
    {
     "name": "stdout",
     "output_type": "stream",
     "text": [
      "Step: 5\n"
     ]
    },
    {
     "name": "stderr",
     "output_type": "stream",
     "text": [
      "Processing expanding window:  12%|███▉                             | 13/108 [00:03<00:25,  3.76it/s]"
     ]
    },
    {
     "name": "stdout",
     "output_type": "stream",
     "text": [
      "Step: 6\n"
     ]
    },
    {
     "name": "stderr",
     "output_type": "stream",
     "text": [
      "Processing expanding window:  13%|████▎                            | 14/108 [00:04<00:30,  3.07it/s]"
     ]
    },
    {
     "name": "stdout",
     "output_type": "stream",
     "text": [
      "Step: 7\n"
     ]
    },
    {
     "name": "stderr",
     "output_type": "stream",
     "text": [
      "Processing expanding window:  15%|████▉                            | 16/108 [00:04<00:29,  3.11it/s]/home/sf_afn/usr_sa/anaconda3/envs/prkng_v2_env/lib/python3.11/site-packages/sklearn/gaussian_process/kernels.py:429: ConvergenceWarning:\n",
      "\n",
      "The optimal value found for dimension 0 of parameter k1__k1__k1__k2__length_scale is close to the specified upper bound 1000.0. Increasing the bound and calling fit again may find a better value.\n",
      "\n"
     ]
    },
    {
     "name": "stdout",
     "output_type": "stream",
     "text": [
      "Step: 8\n"
     ]
    },
    {
     "name": "stderr",
     "output_type": "stream",
     "text": [
      "Processing expanding window:  17%|█████▌                           | 18/108 [00:05<00:28,  3.21it/s]/home/sf_afn/usr_sa/anaconda3/envs/prkng_v2_env/lib/python3.11/site-packages/sklearn/gaussian_process/kernels.py:429: ConvergenceWarning:\n",
      "\n",
      "The optimal value found for dimension 0 of parameter k1__k1__k1__k2__length_scale is close to the specified upper bound 1000.0. Increasing the bound and calling fit again may find a better value.\n",
      "\n",
      "Processing expanding window:  18%|█████▊                           | 19/108 [00:05<00:23,  3.72it/s]"
     ]
    },
    {
     "name": "stdout",
     "output_type": "stream",
     "text": [
      "Step: 9\n"
     ]
    },
    {
     "name": "stderr",
     "output_type": "stream",
     "text": [
      "Processing expanding window:  19%|██████▍                          | 21/108 [00:06<00:23,  3.66it/s]"
     ]
    },
    {
     "name": "stdout",
     "output_type": "stream",
     "text": [
      "Step: 10\n"
     ]
    },
    {
     "name": "stderr",
     "output_type": "stream",
     "text": [
      "Processing expanding window:  20%|██████▋                          | 22/108 [00:06<00:28,  3.00it/s]/home/sf_afn/usr_sa/anaconda3/envs/prkng_v2_env/lib/python3.11/site-packages/sklearn/gaussian_process/kernels.py:429: ConvergenceWarning:\n",
      "\n",
      "The optimal value found for dimension 0 of parameter k1__k1__k1__k2__length_scale is close to the specified upper bound 1000.0. Increasing the bound and calling fit again may find a better value.\n",
      "\n",
      "Processing expanding window:  21%|███████                          | 23/108 [00:06<00:23,  3.62it/s]"
     ]
    },
    {
     "name": "stdout",
     "output_type": "stream",
     "text": [
      "Step: 11\n"
     ]
    },
    {
     "name": "stderr",
     "output_type": "stream",
     "text": [
      "Processing expanding window:  22%|███████▎                         | 24/108 [00:07<00:29,  2.85it/s]"
     ]
    },
    {
     "name": "stdout",
     "output_type": "stream",
     "text": [
      "Step: 12\n"
     ]
    },
    {
     "name": "stderr",
     "output_type": "stream",
     "text": [
      "Processing expanding window:  24%|███████▉                         | 26/108 [00:07<00:27,  2.96it/s]/home/sf_afn/usr_sa/anaconda3/envs/prkng_v2_env/lib/python3.11/site-packages/sklearn/gaussian_process/kernels.py:429: ConvergenceWarning:\n",
      "\n",
      "The optimal value found for dimension 0 of parameter k1__k1__k1__k2__length_scale is close to the specified upper bound 1000.0. Increasing the bound and calling fit again may find a better value.\n",
      "\n",
      "Processing expanding window:  25%|████████▎                        | 27/108 [00:07<00:22,  3.56it/s]"
     ]
    },
    {
     "name": "stdout",
     "output_type": "stream",
     "text": [
      "Step: 13\n"
     ]
    },
    {
     "name": "stderr",
     "output_type": "stream",
     "text": [
      "Processing expanding window:  26%|████████▌                        | 28/108 [00:08<00:29,  2.72it/s]"
     ]
    },
    {
     "name": "stdout",
     "output_type": "stream",
     "text": [
      "Step: 14\n"
     ]
    },
    {
     "name": "stderr",
     "output_type": "stream",
     "text": [
      "Processing expanding window:  28%|█████████▏                       | 30/108 [00:09<00:25,  3.08it/s]/home/sf_afn/usr_sa/anaconda3/envs/prkng_v2_env/lib/python3.11/site-packages/sklearn/gaussian_process/kernels.py:429: ConvergenceWarning:\n",
      "\n",
      "The optimal value found for dimension 0 of parameter k1__k1__k1__k2__length_scale is close to the specified upper bound 1000.0. Increasing the bound and calling fit again may find a better value.\n",
      "\n"
     ]
    },
    {
     "name": "stdout",
     "output_type": "stream",
     "text": [
      "Step: 15\n"
     ]
    },
    {
     "name": "stderr",
     "output_type": "stream",
     "text": [
      "Processing expanding window:  30%|█████████▊                       | 32/108 [00:09<00:21,  3.48it/s]/home/sf_afn/usr_sa/anaconda3/envs/prkng_v2_env/lib/python3.11/site-packages/sklearn/gaussian_process/kernels.py:429: ConvergenceWarning:\n",
      "\n",
      "The optimal value found for dimension 0 of parameter k1__k1__k1__k2__length_scale is close to the specified upper bound 1000.0. Increasing the bound and calling fit again may find a better value.\n",
      "\n"
     ]
    },
    {
     "name": "stdout",
     "output_type": "stream",
     "text": [
      "Step: 16\n"
     ]
    },
    {
     "name": "stderr",
     "output_type": "stream",
     "text": [
      "Processing expanding window:  31%|██████████▍                      | 34/108 [00:10<00:20,  3.70it/s]/home/sf_afn/usr_sa/anaconda3/envs/prkng_v2_env/lib/python3.11/site-packages/sklearn/gaussian_process/kernels.py:429: ConvergenceWarning:\n",
      "\n",
      "The optimal value found for dimension 0 of parameter k1__k1__k1__k2__length_scale is close to the specified upper bound 1000.0. Increasing the bound and calling fit again may find a better value.\n",
      "\n",
      "Processing expanding window:  32%|██████████▋                      | 35/108 [00:10<00:17,  4.22it/s]"
     ]
    },
    {
     "name": "stdout",
     "output_type": "stream",
     "text": [
      "Step: 17\n"
     ]
    },
    {
     "name": "stderr",
     "output_type": "stream",
     "text": [
      "Processing expanding window:  33%|███████████                      | 36/108 [00:10<00:19,  3.67it/s]/home/sf_afn/usr_sa/anaconda3/envs/prkng_v2_env/lib/python3.11/site-packages/sklearn/gaussian_process/kernels.py:429: ConvergenceWarning:\n",
      "\n",
      "The optimal value found for dimension 0 of parameter k1__k1__k1__k2__length_scale is close to the specified upper bound 1000.0. Increasing the bound and calling fit again may find a better value.\n",
      "\n",
      "Processing expanding window:  34%|███████████▎                     | 37/108 [00:10<00:16,  4.32it/s]"
     ]
    },
    {
     "name": "stdout",
     "output_type": "stream",
     "text": [
      "Step: 18\n"
     ]
    },
    {
     "name": "stderr",
     "output_type": "stream",
     "text": [
      "Processing expanding window:  35%|███████████▌                     | 38/108 [00:11<00:20,  3.40it/s]/home/sf_afn/usr_sa/anaconda3/envs/prkng_v2_env/lib/python3.11/site-packages/sklearn/gaussian_process/kernels.py:429: ConvergenceWarning:\n",
      "\n",
      "The optimal value found for dimension 0 of parameter k1__k1__k1__k2__length_scale is close to the specified upper bound 1000.0. Increasing the bound and calling fit again may find a better value.\n",
      "\n"
     ]
    },
    {
     "name": "stdout",
     "output_type": "stream",
     "text": [
      "Step: 19\n"
     ]
    },
    {
     "name": "stderr",
     "output_type": "stream",
     "text": [
      "Processing expanding window:  37%|████████████▏                    | 40/108 [00:11<00:19,  3.47it/s]/home/sf_afn/usr_sa/anaconda3/envs/prkng_v2_env/lib/python3.11/site-packages/sklearn/gaussian_process/kernels.py:429: ConvergenceWarning:\n",
      "\n",
      "The optimal value found for dimension 0 of parameter k1__k1__k1__k2__length_scale is close to the specified upper bound 1000.0. Increasing the bound and calling fit again may find a better value.\n",
      "\n",
      "Processing expanding window:  38%|████████████▌                    | 41/108 [00:11<00:16,  3.94it/s]"
     ]
    },
    {
     "name": "stdout",
     "output_type": "stream",
     "text": [
      "Step: 20\n"
     ]
    },
    {
     "name": "stderr",
     "output_type": "stream",
     "text": [
      "Processing expanding window:  39%|████████████▊                    | 42/108 [00:12<00:19,  3.32it/s]/home/sf_afn/usr_sa/anaconda3/envs/prkng_v2_env/lib/python3.11/site-packages/sklearn/gaussian_process/kernels.py:429: ConvergenceWarning:\n",
      "\n",
      "The optimal value found for dimension 0 of parameter k1__k1__k1__k2__length_scale is close to the specified upper bound 1000.0. Increasing the bound and calling fit again may find a better value.\n",
      "\n",
      "Processing expanding window:  40%|█████████████▏                   | 43/108 [00:12<00:16,  3.83it/s]"
     ]
    },
    {
     "name": "stdout",
     "output_type": "stream",
     "text": [
      "Step: 21\n"
     ]
    },
    {
     "name": "stderr",
     "output_type": "stream",
     "text": [
      "Processing expanding window:  41%|█████████████▍                   | 44/108 [00:12<00:21,  2.99it/s]/home/sf_afn/usr_sa/anaconda3/envs/prkng_v2_env/lib/python3.11/site-packages/sklearn/gaussian_process/kernels.py:429: ConvergenceWarning:\n",
      "\n",
      "The optimal value found for dimension 0 of parameter k1__k1__k1__k2__length_scale is close to the specified upper bound 1000.0. Increasing the bound and calling fit again may find a better value.\n",
      "\n"
     ]
    },
    {
     "name": "stdout",
     "output_type": "stream",
     "text": [
      "Step: 22\n"
     ]
    },
    {
     "name": "stderr",
     "output_type": "stream",
     "text": [
      "Processing expanding window:  43%|██████████████                   | 46/108 [00:13<00:18,  3.32it/s]/home/sf_afn/usr_sa/anaconda3/envs/prkng_v2_env/lib/python3.11/site-packages/sklearn/gaussian_process/kernels.py:429: ConvergenceWarning:\n",
      "\n",
      "The optimal value found for dimension 0 of parameter k1__k1__k1__k2__length_scale is close to the specified upper bound 1000.0. Increasing the bound and calling fit again may find a better value.\n",
      "\n",
      "Processing expanding window:  44%|██████████████▎                  | 47/108 [00:13<00:15,  3.84it/s]"
     ]
    },
    {
     "name": "stdout",
     "output_type": "stream",
     "text": [
      "Step: 23\n"
     ]
    },
    {
     "name": "stderr",
     "output_type": "stream",
     "text": [
      "Processing expanding window:  44%|██████████████▋                  | 48/108 [00:14<00:18,  3.23it/s]/home/sf_afn/usr_sa/anaconda3/envs/prkng_v2_env/lib/python3.11/site-packages/sklearn/gaussian_process/kernels.py:429: ConvergenceWarning:\n",
      "\n",
      "The optimal value found for dimension 0 of parameter k1__k1__k1__k2__length_scale is close to the specified upper bound 1000.0. Increasing the bound and calling fit again may find a better value.\n",
      "\n",
      "Processing expanding window:  45%|██████████████▉                  | 49/108 [00:14<00:15,  3.84it/s]"
     ]
    },
    {
     "name": "stdout",
     "output_type": "stream",
     "text": [
      "Step: 24\n"
     ]
    },
    {
     "name": "stderr",
     "output_type": "stream",
     "text": [
      "Processing expanding window:  46%|███████████████▎                 | 50/108 [00:14<00:17,  3.37it/s]/home/sf_afn/usr_sa/anaconda3/envs/prkng_v2_env/lib/python3.11/site-packages/sklearn/gaussian_process/kernels.py:429: ConvergenceWarning:\n",
      "\n",
      "The optimal value found for dimension 0 of parameter k1__k1__k1__k2__length_scale is close to the specified upper bound 1000.0. Increasing the bound and calling fit again may find a better value.\n",
      "\n",
      "Processing expanding window:  47%|███████████████▌                 | 51/108 [00:14<00:14,  4.06it/s]"
     ]
    },
    {
     "name": "stdout",
     "output_type": "stream",
     "text": [
      "Step: 25\n"
     ]
    },
    {
     "name": "stderr",
     "output_type": "stream",
     "text": [
      "Processing expanding window:  48%|███████████████▉                 | 52/108 [00:15<00:16,  3.47it/s]/home/sf_afn/usr_sa/anaconda3/envs/prkng_v2_env/lib/python3.11/site-packages/sklearn/gaussian_process/kernels.py:429: ConvergenceWarning:\n",
      "\n",
      "The optimal value found for dimension 0 of parameter k1__k1__k1__k2__length_scale is close to the specified upper bound 1000.0. Increasing the bound and calling fit again may find a better value.\n",
      "\n",
      "Processing expanding window:  49%|████████████████▏                | 53/108 [00:15<00:13,  4.18it/s]"
     ]
    },
    {
     "name": "stdout",
     "output_type": "stream",
     "text": [
      "Step: 26\n"
     ]
    },
    {
     "name": "stderr",
     "output_type": "stream",
     "text": [
      "Processing expanding window:  51%|████████████████▊                | 55/108 [00:15<00:12,  4.33it/s]"
     ]
    },
    {
     "name": "stdout",
     "output_type": "stream",
     "text": [
      "Step: 27\n"
     ]
    },
    {
     "name": "stderr",
     "output_type": "stream",
     "text": [
      "Processing expanding window:  52%|█████████████████                | 56/108 [00:16<00:14,  3.66it/s]"
     ]
    },
    {
     "name": "stdout",
     "output_type": "stream",
     "text": [
      "Step: 28\n"
     ]
    },
    {
     "name": "stderr",
     "output_type": "stream",
     "text": [
      "Processing expanding window:  54%|█████████████████▋               | 58/108 [00:16<00:12,  3.94it/s]/home/sf_afn/usr_sa/anaconda3/envs/prkng_v2_env/lib/python3.11/site-packages/sklearn/gaussian_process/kernels.py:429: ConvergenceWarning:\n",
      "\n",
      "The optimal value found for dimension 0 of parameter k1__k1__k1__k2__length_scale is close to the specified upper bound 1000.0. Increasing the bound and calling fit again may find a better value.\n",
      "\n",
      "Processing expanding window:  55%|██████████████████               | 59/108 [00:16<00:10,  4.60it/s]"
     ]
    },
    {
     "name": "stdout",
     "output_type": "stream",
     "text": [
      "Step: 29\n"
     ]
    },
    {
     "name": "stderr",
     "output_type": "stream",
     "text": [
      "Processing expanding window:  56%|██████████████████▎              | 60/108 [00:17<00:16,  2.99it/s]/home/sf_afn/usr_sa/anaconda3/envs/prkng_v2_env/lib/python3.11/site-packages/sklearn/gaussian_process/kernels.py:429: ConvergenceWarning:\n",
      "\n",
      "The optimal value found for dimension 0 of parameter k1__k1__k1__k2__length_scale is close to the specified upper bound 1000.0. Increasing the bound and calling fit again may find a better value.\n",
      "\n",
      "/home/sf_afn/usr_sa/anaconda3/envs/prkng_v2_env/lib/python3.11/site-packages/sklearn/gaussian_process/kernels.py:429: ConvergenceWarning:\n",
      "\n",
      "The optimal value found for dimension 0 of parameter k1__k2__noise_level is close to the specified upper bound 10.0. Increasing the bound and calling fit again may find a better value.\n",
      "\n"
     ]
    },
    {
     "name": "stdout",
     "output_type": "stream",
     "text": [
      "Step: 30\n"
     ]
    },
    {
     "name": "stderr",
     "output_type": "stream",
     "text": [
      "Processing expanding window:  57%|██████████████████▉              | 62/108 [00:18<00:16,  2.77it/s]/home/sf_afn/usr_sa/anaconda3/envs/prkng_v2_env/lib/python3.11/site-packages/sklearn/gaussian_process/kernels.py:429: ConvergenceWarning:\n",
      "\n",
      "The optimal value found for dimension 0 of parameter k1__k1__k1__k2__length_scale is close to the specified upper bound 1000.0. Increasing the bound and calling fit again may find a better value.\n",
      "\n",
      "Processing expanding window:  58%|███████████████████▎             | 63/108 [00:18<00:13,  3.45it/s]"
     ]
    },
    {
     "name": "stdout",
     "output_type": "stream",
     "text": [
      "Step: 31\n"
     ]
    },
    {
     "name": "stderr",
     "output_type": "stream",
     "text": [
      "Processing expanding window:  60%|███████████████████▊             | 65/108 [00:18<00:12,  3.37it/s]"
     ]
    },
    {
     "name": "stdout",
     "output_type": "stream",
     "text": [
      "Step: 32\n"
     ]
    },
    {
     "name": "stderr",
     "output_type": "stream",
     "text": [
      "Processing expanding window:  62%|████████████████████▍            | 67/108 [00:19<00:12,  3.37it/s]"
     ]
    },
    {
     "name": "stdout",
     "output_type": "stream",
     "text": [
      "Step: 33\n"
     ]
    },
    {
     "name": "stderr",
     "output_type": "stream",
     "text": [
      "Processing expanding window:  63%|████████████████████▊            | 68/108 [00:19<00:13,  3.03it/s]/home/sf_afn/usr_sa/anaconda3/envs/prkng_v2_env/lib/python3.11/site-packages/sklearn/gaussian_process/kernels.py:429: ConvergenceWarning:\n",
      "\n",
      "The optimal value found for dimension 0 of parameter k1__k1__k1__k2__length_scale is close to the specified upper bound 1000.0. Increasing the bound and calling fit again may find a better value.\n",
      "\n",
      "Processing expanding window:  64%|█████████████████████            | 69/108 [00:20<00:10,  3.71it/s]"
     ]
    },
    {
     "name": "stdout",
     "output_type": "stream",
     "text": [
      "Step: 34\n"
     ]
    },
    {
     "name": "stderr",
     "output_type": "stream",
     "text": [
      "Processing expanding window:  66%|█████████████████████▋           | 71/108 [00:20<00:09,  4.09it/s]"
     ]
    },
    {
     "name": "stdout",
     "output_type": "stream",
     "text": [
      "Step: 35\n"
     ]
    },
    {
     "name": "stderr",
     "output_type": "stream",
     "text": [
      "Processing expanding window:  67%|██████████████████████           | 72/108 [00:20<00:10,  3.44it/s]/home/sf_afn/usr_sa/anaconda3/envs/prkng_v2_env/lib/python3.11/site-packages/sklearn/gaussian_process/kernels.py:429: ConvergenceWarning:\n",
      "\n",
      "The optimal value found for dimension 0 of parameter k1__k1__k1__k2__length_scale is close to the specified upper bound 1000.0. Increasing the bound and calling fit again may find a better value.\n",
      "\n",
      "Processing expanding window:  68%|██████████████████████▎          | 73/108 [00:21<00:08,  4.20it/s]"
     ]
    },
    {
     "name": "stdout",
     "output_type": "stream",
     "text": [
      "Step: 36\n"
     ]
    },
    {
     "name": "stderr",
     "output_type": "stream",
     "text": [
      "Processing expanding window:  69%|██████████████████████▌          | 74/108 [00:21<00:09,  3.56it/s]"
     ]
    },
    {
     "name": "stdout",
     "output_type": "stream",
     "text": [
      "Step: 37\n"
     ]
    },
    {
     "name": "stderr",
     "output_type": "stream",
     "text": [
      "Processing expanding window:  71%|███████████████████████▌         | 77/108 [00:22<00:07,  4.06it/s]"
     ]
    },
    {
     "name": "stdout",
     "output_type": "stream",
     "text": [
      "Step: 38\n"
     ]
    },
    {
     "name": "stderr",
     "output_type": "stream",
     "text": [
      "Processing expanding window:  72%|███████████████████████▊         | 78/108 [00:22<00:08,  3.52it/s]/home/sf_afn/usr_sa/anaconda3/envs/prkng_v2_env/lib/python3.11/site-packages/sklearn/gaussian_process/kernels.py:429: ConvergenceWarning:\n",
      "\n",
      "The optimal value found for dimension 0 of parameter k1__k1__k1__k2__length_scale is close to the specified upper bound 1000.0. Increasing the bound and calling fit again may find a better value.\n",
      "\n",
      "/home/sf_afn/usr_sa/anaconda3/envs/prkng_v2_env/lib/python3.11/site-packages/sklearn/gaussian_process/kernels.py:429: ConvergenceWarning:\n",
      "\n",
      "The optimal value found for dimension 0 of parameter k2__length_scale is close to the specified upper bound 50.0. Increasing the bound and calling fit again may find a better value.\n",
      "\n",
      "Processing expanding window:  73%|████████████████████████▏        | 79/108 [00:22<00:06,  4.22it/s]"
     ]
    },
    {
     "name": "stdout",
     "output_type": "stream",
     "text": [
      "Step: 39\n"
     ]
    },
    {
     "name": "stderr",
     "output_type": "stream",
     "text": [
      "Processing expanding window:  74%|████████████████████████▍        | 80/108 [00:22<00:07,  3.61it/s]/home/sf_afn/usr_sa/anaconda3/envs/prkng_v2_env/lib/python3.11/site-packages/sklearn/gaussian_process/kernels.py:429: ConvergenceWarning:\n",
      "\n",
      "The optimal value found for dimension 0 of parameter k1__k1__k1__k2__length_scale is close to the specified upper bound 1000.0. Increasing the bound and calling fit again may find a better value.\n",
      "\n",
      "Processing expanding window:  75%|████████████████████████▊        | 81/108 [00:23<00:06,  4.27it/s]"
     ]
    },
    {
     "name": "stdout",
     "output_type": "stream",
     "text": [
      "Step: 40\n"
     ]
    },
    {
     "name": "stderr",
     "output_type": "stream",
     "text": [
      "Processing expanding window:  76%|█████████████████████████        | 82/108 [00:23<00:07,  3.58it/s]/home/sf_afn/usr_sa/anaconda3/envs/prkng_v2_env/lib/python3.11/site-packages/sklearn/gaussian_process/kernels.py:419: ConvergenceWarning:\n",
      "\n",
      "The optimal value found for dimension 0 of parameter k1__k1__k1__k1__constant_value is close to the specified lower bound 1e-05. Decreasing the bound and calling fit again may find a better value.\n",
      "\n",
      "/home/sf_afn/usr_sa/anaconda3/envs/prkng_v2_env/lib/python3.11/site-packages/sklearn/gaussian_process/kernels.py:429: ConvergenceWarning:\n",
      "\n",
      "The optimal value found for dimension 0 of parameter k1__k1__k1__k2__length_scale is close to the specified upper bound 1000.0. Increasing the bound and calling fit again may find a better value.\n",
      "\n",
      "/home/sf_afn/usr_sa/anaconda3/envs/prkng_v2_env/lib/python3.11/site-packages/sklearn/gaussian_process/kernels.py:429: ConvergenceWarning:\n",
      "\n",
      "The optimal value found for dimension 0 of parameter k1__k2__noise_level is close to the specified upper bound 10.0. Increasing the bound and calling fit again may find a better value.\n",
      "\n"
     ]
    },
    {
     "name": "stdout",
     "output_type": "stream",
     "text": [
      "Step: 41\n"
     ]
    },
    {
     "name": "stderr",
     "output_type": "stream",
     "text": [
      "Processing expanding window:  78%|█████████████████████████▋       | 84/108 [00:23<00:05,  4.04it/s]/home/sf_afn/usr_sa/anaconda3/envs/prkng_v2_env/lib/python3.11/site-packages/sklearn/gaussian_process/kernels.py:429: ConvergenceWarning:\n",
      "\n",
      "The optimal value found for dimension 0 of parameter k1__k1__k1__k2__length_scale is close to the specified upper bound 1000.0. Increasing the bound and calling fit again may find a better value.\n",
      "\n",
      "Processing expanding window:  79%|█████████████████████████▉       | 85/108 [00:24<00:05,  4.55it/s]"
     ]
    },
    {
     "name": "stdout",
     "output_type": "stream",
     "text": [
      "Step: 42\n"
     ]
    },
    {
     "name": "stderr",
     "output_type": "stream",
     "text": [
      "Processing expanding window:  80%|██████████████████████████▎      | 86/108 [00:24<00:05,  3.81it/s]/home/sf_afn/usr_sa/anaconda3/envs/prkng_v2_env/lib/python3.11/site-packages/sklearn/gaussian_process/kernels.py:419: ConvergenceWarning:\n",
      "\n",
      "The optimal value found for dimension 0 of parameter k1__k1__k2__periodicity is close to the specified lower bound 0.1. Decreasing the bound and calling fit again may find a better value.\n",
      "\n",
      "Processing expanding window:  81%|██████████████████████████▌      | 87/108 [00:24<00:04,  4.48it/s]"
     ]
    },
    {
     "name": "stdout",
     "output_type": "stream",
     "text": [
      "Step: 43\n"
     ]
    },
    {
     "name": "stderr",
     "output_type": "stream",
     "text": [
      "Processing expanding window:  81%|██████████████████████████▉      | 88/108 [00:24<00:05,  3.73it/s]/home/sf_afn/usr_sa/anaconda3/envs/prkng_v2_env/lib/python3.11/site-packages/sklearn/gaussian_process/kernels.py:419: ConvergenceWarning:\n",
      "\n",
      "The optimal value found for dimension 0 of parameter k1__k1__k1__k1__constant_value is close to the specified lower bound 1e-05. Decreasing the bound and calling fit again may find a better value.\n",
      "\n",
      "/home/sf_afn/usr_sa/anaconda3/envs/prkng_v2_env/lib/python3.11/site-packages/sklearn/gaussian_process/kernels.py:429: ConvergenceWarning:\n",
      "\n",
      "The optimal value found for dimension 0 of parameter k1__k1__k1__k2__length_scale is close to the specified upper bound 1000.0. Increasing the bound and calling fit again may find a better value.\n",
      "\n",
      "/home/sf_afn/usr_sa/anaconda3/envs/prkng_v2_env/lib/python3.11/site-packages/sklearn/gaussian_process/kernels.py:429: ConvergenceWarning:\n",
      "\n",
      "The optimal value found for dimension 0 of parameter k1__k2__noise_level is close to the specified upper bound 10.0. Increasing the bound and calling fit again may find a better value.\n",
      "\n"
     ]
    },
    {
     "name": "stdout",
     "output_type": "stream",
     "text": [
      "Step: 44\n"
     ]
    },
    {
     "name": "stderr",
     "output_type": "stream",
     "text": [
      "Processing expanding window:  83%|███████████████████████████▌     | 90/108 [00:25<00:04,  3.91it/s]/home/sf_afn/usr_sa/anaconda3/envs/prkng_v2_env/lib/python3.11/site-packages/sklearn/gaussian_process/kernels.py:429: ConvergenceWarning:\n",
      "\n",
      "The optimal value found for dimension 0 of parameter k1__k1__k1__k2__length_scale is close to the specified upper bound 1000.0. Increasing the bound and calling fit again may find a better value.\n",
      "\n"
     ]
    },
    {
     "name": "stdout",
     "output_type": "stream",
     "text": [
      "Step: 45\n"
     ]
    },
    {
     "name": "stderr",
     "output_type": "stream",
     "text": [
      "Processing expanding window:  85%|████████████████████████████     | 92/108 [00:25<00:03,  4.08it/s]/home/sf_afn/usr_sa/anaconda3/envs/prkng_v2_env/lib/python3.11/site-packages/sklearn/gaussian_process/kernels.py:429: ConvergenceWarning:\n",
      "\n",
      "The optimal value found for dimension 0 of parameter k1__k1__k1__k2__length_scale is close to the specified upper bound 1000.0. Increasing the bound and calling fit again may find a better value.\n",
      "\n",
      "Processing expanding window:  86%|████████████████████████████▍    | 93/108 [00:25<00:03,  4.63it/s]"
     ]
    },
    {
     "name": "stdout",
     "output_type": "stream",
     "text": [
      "Step: 46\n"
     ]
    },
    {
     "name": "stderr",
     "output_type": "stream",
     "text": [
      "Processing expanding window:  88%|█████████████████████████████    | 95/108 [00:26<00:02,  4.40it/s]"
     ]
    },
    {
     "name": "stdout",
     "output_type": "stream",
     "text": [
      "Step: 47\n"
     ]
    },
    {
     "name": "stderr",
     "output_type": "stream",
     "text": [
      "Processing expanding window:  89%|█████████████████████████████▎   | 96/108 [00:26<00:03,  3.77it/s]/home/sf_afn/usr_sa/anaconda3/envs/prkng_v2_env/lib/python3.11/site-packages/sklearn/gaussian_process/kernels.py:419: ConvergenceWarning:\n",
      "\n",
      "The optimal value found for dimension 0 of parameter k1__k1__k1__k1__constant_value is close to the specified lower bound 1e-05. Decreasing the bound and calling fit again may find a better value.\n",
      "\n",
      "/home/sf_afn/usr_sa/anaconda3/envs/prkng_v2_env/lib/python3.11/site-packages/sklearn/gaussian_process/kernels.py:429: ConvergenceWarning:\n",
      "\n",
      "The optimal value found for dimension 0 of parameter k1__k1__k1__k2__length_scale is close to the specified upper bound 1000.0. Increasing the bound and calling fit again may find a better value.\n",
      "\n",
      "/home/sf_afn/usr_sa/anaconda3/envs/prkng_v2_env/lib/python3.11/site-packages/sklearn/gaussian_process/kernels.py:429: ConvergenceWarning:\n",
      "\n",
      "The optimal value found for dimension 0 of parameter k1__k2__noise_level is close to the specified upper bound 10.0. Increasing the bound and calling fit again may find a better value.\n",
      "\n"
     ]
    },
    {
     "name": "stdout",
     "output_type": "stream",
     "text": [
      "Step: 48\n"
     ]
    },
    {
     "name": "stderr",
     "output_type": "stream",
     "text": [
      "Processing expanding window:  91%|█████████████████████████████▉   | 98/108 [00:27<00:02,  3.97it/s]/home/sf_afn/usr_sa/anaconda3/envs/prkng_v2_env/lib/python3.11/site-packages/sklearn/gaussian_process/kernels.py:429: ConvergenceWarning:\n",
      "\n",
      "The optimal value found for dimension 0 of parameter k1__k1__k1__k2__length_scale is close to the specified upper bound 1000.0. Increasing the bound and calling fit again may find a better value.\n",
      "\n"
     ]
    },
    {
     "name": "stdout",
     "output_type": "stream",
     "text": [
      "Step: 49\n"
     ]
    },
    {
     "name": "stderr",
     "output_type": "stream",
     "text": [
      "Processing expanding window:  93%|█████████████████████████████▋  | 100/108 [00:27<00:01,  4.11it/s]/home/sf_afn/usr_sa/anaconda3/envs/prkng_v2_env/lib/python3.11/site-packages/sklearn/gaussian_process/kernels.py:429: ConvergenceWarning:\n",
      "\n",
      "The optimal value found for dimension 0 of parameter k1__k1__k1__k2__length_scale is close to the specified upper bound 1000.0. Increasing the bound and calling fit again may find a better value.\n",
      "\n",
      "Processing expanding window:  94%|█████████████████████████████▉  | 101/108 [00:27<00:01,  4.52it/s]"
     ]
    },
    {
     "name": "stdout",
     "output_type": "stream",
     "text": [
      "Step: 50\n"
     ]
    },
    {
     "name": "stderr",
     "output_type": "stream",
     "text": [
      "Processing expanding window:  95%|██████████████████████████████▌ | 103/108 [00:28<00:01,  4.38it/s]"
     ]
    },
    {
     "name": "stdout",
     "output_type": "stream",
     "text": [
      "Step: 51\n"
     ]
    },
    {
     "name": "stderr",
     "output_type": "stream",
     "text": [
      "Processing expanding window:  96%|██████████████████████████████▊ | 104/108 [00:28<00:01,  3.72it/s]/home/sf_afn/usr_sa/anaconda3/envs/prkng_v2_env/lib/python3.11/site-packages/sklearn/gaussian_process/kernels.py:419: ConvergenceWarning:\n",
      "\n",
      "The optimal value found for dimension 0 of parameter k1__k1__k1__k1__constant_value is close to the specified lower bound 1e-05. Decreasing the bound and calling fit again may find a better value.\n",
      "\n",
      "/home/sf_afn/usr_sa/anaconda3/envs/prkng_v2_env/lib/python3.11/site-packages/sklearn/gaussian_process/kernels.py:429: ConvergenceWarning:\n",
      "\n",
      "The optimal value found for dimension 0 of parameter k1__k1__k1__k2__length_scale is close to the specified upper bound 1000.0. Increasing the bound and calling fit again may find a better value.\n",
      "\n",
      "/home/sf_afn/usr_sa/anaconda3/envs/prkng_v2_env/lib/python3.11/site-packages/sklearn/gaussian_process/kernels.py:429: ConvergenceWarning:\n",
      "\n",
      "The optimal value found for dimension 0 of parameter k1__k2__noise_level is close to the specified upper bound 10.0. Increasing the bound and calling fit again may find a better value.\n",
      "\n"
     ]
    },
    {
     "name": "stdout",
     "output_type": "stream",
     "text": [
      "Step: 52\n"
     ]
    },
    {
     "name": "stderr",
     "output_type": "stream",
     "text": [
      "Processing expanding window:  98%|███████████████████████████████▍| 106/108 [00:29<00:00,  4.11it/s]/home/sf_afn/usr_sa/anaconda3/envs/prkng_v2_env/lib/python3.11/site-packages/sklearn/gaussian_process/kernels.py:429: ConvergenceWarning:\n",
      "\n",
      "The optimal value found for dimension 0 of parameter k1__k1__k1__k2__length_scale is close to the specified upper bound 1000.0. Increasing the bound and calling fit again may find a better value.\n",
      "\n",
      "/home/sf_afn/usr_sa/anaconda3/envs/prkng_v2_env/lib/python3.11/site-packages/sklearn/gaussian_process/kernels.py:429: ConvergenceWarning:\n",
      "\n",
      "The optimal value found for dimension 0 of parameter k1__k1__k2__length_scale is close to the specified upper bound 50.0. Increasing the bound and calling fit again may find a better value.\n",
      "\n",
      "Processing expanding window:  99%|███████████████████████████████▋| 107/108 [00:29<00:00,  4.70it/s]"
     ]
    },
    {
     "name": "stdout",
     "output_type": "stream",
     "text": [
      "Step: 53\n"
     ]
    },
    {
     "name": "stderr",
     "output_type": "stream",
     "text": [
      "Processing expanding window: 100%|████████████████████████████████| 108/108 [00:29<00:00,  3.62it/s]\n"
     ]
    },
    {
     "name": "stdout",
     "output_type": "stream",
     "text": [
      "Step: 54\n",
      "Testing final GPR on test set\n"
     ]
    },
    {
     "data": {
      "application/vnd.jupyter.widget-view+json": {
       "model_id": "6a65e9c8638543a4802400c5081f1a5c",
       "version_major": 2,
       "version_minor": 0
      },
      "text/plain": [
       "VBox(children=(Label(value='89.839 MB of 89.886 MB uploaded\\r'), FloatProgress(value=0.9994812962685182, max=1…"
      ]
     },
     "metadata": {},
     "output_type": "display_data"
    },
    {
     "name": "stderr",
     "output_type": "stream",
     "text": [
      "wandb: WARNING Source type is set to 'repo' but some required information is missing from the environment. A job will not be created from this run. See https://docs.wandb.ai/guides/launch/create-job\n"
     ]
    },
    {
     "data": {
      "text/html": [
       "<style>\n",
       "    table.wandb td:nth-child(1) { padding: 0 10px; text-align: left ; width: auto;} td:nth-child(2) {text-align: left ; width: 100%}\n",
       "    .wandb-row { display: flex; flex-direction: row; flex-wrap: wrap; justify-content: flex-start; width: 100% }\n",
       "    .wandb-col { display: flex; flex-direction: column; flex-basis: 100%; flex: 1; padding: 10px; }\n",
       "    </style>\n",
       "<div class=\"wandb-row\"><div class=\"wandb-col\"><h3>Run history:</h3><br/><table class=\"wandb\"><tr><td>LML_test</td><td>▁</td></tr><tr><td>LML_train</td><td>▅▆▆▆▅▆▆▇▇▇▇▇▇▇▇▇▇███▇█▁▇▇███▇█▁▇▂▆▆▂▂▆▁▂</td></tr><tr><td>LML_validate</td><td>▅▆▆▆▅▆▆▇▇▆▇▇▆▇▇▇▇███▇▇█▇▇▇██▇██▇▇▁▆▆▁▆▅▁</td></tr><tr><td>MAE_test</td><td>▁</td></tr><tr><td>MAE_train</td><td>▃▂▂▂▂▁▂▂▂▂▂▂▂▂▂▂▂▂▂▂▂▂▇▂▂▂▂▂▂▂█▂▆▂▂▆▅▂█▅</td></tr><tr><td>MAE_validate</td><td>▁▁▂▂▁▂▁▁▁▂▃█▃▂▂▃▂▅▃█▆▅▇▅▂▃▂▂▂▃▅▂▃▄▃▃▂▃▃▂</td></tr><tr><td>MAPE_test</td><td>▁</td></tr><tr><td>MAPE_train</td><td>▁▂▂▂▂▁▁▁▁▁▂▁▁▁▁▂▁▁▁▁▂█▃▁▂▁▂▂▂▂▃▁▂▁▂▂▂▂▃▂</td></tr><tr><td>MAPE_validate</td><td>▁▁▁▁▁▁▁▁▁▁▁▁▁▁▁▁▁▁▁▁▁▁▁▁▁▁▁▁▁▁▁▁▁▁▁█▁▂▁▁</td></tr><tr><td>MSE_test</td><td>▁</td></tr><tr><td>MSE_train</td><td>▁▁▁▁▁▁▁▁▁▁▁▁▁▁▁▁▁▁▁▁▁▁█▁▁▁▁▁▁▁█▁▅▁▁▅▃▁█▄</td></tr><tr><td>MSE_validate</td><td>▁▁▁▂▁▁▁▁▁▁▂█▂▂▂▂▁▄▃█▅▄▇▃▁▂▁▁▂▃▄▂▂▃▂▂▁▂▂▂</td></tr><tr><td>R2_test</td><td>▁</td></tr><tr><td>R2_train</td><td>██████████████████████▁███████▁█▄██▅▆█▁▅</td></tr><tr><td>R2_validate</td><td>███████████████████████▁████████████████</td></tr><tr><td>RMSE_test</td><td>▁</td></tr><tr><td>RMSE_train</td><td>▃▃▂▂▃▁▂▂▂▂▂▂▂▂▂▂▂▂▂▂▂▂█▂▂▂▂▂▂▂█▂▆▂▂▆▅▂█▆</td></tr><tr><td>RMSE_validate</td><td>▁▁▂▂▁▂▁▁▁▂▃█▃▃▂▃▂▅▄█▆▅▇▅▂▃▂▂▃▄▅▃▄▅▄▃▂▃▃▃</td></tr><tr><td>step</td><td>▁▁▁▂▂▂▂▂▂▃▃▃▃▃▄▄▄▄▄▄▅▅▅▅▅▅▆▆▆▆▆▇▇▇▇▇███▁</td></tr></table><br/></div><div class=\"wandb-col\"><h3>Run summary:</h3><br/><table class=\"wandb\"><tr><td>LML_test</td><td>-66.46243</td></tr><tr><td>LML_train</td><td>-66.46243</td></tr><tr><td>LML_validate</td><td>-66.46243</td></tr><tr><td>MAE_test</td><td>8.94608</td></tr><tr><td>MAE_train</td><td>2.37932</td></tr><tr><td>MAE_validate</td><td>4.52354</td></tr><tr><td>MAPE_test</td><td>232.15836</td></tr><tr><td>MAPE_train</td><td>66.77758</td></tr><tr><td>MAPE_validate</td><td>499.38364</td></tr><tr><td>MSE_test</td><td>148.16673</td></tr><tr><td>MSE_train</td><td>7.33304</td></tr><tr><td>MSE_validate</td><td>41.85457</td></tr><tr><td>R2_test</td><td>-0.46968</td></tr><tr><td>R2_train</td><td>0.60355</td></tr><tr><td>R2_validate</td><td>-0.40002</td></tr><tr><td>RMSE_test</td><td>12.17238</td></tr><tr><td>RMSE_train</td><td>2.70796</td></tr><tr><td>RMSE_validate</td><td>6.46951</td></tr><tr><td>step</td><td>1</td></tr></table><br/></div></div>"
      ],
      "text/plain": [
       "<IPython.core.display.HTML object>"
      ]
     },
     "metadata": {},
     "output_type": "display_data"
    },
    {
     "data": {
      "text/html": [
       " View run <strong style=\"color:#cdcd00\">Expand_kris_noisy_lp_gp:hour</strong> at: <a href='https://wandb.ai/afn-sy/Merged_GPR_Experiments/runs/moyw6y8a' target=\"_blank\">https://wandb.ai/afn-sy/Merged_GPR_Experiments/runs/moyw6y8a</a><br/>Synced 7 W&B file(s), 328 media file(s), 110 artifact file(s) and 4 other file(s)"
      ],
      "text/plain": [
       "<IPython.core.display.HTML object>"
      ]
     },
     "metadata": {},
     "output_type": "display_data"
    },
    {
     "data": {
      "text/html": [
       "Find logs at: <code>./wandb/run-20240122_211204-moyw6y8a/logs</code>"
      ],
      "text/plain": [
       "<IPython.core.display.HTML object>"
      ]
     },
     "metadata": {},
     "output_type": "display_data"
    },
    {
     "data": {
      "application/vnd.jupyter.widget-view+json": {
       "model_id": "9769e94871f04c4fb8c7823a4046ff44",
       "version_major": 2,
       "version_minor": 0
      },
      "text/plain": [
       "VBox(children=(Label(value='Waiting for wandb.init()...\\r'), FloatProgress(value=0.011112288377787789, max=1.0…"
      ]
     },
     "metadata": {},
     "output_type": "display_data"
    },
    {
     "data": {
      "text/html": [
       "Tracking run with wandb version 0.16.2"
      ],
      "text/plain": [
       "<IPython.core.display.HTML object>"
      ]
     },
     "metadata": {},
     "output_type": "display_data"
    },
    {
     "data": {
      "text/html": [
       "Run data is saved locally in <code>/home/sf_afn/Insync/sofiaa720@gmail.com/Google Drive/masters_thesis/code_v1/msc_parking/univrses/notebooks/wandb/run-20240122_211433-6wlu0o14</code>"
      ],
      "text/plain": [
       "<IPython.core.display.HTML object>"
      ]
     },
     "metadata": {},
     "output_type": "display_data"
    },
    {
     "data": {
      "text/html": [
       "Syncing run <strong><a href='https://wandb.ai/afn-sy/Merged_GPR_Experiments/runs/6wlu0o14' target=\"_blank\">Expand_kris_noisy_lp_gp:week</a></strong> to <a href='https://wandb.ai/afn-sy/Merged_GPR_Experiments' target=\"_blank\">Weights & Biases</a> (<a href='https://wandb.me/run' target=\"_blank\">docs</a>)<br/>"
      ],
      "text/plain": [
       "<IPython.core.display.HTML object>"
      ]
     },
     "metadata": {},
     "output_type": "display_data"
    },
    {
     "data": {
      "text/html": [
       " View project at <a href='https://wandb.ai/afn-sy/Merged_GPR_Experiments' target=\"_blank\">https://wandb.ai/afn-sy/Merged_GPR_Experiments</a>"
      ],
      "text/plain": [
       "<IPython.core.display.HTML object>"
      ]
     },
     "metadata": {},
     "output_type": "display_data"
    },
    {
     "data": {
      "text/html": [
       " View run at <a href='https://wandb.ai/afn-sy/Merged_GPR_Experiments/runs/6wlu0o14' target=\"_blank\">https://wandb.ai/afn-sy/Merged_GPR_Experiments/runs/6wlu0o14</a>"
      ],
      "text/plain": [
       "<IPython.core.display.HTML object>"
      ]
     },
     "metadata": {},
     "output_type": "display_data"
    },
    {
     "name": "stderr",
     "output_type": "stream",
     "text": [
      "Processing expanding window:   0%|                                          | 0/108 [00:00<?, ?it/s]\n"
     ]
    },
    {
     "name": "stdout",
     "output_type": "stream",
     "text": [
      "An error occurred: 'numpy.ndarray' object has no attribute 'predict'\n"
     ]
    },
    {
     "name": "stderr",
     "output_type": "stream",
     "text": [
      "wandb: WARNING Source type is set to 'repo' but some required information is missing from the environment. A job will not be created from this run. See https://docs.wandb.ai/guides/launch/create-job\n"
     ]
    },
    {
     "data": {
      "application/vnd.jupyter.widget-view+json": {
       "model_id": "2a7936a39ca441eb8fd29933d8376445",
       "version_major": 2,
       "version_minor": 0
      },
      "text/plain": [
       "VBox(children=(Label(value='40.613 MB of 87.024 MB uploaded\\r'), FloatProgress(value=0.4666886193157932, max=1…"
      ]
     },
     "metadata": {},
     "output_type": "display_data"
    },
    {
     "data": {
      "text/html": [
       " View run <strong style=\"color:#cdcd00\">Expand_kris_noisy_lp_gp:week</strong> at: <a href='https://wandb.ai/afn-sy/Merged_GPR_Experiments/runs/6wlu0o14' target=\"_blank\">https://wandb.ai/afn-sy/Merged_GPR_Experiments/runs/6wlu0o14</a><br/>Synced 7 W&B file(s), 0 media file(s), 0 artifact file(s) and 1 other file(s)"
      ],
      "text/plain": [
       "<IPython.core.display.HTML object>"
      ]
     },
     "metadata": {},
     "output_type": "display_data"
    },
    {
     "data": {
      "text/html": [
       "Find logs at: <code>./wandb/run-20240122_211433-6wlu0o14/logs</code>"
      ],
      "text/plain": [
       "<IPython.core.display.HTML object>"
      ]
     },
     "metadata": {},
     "output_type": "display_data"
    },
    {
     "data": {
      "application/vnd.jupyter.widget-view+json": {
       "model_id": "455c43164cf6404d84872cb51eb22916",
       "version_major": 2,
       "version_minor": 0
      },
      "text/plain": [
       "VBox(children=(Label(value='Waiting for wandb.init()...\\r'), FloatProgress(value=0.01111223137777415, max=1.0)…"
      ]
     },
     "metadata": {},
     "output_type": "display_data"
    },
    {
     "data": {
      "text/html": [
       "Tracking run with wandb version 0.16.2"
      ],
      "text/plain": [
       "<IPython.core.display.HTML object>"
      ]
     },
     "metadata": {},
     "output_type": "display_data"
    },
    {
     "data": {
      "text/html": [
       "Run data is saved locally in <code>/home/sf_afn/Insync/sofiaa720@gmail.com/Google Drive/masters_thesis/code_v1/msc_parking/univrses/notebooks/wandb/run-20240122_211448-q39kjsrm</code>"
      ],
      "text/plain": [
       "<IPython.core.display.HTML object>"
      ]
     },
     "metadata": {},
     "output_type": "display_data"
    },
    {
     "data": {
      "text/html": [
       "Syncing run <strong><a href='https://wandb.ai/afn-sy/Merged_GPR_Experiments/runs/q39kjsrm' target=\"_blank\">Expand_kris_noisy_lp_gp:month</a></strong> to <a href='https://wandb.ai/afn-sy/Merged_GPR_Experiments' target=\"_blank\">Weights & Biases</a> (<a href='https://wandb.me/run' target=\"_blank\">docs</a>)<br/>"
      ],
      "text/plain": [
       "<IPython.core.display.HTML object>"
      ]
     },
     "metadata": {},
     "output_type": "display_data"
    },
    {
     "data": {
      "text/html": [
       " View project at <a href='https://wandb.ai/afn-sy/Merged_GPR_Experiments' target=\"_blank\">https://wandb.ai/afn-sy/Merged_GPR_Experiments</a>"
      ],
      "text/plain": [
       "<IPython.core.display.HTML object>"
      ]
     },
     "metadata": {},
     "output_type": "display_data"
    },
    {
     "data": {
      "text/html": [
       " View run at <a href='https://wandb.ai/afn-sy/Merged_GPR_Experiments/runs/q39kjsrm' target=\"_blank\">https://wandb.ai/afn-sy/Merged_GPR_Experiments/runs/q39kjsrm</a>"
      ],
      "text/plain": [
       "<IPython.core.display.HTML object>"
      ]
     },
     "metadata": {},
     "output_type": "display_data"
    },
    {
     "name": "stderr",
     "output_type": "stream",
     "text": [
      "Processing expanding window:   0%|                                          | 0/108 [00:00<?, ?it/s]\n"
     ]
    },
    {
     "name": "stdout",
     "output_type": "stream",
     "text": [
      "An error occurred: 'numpy.ndarray' object has no attribute 'predict'\n"
     ]
    },
    {
     "name": "stderr",
     "output_type": "stream",
     "text": [
      "wandb: WARNING Source type is set to 'repo' but some required information is missing from the environment. A job will not be created from this run. See https://docs.wandb.ai/guides/launch/create-job\n"
     ]
    },
    {
     "data": {
      "application/vnd.jupyter.widget-view+json": {
       "model_id": "96a0ab42eac2403ba89319f6cdcbb83d",
       "version_major": 2,
       "version_minor": 0
      },
      "text/plain": [
       "VBox(children=(Label(value='23.902 MB of 87.024 MB uploaded\\r'), FloatProgress(value=0.27466126383766265, max=…"
      ]
     },
     "metadata": {},
     "output_type": "display_data"
    },
    {
     "data": {
      "text/html": [
       " View run <strong style=\"color:#cdcd00\">Expand_kris_noisy_lp_gp:month</strong> at: <a href='https://wandb.ai/afn-sy/Merged_GPR_Experiments/runs/q39kjsrm' target=\"_blank\">https://wandb.ai/afn-sy/Merged_GPR_Experiments/runs/q39kjsrm</a><br/>Synced 7 W&B file(s), 0 media file(s), 0 artifact file(s) and 1 other file(s)"
      ],
      "text/plain": [
       "<IPython.core.display.HTML object>"
      ]
     },
     "metadata": {},
     "output_type": "display_data"
    },
    {
     "data": {
      "text/html": [
       "Find logs at: <code>./wandb/run-20240122_211448-q39kjsrm/logs</code>"
      ],
      "text/plain": [
       "<IPython.core.display.HTML object>"
      ]
     },
     "metadata": {},
     "output_type": "display_data"
    },
    {
     "data": {
      "application/vnd.jupyter.widget-view+json": {
       "model_id": "2bcf0dac723e4d148e3cc84b12dd7207",
       "version_major": 2,
       "version_minor": 0
      },
      "text/plain": [
       "VBox(children=(Label(value='Waiting for wandb.init()...\\r'), FloatProgress(value=0.011112523155558544, max=1.0…"
      ]
     },
     "metadata": {},
     "output_type": "display_data"
    },
    {
     "data": {
      "text/html": [
       "Tracking run with wandb version 0.16.2"
      ],
      "text/plain": [
       "<IPython.core.display.HTML object>"
      ]
     },
     "metadata": {},
     "output_type": "display_data"
    },
    {
     "data": {
      "text/html": [
       "Run data is saved locally in <code>/home/sf_afn/Insync/sofiaa720@gmail.com/Google Drive/masters_thesis/code_v1/msc_parking/univrses/notebooks/wandb/run-20240122_211505-6es851ri</code>"
      ],
      "text/plain": [
       "<IPython.core.display.HTML object>"
      ]
     },
     "metadata": {},
     "output_type": "display_data"
    },
    {
     "data": {
      "text/html": [
       "Syncing run <strong><a href='https://wandb.ai/afn-sy/Merged_GPR_Experiments/runs/6es851ri' target=\"_blank\">Expand_varb_noisy_lp_gp:hour</a></strong> to <a href='https://wandb.ai/afn-sy/Merged_GPR_Experiments' target=\"_blank\">Weights & Biases</a> (<a href='https://wandb.me/run' target=\"_blank\">docs</a>)<br/>"
      ],
      "text/plain": [
       "<IPython.core.display.HTML object>"
      ]
     },
     "metadata": {},
     "output_type": "display_data"
    },
    {
     "data": {
      "text/html": [
       " View project at <a href='https://wandb.ai/afn-sy/Merged_GPR_Experiments' target=\"_blank\">https://wandb.ai/afn-sy/Merged_GPR_Experiments</a>"
      ],
      "text/plain": [
       "<IPython.core.display.HTML object>"
      ]
     },
     "metadata": {},
     "output_type": "display_data"
    },
    {
     "data": {
      "text/html": [
       " View run at <a href='https://wandb.ai/afn-sy/Merged_GPR_Experiments/runs/6es851ri' target=\"_blank\">https://wandb.ai/afn-sy/Merged_GPR_Experiments/runs/6es851ri</a>"
      ],
      "text/plain": [
       "<IPython.core.display.HTML object>"
      ]
     },
     "metadata": {},
     "output_type": "display_data"
    },
    {
     "name": "stderr",
     "output_type": "stream",
     "text": [
      "Processing expanding window:   2%|▋                                 | 2/106 [00:00<00:22,  4.64it/s]"
     ]
    },
    {
     "name": "stdout",
     "output_type": "stream",
     "text": [
      "Step: 1\n"
     ]
    },
    {
     "name": "stderr",
     "output_type": "stream",
     "text": [
      "Processing expanding window:   4%|█▎                                | 4/106 [00:00<00:22,  4.52it/s]/home/sf_afn/usr_sa/anaconda3/envs/prkng_v2_env/lib/python3.11/site-packages/sklearn/gaussian_process/kernels.py:419: ConvergenceWarning:\n",
      "\n",
      "The optimal value found for dimension 0 of parameter k1__k1__k1__k1__constant_value is close to the specified lower bound 1e-05. Decreasing the bound and calling fit again may find a better value.\n",
      "\n",
      "Processing expanding window:   5%|█▌                                | 5/106 [00:00<00:18,  5.39it/s]"
     ]
    },
    {
     "name": "stdout",
     "output_type": "stream",
     "text": [
      "Step: 2\n"
     ]
    },
    {
     "name": "stderr",
     "output_type": "stream",
     "text": [
      "Processing expanding window:   6%|█▉                                | 6/106 [00:01<00:28,  3.47it/s]/home/sf_afn/usr_sa/anaconda3/envs/prkng_v2_env/lib/python3.11/site-packages/sklearn/gaussian_process/kernels.py:419: ConvergenceWarning:\n",
      "\n",
      "The optimal value found for dimension 0 of parameter k1__k1__k1__k1__constant_value is close to the specified lower bound 1e-05. Decreasing the bound and calling fit again may find a better value.\n",
      "\n",
      "/home/sf_afn/usr_sa/anaconda3/envs/prkng_v2_env/lib/python3.11/site-packages/sklearn/gaussian_process/kernels.py:429: ConvergenceWarning:\n",
      "\n",
      "The optimal value found for dimension 0 of parameter k1__k1__k1__k2__length_scale is close to the specified upper bound 1000.0. Increasing the bound and calling fit again may find a better value.\n",
      "\n"
     ]
    },
    {
     "name": "stdout",
     "output_type": "stream",
     "text": [
      "Step: 3\n"
     ]
    },
    {
     "name": "stderr",
     "output_type": "stream",
     "text": [
      "Processing expanding window:   8%|██▌                               | 8/106 [00:02<00:28,  3.46it/s]"
     ]
    },
    {
     "name": "stdout",
     "output_type": "stream",
     "text": [
      "Step: 4\n"
     ]
    },
    {
     "name": "stderr",
     "output_type": "stream",
     "text": [
      "Processing expanding window:   9%|███                              | 10/106 [00:02<00:28,  3.35it/s]"
     ]
    },
    {
     "name": "stdout",
     "output_type": "stream",
     "text": [
      "Step: 5\n"
     ]
    },
    {
     "name": "stderr",
     "output_type": "stream",
     "text": [
      "Processing expanding window:  11%|███▋                             | 12/106 [00:03<00:27,  3.36it/s]/home/sf_afn/usr_sa/anaconda3/envs/prkng_v2_env/lib/python3.11/site-packages/sklearn/gaussian_process/kernels.py:419: ConvergenceWarning:\n",
      "\n",
      "The optimal value found for dimension 0 of parameter k1__k1__k1__k1__constant_value is close to the specified lower bound 1e-05. Decreasing the bound and calling fit again may find a better value.\n",
      "\n"
     ]
    },
    {
     "name": "stdout",
     "output_type": "stream",
     "text": [
      "Step: 6\n"
     ]
    },
    {
     "name": "stderr",
     "output_type": "stream",
     "text": [
      "Processing expanding window:  13%|████▎                            | 14/106 [00:03<00:27,  3.40it/s]"
     ]
    },
    {
     "name": "stdout",
     "output_type": "stream",
     "text": [
      "Step: 7\n"
     ]
    },
    {
     "name": "stderr",
     "output_type": "stream",
     "text": [
      "Processing expanding window:  15%|████▉                            | 16/106 [00:04<00:26,  3.41it/s]"
     ]
    },
    {
     "name": "stdout",
     "output_type": "stream",
     "text": [
      "Step: 8\n"
     ]
    },
    {
     "name": "stderr",
     "output_type": "stream",
     "text": [
      "Processing expanding window:  17%|█████▌                           | 18/106 [00:05<00:25,  3.47it/s]"
     ]
    },
    {
     "name": "stdout",
     "output_type": "stream",
     "text": [
      "Step: 9\n"
     ]
    },
    {
     "name": "stderr",
     "output_type": "stream",
     "text": [
      "Processing expanding window:  19%|██████▏                          | 20/106 [00:05<00:24,  3.46it/s]"
     ]
    },
    {
     "name": "stdout",
     "output_type": "stream",
     "text": [
      "Step: 10\n"
     ]
    },
    {
     "name": "stderr",
     "output_type": "stream",
     "text": [
      "Processing expanding window:  21%|██████▊                          | 22/106 [00:06<00:24,  3.44it/s]"
     ]
    },
    {
     "name": "stdout",
     "output_type": "stream",
     "text": [
      "Step: 11\n"
     ]
    },
    {
     "name": "stderr",
     "output_type": "stream",
     "text": [
      "Processing expanding window:  24%|███████▊                         | 25/106 [00:06<00:20,  4.03it/s]"
     ]
    },
    {
     "name": "stdout",
     "output_type": "stream",
     "text": [
      "Step: 12\n"
     ]
    },
    {
     "name": "stderr",
     "output_type": "stream",
     "text": [
      "\u001b[34m\u001b[1mwandb\u001b[0m: Network error (ConnectionError), entering retry loop.\n",
      "\u001b[34m\u001b[1mwandb\u001b[0m: Network error resolved after 0:00:00.214586, resuming normal operation.\n",
      "Processing expanding window:  25%|████████                         | 26/106 [00:42<09:57,  7.47s/it]"
     ]
    },
    {
     "name": "stdout",
     "output_type": "stream",
     "text": [
      "Step: 13\n"
     ]
    },
    {
     "name": "stderr",
     "output_type": "stream",
     "text": [
      "Processing expanding window:  26%|████████▋                        | 28/106 [00:42<06:14,  4.80s/it]"
     ]
    },
    {
     "name": "stdout",
     "output_type": "stream",
     "text": [
      "Step: 14\n"
     ]
    },
    {
     "name": "stderr",
     "output_type": "stream",
     "text": [
      "Processing expanding window:  28%|█████████▎                       | 30/106 [00:43<04:05,  3.22s/it]"
     ]
    },
    {
     "name": "stdout",
     "output_type": "stream",
     "text": [
      "Step: 15\n"
     ]
    },
    {
     "name": "stderr",
     "output_type": "stream",
     "text": [
      "Processing expanding window:  30%|█████████▉                       | 32/106 [00:44<02:47,  2.27s/it]"
     ]
    },
    {
     "name": "stdout",
     "output_type": "stream",
     "text": [
      "Step: 16\n"
     ]
    },
    {
     "name": "stderr",
     "output_type": "stream",
     "text": [
      "Processing expanding window:  32%|██████████▌                      | 34/106 [00:44<01:56,  1.61s/it]"
     ]
    },
    {
     "name": "stdout",
     "output_type": "stream",
     "text": [
      "Step: 17\n"
     ]
    },
    {
     "name": "stderr",
     "output_type": "stream",
     "text": [
      "Processing expanding window:  34%|███████████▏                     | 36/106 [00:44<01:22,  1.18s/it]"
     ]
    },
    {
     "name": "stdout",
     "output_type": "stream",
     "text": [
      "Step: 18\n"
     ]
    },
    {
     "name": "stderr",
     "output_type": "stream",
     "text": [
      "Processing expanding window:  36%|███████████▊                     | 38/106 [00:45<01:00,  1.13it/s]"
     ]
    },
    {
     "name": "stdout",
     "output_type": "stream",
     "text": [
      "Step: 19\n"
     ]
    },
    {
     "name": "stderr",
     "output_type": "stream",
     "text": [
      "\u001b[34m\u001b[1mwandb\u001b[0m: Network error (ConnectionError), entering retry loop.\n",
      "Processing expanding window:  39%|████████████▊                    | 41/106 [00:55<01:53,  1.75s/it]"
     ]
    },
    {
     "name": "stdout",
     "output_type": "stream",
     "text": [
      "Step: 20\n"
     ]
    },
    {
     "name": "stderr",
     "output_type": "stream",
     "text": [
      "Processing expanding window:  40%|█████████████                    | 42/106 [00:55<01:34,  1.47s/it]"
     ]
    },
    {
     "name": "stdout",
     "output_type": "stream",
     "text": [
      "Step: 21\n"
     ]
    },
    {
     "name": "stderr",
     "output_type": "stream",
     "text": [
      "\u001b[34m\u001b[1mwandb\u001b[0m: Network error (ConnectionError), entering retry loop.\n",
      "Processing expanding window:  42%|█████████████▋                   | 44/106 [01:03<02:27,  2.39s/it]"
     ]
    },
    {
     "name": "stdout",
     "output_type": "stream",
     "text": [
      "Step: 22\n"
     ]
    },
    {
     "name": "stderr",
     "output_type": "stream",
     "text": [
      "Processing expanding window:  43%|██████████████▎                  | 46/106 [01:07<02:12,  2.20s/it]"
     ]
    },
    {
     "name": "stdout",
     "output_type": "stream",
     "text": [
      "Step: 23\n"
     ]
    },
    {
     "name": "stderr",
     "output_type": "stream",
     "text": [
      "Processing expanding window:  46%|███████████████▎                 | 49/106 [01:07<01:12,  1.27s/it]"
     ]
    },
    {
     "name": "stdout",
     "output_type": "stream",
     "text": [
      "Step: 24\n"
     ]
    },
    {
     "name": "stderr",
     "output_type": "stream",
     "text": [
      "Processing expanding window:  48%|███████████████▉                 | 51/106 [01:08<00:47,  1.17it/s]"
     ]
    },
    {
     "name": "stdout",
     "output_type": "stream",
     "text": [
      "Step: 25\n"
     ]
    },
    {
     "name": "stderr",
     "output_type": "stream",
     "text": [
      "Processing expanding window:  49%|████████████████▏                | 52/106 [01:09<00:56,  1.04s/it]"
     ]
    },
    {
     "name": "stdout",
     "output_type": "stream",
     "text": [
      "Step: 26\n"
     ]
    },
    {
     "name": "stderr",
     "output_type": "stream",
     "text": [
      "wandb: Network error (ConnectionError), entering retry loop.\n",
      "\u001b[34m\u001b[1mwandb\u001b[0m: Network error (ConnectionError), entering retry loop.\n",
      "\u001b[34m\u001b[1mwandb\u001b[0m: Network error resolved after 0:00:03.347818, resuming normal operation.\n",
      "\u001b[34m\u001b[1mwandb\u001b[0m: Network error (ConnectionError), entering retry loop.\n",
      "Processing expanding window:  51%|████████████████▊                | 54/106 [01:33<04:52,  5.62s/it]"
     ]
    },
    {
     "name": "stdout",
     "output_type": "stream",
     "text": [
      "Step: 27\n"
     ]
    },
    {
     "name": "stderr",
     "output_type": "stream",
     "text": [
      "Processing expanding window:  53%|█████████████████▍               | 56/106 [01:38<03:34,  4.29s/it]"
     ]
    },
    {
     "name": "stdout",
     "output_type": "stream",
     "text": [
      "Step: 28\n"
     ]
    },
    {
     "name": "stderr",
     "output_type": "stream",
     "text": [
      "Processing expanding window:  56%|██████████████████▎              | 59/106 [01:38<01:49,  2.33s/it]"
     ]
    },
    {
     "name": "stdout",
     "output_type": "stream",
     "text": [
      "Step: 29\n"
     ]
    },
    {
     "name": "stderr",
     "output_type": "stream",
     "text": [
      "\u001b[34m\u001b[1mwandb\u001b[0m: Network error (ConnectionError), entering retry loop.\n",
      "Processing expanding window:  57%|██████████████████▋              | 60/106 [01:46<02:41,  3.52s/it]/home/sf_afn/usr_sa/anaconda3/envs/prkng_v2_env/lib/python3.11/site-packages/sklearn/gaussian_process/kernels.py:419: ConvergenceWarning:\n",
      "\n",
      "The optimal value found for dimension 0 of parameter k1__k1__k1__k2__length_scale is close to the specified lower bound 0.001. Decreasing the bound and calling fit again may find a better value.\n",
      "\n"
     ]
    },
    {
     "name": "stdout",
     "output_type": "stream",
     "text": [
      "Step: 30\n"
     ]
    },
    {
     "name": "stderr",
     "output_type": "stream",
     "text": [
      "\u001b[34m\u001b[1mwandb\u001b[0m: Network error (ConnectionError), entering retry loop.\n",
      "Processing expanding window:  58%|███████████████████▎             | 62/106 [01:55<02:51,  3.90s/it]/home/sf_afn/usr_sa/anaconda3/envs/prkng_v2_env/lib/python3.11/site-packages/sklearn/gaussian_process/kernels.py:419: ConvergenceWarning:\n",
      "\n",
      "The optimal value found for dimension 0 of parameter k1__k2__noise_level is close to the specified lower bound 1e-10. Decreasing the bound and calling fit again may find a better value.\n",
      "\n"
     ]
    },
    {
     "name": "stdout",
     "output_type": "stream",
     "text": [
      "Step: 31\n"
     ]
    },
    {
     "name": "stderr",
     "output_type": "stream",
     "text": [
      "\u001b[34m\u001b[1mwandb\u001b[0m: Network error (ConnectionError), entering retry loop.\n",
      "Processing expanding window:  60%|███████████████████▉             | 64/106 [02:03<02:49,  4.03s/it]"
     ]
    },
    {
     "name": "stdout",
     "output_type": "stream",
     "text": [
      "Step: 32\n"
     ]
    },
    {
     "name": "stderr",
     "output_type": "stream",
     "text": [
      "\u001b[34m\u001b[1mwandb\u001b[0m: Network error (ConnectionError), entering retry loop.\n",
      "Processing expanding window:  62%|████████████████████▌            | 66/106 [02:12<02:42,  4.07s/it]/home/sf_afn/usr_sa/anaconda3/envs/prkng_v2_env/lib/python3.11/site-packages/sklearn/gaussian_process/kernels.py:419: ConvergenceWarning:\n",
      "\n",
      "The optimal value found for dimension 0 of parameter k1__k2__noise_level is close to the specified lower bound 1e-10. Decreasing the bound and calling fit again may find a better value.\n",
      "\n",
      "Processing expanding window:  63%|████████████████████▊            | 67/106 [02:12<02:08,  3.30s/it]"
     ]
    },
    {
     "name": "stdout",
     "output_type": "stream",
     "text": [
      "Step: 33\n"
     ]
    },
    {
     "name": "stderr",
     "output_type": "stream",
     "text": [
      "Processing expanding window:  64%|█████████████████████▏           | 68/106 [02:12<01:42,  2.69s/it]/home/sf_afn/usr_sa/anaconda3/envs/prkng_v2_env/lib/python3.11/site-packages/sklearn/gaussian_process/kernels.py:419: ConvergenceWarning:\n",
      "\n",
      "The optimal value found for dimension 0 of parameter k2__length_scale is close to the specified lower bound 0.1. Decreasing the bound and calling fit again may find a better value.\n",
      "\n",
      "Processing expanding window:  65%|█████████████████████▍           | 69/106 [02:12<01:17,  2.08s/it]"
     ]
    },
    {
     "name": "stdout",
     "output_type": "stream",
     "text": [
      "Step: 34\n"
     ]
    },
    {
     "name": "stderr",
     "output_type": "stream",
     "text": [
      "\u001b[34m\u001b[1mwandb\u001b[0m: Network error (ConnectionError), entering retry loop.\n",
      "Processing expanding window:  66%|█████████████████████▊           | 70/106 [02:48<06:23, 10.66s/it]"
     ]
    },
    {
     "name": "stdout",
     "output_type": "stream",
     "text": [
      "Step: 35\n"
     ]
    },
    {
     "name": "stderr",
     "output_type": "stream",
     "text": [
      "Processing expanding window:  68%|██████████████████████▍          | 72/106 [02:49<03:33,  6.29s/it]"
     ]
    },
    {
     "name": "stdout",
     "output_type": "stream",
     "text": [
      "Step: 36\n"
     ]
    },
    {
     "name": "stderr",
     "output_type": "stream",
     "text": [
      "Processing expanding window:  70%|███████████████████████          | 74/106 [02:49<02:08,  4.02s/it]"
     ]
    },
    {
     "name": "stdout",
     "output_type": "stream",
     "text": [
      "Step: 37\n"
     ]
    },
    {
     "name": "stderr",
     "output_type": "stream",
     "text": [
      "Processing expanding window:  72%|███████████████████████▋         | 76/106 [02:51<01:27,  2.91s/it]"
     ]
    },
    {
     "name": "stdout",
     "output_type": "stream",
     "text": [
      "Step: 38\n"
     ]
    },
    {
     "name": "stderr",
     "output_type": "stream",
     "text": [
      "Processing expanding window:  74%|████████████████████████▎        | 78/106 [02:51<00:56,  2.01s/it]"
     ]
    },
    {
     "name": "stdout",
     "output_type": "stream",
     "text": [
      "Step: 39\n"
     ]
    },
    {
     "name": "stderr",
     "output_type": "stream",
     "text": [
      "Processing expanding window:  75%|████████████████████████▉        | 80/106 [02:52<00:37,  1.44s/it]"
     ]
    },
    {
     "name": "stdout",
     "output_type": "stream",
     "text": [
      "Step: 40\n"
     ]
    },
    {
     "name": "stderr",
     "output_type": "stream",
     "text": [
      "Processing expanding window:  77%|█████████████████████████▌       | 82/106 [02:57<00:41,  1.75s/it]/home/sf_afn/usr_sa/anaconda3/envs/prkng_v2_env/lib/python3.11/site-packages/sklearn/gaussian_process/kernels.py:419: ConvergenceWarning:\n",
      "\n",
      "The optimal value found for dimension 0 of parameter k1__k1__k1__k1__constant_value is close to the specified lower bound 1e-05. Decreasing the bound and calling fit again may find a better value.\n",
      "\n"
     ]
    },
    {
     "name": "stdout",
     "output_type": "stream",
     "text": [
      "Step: 41\n"
     ]
    },
    {
     "name": "stderr",
     "output_type": "stream",
     "text": [
      "Processing expanding window:  79%|██████████████████████████▏      | 84/106 [02:57<00:28,  1.28s/it]"
     ]
    },
    {
     "name": "stdout",
     "output_type": "stream",
     "text": [
      "Step: 42\n"
     ]
    },
    {
     "name": "stderr",
     "output_type": "stream",
     "text": [
      "Processing expanding window:  81%|██████████████████████████▊      | 86/106 [03:04<00:38,  1.90s/it]/home/sf_afn/usr_sa/anaconda3/envs/prkng_v2_env/lib/python3.11/site-packages/sklearn/gaussian_process/kernels.py:419: ConvergenceWarning:\n",
      "\n",
      "The optimal value found for dimension 0 of parameter k1__k1__k1__k1__constant_value is close to the specified lower bound 1e-05. Decreasing the bound and calling fit again may find a better value.\n",
      "\n",
      "/home/sf_afn/usr_sa/anaconda3/envs/prkng_v2_env/lib/python3.11/site-packages/sklearn/gaussian_process/kernels.py:429: ConvergenceWarning:\n",
      "\n",
      "The optimal value found for dimension 0 of parameter k1__k1__k1__k2__length_scale is close to the specified upper bound 1000.0. Increasing the bound and calling fit again may find a better value.\n",
      "\n"
     ]
    },
    {
     "name": "stdout",
     "output_type": "stream",
     "text": [
      "Step: 43\n"
     ]
    },
    {
     "name": "stderr",
     "output_type": "stream",
     "text": [
      "Processing expanding window:  83%|███████████████████████████▍     | 88/106 [03:05<00:27,  1.52s/it]"
     ]
    },
    {
     "name": "stdout",
     "output_type": "stream",
     "text": [
      "Step: 44\n"
     ]
    },
    {
     "name": "stderr",
     "output_type": "stream",
     "text": [
      "Processing expanding window:  85%|████████████████████████████     | 90/106 [03:06<00:19,  1.21s/it]/home/sf_afn/usr_sa/anaconda3/envs/prkng_v2_env/lib/python3.11/site-packages/sklearn/gaussian_process/kernels.py:419: ConvergenceWarning:\n",
      "\n",
      "The optimal value found for dimension 0 of parameter k1__k1__k1__k1__constant_value is close to the specified lower bound 1e-05. Decreasing the bound and calling fit again may find a better value.\n",
      "\n",
      "/home/sf_afn/usr_sa/anaconda3/envs/prkng_v2_env/lib/python3.11/site-packages/sklearn/gaussian_process/kernels.py:419: ConvergenceWarning:\n",
      "\n",
      "The optimal value found for dimension 0 of parameter k2__length_scale is close to the specified lower bound 0.1. Decreasing the bound and calling fit again may find a better value.\n",
      "\n"
     ]
    },
    {
     "name": "stdout",
     "output_type": "stream",
     "text": [
      "Step: 45\n"
     ]
    },
    {
     "name": "stderr",
     "output_type": "stream",
     "text": [
      "\u001b[34m\u001b[1mwandb\u001b[0m: Network error (ConnectionError), entering retry loop.\n",
      "Processing expanding window:  87%|████████████████████████████▋    | 92/106 [03:15<00:30,  2.18s/it]/home/sf_afn/usr_sa/anaconda3/envs/prkng_v2_env/lib/python3.11/site-packages/sklearn/gaussian_process/kernels.py:419: ConvergenceWarning:\n",
      "\n",
      "The optimal value found for dimension 0 of parameter k1__k1__k1__k1__constant_value is close to the specified lower bound 1e-05. Decreasing the bound and calling fit again may find a better value.\n",
      "\n",
      "/home/sf_afn/usr_sa/anaconda3/envs/prkng_v2_env/lib/python3.11/site-packages/sklearn/gaussian_process/kernels.py:419: ConvergenceWarning:\n",
      "\n",
      "The optimal value found for dimension 0 of parameter k2__length_scale is close to the specified lower bound 0.1. Decreasing the bound and calling fit again may find a better value.\n",
      "\n",
      "Processing expanding window:  88%|████████████████████████████▉    | 93/106 [03:15<00:23,  1.81s/it]"
     ]
    },
    {
     "name": "stdout",
     "output_type": "stream",
     "text": [
      "Step: 46\n"
     ]
    },
    {
     "name": "stderr",
     "output_type": "stream",
     "text": [
      "\u001b[34m\u001b[1mwandb\u001b[0m: Network error (ConnectionError), entering retry loop.\n",
      "Processing expanding window:  89%|█████████████████████████████▎   | 94/106 [03:51<01:44,  8.72s/it]"
     ]
    },
    {
     "name": "stdout",
     "output_type": "stream",
     "text": [
      "Step: 47\n"
     ]
    },
    {
     "name": "stderr",
     "output_type": "stream",
     "text": [
      "Processing expanding window:  92%|██████████████████████████████▏  | 97/106 [03:55<00:44,  4.98s/it]"
     ]
    },
    {
     "name": "stdout",
     "output_type": "stream",
     "text": [
      "Step: 48\n"
     ]
    },
    {
     "name": "stderr",
     "output_type": "stream",
     "text": [
      "Processing expanding window:  93%|██████████████████████████████▊  | 99/106 [03:56<00:21,  3.01s/it]"
     ]
    },
    {
     "name": "stdout",
     "output_type": "stream",
     "text": [
      "Step: 49\n"
     ]
    },
    {
     "name": "stderr",
     "output_type": "stream",
     "text": [
      "Processing expanding window:  94%|██████████████████████████████▏ | 100/106 [03:56<00:13,  2.33s/it]/home/sf_afn/usr_sa/anaconda3/envs/prkng_v2_env/lib/python3.11/site-packages/sklearn/gaussian_process/kernels.py:419: ConvergenceWarning:\n",
      "\n",
      "The optimal value found for dimension 0 of parameter k1__k1__k1__k1__constant_value is close to the specified lower bound 1e-05. Decreasing the bound and calling fit again may find a better value.\n",
      "\n",
      "/home/sf_afn/usr_sa/anaconda3/envs/prkng_v2_env/lib/python3.11/site-packages/sklearn/gaussian_process/kernels.py:419: ConvergenceWarning:\n",
      "\n",
      "The optimal value found for dimension 0 of parameter k2__length_scale is close to the specified lower bound 0.1. Decreasing the bound and calling fit again may find a better value.\n",
      "\n",
      "Processing expanding window:  95%|██████████████████████████████▍ | 101/106 [03:56<00:08,  1.74s/it]"
     ]
    },
    {
     "name": "stdout",
     "output_type": "stream",
     "text": [
      "Step: 50\n"
     ]
    },
    {
     "name": "stderr",
     "output_type": "stream",
     "text": [
      "Processing expanding window:  96%|██████████████████████████████▊ | 102/106 [03:57<00:05,  1.36s/it]"
     ]
    },
    {
     "name": "stdout",
     "output_type": "stream",
     "text": [
      "Step: 51\n"
     ]
    },
    {
     "name": "stderr",
     "output_type": "stream",
     "text": [
      "Processing expanding window:  98%|███████████████████████████████▍| 104/106 [03:57<00:01,  1.17it/s]/home/sf_afn/usr_sa/anaconda3/envs/prkng_v2_env/lib/python3.11/site-packages/sklearn/gaussian_process/kernels.py:419: ConvergenceWarning:\n",
      "\n",
      "The optimal value found for dimension 0 of parameter k1__k1__k1__k1__constant_value is close to the specified lower bound 1e-05. Decreasing the bound and calling fit again may find a better value.\n",
      "\n"
     ]
    },
    {
     "name": "stdout",
     "output_type": "stream",
     "text": [
      "Step: 52\n"
     ]
    },
    {
     "name": "stderr",
     "output_type": "stream",
     "text": [
      "Processing expanding window: 100%|████████████████████████████████| 106/106 [03:58<00:00,  2.25s/it]\n"
     ]
    },
    {
     "name": "stdout",
     "output_type": "stream",
     "text": [
      "Step: 53\n",
      "Testing final GPR on test set\n"
     ]
    },
    {
     "name": "stderr",
     "output_type": "stream",
     "text": [
      "wandb: Network error (ConnectionError), entering retry loop.\n"
     ]
    },
    {
     "data": {
      "application/vnd.jupyter.widget-view+json": {
       "model_id": "337f0e33cea34721999689ff4c8b8326",
       "version_major": 2,
       "version_minor": 0
      },
      "text/plain": [
       "VBox(children=(Label(value='89.779 MB of 89.835 MB uploaded\\r'), FloatProgress(value=0.9993788668023011, max=1…"
      ]
     },
     "metadata": {},
     "output_type": "display_data"
    },
    {
     "name": "stderr",
     "output_type": "stream",
     "text": [
      "wandb: WARNING Source type is set to 'repo' but some required information is missing from the environment. A job will not be created from this run. See https://docs.wandb.ai/guides/launch/create-job\n"
     ]
    },
    {
     "data": {
      "text/html": [
       "<style>\n",
       "    table.wandb td:nth-child(1) { padding: 0 10px; text-align: left ; width: auto;} td:nth-child(2) {text-align: left ; width: 100%}\n",
       "    .wandb-row { display: flex; flex-direction: row; flex-wrap: wrap; justify-content: flex-start; width: 100% }\n",
       "    .wandb-col { display: flex; flex-direction: column; flex-basis: 100%; flex: 1; padding: 10px; }\n",
       "    </style>\n",
       "<div class=\"wandb-row\"><div class=\"wandb-col\"><h3>Run history:</h3><br/><table class=\"wandb\"><tr><td>LML_test</td><td>▁</td></tr><tr><td>LML_train</td><td>▁▂▃▃▃▃▄▅▅▅▄▄▅▆▆▇▇▇▇▇▇▇▇▇▇█▇█▇▇▇▇█▇██████</td></tr><tr><td>LML_validate</td><td>▁▂▃▃▃▃▄▅▅▅▄▄▅▆▅▇▇▇▇▇▇▇▇█▇█▇█▇▇▇▇▇▇▇█████</td></tr><tr><td>MAE_test</td><td>▁</td></tr><tr><td>MAE_train</td><td>▇██▇▇▇▆▆▆▄▅▅▄▄▅▁▁▁▁▁▁▁▃▁▅▁▁▁▅▅▅▅▅▅▅▅▅▅▅▅</td></tr><tr><td>MAE_validate</td><td>▂▂▂▂▁█▄▃▄▁▃▆▄▃▃▇▃▂▃▄▅▄▂▃▃▃▃▂▁▆▄▃▃▄▇▃▄▃▄▁</td></tr><tr><td>MAPE_test</td><td>▁</td></tr><tr><td>MAPE_train</td><td>▄▃▄▃▃▃▅▇█▃▃▂▂▃▄▁▁▁▁▁▁▁▃▁▂▁▁▁▃▄▄▂▂▂▂▆▆▂▂▂</td></tr><tr><td>MAPE_validate</td><td>▂▁▂▁▂▂▂▂▃▁▁▂▂▁▂▁▂▂▂▁▁▂▁▂▂▁▁▁▁▂▁▁▁▁▂▁█▁▂▂</td></tr><tr><td>MSE_test</td><td>▁</td></tr><tr><td>MSE_train</td><td>▆██▇▇▇▆▆▅▂▄▄▃▃▄▁▁▁▁▁▁▁▂▁▄▁▁▁▄▄▄▄▄▄▃▃▃▃▃▃</td></tr><tr><td>MSE_validate</td><td>▁▂▁▁▁█▃▃▃▁▂▅▃▂▂▇▂▁▂▃▃▃▁▂▂▂▃▂▁▅▄▂▂▃▅▂▂▂▃▁</td></tr><tr><td>R2_test</td><td>▁</td></tr><tr><td>R2_train</td><td>▅▄▄▄▄▄▂▁▂▆▄▄▅▅▃███████▆█▄███▃▄▄▅▅▅▅▆▅▆▆▆</td></tr><tr><td>R2_validate</td><td>█▇███▇█▇███▇▇▇█▇▆█▇█▇███▅██▇▇███▂██▄█▁██</td></tr><tr><td>RMSE_test</td><td>▁</td></tr><tr><td>RMSE_train</td><td>▇██▇▇▇▇▇▆▄▆▆▅▅▆▁▁▁▁▁▁▁▄▁▆▁▁▁▆▆▆▆▅▅▅▅▅▅▅▅</td></tr><tr><td>RMSE_validate</td><td>▂▂▁▂▁█▄▄▄▂▃▆▅▃▃█▃▂▃▄▄▄▂▃▃▂▄▃▁▆▅▃▃▄▆▃▃▃▄▁</td></tr><tr><td>step</td><td>▁▁▁▂▂▂▂▂▂▃▃▃▃▃▄▄▄▄▄▅▅▅▅▅▅▆▆▆▆▆▇▇▇▇▇▇███▁</td></tr></table><br/></div><div class=\"wandb-col\"><h3>Run summary:</h3><br/><table class=\"wandb\"><tr><td>LML_test</td><td>-14.80263</td></tr><tr><td>LML_train</td><td>-14.80263</td></tr><tr><td>LML_validate</td><td>-14.80263</td></tr><tr><td>MAE_test</td><td>0.6739</td></tr><tr><td>MAE_train</td><td>0.23681</td></tr><tr><td>MAE_validate</td><td>0.78997</td></tr><tr><td>MAPE_test</td><td>98.85007</td></tr><tr><td>MAPE_train</td><td>46.07209</td></tr><tr><td>MAPE_validate</td><td>120.9756</td></tr><tr><td>MSE_test</td><td>0.77157</td></tr><tr><td>MSE_train</td><td>0.07587</td></tr><tr><td>MSE_validate</td><td>0.97252</td></tr><tr><td>R2_test</td><td>0.35721</td></tr><tr><td>R2_train</td><td>0.87322</td></tr><tr><td>R2_validate</td><td>0.34102</td></tr><tr><td>RMSE_test</td><td>0.87839</td></tr><tr><td>RMSE_train</td><td>0.27544</td></tr><tr><td>RMSE_validate</td><td>0.98617</td></tr><tr><td>step</td><td>1</td></tr></table><br/></div></div>"
      ],
      "text/plain": [
       "<IPython.core.display.HTML object>"
      ]
     },
     "metadata": {},
     "output_type": "display_data"
    },
    {
     "data": {
      "text/html": [
       " View run <strong style=\"color:#cdcd00\">Expand_varb_noisy_lp_gp:hour</strong> at: <a href='https://wandb.ai/afn-sy/Merged_GPR_Experiments/runs/6es851ri' target=\"_blank\">https://wandb.ai/afn-sy/Merged_GPR_Experiments/runs/6es851ri</a><br/>Synced 7 W&B file(s), 322 media file(s), 108 artifact file(s) and 4 other file(s)"
      ],
      "text/plain": [
       "<IPython.core.display.HTML object>"
      ]
     },
     "metadata": {},
     "output_type": "display_data"
    },
    {
     "data": {
      "text/html": [
       "Find logs at: <code>./wandb/run-20240122_211505-6es851ri/logs</code>"
      ],
      "text/plain": [
       "<IPython.core.display.HTML object>"
      ]
     },
     "metadata": {},
     "output_type": "display_data"
    },
    {
     "data": {
      "application/vnd.jupyter.widget-view+json": {
       "model_id": "0fe05952ddd24da6bbfcc1622f78f67c",
       "version_major": 2,
       "version_minor": 0
      },
      "text/plain": [
       "VBox(children=(Label(value='Waiting for wandb.init()...\\r'), FloatProgress(value=0.011111984166604492, max=1.0…"
      ]
     },
     "metadata": {},
     "output_type": "display_data"
    },
    {
     "data": {
      "text/html": [
       "Tracking run with wandb version 0.16.2"
      ],
      "text/plain": [
       "<IPython.core.display.HTML object>"
      ]
     },
     "metadata": {},
     "output_type": "display_data"
    },
    {
     "data": {
      "text/html": [
       "Run data is saved locally in <code>/home/sf_afn/Insync/sofiaa720@gmail.com/Google Drive/masters_thesis/code_v1/msc_parking/univrses/notebooks/wandb/run-20240122_211922-a5gm6tng</code>"
      ],
      "text/plain": [
       "<IPython.core.display.HTML object>"
      ]
     },
     "metadata": {},
     "output_type": "display_data"
    },
    {
     "data": {
      "text/html": [
       "Syncing run <strong><a href='https://wandb.ai/afn-sy/Merged_GPR_Experiments/runs/a5gm6tng' target=\"_blank\">Expand_varb_noisy_lp_gp:week</a></strong> to <a href='https://wandb.ai/afn-sy/Merged_GPR_Experiments' target=\"_blank\">Weights & Biases</a> (<a href='https://wandb.me/run' target=\"_blank\">docs</a>)<br/>"
      ],
      "text/plain": [
       "<IPython.core.display.HTML object>"
      ]
     },
     "metadata": {},
     "output_type": "display_data"
    },
    {
     "data": {
      "text/html": [
       " View project at <a href='https://wandb.ai/afn-sy/Merged_GPR_Experiments' target=\"_blank\">https://wandb.ai/afn-sy/Merged_GPR_Experiments</a>"
      ],
      "text/plain": [
       "<IPython.core.display.HTML object>"
      ]
     },
     "metadata": {},
     "output_type": "display_data"
    },
    {
     "data": {
      "text/html": [
       " View run at <a href='https://wandb.ai/afn-sy/Merged_GPR_Experiments/runs/a5gm6tng' target=\"_blank\">https://wandb.ai/afn-sy/Merged_GPR_Experiments/runs/a5gm6tng</a>"
      ],
      "text/plain": [
       "<IPython.core.display.HTML object>"
      ]
     },
     "metadata": {},
     "output_type": "display_data"
    },
    {
     "name": "stderr",
     "output_type": "stream",
     "text": [
      "Processing expanding window:   0%|                                          | 0/106 [00:00<?, ?it/s]\n"
     ]
    },
    {
     "name": "stdout",
     "output_type": "stream",
     "text": [
      "An error occurred: 'numpy.ndarray' object has no attribute 'predict'\n"
     ]
    },
    {
     "name": "stderr",
     "output_type": "stream",
     "text": [
      "wandb: WARNING Source type is set to 'repo' but some required information is missing from the environment. A job will not be created from this run. See https://docs.wandb.ai/guides/launch/create-job\n"
     ]
    },
    {
     "data": {
      "application/vnd.jupyter.widget-view+json": {
       "model_id": "bd826496c33e45069927b366687b4d30",
       "version_major": 2,
       "version_minor": 0
      },
      "text/plain": [
       "VBox(children=(Label(value='39.691 MB of 87.024 MB uploaded\\r'), FloatProgress(value=0.4560952744909445, max=1…"
      ]
     },
     "metadata": {},
     "output_type": "display_data"
    },
    {
     "data": {
      "text/html": [
       " View run <strong style=\"color:#cdcd00\">Expand_varb_noisy_lp_gp:week</strong> at: <a href='https://wandb.ai/afn-sy/Merged_GPR_Experiments/runs/a5gm6tng' target=\"_blank\">https://wandb.ai/afn-sy/Merged_GPR_Experiments/runs/a5gm6tng</a><br/>Synced 7 W&B file(s), 0 media file(s), 0 artifact file(s) and 1 other file(s)"
      ],
      "text/plain": [
       "<IPython.core.display.HTML object>"
      ]
     },
     "metadata": {},
     "output_type": "display_data"
    },
    {
     "data": {
      "text/html": [
       "Find logs at: <code>./wandb/run-20240122_211922-a5gm6tng/logs</code>"
      ],
      "text/plain": [
       "<IPython.core.display.HTML object>"
      ]
     },
     "metadata": {},
     "output_type": "display_data"
    },
    {
     "data": {
      "application/vnd.jupyter.widget-view+json": {
       "model_id": "556a3e1f51b843529375820c6141df6b",
       "version_major": 2,
       "version_minor": 0
      },
      "text/plain": [
       "VBox(children=(Label(value='Waiting for wandb.init()...\\r'), FloatProgress(value=0.011111993544424574, max=1.0…"
      ]
     },
     "metadata": {},
     "output_type": "display_data"
    },
    {
     "data": {
      "text/html": [
       "Tracking run with wandb version 0.16.2"
      ],
      "text/plain": [
       "<IPython.core.display.HTML object>"
      ]
     },
     "metadata": {},
     "output_type": "display_data"
    },
    {
     "data": {
      "text/html": [
       "Run data is saved locally in <code>/home/sf_afn/Insync/sofiaa720@gmail.com/Google Drive/masters_thesis/code_v1/msc_parking/univrses/notebooks/wandb/run-20240122_211937-omfx883y</code>"
      ],
      "text/plain": [
       "<IPython.core.display.HTML object>"
      ]
     },
     "metadata": {},
     "output_type": "display_data"
    },
    {
     "data": {
      "text/html": [
       "Syncing run <strong><a href='https://wandb.ai/afn-sy/Merged_GPR_Experiments/runs/omfx883y' target=\"_blank\">Expand_varb_noisy_lp_gp:month</a></strong> to <a href='https://wandb.ai/afn-sy/Merged_GPR_Experiments' target=\"_blank\">Weights & Biases</a> (<a href='https://wandb.me/run' target=\"_blank\">docs</a>)<br/>"
      ],
      "text/plain": [
       "<IPython.core.display.HTML object>"
      ]
     },
     "metadata": {},
     "output_type": "display_data"
    },
    {
     "data": {
      "text/html": [
       " View project at <a href='https://wandb.ai/afn-sy/Merged_GPR_Experiments' target=\"_blank\">https://wandb.ai/afn-sy/Merged_GPR_Experiments</a>"
      ],
      "text/plain": [
       "<IPython.core.display.HTML object>"
      ]
     },
     "metadata": {},
     "output_type": "display_data"
    },
    {
     "data": {
      "text/html": [
       " View run at <a href='https://wandb.ai/afn-sy/Merged_GPR_Experiments/runs/omfx883y' target=\"_blank\">https://wandb.ai/afn-sy/Merged_GPR_Experiments/runs/omfx883y</a>"
      ],
      "text/plain": [
       "<IPython.core.display.HTML object>"
      ]
     },
     "metadata": {},
     "output_type": "display_data"
    },
    {
     "name": "stderr",
     "output_type": "stream",
     "text": [
      "Processing expanding window:   0%|                                          | 0/106 [00:00<?, ?it/s]\n"
     ]
    },
    {
     "name": "stdout",
     "output_type": "stream",
     "text": [
      "An error occurred: 'numpy.ndarray' object has no attribute 'predict'\n"
     ]
    },
    {
     "data": {
      "application/vnd.jupyter.widget-view+json": {
       "model_id": "fee9f0aec3ea4a1db3d28afdf3a0a797",
       "version_major": 2,
       "version_minor": 0
      },
      "text/plain": [
       "VBox(children=(Label(value='0.004 MB of 87.024 MB uploaded\\r'), FloatProgress(value=4.1402303243663335e-05, ma…"
      ]
     },
     "metadata": {},
     "output_type": "display_data"
    },
    {
     "name": "stderr",
     "output_type": "stream",
     "text": [
      "wandb: WARNING Source type is set to 'repo' but some required information is missing from the environment. A job will not be created from this run. See https://docs.wandb.ai/guides/launch/create-job\n"
     ]
    },
    {
     "data": {
      "text/html": [
       " View run <strong style=\"color:#cdcd00\">Expand_varb_noisy_lp_gp:month</strong> at: <a href='https://wandb.ai/afn-sy/Merged_GPR_Experiments/runs/omfx883y' target=\"_blank\">https://wandb.ai/afn-sy/Merged_GPR_Experiments/runs/omfx883y</a><br/>Synced 7 W&B file(s), 0 media file(s), 0 artifact file(s) and 1 other file(s)"
      ],
      "text/plain": [
       "<IPython.core.display.HTML object>"
      ]
     },
     "metadata": {},
     "output_type": "display_data"
    },
    {
     "data": {
      "text/html": [
       "Find logs at: <code>./wandb/run-20240122_211937-omfx883y/logs</code>"
      ],
      "text/plain": [
       "<IPython.core.display.HTML object>"
      ]
     },
     "metadata": {},
     "output_type": "display_data"
    },
    {
     "data": {
      "application/vnd.jupyter.widget-view+json": {
       "model_id": "2df9ec780e7f47c5ba0fdf0956e9916b",
       "version_major": 2,
       "version_minor": 0
      },
      "text/plain": [
       "VBox(children=(Label(value='Waiting for wandb.init()...\\r'), FloatProgress(value=0.01111201975549597, max=1.0)…"
      ]
     },
     "metadata": {},
     "output_type": "display_data"
    },
    {
     "data": {
      "text/html": [
       "Tracking run with wandb version 0.16.2"
      ],
      "text/plain": [
       "<IPython.core.display.HTML object>"
      ]
     },
     "metadata": {},
     "output_type": "display_data"
    },
    {
     "data": {
      "text/html": [
       "Run data is saved locally in <code>/home/sf_afn/Insync/sofiaa720@gmail.com/Google Drive/masters_thesis/code_v1/msc_parking/univrses/notebooks/wandb/run-20240122_211953-qolfxkee</code>"
      ],
      "text/plain": [
       "<IPython.core.display.HTML object>"
      ]
     },
     "metadata": {},
     "output_type": "display_data"
    },
    {
     "data": {
      "text/html": [
       "Syncing run <strong><a href='https://wandb.ai/afn-sy/Merged_GPR_Experiments/runs/qolfxkee' target=\"_blank\">Expand_slakt_noisy_lp_gp:hour</a></strong> to <a href='https://wandb.ai/afn-sy/Merged_GPR_Experiments' target=\"_blank\">Weights & Biases</a> (<a href='https://wandb.me/run' target=\"_blank\">docs</a>)<br/>"
      ],
      "text/plain": [
       "<IPython.core.display.HTML object>"
      ]
     },
     "metadata": {},
     "output_type": "display_data"
    },
    {
     "data": {
      "text/html": [
       " View project at <a href='https://wandb.ai/afn-sy/Merged_GPR_Experiments' target=\"_blank\">https://wandb.ai/afn-sy/Merged_GPR_Experiments</a>"
      ],
      "text/plain": [
       "<IPython.core.display.HTML object>"
      ]
     },
     "metadata": {},
     "output_type": "display_data"
    },
    {
     "data": {
      "text/html": [
       " View run at <a href='https://wandb.ai/afn-sy/Merged_GPR_Experiments/runs/qolfxkee' target=\"_blank\">https://wandb.ai/afn-sy/Merged_GPR_Experiments/runs/qolfxkee</a>"
      ],
      "text/plain": [
       "<IPython.core.display.HTML object>"
      ]
     },
     "metadata": {},
     "output_type": "display_data"
    },
    {
     "name": "stderr",
     "output_type": "stream",
     "text": [
      "Processing expanding window:   2%|▋                                 | 2/108 [00:01<01:22,  1.29it/s]"
     ]
    },
    {
     "name": "stdout",
     "output_type": "stream",
     "text": [
      "Step: 1\n"
     ]
    },
    {
     "name": "stderr",
     "output_type": "stream",
     "text": [
      "Processing expanding window:   4%|█▎                                | 4/108 [00:03<01:23,  1.24it/s]"
     ]
    },
    {
     "name": "stdout",
     "output_type": "stream",
     "text": [
      "Step: 2\n"
     ]
    },
    {
     "name": "stderr",
     "output_type": "stream",
     "text": [
      "Processing expanding window:   6%|█▉                                | 6/108 [00:07<02:15,  1.33s/it]"
     ]
    },
    {
     "name": "stdout",
     "output_type": "stream",
     "text": [
      "Step: 3\n"
     ]
    },
    {
     "name": "stderr",
     "output_type": "stream",
     "text": [
      "Processing expanding window:   7%|██▌                               | 8/108 [00:10<02:37,  1.57s/it]"
     ]
    },
    {
     "name": "stdout",
     "output_type": "stream",
     "text": [
      "Step: 4\n"
     ]
    },
    {
     "name": "stderr",
     "output_type": "stream",
     "text": [
      "Processing expanding window:   9%|███                              | 10/108 [00:11<01:46,  1.09s/it]"
     ]
    },
    {
     "name": "stdout",
     "output_type": "stream",
     "text": [
      "Step: 5\n"
     ]
    },
    {
     "name": "stderr",
     "output_type": "stream",
     "text": [
      "Processing expanding window:  11%|███▋                             | 12/108 [00:11<01:15,  1.26it/s]"
     ]
    },
    {
     "name": "stdout",
     "output_type": "stream",
     "text": [
      "Step: 6\n"
     ]
    },
    {
     "name": "stderr",
     "output_type": "stream",
     "text": [
      "\u001b[34m\u001b[1mwandb\u001b[0m: Network error resolved after 0:00:01.184545, resuming normal operation.\n",
      "Processing expanding window:  13%|████▎                            | 14/108 [00:16<01:53,  1.21s/it]"
     ]
    },
    {
     "name": "stdout",
     "output_type": "stream",
     "text": [
      "Step: 7\n"
     ]
    },
    {
     "name": "stderr",
     "output_type": "stream",
     "text": [
      "Processing expanding window:  15%|████▉                            | 16/108 [00:19<02:12,  1.45s/it]"
     ]
    },
    {
     "name": "stdout",
     "output_type": "stream",
     "text": [
      "Step: 8\n"
     ]
    },
    {
     "name": "stderr",
     "output_type": "stream",
     "text": [
      "Processing expanding window:  18%|█████▊                           | 19/108 [00:22<01:45,  1.19s/it]"
     ]
    },
    {
     "name": "stdout",
     "output_type": "stream",
     "text": [
      "Step: 9\n"
     ]
    },
    {
     "name": "stderr",
     "output_type": "stream",
     "text": [
      "Processing expanding window:  19%|██████                           | 20/108 [00:24<01:49,  1.24s/it]"
     ]
    },
    {
     "name": "stdout",
     "output_type": "stream",
     "text": [
      "Step: 10\n"
     ]
    },
    {
     "name": "stderr",
     "output_type": "stream",
     "text": [
      "wandb: Network error (ConnectionError), entering retry loop.\n",
      "\u001b[34m\u001b[1mwandb\u001b[0m: Network error (ConnectionError), entering retry loop.\n",
      "Processing expanding window:  20%|██████▋                          | 22/108 [00:46<07:01,  4.90s/it]"
     ]
    },
    {
     "name": "stdout",
     "output_type": "stream",
     "text": [
      "Step: 11\n"
     ]
    },
    {
     "name": "stderr",
     "output_type": "stream",
     "text": [
      "Processing expanding window:  22%|███████▎                         | 24/108 [00:48<04:53,  3.50s/it]/home/sf_afn/usr_sa/anaconda3/envs/prkng_v2_env/lib/python3.11/site-packages/sklearn/gaussian_process/kernels.py:419: ConvergenceWarning:\n",
      "\n",
      "The optimal value found for dimension 0 of parameter k1__k2__noise_level is close to the specified lower bound 1e-10. Decreasing the bound and calling fit again may find a better value.\n",
      "\n",
      "Processing expanding window:  23%|███████▋                         | 25/108 [00:48<03:54,  2.83s/it]"
     ]
    },
    {
     "name": "stdout",
     "output_type": "stream",
     "text": [
      "Step: 12\n"
     ]
    },
    {
     "name": "stderr",
     "output_type": "stream",
     "text": [
      "Processing expanding window:  24%|███████▉                         | 26/108 [00:49<03:15,  2.38s/it]/home/sf_afn/usr_sa/anaconda3/envs/prkng_v2_env/lib/python3.11/site-packages/sklearn/gaussian_process/kernels.py:419: ConvergenceWarning:\n",
      "\n",
      "The optimal value found for dimension 0 of parameter k1__k2__noise_level is close to the specified lower bound 1e-10. Decreasing the bound and calling fit again may find a better value.\n",
      "\n",
      "Processing expanding window:  25%|████████▎                        | 27/108 [00:49<02:28,  1.84s/it]"
     ]
    },
    {
     "name": "stdout",
     "output_type": "stream",
     "text": [
      "Step: 13\n"
     ]
    },
    {
     "name": "stderr",
     "output_type": "stream",
     "text": [
      "wandb: Network error (ConnectionError), entering retry loop.\n",
      "\u001b[34m\u001b[1mwandb\u001b[0m: Network error (ConnectionError), entering retry loop.\n",
      "\u001b[34m\u001b[1mwandb\u001b[0m: Network error (ConnectionError), entering retry loop.\n",
      "Processing expanding window:  26%|████████▌                        | 28/108 [01:30<15:58, 11.98s/it]"
     ]
    },
    {
     "name": "stdout",
     "output_type": "stream",
     "text": [
      "Step: 14\n"
     ]
    },
    {
     "name": "stderr",
     "output_type": "stream",
     "text": [
      "Processing expanding window:  28%|█████████▏                       | 30/108 [01:31<09:07,  7.02s/it]"
     ]
    },
    {
     "name": "stdout",
     "output_type": "stream",
     "text": [
      "Step: 15\n"
     ]
    },
    {
     "name": "stderr",
     "output_type": "stream",
     "text": [
      "\u001b[34m\u001b[1mwandb\u001b[0m: Network error (ConnectionError), entering retry loop.\n",
      "Processing expanding window:  30%|█████████▊                       | 32/108 [01:40<07:51,  6.20s/it]/home/sf_afn/usr_sa/anaconda3/envs/prkng_v2_env/lib/python3.11/site-packages/sklearn/gaussian_process/kernels.py:419: ConvergenceWarning:\n",
      "\n",
      "The optimal value found for dimension 0 of parameter k1__k2__noise_level is close to the specified lower bound 1e-10. Decreasing the bound and calling fit again may find a better value.\n",
      "\n"
     ]
    },
    {
     "name": "stdout",
     "output_type": "stream",
     "text": [
      "Step: 16\n"
     ]
    },
    {
     "name": "stderr",
     "output_type": "stream",
     "text": [
      "\u001b[34m\u001b[1mwandb\u001b[0m: Network error resolved after 0:00:01.186643, resuming normal operation.\n",
      "Processing expanding window:  31%|██████████▍                      | 34/108 [01:47<06:26,  5.22s/it]/home/sf_afn/usr_sa/anaconda3/envs/prkng_v2_env/lib/python3.11/site-packages/sklearn/gaussian_process/kernels.py:419: ConvergenceWarning:\n",
      "\n",
      "The optimal value found for dimension 0 of parameter k1__k2__noise_level is close to the specified lower bound 1e-10. Decreasing the bound and calling fit again may find a better value.\n",
      "\n",
      "Processing expanding window:  32%|██████████▋                      | 35/108 [01:47<05:06,  4.20s/it]"
     ]
    },
    {
     "name": "stdout",
     "output_type": "stream",
     "text": [
      "Step: 17\n"
     ]
    },
    {
     "name": "stderr",
     "output_type": "stream",
     "text": [
      "\u001b[34m\u001b[1mwandb\u001b[0m: Network error (ConnectionError), entering retry loop.\n",
      "Processing expanding window:  33%|███████████                      | 36/108 [02:06<08:49,  7.35s/it]"
     ]
    },
    {
     "name": "stdout",
     "output_type": "stream",
     "text": [
      "Step: 18\n"
     ]
    },
    {
     "name": "stderr",
     "output_type": "stream",
     "text": [
      "\u001b[34m\u001b[1mwandb\u001b[0m: Network error (ConnectionError), entering retry loop.\n",
      "Processing expanding window:  35%|███████████▌                     | 38/108 [02:41<13:21, 11.44s/it]"
     ]
    },
    {
     "name": "stdout",
     "output_type": "stream",
     "text": [
      "Step: 19\n"
     ]
    },
    {
     "name": "stderr",
     "output_type": "stream",
     "text": [
      "\u001b[34m\u001b[1mwandb\u001b[0m: Network error (ConnectionError), entering retry loop.\n",
      "Processing expanding window:  38%|████████████▌                    | 41/108 [02:59<09:17,  8.32s/it]"
     ]
    },
    {
     "name": "stdout",
     "output_type": "stream",
     "text": [
      "Step: 20\n"
     ]
    },
    {
     "name": "stderr",
     "output_type": "stream",
     "text": [
      "\u001b[34m\u001b[1mwandb\u001b[0m: Network error (ConnectionError), entering retry loop.\n",
      "Processing expanding window:  39%|████████████▊                    | 42/108 [03:07<09:06,  8.28s/it]/home/sf_afn/usr_sa/anaconda3/envs/prkng_v2_env/lib/python3.11/site-packages/sklearn/gaussian_process/kernels.py:419: ConvergenceWarning:\n",
      "\n",
      "The optimal value found for dimension 0 of parameter k1__k2__noise_level is close to the specified lower bound 1e-10. Decreasing the bound and calling fit again may find a better value.\n",
      "\n"
     ]
    },
    {
     "name": "stdout",
     "output_type": "stream",
     "text": [
      "Step: 21\n"
     ]
    },
    {
     "name": "stderr",
     "output_type": "stream",
     "text": [
      "Processing expanding window:  41%|█████████████▍                   | 44/108 [03:09<05:44,  5.39s/it]"
     ]
    },
    {
     "name": "stdout",
     "output_type": "stream",
     "text": [
      "Step: 22\n"
     ]
    },
    {
     "name": "stderr",
     "output_type": "stream",
     "text": [
      "Processing expanding window:  43%|██████████████                   | 46/108 [03:09<03:39,  3.54s/it]"
     ]
    },
    {
     "name": "stdout",
     "output_type": "stream",
     "text": [
      "Step: 23\n"
     ]
    },
    {
     "name": "stderr",
     "output_type": "stream",
     "text": [
      "Processing expanding window:  44%|██████████████▋                  | 48/108 [03:10<02:25,  2.43s/it]/home/sf_afn/usr_sa/anaconda3/envs/prkng_v2_env/lib/python3.11/site-packages/sklearn/gaussian_process/kernels.py:419: ConvergenceWarning:\n",
      "\n",
      "The optimal value found for dimension 0 of parameter k1__k2__noise_level is close to the specified lower bound 1e-10. Decreasing the bound and calling fit again may find a better value.\n",
      "\n"
     ]
    },
    {
     "name": "stdout",
     "output_type": "stream",
     "text": [
      "Step: 24\n"
     ]
    },
    {
     "name": "stderr",
     "output_type": "stream",
     "text": [
      "Processing expanding window:  46%|███████████████▎                 | 50/108 [03:10<01:39,  1.72s/it]/home/sf_afn/usr_sa/anaconda3/envs/prkng_v2_env/lib/python3.11/site-packages/sklearn/gaussian_process/kernels.py:419: ConvergenceWarning:\n",
      "\n",
      "The optimal value found for dimension 0 of parameter k1__k2__noise_level is close to the specified lower bound 1e-10. Decreasing the bound and calling fit again may find a better value.\n",
      "\n"
     ]
    },
    {
     "name": "stdout",
     "output_type": "stream",
     "text": [
      "Step: 25\n"
     ]
    },
    {
     "name": "stderr",
     "output_type": "stream",
     "text": [
      "Processing expanding window:  48%|███████████████▉                 | 52/108 [03:11<01:09,  1.25s/it]/home/sf_afn/usr_sa/anaconda3/envs/prkng_v2_env/lib/python3.11/site-packages/sklearn/gaussian_process/kernels.py:419: ConvergenceWarning:\n",
      "\n",
      "The optimal value found for dimension 0 of parameter k1__k2__noise_level is close to the specified lower bound 1e-10. Decreasing the bound and calling fit again may find a better value.\n",
      "\n"
     ]
    },
    {
     "name": "stdout",
     "output_type": "stream",
     "text": [
      "Step: 26\n"
     ]
    },
    {
     "name": "stderr",
     "output_type": "stream",
     "text": [
      "Processing expanding window:  50%|████████████████▌                | 54/108 [03:11<00:50,  1.07it/s]/home/sf_afn/usr_sa/anaconda3/envs/prkng_v2_env/lib/python3.11/site-packages/sklearn/gaussian_process/kernels.py:419: ConvergenceWarning:\n",
      "\n",
      "The optimal value found for dimension 0 of parameter k1__k2__noise_level is close to the specified lower bound 1e-10. Decreasing the bound and calling fit again may find a better value.\n",
      "\n"
     ]
    },
    {
     "name": "stdout",
     "output_type": "stream",
     "text": [
      "Step: 27\n"
     ]
    },
    {
     "name": "stderr",
     "output_type": "stream",
     "text": [
      "Processing expanding window:  52%|█████████████████                | 56/108 [03:11<00:37,  1.39it/s]"
     ]
    },
    {
     "name": "stdout",
     "output_type": "stream",
     "text": [
      "Step: 28\n"
     ]
    },
    {
     "name": "stderr",
     "output_type": "stream",
     "text": [
      "Processing expanding window:  54%|█████████████████▋               | 58/108 [03:12<00:28,  1.76it/s]"
     ]
    },
    {
     "name": "stdout",
     "output_type": "stream",
     "text": [
      "Step: 29\n"
     ]
    },
    {
     "name": "stderr",
     "output_type": "stream",
     "text": [
      "\u001b[34m\u001b[1mwandb\u001b[0m: Network error (ConnectionError), entering retry loop.\n",
      "wandb: Network error (ConnectionError), entering retry loop.\n",
      "\u001b[34m\u001b[1mwandb\u001b[0m: Network error resolved after 0:00:01.260698, resuming normal operation.\n",
      "Processing expanding window:  56%|██████████████████▎              | 60/108 [03:21<01:26,  1.81s/it]"
     ]
    },
    {
     "name": "stdout",
     "output_type": "stream",
     "text": [
      "Step: 30\n"
     ]
    },
    {
     "name": "stderr",
     "output_type": "stream",
     "text": [
      "Processing expanding window:  57%|██████████████████▉              | 62/108 [03:22<01:02,  1.36s/it]"
     ]
    },
    {
     "name": "stdout",
     "output_type": "stream",
     "text": [
      "Step: 31\n"
     ]
    },
    {
     "name": "stderr",
     "output_type": "stream",
     "text": [
      "Processing expanding window:  59%|███████████████████▌             | 64/108 [03:22<00:44,  1.02s/it]/home/sf_afn/usr_sa/anaconda3/envs/prkng_v2_env/lib/python3.11/site-packages/sklearn/gaussian_process/kernels.py:419: ConvergenceWarning:\n",
      "\n",
      "The optimal value found for dimension 0 of parameter k1__k2__noise_level is close to the specified lower bound 1e-10. Decreasing the bound and calling fit again may find a better value.\n",
      "\n"
     ]
    },
    {
     "name": "stdout",
     "output_type": "stream",
     "text": [
      "Step: 32\n"
     ]
    },
    {
     "name": "stderr",
     "output_type": "stream",
     "text": [
      "Processing expanding window:  61%|████████████████████▏            | 66/108 [03:23<00:33,  1.27it/s]/home/sf_afn/usr_sa/anaconda3/envs/prkng_v2_env/lib/python3.11/site-packages/sklearn/gaussian_process/kernels.py:419: ConvergenceWarning:\n",
      "\n",
      "The optimal value found for dimension 0 of parameter k1__k2__noise_level is close to the specified lower bound 1e-10. Decreasing the bound and calling fit again may find a better value.\n",
      "\n",
      "Processing expanding window:  62%|████████████████████▍            | 67/108 [03:23<00:27,  1.50it/s]"
     ]
    },
    {
     "name": "stdout",
     "output_type": "stream",
     "text": [
      "Step: 33\n"
     ]
    },
    {
     "name": "stderr",
     "output_type": "stream",
     "text": [
      "Processing expanding window:  63%|████████████████████▊            | 68/108 [03:23<00:24,  1.63it/s]"
     ]
    },
    {
     "name": "stdout",
     "output_type": "stream",
     "text": [
      "Step: 34\n"
     ]
    },
    {
     "name": "stderr",
     "output_type": "stream",
     "text": [
      "Processing expanding window:  65%|█████████████████████▍           | 70/108 [03:24<00:19,  1.97it/s]/home/sf_afn/usr_sa/anaconda3/envs/prkng_v2_env/lib/python3.11/site-packages/sklearn/gaussian_process/kernels.py:419: ConvergenceWarning:\n",
      "\n",
      "The optimal value found for dimension 0 of parameter k1__k2__noise_level is close to the specified lower bound 1e-10. Decreasing the bound and calling fit again may find a better value.\n",
      "\n",
      "/home/sf_afn/usr_sa/anaconda3/envs/prkng_v2_env/lib/python3.11/site-packages/sklearn/gaussian_process/kernels.py:419: ConvergenceWarning:\n",
      "\n",
      "The optimal value found for dimension 0 of parameter k2__length_scale is close to the specified lower bound 0.1. Decreasing the bound and calling fit again may find a better value.\n",
      "\n",
      "Processing expanding window:  66%|█████████████████████▋           | 71/108 [03:24<00:15,  2.32it/s]"
     ]
    },
    {
     "name": "stdout",
     "output_type": "stream",
     "text": [
      "Step: 35\n"
     ]
    },
    {
     "name": "stderr",
     "output_type": "stream",
     "text": [
      "Processing expanding window:  67%|██████████████████████           | 72/108 [03:31<01:10,  1.96s/it]/home/sf_afn/usr_sa/anaconda3/envs/prkng_v2_env/lib/python3.11/site-packages/sklearn/gaussian_process/kernels.py:419: ConvergenceWarning:\n",
      "\n",
      "The optimal value found for dimension 0 of parameter k1__k2__noise_level is close to the specified lower bound 1e-10. Decreasing the bound and calling fit again may find a better value.\n",
      "\n"
     ]
    },
    {
     "name": "stdout",
     "output_type": "stream",
     "text": [
      "Step: 36\n"
     ]
    },
    {
     "name": "stderr",
     "output_type": "stream",
     "text": [
      "Processing expanding window:  69%|██████████████████████▌          | 74/108 [03:33<00:52,  1.53s/it]/home/sf_afn/usr_sa/anaconda3/envs/prkng_v2_env/lib/python3.11/site-packages/sklearn/gaussian_process/kernels.py:419: ConvergenceWarning:\n",
      "\n",
      "The optimal value found for dimension 0 of parameter k1__k1__k1__k1__constant_value is close to the specified lower bound 1e-05. Decreasing the bound and calling fit again may find a better value.\n",
      "\n",
      "/home/sf_afn/usr_sa/anaconda3/envs/prkng_v2_env/lib/python3.11/site-packages/sklearn/gaussian_process/kernels.py:419: ConvergenceWarning:\n",
      "\n",
      "The optimal value found for dimension 0 of parameter k1__k1__k1__k2__length_scale is close to the specified lower bound 0.001. Decreasing the bound and calling fit again may find a better value.\n",
      "\n"
     ]
    },
    {
     "name": "stdout",
     "output_type": "stream",
     "text": [
      "Step: 37\n"
     ]
    },
    {
     "name": "stderr",
     "output_type": "stream",
     "text": [
      "Processing expanding window:  70%|███████████████████████▏         | 76/108 [03:37<00:53,  1.67s/it]"
     ]
    },
    {
     "name": "stdout",
     "output_type": "stream",
     "text": [
      "Step: 38\n"
     ]
    },
    {
     "name": "stderr",
     "output_type": "stream",
     "text": [
      "Processing expanding window:  72%|███████████████████████▊         | 78/108 [03:37<00:35,  1.18s/it]/home/sf_afn/usr_sa/anaconda3/envs/prkng_v2_env/lib/python3.11/site-packages/sklearn/gaussian_process/kernels.py:419: ConvergenceWarning:\n",
      "\n",
      "The optimal value found for dimension 0 of parameter k1__k1__k1__k1__constant_value is close to the specified lower bound 1e-05. Decreasing the bound and calling fit again may find a better value.\n",
      "\n",
      "/home/sf_afn/usr_sa/anaconda3/envs/prkng_v2_env/lib/python3.11/site-packages/sklearn/gaussian_process/kernels.py:429: ConvergenceWarning:\n",
      "\n",
      "The optimal value found for dimension 0 of parameter k1__k1__k1__k2__length_scale is close to the specified upper bound 1000.0. Increasing the bound and calling fit again may find a better value.\n",
      "\n",
      "/home/sf_afn/usr_sa/anaconda3/envs/prkng_v2_env/lib/python3.11/site-packages/sklearn/gaussian_process/kernels.py:419: ConvergenceWarning:\n",
      "\n",
      "The optimal value found for dimension 0 of parameter k2__length_scale is close to the specified lower bound 0.1. Decreasing the bound and calling fit again may find a better value.\n",
      "\n",
      "Processing expanding window:  73%|████████████████████████▏        | 79/108 [03:37<00:28,  1.03it/s]"
     ]
    },
    {
     "name": "stdout",
     "output_type": "stream",
     "text": [
      "Step: 39\n"
     ]
    },
    {
     "name": "stderr",
     "output_type": "stream",
     "text": [
      "Processing expanding window:  74%|████████████████████████▍        | 80/108 [03:38<00:23,  1.19it/s]/home/sf_afn/usr_sa/anaconda3/envs/prkng_v2_env/lib/python3.11/site-packages/sklearn/gaussian_process/kernels.py:429: ConvergenceWarning:\n",
      "\n",
      "The optimal value found for dimension 0 of parameter k1__k1__k1__k2__length_scale is close to the specified upper bound 1000.0. Increasing the bound and calling fit again may find a better value.\n",
      "\n",
      "Processing expanding window:  75%|████████████████████████▊        | 81/108 [03:38<00:18,  1.50it/s]"
     ]
    },
    {
     "name": "stdout",
     "output_type": "stream",
     "text": [
      "Step: 40\n"
     ]
    },
    {
     "name": "stderr",
     "output_type": "stream",
     "text": [
      "Processing expanding window:  76%|█████████████████████████        | 82/108 [03:45<01:00,  2.34s/it]/home/sf_afn/usr_sa/anaconda3/envs/prkng_v2_env/lib/python3.11/site-packages/sklearn/gaussian_process/kernels.py:419: ConvergenceWarning:\n",
      "\n",
      "The optimal value found for dimension 0 of parameter k1__k1__k1__k2__length_scale is close to the specified lower bound 0.001. Decreasing the bound and calling fit again may find a better value.\n",
      "\n",
      "/home/sf_afn/usr_sa/anaconda3/envs/prkng_v2_env/lib/python3.11/site-packages/sklearn/gaussian_process/kernels.py:419: ConvergenceWarning:\n",
      "\n",
      "The optimal value found for dimension 0 of parameter k2__length_scale is close to the specified lower bound 0.1. Decreasing the bound and calling fit again may find a better value.\n",
      "\n",
      "Processing expanding window:  77%|█████████████████████████▎       | 83/108 [03:45<00:43,  1.76s/it]"
     ]
    },
    {
     "name": "stdout",
     "output_type": "stream",
     "text": [
      "Step: 41\n"
     ]
    },
    {
     "name": "stderr",
     "output_type": "stream",
     "text": [
      "Processing expanding window:  78%|█████████████████████████▋       | 84/108 [03:47<00:40,  1.67s/it]/home/sf_afn/usr_sa/anaconda3/envs/prkng_v2_env/lib/python3.11/site-packages/sklearn/gaussian_process/kernels.py:419: ConvergenceWarning:\n",
      "\n",
      "The optimal value found for dimension 0 of parameter k1__k1__k1__k1__constant_value is close to the specified lower bound 1e-05. Decreasing the bound and calling fit again may find a better value.\n",
      "\n",
      "/home/sf_afn/usr_sa/anaconda3/envs/prkng_v2_env/lib/python3.11/site-packages/sklearn/gaussian_process/kernels.py:429: ConvergenceWarning:\n",
      "\n",
      "The optimal value found for dimension 0 of parameter k1__k1__k1__k2__length_scale is close to the specified upper bound 1000.0. Increasing the bound and calling fit again may find a better value.\n",
      "\n",
      "/home/sf_afn/usr_sa/anaconda3/envs/prkng_v2_env/lib/python3.11/site-packages/sklearn/gaussian_process/kernels.py:419: ConvergenceWarning:\n",
      "\n",
      "The optimal value found for dimension 0 of parameter k2__length_scale is close to the specified lower bound 0.1. Decreasing the bound and calling fit again may find a better value.\n",
      "\n",
      "Processing expanding window:  79%|█████████████████████████▉       | 85/108 [03:47<00:28,  1.24s/it]"
     ]
    },
    {
     "name": "stdout",
     "output_type": "stream",
     "text": [
      "Step: 42\n"
     ]
    },
    {
     "name": "stderr",
     "output_type": "stream",
     "text": [
      "Processing expanding window:  80%|██████████████████████████▎      | 86/108 [03:47<00:21,  1.00it/s]/home/sf_afn/usr_sa/anaconda3/envs/prkng_v2_env/lib/python3.11/site-packages/sklearn/gaussian_process/kernels.py:419: ConvergenceWarning:\n",
      "\n",
      "The optimal value found for dimension 0 of parameter k1__k1__k1__k2__length_scale is close to the specified lower bound 0.001. Decreasing the bound and calling fit again may find a better value.\n",
      "\n",
      "/home/sf_afn/usr_sa/anaconda3/envs/prkng_v2_env/lib/python3.11/site-packages/sklearn/gaussian_process/kernels.py:419: ConvergenceWarning:\n",
      "\n",
      "The optimal value found for dimension 0 of parameter k2__length_scale is close to the specified lower bound 0.1. Decreasing the bound and calling fit again may find a better value.\n",
      "\n",
      "Processing expanding window:  81%|██████████████████████████▌      | 87/108 [03:47<00:15,  1.35it/s]"
     ]
    },
    {
     "name": "stdout",
     "output_type": "stream",
     "text": [
      "Step: 43\n"
     ]
    },
    {
     "name": "stderr",
     "output_type": "stream",
     "text": [
      "Processing expanding window:  81%|██████████████████████████▉      | 88/108 [03:48<00:12,  1.58it/s]"
     ]
    },
    {
     "name": "stdout",
     "output_type": "stream",
     "text": [
      "Step: 44\n"
     ]
    },
    {
     "name": "stderr",
     "output_type": "stream",
     "text": [
      "wandb: Network error (TransientError), entering retry loop.\n",
      "Processing expanding window:  83%|███████████████████████████▌     | 90/108 [03:49<00:12,  1.46it/s]/home/sf_afn/usr_sa/anaconda3/envs/prkng_v2_env/lib/python3.11/site-packages/sklearn/gaussian_process/kernels.py:419: ConvergenceWarning:\n",
      "\n",
      "The optimal value found for dimension 0 of parameter k1__k1__k1__k1__constant_value is close to the specified lower bound 1e-05. Decreasing the bound and calling fit again may find a better value.\n",
      "\n",
      "/home/sf_afn/usr_sa/anaconda3/envs/prkng_v2_env/lib/python3.11/site-packages/sklearn/gaussian_process/kernels.py:429: ConvergenceWarning:\n",
      "\n",
      "The optimal value found for dimension 0 of parameter k1__k1__k1__k2__length_scale is close to the specified upper bound 1000.0. Increasing the bound and calling fit again may find a better value.\n",
      "\n",
      "/home/sf_afn/usr_sa/anaconda3/envs/prkng_v2_env/lib/python3.11/site-packages/sklearn/gaussian_process/kernels.py:419: ConvergenceWarning:\n",
      "\n",
      "The optimal value found for dimension 0 of parameter k2__length_scale is close to the specified lower bound 0.1. Decreasing the bound and calling fit again may find a better value.\n",
      "\n",
      "Processing expanding window:  84%|███████████████████████████▊     | 91/108 [03:49<00:09,  1.83it/s]"
     ]
    },
    {
     "name": "stdout",
     "output_type": "stream",
     "text": [
      "Step: 45\n"
     ]
    },
    {
     "name": "stderr",
     "output_type": "stream",
     "text": [
      "Processing expanding window:  85%|████████████████████████████     | 92/108 [03:50<00:08,  1.98it/s]"
     ]
    },
    {
     "name": "stdout",
     "output_type": "stream",
     "text": [
      "Step: 46\n"
     ]
    },
    {
     "name": "stderr",
     "output_type": "stream",
     "text": [
      "\u001b[34m\u001b[1mwandb\u001b[0m: Network error (ConnectionError), entering retry loop.\n",
      "Processing expanding window:  87%|████████████████████████████▋    | 94/108 [04:08<00:57,  4.13s/it]"
     ]
    },
    {
     "name": "stdout",
     "output_type": "stream",
     "text": [
      "Step: 47\n"
     ]
    },
    {
     "name": "stderr",
     "output_type": "stream",
     "text": [
      "Processing expanding window:  89%|█████████████████████████████▎   | 96/108 [04:08<00:31,  2.65s/it]/home/sf_afn/usr_sa/anaconda3/envs/prkng_v2_env/lib/python3.11/site-packages/sklearn/gaussian_process/kernels.py:419: ConvergenceWarning:\n",
      "\n",
      "The optimal value found for dimension 0 of parameter k1__k1__k1__k1__constant_value is close to the specified lower bound 1e-05. Decreasing the bound and calling fit again may find a better value.\n",
      "\n",
      "/home/sf_afn/usr_sa/anaconda3/envs/prkng_v2_env/lib/python3.11/site-packages/sklearn/gaussian_process/kernels.py:429: ConvergenceWarning:\n",
      "\n",
      "The optimal value found for dimension 0 of parameter k1__k1__k1__k2__length_scale is close to the specified upper bound 1000.0. Increasing the bound and calling fit again may find a better value.\n",
      "\n",
      "Processing expanding window:  90%|█████████████████████████████▋   | 97/108 [04:08<00:23,  2.11s/it]"
     ]
    },
    {
     "name": "stdout",
     "output_type": "stream",
     "text": [
      "Step: 48\n"
     ]
    },
    {
     "name": "stderr",
     "output_type": "stream",
     "text": [
      "Processing expanding window:  91%|█████████████████████████████▉   | 98/108 [04:09<00:17,  1.71s/it]/home/sf_afn/usr_sa/anaconda3/envs/prkng_v2_env/lib/python3.11/site-packages/sklearn/gaussian_process/kernels.py:419: ConvergenceWarning:\n",
      "\n",
      "The optimal value found for dimension 0 of parameter k1__k1__k1__k1__constant_value is close to the specified lower bound 1e-05. Decreasing the bound and calling fit again may find a better value.\n",
      "\n",
      "/home/sf_afn/usr_sa/anaconda3/envs/prkng_v2_env/lib/python3.11/site-packages/sklearn/gaussian_process/kernels.py:419: ConvergenceWarning:\n",
      "\n",
      "The optimal value found for dimension 0 of parameter k2__length_scale is close to the specified lower bound 0.1. Decreasing the bound and calling fit again may find a better value.\n",
      "\n",
      "Processing expanding window:  92%|██████████████████████████████▎  | 99/108 [04:09<00:11,  1.31s/it]"
     ]
    },
    {
     "name": "stdout",
     "output_type": "stream",
     "text": [
      "Step: 49\n"
     ]
    },
    {
     "name": "stderr",
     "output_type": "stream",
     "text": [
      "Processing expanding window:  93%|█████████████████████████████▋  | 100/108 [04:09<00:08,  1.07s/it]/home/sf_afn/usr_sa/anaconda3/envs/prkng_v2_env/lib/python3.11/site-packages/sklearn/gaussian_process/kernels.py:419: ConvergenceWarning:\n",
      "\n",
      "The optimal value found for dimension 0 of parameter k1__k1__k1__k1__constant_value is close to the specified lower bound 1e-05. Decreasing the bound and calling fit again may find a better value.\n",
      "\n",
      "/home/sf_afn/usr_sa/anaconda3/envs/prkng_v2_env/lib/python3.11/site-packages/sklearn/gaussian_process/kernels.py:429: ConvergenceWarning:\n",
      "\n",
      "The optimal value found for dimension 0 of parameter k1__k1__k1__k2__length_scale is close to the specified upper bound 1000.0. Increasing the bound and calling fit again may find a better value.\n",
      "\n",
      "/home/sf_afn/usr_sa/anaconda3/envs/prkng_v2_env/lib/python3.11/site-packages/sklearn/gaussian_process/kernels.py:419: ConvergenceWarning:\n",
      "\n",
      "The optimal value found for dimension 0 of parameter k2__length_scale is close to the specified lower bound 0.1. Decreasing the bound and calling fit again may find a better value.\n",
      "\n",
      "Processing expanding window:  94%|█████████████████████████████▉  | 101/108 [04:09<00:05,  1.23it/s]"
     ]
    },
    {
     "name": "stdout",
     "output_type": "stream",
     "text": [
      "Step: 50\n"
     ]
    },
    {
     "name": "stderr",
     "output_type": "stream",
     "text": [
      "Processing expanding window:  94%|██████████████████████████████▏ | 102/108 [04:10<00:04,  1.42it/s]"
     ]
    },
    {
     "name": "stdout",
     "output_type": "stream",
     "text": [
      "Step: 51\n"
     ]
    },
    {
     "name": "stderr",
     "output_type": "stream",
     "text": [
      "Processing expanding window:  96%|██████████████████████████████▊ | 104/108 [04:10<00:01,  2.05it/s]"
     ]
    },
    {
     "name": "stdout",
     "output_type": "stream",
     "text": [
      "Step: 52\n"
     ]
    },
    {
     "name": "stderr",
     "output_type": "stream",
     "text": [
      "Processing expanding window:  98%|███████████████████████████████▍| 106/108 [04:11<00:00,  2.57it/s]"
     ]
    },
    {
     "name": "stdout",
     "output_type": "stream",
     "text": [
      "Step: 53\n"
     ]
    },
    {
     "name": "stderr",
     "output_type": "stream",
     "text": [
      "\u001b[34m\u001b[1mwandb\u001b[0m: Network error (ConnectionError), entering retry loop.\n",
      "Processing expanding window: 100%|████████████████████████████████| 108/108 [04:47<00:00,  2.66s/it]\n"
     ]
    },
    {
     "name": "stdout",
     "output_type": "stream",
     "text": [
      "Step: 54\n",
      "Testing final GPR on test set\n"
     ]
    },
    {
     "name": "stderr",
     "output_type": "stream",
     "text": [
      "\u001b[34m\u001b[1mwandb\u001b[0m: Network error (ConnectionError), entering retry loop.\n",
      "wandb: WARNING Source type is set to 'repo' but some required information is missing from the environment. A job will not be created from this run. See https://docs.wandb.ai/guides/launch/create-job\n"
     ]
    },
    {
     "data": {
      "application/vnd.jupyter.widget-view+json": {
       "model_id": "c3b9c7dad734484c80ce97d785947c12",
       "version_major": 2,
       "version_minor": 0
      },
      "text/plain": [
       "VBox(children=(Label(value='89.906 MB of 89.906 MB uploaded\\r'), FloatProgress(value=1.0, max=1.0)))"
      ]
     },
     "metadata": {},
     "output_type": "display_data"
    },
    {
     "data": {
      "text/html": [
       "<style>\n",
       "    table.wandb td:nth-child(1) { padding: 0 10px; text-align: left ; width: auto;} td:nth-child(2) {text-align: left ; width: 100%}\n",
       "    .wandb-row { display: flex; flex-direction: row; flex-wrap: wrap; justify-content: flex-start; width: 100% }\n",
       "    .wandb-col { display: flex; flex-direction: column; flex-basis: 100%; flex: 1; padding: 10px; }\n",
       "    </style>\n",
       "<div class=\"wandb-row\"><div class=\"wandb-col\"><h3>Run history:</h3><br/><table class=\"wandb\"><tr><td>LML_test</td><td>▁</td></tr><tr><td>LML_train</td><td>▁▁▂▃▃▂▃▄▄▄▄▄▅▅▅▆▆▆▆▆▆▆▇▇▇▇▇▇▇█▇▇▇▇▇▇█▇██</td></tr><tr><td>LML_validate</td><td>▁▁▂▃▃▂▃▄▄▄▄▄▅▅▅▆▆▆▆▆▆▆▆▇▇▇▇▇▇▇█▇▇▇▇▇▇▇▇█</td></tr><tr><td>MAE_test</td><td>▁</td></tr><tr><td>MAE_train</td><td>█▆▅▁▂▃▄▃▁▁▁▁▁▅▄▁▁▄▁▁▁▃▁▁▁▃▁▄▄▃▃▄▄▄▄▄▃▃▂▁</td></tr><tr><td>MAE_validate</td><td>▃▆▄▂▆▇▅▃▆█▄▃▃▄▄▄▂▃▃▃▃▅▁▄▁▅▄▅▃▂▃▂▇▄▄▁▂▁▅▁</td></tr><tr><td>MAPE_test</td><td>▁</td></tr><tr><td>MAPE_train</td><td>▄▃▃▁▁▂▄█▁▁▁▁▁▃▃▁▁▃▁▁▁▂▁▁▁▂▁▃▃▅▃▄▄▂▂▂▂▂▁▁</td></tr><tr><td>MAPE_validate</td><td>▇▆▇▃▄▂▃▃▄▃▃█▂▂▂▂▁▁▃▁▂▂▂▂▃▂▃▂▂▂▃▁▁▃▂▁▁▁▂▂</td></tr><tr><td>MSE_test</td><td>▁</td></tr><tr><td>MSE_train</td><td>█▄▄▁▁▂▂▁▁▁▁▁▁▃▃▁▁▂▁▁▁▂▁▁▁▂▁▃▃▂▂▂▂▂▂▂▂▂▁▁</td></tr><tr><td>MSE_validate</td><td>▂▅▃▂▇█▄▄▆▇▃▃▂▃▃▃▂▂▃▃▃▅▁▃▁▅▃▅▂▁▂▂▇▃▃▁▂▁▄▁</td></tr><tr><td>R2_test</td><td>▁</td></tr><tr><td>R2_train</td><td>▁▅▅██▇▆▇█████▁▂██▃███▆███▆█▂▂▅▆▃▄▄▄▄▅▅▇█</td></tr><tr><td>R2_validate</td><td>█████████▁██████████████████████████████</td></tr><tr><td>RMSE_test</td><td>▁</td></tr><tr><td>RMSE_train</td><td>█▆▅▁▂▄▄▃▁▁▁▁▁▅▄▁▁▄▁▁▁▃▁▁▁▃▁▄▄▃▃▄▄▄▄▄▄▄▂▁</td></tr><tr><td>RMSE_validate</td><td>▃▆▄▃▇█▅▅▇█▄▄▃▄▄▄▂▃▄▄▄▆▂▄▁▆▄▆▃▂▃▂█▄▃▁▃▁▅▁</td></tr><tr><td>step</td><td>▁▁▁▂▂▂▂▂▂▃▃▃▃▃▄▄▄▄▄▄▅▅▅▅▅▅▆▆▆▆▆▇▇▇▇▇███▁</td></tr></table><br/></div><div class=\"wandb-col\"><h3>Run summary:</h3><br/><table class=\"wandb\"><tr><td>LML_test</td><td>0.9473</td></tr><tr><td>LML_train</td><td>0.9473</td></tr><tr><td>LML_validate</td><td>0.9473</td></tr><tr><td>MAE_test</td><td>0.63495</td></tr><tr><td>MAE_train</td><td>0.0</td></tr><tr><td>MAE_validate</td><td>0.55653</td></tr><tr><td>MAPE_test</td><td>240.7772</td></tr><tr><td>MAPE_train</td><td>0.0</td></tr><tr><td>MAPE_validate</td><td>123.49065</td></tr><tr><td>MSE_test</td><td>0.63535</td></tr><tr><td>MSE_train</td><td>0.0</td></tr><tr><td>MSE_validate</td><td>0.35782</td></tr><tr><td>R2_test</td><td>0.12257</td></tr><tr><td>R2_train</td><td>1.0</td></tr><tr><td>R2_validate</td><td>0.19132</td></tr><tr><td>RMSE_test</td><td>0.79709</td></tr><tr><td>RMSE_train</td><td>0.0</td></tr><tr><td>RMSE_validate</td><td>0.59818</td></tr><tr><td>step</td><td>1</td></tr></table><br/></div></div>"
      ],
      "text/plain": [
       "<IPython.core.display.HTML object>"
      ]
     },
     "metadata": {},
     "output_type": "display_data"
    },
    {
     "data": {
      "text/html": [
       " View run <strong style=\"color:#cdcd00\">Expand_slakt_noisy_lp_gp:hour</strong> at: <a href='https://wandb.ai/afn-sy/Merged_GPR_Experiments/runs/qolfxkee' target=\"_blank\">https://wandb.ai/afn-sy/Merged_GPR_Experiments/runs/qolfxkee</a><br/>Synced 7 W&B file(s), 328 media file(s), 110 artifact file(s) and 4 other file(s)"
      ],
      "text/plain": [
       "<IPython.core.display.HTML object>"
      ]
     },
     "metadata": {},
     "output_type": "display_data"
    },
    {
     "data": {
      "text/html": [
       "Find logs at: <code>./wandb/run-20240122_211953-qolfxkee/logs</code>"
      ],
      "text/plain": [
       "<IPython.core.display.HTML object>"
      ]
     },
     "metadata": {},
     "output_type": "display_data"
    },
    {
     "data": {
      "application/vnd.jupyter.widget-view+json": {
       "model_id": "f6fc21b128f24a92bb662c4879436f6f",
       "version_major": 2,
       "version_minor": 0
      },
      "text/plain": [
       "VBox(children=(Label(value='Waiting for wandb.init()...\\r'), FloatProgress(value=0.01111196026670061, max=1.0)…"
      ]
     },
     "metadata": {},
     "output_type": "display_data"
    },
    {
     "data": {
      "text/html": [
       "Tracking run with wandb version 0.16.2"
      ],
      "text/plain": [
       "<IPython.core.display.HTML object>"
      ]
     },
     "metadata": {},
     "output_type": "display_data"
    },
    {
     "data": {
      "text/html": [
       "Run data is saved locally in <code>/home/sf_afn/Insync/sofiaa720@gmail.com/Google Drive/masters_thesis/code_v1/msc_parking/univrses/notebooks/wandb/run-20240122_212500-8fl5zb6u</code>"
      ],
      "text/plain": [
       "<IPython.core.display.HTML object>"
      ]
     },
     "metadata": {},
     "output_type": "display_data"
    },
    {
     "data": {
      "text/html": [
       "Syncing run <strong><a href='https://wandb.ai/afn-sy/Merged_GPR_Experiments/runs/8fl5zb6u' target=\"_blank\">Expand_slakt_noisy_lp_gp:week</a></strong> to <a href='https://wandb.ai/afn-sy/Merged_GPR_Experiments' target=\"_blank\">Weights & Biases</a> (<a href='https://wandb.me/run' target=\"_blank\">docs</a>)<br/>"
      ],
      "text/plain": [
       "<IPython.core.display.HTML object>"
      ]
     },
     "metadata": {},
     "output_type": "display_data"
    },
    {
     "data": {
      "text/html": [
       " View project at <a href='https://wandb.ai/afn-sy/Merged_GPR_Experiments' target=\"_blank\">https://wandb.ai/afn-sy/Merged_GPR_Experiments</a>"
      ],
      "text/plain": [
       "<IPython.core.display.HTML object>"
      ]
     },
     "metadata": {},
     "output_type": "display_data"
    },
    {
     "data": {
      "text/html": [
       " View run at <a href='https://wandb.ai/afn-sy/Merged_GPR_Experiments/runs/8fl5zb6u' target=\"_blank\">https://wandb.ai/afn-sy/Merged_GPR_Experiments/runs/8fl5zb6u</a>"
      ],
      "text/plain": [
       "<IPython.core.display.HTML object>"
      ]
     },
     "metadata": {},
     "output_type": "display_data"
    },
    {
     "name": "stderr",
     "output_type": "stream",
     "text": [
      "Processing expanding window:   0%|                                          | 0/108 [00:00<?, ?it/s]\n"
     ]
    },
    {
     "name": "stdout",
     "output_type": "stream",
     "text": [
      "An error occurred: 'numpy.ndarray' object has no attribute 'predict'\n"
     ]
    },
    {
     "name": "stderr",
     "output_type": "stream",
     "text": [
      "wandb: WARNING Source type is set to 'repo' but some required information is missing from the environment. A job will not be created from this run. See https://docs.wandb.ai/guides/launch/create-job\n"
     ]
    },
    {
     "data": {
      "application/vnd.jupyter.widget-view+json": {
       "model_id": "29c146f792c24576848d10e41733cee6",
       "version_major": 2,
       "version_minor": 0
      },
      "text/plain": [
       "VBox(children=(Label(value='39.613 MB of 87.024 MB uploaded\\r'), FloatProgress(value=0.45519752446196426, max=…"
      ]
     },
     "metadata": {},
     "output_type": "display_data"
    },
    {
     "data": {
      "text/html": [
       " View run <strong style=\"color:#cdcd00\">Expand_slakt_noisy_lp_gp:week</strong> at: <a href='https://wandb.ai/afn-sy/Merged_GPR_Experiments/runs/8fl5zb6u' target=\"_blank\">https://wandb.ai/afn-sy/Merged_GPR_Experiments/runs/8fl5zb6u</a><br/>Synced 7 W&B file(s), 0 media file(s), 0 artifact file(s) and 1 other file(s)"
      ],
      "text/plain": [
       "<IPython.core.display.HTML object>"
      ]
     },
     "metadata": {},
     "output_type": "display_data"
    },
    {
     "data": {
      "text/html": [
       "Find logs at: <code>./wandb/run-20240122_212500-8fl5zb6u/logs</code>"
      ],
      "text/plain": [
       "<IPython.core.display.HTML object>"
      ]
     },
     "metadata": {},
     "output_type": "display_data"
    },
    {
     "data": {
      "application/vnd.jupyter.widget-view+json": {
       "model_id": "de7a9e915e1543dc930853c39dd8efa3",
       "version_major": 2,
       "version_minor": 0
      },
      "text/plain": [
       "VBox(children=(Label(value='Waiting for wandb.init()...\\r'), FloatProgress(value=0.011112193366716382, max=1.0…"
      ]
     },
     "metadata": {},
     "output_type": "display_data"
    },
    {
     "data": {
      "text/html": [
       "Tracking run with wandb version 0.16.2"
      ],
      "text/plain": [
       "<IPython.core.display.HTML object>"
      ]
     },
     "metadata": {},
     "output_type": "display_data"
    },
    {
     "data": {
      "text/html": [
       "Run data is saved locally in <code>/home/sf_afn/Insync/sofiaa720@gmail.com/Google Drive/masters_thesis/code_v1/msc_parking/univrses/notebooks/wandb/run-20240122_212515-cflfzb8u</code>"
      ],
      "text/plain": [
       "<IPython.core.display.HTML object>"
      ]
     },
     "metadata": {},
     "output_type": "display_data"
    },
    {
     "data": {
      "text/html": [
       "Syncing run <strong><a href='https://wandb.ai/afn-sy/Merged_GPR_Experiments/runs/cflfzb8u' target=\"_blank\">Expand_slakt_noisy_lp_gp:month</a></strong> to <a href='https://wandb.ai/afn-sy/Merged_GPR_Experiments' target=\"_blank\">Weights & Biases</a> (<a href='https://wandb.me/run' target=\"_blank\">docs</a>)<br/>"
      ],
      "text/plain": [
       "<IPython.core.display.HTML object>"
      ]
     },
     "metadata": {},
     "output_type": "display_data"
    },
    {
     "data": {
      "text/html": [
       " View project at <a href='https://wandb.ai/afn-sy/Merged_GPR_Experiments' target=\"_blank\">https://wandb.ai/afn-sy/Merged_GPR_Experiments</a>"
      ],
      "text/plain": [
       "<IPython.core.display.HTML object>"
      ]
     },
     "metadata": {},
     "output_type": "display_data"
    },
    {
     "data": {
      "text/html": [
       " View run at <a href='https://wandb.ai/afn-sy/Merged_GPR_Experiments/runs/cflfzb8u' target=\"_blank\">https://wandb.ai/afn-sy/Merged_GPR_Experiments/runs/cflfzb8u</a>"
      ],
      "text/plain": [
       "<IPython.core.display.HTML object>"
      ]
     },
     "metadata": {},
     "output_type": "display_data"
    },
    {
     "name": "stderr",
     "output_type": "stream",
     "text": [
      "Processing expanding window:   0%|                                          | 0/108 [00:00<?, ?it/s]\n"
     ]
    },
    {
     "name": "stdout",
     "output_type": "stream",
     "text": [
      "An error occurred: 'numpy.ndarray' object has no attribute 'predict'\n"
     ]
    },
    {
     "name": "stderr",
     "output_type": "stream",
     "text": [
      "wandb: WARNING Source type is set to 'repo' but some required information is missing from the environment. A job will not be created from this run. See https://docs.wandb.ai/guides/launch/create-job\n"
     ]
    },
    {
     "data": {
      "application/vnd.jupyter.widget-view+json": {
       "model_id": "92b8a82336c44440b1c632e529bae946",
       "version_major": 2,
       "version_minor": 0
      },
      "text/plain": [
       "VBox(children=(Label(value='39.629 MB of 87.024 MB uploaded\\r'), FloatProgress(value=0.45537703746520103, max=…"
      ]
     },
     "metadata": {},
     "output_type": "display_data"
    },
    {
     "data": {
      "text/html": [
       " View run <strong style=\"color:#cdcd00\">Expand_slakt_noisy_lp_gp:month</strong> at: <a href='https://wandb.ai/afn-sy/Merged_GPR_Experiments/runs/cflfzb8u' target=\"_blank\">https://wandb.ai/afn-sy/Merged_GPR_Experiments/runs/cflfzb8u</a><br/>Synced 7 W&B file(s), 0 media file(s), 0 artifact file(s) and 1 other file(s)"
      ],
      "text/plain": [
       "<IPython.core.display.HTML object>"
      ]
     },
     "metadata": {},
     "output_type": "display_data"
    },
    {
     "data": {
      "text/html": [
       "Find logs at: <code>./wandb/run-20240122_212515-cflfzb8u/logs</code>"
      ],
      "text/plain": [
       "<IPython.core.display.HTML object>"
      ]
     },
     "metadata": {},
     "output_type": "display_data"
    },
    {
     "name": "stdout",
     "output_type": "stream",
     "text": [
      "All experiments completed.\n"
     ]
    }
   ],
   "source": [
    "\n",
    "# Iterate through each dataset\n",
    "for dataset_name, data in datasets.items():\n",
    "    # Iterate through each kernel\n",
    "    train,valid ,test = split_data(data, train_ratio= 0.8,valid_ratio=0)\n",
    "    \n",
    "    for kernel_name, kernel in kernels.items():\n",
    "        # Initialize the Gaussian Process Regressor with the current kernel\n",
    "        gpr = GaussianProcessRegressor(kernel=kernel)\n",
    "\n",
    "        # Iterate through each feature\n",
    "        for feature_name, feature_data in features.items():\n",
    "            if wandb.run is not None:\n",
    "                wandb.run.finish()\n",
    "                \n",
    "            run = wandb.init(project=\"Merged_GPR_Experiments\",\n",
    "                             name=f\"Expand_{dataset_name}_{kernel_name}:{feature_name}\")\n",
    "            \n",
    "            try:\n",
    "                \n",
    "                # Configuration parameters (this could be extended depending on what you'd like to track)\n",
    "                config = wandb.config\n",
    "                # config.ini_train_win_len = 24\n",
    "                config.ini_train_win_len = 24 * 7\n",
    "                config.valid_win_len = 24\n",
    "                # config.valid_win_len = 24 *7\n",
    "                config.step_size = 1 # 24 hours or 1 day\n",
    "\n",
    "                # Call the expanding window function\n",
    "                y_pred, y_std, gpr = expanding_window_gpr_process(\n",
    "                                                                run,\n",
    "                                                                train,\n",
    "                                                                gpr,\n",
    "                                                                test,\n",
    "                                                                ini_train_win_len=config.ini_train_win_len, \n",
    "                                                                valid_win_len=config.valid_win_len,\n",
    "                                                                features=feature_data,\n",
    "                                                                target='centered_car_count',\n",
    "                                                                agg_func='mean'\n",
    "                                                                )\n",
    "\n",
    "                # Log results and close the wandb run\n",
    "                # wandb.log({})\n",
    "            except Exception as e:\n",
    "                print(f\"An error occurred: {e}\")\n",
    "            finally:\n",
    "                run.finish()\n",
    "\n",
    "print('All experiments completed.')\n"
   ]
  },
  {
   "cell_type": "code",
   "execution_count": null,
   "metadata": {},
   "outputs": [],
   "source": []
  }
 ],
 "metadata": {
  "kernelspec": {
   "display_name": "prkng_v2_env",
   "language": "python",
   "name": "python3"
  },
  "language_info": {
   "codemirror_mode": {
    "name": "ipython",
    "version": 3
   },
   "file_extension": ".py",
   "mimetype": "text/x-python",
   "name": "python",
   "nbconvert_exporter": "python",
   "pygments_lexer": "ipython3",
   "version": "3.11.4"
  }
 },
 "nbformat": 4,
 "nbformat_minor": 2
}
