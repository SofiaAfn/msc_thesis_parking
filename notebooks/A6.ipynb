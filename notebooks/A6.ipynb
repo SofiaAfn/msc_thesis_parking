{
 "cells": [
  {
   "cell_type": "code",
   "execution_count": null,
   "metadata": {},
   "outputs": [],
   "source": [
    "import bisect\n",
    "import math\n",
    "\n",
    "#import cv2\n",
    "#import h5py\n",
    "\n",
    "import matplotlib.pyplot as plt\n",
    "import numpy as np\n",
    "#import tqdm\n",
    "import os\n",
    "import folium\n",
    "\n",
    "os.environ['USE_PYGEOS'] = '0'\n",
    "import geopandas as gpd\n",
    "\n",
    "\n",
    "from shapely import Point\n",
    "\n",
    "import jaxlie\n",
    "import plotly.graph_objects as go  \n",
    "import trajectory_utils\n",
    "import numpy as np\n",
    "#import pandas as pd\n",
    "import pyproj"
   ]
  },
  {
   "cell_type": "code",
   "execution_count": null,
   "metadata": {},
   "outputs": [],
   "source": [
    "# load permitted parking data\n",
    "permitted_parking_gdf = gpd.read_file('/home/sf_afn/Downloads/univrses_data/permitted_parking.json')\n",
    "permitted_parking_gdf.head()"
   ]
  },
  {
   "cell_type": "code",
   "execution_count": null,
   "metadata": {},
   "outputs": [],
   "source": [
    "# load vehicle detections\n",
    "car_triangulations_gdf = gpd.read_file(\"/home/sf_afn/Downloads/univrses_data/parked_car_triangulations_2023_04_24.csv\")"
   ]
  },
  {
   "cell_type": "code",
   "execution_count": null,
   "metadata": {},
   "outputs": [],
   "source": [
    "# --->BK1 base map declare\n",
    "# create a map centered on Sodermalm\n",
    "bbox_center = [59.312345, 18.066072] \n",
    "map_1 = folium.Map(location= bbox_center, zoom_start=14,tiles=\"cartodbpositron\" )"
   ]
  },
  {
   "cell_type": "code",
   "execution_count": null,
   "metadata": {},
   "outputs": [],
   "source": [
    "permitted_parking_gdf.crs"
   ]
  },
  {
   "cell_type": "code",
   "execution_count": null,
   "metadata": {},
   "outputs": [],
   "source": [
    "permitted_parking_gdf  = permitted_parking_gdf.to_crs(epsg=4326)\n",
    "permitted_parking_gdf['xy']= permitted_parking_gdf ['geometry'].apply(lambda row: row.xy )\n",
    "permitted_parking_gdf['location_coords'] = permitted_parking_gdf ['xy'].apply(lambda row: [(x,y) for x,y in zip(row[1],row[0])])"
   ]
  },
  {
   "cell_type": "code",
   "execution_count": null,
   "metadata": {},
   "outputs": [],
   "source": [
    "permitted_parking_gdf.head()"
   ]
  },
  {
   "cell_type": "code",
   "execution_count": null,
   "metadata": {},
   "outputs": [],
   "source": [
    "permitted_parking_gdf['geometry'][100:1800].geom_type"
   ]
  },
  {
   "cell_type": "code",
   "execution_count": null,
   "metadata": {},
   "outputs": [],
   "source": [
    "# ----> BK1 permitted parking polylines\n",
    "# add geometry to a feature group\n",
    "ls_fg = folium.FeatureGroup(name= \"permitted-parking\")\n",
    "#polyline held as child of the map\n",
    "for linestring in permitted_parking_gdf['location_coords']:\n",
    "    ls_fg.add_child(folium.PolyLine(locations= linestring))\n",
    "# feature group added to the child\n",
    "# warning: add layer control after adding your last layer otherwise nothing will work as its supposed to!\n",
    "map_1.add_child(ls_fg)\n"
   ]
  },
  {
   "cell_type": "code",
   "execution_count": null,
   "metadata": {},
   "outputs": [],
   "source": [
    "car_triangulations_gdf.crs"
   ]
  },
  {
   "cell_type": "code",
   "execution_count": null,
   "metadata": {},
   "outputs": [],
   "source": [
    "car_triangulations_gdf.head()"
   ]
  },
  {
   "cell_type": "code",
   "execution_count": null,
   "metadata": {},
   "outputs": [],
   "source": [
    "car_triangulations_gdf['geometry'] = car_triangulations_gdf.apply(lambda row: Point(row['longitude'], row['latitude']), axis= 1)"
   ]
  },
  {
   "cell_type": "code",
   "execution_count": null,
   "metadata": {},
   "outputs": [],
   "source": [
    "car_triangulations_gdf.set_crs(epsg=4326, inplace= True)"
   ]
  },
  {
   "cell_type": "code",
   "execution_count": null,
   "metadata": {},
   "outputs": [],
   "source": [
    "car_triangulations_gdf.to_crs(epsg= 3011, inplace=True)"
   ]
  },
  {
   "cell_type": "code",
   "execution_count": null,
   "metadata": {},
   "outputs": [],
   "source": [
    "car_triangulations_gdf.crs"
   ]
  },
  {
   "cell_type": "code",
   "execution_count": null,
   "metadata": {},
   "outputs": [],
   "source": [
    "car_triangulations_gdf.explore()"
   ]
  },
  {
   "cell_type": "code",
   "execution_count": null,
   "metadata": {},
   "outputs": [],
   "source": [
    "triangulation = car_triangulations_gdf['geometry'].iloc[42]"
   ]
  },
  {
   "cell_type": "code",
   "execution_count": null,
   "metadata": {},
   "outputs": [],
   "source": [
    "triangulation_point= [triangulation.x, triangulation.y]\n",
    "triangulation_point"
   ]
  },
  {
   "cell_type": "code",
   "execution_count": null,
   "metadata": {},
   "outputs": [],
   "source": [
    "nearby_parking_ids = []\n",
    "for idx, row in permitted_parking_gdf.iterrows():\n",
    "    dist = triangulation_point.distance(row.geometry)\n",
    "    if dist < 100:\n",
    "        nearby_parking_ids.append(idx)\n"
   ]
  },
  {
   "cell_type": "code",
   "execution_count": null,
   "metadata": {},
   "outputs": [],
   "source": [
    "sindex_car_tri = car_triangulations_gdf.sindex"
   ]
  },
  {
   "cell_type": "code",
   "execution_count": null,
   "metadata": {},
   "outputs": [],
   "source": [
    "parking_sindex= permitted_parking_gdf.sindex"
   ]
  },
  {
   "cell_type": "code",
   "execution_count": null,
   "metadata": {},
   "outputs": [],
   "source": [
    "parking_sindex"
   ]
  },
  {
   "cell_type": "code",
   "execution_count": null,
   "metadata": {},
   "outputs": [],
   "source": [
    "tri_buff = triangulation.buffer(100)\n",
    "close_parking_idx = list(parking_sindex.intersection(tri_buff).bounds)\n"
   ]
  },
  {
   "cell_type": "code",
   "execution_count": null,
   "metadata": {},
   "outputs": [],
   "source": []
  }
 ],
 "metadata": {
  "kernelspec": {
   "display_name": "prkng_v2_env",
   "language": "python",
   "name": "python3"
  },
  "language_info": {
   "codemirror_mode": {
    "name": "ipython",
    "version": 3
   },
   "file_extension": ".py",
   "mimetype": "text/x-python",
   "name": "python",
   "nbconvert_exporter": "python",
   "pygments_lexer": "ipython3",
   "version": "3.11.3"
  },
  "orig_nbformat": 4
 },
 "nbformat": 4,
 "nbformat_minor": 2
}
