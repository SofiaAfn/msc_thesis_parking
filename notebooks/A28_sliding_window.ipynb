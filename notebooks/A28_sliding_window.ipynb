{
 "cells": [
  {
   "cell_type": "code",
   "execution_count": 17,
   "metadata": {},
   "outputs": [],
   "source": [
    "from helper_functions import *\n",
    "import plotly.graph_objects as go\n",
    "import pandas as pd\n",
    "import wandb"
   ]
  },
  {
   "cell_type": "code",
   "execution_count": 18,
   "metadata": {},
   "outputs": [
    {
     "data": {
      "text/plain": [
       "'11/07_21:43:48'"
      ]
     },
     "execution_count": 18,
     "metadata": {},
     "output_type": "execute_result"
    }
   ],
   "source": [
    "\n",
    "from datetime import datetime\n",
    "now = datetime.now()\n",
    "datetime_str = now.strftime(\"%m/%d_%H:%M:%S\")\n",
    "datetime_str\n",
    "from datetime import datetime\n",
    "now = datetime.now()\n",
    "datetime_str = now.strftime(\"%m/%d_%H:%M:%S\")\n",
    "datetime_str\n",
    "\n"
   ]
  },
  {
   "cell_type": "code",
   "execution_count": 19,
   "metadata": {},
   "outputs": [],
   "source": [
    "\n",
    "data_df = pd.read_pickle(\"Kris_updated_yolov8.pkl\")\n",
    "data_df = preprocess_data(data_df)\n",
    "# Load current experiment number\n",
    "try:\n",
    "    with open('experiment_counter.txt', 'r') as f:\n",
    "        experiment_num = int(f.read())\n",
    "except:\n",
    "    experiment_num = 1\n",
    "\n",
    "# Increment and save the updated experiment number\n",
    "with open('experiment_9_counter.txt', 'w') as f:\n",
    "    f.write(str(experiment_num + 1))"
   ]
  },
  {
   "cell_type": "markdown",
   "metadata": {},
   "source": [
    "<h2> EXP 9: Sliding Window forecast origin:\n"
   ]
  },
  {
   "cell_type": "markdown",
   "metadata": {},
   "source": [
    "<h3> define splits\n"
   ]
  },
  {
   "cell_type": "code",
   "execution_count": 20,
   "metadata": {},
   "outputs": [
    {
     "data": {
      "text/plain": [
       "(774, 0, 194)"
      ]
     },
     "execution_count": 20,
     "metadata": {},
     "output_type": "execute_result"
    }
   ],
   "source": [
    "train,valid ,test = split_data(data_df, train_ratio= 0.8,valid_ratio=0)\n",
    "train.head()\n",
    "len(train),len(valid),len(test)"
   ]
  },
  {
   "cell_type": "markdown",
   "metadata": {},
   "source": [
    "\n",
    "<h3> kernel definition\n"
   ]
  },
  {
   "cell_type": "code",
   "execution_count": 21,
   "metadata": {},
   "outputs": [],
   "source": [
    "\n",
    "from sklearn.gaussian_process.kernels import RBF, WhiteKernel, ExpSineSquared, ConstantKernel as C\n",
    "\n",
    "# RBF kernel with a length scale of 1.0\n",
    "k1 = 1 * RBF(length_scale=0.5, length_scale_bounds=(1e-3, 1e3))\n",
    "\n",
    "# White kernel to account for noise\n",
    "k2 = WhiteKernel(noise_level=1, noise_level_bounds=(1e-10, 1e+1))\n",
    "\n",
    "# Periodic kernel\n",
    "k3 = ExpSineSquared(length_scale=1.0,\n",
    "                    length_scale_bounds=(1e-1, 50) ,\n",
    "                    periodicity=1,\n",
    "                    periodicity_bounds= (1e-1, 50))\n",
    "k4 = k1 * k3\n",
    "# Combined kernel\n",
    "# kernel = k1+k2+k3\n",
    "# kernel = k2 +k4\n",
    "# kernel = k2*k4\n",
    "# kernel = k4 + k3 +k1\n",
    "kernel = (k4 + k2)+k3\n",
    "\n",
    "gpr = GaussianProcessRegressor(kernel=kernel, n_restarts_optimizer= 10)\n"
   ]
  },
  {
   "cell_type": "markdown",
   "metadata": {},
   "source": [
    "<h3> Train,validate, test"
   ]
  },
  {
   "cell_type": "code",
   "execution_count": 22,
   "metadata": {},
   "outputs": [],
   "source": [
    "\n",
    "# datetime_str = now.strftime(\"%m/%d_%H:%M:%S\")\n",
    "\n",
    "\n",
    "# # Initialize wandb run\n",
    "# run = wandb.init(project=\"Sliding_Window_GPR\", name=f\"Sliding_Window_{experiment_num}_feature:hour_of_day\")\n",
    "# # Configuration parameters (this could be extended depending on what you'd like to track)\n",
    "# config = wandb.config\n",
    "# config.ini_train_win_len = 24\n",
    "# config.valid_win_len = 24\n",
    "# config.step_size = 1 # 24 hours or 1 day\n",
    "\n",
    "# # Call the expanding window function\n",
    "# y_pred, y_std, gpr = sliding_window_gpr_process(run,\n",
    "#                                                 train,\n",
    "#                                                 gpr,\n",
    "#                                                 test, \n",
    "#                                     train_win_len=config.ini_train_win_len, \n",
    "#                                     valid_win_len=config.valid_win_len,\n",
    "#                                     features='hour_of_day',\n",
    "#                                     target='centered_car_count',\n",
    "#                                     agg_func='mean')\n",
    "\n",
    "# # Close the wandb run\n",
    "# wandb.finish()"
   ]
  },
  {
   "cell_type": "code",
   "execution_count": null,
   "metadata": {},
   "outputs": [],
   "source": []
  },
  {
   "cell_type": "code",
   "execution_count": 23,
   "metadata": {},
   "outputs": [],
   "source": [
    "\n",
    "# datetime_str = now.strftime(\"%m/%d_%H:%M:%S\")\n",
    "\n",
    "\n",
    "# # Initialize wandb run\n",
    "# run = wandb.init(project=\"Sliding_Window_GPR\", name=f\"Sliding_Window_{experiment_num}_feature:week\")\n",
    "# # Configuration parameters (this could be extended depending on what you'd like to track)\n",
    "# config = wandb.config\n",
    "# config.ini_train_win_len = 24\n",
    "# config.valid_win_len = 24\n",
    "# config.step_size = 1 # 24 hours or 1 day\n",
    "\n",
    "# # Call the expanding window function\n",
    "# y_pred, y_std, gpr = sliding_window_gpr_process(run,\n",
    "#                                                 train,\n",
    "#                                                 gpr,\n",
    "#                                                 test, \n",
    "#                                     train_win_len=config.ini_train_win_len, \n",
    "#                                     valid_win_len=config.valid_win_len,\n",
    "#                                     features='day_of_week',\n",
    "#                                     target='centered_car_count',\n",
    "#                                     agg_func='mean')\n",
    "\n",
    "# # Close the wandb run\n",
    "# wandb.finish()"
   ]
  },
  {
   "cell_type": "code",
   "execution_count": 24,
   "metadata": {},
   "outputs": [
    {
     "data": {
      "text/html": [
       "Tracking run with wandb version 0.15.12"
      ],
      "text/plain": [
       "<IPython.core.display.HTML object>"
      ]
     },
     "metadata": {},
     "output_type": "display_data"
    },
    {
     "data": {
      "text/html": [
       "Run data is saved locally in <code>/home/sf_afn/Insync/sofiaa720@gmail.com/Google Drive/masters_thesis/code_v1/msc_parking/univrses/notebooks/wandb/run-20231107_214348-6akptre2</code>"
      ],
      "text/plain": [
       "<IPython.core.display.HTML object>"
      ]
     },
     "metadata": {},
     "output_type": "display_data"
    },
    {
     "data": {
      "text/html": [
       "Syncing run <strong><a href='https://wandb.ai/afn-sy/Sliding_Window_GPR/runs/6akptre2' target=\"_blank\">Sliding_Window_34_feature:month</a></strong> to <a href='https://wandb.ai/afn-sy/Sliding_Window_GPR' target=\"_blank\">Weights & Biases</a> (<a href='https://wandb.me/run' target=\"_blank\">docs</a>)<br/>"
      ],
      "text/plain": [
       "<IPython.core.display.HTML object>"
      ]
     },
     "metadata": {},
     "output_type": "display_data"
    },
    {
     "data": {
      "text/html": [
       " View project at <a href='https://wandb.ai/afn-sy/Sliding_Window_GPR' target=\"_blank\">https://wandb.ai/afn-sy/Sliding_Window_GPR</a>"
      ],
      "text/plain": [
       "<IPython.core.display.HTML object>"
      ]
     },
     "metadata": {},
     "output_type": "display_data"
    },
    {
     "data": {
      "text/html": [
       " View run at <a href='https://wandb.ai/afn-sy/Sliding_Window_GPR/runs/6akptre2' target=\"_blank\">https://wandb.ai/afn-sy/Sliding_Window_GPR/runs/6akptre2</a>"
      ],
      "text/plain": [
       "<IPython.core.display.HTML object>"
      ]
     },
     "metadata": {},
     "output_type": "display_data"
    },
    {
     "name": "stderr",
     "output_type": "stream",
     "text": [
      "Processing sliding window:   4%|█▍                                   | 2/50 [00:00<00:16,  2.93it/s]"
     ]
    },
    {
     "name": "stdout",
     "output_type": "stream",
     "text": [
      "Step: 1\n"
     ]
    },
    {
     "name": "stderr",
     "output_type": "stream",
     "text": [
      "/home/sf_afn/usr_sa/anaconda3/envs/prkng_v2_env/lib/python3.11/site-packages/sklearn/gaussian_process/kernels.py:429: ConvergenceWarning:\n",
      "\n",
      "The optimal value found for dimension 0 of parameter k1__k1__k1__k2__length_scale is close to the specified upper bound 1000.0. Increasing the bound and calling fit again may find a better value.\n",
      "\n",
      "Processing sliding window:   8%|██▉                                  | 4/50 [00:01<00:17,  2.57it/s]"
     ]
    },
    {
     "name": "stdout",
     "output_type": "stream",
     "text": [
      "Step: 2\n"
     ]
    },
    {
     "name": "stderr",
     "output_type": "stream",
     "text": [
      "/home/sf_afn/usr_sa/anaconda3/envs/prkng_v2_env/lib/python3.11/site-packages/sklearn/gaussian_process/kernels.py:429: ConvergenceWarning:\n",
      "\n",
      "The optimal value found for dimension 0 of parameter k1__k1__k1__k2__length_scale is close to the specified upper bound 1000.0. Increasing the bound and calling fit again may find a better value.\n",
      "\n",
      "Processing sliding window:  12%|████▍                                | 6/50 [00:02<00:16,  2.64it/s]"
     ]
    },
    {
     "name": "stdout",
     "output_type": "stream",
     "text": [
      "Step: 3\n"
     ]
    },
    {
     "name": "stderr",
     "output_type": "stream",
     "text": [
      "Processing sliding window:  16%|█████▉                               | 8/50 [00:03<00:16,  2.48it/s]"
     ]
    },
    {
     "name": "stdout",
     "output_type": "stream",
     "text": [
      "Step: 4\n"
     ]
    },
    {
     "name": "stderr",
     "output_type": "stream",
     "text": [
      "/home/sf_afn/usr_sa/anaconda3/envs/prkng_v2_env/lib/python3.11/site-packages/sklearn/gaussian_process/kernels.py:429: ConvergenceWarning:\n",
      "\n",
      "The optimal value found for dimension 0 of parameter k1__k1__k1__k2__length_scale is close to the specified upper bound 1000.0. Increasing the bound and calling fit again may find a better value.\n",
      "\n",
      "Processing sliding window:  20%|███████▏                            | 10/50 [00:03<00:15,  2.52it/s]"
     ]
    },
    {
     "name": "stdout",
     "output_type": "stream",
     "text": [
      "Step: 5\n"
     ]
    },
    {
     "name": "stderr",
     "output_type": "stream",
     "text": [
      "/home/sf_afn/usr_sa/anaconda3/envs/prkng_v2_env/lib/python3.11/site-packages/sklearn/gaussian_process/kernels.py:429: ConvergenceWarning:\n",
      "\n",
      "The optimal value found for dimension 0 of parameter k1__k1__k1__k2__length_scale is close to the specified upper bound 1000.0. Increasing the bound and calling fit again may find a better value.\n",
      "\n",
      "Processing sliding window:  24%|████████▋                           | 12/50 [00:04<00:14,  2.67it/s]"
     ]
    },
    {
     "name": "stdout",
     "output_type": "stream",
     "text": [
      "Step: 6\n"
     ]
    },
    {
     "name": "stderr",
     "output_type": "stream",
     "text": [
      "Processing sliding window:  28%|██████████                          | 14/50 [00:05<00:14,  2.56it/s]"
     ]
    },
    {
     "name": "stdout",
     "output_type": "stream",
     "text": [
      "Step: 7\n"
     ]
    },
    {
     "name": "stderr",
     "output_type": "stream",
     "text": [
      "Processing sliding window:  32%|███████████▌                        | 16/50 [00:06<00:13,  2.47it/s]"
     ]
    },
    {
     "name": "stdout",
     "output_type": "stream",
     "text": [
      "Step: 8\n"
     ]
    },
    {
     "name": "stderr",
     "output_type": "stream",
     "text": [
      "/home/sf_afn/usr_sa/anaconda3/envs/prkng_v2_env/lib/python3.11/site-packages/sklearn/gaussian_process/kernels.py:419: ConvergenceWarning:\n",
      "\n",
      "The optimal value found for dimension 0 of parameter k1__k1__k2__periodicity is close to the specified lower bound 0.1. Decreasing the bound and calling fit again may find a better value.\n",
      "\n",
      "/home/sf_afn/usr_sa/anaconda3/envs/prkng_v2_env/lib/python3.11/site-packages/sklearn/gaussian_process/kernels.py:419: ConvergenceWarning:\n",
      "\n",
      "The optimal value found for dimension 0 of parameter k2__periodicity is close to the specified lower bound 0.1. Decreasing the bound and calling fit again may find a better value.\n",
      "\n",
      "Processing sliding window:  36%|████████████▉                       | 18/50 [00:06<00:12,  2.63it/s]"
     ]
    },
    {
     "name": "stdout",
     "output_type": "stream",
     "text": [
      "Step: 9\n"
     ]
    },
    {
     "name": "stderr",
     "output_type": "stream",
     "text": [
      "/home/sf_afn/usr_sa/anaconda3/envs/prkng_v2_env/lib/python3.11/site-packages/sklearn/gaussian_process/kernels.py:429: ConvergenceWarning:\n",
      "\n",
      "The optimal value found for dimension 0 of parameter k1__k2__noise_level is close to the specified upper bound 10.0. Increasing the bound and calling fit again may find a better value.\n",
      "\n",
      "Processing sliding window:  40%|██████████████▍                     | 20/50 [00:07<00:11,  2.53it/s]"
     ]
    },
    {
     "name": "stdout",
     "output_type": "stream",
     "text": [
      "Step: 10\n"
     ]
    },
    {
     "name": "stderr",
     "output_type": "stream",
     "text": [
      "/home/sf_afn/usr_sa/anaconda3/envs/prkng_v2_env/lib/python3.11/site-packages/sklearn/gaussian_process/kernels.py:429: ConvergenceWarning:\n",
      "\n",
      "The optimal value found for dimension 0 of parameter k1__k1__k1__k2__length_scale is close to the specified upper bound 1000.0. Increasing the bound and calling fit again may find a better value.\n",
      "\n",
      "Processing sliding window:  44%|███████████████▊                    | 22/50 [00:08<00:11,  2.50it/s]"
     ]
    },
    {
     "name": "stdout",
     "output_type": "stream",
     "text": [
      "Step: 11\n"
     ]
    },
    {
     "name": "stderr",
     "output_type": "stream",
     "text": [
      "/home/sf_afn/usr_sa/anaconda3/envs/prkng_v2_env/lib/python3.11/site-packages/sklearn/gaussian_process/kernels.py:419: ConvergenceWarning:\n",
      "\n",
      "The optimal value found for dimension 0 of parameter k2__length_scale is close to the specified lower bound 0.1. Decreasing the bound and calling fit again may find a better value.\n",
      "\n",
      "Processing sliding window:  48%|█████████████████▎                  | 24/50 [00:09<00:10,  2.37it/s]"
     ]
    },
    {
     "name": "stdout",
     "output_type": "stream",
     "text": [
      "Step: 12\n"
     ]
    },
    {
     "name": "stderr",
     "output_type": "stream",
     "text": [
      "/home/sf_afn/usr_sa/anaconda3/envs/prkng_v2_env/lib/python3.11/site-packages/sklearn/gaussian_process/kernels.py:429: ConvergenceWarning:\n",
      "\n",
      "The optimal value found for dimension 0 of parameter k1__k1__k2__length_scale is close to the specified upper bound 50.0. Increasing the bound and calling fit again may find a better value.\n",
      "\n",
      "/home/sf_afn/usr_sa/anaconda3/envs/prkng_v2_env/lib/python3.11/site-packages/sklearn/gaussian_process/kernels.py:429: ConvergenceWarning:\n",
      "\n",
      "The optimal value found for dimension 0 of parameter k1__k1__k2__periodicity is close to the specified upper bound 50.0. Increasing the bound and calling fit again may find a better value.\n",
      "\n",
      "Processing sliding window:  52%|██████████████████▋                 | 26/50 [00:10<00:09,  2.44it/s]"
     ]
    },
    {
     "name": "stdout",
     "output_type": "stream",
     "text": [
      "Step: 13\n"
     ]
    },
    {
     "name": "stderr",
     "output_type": "stream",
     "text": [
      "Processing sliding window:  56%|████████████████████▏               | 28/50 [00:11<00:08,  2.51it/s]"
     ]
    },
    {
     "name": "stdout",
     "output_type": "stream",
     "text": [
      "Step: 14\n"
     ]
    },
    {
     "name": "stderr",
     "output_type": "stream",
     "text": [
      "Processing sliding window:  60%|█████████████████████▌              | 30/50 [00:11<00:08,  2.45it/s]"
     ]
    },
    {
     "name": "stdout",
     "output_type": "stream",
     "text": [
      "Step: 15\n"
     ]
    },
    {
     "name": "stderr",
     "output_type": "stream",
     "text": [
      "Processing sliding window:  64%|███████████████████████             | 32/50 [00:12<00:07,  2.34it/s]"
     ]
    },
    {
     "name": "stdout",
     "output_type": "stream",
     "text": [
      "Step: 16\n"
     ]
    },
    {
     "name": "stderr",
     "output_type": "stream",
     "text": [
      "/home/sf_afn/usr_sa/anaconda3/envs/prkng_v2_env/lib/python3.11/site-packages/sklearn/gaussian_process/kernels.py:429: ConvergenceWarning:\n",
      "\n",
      "The optimal value found for dimension 0 of parameter k1__k1__k1__k2__length_scale is close to the specified upper bound 1000.0. Increasing the bound and calling fit again may find a better value.\n",
      "\n",
      "/home/sf_afn/usr_sa/anaconda3/envs/prkng_v2_env/lib/python3.11/site-packages/sklearn/gaussian_process/kernels.py:419: ConvergenceWarning:\n",
      "\n",
      "The optimal value found for dimension 0 of parameter k2__length_scale is close to the specified lower bound 0.1. Decreasing the bound and calling fit again may find a better value.\n",
      "\n",
      "Processing sliding window:  68%|████████████████████████▍           | 34/50 [00:13<00:06,  2.48it/s]"
     ]
    },
    {
     "name": "stdout",
     "output_type": "stream",
     "text": [
      "Step: 17\n"
     ]
    },
    {
     "name": "stderr",
     "output_type": "stream",
     "text": [
      "/home/sf_afn/usr_sa/anaconda3/envs/prkng_v2_env/lib/python3.11/site-packages/sklearn/gaussian_process/kernels.py:429: ConvergenceWarning:\n",
      "\n",
      "The optimal value found for dimension 0 of parameter k1__k1__k1__k2__length_scale is close to the specified upper bound 1000.0. Increasing the bound and calling fit again may find a better value.\n",
      "\n",
      "Processing sliding window:  72%|█████████████████████████▉          | 36/50 [00:14<00:05,  2.47it/s]"
     ]
    },
    {
     "name": "stdout",
     "output_type": "stream",
     "text": [
      "Step: 18\n"
     ]
    },
    {
     "name": "stderr",
     "output_type": "stream",
     "text": [
      "/home/sf_afn/usr_sa/anaconda3/envs/prkng_v2_env/lib/python3.11/site-packages/sklearn/gaussian_process/kernels.py:429: ConvergenceWarning:\n",
      "\n",
      "The optimal value found for dimension 0 of parameter k1__k1__k1__k2__length_scale is close to the specified upper bound 1000.0. Increasing the bound and calling fit again may find a better value.\n",
      "\n",
      "/home/sf_afn/usr_sa/anaconda3/envs/prkng_v2_env/lib/python3.11/site-packages/sklearn/gaussian_process/kernels.py:419: ConvergenceWarning:\n",
      "\n",
      "The optimal value found for dimension 0 of parameter k2__periodicity is close to the specified lower bound 0.1. Decreasing the bound and calling fit again may find a better value.\n",
      "\n",
      "Processing sliding window:  76%|███████████████████████████▎        | 38/50 [00:15<00:04,  2.52it/s]"
     ]
    },
    {
     "name": "stdout",
     "output_type": "stream",
     "text": [
      "Step: 19\n"
     ]
    },
    {
     "name": "stderr",
     "output_type": "stream",
     "text": [
      "/home/sf_afn/usr_sa/anaconda3/envs/prkng_v2_env/lib/python3.11/site-packages/sklearn/gaussian_process/kernels.py:429: ConvergenceWarning:\n",
      "\n",
      "The optimal value found for dimension 0 of parameter k1__k1__k1__k2__length_scale is close to the specified upper bound 1000.0. Increasing the bound and calling fit again may find a better value.\n",
      "\n",
      "Processing sliding window:  80%|████████████████████████████▊       | 40/50 [00:15<00:03,  2.57it/s]"
     ]
    },
    {
     "name": "stdout",
     "output_type": "stream",
     "text": [
      "Step: 20\n"
     ]
    },
    {
     "name": "stderr",
     "output_type": "stream",
     "text": [
      "/home/sf_afn/usr_sa/anaconda3/envs/prkng_v2_env/lib/python3.11/site-packages/sklearn/gaussian_process/kernels.py:419: ConvergenceWarning:\n",
      "\n",
      "The optimal value found for dimension 0 of parameter k2__length_scale is close to the specified lower bound 0.1. Decreasing the bound and calling fit again may find a better value.\n",
      "\n",
      "Processing sliding window:  84%|██████████████████████████████▏     | 42/50 [00:16<00:03,  2.62it/s]"
     ]
    },
    {
     "name": "stdout",
     "output_type": "stream",
     "text": [
      "Step: 21\n"
     ]
    },
    {
     "name": "stderr",
     "output_type": "stream",
     "text": [
      "/home/sf_afn/usr_sa/anaconda3/envs/prkng_v2_env/lib/python3.11/site-packages/sklearn/gaussian_process/kernels.py:429: ConvergenceWarning:\n",
      "\n",
      "The optimal value found for dimension 0 of parameter k1__k1__k1__k2__length_scale is close to the specified upper bound 1000.0. Increasing the bound and calling fit again may find a better value.\n",
      "\n",
      "/home/sf_afn/usr_sa/anaconda3/envs/prkng_v2_env/lib/python3.11/site-packages/sklearn/gaussian_process/kernels.py:419: ConvergenceWarning:\n",
      "\n",
      "The optimal value found for dimension 0 of parameter k2__length_scale is close to the specified lower bound 0.1. Decreasing the bound and calling fit again may find a better value.\n",
      "\n",
      "/home/sf_afn/usr_sa/anaconda3/envs/prkng_v2_env/lib/python3.11/site-packages/sklearn/gaussian_process/kernels.py:419: ConvergenceWarning:\n",
      "\n",
      "The optimal value found for dimension 0 of parameter k2__periodicity is close to the specified lower bound 0.1. Decreasing the bound and calling fit again may find a better value.\n",
      "\n",
      "Processing sliding window:  88%|███████████████████████████████▋    | 44/50 [00:17<00:02,  2.73it/s]"
     ]
    },
    {
     "name": "stdout",
     "output_type": "stream",
     "text": [
      "Step: 22\n"
     ]
    },
    {
     "name": "stderr",
     "output_type": "stream",
     "text": [
      "Processing sliding window:  92%|█████████████████████████████████   | 46/50 [00:18<00:01,  2.47it/s]"
     ]
    },
    {
     "name": "stdout",
     "output_type": "stream",
     "text": [
      "Step: 23\n"
     ]
    },
    {
     "name": "stderr",
     "output_type": "stream",
     "text": [
      "/home/sf_afn/usr_sa/anaconda3/envs/prkng_v2_env/lib/python3.11/site-packages/sklearn/gaussian_process/kernels.py:429: ConvergenceWarning:\n",
      "\n",
      "The optimal value found for dimension 0 of parameter k1__k1__k1__k2__length_scale is close to the specified upper bound 1000.0. Increasing the bound and calling fit again may find a better value.\n",
      "\n",
      "Processing sliding window:  96%|██████████████████████████████████▌ | 48/50 [00:18<00:00,  2.62it/s]"
     ]
    },
    {
     "name": "stdout",
     "output_type": "stream",
     "text": [
      "Step: 24\n"
     ]
    },
    {
     "name": "stderr",
     "output_type": "stream",
     "text": [
      "/home/sf_afn/usr_sa/anaconda3/envs/prkng_v2_env/lib/python3.11/site-packages/sklearn/gaussian_process/kernels.py:429: ConvergenceWarning:\n",
      "\n",
      "The optimal value found for dimension 0 of parameter k1__k1__k1__k2__length_scale is close to the specified upper bound 1000.0. Increasing the bound and calling fit again may find a better value.\n",
      "\n",
      "Processing sliding window: 100%|████████████████████████████████████| 50/50 [00:19<00:00,  2.52it/s]\n"
     ]
    },
    {
     "name": "stdout",
     "output_type": "stream",
     "text": [
      "Step: 25\n",
      "Testing final GPR on test set\n"
     ]
    },
    {
     "data": {
      "text/html": [
       "Waiting for W&B process to finish... <strong style=\"color:green\">(success).</strong>"
      ],
      "text/plain": [
       "<IPython.core.display.HTML object>"
      ]
     },
     "metadata": {},
     "output_type": "display_data"
    },
    {
     "name": "stderr",
     "output_type": "stream",
     "text": [
      "wandb: WARNING Source type is set to 'repo' but some required information is missing from the environment. A job will not be created from this run. See https://docs.wandb.ai/guides/launch/create-job\n"
     ]
    },
    {
     "data": {
      "text/html": [
       "<style>\n",
       "    table.wandb td:nth-child(1) { padding: 0 10px; text-align: left ; width: auto;} td:nth-child(2) {text-align: left ; width: 100%}\n",
       "    .wandb-row { display: flex; flex-direction: row; flex-wrap: wrap; justify-content: flex-start; width: 100% }\n",
       "    .wandb-col { display: flex; flex-direction: column; flex-basis: 100%; flex: 1; padding: 10px; }\n",
       "    </style>\n",
       "<div class=\"wandb-row\"><div class=\"wandb-col\"><h3>Run history:</h3><br/><table class=\"wandb\"><tr><td>LML_test</td><td>▁</td></tr><tr><td>LML_train</td><td>▁▃▄▃▃▂▂▂▂▂▂▂▂▂▂▃▃▅▄▃▃▃██▆▆</td></tr><tr><td>LML_validate</td><td>▁▃▄▃▃▂▂▂▂▂▂▂▂▂▂▃▃▅▄▃▃▃██▆</td></tr><tr><td>MAE_test</td><td>▁</td></tr><tr><td>MAE_train</td><td>▁▂▁▁▅▆▄▇▇█▇▇▇▆▅▁▁▁▅▅▁▅▁▂▁▁</td></tr><tr><td>MAE_validate</td><td>▂▂▁▄▂▃▅▂▃▃▄▃▅▁▃▇█▅▄▃▂▁▁█▄</td></tr><tr><td>MAPE_test</td><td>▁</td></tr><tr><td>MAPE_train</td><td>▁▁▁▁▃▃▁▂▂▂▂█▂▂▂▁▁▁▂▂▁▂▁▁▁▁</td></tr><tr><td>MAPE_validate</td><td>▂▁▅▁▁▁▁▁▁▁▁▂▂▄▁▁▁▁▁▁▁▁▁▂█</td></tr><tr><td>MSE_test</td><td>▁</td></tr><tr><td>MSE_train</td><td>▁▁▁▁▄▄▂▅▅█▆▆▆▄▃▁▁▁▃▄▁▄▁▁▁▁</td></tr><tr><td>MSE_validate</td><td>▁▁▁▃▂▂▅▂▂▂▃▂▄▁▃▆█▄▂▂▂▁▁█▅</td></tr><tr><td>R2_test</td><td>▁</td></tr><tr><td>R2_train</td><td>████▃▄▇▄▅▄▆▅▄▅▆███▃▁█▁█▅██</td></tr><tr><td>R2_validate</td><td>███████████████▆▁▂▇▆▇████</td></tr><tr><td>RMSE_test</td><td>▁</td></tr><tr><td>RMSE_train</td><td>▁▂▁▁▅▆▄▆▆█▇▇▇▆▅▁▁▁▄▅▁▅▁▂▁▁</td></tr><tr><td>RMSE_validate</td><td>▂▂▁▄▃▃▆▂▃▃▄▃▅▁▄▇█▅▄▃▂▂▁█▆</td></tr><tr><td>step</td><td>▁▁▁▁▂▂▂▂▂▂▃▃▃▃▄▄▄▄▄▅▅▅▅▅▅▆▆▆▆▆▇▇▇▇▇▇███▁</td></tr></table><br/></div><div class=\"wandb-col\"><h3>Run summary:</h3><br/><table class=\"wandb\"><tr><td>LML_test</td><td>-37.34725</td></tr><tr><td>LML_train</td><td>-37.34725</td></tr><tr><td>LML_validate</td><td>-37.34725</td></tr><tr><td>MAE_test</td><td>11.05113</td></tr><tr><td>MAE_train</td><td>0.0</td></tr><tr><td>MAE_validate</td><td>9.29121</td></tr><tr><td>MAPE_test</td><td>156.07203</td></tr><tr><td>MAPE_train</td><td>0.0</td></tr><tr><td>MAPE_validate</td><td>1892.38948</td></tr><tr><td>MSE_test</td><td>163.99428</td></tr><tr><td>MSE_train</td><td>0.0</td></tr><tr><td>MSE_validate</td><td>171.75262</td></tr><tr><td>R2_test</td><td>-1.09674</td></tr><tr><td>R2_train</td><td>1.0</td></tr><tr><td>R2_validate</td><td>-0.67501</td></tr><tr><td>RMSE_test</td><td>12.80603</td></tr><tr><td>RMSE_train</td><td>0.0</td></tr><tr><td>RMSE_validate</td><td>13.10544</td></tr><tr><td>step</td><td>1</td></tr></table><br/></div></div>"
      ],
      "text/plain": [
       "<IPython.core.display.HTML object>"
      ]
     },
     "metadata": {},
     "output_type": "display_data"
    },
    {
     "data": {
      "text/html": [
       " View run <strong style=\"color:#cdcd00\">Sliding_Window_34_feature:month</strong> at: <a href='https://wandb.ai/afn-sy/Sliding_Window_GPR/runs/6akptre2' target=\"_blank\">https://wandb.ai/afn-sy/Sliding_Window_GPR/runs/6akptre2</a><br/>Synced 7 W&B file(s), 154 media file(s), 51 artifact file(s) and 4 other file(s)"
      ],
      "text/plain": [
       "<IPython.core.display.HTML object>"
      ]
     },
     "metadata": {},
     "output_type": "display_data"
    },
    {
     "data": {
      "text/html": [
       "Find logs at: <code>./wandb/run-20231107_214348-6akptre2/logs</code>"
      ],
      "text/plain": [
       "<IPython.core.display.HTML object>"
      ]
     },
     "metadata": {},
     "output_type": "display_data"
    }
   ],
   "source": [
    "\n",
    "datetime_str = now.strftime(\"%m/%d_%H:%M:%S\")\n",
    "\n",
    "\n",
    "# Initialize wandb run\n",
    "run = wandb.init(project=\"Sliding_Window_GPR\", name=f\"Sliding_Window_{experiment_num}_feature:month\")\n",
    "# Configuration parameters (this could be extended depending on what you'd like to track)\n",
    "config = wandb.config\n",
    "# config.ini_train_win_len = 24\n",
    "config.ini_train_win_len = 24 * 7\n",
    "config.valid_win_len = 24\n",
    "# config.valid_win_len = 24 *7\n",
    "config.step_size = 1 # 24 hours or 1 day\n",
    "\n",
    "# Call the expanding window function\n",
    "y_pred, y_std, gpr = sliding_window_gpr_process(run,\n",
    "                                                train,\n",
    "                                                gpr,\n",
    "                                                test, \n",
    "                                    train_win_len=config.ini_train_win_len, \n",
    "                                    valid_win_len=config.valid_win_len,\n",
    "                                    features='day',\n",
    "                                    target='centered_car_count',\n",
    "                                    agg_func='mean')\n",
    "\n",
    "# Close the wandb run\n",
    "wandb.finish()"
   ]
  },
  {
   "cell_type": "code",
   "execution_count": null,
   "metadata": {},
   "outputs": [],
   "source": []
  }
 ],
 "metadata": {
  "kernelspec": {
   "display_name": "prkng_v2_env",
   "language": "python",
   "name": "python3"
  },
  "language_info": {
   "codemirror_mode": {
    "name": "ipython",
    "version": 3
   },
   "file_extension": ".py",
   "mimetype": "text/x-python",
   "name": "python",
   "nbconvert_exporter": "python",
   "pygments_lexer": "ipython3",
   "version": "3.11.4"
  }
 },
 "nbformat": 4,
 "nbformat_minor": 2
}
