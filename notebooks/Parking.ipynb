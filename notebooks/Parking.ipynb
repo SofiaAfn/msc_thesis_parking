{
 "cells": [
  {
   "cell_type": "code",
   "execution_count": null,
   "id": "b5577565",
   "metadata": {
    "ExecuteTime": {
     "end_time": "2023-05-03T14:41:56.790708Z",
     "start_time": "2023-05-03T14:41:56.787793Z"
    }
   },
   "outputs": [],
   "source": [
    "import json\n",
    "import numpy as np\n",
    "import pandas as pd\n",
    "import pyproj"
   ]
  },
  {
   "cell_type": "code",
   "execution_count": null,
   "id": "3e711008",
   "metadata": {},
   "outputs": [],
   "source": []
  },
  {
   "cell_type": "code",
   "execution_count": null,
   "id": "e0fcd78e",
   "metadata": {
    "ExecuteTime": {
     "end_time": "2023-05-03T14:07:50.324808Z",
     "start_time": "2023-05-03T14:07:50.320050Z"
    }
   },
   "outputs": [],
   "source": [
    "# load vehicle detections\n",
    "car_triangulations = pd.read_csv(\n",
    "    \"/home/sofia_afn/Downloads/univrses_data/parked_car_triangulations_2023_04_24.csv\"\n",
    ")\n"
   ]
  },
  {
   "cell_type": "code",
   "execution_count": null,
   "id": "48e21cf8",
   "metadata": {},
   "outputs": [],
   "source": [
    "car_triangulations.head()"
   ]
  },
  {
   "cell_type": "code",
   "execution_count": null,
   "id": "ced3b057",
   "metadata": {
    "ExecuteTime": {
     "end_time": "2023-05-03T14:40:21.214710Z",
     "start_time": "2023-05-03T14:40:21.191676Z"
    }
   },
   "outputs": [],
   "source": [
    "# Get SWEREF99 (EPSG::3011) coordinates for each car detection\n",
    "transformer = pyproj.Transformer.from_crs(\"EPSG:4326\", \"EPSG:3011\")\n",
    "\n",
    "EPSG_3011_x = []\n",
    "EPSG_3011_y = []\n",
    "for index, row in car_triangulations.iterrows():\n",
    "    y, x = transformer.transform(row[\"latitude\"], row[\"longitude\"])\n",
    "    EPSG_3011_x.append(x)\n",
    "    EPSG_3011_y.append(y)\n",
    "\n",
    "car_triangulations[\"EPSG_3011_x\"] = EPSG_3011_x\n",
    "car_triangulations[\"EPSG_3011_y\"] = EPSG_3011_y\n"
   ]
  },
  {
   "cell_type": "code",
   "execution_count": null,
   "id": "7061e9d7",
   "metadata": {
    "ExecuteTime": {
     "end_time": "2023-05-03T14:05:59.786345Z",
     "start_time": "2023-05-03T14:05:59.777535Z"
    }
   },
   "outputs": [],
   "source": [
    "car_triangulations.head()"
   ]
  },
  {
   "cell_type": "code",
   "execution_count": null,
   "id": "9d525ee8",
   "metadata": {
    "ExecuteTime": {
     "end_time": "2023-05-03T14:51:33.533727Z",
     "start_time": "2023-05-03T14:51:33.451957Z"
    }
   },
   "outputs": [],
   "source": [
    "# Load the parking segments\n",
    "with open(\n",
    "    \"/home/sofia_afn//Downloads/univrses_data/permitted_parking_linestrings.json\"\n",
    ") as user_file:\n",
    "    parking = json.load(user_file)\n"
   ]
  },
  {
   "cell_type": "code",
   "execution_count": null,
   "id": "923e1541",
   "metadata": {},
   "outputs": [],
   "source": [
    "parking"
   ]
  },
  {
   "cell_type": "code",
   "execution_count": null,
   "id": "d4a2dcb0",
   "metadata": {
    "ExecuteTime": {
     "end_time": "2023-05-03T14:51:34.362787Z",
     "start_time": "2023-05-03T14:51:34.360332Z"
    }
   },
   "outputs": [],
   "source": [
    "# Plot all the parking segments and the car triangulations in EPSG:3011"
   ]
  },
  {
   "cell_type": "code",
   "execution_count": null,
   "id": "a564d198",
   "metadata": {
    "ExecuteTime": {
     "end_time": "2023-05-03T14:51:53.155097Z",
     "start_time": "2023-05-03T14:51:52.444652Z"
    }
   },
   "outputs": [],
   "source": [
    "import plotly.graph_objects as go\n",
    "\n",
    "fig = go.Figure()\n",
    "\n",
    "fig.add_trace(\n",
    "    go.Scatter(\n",
    "        x=[\n",
    "            p[0]\n",
    "            for f in parking[\"features\"]\n",
    "            for p in f[\"geometry\"][\"coordinates\"] + [[None, None]]\n",
    "        ],\n",
    "        y=[\n",
    "            p[1]\n",
    "            for f in parking[\"features\"]\n",
    "            for p in f[\"geometry\"][\"coordinates\"] + [[None, None]]\n",
    "        ],\n",
    "        name=\"Parking areas\",\n",
    "    )\n",
    ")\n",
    "fig.add_trace(\n",
    "    go.Scatter(\n",
    "        x=car_triangulations[\"EPSG_3011_x\"],\n",
    "        y=car_triangulations[\"EPSG_3011_y\"],\n",
    "        name=\"Car triangulations\",\n",
    "        mode=\"markers\",\n",
    "    )\n",
    ")\n",
    "\n",
    "fig.update_yaxes(\n",
    "    scaleanchor=\"x\",\n",
    "    scaleratio=1,\n",
    ")\n",
    "\n",
    "fig.show()\n"
   ]
  },
  {
   "cell_type": "code",
   "execution_count": null,
   "id": "3f90d9e9",
   "metadata": {},
   "outputs": [],
   "source": []
  },
  {
   "cell_type": "code",
   "execution_count": null,
   "id": "ae9b862e",
   "metadata": {},
   "outputs": [],
   "source": []
  },
  {
   "cell_type": "code",
   "execution_count": null,
   "id": "16aeb1ea",
   "metadata": {
    "ExecuteTime": {
     "end_time": "2023-05-03T14:40:46.635072Z",
     "start_time": "2023-05-03T14:40:46.632677Z"
    }
   },
   "outputs": [],
   "source": [
    "# choose one triangulation:"
   ]
  },
  {
   "cell_type": "code",
   "execution_count": null,
   "id": "24350928",
   "metadata": {
    "ExecuteTime": {
     "end_time": "2023-05-03T14:40:46.650982Z",
     "start_time": "2023-05-03T14:40:46.642124Z"
    }
   },
   "outputs": [],
   "source": [
    "triangulation = car_triangulations.iloc[[42]]"
   ]
  },
  {
   "cell_type": "code",
   "execution_count": null,
   "id": "71517279",
   "metadata": {
    "ExecuteTime": {
     "end_time": "2023-05-03T14:40:47.267660Z",
     "start_time": "2023-05-03T14:40:47.263708Z"
    }
   },
   "outputs": [],
   "source": [
    "triangulation_point = [\n",
    "    triangulation[\"EPSG_3011_x\"].values[0],\n",
    "    triangulation[\"EPSG_3011_y\"].values[0],\n",
    "]\n",
    "print(triangulation_point)\n"
   ]
  },
  {
   "cell_type": "code",
   "execution_count": null,
   "id": "7a58193e",
   "metadata": {
    "ExecuteTime": {
     "end_time": "2023-05-03T14:54:19.540134Z",
     "start_time": "2023-05-03T14:54:19.284542Z"
    }
   },
   "outputs": [],
   "source": [
    "# Keep parking that have a node at less than 100m\n",
    "nearby_parking_ids = []\n",
    "for parking_idx, p in enumerate(parking[\"features\"]):\n",
    "    # has_nearby_node = False\n",
    "    for node in p[\"geometry\"][\"coordinates\"]:\n",
    "        dist = np.linalg.norm(np.array(triangulation_point) - np.array(node))\n",
    "        if dist < 20:\n",
    "            nearby_parking_ids.append(parking_idx)\n",
    "            continue\n"
   ]
  },
  {
   "cell_type": "code",
   "execution_count": null,
   "id": "f8c50a87",
   "metadata": {},
   "outputs": [],
   "source": [
    "nearby_parking_ids"
   ]
  },
  {
   "cell_type": "code",
   "execution_count": null,
   "id": "6800f599",
   "metadata": {},
   "outputs": [],
   "source": []
  },
  {
   "cell_type": "code",
   "execution_count": null,
   "id": "a44b2884",
   "metadata": {
    "ExecuteTime": {
     "end_time": "2023-05-03T14:55:04.535694Z",
     "start_time": "2023-05-03T14:55:04.520643Z"
    }
   },
   "outputs": [],
   "source": [
    "fig = go.Figure()\n",
    "\n",
    "fig.add_trace(\n",
    "    go.Scatter(\n",
    "        x=[\n",
    "            p[0]\n",
    "            for idx in nearby_parking_ids\n",
    "            for p in parking[\"features\"][idx][\"geometry\"][\"coordinates\"]\n",
    "            + [[None, None]]\n",
    "        ],\n",
    "        y=[\n",
    "            p[1]\n",
    "            for idx in nearby_parking_ids\n",
    "            for p in parking[\"features\"][idx][\"geometry\"][\"coordinates\"]\n",
    "            + [[None, None]]\n",
    "        ],\n",
    "        name=\"Parking areas\",\n",
    "    )\n",
    ")\n",
    "fig.add_trace(\n",
    "    go.Scatter(\n",
    "        x=[triangulation_point[0]],\n",
    "        y=[triangulation_point[1]],\n",
    "        name=\"Car triangulations\",\n",
    "        mode=\"markers\",\n",
    "    )\n",
    ")\n",
    "\n",
    "fig.update_yaxes(\n",
    "    scaleanchor=\"x\",\n",
    "    scaleratio=1,\n",
    ")\n",
    "\n",
    "fig.show()\n"
   ]
  },
  {
   "cell_type": "code",
   "execution_count": null,
   "id": "a5634475",
   "metadata": {},
   "outputs": [],
   "source": []
  },
  {
   "cell_type": "code",
   "execution_count": null,
   "id": "d90d671a",
   "metadata": {},
   "outputs": [],
   "source": [
    "# TODO calculate the between each parking area and the point\n"
   ]
  },
  {
   "cell_type": "code",
   "execution_count": null,
   "id": "36651e12",
   "metadata": {},
   "outputs": [],
   "source": [
    "triangulation"
   ]
  },
  {
   "cell_type": "code",
   "execution_count": null,
   "id": "9f08a035",
   "metadata": {},
   "outputs": [],
   "source": [
    "triangulation_point"
   ]
  },
  {
   "cell_type": "code",
   "execution_count": null,
   "id": "803e8002",
   "metadata": {},
   "outputs": [],
   "source": [
    "parking[\"features\"][1][\"geometry\"][\"coordinates\"][0][0]\n"
   ]
  },
  {
   "cell_type": "code",
   "execution_count": null,
   "id": "fb9ac99d",
   "metadata": {},
   "outputs": [],
   "source": [
    "[\n",
    "    p[0]\n",
    "    for idx in nearby_parking_ids\n",
    "    for p in parking[\"features\"][idx][\"geometry\"][\"coordinates\"]\n",
    "]\n"
   ]
  },
  {
   "cell_type": "code",
   "execution_count": null,
   "id": "5252dc2f",
   "metadata": {},
   "outputs": [],
   "source": [
    "nearby_parking_ids"
   ]
  },
  {
   "cell_type": "code",
   "execution_count": null,
   "id": "a5a44533",
   "metadata": {},
   "outputs": [],
   "source": [
    "line = parking[\"features\"][2677][\"geometry\"][\"coordinates\"]\n",
    "line\n"
   ]
  },
  {
   "cell_type": "code",
   "execution_count": null,
   "id": "465965d0",
   "metadata": {},
   "outputs": [],
   "source": [
    "parking[\"features\"][2677]\n"
   ]
  },
  {
   "cell_type": "code",
   "execution_count": null,
   "id": "6122581f",
   "metadata": {},
   "outputs": [],
   "source": [
    "import plotly.graph_objects as go\n",
    "\n",
    "fig_1 = go.Figure()\n",
    "\n",
    "fig_1.add_trace(\n",
    "    go.Scatter(x=[line[0][0], line[1][0]], y=[line[0][1], line[1][1]], name=\"line\")\n",
    ")\n",
    "\n",
    "fig_1.add_trace(\n",
    "    go.Scatter(\n",
    "        x=[triangulation_point[0]],\n",
    "        y=[triangulation_point[1]],\n",
    "        name=\"pointy\",\n",
    "        mode=\"markers\",\n",
    "    )\n",
    ")\n",
    "\n",
    "fig_1.update_yaxes(\n",
    "    scaleanchor=\"x\",\n",
    "    scaleratio=1,\n",
    ")\n",
    "\n",
    "fig_1.show()\n"
   ]
  },
  {
   "cell_type": "code",
   "execution_count": null,
   "id": "fe09fd80",
   "metadata": {},
   "outputs": [],
   "source": [
    "triangulation_point\n"
   ]
  },
  {
   "cell_type": "code",
   "execution_count": null,
   "id": "de3d094f",
   "metadata": {},
   "outputs": [],
   "source": [
    "p1, p2 = np.array(line)\n",
    "p2"
   ]
  },
  {
   "cell_type": "code",
   "execution_count": null,
   "id": "8feb330a",
   "metadata": {},
   "outputs": [],
   "source": [
    "p1"
   ]
  },
  {
   "cell_type": "code",
   "execution_count": null,
   "id": "0d56b8c2",
   "metadata": {},
   "outputs": [],
   "source": [
    "np.array(line)"
   ]
  },
  {
   "cell_type": "code",
   "execution_count": null,
   "id": "03b7e028",
   "metadata": {},
   "outputs": [],
   "source": [
    "p2 - p1\n"
   ]
  },
  {
   "cell_type": "code",
   "execution_count": null,
   "id": "7fe0b2a9",
   "metadata": {},
   "outputs": [],
   "source": [
    "def project_point_on_line_segment(triangulation_point, line):\n",
    "    \"\"\"Calculate the projection of a point on a line segment using numpy.\"\"\"\n",
    "    # Define the two points of the line segment\n",
    "    p1, p2 = np.array(line)\n",
    "\n",
    "    # Calculate the vector between the two points\n",
    "    v = p2 - p1\n",
    "\n",
    "    # Normalize the vector\n",
    "    v_norm = v / np.linalg.norm(v)\n",
    "\n",
    "    # Calculate the vector between the first point of the line segment and the point we want to project\n",
    "    u = triangulation_point - p1\n",
    "\n",
    "    # Calculate the dot product of the normalized vector and the vector we just calculated\n",
    "    dot_product = np.dot(u, v_norm)\n",
    "\n",
    "    # Multiply the dot product by the normalized vector\n",
    "    projection = p1 + dot_product * v_norm\n",
    "\n",
    "    # Check if the projection is within the line segment\n",
    "    if np.dot(projection - p1, v) < 0:\n",
    "        projection = p1\n",
    "    elif np.dot(projection - p2, v) > 0:\n",
    "        projection = p2\n",
    "\n",
    "    return projection\n"
   ]
  },
  {
   "cell_type": "code",
   "execution_count": null,
   "id": "45d578b5",
   "metadata": {},
   "outputs": [],
   "source": [
    "proj = project_point_on_line_segment(triangulation_point, line)"
   ]
  },
  {
   "cell_type": "code",
   "execution_count": null,
   "id": "2e49f45e",
   "metadata": {},
   "outputs": [],
   "source": []
  },
  {
   "cell_type": "code",
   "execution_count": null,
   "id": "e0358ba4",
   "metadata": {},
   "outputs": [],
   "source": [
    "proj.tolist()"
   ]
  },
  {
   "cell_type": "code",
   "execution_count": null,
   "id": "2ed5e578",
   "metadata": {},
   "outputs": [],
   "source": [
    "proj[0]"
   ]
  },
  {
   "cell_type": "code",
   "execution_count": null,
   "id": "67e405b0",
   "metadata": {},
   "outputs": [],
   "source": [
    "import plotly.graph_objects as go\n",
    "\n",
    "fig_1 = go.Figure()\n",
    "\n",
    "# line\n",
    "fig_1.add_trace(\n",
    "    go.Scatter(x=[line[0][0], line[1][0]], y=[line[0][1], line[1][1]], name=\"line\")\n",
    ")\n",
    "# point\n",
    "fig_1.add_trace(\n",
    "    go.Scatter(\n",
    "        x=[triangulation_point[0]],\n",
    "        y=[triangulation_point[1]],\n",
    "        name=\"pointy\",\n",
    "        mode=\"markers\",\n",
    "    )\n",
    ")\n",
    "\n",
    "# proj\n",
    "fig_1.add_trace(\n",
    "    go.Scatter(\n",
    "        x=[triangulation_point[0], proj[0]],\n",
    "        y=[triangulation_point[1], proj[1]],\n",
    "        name=\"proj\",\n",
    "    )\n",
    ")\n",
    "fig_1.update_yaxes(\n",
    "    scaleanchor=\"x\",\n",
    "    scaleratio=1,\n",
    ")\n",
    "\n",
    "fig_1.show()\n"
   ]
  },
  {
   "cell_type": "code",
   "execution_count": null,
   "id": "80d05d8c",
   "metadata": {},
   "outputs": [],
   "source": []
  },
  {
   "cell_type": "code",
   "execution_count": null,
   "id": "63e357d9",
   "metadata": {},
   "outputs": [],
   "source": []
  }
 ],
 "metadata": {
  "kernelspec": {
   "display_name": "Python 3 (ipykernel)",
   "language": "python",
   "name": "python3"
  },
  "language_info": {
   "codemirror_mode": {
    "name": "ipython",
    "version": 3
   },
   "file_extension": ".py",
   "mimetype": "text/x-python",
   "name": "python",
   "nbconvert_exporter": "python",
   "pygments_lexer": "ipython3",
   "version": "3.11.3"
  }
 },
 "nbformat": 4,
 "nbformat_minor": 5
}
