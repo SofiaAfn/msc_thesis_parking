{
 "cells": [
  {
   "cell_type": "code",
   "execution_count": 1,
   "metadata": {},
   "outputs": [],
   "source": [
    "from helper_functions import *\n",
    "import plotly.graph_objects as go\n",
    "import pandas as pd\n",
    "import wandb"
   ]
  },
  {
   "cell_type": "code",
   "execution_count": 2,
   "metadata": {},
   "outputs": [
    {
     "data": {
      "text/plain": [
       "'01/17_21:13:57'"
      ]
     },
     "execution_count": 2,
     "metadata": {},
     "output_type": "execute_result"
    }
   ],
   "source": [
    "\n",
    "from datetime import datetime\n",
    "now = datetime.now()\n",
    "datetime_str = now.strftime(\"%m/%d_%H:%M:%S\")\n",
    "datetime_str"
   ]
  },
  {
   "cell_type": "code",
   "execution_count": 4,
   "metadata": {},
   "outputs": [],
   "source": [
    "\n",
    "# data_df = pd.read_pickle(\"Kris_updated_yolov8.pkl\")\n",
    "data_df = pd.read_pickle(\"Kris_merged_yolov8.pkl\")\n",
    "data_df = preprocess_data(data_df)"
   ]
  },
  {
   "cell_type": "code",
   "execution_count": 5,
   "metadata": {},
   "outputs": [],
   "source": [
    "# Load current experiment number\n",
    "try:\n",
    "    with open('experiment_counter.txt', 'r') as f:\n",
    "        experiment_num = int(f.read())\n",
    "except:\n",
    "    experiment_num = 1\n",
    "\n",
    "# Increment and save the updated experiment number\n",
    "with open('experiment_7_counter.txt', 'w') as f:\n",
    "    f.write(str(experiment_num + 1))"
   ]
  },
  {
   "cell_type": "code",
   "execution_count": 6,
   "metadata": {},
   "outputs": [],
   "source": [
    "# # helper functions:\n",
    "\n",
    "# def split_data(df, train_ratio=0.6, valid_ratio=0.2):\n",
    "#     \"\"\"\n",
    "#     Splits a dataframe into train, validate, and test sets.\n",
    "#     \"\"\"\n",
    "    \n",
    "#     df = df[['car_count', 'month_no', 'day', 'day_of_week', 'hour_of_day', 'min_of_day', 'centered_car_count','combined']]\n",
    "\n",
    "#     # Calculating the split indices\n",
    "#     train_idx = int(train_ratio * len(df))\n",
    "#     valid_idx = train_idx + int(valid_ratio * len(df))\n",
    "\n",
    "#     # Splitting the original dataframe\n",
    "#     train = df.iloc[:train_idx]\n",
    "#     valid = df.iloc[train_idx:valid_idx]\n",
    "#     test = df.iloc[valid_idx:]\n",
    "    \n",
    "#     return train, valid, test\n",
    "\n",
    "# def expanding_window(train, valid, features, target, gpr, window_size):\n",
    "#     \"\"\"\n",
    "#     Uses an expanding window approach for training and validating the GPR model.\n",
    "#     \"\"\"\n",
    "#     metrics_list = []\n",
    "\n",
    "#     # Define the initial window\n",
    "#     start, end = 0, window_size\n",
    "\n",
    "#     while end <= len(train):\n",
    "#         # Split the current window data\n",
    "#         X_train, y_train = train[features][start:end], train[target][start:end]\n",
    "\n",
    "#         # Train the GPR\n",
    "#         gpr = train_gpr(gpr, X_train, y_train)\n",
    "\n",
    "#         # Predict on the validation set\n",
    "#         y_pred = gpr.predict(valid[features])\n",
    "\n",
    "#         # Calculate and store the metrics\n",
    "#         metrics = calculate_metrics(valid[target], y_pred)\n",
    "#         metrics_list.append(metrics)\n",
    "\n",
    "#         # Expand the window for the next iteration\n",
    "#         end += 1\n",
    "\n",
    "#     return metrics_list\n",
    "\n",
    "# def aggregate_data(df, agg_column, agg_func='mean'):\n",
    "#     \"\"\"\n",
    "#     Aggregates the data based on the given column and aggregation function.\n",
    "#     \"\"\"\n",
    "#     agg_df = df.groupby(agg_column).agg(agg_func).reset_index()\n",
    "#     return agg_df\n",
    "\n",
    "# def split_target_feature(df, feature, target):\n",
    "    \n",
    "#     X = df[feature].values.reshape(-1,1)\n",
    "#     y = df[target].values\n",
    "    \n",
    "#     return X, y\n",
    "\n",
    "# def gpr_train_1(gpr, x_train, y_train):\n",
    "#     \"\"\"\n",
    "#     Trains a Gaussian Process Regressor on the given training data.\n",
    "#     \"\"\"\n",
    "#     # # Prior samples visualization\n",
    "#     # img_prior_train = plot_gpr_samples_plotly(gpr, n_samples, x_train, y_train)\n",
    "#     # img_prior_train.show()\n",
    "#     # wandb.log({'prior_samples': img_prior_train})\n",
    "    \n",
    "#     # Save initial kernel parameters as artifacts\n",
    "#     initial_kernel = str(gpr)\n",
    "#     with open(\"initial_kernel.txt\", \"w\") as f:\n",
    "#         f.write(initial_kernel)\n",
    "    \n",
    "#     # Fit the GPR model to the training data\n",
    "#     gpr.fit(x_train, y_train)\n",
    "    \n",
    "#     # # Posterior samples visualization\n",
    "#     # img_posterior_train = plot_gpr_samples_plotly(gpr, n_samples, x_train, y_train)\n",
    "#     # wandb.log({'posterior_samples': img_posterior_train})\n",
    "    \n",
    "#     # Kernel parameters after fit\n",
    "#     after_fit_kernel = str(gpr.kernel_)\n",
    "#     with open(\"after_fit_kernel.txt\", \"w\") as f:\n",
    "#         f.write(after_fit_kernel)\n",
    "    \n",
    "#     # Log artifacts\n",
    "#     wandb.save(\"initial_kernel.txt\")\n",
    "#     wandb.save(\"after_fit_kernel.txt\")\n",
    "    \n",
    "#     return gpr\n",
    "\n",
    "# def gpr_pred(run,step,gpr, x_train, y_train, x_test=None, y_test=None, ):\n",
    "#     # Predict on training data\n",
    "#     y_train_pred, y_std = gpr.predict(x_train, return_std=True)\n",
    "\n",
    "#     # Metrics on training data\n",
    "#     mae_train = mean_absolute_error(y_train, y_train_pred)\n",
    "#     mse_train = mean_squared_error(y_train, y_train_pred)\n",
    "#     rmse_train = np.sqrt(mse_train)\n",
    "#     r2_train = r2_score(y_train, y_train_pred)\n",
    "#     mape_train = np.mean(np.abs((y_train - y_train_pred) / y_train)) * 100\n",
    "#     lml_train = gpr.log_marginal_likelihood(gpr.kernel_.theta)\n",
    "\n",
    "#     metrics_train = {\n",
    "#         \"MAE_train\": mae_train,\n",
    "#         \"MSE_train\": mse_train,\n",
    "#         \"RMSE_train\": rmse_train,\n",
    "#         \"R2_train\": r2_train,\n",
    "#         \"MAPE_train\": mape_train,\n",
    "#         \"LML_train\": lml_train,\n",
    "#         \"step\":step\n",
    "#     }\n",
    "    \n",
    "#     # Create a wandb Table for training metrics\n",
    "#     table_train = wandb.Table(columns=[\"Metric\", \"Value\"])\n",
    "#     for key, value in metrics_train.items():\n",
    "#         table_train.add_data(key, value)\n",
    "#         run.config[key] = value\n",
    "        \n",
    "#     wandb.log({\"Metrics Table Train\": table_train,\"step\":step})\n",
    "#     wandb.log(metrics_train)\n",
    "\n",
    "#     if x_test is not None and y_test is not None:\n",
    "#         # Predict on test/validation data\n",
    "#         y_pred, y_std = gpr.predict(x_test, return_std=True)\n",
    "\n",
    "#         # Metrics on test/validation data\n",
    "#         mae_test = mean_absolute_error(y_test, y_pred)\n",
    "#         mse_test = mean_squared_error(y_test, y_pred)\n",
    "#         rmse_test = np.sqrt(mse_test)\n",
    "#         r2_test = r2_score(y_test, y_pred)\n",
    "#         mape_test = np.mean(np.abs((y_test - y_pred) / y_test)) * 100\n",
    "#         lml_test = gpr.log_marginal_likelihood(gpr.kernel_.theta)\n",
    "\n",
    "#         metrics_test = {\n",
    "#             \"MAE_test\": mae_test,\n",
    "#             \"MSE_test\": mse_test,\n",
    "#             \"RMSE_test\": rmse_test,\n",
    "#             \"R2_test\": r2_test,\n",
    "#             \"MAPE_test\": mape_test,\n",
    "#             \"LML_test\": lml_test,\n",
    "#             \"step\":step\n",
    "#         }\n",
    "        \n",
    "    \n",
    "#         # Create a wandb Table for test/validation metrics\n",
    "#         table_test = wandb.Table(columns=[\"Metric\", \"Value\"])\n",
    "#         for key, value in metrics_test.items():\n",
    "#             table_test.add_data(key, value)\n",
    "#             run.config[key] = value\n",
    "#         wandb.log({\"Metrics Table Test\": table_test, \"step\":step})\n",
    "#         wandb.log(metrics_test)\n",
    "#     else:\n",
    "#         y_pred, y_std = None, None\n",
    "\n",
    "#     # Log the kernel parameters\n",
    "#     kernel_str = str(gpr.kernel_)\n",
    "#     with open(\"kernel.txt\", \"w\") as f:\n",
    "#         f.write(kernel_str)\n",
    "#     wandb.save(\"kernel.txt\")\n",
    "\n",
    "#     return y_pred, y_std, gpr\n",
    "\n",
    "# def plot_gpr_posterior_plotly(gpr, X_test,y_test, y_pred, y_std):\n",
    "#     '''\n",
    "#     Plots the posterior distribution of a GPR model using Plotly.\n",
    "#     X_test here is just used to create the x axis margins of plot\n",
    "#     y_pred can be any predictions from test or validate set\n",
    "#     '''\n",
    "#     x = np.linspace(X_test.min(), X_test.max(), len(X_test))\n",
    "    \n",
    "#     #pulling samples from test set on a trained gpr\n",
    "#     y_samples = gpr.sample_y(X_test, 5)\n",
    "\n",
    "#     fig = go.Figure()\n",
    "\n",
    "\n",
    "#     for idx, single_prior in enumerate(y_samples.T):\n",
    "#         fig.add_trace(\n",
    "#             go.Scatter(\n",
    "#                 x=x, y=single_prior,\n",
    "#                 mode=\"lines\",\n",
    "#                 name=f\"Sampled fxn #{idx + 1}\",\n",
    "#                 line=dict(dash=\"dash\")\n",
    "#             )\n",
    "#         )\n",
    "\n",
    "#     fig.add_trace(\n",
    "#         go.Scatter(\n",
    "#             x=x,\n",
    "#             y=y_pred,\n",
    "#             mode=\"lines\",\n",
    "#             line_color=\"red\",\n",
    "#             name=\"Mean\",\n",
    "            \n",
    "#         )\n",
    "#     )\n",
    "\n",
    "#     fig.add_trace(\n",
    "#         go.Scatter(\n",
    "#             x=x,\n",
    "#             y=y_pred - y_std,\n",
    "#             fill=None,\n",
    "#             mode=\"lines\",\n",
    "#             line_color=\"rgba(255,0,0,0.1)\",\n",
    "#             showlegend=False,\n",
    "#         )\n",
    "#     )\n",
    "\n",
    "#     fig.add_trace(\n",
    "#         go.Scatter(\n",
    "#             x=x,\n",
    "#             y=y_pred + y_std,\n",
    "#             fill=\"tonexty\",\n",
    "#             mode=\"lines\",\n",
    "#             line_color=\"rgba(173, 216, 230, 0.5)\",\n",
    "#             name=r\"uncertainty\",\n",
    "#         )\n",
    "#     )\n",
    "\n",
    "\n",
    "#     fig.add_trace(\n",
    "#         go.Scatter(\n",
    "#             x=X_test.ravel(),\n",
    "#             y=y_test.ravel(),\n",
    "#             mode='lines+markers',\n",
    "#             name=\"Test Data\",\n",
    "#             marker=dict(symbol='cross', size=4, color= 'green')\n",
    "#         )\n",
    "#     )\n",
    "\n",
    "#     fig.update_layout(\n",
    "#         xaxis_title=\"Aggregated feature\",\n",
    "#         yaxis_title=\"Count\",\n",
    "#         height= 800,\n",
    "#     )\n",
    "\n",
    "#     # \n",
    "#     return  fig\n"
   ]
  },
  {
   "cell_type": "markdown",
   "metadata": {},
   "source": [
    "<h2> Exp 7: Traditional tvt split and training"
   ]
  },
  {
   "cell_type": "code",
   "execution_count": 6,
   "metadata": {},
   "outputs": [],
   "source": [
    "# define splits\n",
    "train, valid, test = split_data(data_df, train_ratio= 0.6, valid_ratio= 0.2)\n",
    "\n",
    "# aggregate\n",
    "train_agg = aggregate_data(train, agg_column='hour_of_day', agg_func='mean')\n",
    "validate_agg = aggregate_data(valid, agg_column='hour_of_day', agg_func='mean')\n",
    "test_agg = aggregate_data(test, agg_column='hour_of_day', agg_func='mean')\n",
    "\n",
    "# separate feature and target\n",
    "\n",
    "X_train , y_train = split_target_feature(train_agg, feature='hour_of_day', target='centered_car_count')\n",
    "X_validate , y_validate = split_target_feature(validate_agg, feature='hour_of_day', target='centered_car_count')\n",
    "X_test , y_test = split_target_feature(test_agg, feature='hour_of_day', target='centered_car_count')\n"
   ]
  },
  {
   "cell_type": "code",
   "execution_count": 7,
   "metadata": {},
   "outputs": [
    {
     "data": {
      "application/vnd.plotly.v1+json": {
       "config": {
        "plotlyServerURL": "https://plot.ly"
       },
       "data": [
        {
         "mode": "markers+lines",
         "name": "Training ",
         "type": "scatter",
         "x": [
          0,
          1,
          2,
          3,
          4,
          5,
          6,
          7,
          8,
          9,
          10,
          11,
          12,
          13,
          14,
          15,
          16,
          17,
          18,
          19,
          20,
          21,
          22,
          23
         ],
         "y": [
          -7.970992006355195,
          -8.703021604663864,
          -8.280953321635659,
          -7.371768059570272,
          -7.660385945749134,
          -6.191393697687119,
          -5.118719279082468,
          -3.7891738245370132,
          -2.493719279082468,
          -2.60999834884991,
          -0.0790851327410045,
          1.0840584986953097,
          -0.4437192790824679,
          1.7979473875841985,
          0.7285029431397542,
          0.9193241991784015,
          -0.41371927908246797,
          0.08628072091753207,
          -2.1893714529955117,
          -3.6603859457491343,
          -5.878334663697852,
          -7.53453560561308,
          -7.567793353156542,
          -7.493719279082468
         ]
        },
        {
         "mode": "markers+lines",
         "name": "Validate",
         "type": "scatter",
         "x": [
          0,
          1,
          2,
          3,
          4,
          5,
          6,
          7,
          8,
          9,
          10,
          11,
          12,
          13,
          14,
          15,
          16,
          17,
          18,
          19,
          20,
          21,
          22,
          23
         ],
         "y": [
          -4.44610023146342,
          -2.4381637235269125,
          -1.1779298053982572,
          -1.9643075143765856,
          -1.4937192790824678,
          -2.7664465518097403,
          -2.1091038944670832,
          4.9062807209175325,
          6.6601268747636855,
          14.339614054250864,
          19.15333954444694,
          8.131280720917532,
          12.306280720917531,
          12.121665336302147,
          15.284058498695307,
          14.193780720917532,
          11.943780720917532,
          14.268185482822295,
          5.077709292346104,
          -0.4312192790824678,
          -1.2937192790824676,
          -1.573719279082468,
          -4.093719279082468,
          -2.806219279082468
         ]
        },
        {
         "mode": "markers+lines",
         "name": "Test",
         "type": "scatter",
         "x": [
          0,
          1,
          2,
          3,
          4,
          5,
          6,
          7,
          8,
          9,
          10,
          11,
          12,
          13,
          14,
          15,
          16,
          17,
          18,
          19,
          20,
          21,
          22,
          23
         ],
         "y": [
          -4.382608167971357,
          -2.806219279082468,
          -1.7714970568602455,
          -1.7159415013046901,
          -1.8415453660389896,
          -3.093719279082468,
          -3.258425161435409,
          2.453649141970164,
          13.106280720917532,
          15.839614054250866,
          17.450725165361977,
          20.779007993644804,
          19.25628072091753,
          18.976868956211646,
          21.50628072091753,
          24.077709292346103,
          17.077709292346103,
          18.089614054250863,
          0.5062807209175322,
          0.2562807209175322,
          2.006280720917532,
          0.17294738758419884,
          1.0062807209175322,
          -3.262950048313237
         ]
        }
       ],
       "layout": {
        "template": {
         "data": {
          "bar": [
           {
            "error_x": {
             "color": "#2a3f5f"
            },
            "error_y": {
             "color": "#2a3f5f"
            },
            "marker": {
             "line": {
              "color": "#E5ECF6",
              "width": 0.5
             },
             "pattern": {
              "fillmode": "overlay",
              "size": 10,
              "solidity": 0.2
             }
            },
            "type": "bar"
           }
          ],
          "barpolar": [
           {
            "marker": {
             "line": {
              "color": "#E5ECF6",
              "width": 0.5
             },
             "pattern": {
              "fillmode": "overlay",
              "size": 10,
              "solidity": 0.2
             }
            },
            "type": "barpolar"
           }
          ],
          "carpet": [
           {
            "aaxis": {
             "endlinecolor": "#2a3f5f",
             "gridcolor": "white",
             "linecolor": "white",
             "minorgridcolor": "white",
             "startlinecolor": "#2a3f5f"
            },
            "baxis": {
             "endlinecolor": "#2a3f5f",
             "gridcolor": "white",
             "linecolor": "white",
             "minorgridcolor": "white",
             "startlinecolor": "#2a3f5f"
            },
            "type": "carpet"
           }
          ],
          "choropleth": [
           {
            "colorbar": {
             "outlinewidth": 0,
             "ticks": ""
            },
            "type": "choropleth"
           }
          ],
          "contour": [
           {
            "colorbar": {
             "outlinewidth": 0,
             "ticks": ""
            },
            "colorscale": [
             [
              0,
              "#0d0887"
             ],
             [
              0.1111111111111111,
              "#46039f"
             ],
             [
              0.2222222222222222,
              "#7201a8"
             ],
             [
              0.3333333333333333,
              "#9c179e"
             ],
             [
              0.4444444444444444,
              "#bd3786"
             ],
             [
              0.5555555555555556,
              "#d8576b"
             ],
             [
              0.6666666666666666,
              "#ed7953"
             ],
             [
              0.7777777777777778,
              "#fb9f3a"
             ],
             [
              0.8888888888888888,
              "#fdca26"
             ],
             [
              1,
              "#f0f921"
             ]
            ],
            "type": "contour"
           }
          ],
          "contourcarpet": [
           {
            "colorbar": {
             "outlinewidth": 0,
             "ticks": ""
            },
            "type": "contourcarpet"
           }
          ],
          "heatmap": [
           {
            "colorbar": {
             "outlinewidth": 0,
             "ticks": ""
            },
            "colorscale": [
             [
              0,
              "#0d0887"
             ],
             [
              0.1111111111111111,
              "#46039f"
             ],
             [
              0.2222222222222222,
              "#7201a8"
             ],
             [
              0.3333333333333333,
              "#9c179e"
             ],
             [
              0.4444444444444444,
              "#bd3786"
             ],
             [
              0.5555555555555556,
              "#d8576b"
             ],
             [
              0.6666666666666666,
              "#ed7953"
             ],
             [
              0.7777777777777778,
              "#fb9f3a"
             ],
             [
              0.8888888888888888,
              "#fdca26"
             ],
             [
              1,
              "#f0f921"
             ]
            ],
            "type": "heatmap"
           }
          ],
          "heatmapgl": [
           {
            "colorbar": {
             "outlinewidth": 0,
             "ticks": ""
            },
            "colorscale": [
             [
              0,
              "#0d0887"
             ],
             [
              0.1111111111111111,
              "#46039f"
             ],
             [
              0.2222222222222222,
              "#7201a8"
             ],
             [
              0.3333333333333333,
              "#9c179e"
             ],
             [
              0.4444444444444444,
              "#bd3786"
             ],
             [
              0.5555555555555556,
              "#d8576b"
             ],
             [
              0.6666666666666666,
              "#ed7953"
             ],
             [
              0.7777777777777778,
              "#fb9f3a"
             ],
             [
              0.8888888888888888,
              "#fdca26"
             ],
             [
              1,
              "#f0f921"
             ]
            ],
            "type": "heatmapgl"
           }
          ],
          "histogram": [
           {
            "marker": {
             "pattern": {
              "fillmode": "overlay",
              "size": 10,
              "solidity": 0.2
             }
            },
            "type": "histogram"
           }
          ],
          "histogram2d": [
           {
            "colorbar": {
             "outlinewidth": 0,
             "ticks": ""
            },
            "colorscale": [
             [
              0,
              "#0d0887"
             ],
             [
              0.1111111111111111,
              "#46039f"
             ],
             [
              0.2222222222222222,
              "#7201a8"
             ],
             [
              0.3333333333333333,
              "#9c179e"
             ],
             [
              0.4444444444444444,
              "#bd3786"
             ],
             [
              0.5555555555555556,
              "#d8576b"
             ],
             [
              0.6666666666666666,
              "#ed7953"
             ],
             [
              0.7777777777777778,
              "#fb9f3a"
             ],
             [
              0.8888888888888888,
              "#fdca26"
             ],
             [
              1,
              "#f0f921"
             ]
            ],
            "type": "histogram2d"
           }
          ],
          "histogram2dcontour": [
           {
            "colorbar": {
             "outlinewidth": 0,
             "ticks": ""
            },
            "colorscale": [
             [
              0,
              "#0d0887"
             ],
             [
              0.1111111111111111,
              "#46039f"
             ],
             [
              0.2222222222222222,
              "#7201a8"
             ],
             [
              0.3333333333333333,
              "#9c179e"
             ],
             [
              0.4444444444444444,
              "#bd3786"
             ],
             [
              0.5555555555555556,
              "#d8576b"
             ],
             [
              0.6666666666666666,
              "#ed7953"
             ],
             [
              0.7777777777777778,
              "#fb9f3a"
             ],
             [
              0.8888888888888888,
              "#fdca26"
             ],
             [
              1,
              "#f0f921"
             ]
            ],
            "type": "histogram2dcontour"
           }
          ],
          "mesh3d": [
           {
            "colorbar": {
             "outlinewidth": 0,
             "ticks": ""
            },
            "type": "mesh3d"
           }
          ],
          "parcoords": [
           {
            "line": {
             "colorbar": {
              "outlinewidth": 0,
              "ticks": ""
             }
            },
            "type": "parcoords"
           }
          ],
          "pie": [
           {
            "automargin": true,
            "type": "pie"
           }
          ],
          "scatter": [
           {
            "fillpattern": {
             "fillmode": "overlay",
             "size": 10,
             "solidity": 0.2
            },
            "type": "scatter"
           }
          ],
          "scatter3d": [
           {
            "line": {
             "colorbar": {
              "outlinewidth": 0,
              "ticks": ""
             }
            },
            "marker": {
             "colorbar": {
              "outlinewidth": 0,
              "ticks": ""
             }
            },
            "type": "scatter3d"
           }
          ],
          "scattercarpet": [
           {
            "marker": {
             "colorbar": {
              "outlinewidth": 0,
              "ticks": ""
             }
            },
            "type": "scattercarpet"
           }
          ],
          "scattergeo": [
           {
            "marker": {
             "colorbar": {
              "outlinewidth": 0,
              "ticks": ""
             }
            },
            "type": "scattergeo"
           }
          ],
          "scattergl": [
           {
            "marker": {
             "colorbar": {
              "outlinewidth": 0,
              "ticks": ""
             }
            },
            "type": "scattergl"
           }
          ],
          "scattermapbox": [
           {
            "marker": {
             "colorbar": {
              "outlinewidth": 0,
              "ticks": ""
             }
            },
            "type": "scattermapbox"
           }
          ],
          "scatterpolar": [
           {
            "marker": {
             "colorbar": {
              "outlinewidth": 0,
              "ticks": ""
             }
            },
            "type": "scatterpolar"
           }
          ],
          "scatterpolargl": [
           {
            "marker": {
             "colorbar": {
              "outlinewidth": 0,
              "ticks": ""
             }
            },
            "type": "scatterpolargl"
           }
          ],
          "scatterternary": [
           {
            "marker": {
             "colorbar": {
              "outlinewidth": 0,
              "ticks": ""
             }
            },
            "type": "scatterternary"
           }
          ],
          "surface": [
           {
            "colorbar": {
             "outlinewidth": 0,
             "ticks": ""
            },
            "colorscale": [
             [
              0,
              "#0d0887"
             ],
             [
              0.1111111111111111,
              "#46039f"
             ],
             [
              0.2222222222222222,
              "#7201a8"
             ],
             [
              0.3333333333333333,
              "#9c179e"
             ],
             [
              0.4444444444444444,
              "#bd3786"
             ],
             [
              0.5555555555555556,
              "#d8576b"
             ],
             [
              0.6666666666666666,
              "#ed7953"
             ],
             [
              0.7777777777777778,
              "#fb9f3a"
             ],
             [
              0.8888888888888888,
              "#fdca26"
             ],
             [
              1,
              "#f0f921"
             ]
            ],
            "type": "surface"
           }
          ],
          "table": [
           {
            "cells": {
             "fill": {
              "color": "#EBF0F8"
             },
             "line": {
              "color": "white"
             }
            },
            "header": {
             "fill": {
              "color": "#C8D4E3"
             },
             "line": {
              "color": "white"
             }
            },
            "type": "table"
           }
          ]
         },
         "layout": {
          "annotationdefaults": {
           "arrowcolor": "#2a3f5f",
           "arrowhead": 0,
           "arrowwidth": 1
          },
          "autotypenumbers": "strict",
          "coloraxis": {
           "colorbar": {
            "outlinewidth": 0,
            "ticks": ""
           }
          },
          "colorscale": {
           "diverging": [
            [
             0,
             "#8e0152"
            ],
            [
             0.1,
             "#c51b7d"
            ],
            [
             0.2,
             "#de77ae"
            ],
            [
             0.3,
             "#f1b6da"
            ],
            [
             0.4,
             "#fde0ef"
            ],
            [
             0.5,
             "#f7f7f7"
            ],
            [
             0.6,
             "#e6f5d0"
            ],
            [
             0.7,
             "#b8e186"
            ],
            [
             0.8,
             "#7fbc41"
            ],
            [
             0.9,
             "#4d9221"
            ],
            [
             1,
             "#276419"
            ]
           ],
           "sequential": [
            [
             0,
             "#0d0887"
            ],
            [
             0.1111111111111111,
             "#46039f"
            ],
            [
             0.2222222222222222,
             "#7201a8"
            ],
            [
             0.3333333333333333,
             "#9c179e"
            ],
            [
             0.4444444444444444,
             "#bd3786"
            ],
            [
             0.5555555555555556,
             "#d8576b"
            ],
            [
             0.6666666666666666,
             "#ed7953"
            ],
            [
             0.7777777777777778,
             "#fb9f3a"
            ],
            [
             0.8888888888888888,
             "#fdca26"
            ],
            [
             1,
             "#f0f921"
            ]
           ],
           "sequentialminus": [
            [
             0,
             "#0d0887"
            ],
            [
             0.1111111111111111,
             "#46039f"
            ],
            [
             0.2222222222222222,
             "#7201a8"
            ],
            [
             0.3333333333333333,
             "#9c179e"
            ],
            [
             0.4444444444444444,
             "#bd3786"
            ],
            [
             0.5555555555555556,
             "#d8576b"
            ],
            [
             0.6666666666666666,
             "#ed7953"
            ],
            [
             0.7777777777777778,
             "#fb9f3a"
            ],
            [
             0.8888888888888888,
             "#fdca26"
            ],
            [
             1,
             "#f0f921"
            ]
           ]
          },
          "colorway": [
           "#636efa",
           "#EF553B",
           "#00cc96",
           "#ab63fa",
           "#FFA15A",
           "#19d3f3",
           "#FF6692",
           "#B6E880",
           "#FF97FF",
           "#FECB52"
          ],
          "font": {
           "color": "#2a3f5f"
          },
          "geo": {
           "bgcolor": "white",
           "lakecolor": "white",
           "landcolor": "#E5ECF6",
           "showlakes": true,
           "showland": true,
           "subunitcolor": "white"
          },
          "hoverlabel": {
           "align": "left"
          },
          "hovermode": "closest",
          "mapbox": {
           "style": "light"
          },
          "paper_bgcolor": "white",
          "plot_bgcolor": "#E5ECF6",
          "polar": {
           "angularaxis": {
            "gridcolor": "white",
            "linecolor": "white",
            "ticks": ""
           },
           "bgcolor": "#E5ECF6",
           "radialaxis": {
            "gridcolor": "white",
            "linecolor": "white",
            "ticks": ""
           }
          },
          "scene": {
           "xaxis": {
            "backgroundcolor": "#E5ECF6",
            "gridcolor": "white",
            "gridwidth": 2,
            "linecolor": "white",
            "showbackground": true,
            "ticks": "",
            "zerolinecolor": "white"
           },
           "yaxis": {
            "backgroundcolor": "#E5ECF6",
            "gridcolor": "white",
            "gridwidth": 2,
            "linecolor": "white",
            "showbackground": true,
            "ticks": "",
            "zerolinecolor": "white"
           },
           "zaxis": {
            "backgroundcolor": "#E5ECF6",
            "gridcolor": "white",
            "gridwidth": 2,
            "linecolor": "white",
            "showbackground": true,
            "ticks": "",
            "zerolinecolor": "white"
           }
          },
          "shapedefaults": {
           "line": {
            "color": "#2a3f5f"
           }
          },
          "ternary": {
           "aaxis": {
            "gridcolor": "white",
            "linecolor": "white",
            "ticks": ""
           },
           "baxis": {
            "gridcolor": "white",
            "linecolor": "white",
            "ticks": ""
           },
           "bgcolor": "#E5ECF6",
           "caxis": {
            "gridcolor": "white",
            "linecolor": "white",
            "ticks": ""
           }
          },
          "title": {
           "x": 0.05
          },
          "xaxis": {
           "automargin": true,
           "gridcolor": "white",
           "linecolor": "white",
           "ticks": "",
           "title": {
            "standoff": 15
           },
           "zerolinecolor": "white",
           "zerolinewidth": 2
          },
          "yaxis": {
           "automargin": true,
           "gridcolor": "white",
           "linecolor": "white",
           "ticks": "",
           "title": {
            "standoff": 15
           },
           "zerolinecolor": "white",
           "zerolinewidth": 2
          }
         }
        }
       }
      }
     },
     "metadata": {},
     "output_type": "display_data"
    }
   ],
   "source": [
    "# viz of splits\n",
    "\n",
    "fig = go.Figure()\n",
    "\n",
    "fig.add_trace(go.Scatter(x= train_agg['hour_of_day'],\n",
    "                         y=train_agg['centered_car_count'],\n",
    "                         mode='markers+lines',\n",
    "                         name=\"Training \"))\n",
    "\n",
    "fig.add_trace(go.Scatter(x=validate_agg['hour_of_day'],\n",
    "                         y=validate_agg['centered_car_count'],\n",
    "                         mode='markers+lines',\n",
    "                         name='Validate'))\n",
    "\n",
    "fig.add_trace(go.Scatter(x=test_agg['hour_of_day'],\n",
    "                         y=test_agg['centered_car_count'],\n",
    "                         mode='markers+lines',\n",
    "                         name='Test'))\n",
    "\n",
    "fig.show()"
   ]
  },
  {
   "cell_type": "code",
   "execution_count": null,
   "metadata": {},
   "outputs": [],
   "source": [
    "from sklearn.gaussian_process.kernels import RBF, WhiteKernel, ExpSineSquared, ConstantKernel as C\n",
    "from sklearn.gaussian_process import GaussianProcessRegressor\n",
    "import wandb\n",
    "\n",
    "# Define the base kernels\n",
    "rbf_noise_periodicity= 1 * RBF(length_scale=0.5, length_scale_bounds=(1e-3, 1e3))\n",
    "locally_periodic = WhiteKernel(noise_level=1, noise_level_bounds=(1e-10, 1e+1))\n",
    "local_global_periodicity = ExpSineSquared(length_scale=1.0, length_scale_bounds=(1e-1, 50), periodicity=1, periodicity_bounds=(1e-1, 50))\n",
    "k4 = k1 * k3\n",
    "\n",
    "# List of kernels to test\n",
    "kernels = [k1 + k2 + k3, k2 + k4, k2 * k4, k4 + k3 + k1, (k4 + k2) + k3, k3]"
   ]
  },
  {
   "cell_type": "code",
   "execution_count": 8,
   "metadata": {},
   "outputs": [
    {
     "name": "stderr",
     "output_type": "stream",
     "text": [
      "Failed to detect the name of this notebook, you can set it manually with the WANDB_NOTEBOOK_NAME environment variable to enable code saving.\n",
      "\u001b[34m\u001b[1mwandb\u001b[0m: Logging into wandb.ai. (Learn how to deploy a W&B server locally: https://wandb.me/wandb-server)\n",
      "\u001b[34m\u001b[1mwandb\u001b[0m: You can find your API key in your browser here: https://wandb.ai/authorize\n",
      "\u001b[34m\u001b[1mwandb\u001b[0m: Paste an API key from your profile and hit enter, or press ctrl+c to quit:\u001b[34m\u001b[1mwandb\u001b[0m: Appending key for api.wandb.ai to your netrc file: /home/sofia_afn/.netrc\n"
     ]
    },
    {
     "data": {
      "text/html": [
       "Tracking run with wandb version 0.16.2"
      ],
      "text/plain": [
       "<IPython.core.display.HTML object>"
      ]
     },
     "metadata": {},
     "output_type": "display_data"
    },
    {
     "data": {
      "text/html": [
       "Run data is saved locally in <code>/home/sofia_afn/Insync/sofiaa720@gmail.com/Google Drive/masters_thesis/code_v1/msc_parking/univrses/notebooks/wandb/run-20240117_212225-2xk3xx52</code>"
      ],
      "text/plain": [
       "<IPython.core.display.HTML object>"
      ]
     },
     "metadata": {},
     "output_type": "display_data"
    },
    {
     "data": {
      "text/html": [
       "Syncing run <strong><a href='https://wandb.ai/afn-sy/Single_window_GPR/runs/2xk3xx52' target=\"_blank\">Experiment_1_kernel_1**2 * RBF(length_scale=0.5) + WhiteKernel(noise_level=1) + ExpSineSquared(length_scale=1, periodicity=1)</a></strong> to <a href='https://wandb.ai/afn-sy/Single_window_GPR' target=\"_blank\">Weights & Biases</a> (<a href='https://wandb.me/run' target=\"_blank\">docs</a>)<br/>"
      ],
      "text/plain": [
       "<IPython.core.display.HTML object>"
      ]
     },
     "metadata": {},
     "output_type": "display_data"
    },
    {
     "data": {
      "text/html": [
       " View project at <a href='https://wandb.ai/afn-sy/Single_window_GPR' target=\"_blank\">https://wandb.ai/afn-sy/Single_window_GPR</a>"
      ],
      "text/plain": [
       "<IPython.core.display.HTML object>"
      ]
     },
     "metadata": {},
     "output_type": "display_data"
    },
    {
     "data": {
      "text/html": [
       " View run at <a href='https://wandb.ai/afn-sy/Single_window_GPR/runs/2xk3xx52' target=\"_blank\">https://wandb.ai/afn-sy/Single_window_GPR/runs/2xk3xx52</a>"
      ],
      "text/plain": [
       "<IPython.core.display.HTML object>"
      ]
     },
     "metadata": {},
     "output_type": "display_data"
    },
    {
     "name": "stderr",
     "output_type": "stream",
     "text": [
      "wandb: WARNING Source type is set to 'repo' but some required information is missing from the environment. A job will not be created from this run. See https://docs.wandb.ai/guides/launch/create-job\n"
     ]
    },
    {
     "data": {
      "application/vnd.jupyter.widget-view+json": {
       "model_id": "e4e73a0b56df4a468d465938cdda9a23",
       "version_major": 2,
       "version_minor": 0
      },
      "text/plain": [
       "VBox(children=(Label(value='0.057 MB of 0.072 MB uploaded\\r'), FloatProgress(value=0.7903805972123039, max=1.0…"
      ]
     },
     "metadata": {},
     "output_type": "display_data"
    },
    {
     "data": {
      "text/html": [
       "<style>\n",
       "    table.wandb td:nth-child(1) { padding: 0 10px; text-align: left ; width: auto;} td:nth-child(2) {text-align: left ; width: 100%}\n",
       "    .wandb-row { display: flex; flex-direction: row; flex-wrap: wrap; justify-content: flex-start; width: 100% }\n",
       "    .wandb-col { display: flex; flex-direction: column; flex-basis: 100%; flex: 1; padding: 10px; }\n",
       "    </style>\n",
       "<div class=\"wandb-row\"><div class=\"wandb-col\"><h3>Run history:</h3><br/><table class=\"wandb\"><tr><td>LML_test</td><td>▁</td></tr><tr><td>LML_train</td><td>▁▁</td></tr><tr><td>LML_validate</td><td>▁</td></tr><tr><td>MAE_test</td><td>▁</td></tr><tr><td>MAE_train</td><td>▁▁</td></tr><tr><td>MAE_validate</td><td>▁</td></tr><tr><td>MAPE_test</td><td>▁</td></tr><tr><td>MAPE_train</td><td>▁▁</td></tr><tr><td>MAPE_validate</td><td>▁</td></tr><tr><td>MSE_test</td><td>▁</td></tr><tr><td>MSE_train</td><td>▁▁</td></tr><tr><td>MSE_validate</td><td>▁</td></tr><tr><td>R2_test</td><td>▁</td></tr><tr><td>R2_train</td><td>▁▁</td></tr><tr><td>R2_validate</td><td>▁</td></tr><tr><td>RMSE_test</td><td>▁</td></tr><tr><td>RMSE_train</td><td>▁▁</td></tr><tr><td>RMSE_validate</td><td>▁</td></tr><tr><td>step</td><td>▁▁▁▁</td></tr></table><br/></div><div class=\"wandb-col\"><h3>Run summary:</h3><br/><table class=\"wandb\"><tr><td>LML_test</td><td>-37.75054</td></tr><tr><td>LML_train</td><td>-37.75054</td></tr><tr><td>LML_validate</td><td>-37.75054</td></tr><tr><td>MAE_test</td><td>10.8801</td></tr><tr><td>MAE_train</td><td>0.4484</td></tr><tr><td>MAE_validate</td><td>8.43688</td></tr><tr><td>MAPE_test</td><td>426.74153</td></tr><tr><td>MAPE_train</td><td>110.67071</td></tr><tr><td>MAPE_validate</td><td>206.18332</td></tr><tr><td>MSE_test</td><td>166.73658</td></tr><tr><td>MSE_train</td><td>0.32284</td></tr><tr><td>MSE_validate</td><td>92.35016</td></tr><tr><td>R2_test</td><td>-0.65387</td></tr><tr><td>R2_train</td><td>0.97401</td></tr><tr><td>R2_validate</td><td>-0.62253</td></tr><tr><td>RMSE_test</td><td>12.91265</td></tr><tr><td>RMSE_train</td><td>0.56819</td></tr><tr><td>RMSE_validate</td><td>9.6099</td></tr><tr><td>step</td><td>1</td></tr></table><br/></div></div>"
      ],
      "text/plain": [
       "<IPython.core.display.HTML object>"
      ]
     },
     "metadata": {},
     "output_type": "display_data"
    },
    {
     "data": {
      "text/html": [
       " View run <strong style=\"color:#cdcd00\">Experiment_1_kernel_1**2 * RBF(length_scale=0.5) + WhiteKernel(noise_level=1) + ExpSineSquared(length_scale=1, periodicity=1)</strong> at: <a href='https://wandb.ai/afn-sy/Single_window_GPR/runs/2xk3xx52' target=\"_blank\">https://wandb.ai/afn-sy/Single_window_GPR/runs/2xk3xx52</a><br/>Synced 6 W&B file(s), 9 media file(s), 4 artifact file(s) and 4 other file(s)"
      ],
      "text/plain": [
       "<IPython.core.display.HTML object>"
      ]
     },
     "metadata": {},
     "output_type": "display_data"
    },
    {
     "data": {
      "text/html": [
       "Find logs at: <code>./wandb/run-20240117_212225-2xk3xx52/logs</code>"
      ],
      "text/plain": [
       "<IPython.core.display.HTML object>"
      ]
     },
     "metadata": {},
     "output_type": "display_data"
    },
    {
     "name": "stderr",
     "output_type": "stream",
     "text": [
      "\u001b[34m\u001b[1mwandb\u001b[0m: Currently logged in as: \u001b[33mafn-sy\u001b[0m. Use \u001b[1m`wandb login --relogin`\u001b[0m to force relogin\n"
     ]
    },
    {
     "data": {
      "application/vnd.jupyter.widget-view+json": {
       "model_id": "ad739b3060724e12a445d4b2427f302a",
       "version_major": 2,
       "version_minor": 0
      },
      "text/plain": [
       "VBox(children=(Label(value='Waiting for wandb.init()...\\r'), FloatProgress(value=0.011113693644458383, max=1.0…"
      ]
     },
     "metadata": {},
     "output_type": "display_data"
    },
    {
     "data": {
      "text/html": [
       "Tracking run with wandb version 0.16.2"
      ],
      "text/plain": [
       "<IPython.core.display.HTML object>"
      ]
     },
     "metadata": {},
     "output_type": "display_data"
    },
    {
     "data": {
      "text/html": [
       "Run data is saved locally in <code>/home/sofia_afn/Insync/sofiaa720@gmail.com/Google Drive/masters_thesis/code_v1/msc_parking/univrses/notebooks/wandb/run-20240117_212319-uspqjss6</code>"
      ],
      "text/plain": [
       "<IPython.core.display.HTML object>"
      ]
     },
     "metadata": {},
     "output_type": "display_data"
    },
    {
     "data": {
      "text/html": [
       "Syncing run <strong><a href='https://wandb.ai/afn-sy/Single_window_GPR/runs/uspqjss6' target=\"_blank\">Experiment_2_kernel_WhiteKernel(noise_level=1) + 1**2 * RBF(length_scale=0.5) * ExpSineSquared(length_scale=1, periodicity=1)</a></strong> to <a href='https://wandb.ai/afn-sy/Single_window_GPR' target=\"_blank\">Weights & Biases</a> (<a href='https://wandb.me/run' target=\"_blank\">docs</a>)<br/>"
      ],
      "text/plain": [
       "<IPython.core.display.HTML object>"
      ]
     },
     "metadata": {},
     "output_type": "display_data"
    },
    {
     "data": {
      "text/html": [
       " View project at <a href='https://wandb.ai/afn-sy/Single_window_GPR' target=\"_blank\">https://wandb.ai/afn-sy/Single_window_GPR</a>"
      ],
      "text/plain": [
       "<IPython.core.display.HTML object>"
      ]
     },
     "metadata": {},
     "output_type": "display_data"
    },
    {
     "data": {
      "text/html": [
       " View run at <a href='https://wandb.ai/afn-sy/Single_window_GPR/runs/uspqjss6' target=\"_blank\">https://wandb.ai/afn-sy/Single_window_GPR/runs/uspqjss6</a>"
      ],
      "text/plain": [
       "<IPython.core.display.HTML object>"
      ]
     },
     "metadata": {},
     "output_type": "display_data"
    },
    {
     "name": "stderr",
     "output_type": "stream",
     "text": [
      "wandb: WARNING Source type is set to 'repo' but some required information is missing from the environment. A job will not be created from this run. See https://docs.wandb.ai/guides/launch/create-job\n"
     ]
    },
    {
     "data": {
      "application/vnd.jupyter.widget-view+json": {
       "model_id": "310224e8bac84211a2b39725639d6584",
       "version_major": 2,
       "version_minor": 0
      },
      "text/plain": [
       "VBox(children=(Label(value='0.057 MB of 0.072 MB uploaded\\r'), FloatProgress(value=0.7903675605662098, max=1.0…"
      ]
     },
     "metadata": {},
     "output_type": "display_data"
    },
    {
     "data": {
      "text/html": [
       "<style>\n",
       "    table.wandb td:nth-child(1) { padding: 0 10px; text-align: left ; width: auto;} td:nth-child(2) {text-align: left ; width: 100%}\n",
       "    .wandb-row { display: flex; flex-direction: row; flex-wrap: wrap; justify-content: flex-start; width: 100% }\n",
       "    .wandb-col { display: flex; flex-direction: column; flex-basis: 100%; flex: 1; padding: 10px; }\n",
       "    </style>\n",
       "<div class=\"wandb-row\"><div class=\"wandb-col\"><h3>Run history:</h3><br/><table class=\"wandb\"><tr><td>LML_test</td><td>▁</td></tr><tr><td>LML_train</td><td>▁▁</td></tr><tr><td>LML_validate</td><td>▁</td></tr><tr><td>MAE_test</td><td>▁</td></tr><tr><td>MAE_train</td><td>▁▁</td></tr><tr><td>MAE_validate</td><td>▁</td></tr><tr><td>MAPE_test</td><td>▁</td></tr><tr><td>MAPE_train</td><td>▁▁</td></tr><tr><td>MAPE_validate</td><td>▁</td></tr><tr><td>MSE_test</td><td>▁</td></tr><tr><td>MSE_train</td><td>▁▁</td></tr><tr><td>MSE_validate</td><td>▁</td></tr><tr><td>R2_test</td><td>▁</td></tr><tr><td>R2_train</td><td>▁▁</td></tr><tr><td>R2_validate</td><td>▁</td></tr><tr><td>RMSE_test</td><td>▁</td></tr><tr><td>RMSE_train</td><td>▁▁</td></tr><tr><td>RMSE_validate</td><td>▁</td></tr><tr><td>step</td><td>▁▁▁▁</td></tr></table><br/></div><div class=\"wandb-col\"><h3>Run summary:</h3><br/><table class=\"wandb\"><tr><td>LML_test</td><td>-37.90322</td></tr><tr><td>LML_train</td><td>-37.90322</td></tr><tr><td>LML_validate</td><td>-37.90322</td></tr><tr><td>MAE_test</td><td>10.87994</td></tr><tr><td>MAE_train</td><td>0.48082</td></tr><tr><td>MAE_validate</td><td>8.43673</td></tr><tr><td>MAPE_test</td><td>424.09362</td></tr><tr><td>MAPE_train</td><td>116.20434</td></tr><tr><td>MAPE_validate</td><td>205.28111</td></tr><tr><td>MSE_test</td><td>166.66898</td></tr><tr><td>MSE_train</td><td>0.35363</td></tr><tr><td>MSE_validate</td><td>92.43139</td></tr><tr><td>R2_test</td><td>-0.6532</td></tr><tr><td>R2_train</td><td>0.97153</td></tr><tr><td>R2_validate</td><td>-0.62395</td></tr><tr><td>RMSE_test</td><td>12.91003</td></tr><tr><td>RMSE_train</td><td>0.59467</td></tr><tr><td>RMSE_validate</td><td>9.61412</td></tr><tr><td>step</td><td>1</td></tr></table><br/></div></div>"
      ],
      "text/plain": [
       "<IPython.core.display.HTML object>"
      ]
     },
     "metadata": {},
     "output_type": "display_data"
    },
    {
     "data": {
      "text/html": [
       " View run <strong style=\"color:#cdcd00\">Experiment_2_kernel_WhiteKernel(noise_level=1) + 1**2 * RBF(length_scale=0.5) * ExpSineSquared(length_scale=1, periodicity=1)</strong> at: <a href='https://wandb.ai/afn-sy/Single_window_GPR/runs/uspqjss6' target=\"_blank\">https://wandb.ai/afn-sy/Single_window_GPR/runs/uspqjss6</a><br/>Synced 6 W&B file(s), 9 media file(s), 4 artifact file(s) and 4 other file(s)"
      ],
      "text/plain": [
       "<IPython.core.display.HTML object>"
      ]
     },
     "metadata": {},
     "output_type": "display_data"
    },
    {
     "data": {
      "text/html": [
       "Find logs at: <code>./wandb/run-20240117_212319-uspqjss6/logs</code>"
      ],
      "text/plain": [
       "<IPython.core.display.HTML object>"
      ]
     },
     "metadata": {},
     "output_type": "display_data"
    },
    {
     "data": {
      "application/vnd.jupyter.widget-view+json": {
       "model_id": "fee8300c673a499fa817c5be8ff110e9",
       "version_major": 2,
       "version_minor": 0
      },
      "text/plain": [
       "VBox(children=(Label(value='Waiting for wandb.init()...\\r'), FloatProgress(value=0.011113568711112343, max=1.0…"
      ]
     },
     "metadata": {},
     "output_type": "display_data"
    },
    {
     "data": {
      "text/html": [
       "Tracking run with wandb version 0.16.2"
      ],
      "text/plain": [
       "<IPython.core.display.HTML object>"
      ]
     },
     "metadata": {},
     "output_type": "display_data"
    },
    {
     "data": {
      "text/html": [
       "Run data is saved locally in <code>/home/sofia_afn/Insync/sofiaa720@gmail.com/Google Drive/masters_thesis/code_v1/msc_parking/univrses/notebooks/wandb/run-20240117_212406-pnwwkpk6</code>"
      ],
      "text/plain": [
       "<IPython.core.display.HTML object>"
      ]
     },
     "metadata": {},
     "output_type": "display_data"
    },
    {
     "data": {
      "text/html": [
       "Syncing run <strong><a href='https://wandb.ai/afn-sy/Single_window_GPR/runs/pnwwkpk6' target=\"_blank\">Experiment_3_kernel_WhiteKernel(noise_level=1) * 1**2 * RBF(length_scale=0.5) * ExpSineSquared(length_scale=1, periodicity=1)</a></strong> to <a href='https://wandb.ai/afn-sy/Single_window_GPR' target=\"_blank\">Weights & Biases</a> (<a href='https://wandb.me/run' target=\"_blank\">docs</a>)<br/>"
      ],
      "text/plain": [
       "<IPython.core.display.HTML object>"
      ]
     },
     "metadata": {},
     "output_type": "display_data"
    },
    {
     "data": {
      "text/html": [
       " View project at <a href='https://wandb.ai/afn-sy/Single_window_GPR' target=\"_blank\">https://wandb.ai/afn-sy/Single_window_GPR</a>"
      ],
      "text/plain": [
       "<IPython.core.display.HTML object>"
      ]
     },
     "metadata": {},
     "output_type": "display_data"
    },
    {
     "data": {
      "text/html": [
       " View run at <a href='https://wandb.ai/afn-sy/Single_window_GPR/runs/pnwwkpk6' target=\"_blank\">https://wandb.ai/afn-sy/Single_window_GPR/runs/pnwwkpk6</a>"
      ],
      "text/plain": [
       "<IPython.core.display.HTML object>"
      ]
     },
     "metadata": {},
     "output_type": "display_data"
    },
    {
     "name": "stderr",
     "output_type": "stream",
     "text": [
      "wandb: WARNING Source type is set to 'repo' but some required information is missing from the environment. A job will not be created from this run. See https://docs.wandb.ai/guides/launch/create-job\n"
     ]
    },
    {
     "data": {
      "application/vnd.jupyter.widget-view+json": {
       "model_id": "b6559152d8b5439193aceadec359f1fd",
       "version_major": 2,
       "version_minor": 0
      },
      "text/plain": [
       "VBox(children=(Label(value='0.054 MB of 0.069 MB uploaded\\r'), FloatProgress(value=0.7882997918112422, max=1.0…"
      ]
     },
     "metadata": {},
     "output_type": "display_data"
    },
    {
     "data": {
      "text/html": [
       "<style>\n",
       "    table.wandb td:nth-child(1) { padding: 0 10px; text-align: left ; width: auto;} td:nth-child(2) {text-align: left ; width: 100%}\n",
       "    .wandb-row { display: flex; flex-direction: row; flex-wrap: wrap; justify-content: flex-start; width: 100% }\n",
       "    .wandb-col { display: flex; flex-direction: column; flex-basis: 100%; flex: 1; padding: 10px; }\n",
       "    </style>\n",
       "<div class=\"wandb-row\"><div class=\"wandb-col\"><h3>Run history:</h3><br/><table class=\"wandb\"><tr><td>LML_test</td><td>▁</td></tr><tr><td>LML_train</td><td>▁▁</td></tr><tr><td>LML_validate</td><td>▁</td></tr><tr><td>MAE_test</td><td>▁</td></tr><tr><td>MAE_train</td><td>▁▁</td></tr><tr><td>MAE_validate</td><td>▁</td></tr><tr><td>MAPE_test</td><td>▁</td></tr><tr><td>MAPE_train</td><td>▁▁</td></tr><tr><td>MAPE_validate</td><td>▁</td></tr><tr><td>MSE_test</td><td>▁</td></tr><tr><td>MSE_train</td><td>▁▁</td></tr><tr><td>MSE_validate</td><td>▁</td></tr><tr><td>R2_test</td><td>▁</td></tr><tr><td>R2_train</td><td>▁▁</td></tr><tr><td>R2_validate</td><td>▁</td></tr><tr><td>RMSE_test</td><td>▁</td></tr><tr><td>RMSE_train</td><td>▁▁</td></tr><tr><td>RMSE_validate</td><td>▁</td></tr><tr><td>step</td><td>▁▁▁▁</td></tr></table><br/></div><div class=\"wandb-col\"><h3>Run summary:</h3><br/><table class=\"wandb\"><tr><td>LML_test</td><td>-73.49125</td></tr><tr><td>LML_train</td><td>-73.49125</td></tr><tr><td>LML_validate</td><td>-73.49125</td></tr><tr><td>MAE_test</td><td>8.94561</td></tr><tr><td>MAE_train</td><td>4.16945</td></tr><tr><td>MAE_validate</td><td>6.87419</td></tr><tr><td>MAPE_test</td><td>100.0</td></tr><tr><td>MAPE_train</td><td>100.0</td></tr><tr><td>MAPE_validate</td><td>100.0</td></tr><tr><td>MSE_test</td><td>151.24286</td></tr><tr><td>MSE_train</td><td>26.74624</td></tr><tr><td>MSE_validate</td><td>78.61441</td></tr><tr><td>R2_test</td><td>-0.50019</td></tr><tr><td>R2_train</td><td>-1.15319</td></tr><tr><td>R2_validate</td><td>-0.3812</td></tr><tr><td>RMSE_test</td><td>12.29808</td></tr><tr><td>RMSE_train</td><td>5.17168</td></tr><tr><td>RMSE_validate</td><td>8.86648</td></tr><tr><td>step</td><td>1</td></tr></table><br/></div></div>"
      ],
      "text/plain": [
       "<IPython.core.display.HTML object>"
      ]
     },
     "metadata": {},
     "output_type": "display_data"
    },
    {
     "data": {
      "text/html": [
       " View run <strong style=\"color:#cdcd00\">Experiment_3_kernel_WhiteKernel(noise_level=1) * 1**2 * RBF(length_scale=0.5) * ExpSineSquared(length_scale=1, periodicity=1)</strong> at: <a href='https://wandb.ai/afn-sy/Single_window_GPR/runs/pnwwkpk6' target=\"_blank\">https://wandb.ai/afn-sy/Single_window_GPR/runs/pnwwkpk6</a><br/>Synced 6 W&B file(s), 9 media file(s), 4 artifact file(s) and 4 other file(s)"
      ],
      "text/plain": [
       "<IPython.core.display.HTML object>"
      ]
     },
     "metadata": {},
     "output_type": "display_data"
    },
    {
     "data": {
      "text/html": [
       "Find logs at: <code>./wandb/run-20240117_212406-pnwwkpk6/logs</code>"
      ],
      "text/plain": [
       "<IPython.core.display.HTML object>"
      ]
     },
     "metadata": {},
     "output_type": "display_data"
    },
    {
     "data": {
      "application/vnd.jupyter.widget-view+json": {
       "model_id": "f5364a7c94ff456e9d8afaf418e81c56",
       "version_major": 2,
       "version_minor": 0
      },
      "text/plain": [
       "VBox(children=(Label(value='Waiting for wandb.init()...\\r'), FloatProgress(value=0.011113227155571318, max=1.0…"
      ]
     },
     "metadata": {},
     "output_type": "display_data"
    },
    {
     "data": {
      "text/html": [
       "Tracking run with wandb version 0.16.2"
      ],
      "text/plain": [
       "<IPython.core.display.HTML object>"
      ]
     },
     "metadata": {},
     "output_type": "display_data"
    },
    {
     "data": {
      "text/html": [
       "Run data is saved locally in <code>/home/sofia_afn/Insync/sofiaa720@gmail.com/Google Drive/masters_thesis/code_v1/msc_parking/univrses/notebooks/wandb/run-20240117_212452-qr8qfee4</code>"
      ],
      "text/plain": [
       "<IPython.core.display.HTML object>"
      ]
     },
     "metadata": {},
     "output_type": "display_data"
    },
    {
     "data": {
      "text/html": [
       "Syncing run <strong><a href='https://wandb.ai/afn-sy/Single_window_GPR/runs/qr8qfee4' target=\"_blank\">Experiment_4_kernel_1**2 * RBF(length_scale=0.5) * ExpSineSquared(length_scale=1, periodicity=1) + ExpSineSquared(length_scale=1, periodicity=1) + 1**2 * RBF(length_scale=0.5)</a></strong> to <a href='https://wandb.ai/afn-sy/Single_window_GPR' target=\"_blank\">Weights & Biases</a> (<a href='https://wandb.me/run' target=\"_blank\">docs</a>)<br/>"
      ],
      "text/plain": [
       "<IPython.core.display.HTML object>"
      ]
     },
     "metadata": {},
     "output_type": "display_data"
    },
    {
     "data": {
      "text/html": [
       " View project at <a href='https://wandb.ai/afn-sy/Single_window_GPR' target=\"_blank\">https://wandb.ai/afn-sy/Single_window_GPR</a>"
      ],
      "text/plain": [
       "<IPython.core.display.HTML object>"
      ]
     },
     "metadata": {},
     "output_type": "display_data"
    },
    {
     "data": {
      "text/html": [
       " View run at <a href='https://wandb.ai/afn-sy/Single_window_GPR/runs/qr8qfee4' target=\"_blank\">https://wandb.ai/afn-sy/Single_window_GPR/runs/qr8qfee4</a>"
      ],
      "text/plain": [
       "<IPython.core.display.HTML object>"
      ]
     },
     "metadata": {},
     "output_type": "display_data"
    },
    {
     "name": "stderr",
     "output_type": "stream",
     "text": [
      "wandb: WARNING Source type is set to 'repo' but some required information is missing from the environment. A job will not be created from this run. See https://docs.wandb.ai/guides/launch/create-job\n"
     ]
    },
    {
     "data": {
      "application/vnd.jupyter.widget-view+json": {
       "model_id": "7fe2b7044da445d79b1f9721d9ba10e6",
       "version_major": 2,
       "version_minor": 0
      },
      "text/plain": [
       "VBox(children=(Label(value='0.071 MB of 0.072 MB uploaded\\r'), FloatProgress(value=0.9782949825278565, max=1.0…"
      ]
     },
     "metadata": {},
     "output_type": "display_data"
    },
    {
     "data": {
      "text/html": [
       "<style>\n",
       "    table.wandb td:nth-child(1) { padding: 0 10px; text-align: left ; width: auto;} td:nth-child(2) {text-align: left ; width: 100%}\n",
       "    .wandb-row { display: flex; flex-direction: row; flex-wrap: wrap; justify-content: flex-start; width: 100% }\n",
       "    .wandb-col { display: flex; flex-direction: column; flex-basis: 100%; flex: 1; padding: 10px; }\n",
       "    </style>\n",
       "<div class=\"wandb-row\"><div class=\"wandb-col\"><h3>Run history:</h3><br/><table class=\"wandb\"><tr><td>LML_test</td><td>▁</td></tr><tr><td>LML_train</td><td>▁▁</td></tr><tr><td>LML_validate</td><td>▁</td></tr><tr><td>MAE_test</td><td>▁</td></tr><tr><td>MAE_train</td><td>▁▁</td></tr><tr><td>MAE_validate</td><td>▁</td></tr><tr><td>MAPE_test</td><td>▁</td></tr><tr><td>MAPE_train</td><td>▁▁</td></tr><tr><td>MAPE_validate</td><td>▁</td></tr><tr><td>MSE_test</td><td>▁</td></tr><tr><td>MSE_train</td><td>▁▁</td></tr><tr><td>MSE_validate</td><td>▁</td></tr><tr><td>R2_test</td><td>▁</td></tr><tr><td>R2_train</td><td>▁▁</td></tr><tr><td>R2_validate</td><td>▁</td></tr><tr><td>RMSE_test</td><td>▁</td></tr><tr><td>RMSE_train</td><td>▁▁</td></tr><tr><td>RMSE_validate</td><td>▁</td></tr><tr><td>step</td><td>▁▁▁▁</td></tr></table><br/></div><div class=\"wandb-col\"><h3>Run summary:</h3><br/><table class=\"wandb\"><tr><td>LML_test</td><td>-98.41513</td></tr><tr><td>LML_train</td><td>-98.41513</td></tr><tr><td>LML_validate</td><td>-98.41513</td></tr><tr><td>MAE_test</td><td>10.88598</td></tr><tr><td>MAE_train</td><td>0.0</td></tr><tr><td>MAE_validate</td><td>8.44277</td></tr><tr><td>MAPE_test</td><td>442.79095</td></tr><tr><td>MAPE_train</td><td>0.0</td></tr><tr><td>MAPE_validate</td><td>207.13428</td></tr><tr><td>MSE_test</td><td>166.82197</td></tr><tr><td>MSE_train</td><td>0.0</td></tr><tr><td>MSE_validate</td><td>92.55444</td></tr><tr><td>R2_test</td><td>-0.65472</td></tr><tr><td>R2_train</td><td>1.0</td></tr><tr><td>R2_validate</td><td>-0.62611</td></tr><tr><td>RMSE_test</td><td>12.91596</td></tr><tr><td>RMSE_train</td><td>0.0</td></tr><tr><td>RMSE_validate</td><td>9.62052</td></tr><tr><td>step</td><td>1</td></tr></table><br/></div></div>"
      ],
      "text/plain": [
       "<IPython.core.display.HTML object>"
      ]
     },
     "metadata": {},
     "output_type": "display_data"
    },
    {
     "data": {
      "text/html": [
       " View run <strong style=\"color:#cdcd00\">Experiment_4_kernel_1**2 * RBF(length_scale=0.5) * ExpSineSquared(length_scale=1, periodicity=1) + ExpSineSquared(length_scale=1, periodicity=1) + 1**2 * RBF(length_scale=0.5)</strong> at: <a href='https://wandb.ai/afn-sy/Single_window_GPR/runs/qr8qfee4' target=\"_blank\">https://wandb.ai/afn-sy/Single_window_GPR/runs/qr8qfee4</a><br/>Synced 6 W&B file(s), 9 media file(s), 4 artifact file(s) and 4 other file(s)"
      ],
      "text/plain": [
       "<IPython.core.display.HTML object>"
      ]
     },
     "metadata": {},
     "output_type": "display_data"
    },
    {
     "data": {
      "text/html": [
       "Find logs at: <code>./wandb/run-20240117_212452-qr8qfee4/logs</code>"
      ],
      "text/plain": [
       "<IPython.core.display.HTML object>"
      ]
     },
     "metadata": {},
     "output_type": "display_data"
    },
    {
     "data": {
      "application/vnd.jupyter.widget-view+json": {
       "model_id": "6cfacb979c6642d3841636d595a29698",
       "version_major": 2,
       "version_minor": 0
      },
      "text/plain": [
       "VBox(children=(Label(value='Waiting for wandb.init()...\\r'), FloatProgress(value=0.01112826306665132, max=1.0)…"
      ]
     },
     "metadata": {},
     "output_type": "display_data"
    },
    {
     "data": {
      "text/html": [
       "Tracking run with wandb version 0.16.2"
      ],
      "text/plain": [
       "<IPython.core.display.HTML object>"
      ]
     },
     "metadata": {},
     "output_type": "display_data"
    },
    {
     "data": {
      "text/html": [
       "Run data is saved locally in <code>/home/sofia_afn/Insync/sofiaa720@gmail.com/Google Drive/masters_thesis/code_v1/msc_parking/univrses/notebooks/wandb/run-20240117_212536-53ymnl5b</code>"
      ],
      "text/plain": [
       "<IPython.core.display.HTML object>"
      ]
     },
     "metadata": {},
     "output_type": "display_data"
    },
    {
     "data": {
      "text/html": [
       "Syncing run <strong><a href='https://wandb.ai/afn-sy/Single_window_GPR/runs/53ymnl5b' target=\"_blank\">Experiment_5_kernel_1**2 * RBF(length_scale=0.5) * ExpSineSquared(length_scale=1, periodicity=1) + WhiteKernel(noise_level=1) + ExpSineSquared(length_scale=1, periodicity=1)</a></strong> to <a href='https://wandb.ai/afn-sy/Single_window_GPR' target=\"_blank\">Weights & Biases</a> (<a href='https://wandb.me/run' target=\"_blank\">docs</a>)<br/>"
      ],
      "text/plain": [
       "<IPython.core.display.HTML object>"
      ]
     },
     "metadata": {},
     "output_type": "display_data"
    },
    {
     "data": {
      "text/html": [
       " View project at <a href='https://wandb.ai/afn-sy/Single_window_GPR' target=\"_blank\">https://wandb.ai/afn-sy/Single_window_GPR</a>"
      ],
      "text/plain": [
       "<IPython.core.display.HTML object>"
      ]
     },
     "metadata": {},
     "output_type": "display_data"
    },
    {
     "data": {
      "text/html": [
       " View run at <a href='https://wandb.ai/afn-sy/Single_window_GPR/runs/53ymnl5b' target=\"_blank\">https://wandb.ai/afn-sy/Single_window_GPR/runs/53ymnl5b</a>"
      ],
      "text/plain": [
       "<IPython.core.display.HTML object>"
      ]
     },
     "metadata": {},
     "output_type": "display_data"
    },
    {
     "name": "stderr",
     "output_type": "stream",
     "text": [
      "/home/sofia_afn/anaconda3/envs/prkng_v2_env/lib/python3.10/site-packages/sklearn/gaussian_process/kernels.py:430: ConvergenceWarning:\n",
      "\n",
      "The optimal value found for dimension 0 of parameter k1__k1__k1__k2__length_scale is close to the specified upper bound 1000.0. Increasing the bound and calling fit again may find a better value.\n",
      "\n"
     ]
    },
    {
     "data": {
      "application/vnd.jupyter.widget-view+json": {
       "model_id": "685a4c5f2af141669627f3159b967e9f",
       "version_major": 2,
       "version_minor": 0
      },
      "text/plain": [
       "VBox(children=(Label(value='0.071 MB of 0.072 MB uploaded\\r'), FloatProgress(value=0.9782666033655114, max=1.0…"
      ]
     },
     "metadata": {},
     "output_type": "display_data"
    },
    {
     "name": "stderr",
     "output_type": "stream",
     "text": [
      "wandb: WARNING Source type is set to 'repo' but some required information is missing from the environment. A job will not be created from this run. See https://docs.wandb.ai/guides/launch/create-job\n"
     ]
    },
    {
     "data": {
      "text/html": [
       "<style>\n",
       "    table.wandb td:nth-child(1) { padding: 0 10px; text-align: left ; width: auto;} td:nth-child(2) {text-align: left ; width: 100%}\n",
       "    .wandb-row { display: flex; flex-direction: row; flex-wrap: wrap; justify-content: flex-start; width: 100% }\n",
       "    .wandb-col { display: flex; flex-direction: column; flex-basis: 100%; flex: 1; padding: 10px; }\n",
       "    </style>\n",
       "<div class=\"wandb-row\"><div class=\"wandb-col\"><h3>Run history:</h3><br/><table class=\"wandb\"><tr><td>LML_test</td><td>▁</td></tr><tr><td>LML_train</td><td>▁▁</td></tr><tr><td>LML_validate</td><td>▁</td></tr><tr><td>MAE_test</td><td>▁</td></tr><tr><td>MAE_train</td><td>▁▁</td></tr><tr><td>MAE_validate</td><td>▁</td></tr><tr><td>MAPE_test</td><td>▁</td></tr><tr><td>MAPE_train</td><td>▁▁</td></tr><tr><td>MAPE_validate</td><td>▁</td></tr><tr><td>MSE_test</td><td>▁</td></tr><tr><td>MSE_train</td><td>▁▁</td></tr><tr><td>MSE_validate</td><td>▁</td></tr><tr><td>R2_test</td><td>▁</td></tr><tr><td>R2_train</td><td>▁▁</td></tr><tr><td>R2_validate</td><td>▁</td></tr><tr><td>RMSE_test</td><td>▁</td></tr><tr><td>RMSE_train</td><td>▁▁</td></tr><tr><td>RMSE_validate</td><td>▁</td></tr><tr><td>step</td><td>▁▁▁▁</td></tr></table><br/></div><div class=\"wandb-col\"><h3>Run summary:</h3><br/><table class=\"wandb\"><tr><td>LML_test</td><td>-45.87569</td></tr><tr><td>LML_train</td><td>-45.87569</td></tr><tr><td>LML_validate</td><td>-45.87569</td></tr><tr><td>MAE_test</td><td>10.88074</td></tr><tr><td>MAE_train</td><td>0.24343</td></tr><tr><td>MAE_validate</td><td>8.43752</td></tr><tr><td>MAPE_test</td><td>438.90224</td></tr><tr><td>MAPE_train</td><td>61.78667</td></tr><tr><td>MAPE_validate</td><td>207.54795</td></tr><tr><td>MSE_test</td><td>167.13331</td></tr><tr><td>MSE_train</td><td>0.10609</td></tr><tr><td>MSE_validate</td><td>92.53443</td></tr><tr><td>R2_test</td><td>-0.65781</td></tr><tr><td>R2_train</td><td>0.99146</td></tr><tr><td>R2_validate</td><td>-0.62576</td></tr><tr><td>RMSE_test</td><td>12.928</td></tr><tr><td>RMSE_train</td><td>0.32572</td></tr><tr><td>RMSE_validate</td><td>9.61948</td></tr><tr><td>step</td><td>1</td></tr></table><br/></div></div>"
      ],
      "text/plain": [
       "<IPython.core.display.HTML object>"
      ]
     },
     "metadata": {},
     "output_type": "display_data"
    },
    {
     "data": {
      "text/html": [
       " View run <strong style=\"color:#cdcd00\">Experiment_5_kernel_1**2 * RBF(length_scale=0.5) * ExpSineSquared(length_scale=1, periodicity=1) + WhiteKernel(noise_level=1) + ExpSineSquared(length_scale=1, periodicity=1)</strong> at: <a href='https://wandb.ai/afn-sy/Single_window_GPR/runs/53ymnl5b' target=\"_blank\">https://wandb.ai/afn-sy/Single_window_GPR/runs/53ymnl5b</a><br/>Synced 7 W&B file(s), 9 media file(s), 4 artifact file(s) and 4 other file(s)"
      ],
      "text/plain": [
       "<IPython.core.display.HTML object>"
      ]
     },
     "metadata": {},
     "output_type": "display_data"
    },
    {
     "data": {
      "text/html": [
       "Find logs at: <code>./wandb/run-20240117_212536-53ymnl5b/logs</code>"
      ],
      "text/plain": [
       "<IPython.core.display.HTML object>"
      ]
     },
     "metadata": {},
     "output_type": "display_data"
    },
    {
     "data": {
      "application/vnd.jupyter.widget-view+json": {
       "model_id": "bbb7040177c24aec86ddf5957414387a",
       "version_major": 2,
       "version_minor": 0
      },
      "text/plain": [
       "VBox(children=(Label(value='Waiting for wandb.init()...\\r'), FloatProgress(value=0.011113357577778515, max=1.0…"
      ]
     },
     "metadata": {},
     "output_type": "display_data"
    },
    {
     "data": {
      "text/html": [
       "Tracking run with wandb version 0.16.2"
      ],
      "text/plain": [
       "<IPython.core.display.HTML object>"
      ]
     },
     "metadata": {},
     "output_type": "display_data"
    },
    {
     "data": {
      "text/html": [
       "Run data is saved locally in <code>/home/sofia_afn/Insync/sofiaa720@gmail.com/Google Drive/masters_thesis/code_v1/msc_parking/univrses/notebooks/wandb/run-20240117_212633-nm3kzx5m</code>"
      ],
      "text/plain": [
       "<IPython.core.display.HTML object>"
      ]
     },
     "metadata": {},
     "output_type": "display_data"
    },
    {
     "data": {
      "text/html": [
       "Syncing run <strong><a href='https://wandb.ai/afn-sy/Single_window_GPR/runs/nm3kzx5m' target=\"_blank\">Experiment_6_kernel_ExpSineSquared(length_scale=1, periodicity=1)</a></strong> to <a href='https://wandb.ai/afn-sy/Single_window_GPR' target=\"_blank\">Weights & Biases</a> (<a href='https://wandb.me/run' target=\"_blank\">docs</a>)<br/>"
      ],
      "text/plain": [
       "<IPython.core.display.HTML object>"
      ]
     },
     "metadata": {},
     "output_type": "display_data"
    },
    {
     "data": {
      "text/html": [
       " View project at <a href='https://wandb.ai/afn-sy/Single_window_GPR' target=\"_blank\">https://wandb.ai/afn-sy/Single_window_GPR</a>"
      ],
      "text/plain": [
       "<IPython.core.display.HTML object>"
      ]
     },
     "metadata": {},
     "output_type": "display_data"
    },
    {
     "data": {
      "text/html": [
       " View run at <a href='https://wandb.ai/afn-sy/Single_window_GPR/runs/nm3kzx5m' target=\"_blank\">https://wandb.ai/afn-sy/Single_window_GPR/runs/nm3kzx5m</a>"
      ],
      "text/plain": [
       "<IPython.core.display.HTML object>"
      ]
     },
     "metadata": {},
     "output_type": "display_data"
    },
    {
     "data": {
      "application/vnd.jupyter.widget-view+json": {
       "model_id": "5a2718f2f0784829b5c6bd6f9845295b",
       "version_major": 2,
       "version_minor": 0
      },
      "text/plain": [
       "VBox(children=(Label(value='0.044 MB of 0.071 MB uploaded\\r'), FloatProgress(value=0.6112262498495769, max=1.0…"
      ]
     },
     "metadata": {},
     "output_type": "display_data"
    },
    {
     "name": "stderr",
     "output_type": "stream",
     "text": [
      "wandb: WARNING Source type is set to 'repo' but some required information is missing from the environment. A job will not be created from this run. See https://docs.wandb.ai/guides/launch/create-job\n"
     ]
    },
    {
     "data": {
      "text/html": [
       "<style>\n",
       "    table.wandb td:nth-child(1) { padding: 0 10px; text-align: left ; width: auto;} td:nth-child(2) {text-align: left ; width: 100%}\n",
       "    .wandb-row { display: flex; flex-direction: row; flex-wrap: wrap; justify-content: flex-start; width: 100% }\n",
       "    .wandb-col { display: flex; flex-direction: column; flex-basis: 100%; flex: 1; padding: 10px; }\n",
       "    </style>\n",
       "<div class=\"wandb-row\"><div class=\"wandb-col\"><h3>Run history:</h3><br/><table class=\"wandb\"><tr><td>LML_test</td><td>▁</td></tr><tr><td>LML_train</td><td>▁▁</td></tr><tr><td>LML_validate</td><td>▁</td></tr><tr><td>MAE_test</td><td>▁</td></tr><tr><td>MAE_train</td><td>▁▁</td></tr><tr><td>MAE_validate</td><td>▁</td></tr><tr><td>MAPE_test</td><td>▁</td></tr><tr><td>MAPE_train</td><td>▁▁</td></tr><tr><td>MAPE_validate</td><td>▁</td></tr><tr><td>MSE_test</td><td>▁</td></tr><tr><td>MSE_train</td><td>▁▁</td></tr><tr><td>MSE_validate</td><td>▁</td></tr><tr><td>R2_test</td><td>▁</td></tr><tr><td>R2_train</td><td>▁▁</td></tr><tr><td>R2_validate</td><td>▁</td></tr><tr><td>RMSE_test</td><td>▁</td></tr><tr><td>RMSE_train</td><td>▁▁</td></tr><tr><td>RMSE_validate</td><td>▁</td></tr><tr><td>step</td><td>▁▁▁▁</td></tr></table><br/></div><div class=\"wandb-col\"><h3>Run summary:</h3><br/><table class=\"wandb\"><tr><td>LML_test</td><td>-190.70797</td></tr><tr><td>LML_train</td><td>-190.70797</td></tr><tr><td>LML_validate</td><td>-190.70797</td></tr><tr><td>MAE_test</td><td>10.88598</td></tr><tr><td>MAE_train</td><td>0.0</td></tr><tr><td>MAE_validate</td><td>8.44277</td></tr><tr><td>MAPE_test</td><td>442.79095</td></tr><tr><td>MAPE_train</td><td>0.0</td></tr><tr><td>MAPE_validate</td><td>207.13428</td></tr><tr><td>MSE_test</td><td>166.82197</td></tr><tr><td>MSE_train</td><td>0.0</td></tr><tr><td>MSE_validate</td><td>92.55444</td></tr><tr><td>R2_test</td><td>-0.65472</td></tr><tr><td>R2_train</td><td>1.0</td></tr><tr><td>R2_validate</td><td>-0.62611</td></tr><tr><td>RMSE_test</td><td>12.91596</td></tr><tr><td>RMSE_train</td><td>0.0</td></tr><tr><td>RMSE_validate</td><td>9.62052</td></tr><tr><td>step</td><td>1</td></tr></table><br/></div></div>"
      ],
      "text/plain": [
       "<IPython.core.display.HTML object>"
      ]
     },
     "metadata": {},
     "output_type": "display_data"
    },
    {
     "data": {
      "text/html": [
       " View run <strong style=\"color:#cdcd00\">Experiment_6_kernel_ExpSineSquared(length_scale=1, periodicity=1)</strong> at: <a href='https://wandb.ai/afn-sy/Single_window_GPR/runs/nm3kzx5m' target=\"_blank\">https://wandb.ai/afn-sy/Single_window_GPR/runs/nm3kzx5m</a><br/>Synced 6 W&B file(s), 9 media file(s), 4 artifact file(s) and 4 other file(s)"
      ],
      "text/plain": [
       "<IPython.core.display.HTML object>"
      ]
     },
     "metadata": {},
     "output_type": "display_data"
    },
    {
     "data": {
      "text/html": [
       "Find logs at: <code>./wandb/run-20240117_212633-nm3kzx5m/logs</code>"
      ],
      "text/plain": [
       "<IPython.core.display.HTML object>"
      ]
     },
     "metadata": {},
     "output_type": "display_data"
    },
    {
     "name": "stdout",
     "output_type": "stream",
     "text": [
      "All experiments completed.\n"
     ]
    }
   ],
   "source": [
    "\n",
    "\n",
    "# Run experiments for each kernel\n",
    "for i, kernel in enumerate(kernels):\n",
    "    gpr = GaussianProcessRegressor(kernel=kernel)\n",
    "\n",
    "    # Initialize wandb run\n",
    "    datetime_str = now.strftime(\"%m/%d_%H:%M:%S\")\n",
    "    run = wandb.init(\n",
    "        project=\"Single_window_GPR\",\n",
    "        name=f\"Experiment_{i+1}_kernel_{kernel}\"\n",
    "    )\n",
    "\n",
    "    # Configuration parameters\n",
    "    config = wandb.config\n",
    "    config.ini_train_win_len = len(train)\n",
    "    config.valid_win_len = len(valid)\n",
    "    config.step_size = 1  # 24 hours or 1 day\n",
    "\n",
    "    # Call the expanding window function\n",
    "    y_test_pred, y_test_std, gpr = single_window_gpr_process(\n",
    "        run,\n",
    "        train,\n",
    "        valid,\n",
    "        test,\n",
    "        gpr,\n",
    "        features='hour_of_day',\n",
    "        target='centered_car_count',\n",
    "        agg_func='mean'\n",
    "    )\n",
    "\n",
    "    # Log additional information if necessary\n",
    "    # wandb.log({})\n",
    "\n",
    "    # Finish the wandb run\n",
    "    run.finish()\n",
    "\n",
    "# End of experiments\n",
    "print('All experiments completed.')\n"
   ]
  },
  {
   "cell_type": "code",
   "execution_count": 9,
   "metadata": {},
   "outputs": [],
   "source": [
    "# # kernel definition\n",
    "\n",
    "# from sklearn.gaussian_process.kernels import RBF, WhiteKernel, ExpSineSquared, ConstantKernel as C\n",
    "\n",
    "# # RBF kernel with a length scale of 1.0\n",
    "# k1 = 1 * RBF(length_scale=0.5, length_scale_bounds=(1e-3, 1e3))\n",
    "\n",
    "# # White kernel to account for noise\n",
    "# k2 = WhiteKernel(noise_level=1, noise_level_bounds=(1e-10, 1e+1))\n",
    "\n",
    "# # Periodic kernel\n",
    "# k3 = ExpSineSquared(length_scale=1.0,\n",
    "#                     length_scale_bounds=(1e-1, 50) ,\n",
    "#                     periodicity=1,\n",
    "#                     periodicity_bounds= (1e-1, 50))\n",
    "# # locally periodic\n",
    "# k4 = k1 * k3\n",
    "# # Combined kernel\n",
    "# # kernel = k1+k2+k3 # this is not really needed\n",
    "# # kernel = k2 +k4 \n",
    "# # kernel = k2*k4\n",
    "# # kernel = k4 + k3 +k1\n",
    "# # kernel = (k4 + k2)+k3\n",
    "# kernel= k3\n",
    "\n",
    "# gpr = GaussianProcessRegressor(kernel=kernel)"
   ]
  },
  {
   "cell_type": "code",
   "execution_count": null,
   "metadata": {},
   "outputs": [],
   "source": [
    "datetime_str = now.strftime(\"%m/%d_%H:%M:%S\")\n",
    "run = wandb.init(\n",
    "    # set the wandb project where this run will be logged\n",
    "    project=\"Single_window_GPR\",\n",
    "    name= f\"Single_window._feature:hour_of_day\"\n",
    ")\n",
    "# Configuration parameters (this could be extended depending on what you'd like to track)\n",
    "config = wandb.config\n",
    "config.ini_train_win_len = len(train)\n",
    "config.valid_win_len = len(valid)\n",
    "config.step_size = 1 # 24 hours or 1 day\n",
    "\n",
    "\n",
    "# Call the expanding window function\n",
    "y_test_pred, y_test_std, gpr = single_window_gpr_process(run,\n",
    "                                train,\n",
    "                                valid,\n",
    "                                test,\n",
    "                                gpr,\n",
    "                                features='hour_of_day',\n",
    "                                target='centered_car_count',\n",
    "                                agg_func='mean'\n",
    "    \n",
    ")"
   ]
  },
  {
   "cell_type": "code",
   "execution_count": null,
   "metadata": {},
   "outputs": [],
   "source": [
    "# datetime_str = now.strftime(\"%m/%d_%H:%M:%S\")\n",
    "# run = wandb.init(\n",
    "#     # set the wandb project where this run will be logged\n",
    "#     project=\"Single_window_GPR\",\n",
    "#     name= f\"Single_window.{experiment_num}_feature:week\"\n",
    "# )\n",
    "# # Configuration parameters (this could be extended depending on what you'd like to track)\n",
    "# config = wandb.config\n",
    "# config.ini_train_win_len = len(train)\n",
    "# config.valid_win_len = len(valid)\n",
    "# config.step_size = 1 # 24 hours or 1 day\n",
    "\n",
    "\n",
    "# # Call the expanding window function\n",
    "# y_test_pred, y_test_std, gpr = single_window_gpr_process(run,\n",
    "#                                 train,\n",
    "#                                 valid,\n",
    "#                                 test,\n",
    "#                                 gpr,\n",
    "#                                 features='day_of_week',\n",
    "#                                 target='centered_car_count',\n",
    "#                                 agg_func='mean'\n",
    "    \n",
    "# )"
   ]
  },
  {
   "cell_type": "code",
   "execution_count": null,
   "metadata": {},
   "outputs": [],
   "source": [
    "# datetime_str = now.strftime(\"%m/%d_%H:%M:%S\")\n",
    "# run = wandb.init(\n",
    "#     # set the wandb project where this run will be logged\n",
    "#     project=\"Single_window_GPR\",\n",
    "#     name= f\"Single_window.{experiment_num}_feature:month\"\n",
    "# )\n",
    "# # Configuration parameters (this could be extended depending on what you'd like to track)\n",
    "# config = wandb.config\n",
    "# config.ini_train_win_len = len(train)\n",
    "# config.valid_win_len = len(valid)\n",
    "# config.step_size = 1 # 24 hours or 1 day\n",
    "\n",
    "\n",
    "# # Call the expanding window function\n",
    "# y_test_pred, y_test_std, gpr = single_window_gpr_process(run,\n",
    "#                                 train,\n",
    "#                                 valid,\n",
    "#                                 test,\n",
    "#                                 gpr,\n",
    "#                                 features='day',\n",
    "#                                 target='centered_car_count',\n",
    "#                                 agg_func='mean'\n",
    "    \n",
    "# )"
   ]
  },
  {
   "cell_type": "code",
   "execution_count": null,
   "metadata": {},
   "outputs": [],
   "source": [
    "k1_fig = plot_gpr_samples_plotly(gpr,5,X_train,y_train)\n",
    "k2 = "
   ]
  },
  {
   "cell_type": "code",
   "execution_count": null,
   "metadata": {},
   "outputs": [],
   "source": []
  }
 ],
 "metadata": {
  "kernelspec": {
   "display_name": "prkng_v2_env",
   "language": "python",
   "name": "python3"
  },
  "language_info": {
   "codemirror_mode": {
    "name": "ipython",
    "version": 3
   },
   "file_extension": ".py",
   "mimetype": "text/x-python",
   "name": "python",
   "nbconvert_exporter": "python",
   "pygments_lexer": "ipython3",
   "version": "3.11.4"
  }
 },
 "nbformat": 4,
 "nbformat_minor": 2
}
