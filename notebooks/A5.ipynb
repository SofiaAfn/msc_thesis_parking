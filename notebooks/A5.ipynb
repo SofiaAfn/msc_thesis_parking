{
 "cells": [
  {
   "cell_type": "code",
   "execution_count": 2,
   "metadata": {},
   "outputs": [],
   "source": [
    "import bisect\n",
    "import math\n",
    "\n",
    "import cv2\n",
    "import h5py\n",
    "import matplotlib.pyplot as plt\n",
    "import numpy as np\n",
    "import tqdm\n",
    "import os\n",
    "import folium\n",
    "\n",
    "os.environ['USE_PYGEOS'] = '0'\n",
    "import geopandas as gpd\n",
    "\n",
    "\n",
    "from shapely import Point\n",
    "\n",
    "import jaxlie\n",
    "import plotly.graph_objects as go  \n",
    "import trajectory_utils\n"
   ]
  },
  {
   "cell_type": "code",
   "execution_count": null,
   "metadata": {},
   "outputs": [],
   "source": [
    "# hdf5_dir = \"2022-04-22-20230326T120319Z-002/2022-04-22/\"\n",
    "filename =\"/home/sf_afn/Downloads/record_2023-04-24_13-49-28_rm7.hdf5\"\n",
    "sequence_f = h5py.File(filename, \"r\")\n",
    "\n",
    "print(\"Keys: %s\" % sequence_f.keys())\n",
    "print(\"version\",sequence_f.attrs['3DAI_version'])"
   ]
  },
  {
   "cell_type": "code",
   "execution_count": null,
   "metadata": {},
   "outputs": [],
   "source": [
    "image_timestamps = trajectory_utils.get_first_last_timestamps(sequence_f)"
   ]
  },
  {
   "cell_type": "code",
   "execution_count": null,
   "metadata": {},
   "outputs": [],
   "source": [
    "image_timestamps"
   ]
  },
  {
   "cell_type": "code",
   "execution_count": null,
   "metadata": {},
   "outputs": [],
   "source": [
    "# Show one image\n",
    "\n",
    "one_image = trajectory_utils.get_image_at_timestamp(sequence_f, 700,image_timestamps)\n",
    "#print(type(one_image))\n",
    "plt.figure()\n",
    "plt.imshow(one_image)\n",
    "plt.show()\n",
    "\n"
   ]
  },
  {
   "cell_type": "code",
   "execution_count": null,
   "metadata": {},
   "outputs": [],
   "source": [
    "fused_positions = trajectory_utils.get_fused_positions(sequence_f)"
   ]
  },
  {
   "cell_type": "code",
   "execution_count": null,
   "metadata": {},
   "outputs": [],
   "source": [
    "trajectory_utils.plot_2D_trajectory(fused_positions)\n"
   ]
  },
  {
   "cell_type": "code",
   "execution_count": null,
   "metadata": {},
   "outputs": [],
   "source": [
    "trajectory_utils.plot_3D_trajectory(fused_positions)"
   ]
  },
  {
   "cell_type": "code",
   "execution_count": null,
   "metadata": {},
   "outputs": [],
   "source": [
    "# fetch parked car detections from a csv from Emmanuel edited by Sylvain\n",
    "file_csv = \"/home/sf_afn/Downloads/parked_car_triangulations.csv\"\n",
    "parked_cars_gdf = gpd.read_file(file_csv)"
   ]
  },
  {
   "cell_type": "code",
   "execution_count": null,
   "metadata": {},
   "outputs": [],
   "source": [
    "parked_cars_gdf.head()"
   ]
  },
  {
   "cell_type": "code",
   "execution_count": null,
   "metadata": {},
   "outputs": [],
   "source": [
    "parked_cars_gdf.describe()"
   ]
  },
  {
   "cell_type": "code",
   "execution_count": null,
   "metadata": {},
   "outputs": [],
   "source": [
    "# --->BK1 base map declare\n",
    "# create a map centered on Sodermalm\n",
    "bbox_center = [59.312345, 18.066072] \n",
    "map_1 = folium.Map(location= bbox_center, zoom_start=14,tiles=\"cartodbpositron\" )\n",
    "\n",
    "# tile = folium.TileLayer(\n",
    "        # tiles = 'https://server.arcgisonline.com/ArcGIS/rest/services/World_Imagery/MapServer/tile/{z}/{y}/{x}',\n",
    "        # attr = 'Esri',\n",
    "    #     # name = 'Esri Satellite',\n",
    "    #     overlay = False,\n",
    "    #     control = True\n",
    "    #    ).add_to(map)"
   ]
  },
  {
   "cell_type": "code",
   "execution_count": null,
   "metadata": {},
   "outputs": [],
   "source": [
    "map_1"
   ]
  },
  {
   "cell_type": "code",
   "execution_count": 4,
   "metadata": {},
   "outputs": [],
   "source": [
    "permitted_parking_gdf = gpd.read_file('/home/sf_afn/Downloads/univrses_data/permitted_parking.json')"
   ]
  },
  {
   "cell_type": "code",
   "execution_count": 5,
   "metadata": {},
   "outputs": [
    {
     "data": {
      "text/html": [
       "<div>\n",
       "<style scoped>\n",
       "    .dataframe tbody tr th:only-of-type {\n",
       "        vertical-align: middle;\n",
       "    }\n",
       "\n",
       "    .dataframe tbody tr th {\n",
       "        vertical-align: top;\n",
       "    }\n",
       "\n",
       "    .dataframe thead th {\n",
       "        text-align: right;\n",
       "    }\n",
       "</style>\n",
       "<table border=\"1\" class=\"dataframe\">\n",
       "  <thead>\n",
       "    <tr style=\"text-align: right;\">\n",
       "      <th></th>\n",
       "      <th>id</th>\n",
       "      <th>FID</th>\n",
       "      <th>FEATURE_OBJECT_ID</th>\n",
       "      <th>FEATURE_VERSION_ID</th>\n",
       "      <th>EXTENT_NO</th>\n",
       "      <th>VALID_FROM</th>\n",
       "      <th>VALID_TO</th>\n",
       "      <th>VEHICLE</th>\n",
       "      <th>START_TIME</th>\n",
       "      <th>END_TIME</th>\n",
       "      <th>...</th>\n",
       "      <th>CITY_DISTRICT</th>\n",
       "      <th>PARKING_DISTRICT</th>\n",
       "      <th>OTHER_INFO</th>\n",
       "      <th>VF_METER</th>\n",
       "      <th>VF_PLATSER</th>\n",
       "      <th>VF_PLATS_TYP</th>\n",
       "      <th>ADDRESS</th>\n",
       "      <th>RDT_URL</th>\n",
       "      <th>PARKING_RATE</th>\n",
       "      <th>geometry</th>\n",
       "    </tr>\n",
       "  </thead>\n",
       "  <tbody>\n",
       "    <tr>\n",
       "      <th>0</th>\n",
       "      <td>LTFR_P_TILLATEN.44817868</td>\n",
       "      <td>44817868</td>\n",
       "      <td>13742836</td>\n",
       "      <td>1</td>\n",
       "      <td>5</td>\n",
       "      <td>2018-01-29 23:00:00+00:00</td>\n",
       "      <td>NaT</td>\n",
       "      <td>fordon</td>\n",
       "      <td>1600.0</td>\n",
       "      <td>800.0</td>\n",
       "      <td>...</td>\n",
       "      <td>Bagarmossen</td>\n",
       "      <td>Bagarmossen</td>\n",
       "      <td>Servicetid fredag 08:00-16:00 1/11 - 15/5</td>\n",
       "      <td>NaN</td>\n",
       "      <td>NaN</td>\n",
       "      <td>P Avgift, boende</td>\n",
       "      <td>Lagavägen 2</td>\n",
       "      <td>https://rdt.transportstyrelsen.se/rdt/AF06_Vie...</td>\n",
       "      <td>taxa 5: 5 kr/tim vardagar 7-19, Boende: 300 kr...</td>\n",
       "      <td>LINESTRING (157288.172 6573698.371, 157287.080...</td>\n",
       "    </tr>\n",
       "    <tr>\n",
       "      <th>1</th>\n",
       "      <td>LTFR_P_TILLATEN.44817869</td>\n",
       "      <td>44817869</td>\n",
       "      <td>13750219</td>\n",
       "      <td>1</td>\n",
       "      <td>1</td>\n",
       "      <td>2017-10-03 22:00:00+00:00</td>\n",
       "      <td>NaT</td>\n",
       "      <td>rörelsehindrade</td>\n",
       "      <td>NaN</td>\n",
       "      <td>NaN</td>\n",
       "      <td>...</td>\n",
       "      <td>Södermalm</td>\n",
       "      <td>Södermalm</td>\n",
       "      <td>NaN</td>\n",
       "      <td>NaN</td>\n",
       "      <td>3.0</td>\n",
       "      <td>Reserverad p-plats rörelsehindrad</td>\n",
       "      <td>Heleneborgsgatan 4A</td>\n",
       "      <td>https://rdt.transportstyrelsen.se/rdt/AF06_Vie...</td>\n",
       "      <td>taxa 3: 20 kr/tim vardagar 7-19, 15 kr/tim dag...</td>\n",
       "      <td>LINESTRING (152484.638 6578284.974, 152483.502...</td>\n",
       "    </tr>\n",
       "    <tr>\n",
       "      <th>2</th>\n",
       "      <td>LTFR_P_TILLATEN.44817870</td>\n",
       "      <td>44817870</td>\n",
       "      <td>13751474</td>\n",
       "      <td>1</td>\n",
       "      <td>1</td>\n",
       "      <td>2017-10-24 22:00:00+00:00</td>\n",
       "      <td>NaT</td>\n",
       "      <td>rörelsehindrade</td>\n",
       "      <td>NaN</td>\n",
       "      <td>NaN</td>\n",
       "      <td>...</td>\n",
       "      <td>Vasastaden</td>\n",
       "      <td>Vasastan</td>\n",
       "      <td>NaN</td>\n",
       "      <td>6.0</td>\n",
       "      <td>NaN</td>\n",
       "      <td>Reserverad p-plats rörelsehindrad</td>\n",
       "      <td>Observatoriegatan 20</td>\n",
       "      <td>https://rdt.transportstyrelsen.se/rdt/AF06_Vie...</td>\n",
       "      <td>taxa 3: 20 kr/tim vardagar 7-19, 15 kr/tim dag...</td>\n",
       "      <td>LINESTRING (152736.834 6580534.810, 152731.302...</td>\n",
       "    </tr>\n",
       "    <tr>\n",
       "      <th>3</th>\n",
       "      <td>LTFR_P_TILLATEN.44817871</td>\n",
       "      <td>44817871</td>\n",
       "      <td>13718834</td>\n",
       "      <td>1</td>\n",
       "      <td>1</td>\n",
       "      <td>2018-01-29 23:00:00+00:00</td>\n",
       "      <td>NaT</td>\n",
       "      <td>fordon</td>\n",
       "      <td>NaN</td>\n",
       "      <td>NaN</td>\n",
       "      <td>...</td>\n",
       "      <td>Bagarmossen</td>\n",
       "      <td>Bagarmossen</td>\n",
       "      <td>Servicetid tisdag 08:00-16:00 1/11 - 15/5</td>\n",
       "      <td>NaN</td>\n",
       "      <td>NaN</td>\n",
       "      <td>P Avgift, boende</td>\n",
       "      <td>Letstigen 46 - Letstigen 56</td>\n",
       "      <td>https://rdt.transportstyrelsen.se/rdt/AF06_Vie...</td>\n",
       "      <td>taxa 5: 5 kr/tim vardagar 7-19, Boende: 300 kr...</td>\n",
       "      <td>LINESTRING (158341.006 6573198.838, 158366.896...</td>\n",
       "    </tr>\n",
       "    <tr>\n",
       "      <th>4</th>\n",
       "      <td>LTFR_P_TILLATEN.44817872</td>\n",
       "      <td>44817872</td>\n",
       "      <td>13718834</td>\n",
       "      <td>1</td>\n",
       "      <td>1</td>\n",
       "      <td>2018-01-29 23:00:00+00:00</td>\n",
       "      <td>NaT</td>\n",
       "      <td>fordon</td>\n",
       "      <td>1600.0</td>\n",
       "      <td>800.0</td>\n",
       "      <td>...</td>\n",
       "      <td>Bagarmossen</td>\n",
       "      <td>Bagarmossen</td>\n",
       "      <td>Servicetid tisdag 08:00-16:00 1/11 - 15/5</td>\n",
       "      <td>NaN</td>\n",
       "      <td>NaN</td>\n",
       "      <td>P Avgift, boende</td>\n",
       "      <td>Letstigen 46 - Letstigen 56</td>\n",
       "      <td>https://rdt.transportstyrelsen.se/rdt/AF06_Vie...</td>\n",
       "      <td>taxa 5: 5 kr/tim vardagar 7-19, Boende: 300 kr...</td>\n",
       "      <td>LINESTRING (158341.006 6573198.838, 158366.896...</td>\n",
       "    </tr>\n",
       "  </tbody>\n",
       "</table>\n",
       "<p>5 rows × 37 columns</p>\n",
       "</div>"
      ],
      "text/plain": [
       "                         id       FID  FEATURE_OBJECT_ID  FEATURE_VERSION_ID   \n",
       "0  LTFR_P_TILLATEN.44817868  44817868           13742836                   1  \\\n",
       "1  LTFR_P_TILLATEN.44817869  44817869           13750219                   1   \n",
       "2  LTFR_P_TILLATEN.44817870  44817870           13751474                   1   \n",
       "3  LTFR_P_TILLATEN.44817871  44817871           13718834                   1   \n",
       "4  LTFR_P_TILLATEN.44817872  44817872           13718834                   1   \n",
       "\n",
       "   EXTENT_NO                VALID_FROM VALID_TO          VEHICLE  START_TIME   \n",
       "0          5 2018-01-29 23:00:00+00:00      NaT           fordon      1600.0  \\\n",
       "1          1 2017-10-03 22:00:00+00:00      NaT  rörelsehindrade         NaN   \n",
       "2          1 2017-10-24 22:00:00+00:00      NaT  rörelsehindrade         NaN   \n",
       "3          1 2018-01-29 23:00:00+00:00      NaT           fordon         NaN   \n",
       "4          1 2018-01-29 23:00:00+00:00      NaT           fordon      1600.0   \n",
       "\n",
       "   END_TIME  ... CITY_DISTRICT PARKING_DISTRICT   \n",
       "0     800.0  ...   Bagarmossen      Bagarmossen  \\\n",
       "1       NaN  ...     Södermalm        Södermalm   \n",
       "2       NaN  ...    Vasastaden         Vasastan   \n",
       "3       NaN  ...   Bagarmossen      Bagarmossen   \n",
       "4     800.0  ...   Bagarmossen      Bagarmossen   \n",
       "\n",
       "                                  OTHER_INFO  VF_METER  VF_PLATSER   \n",
       "0  Servicetid fredag 08:00-16:00 1/11 - 15/5       NaN         NaN  \\\n",
       "1                                        NaN       NaN         3.0   \n",
       "2                                        NaN       6.0         NaN   \n",
       "3  Servicetid tisdag 08:00-16:00 1/11 - 15/5       NaN         NaN   \n",
       "4  Servicetid tisdag 08:00-16:00 1/11 - 15/5       NaN         NaN   \n",
       "\n",
       "                        VF_PLATS_TYP                      ADDRESS   \n",
       "0                   P Avgift, boende                  Lagavägen 2  \\\n",
       "1  Reserverad p-plats rörelsehindrad          Heleneborgsgatan 4A   \n",
       "2  Reserverad p-plats rörelsehindrad         Observatoriegatan 20   \n",
       "3                   P Avgift, boende  Letstigen 46 - Letstigen 56   \n",
       "4                   P Avgift, boende  Letstigen 46 - Letstigen 56   \n",
       "\n",
       "                                             RDT_URL   \n",
       "0  https://rdt.transportstyrelsen.se/rdt/AF06_Vie...  \\\n",
       "1  https://rdt.transportstyrelsen.se/rdt/AF06_Vie...   \n",
       "2  https://rdt.transportstyrelsen.se/rdt/AF06_Vie...   \n",
       "3  https://rdt.transportstyrelsen.se/rdt/AF06_Vie...   \n",
       "4  https://rdt.transportstyrelsen.se/rdt/AF06_Vie...   \n",
       "\n",
       "                                        PARKING_RATE   \n",
       "0  taxa 5: 5 kr/tim vardagar 7-19, Boende: 300 kr...  \\\n",
       "1  taxa 3: 20 kr/tim vardagar 7-19, 15 kr/tim dag...   \n",
       "2  taxa 3: 20 kr/tim vardagar 7-19, 15 kr/tim dag...   \n",
       "3  taxa 5: 5 kr/tim vardagar 7-19, Boende: 300 kr...   \n",
       "4  taxa 5: 5 kr/tim vardagar 7-19, Boende: 300 kr...   \n",
       "\n",
       "                                            geometry  \n",
       "0  LINESTRING (157288.172 6573698.371, 157287.080...  \n",
       "1  LINESTRING (152484.638 6578284.974, 152483.502...  \n",
       "2  LINESTRING (152736.834 6580534.810, 152731.302...  \n",
       "3  LINESTRING (158341.006 6573198.838, 158366.896...  \n",
       "4  LINESTRING (158341.006 6573198.838, 158366.896...  \n",
       "\n",
       "[5 rows x 37 columns]"
      ]
     },
     "execution_count": 5,
     "metadata": {},
     "output_type": "execute_result"
    }
   ],
   "source": [
    "permitted_parking_gdf.head()"
   ]
  },
  {
   "cell_type": "code",
   "execution_count": null,
   "metadata": {},
   "outputs": [],
   "source": [
    "permitted_parking_gdf.info()"
   ]
  },
  {
   "cell_type": "code",
   "execution_count": null,
   "metadata": {},
   "outputs": [],
   "source": [
    "fused_positions[:10,1]"
   ]
  },
  {
   "cell_type": "code",
   "execution_count": null,
   "metadata": {},
   "outputs": [],
   "source": [
    "permitted_parking_gdf.crs"
   ]
  },
  {
   "cell_type": "code",
   "execution_count": null,
   "metadata": {},
   "outputs": [],
   "source": [
    "permitted_parkng_4326 = permitted_parking_gdf.to_crs(epsg=4326)"
   ]
  },
  {
   "cell_type": "code",
   "execution_count": null,
   "metadata": {},
   "outputs": [],
   "source": [
    "permitted_parkng_4326.crs"
   ]
  },
  {
   "cell_type": "code",
   "execution_count": null,
   "metadata": {},
   "outputs": [],
   "source": [
    "# list(permitted_parkng_4326['geometry'].iloc[190].xy[0], permitted_parkng_4326['geometry'].iloc[190].xy[1])"
   ]
  },
  {
   "cell_type": "code",
   "execution_count": null,
   "metadata": {},
   "outputs": [],
   "source": [
    "# print(permitted_parkng_4326['geometry'].iloc[190].coords)\n",
    "\n"
   ]
  },
  {
   "cell_type": "code",
   "execution_count": null,
   "metadata": {},
   "outputs": [],
   "source": [
    "permitted_parkng_4326['xy']= permitted_parkng_4326['geometry'].apply(lambda row: row.xy )"
   ]
  },
  {
   "cell_type": "code",
   "execution_count": null,
   "metadata": {},
   "outputs": [],
   "source": [
    "permitted_parkng_4326['xy'].iloc[10][0]"
   ]
  },
  {
   "cell_type": "code",
   "execution_count": null,
   "metadata": {},
   "outputs": [],
   "source": [
    "permitted_parkng_4326['location_coords'] = permitted_parkng_4326['xy'].apply(lambda row: [(x,y) for x,y in zip(row[1],row[0])])"
   ]
  },
  {
   "cell_type": "code",
   "execution_count": null,
   "metadata": {},
   "outputs": [],
   "source": [
    "permitted_parkng_4326['location_coords'].iloc[109]"
   ]
  },
  {
   "cell_type": "code",
   "execution_count": null,
   "metadata": {},
   "outputs": [],
   "source": [
    "# ----> BK2 permitted parking polylines\n",
    "# add geometry to a feature group\n",
    "ls_fg = folium.FeatureGroup(name= \"permitted-parking\")\n",
    "#polyline held as child of the map\n",
    "for linestring in permitted_parkng_4326['location_coords']:\n",
    "    ls_fg.add_child(folium.PolyLine(locations= linestring))\n",
    "# feature group added to the child\n",
    "# warning: add layer control after adding your last layer otherwise nothing will work as its supposed to!\n",
    "map_1.add_child(ls_fg)\n"
   ]
  },
  {
   "cell_type": "code",
   "execution_count": null,
   "metadata": {},
   "outputs": [],
   "source": [
    "positions = trajectory_utils.get_positions_geolocation(sequence_f)"
   ]
  },
  {
   "cell_type": "code",
   "execution_count": null,
   "metadata": {},
   "outputs": [],
   "source": [
    "positions[1]"
   ]
  },
  {
   "cell_type": "code",
   "execution_count": null,
   "metadata": {},
   "outputs": [],
   "source": [
    "traj_gdf = gpd.GeoDataFrame(positions)"
   ]
  },
  {
   "cell_type": "code",
   "execution_count": null,
   "metadata": {},
   "outputs": [],
   "source": [
    "traj_gdf.describe()"
   ]
  },
  {
   "cell_type": "code",
   "execution_count": null,
   "metadata": {},
   "outputs": [],
   "source": [
    "traj_gdf.head()"
   ]
  },
  {
   "cell_type": "code",
   "execution_count": null,
   "metadata": {},
   "outputs": [],
   "source": [
    "traj_gdf.columns"
   ]
  },
  {
   "cell_type": "code",
   "execution_count": null,
   "metadata": {},
   "outputs": [],
   "source": [
    "traj_gdf['geometry'] = traj_gdf.apply(lambda row: Point(row['latitude'], row['longitude']), axis= 1)"
   ]
  },
  {
   "cell_type": "code",
   "execution_count": null,
   "metadata": {},
   "outputs": [],
   "source": [
    "traj_gdf.head()"
   ]
  },
  {
   "cell_type": "code",
   "execution_count": null,
   "metadata": {},
   "outputs": [],
   "source": [
    "traj_gdf.explore()"
   ]
  },
  {
   "cell_type": "code",
   "execution_count": null,
   "metadata": {},
   "outputs": [],
   "source": [
    "list(traj_gdf['geometry'][0].coords)[0]"
   ]
  },
  {
   "cell_type": "code",
   "execution_count": null,
   "metadata": {},
   "outputs": [],
   "source": [
    "# ----> BK 3 route cirlcle markers\n",
    "# adding route as circle markers\n",
    "rcm_fg = folium.FeatureGroup(name= \"route_circlemarkers\")\n",
    "\n",
    "for point in traj_gdf['geometry']:\n",
    "    rcm_fg.add_child(folium.CircleMarker(location= list(point.coords)[0], radius= 2, color= 'red'))\n",
    "\n",
    "map_1.add_child(rcm_fg)\n"
   ]
  },
  {
   "cell_type": "code",
   "execution_count": null,
   "metadata": {},
   "outputs": [],
   "source": [
    "map_1"
   ]
  },
  {
   "cell_type": "code",
   "execution_count": null,
   "metadata": {},
   "outputs": [],
   "source": [
    "traj_gdf.apply(lambda row: list(row['geometry'].coords[0]), axis= 1)"
   ]
  },
  {
   "cell_type": "code",
   "execution_count": null,
   "metadata": {},
   "outputs": [],
   "source": [
    "# ---> BK 4 route polylines\n",
    "# adding route as a polyline\n",
    "\n",
    "pl_fg = folium.FeatureGroup(name= \"route_polyline\")\n",
    "\n",
    "\n",
    "pl_fg.add_child(folium.PolyLine(locations= traj_gdf.apply(lambda row: list(row['geometry'].coords[0]), axis= 1), color= 'green'))\n",
    "\n",
    "map_1.add_child(pl_fg)\n",
    "\n",
    "#folium.LayerControl().add_to(map_1)\n"
   ]
  },
  {
   "cell_type": "code",
   "execution_count": null,
   "metadata": {},
   "outputs": [],
   "source": [
    "map_1"
   ]
  },
  {
   "cell_type": "code",
   "execution_count": null,
   "metadata": {},
   "outputs": [],
   "source": [
    "\n",
    "parked_cars_gdf.head()"
   ]
  },
  {
   "cell_type": "code",
   "execution_count": null,
   "metadata": {},
   "outputs": [],
   "source": [
    "parked_cars_gdf.crs"
   ]
  },
  {
   "cell_type": "code",
   "execution_count": null,
   "metadata": {},
   "outputs": [],
   "source": [
    "parked_cars_gdf.set_crs('espg:4326')"
   ]
  },
  {
   "cell_type": "code",
   "execution_count": null,
   "metadata": {},
   "outputs": [],
   "source": [
    "parked_cars_gdf['geometry'] = parked_cars_gdf.apply(lambda row: Point(row['latitude'],row['longitude'] ), axis = 1)"
   ]
  },
  {
   "cell_type": "code",
   "execution_count": null,
   "metadata": {},
   "outputs": [],
   "source": [
    "# ---> BK 5 parking detections \n",
    "pcm_fg = folium.FeatureGroup(name= \"parked_cars_triangulation\")\n",
    "\n",
    "#pcm_fg.add_child(folium.CircleMarker(location= parked_cars_gdf.apply(lambda row: row['geometry'].coords[0], axis=1), color = 'green'))\n",
    "for point in parked_cars_gdf['geometry']:\n",
    "    pcm_fg.add_child(folium.CircleMarker(location= list(point.coords)[0], radius= 2, color= 'orange'))\n",
    "\n",
    "\n",
    "map_1.add_child(pcm_fg)\n"
   ]
  },
  {
   "cell_type": "code",
   "execution_count": null,
   "metadata": {},
   "outputs": [],
   "source": [
    "folium.LayerControl().add_to(map_1)"
   ]
  },
  {
   "cell_type": "code",
   "execution_count": null,
   "metadata": {},
   "outputs": [],
   "source": [
    "map_1"
   ]
  },
  {
   "cell_type": "code",
   "execution_count": null,
   "metadata": {},
   "outputs": [],
   "source": [
    "permitted_parkng_4326.head()"
   ]
  },
  {
   "cell_type": "code",
   "execution_count": null,
   "metadata": {},
   "outputs": [],
   "source": [
    "traj_gdf.head()"
   ]
  },
  {
   "cell_type": "code",
   "execution_count": null,
   "metadata": {},
   "outputs": [],
   "source": [
    "line = permitted_parkng_4326['location_coords'].iloc[1]\n",
    "print(line)"
   ]
  },
  {
   "cell_type": "code",
   "execution_count": null,
   "metadata": {},
   "outputs": [],
   "source": [
    "list(line.coords)"
   ]
  },
  {
   "cell_type": "code",
   "execution_count": null,
   "metadata": {},
   "outputs": [],
   "source": [
    "point = traj_gdf['geometry'].iloc[1]\n",
    "print(point)"
   ]
  },
  {
   "cell_type": "code",
   "execution_count": null,
   "metadata": {},
   "outputs": [],
   "source": [
    "point_coords = point.x, point.y\n",
    "point_coords"
   ]
  },
  {
   "cell_type": "code",
   "execution_count": null,
   "metadata": {},
   "outputs": [],
   "source": [
    "# find distance between point and line\n",
    "dist = line.distance(point)\n",
    "dist"
   ]
  },
  {
   "cell_type": "code",
   "execution_count": null,
   "metadata": {},
   "outputs": [],
   "source": [
    "# find a point on the line nearest to the external point\n",
    "near_point = line.interpolate(line.project(point))"
   ]
  },
  {
   "cell_type": "code",
   "execution_count": null,
   "metadata": {},
   "outputs": [],
   "source": [
    "near_point_coords = near_point.y, near_point.x\n",
    "near_point_coords"
   ]
  },
  {
   "cell_type": "code",
   "execution_count": null,
   "metadata": {},
   "outputs": [],
   "source": []
  },
  {
   "cell_type": "code",
   "execution_count": null,
   "metadata": {},
   "outputs": [],
   "source": [
    "bbox_center = [59.312345, 18.066072] \n",
    "map_2 = folium.Map(location= bbox_center, zoom_start=14,tiles=\"cartodbpositron\" )"
   ]
  },
  {
   "cell_type": "code",
   "execution_count": null,
   "metadata": {},
   "outputs": [],
   "source": [
    "folium.CircleMarker(location= near_point_coords, color = 'red').add_to(map_2)\n",
    "folium.CircleMarker(location= point_coords, color = 'green').add_to(map_2)\n",
    "folium.PolyLine(locations= permitted_parkng_4326['location_coords'], color= 'blue').add_to(map_2)\n"
   ]
  },
  {
   "cell_type": "code",
   "execution_count": null,
   "metadata": {},
   "outputs": [],
   "source": [
    "map_2"
   ]
  },
  {
   "cell_type": "code",
   "execution_count": null,
   "metadata": {},
   "outputs": [],
   "source": []
  },
  {
   "cell_type": "code",
   "execution_count": null,
   "metadata": {},
   "outputs": [],
   "source": []
  }
 ],
 "metadata": {
  "kernelspec": {
   "display_name": "prkng_v2_env",
   "language": "python",
   "name": "python3"
  },
  "language_info": {
   "codemirror_mode": {
    "name": "ipython",
    "version": 3
   },
   "file_extension": ".py",
   "mimetype": "text/x-python",
   "name": "python",
   "nbconvert_exporter": "python",
   "pygments_lexer": "ipython3",
   "version": "3.11.3"
  },
  "orig_nbformat": 4
 },
 "nbformat": 4,
 "nbformat_minor": 2
}
