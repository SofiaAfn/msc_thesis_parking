{
 "cells": [
  {
   "cell_type": "code",
   "execution_count": 1,
   "metadata": {},
   "outputs": [],
   "source": [
    "from helper_functions import *\n",
    "import plotly.graph_objects as go\n",
    "import pandas as pd\n",
    "import wandb"
   ]
  },
  {
   "cell_type": "code",
   "execution_count": 2,
   "metadata": {},
   "outputs": [
    {
     "data": {
      "text/plain": [
       "'01/22_18:23:39'"
      ]
     },
     "execution_count": 2,
     "metadata": {},
     "output_type": "execute_result"
    }
   ],
   "source": [
    "\n",
    "from datetime import datetime\n",
    "now = datetime.now()\n",
    "datetime_str = now.strftime(\"%m/%d_%H:%M:%S\")\n",
    "datetime_str\n",
    "from datetime import datetime\n",
    "now = datetime.now()\n",
    "datetime_str = now.strftime(\"%m/%d_%H:%M:%S\")\n",
    "datetime_str\n"
   ]
  },
  {
   "cell_type": "code",
   "execution_count": 6,
   "metadata": {},
   "outputs": [],
   "source": [
    "\n",
    "# data_df = pd.read_pickle(\"Kris_updated_yolov8.pkl\")\n",
    "data_df = preprocess_data(pd.read_pickle(\"Kris_merged_yolov8.pkl\"))\n",
    "# data_df = preprocess_data(kris_df)\n",
    "# Load current experiment number\n",
    "try:\n",
    "    with open('experiment_counter.txt', 'r') as f:\n",
    "        experiment_num = int(f.read())\n",
    "except:\n",
    "    experiment_num = 1\n",
    "\n",
    "# Increment and save the updated experiment number\n",
    "with open('experiment_8_counter.txt', 'w') as f:\n",
    "    f.write(str(experiment_num + 1))"
   ]
  },
  {
   "cell_type": "code",
   "execution_count": 5,
   "metadata": {},
   "outputs": [
    {
     "data": {
      "text/html": [
       "<div>\n",
       "<style scoped>\n",
       "    .dataframe tbody tr th:only-of-type {\n",
       "        vertical-align: middle;\n",
       "    }\n",
       "\n",
       "    .dataframe tbody tr th {\n",
       "        vertical-align: top;\n",
       "    }\n",
       "\n",
       "    .dataframe thead th {\n",
       "        text-align: right;\n",
       "    }\n",
       "</style>\n",
       "<table border=\"1\" class=\"dataframe\">\n",
       "  <thead>\n",
       "    <tr style=\"text-align: right;\">\n",
       "      <th></th>\n",
       "      <th>timestamp_true</th>\n",
       "      <th>car_count</th>\n",
       "      <th>num_timestamp</th>\n",
       "      <th>month_no</th>\n",
       "      <th>month_name</th>\n",
       "      <th>day</th>\n",
       "      <th>day_of_week</th>\n",
       "      <th>day_of_week_name</th>\n",
       "      <th>is_weekend</th>\n",
       "      <th>hour_of_day</th>\n",
       "      <th>minutes</th>\n",
       "      <th>min_of_day</th>\n",
       "      <th>week_no</th>\n",
       "      <th>combined</th>\n",
       "      <th>centered_car_count</th>\n",
       "    </tr>\n",
       "  </thead>\n",
       "  <tbody>\n",
       "    <tr>\n",
       "      <th>0</th>\n",
       "      <td>2023-06-06 20:36:00</td>\n",
       "      <td>0</td>\n",
       "      <td>28101396</td>\n",
       "      <td>6</td>\n",
       "      <td>June</td>\n",
       "      <td>6</td>\n",
       "      <td>1</td>\n",
       "      <td>Tuesday</td>\n",
       "      <td>0</td>\n",
       "      <td>20</td>\n",
       "      <td>36</td>\n",
       "      <td>1236</td>\n",
       "      <td>1</td>\n",
       "      <td>06062036</td>\n",
       "      <td>-12.493719</td>\n",
       "    </tr>\n",
       "    <tr>\n",
       "      <th>1</th>\n",
       "      <td>2023-06-06 21:06:00</td>\n",
       "      <td>9</td>\n",
       "      <td>28101426</td>\n",
       "      <td>6</td>\n",
       "      <td>June</td>\n",
       "      <td>6</td>\n",
       "      <td>1</td>\n",
       "      <td>Tuesday</td>\n",
       "      <td>0</td>\n",
       "      <td>21</td>\n",
       "      <td>6</td>\n",
       "      <td>1266</td>\n",
       "      <td>1</td>\n",
       "      <td>06062106</td>\n",
       "      <td>-3.493719</td>\n",
       "    </tr>\n",
       "    <tr>\n",
       "      <th>2</th>\n",
       "      <td>2023-06-06 21:37:00</td>\n",
       "      <td>0</td>\n",
       "      <td>28101457</td>\n",
       "      <td>6</td>\n",
       "      <td>June</td>\n",
       "      <td>6</td>\n",
       "      <td>1</td>\n",
       "      <td>Tuesday</td>\n",
       "      <td>0</td>\n",
       "      <td>21</td>\n",
       "      <td>37</td>\n",
       "      <td>1297</td>\n",
       "      <td>1</td>\n",
       "      <td>06062137</td>\n",
       "      <td>-12.493719</td>\n",
       "    </tr>\n",
       "    <tr>\n",
       "      <th>3</th>\n",
       "      <td>2023-06-06 22:07:00</td>\n",
       "      <td>7</td>\n",
       "      <td>28101487</td>\n",
       "      <td>6</td>\n",
       "      <td>June</td>\n",
       "      <td>6</td>\n",
       "      <td>1</td>\n",
       "      <td>Tuesday</td>\n",
       "      <td>0</td>\n",
       "      <td>22</td>\n",
       "      <td>7</td>\n",
       "      <td>1327</td>\n",
       "      <td>1</td>\n",
       "      <td>06062207</td>\n",
       "      <td>-5.493719</td>\n",
       "    </tr>\n",
       "    <tr>\n",
       "      <th>4</th>\n",
       "      <td>2023-06-06 22:37:00</td>\n",
       "      <td>2</td>\n",
       "      <td>28101517</td>\n",
       "      <td>6</td>\n",
       "      <td>June</td>\n",
       "      <td>6</td>\n",
       "      <td>1</td>\n",
       "      <td>Tuesday</td>\n",
       "      <td>0</td>\n",
       "      <td>22</td>\n",
       "      <td>37</td>\n",
       "      <td>1357</td>\n",
       "      <td>1</td>\n",
       "      <td>06062237</td>\n",
       "      <td>-10.493719</td>\n",
       "    </tr>\n",
       "    <tr>\n",
       "      <th>...</th>\n",
       "      <td>...</td>\n",
       "      <td>...</td>\n",
       "      <td>...</td>\n",
       "      <td>...</td>\n",
       "      <td>...</td>\n",
       "      <td>...</td>\n",
       "      <td>...</td>\n",
       "      <td>...</td>\n",
       "      <td>...</td>\n",
       "      <td>...</td>\n",
       "      <td>...</td>\n",
       "      <td>...</td>\n",
       "      <td>...</td>\n",
       "      <td>...</td>\n",
       "      <td>...</td>\n",
       "    </tr>\n",
       "    <tr>\n",
       "      <th>1826</th>\n",
       "      <td>2023-10-30 10:13:00</td>\n",
       "      <td>24</td>\n",
       "      <td>28311013</td>\n",
       "      <td>10</td>\n",
       "      <td>October</td>\n",
       "      <td>30</td>\n",
       "      <td>0</td>\n",
       "      <td>Monday</td>\n",
       "      <td>0</td>\n",
       "      <td>10</td>\n",
       "      <td>13</td>\n",
       "      <td>613</td>\n",
       "      <td>0</td>\n",
       "      <td>10301013</td>\n",
       "      <td>11.506281</td>\n",
       "    </tr>\n",
       "    <tr>\n",
       "      <th>1827</th>\n",
       "      <td>2023-10-30 10:18:00</td>\n",
       "      <td>28</td>\n",
       "      <td>28311018</td>\n",
       "      <td>10</td>\n",
       "      <td>October</td>\n",
       "      <td>30</td>\n",
       "      <td>0</td>\n",
       "      <td>Monday</td>\n",
       "      <td>0</td>\n",
       "      <td>10</td>\n",
       "      <td>18</td>\n",
       "      <td>618</td>\n",
       "      <td>0</td>\n",
       "      <td>10301018</td>\n",
       "      <td>15.506281</td>\n",
       "    </tr>\n",
       "    <tr>\n",
       "      <th>1828</th>\n",
       "      <td>2023-10-30 11:04:00</td>\n",
       "      <td>28</td>\n",
       "      <td>28311064</td>\n",
       "      <td>10</td>\n",
       "      <td>October</td>\n",
       "      <td>30</td>\n",
       "      <td>0</td>\n",
       "      <td>Monday</td>\n",
       "      <td>0</td>\n",
       "      <td>11</td>\n",
       "      <td>4</td>\n",
       "      <td>664</td>\n",
       "      <td>0</td>\n",
       "      <td>10301104</td>\n",
       "      <td>15.506281</td>\n",
       "    </tr>\n",
       "    <tr>\n",
       "      <th>1829</th>\n",
       "      <td>2023-10-30 11:18:00</td>\n",
       "      <td>39</td>\n",
       "      <td>28311078</td>\n",
       "      <td>10</td>\n",
       "      <td>October</td>\n",
       "      <td>30</td>\n",
       "      <td>0</td>\n",
       "      <td>Monday</td>\n",
       "      <td>0</td>\n",
       "      <td>11</td>\n",
       "      <td>18</td>\n",
       "      <td>678</td>\n",
       "      <td>0</td>\n",
       "      <td>10301118</td>\n",
       "      <td>26.506281</td>\n",
       "    </tr>\n",
       "    <tr>\n",
       "      <th>1830</th>\n",
       "      <td>2023-10-30 11:24:00</td>\n",
       "      <td>34</td>\n",
       "      <td>28311084</td>\n",
       "      <td>10</td>\n",
       "      <td>October</td>\n",
       "      <td>30</td>\n",
       "      <td>0</td>\n",
       "      <td>Monday</td>\n",
       "      <td>0</td>\n",
       "      <td>11</td>\n",
       "      <td>24</td>\n",
       "      <td>684</td>\n",
       "      <td>0</td>\n",
       "      <td>10301124</td>\n",
       "      <td>21.506281</td>\n",
       "    </tr>\n",
       "  </tbody>\n",
       "</table>\n",
       "<p>1831 rows × 15 columns</p>\n",
       "</div>"
      ],
      "text/plain": [
       "          timestamp_true  car_count  num_timestamp  month_no month_name  day  \\\n",
       "0    2023-06-06 20:36:00          0       28101396         6       June    6   \n",
       "1    2023-06-06 21:06:00          9       28101426         6       June    6   \n",
       "2    2023-06-06 21:37:00          0       28101457         6       June    6   \n",
       "3    2023-06-06 22:07:00          7       28101487         6       June    6   \n",
       "4    2023-06-06 22:37:00          2       28101517         6       June    6   \n",
       "...                  ...        ...            ...       ...        ...  ...   \n",
       "1826 2023-10-30 10:13:00         24       28311013        10    October   30   \n",
       "1827 2023-10-30 10:18:00         28       28311018        10    October   30   \n",
       "1828 2023-10-30 11:04:00         28       28311064        10    October   30   \n",
       "1829 2023-10-30 11:18:00         39       28311078        10    October   30   \n",
       "1830 2023-10-30 11:24:00         34       28311084        10    October   30   \n",
       "\n",
       "      day_of_week day_of_week_name  is_weekend  hour_of_day  minutes  \\\n",
       "0               1          Tuesday           0           20       36   \n",
       "1               1          Tuesday           0           21        6   \n",
       "2               1          Tuesday           0           21       37   \n",
       "3               1          Tuesday           0           22        7   \n",
       "4               1          Tuesday           0           22       37   \n",
       "...           ...              ...         ...          ...      ...   \n",
       "1826            0           Monday           0           10       13   \n",
       "1827            0           Monday           0           10       18   \n",
       "1828            0           Monday           0           11        4   \n",
       "1829            0           Monday           0           11       18   \n",
       "1830            0           Monday           0           11       24   \n",
       "\n",
       "      min_of_day  week_no  combined  centered_car_count  \n",
       "0           1236        1  06062036          -12.493719  \n",
       "1           1266        1  06062106           -3.493719  \n",
       "2           1297        1  06062137          -12.493719  \n",
       "3           1327        1  06062207           -5.493719  \n",
       "4           1357        1  06062237          -10.493719  \n",
       "...          ...      ...       ...                 ...  \n",
       "1826         613        0  10301013           11.506281  \n",
       "1827         618        0  10301018           15.506281  \n",
       "1828         664        0  10301104           15.506281  \n",
       "1829         678        0  10301118           26.506281  \n",
       "1830         684        0  10301124           21.506281  \n",
       "\n",
       "[1831 rows x 15 columns]"
      ]
     },
     "execution_count": 5,
     "metadata": {},
     "output_type": "execute_result"
    }
   ],
   "source": [
    "kris_df"
   ]
  },
  {
   "cell_type": "code",
   "execution_count": null,
   "metadata": {},
   "outputs": [],
   "source": []
  },
  {
   "cell_type": "markdown",
   "metadata": {},
   "source": [
    "<h2 >EXP 8:  Expanding window Forecast origin cross validation:"
   ]
  },
  {
   "cell_type": "markdown",
   "metadata": {},
   "source": [
    "<h3> define splits\n"
   ]
  },
  {
   "cell_type": "code",
   "execution_count": 7,
   "metadata": {},
   "outputs": [
    {
     "data": {
      "text/plain": [
       "(1464, 0, 367)"
      ]
     },
     "execution_count": 7,
     "metadata": {},
     "output_type": "execute_result"
    }
   ],
   "source": [
    "\n",
    "train,valid ,test = split_data(data_df, train_ratio= 0.8,valid_ratio=0)\n",
    "train.head()\n",
    "len(train),len(valid),len(test)\n"
   ]
  },
  {
   "cell_type": "markdown",
   "metadata": {},
   "source": [
    "\n",
    "<h3> kernel definition\n"
   ]
  },
  {
   "cell_type": "code",
   "execution_count": 8,
   "metadata": {},
   "outputs": [],
   "source": [
    "\n",
    "from sklearn.gaussian_process.kernels import RBF, WhiteKernel, ExpSineSquared, ConstantKernel, Exponentiation as C\n",
    "\n",
    "# RBF kernel with a length scale of 1.0\n",
    "k1 = 1 * RBF(length_scale=0.5, length_scale_bounds=(1e-3, 1e3))\n",
    "\n",
    "# White kernel to account for noise\n",
    "k2 = WhiteKernel(noise_level=1, noise_level_bounds=(1e-10, 1e+1))\n",
    "\n",
    "# Periodic kernel\n",
    "k3 = ExpSineSquared(length_scale=1.0,\n",
    "                    length_scale_bounds=(1e-1, 50) ,\n",
    "                    periodicity=1,\n",
    "                    periodicity_bounds= (1e-1, 50))\n",
    "\n",
    "k4 = k1 * k3\n",
    "# Combined kernel\n",
    "# kernel = k1+k2+k3\n",
    "# kernel = k2 +k4\n",
    "# kernel = k2*k4\n",
    "# kernel = k4 + k3 +k1\n",
    "kernel = (k4 + k2)+k3\n",
    "\n",
    "gpr = GaussianProcessRegressor(kernel=kernel, n_restarts_optimizer= 10)\n",
    "\n"
   ]
  },
  {
   "cell_type": "markdown",
   "metadata": {},
   "source": [
    "\n",
    "<h3> Train,validate, test"
   ]
  },
  {
   "cell_type": "code",
   "execution_count": 22,
   "metadata": {},
   "outputs": [],
   "source": [
    "\n",
    "# datetime_str = now.strftime(\"%m/%d_%H:%M:%S\")\n",
    "\n",
    "\n",
    "# # Initialize wandb run\n",
    "# run = wandb.init(project=\"Expanding_Window_GPR\", name=f\"Expanding_Window_{experiment_num}_feature:hour_of_day\")\n",
    "# # Configuration parameters (this could be extended depending on what you'd like to track)\n",
    "# config = wandb.config\n",
    "# config.ini_train_win_len = 24\n",
    "# config.valid_win_len = 24\n",
    "# config.step_size = 1 # 24 hours or 1 day\n",
    "\n",
    "# # Call the expanding window function\n",
    "# y_pred, y_std, gpr = expanding_window_gpr_process(\n",
    "#                                                 run,\n",
    "#                                                 train,\n",
    "#                                                 gpr,\n",
    "#                                                 test,\n",
    "#                                                 ini_train_win_len=config.ini_train_win_len, \n",
    "#                                                 valid_win_len=config.valid_win_len,\n",
    "#                                                 features='hour_of_day',\n",
    "#                                                 target='centered_car_count',\n",
    "#                                                 agg_func='mean'\n",
    "#                                                 )\n",
    "\n",
    "# # Close the wandb run\n",
    "# wandb.finish()\n"
   ]
  },
  {
   "cell_type": "code",
   "execution_count": null,
   "metadata": {},
   "outputs": [],
   "source": []
  },
  {
   "cell_type": "code",
   "execution_count": 9,
   "metadata": {},
   "outputs": [
    {
     "name": "stderr",
     "output_type": "stream",
     "text": [
      "Failed to detect the name of this notebook, you can set it manually with the WANDB_NOTEBOOK_NAME environment variable to enable code saving.\n",
      "\u001b[34m\u001b[1mwandb\u001b[0m: Currently logged in as: \u001b[33mafn-sy\u001b[0m. Use \u001b[1m`wandb login --relogin`\u001b[0m to force relogin\n"
     ]
    },
    {
     "data": {
      "text/html": [
       "Tracking run with wandb version 0.16.2"
      ],
      "text/plain": [
       "<IPython.core.display.HTML object>"
      ]
     },
     "metadata": {},
     "output_type": "display_data"
    },
    {
     "data": {
      "text/html": [
       "Run data is saved locally in <code>/home/sf_afn/Insync/sofiaa720@gmail.com/Google Drive/masters_thesis/code_v1/msc_parking/univrses/notebooks/wandb/run-20240122_182530-lzl5nz4d</code>"
      ],
      "text/plain": [
       "<IPython.core.display.HTML object>"
      ]
     },
     "metadata": {},
     "output_type": "display_data"
    },
    {
     "data": {
      "text/html": [
       "Syncing run <strong><a href='https://wandb.ai/afn-sy/Expanding_Window_GPR/runs/lzl5nz4d' target=\"_blank\">Expanding_Window_35_feature:week</a></strong> to <a href='https://wandb.ai/afn-sy/Expanding_Window_GPR' target=\"_blank\">Weights & Biases</a> (<a href='https://wandb.me/run' target=\"_blank\">docs</a>)<br/>"
      ],
      "text/plain": [
       "<IPython.core.display.HTML object>"
      ]
     },
     "metadata": {},
     "output_type": "display_data"
    },
    {
     "data": {
      "text/html": [
       " View project at <a href='https://wandb.ai/afn-sy/Expanding_Window_GPR' target=\"_blank\">https://wandb.ai/afn-sy/Expanding_Window_GPR</a>"
      ],
      "text/plain": [
       "<IPython.core.display.HTML object>"
      ]
     },
     "metadata": {},
     "output_type": "display_data"
    },
    {
     "data": {
      "text/html": [
       " View run at <a href='https://wandb.ai/afn-sy/Expanding_Window_GPR/runs/lzl5nz4d' target=\"_blank\">https://wandb.ai/afn-sy/Expanding_Window_GPR/runs/lzl5nz4d</a>"
      ],
      "text/plain": [
       "<IPython.core.display.HTML object>"
      ]
     },
     "metadata": {},
     "output_type": "display_data"
    },
    {
     "name": "stderr",
     "output_type": "stream",
     "text": [
      "Processing expanding window:   1%|▎                                 | 1/120 [00:00<00:17,  6.75it/s]/home/sf_afn/usr_sa/anaconda3/envs/prkng_v2_env/lib/python3.11/site-packages/sklearn/metrics/_regression.py:996: UndefinedMetricWarning:\n",
      "\n",
      "R^2 score is not well-defined with less than two samples.\n",
      "\n",
      "/home/sf_afn/usr_sa/anaconda3/envs/prkng_v2_env/lib/python3.11/site-packages/sklearn/metrics/_regression.py:996: UndefinedMetricWarning:\n",
      "\n",
      "R^2 score is not well-defined with less than two samples.\n",
      "\n",
      "Processing expanding window:   2%|▌                                 | 2/120 [00:00<00:53,  2.20it/s]/home/sf_afn/usr_sa/anaconda3/envs/prkng_v2_env/lib/python3.11/site-packages/sklearn/gaussian_process/kernels.py:419: ConvergenceWarning:\n",
      "\n",
      "The optimal value found for dimension 0 of parameter k2__length_scale is close to the specified lower bound 0.1. Decreasing the bound and calling fit again may find a better value.\n",
      "\n",
      "Processing expanding window:   2%|▊                                 | 3/120 [00:00<00:36,  3.24it/s]"
     ]
    },
    {
     "name": "stdout",
     "output_type": "stream",
     "text": [
      "Step: 1\n"
     ]
    },
    {
     "name": "stderr",
     "output_type": "stream",
     "text": [
      "Processing expanding window:   3%|█▏                                | 4/120 [00:01<00:39,  2.94it/s]"
     ]
    },
    {
     "name": "stdout",
     "output_type": "stream",
     "text": [
      "Step: 2\n"
     ]
    },
    {
     "name": "stderr",
     "output_type": "stream",
     "text": [
      "Processing expanding window:   4%|█▍                                | 5/120 [00:01<00:35,  3.20it/s]/home/sf_afn/usr_sa/anaconda3/envs/prkng_v2_env/lib/python3.11/site-packages/sklearn/metrics/_regression.py:996: UndefinedMetricWarning:\n",
      "\n",
      "R^2 score is not well-defined with less than two samples.\n",
      "\n",
      "/home/sf_afn/usr_sa/anaconda3/envs/prkng_v2_env/lib/python3.11/site-packages/sklearn/metrics/_regression.py:996: UndefinedMetricWarning:\n",
      "\n",
      "R^2 score is not well-defined with less than two samples.\n",
      "\n",
      "Processing expanding window:   6%|█▉                                | 7/120 [00:02<00:35,  3.19it/s]"
     ]
    },
    {
     "name": "stdout",
     "output_type": "stream",
     "text": [
      "Step: 3\n"
     ]
    },
    {
     "name": "stderr",
     "output_type": "stream",
     "text": [
      "Processing expanding window:   7%|██▎                               | 8/120 [00:02<00:42,  2.62it/s]"
     ]
    },
    {
     "name": "stdout",
     "output_type": "stream",
     "text": [
      "Step: 4\n"
     ]
    },
    {
     "name": "stderr",
     "output_type": "stream",
     "text": [
      "/home/sf_afn/usr_sa/anaconda3/envs/prkng_v2_env/lib/python3.11/site-packages/sklearn/gaussian_process/kernels.py:429: ConvergenceWarning:\n",
      "\n",
      "The optimal value found for dimension 0 of parameter k1__k1__k2__length_scale is close to the specified upper bound 50.0. Increasing the bound and calling fit again may find a better value.\n",
      "\n",
      "/home/sf_afn/usr_sa/anaconda3/envs/prkng_v2_env/lib/python3.11/site-packages/sklearn/gaussian_process/kernels.py:419: ConvergenceWarning:\n",
      "\n",
      "The optimal value found for dimension 0 of parameter k1__k2__noise_level is close to the specified lower bound 1e-10. Decreasing the bound and calling fit again may find a better value.\n",
      "\n",
      "/home/sf_afn/usr_sa/anaconda3/envs/prkng_v2_env/lib/python3.11/site-packages/sklearn/gaussian_process/kernels.py:419: ConvergenceWarning:\n",
      "\n",
      "The optimal value found for dimension 0 of parameter k2__periodicity is close to the specified lower bound 0.1. Decreasing the bound and calling fit again may find a better value.\n",
      "\n",
      "Processing expanding window:   8%|██▌                               | 9/120 [00:03<00:36,  3.04it/s]/home/sf_afn/usr_sa/anaconda3/envs/prkng_v2_env/lib/python3.11/site-packages/sklearn/metrics/_regression.py:996: UndefinedMetricWarning:\n",
      "\n",
      "R^2 score is not well-defined with less than two samples.\n",
      "\n",
      "/home/sf_afn/usr_sa/anaconda3/envs/prkng_v2_env/lib/python3.11/site-packages/sklearn/metrics/_regression.py:996: UndefinedMetricWarning:\n",
      "\n",
      "R^2 score is not well-defined with less than two samples.\n",
      "\n",
      "Processing expanding window:   8%|██▊                              | 10/120 [00:03<00:44,  2.45it/s]"
     ]
    },
    {
     "name": "stdout",
     "output_type": "stream",
     "text": [
      "Step: 5\n"
     ]
    },
    {
     "name": "stderr",
     "output_type": "stream",
     "text": [
      "Processing expanding window:  10%|███▎                             | 12/120 [00:04<00:42,  2.53it/s]"
     ]
    },
    {
     "name": "stdout",
     "output_type": "stream",
     "text": [
      "Step: 6\n"
     ]
    },
    {
     "name": "stderr",
     "output_type": "stream",
     "text": [
      "/home/sf_afn/usr_sa/anaconda3/envs/prkng_v2_env/lib/python3.11/site-packages/sklearn/gaussian_process/kernels.py:429: ConvergenceWarning:\n",
      "\n",
      "The optimal value found for dimension 0 of parameter k1__k1__k1__k2__length_scale is close to the specified upper bound 1000.0. Increasing the bound and calling fit again may find a better value.\n",
      "\n",
      "Processing expanding window:  11%|███▌                             | 13/120 [00:04<00:36,  2.93it/s]/home/sf_afn/usr_sa/anaconda3/envs/prkng_v2_env/lib/python3.11/site-packages/sklearn/metrics/_regression.py:996: UndefinedMetricWarning:\n",
      "\n",
      "R^2 score is not well-defined with less than two samples.\n",
      "\n",
      "/home/sf_afn/usr_sa/anaconda3/envs/prkng_v2_env/lib/python3.11/site-packages/sklearn/metrics/_regression.py:996: UndefinedMetricWarning:\n",
      "\n",
      "R^2 score is not well-defined with less than two samples.\n",
      "\n",
      "Processing expanding window:  12%|███▊                             | 14/120 [00:05<00:41,  2.58it/s]"
     ]
    },
    {
     "name": "stdout",
     "output_type": "stream",
     "text": [
      "Step: 7\n"
     ]
    },
    {
     "name": "stderr",
     "output_type": "stream",
     "text": [
      "/home/sf_afn/usr_sa/anaconda3/envs/prkng_v2_env/lib/python3.11/site-packages/sklearn/gaussian_process/kernels.py:429: ConvergenceWarning:\n",
      "\n",
      "The optimal value found for dimension 0 of parameter k1__k1__k1__k2__length_scale is close to the specified upper bound 1000.0. Increasing the bound and calling fit again may find a better value.\n",
      "\n",
      "Processing expanding window:  13%|████▍                            | 16/120 [00:05<00:40,  2.54it/s]"
     ]
    },
    {
     "name": "stdout",
     "output_type": "stream",
     "text": [
      "Step: 8\n"
     ]
    },
    {
     "name": "stderr",
     "output_type": "stream",
     "text": [
      "Processing expanding window:  15%|████▉                            | 18/120 [00:06<00:39,  2.56it/s]"
     ]
    },
    {
     "name": "stdout",
     "output_type": "stream",
     "text": [
      "Step: 9\n"
     ]
    },
    {
     "name": "stderr",
     "output_type": "stream",
     "text": [
      "/home/sf_afn/usr_sa/anaconda3/envs/prkng_v2_env/lib/python3.11/site-packages/sklearn/gaussian_process/kernels.py:429: ConvergenceWarning:\n",
      "\n",
      "The optimal value found for dimension 0 of parameter k1__k1__k1__k2__length_scale is close to the specified upper bound 1000.0. Increasing the bound and calling fit again may find a better value.\n",
      "\n",
      "Processing expanding window:  16%|█████▏                           | 19/120 [00:06<00:39,  2.54it/s]/home/sf_afn/usr_sa/anaconda3/envs/prkng_v2_env/lib/python3.11/site-packages/sklearn/metrics/_regression.py:996: UndefinedMetricWarning:\n",
      "\n",
      "R^2 score is not well-defined with less than two samples.\n",
      "\n",
      "/home/sf_afn/usr_sa/anaconda3/envs/prkng_v2_env/lib/python3.11/site-packages/sklearn/metrics/_regression.py:996: UndefinedMetricWarning:\n",
      "\n",
      "R^2 score is not well-defined with less than two samples.\n",
      "\n",
      "Processing expanding window:  17%|█████▌                           | 20/120 [00:07<00:42,  2.36it/s]"
     ]
    },
    {
     "name": "stdout",
     "output_type": "stream",
     "text": [
      "Step: 10\n"
     ]
    },
    {
     "name": "stderr",
     "output_type": "stream",
     "text": [
      "/home/sf_afn/usr_sa/anaconda3/envs/prkng_v2_env/lib/python3.11/site-packages/sklearn/gaussian_process/kernels.py:429: ConvergenceWarning:\n",
      "\n",
      "The optimal value found for dimension 0 of parameter k1__k1__k1__k2__length_scale is close to the specified upper bound 1000.0. Increasing the bound and calling fit again may find a better value.\n",
      "\n",
      "Processing expanding window:  18%|██████                           | 22/120 [00:08<00:41,  2.39it/s]"
     ]
    },
    {
     "name": "stdout",
     "output_type": "stream",
     "text": [
      "Step: 11\n"
     ]
    },
    {
     "name": "stderr",
     "output_type": "stream",
     "text": [
      "Processing expanding window:  20%|██████▌                          | 24/120 [00:10<01:14,  1.29it/s]"
     ]
    },
    {
     "name": "stdout",
     "output_type": "stream",
     "text": [
      "Step: 12\n"
     ]
    },
    {
     "name": "stderr",
     "output_type": "stream",
     "text": [
      "/home/sf_afn/usr_sa/anaconda3/envs/prkng_v2_env/lib/python3.11/site-packages/sklearn/gaussian_process/kernels.py:429: ConvergenceWarning:\n",
      "\n",
      "The optimal value found for dimension 0 of parameter k1__k1__k1__k2__length_scale is close to the specified upper bound 1000.0. Increasing the bound and calling fit again may find a better value.\n",
      "\n",
      "Processing expanding window:  22%|███████▏                         | 26/120 [00:11<00:55,  1.69it/s]/home/sf_afn/usr_sa/anaconda3/envs/prkng_v2_env/lib/python3.11/site-packages/sklearn/gaussian_process/kernels.py:429: ConvergenceWarning:\n",
      "\n",
      "The optimal value found for dimension 0 of parameter k1__k1__k2__periodicity is close to the specified upper bound 50.0. Increasing the bound and calling fit again may find a better value.\n",
      "\n",
      "Processing expanding window:  22%|███████▍                         | 27/120 [00:11<00:44,  2.11it/s]"
     ]
    },
    {
     "name": "stdout",
     "output_type": "stream",
     "text": [
      "Step: 13\n"
     ]
    },
    {
     "name": "stderr",
     "output_type": "stream",
     "text": [
      "Processing expanding window:  23%|███████▋                         | 28/120 [00:11<00:40,  2.26it/s]"
     ]
    },
    {
     "name": "stdout",
     "output_type": "stream",
     "text": [
      "Step: 14\n"
     ]
    },
    {
     "name": "stderr",
     "output_type": "stream",
     "text": [
      "/home/sf_afn/usr_sa/anaconda3/envs/prkng_v2_env/lib/python3.11/site-packages/sklearn/gaussian_process/kernels.py:429: ConvergenceWarning:\n",
      "\n",
      "The optimal value found for dimension 0 of parameter k1__k1__k2__length_scale is close to the specified upper bound 50.0. Increasing the bound and calling fit again may find a better value.\n",
      "\n",
      "/home/sf_afn/usr_sa/anaconda3/envs/prkng_v2_env/lib/python3.11/site-packages/sklearn/gaussian_process/kernels.py:429: ConvergenceWarning:\n",
      "\n",
      "The optimal value found for dimension 0 of parameter k1__k1__k2__periodicity is close to the specified upper bound 50.0. Increasing the bound and calling fit again may find a better value.\n",
      "\n",
      "Processing expanding window:  25%|████████▎                        | 30/120 [00:12<00:34,  2.61it/s]/home/sf_afn/usr_sa/anaconda3/envs/prkng_v2_env/lib/python3.11/site-packages/sklearn/gaussian_process/kernels.py:429: ConvergenceWarning:\n",
      "\n",
      "The optimal value found for dimension 0 of parameter k1__k1__k1__k2__length_scale is close to the specified upper bound 1000.0. Increasing the bound and calling fit again may find a better value.\n",
      "\n",
      "Processing expanding window:  26%|████████▌                        | 31/120 [00:12<00:28,  3.09it/s]"
     ]
    },
    {
     "name": "stdout",
     "output_type": "stream",
     "text": [
      "Step: 15\n"
     ]
    },
    {
     "name": "stderr",
     "output_type": "stream",
     "text": [
      "/home/sf_afn/usr_sa/anaconda3/envs/prkng_v2_env/lib/python3.11/site-packages/sklearn/metrics/_regression.py:996: UndefinedMetricWarning:\n",
      "\n",
      "R^2 score is not well-defined with less than two samples.\n",
      "\n",
      "/home/sf_afn/usr_sa/anaconda3/envs/prkng_v2_env/lib/python3.11/site-packages/sklearn/metrics/_regression.py:996: UndefinedMetricWarning:\n",
      "\n",
      "R^2 score is not well-defined with less than two samples.\n",
      "\n",
      "Processing expanding window:  27%|████████▊                        | 32/120 [00:12<00:29,  3.01it/s]"
     ]
    },
    {
     "name": "stdout",
     "output_type": "stream",
     "text": [
      "Step: 16\n"
     ]
    },
    {
     "name": "stderr",
     "output_type": "stream",
     "text": [
      "/home/sf_afn/usr_sa/anaconda3/envs/prkng_v2_env/lib/python3.11/site-packages/sklearn/gaussian_process/kernels.py:429: ConvergenceWarning:\n",
      "\n",
      "The optimal value found for dimension 0 of parameter k1__k1__k1__k2__length_scale is close to the specified upper bound 1000.0. Increasing the bound and calling fit again may find a better value.\n",
      "\n",
      "Processing expanding window:  28%|█████████▎                       | 34/120 [00:13<00:27,  3.08it/s]/home/sf_afn/usr_sa/anaconda3/envs/prkng_v2_env/lib/python3.11/site-packages/sklearn/gaussian_process/kernels.py:429: ConvergenceWarning:\n",
      "\n",
      "The optimal value found for dimension 0 of parameter k1__k1__k1__k2__length_scale is close to the specified upper bound 1000.0. Increasing the bound and calling fit again may find a better value.\n",
      "\n"
     ]
    },
    {
     "name": "stdout",
     "output_type": "stream",
     "text": [
      "Step: 17\n"
     ]
    },
    {
     "name": "stderr",
     "output_type": "stream",
     "text": [
      "Processing expanding window:  30%|█████████▉                       | 36/120 [00:13<00:26,  3.17it/s]"
     ]
    },
    {
     "name": "stdout",
     "output_type": "stream",
     "text": [
      "Step: 18\n"
     ]
    },
    {
     "name": "stderr",
     "output_type": "stream",
     "text": [
      "/home/sf_afn/usr_sa/anaconda3/envs/prkng_v2_env/lib/python3.11/site-packages/sklearn/gaussian_process/kernels.py:429: ConvergenceWarning:\n",
      "\n",
      "The optimal value found for dimension 0 of parameter k1__k1__k1__k2__length_scale is close to the specified upper bound 1000.0. Increasing the bound and calling fit again may find a better value.\n",
      "\n",
      "Processing expanding window:  31%|██████████▏                      | 37/120 [00:14<00:27,  2.96it/s]/home/sf_afn/usr_sa/anaconda3/envs/prkng_v2_env/lib/python3.11/site-packages/sklearn/metrics/_regression.py:996: UndefinedMetricWarning:\n",
      "\n",
      "R^2 score is not well-defined with less than two samples.\n",
      "\n",
      "/home/sf_afn/usr_sa/anaconda3/envs/prkng_v2_env/lib/python3.11/site-packages/sklearn/metrics/_regression.py:996: UndefinedMetricWarning:\n",
      "\n",
      "R^2 score is not well-defined with less than two samples.\n",
      "\n",
      "Processing expanding window:  32%|██████████▍                      | 38/120 [00:16<01:23,  1.02s/it]"
     ]
    },
    {
     "name": "stdout",
     "output_type": "stream",
     "text": [
      "Step: 19\n"
     ]
    },
    {
     "name": "stderr",
     "output_type": "stream",
     "text": [
      "/home/sf_afn/usr_sa/anaconda3/envs/prkng_v2_env/lib/python3.11/site-packages/sklearn/gaussian_process/kernels.py:429: ConvergenceWarning:\n",
      "\n",
      "The optimal value found for dimension 0 of parameter k1__k1__k1__k2__length_scale is close to the specified upper bound 1000.0. Increasing the bound and calling fit again may find a better value.\n",
      "\n",
      "Processing expanding window:  32%|██████████▋                      | 39/120 [00:17<01:06,  1.22it/s]\u001b[34m\u001b[1mwandb\u001b[0m: Network error (ConnectionError), entering retry loop.\n",
      "Processing expanding window:  33%|███████████                      | 40/120 [00:29<05:29,  4.11s/it]"
     ]
    },
    {
     "name": "stdout",
     "output_type": "stream",
     "text": [
      "Step: 20\n"
     ]
    },
    {
     "name": "stderr",
     "output_type": "stream",
     "text": [
      "Processing expanding window:  34%|███████████▎                     | 41/120 [00:29<03:53,  2.95s/it]\u001b[34m\u001b[1mwandb\u001b[0m: Network error resolved after 0:00:01.135769, resuming normal operation.\n",
      "\u001b[34m\u001b[1mwandb\u001b[0m: Network error (ConnectionError), entering retry loop.\n",
      "wandb: Network error (TransientError), entering retry loop.\n",
      "Processing expanding window:  35%|███████████▌                     | 42/120 [00:46<09:17,  7.14s/it]"
     ]
    },
    {
     "name": "stdout",
     "output_type": "stream",
     "text": [
      "Step: 21\n"
     ]
    },
    {
     "name": "stderr",
     "output_type": "stream",
     "text": [
      "Processing expanding window:  37%|████████████                     | 44/120 [00:51<06:20,  5.01s/it]"
     ]
    },
    {
     "name": "stdout",
     "output_type": "stream",
     "text": [
      "Step: 22\n"
     ]
    },
    {
     "name": "stderr",
     "output_type": "stream",
     "text": [
      "Processing expanding window:  38%|████████████▍                    | 45/120 [00:51<04:32,  3.63s/it]/home/sf_afn/usr_sa/anaconda3/envs/prkng_v2_env/lib/python3.11/site-packages/sklearn/metrics/_regression.py:996: UndefinedMetricWarning:\n",
      "\n",
      "R^2 score is not well-defined with less than two samples.\n",
      "\n",
      "/home/sf_afn/usr_sa/anaconda3/envs/prkng_v2_env/lib/python3.11/site-packages/sklearn/metrics/_regression.py:996: UndefinedMetricWarning:\n",
      "\n",
      "R^2 score is not well-defined with less than two samples.\n",
      "\n",
      "Processing expanding window:  38%|████████████▋                    | 46/120 [00:52<03:15,  2.65s/it]"
     ]
    },
    {
     "name": "stdout",
     "output_type": "stream",
     "text": [
      "Step: 23\n"
     ]
    },
    {
     "name": "stderr",
     "output_type": "stream",
     "text": [
      "/home/sf_afn/usr_sa/anaconda3/envs/prkng_v2_env/lib/python3.11/site-packages/sklearn/gaussian_process/kernels.py:429: ConvergenceWarning:\n",
      "\n",
      "The optimal value found for dimension 0 of parameter k1__k1__k2__length_scale is close to the specified upper bound 50.0. Increasing the bound and calling fit again may find a better value.\n",
      "\n",
      "Processing expanding window:  40%|█████████████▏                   | 48/120 [00:53<01:50,  1.54s/it]"
     ]
    },
    {
     "name": "stdout",
     "output_type": "stream",
     "text": [
      "Step: 24\n"
     ]
    },
    {
     "name": "stderr",
     "output_type": "stream",
     "text": [
      "/home/sf_afn/usr_sa/anaconda3/envs/prkng_v2_env/lib/python3.11/site-packages/sklearn/gaussian_process/kernels.py:429: ConvergenceWarning:\n",
      "\n",
      "The optimal value found for dimension 0 of parameter k1__k1__k2__length_scale is close to the specified upper bound 50.0. Increasing the bound and calling fit again may find a better value.\n",
      "\n",
      "Processing expanding window:  41%|█████████████▍                   | 49/120 [00:53<01:25,  1.20s/it]/home/sf_afn/usr_sa/anaconda3/envs/prkng_v2_env/lib/python3.11/site-packages/sklearn/metrics/_regression.py:996: UndefinedMetricWarning:\n",
      "\n",
      "R^2 score is not well-defined with less than two samples.\n",
      "\n",
      "/home/sf_afn/usr_sa/anaconda3/envs/prkng_v2_env/lib/python3.11/site-packages/sklearn/metrics/_regression.py:996: UndefinedMetricWarning:\n",
      "\n",
      "R^2 score is not well-defined with less than two samples.\n",
      "\n",
      "Processing expanding window:  42%|█████████████▊                   | 50/120 [00:55<01:30,  1.29s/it]"
     ]
    },
    {
     "name": "stdout",
     "output_type": "stream",
     "text": [
      "Step: 25\n"
     ]
    },
    {
     "name": "stderr",
     "output_type": "stream",
     "text": [
      "Processing expanding window:  42%|██████████████                   | 51/120 [00:55<01:08,  1.01it/s]\u001b[34m\u001b[1mwandb\u001b[0m: Network error (ConnectionError), entering retry loop.\n",
      "wandb: Network error (ConnectionError), entering retry loop.\n",
      "Processing expanding window:  43%|██████████████▎                  | 52/120 [01:13<07:02,  6.22s/it]"
     ]
    },
    {
     "name": "stdout",
     "output_type": "stream",
     "text": [
      "Step: 26\n"
     ]
    },
    {
     "name": "stderr",
     "output_type": "stream",
     "text": [
      "/home/sf_afn/usr_sa/anaconda3/envs/prkng_v2_env/lib/python3.11/site-packages/sklearn/gaussian_process/kernels.py:429: ConvergenceWarning:\n",
      "\n",
      "The optimal value found for dimension 0 of parameter k1__k1__k2__length_scale is close to the specified upper bound 50.0. Increasing the bound and calling fit again may find a better value.\n",
      "\n",
      "/home/sf_afn/usr_sa/anaconda3/envs/prkng_v2_env/lib/python3.11/site-packages/sklearn/gaussian_process/kernels.py:429: ConvergenceWarning:\n",
      "\n",
      "The optimal value found for dimension 0 of parameter k1__k1__k2__periodicity is close to the specified upper bound 50.0. Increasing the bound and calling fit again may find a better value.\n",
      "\n",
      "/home/sf_afn/usr_sa/anaconda3/envs/prkng_v2_env/lib/python3.11/site-packages/sklearn/gaussian_process/kernels.py:419: ConvergenceWarning:\n",
      "\n",
      "The optimal value found for dimension 0 of parameter k1__k2__noise_level is close to the specified lower bound 1e-10. Decreasing the bound and calling fit again may find a better value.\n",
      "\n",
      "Processing expanding window:  44%|██████████████▌                  | 53/120 [01:14<04:59,  4.46s/it]/home/sf_afn/usr_sa/anaconda3/envs/prkng_v2_env/lib/python3.11/site-packages/sklearn/metrics/_regression.py:996: UndefinedMetricWarning:\n",
      "\n",
      "R^2 score is not well-defined with less than two samples.\n",
      "\n",
      "/home/sf_afn/usr_sa/anaconda3/envs/prkng_v2_env/lib/python3.11/site-packages/sklearn/metrics/_regression.py:996: UndefinedMetricWarning:\n",
      "\n",
      "R^2 score is not well-defined with less than two samples.\n",
      "\n",
      "Processing expanding window:  45%|██████████████▊                  | 54/120 [01:21<05:59,  5.44s/it]"
     ]
    },
    {
     "name": "stdout",
     "output_type": "stream",
     "text": [
      "Step: 27\n"
     ]
    },
    {
     "name": "stderr",
     "output_type": "stream",
     "text": [
      "Processing expanding window:  47%|███████████████▍                 | 56/120 [01:25<04:08,  3.89s/it]"
     ]
    },
    {
     "name": "stdout",
     "output_type": "stream",
     "text": [
      "Step: 28\n"
     ]
    },
    {
     "name": "stderr",
     "output_type": "stream",
     "text": [
      "/home/sf_afn/usr_sa/anaconda3/envs/prkng_v2_env/lib/python3.11/site-packages/sklearn/gaussian_process/kernels.py:419: ConvergenceWarning:\n",
      "\n",
      "The optimal value found for dimension 0 of parameter k1__k2__noise_level is close to the specified lower bound 1e-10. Decreasing the bound and calling fit again may find a better value.\n",
      "\n",
      "Processing expanding window:  48%|███████████████▋                 | 57/120 [01:26<03:01,  2.88s/it]/home/sf_afn/usr_sa/anaconda3/envs/prkng_v2_env/lib/python3.11/site-packages/sklearn/metrics/_regression.py:996: UndefinedMetricWarning:\n",
      "\n",
      "R^2 score is not well-defined with less than two samples.\n",
      "\n",
      "/home/sf_afn/usr_sa/anaconda3/envs/prkng_v2_env/lib/python3.11/site-packages/sklearn/metrics/_regression.py:996: UndefinedMetricWarning:\n",
      "\n",
      "R^2 score is not well-defined with less than two samples.\n",
      "\n",
      "Processing expanding window:  48%|███████████████▉                 | 58/120 [01:30<03:11,  3.09s/it]"
     ]
    },
    {
     "name": "stdout",
     "output_type": "stream",
     "text": [
      "Step: 29\n"
     ]
    },
    {
     "name": "stderr",
     "output_type": "stream",
     "text": [
      "Processing expanding window:  49%|████████████████▏                | 59/120 [01:30<02:22,  2.34s/it]\u001b[34m\u001b[1mwandb\u001b[0m: Network error (ConnectionError), entering retry loop.\n",
      "Processing expanding window:  50%|████████████████▌                | 60/120 [01:48<07:07,  7.12s/it]"
     ]
    },
    {
     "name": "stdout",
     "output_type": "stream",
     "text": [
      "Step: 30\n"
     ]
    },
    {
     "name": "stderr",
     "output_type": "stream",
     "text": [
      "/home/sf_afn/usr_sa/anaconda3/envs/prkng_v2_env/lib/python3.11/site-packages/sklearn/gaussian_process/kernels.py:429: ConvergenceWarning:\n",
      "\n",
      "The optimal value found for dimension 0 of parameter k1__k1__k2__periodicity is close to the specified upper bound 50.0. Increasing the bound and calling fit again may find a better value.\n",
      "\n",
      "Processing expanding window:  51%|████████████████▊                | 61/120 [01:49<05:00,  5.10s/it]\u001b[34m\u001b[1mwandb\u001b[0m: Network error (ConnectionError), entering retry loop.\n",
      "Processing expanding window:  52%|█████████████████                | 62/120 [01:58<06:11,  6.41s/it]"
     ]
    },
    {
     "name": "stdout",
     "output_type": "stream",
     "text": [
      "Step: 31\n"
     ]
    },
    {
     "name": "stderr",
     "output_type": "stream",
     "text": [
      "/home/sf_afn/usr_sa/anaconda3/envs/prkng_v2_env/lib/python3.11/site-packages/sklearn/gaussian_process/kernels.py:419: ConvergenceWarning:\n",
      "\n",
      "The optimal value found for dimension 0 of parameter k2__length_scale is close to the specified lower bound 0.1. Decreasing the bound and calling fit again may find a better value.\n",
      "\n",
      "Processing expanding window:  52%|█████████████████▎               | 63/120 [01:59<04:21,  4.58s/it]\u001b[34m\u001b[1mwandb\u001b[0m: Network error (ConnectionError), entering retry loop.\n",
      "/home/sf_afn/usr_sa/anaconda3/envs/prkng_v2_env/lib/python3.11/site-packages/sklearn/metrics/_regression.py:996: UndefinedMetricWarning:\n",
      "\n",
      "R^2 score is not well-defined with less than two samples.\n",
      "\n",
      "/home/sf_afn/usr_sa/anaconda3/envs/prkng_v2_env/lib/python3.11/site-packages/sklearn/metrics/_regression.py:996: UndefinedMetricWarning:\n",
      "\n",
      "R^2 score is not well-defined with less than two samples.\n",
      "\n",
      "Processing expanding window:  53%|█████████████████▌               | 64/120 [02:10<06:04,  6.50s/it]"
     ]
    },
    {
     "name": "stdout",
     "output_type": "stream",
     "text": [
      "Step: 32\n"
     ]
    },
    {
     "name": "stderr",
     "output_type": "stream",
     "text": [
      "Processing expanding window:  55%|██████████████████▏              | 66/120 [02:10<03:03,  3.39s/it]"
     ]
    },
    {
     "name": "stdout",
     "output_type": "stream",
     "text": [
      "Step: 33\n"
     ]
    },
    {
     "name": "stderr",
     "output_type": "stream",
     "text": [
      "/home/sf_afn/usr_sa/anaconda3/envs/prkng_v2_env/lib/python3.11/site-packages/sklearn/gaussian_process/kernels.py:429: ConvergenceWarning:\n",
      "\n",
      "The optimal value found for dimension 0 of parameter k1__k1__k1__k2__length_scale is close to the specified upper bound 1000.0. Increasing the bound and calling fit again may find a better value.\n",
      "\n",
      "Processing expanding window:  56%|██████████████████▍              | 67/120 [02:11<02:11,  2.48s/it]\u001b[34m\u001b[1mwandb\u001b[0m: Network error (ConnectionError), entering retry loop.\n",
      "\u001b[34m\u001b[1mwandb\u001b[0m: Network error resolved after 0:00:01.185430, resuming normal operation.\n",
      "/home/sf_afn/usr_sa/anaconda3/envs/prkng_v2_env/lib/python3.11/site-packages/sklearn/metrics/_regression.py:996: UndefinedMetricWarning:\n",
      "\n",
      "R^2 score is not well-defined with less than two samples.\n",
      "\n",
      "/home/sf_afn/usr_sa/anaconda3/envs/prkng_v2_env/lib/python3.11/site-packages/sklearn/metrics/_regression.py:996: UndefinedMetricWarning:\n",
      "\n",
      "R^2 score is not well-defined with less than two samples.\n",
      "\n",
      "Processing expanding window:  57%|██████████████████▋              | 68/120 [02:29<06:14,  7.19s/it]"
     ]
    },
    {
     "name": "stdout",
     "output_type": "stream",
     "text": [
      "Step: 34\n"
     ]
    },
    {
     "name": "stderr",
     "output_type": "stream",
     "text": [
      "/home/sf_afn/usr_sa/anaconda3/envs/prkng_v2_env/lib/python3.11/site-packages/sklearn/gaussian_process/kernels.py:429: ConvergenceWarning:\n",
      "\n",
      "The optimal value found for dimension 0 of parameter k1__k1__k2__length_scale is close to the specified upper bound 50.0. Increasing the bound and calling fit again may find a better value.\n",
      "\n",
      "Processing expanding window:  57%|██████████████████▉              | 69/120 [02:29<04:23,  5.17s/it]/home/sf_afn/usr_sa/anaconda3/envs/prkng_v2_env/lib/python3.11/site-packages/sklearn/metrics/_regression.py:996: UndefinedMetricWarning:\n",
      "\n",
      "R^2 score is not well-defined with less than two samples.\n",
      "\n",
      "/home/sf_afn/usr_sa/anaconda3/envs/prkng_v2_env/lib/python3.11/site-packages/sklearn/metrics/_regression.py:996: UndefinedMetricWarning:\n",
      "\n",
      "R^2 score is not well-defined with less than two samples.\n",
      "\n",
      "Processing expanding window:  58%|███████████████████▎             | 70/120 [02:30<03:10,  3.81s/it]"
     ]
    },
    {
     "name": "stdout",
     "output_type": "stream",
     "text": [
      "Step: 35\n"
     ]
    },
    {
     "name": "stderr",
     "output_type": "stream",
     "text": [
      "Processing expanding window:  59%|███████████████████▌             | 71/120 [02:30<02:16,  2.78s/it]/home/sf_afn/usr_sa/anaconda3/envs/prkng_v2_env/lib/python3.11/site-packages/sklearn/metrics/_regression.py:996: UndefinedMetricWarning:\n",
      "\n",
      "R^2 score is not well-defined with less than two samples.\n",
      "\n",
      "/home/sf_afn/usr_sa/anaconda3/envs/prkng_v2_env/lib/python3.11/site-packages/sklearn/metrics/_regression.py:996: UndefinedMetricWarning:\n",
      "\n",
      "R^2 score is not well-defined with less than two samples.\n",
      "\n",
      "Processing expanding window:  60%|███████████████████▊             | 72/120 [02:34<02:30,  3.13s/it]"
     ]
    },
    {
     "name": "stdout",
     "output_type": "stream",
     "text": [
      "Step: 36\n"
     ]
    },
    {
     "name": "stderr",
     "output_type": "stream",
     "text": [
      "Processing expanding window:  61%|████████████████████             | 73/120 [02:35<01:48,  2.31s/it]\u001b[34m\u001b[1mwandb\u001b[0m: Network error (ConnectionError), entering retry loop.\n",
      "\u001b[34m\u001b[1mwandb\u001b[0m: Network error (ConnectionError), entering retry loop.\n",
      "Processing expanding window:  62%|████████████████████▎            | 74/120 [03:09<09:09, 11.96s/it]"
     ]
    },
    {
     "name": "stdout",
     "output_type": "stream",
     "text": [
      "Step: 37\n"
     ]
    },
    {
     "name": "stderr",
     "output_type": "stream",
     "text": [
      "Processing expanding window:  62%|████████████████████▋            | 75/120 [03:09<06:20,  8.45s/it]/home/sf_afn/usr_sa/anaconda3/envs/prkng_v2_env/lib/python3.11/site-packages/sklearn/metrics/_regression.py:996: UndefinedMetricWarning:\n",
      "\n",
      "R^2 score is not well-defined with less than two samples.\n",
      "\n",
      "/home/sf_afn/usr_sa/anaconda3/envs/prkng_v2_env/lib/python3.11/site-packages/sklearn/metrics/_regression.py:996: UndefinedMetricWarning:\n",
      "\n",
      "R^2 score is not well-defined with less than two samples.\n",
      "\n",
      "Processing expanding window:  63%|████████████████████▉            | 76/120 [03:14<05:21,  7.31s/it]"
     ]
    },
    {
     "name": "stdout",
     "output_type": "stream",
     "text": [
      "Step: 38\n"
     ]
    },
    {
     "name": "stderr",
     "output_type": "stream",
     "text": [
      "Processing expanding window:  65%|█████████████████████▍           | 78/120 [03:19<03:31,  5.04s/it]"
     ]
    },
    {
     "name": "stdout",
     "output_type": "stream",
     "text": [
      "Step: 39\n"
     ]
    },
    {
     "name": "stderr",
     "output_type": "stream",
     "text": [
      "Processing expanding window:  66%|█████████████████████▋           | 79/120 [03:19<02:29,  3.65s/it]\u001b[34m\u001b[1mwandb\u001b[0m: Network error (ConnectionError), entering retry loop.\n",
      "Processing expanding window:  68%|██████████████████████▎          | 81/120 [03:54<05:55,  9.13s/it]"
     ]
    },
    {
     "name": "stdout",
     "output_type": "stream",
     "text": [
      "Step: 40\n"
     ]
    },
    {
     "name": "stderr",
     "output_type": "stream",
     "text": [
      "Processing expanding window:  68%|██████████████████████▌          | 82/120 [03:55<04:06,  6.50s/it]"
     ]
    },
    {
     "name": "stdout",
     "output_type": "stream",
     "text": [
      "Step: 41\n"
     ]
    },
    {
     "name": "stderr",
     "output_type": "stream",
     "text": [
      "Processing expanding window:  69%|██████████████████████▊          | 83/120 [03:55<02:51,  4.62s/it]\u001b[34m\u001b[1mwandb\u001b[0m: Network error (ConnectionError), entering retry loop.\n",
      "\u001b[34m\u001b[1mwandb\u001b[0m: Network error resolved after 0:00:01.193715, resuming normal operation.\n",
      "Processing expanding window:  70%|███████████████████████          | 84/120 [04:03<03:24,  5.68s/it]"
     ]
    },
    {
     "name": "stdout",
     "output_type": "stream",
     "text": [
      "Step: 42\n"
     ]
    },
    {
     "name": "stderr",
     "output_type": "stream",
     "text": [
      "Processing expanding window:  72%|███████████████████████▋         | 86/120 [04:04<01:40,  2.95s/it]"
     ]
    },
    {
     "name": "stdout",
     "output_type": "stream",
     "text": [
      "Step: 43\n"
     ]
    },
    {
     "name": "stderr",
     "output_type": "stream",
     "text": [
      "/home/sf_afn/usr_sa/anaconda3/envs/prkng_v2_env/lib/python3.11/site-packages/sklearn/gaussian_process/kernels.py:429: ConvergenceWarning:\n",
      "\n",
      "The optimal value found for dimension 0 of parameter k1__k1__k1__k2__length_scale is close to the specified upper bound 1000.0. Increasing the bound and calling fit again may find a better value.\n",
      "\n",
      "Processing expanding window:  72%|███████████████████████▉         | 87/120 [04:04<01:10,  2.15s/it]\u001b[34m\u001b[1mwandb\u001b[0m: Network error (ConnectionError), entering retry loop.\n",
      "/home/sf_afn/usr_sa/anaconda3/envs/prkng_v2_env/lib/python3.11/site-packages/sklearn/metrics/_regression.py:996: UndefinedMetricWarning:\n",
      "\n",
      "R^2 score is not well-defined with less than two samples.\n",
      "\n",
      "/home/sf_afn/usr_sa/anaconda3/envs/prkng_v2_env/lib/python3.11/site-packages/sklearn/metrics/_regression.py:996: UndefinedMetricWarning:\n",
      "\n",
      "R^2 score is not well-defined with less than two samples.\n",
      "\n",
      "Processing expanding window:  73%|████████████████████████▏        | 88/120 [04:42<06:50, 12.82s/it]"
     ]
    },
    {
     "name": "stdout",
     "output_type": "stream",
     "text": [
      "Step: 44\n"
     ]
    },
    {
     "name": "stderr",
     "output_type": "stream",
     "text": [
      "Processing expanding window:  75%|████████████████████████▊        | 90/120 [04:46<03:43,  7.46s/it]"
     ]
    },
    {
     "name": "stdout",
     "output_type": "stream",
     "text": [
      "Step: 45\n"
     ]
    },
    {
     "name": "stderr",
     "output_type": "stream",
     "text": [
      "/home/sf_afn/usr_sa/anaconda3/envs/prkng_v2_env/lib/python3.11/site-packages/sklearn/gaussian_process/kernels.py:429: ConvergenceWarning:\n",
      "\n",
      "The optimal value found for dimension 0 of parameter k2__periodicity is close to the specified upper bound 50.0. Increasing the bound and calling fit again may find a better value.\n",
      "\n",
      "Processing expanding window:  76%|█████████████████████████        | 91/120 [04:46<02:34,  5.32s/it]\u001b[34m\u001b[1mwandb\u001b[0m: Network error (ConnectionError), entering retry loop.\n",
      "Processing expanding window:  77%|█████████████████████████▎       | 92/120 [04:54<02:49,  6.04s/it]"
     ]
    },
    {
     "name": "stdout",
     "output_type": "stream",
     "text": [
      "Step: 46\n"
     ]
    },
    {
     "name": "stderr",
     "output_type": "stream",
     "text": [
      "Processing expanding window:  78%|█████████████████████████▌       | 93/120 [04:54<01:56,  4.31s/it]\u001b[34m\u001b[1mwandb\u001b[0m: Network error (ConnectionError), entering retry loop.\n",
      "/home/sf_afn/usr_sa/anaconda3/envs/prkng_v2_env/lib/python3.11/site-packages/sklearn/metrics/_regression.py:996: UndefinedMetricWarning:\n",
      "\n",
      "R^2 score is not well-defined with less than two samples.\n",
      "\n",
      "\u001b[34m\u001b[1mwandb\u001b[0m: Network error (ConnectionError), entering retry loop.\n",
      "/home/sf_afn/usr_sa/anaconda3/envs/prkng_v2_env/lib/python3.11/site-packages/sklearn/metrics/_regression.py:996: UndefinedMetricWarning:\n",
      "\n",
      "R^2 score is not well-defined with less than two samples.\n",
      "\n",
      "Processing expanding window:  78%|█████████████████████████▊       | 94/120 [05:46<08:05, 18.66s/it]"
     ]
    },
    {
     "name": "stdout",
     "output_type": "stream",
     "text": [
      "Step: 47\n"
     ]
    },
    {
     "name": "stderr",
     "output_type": "stream",
     "text": [
      "Processing expanding window:  80%|██████████████████████████▍      | 96/120 [05:48<03:52,  9.67s/it]"
     ]
    },
    {
     "name": "stdout",
     "output_type": "stream",
     "text": [
      "Step: 48\n"
     ]
    },
    {
     "name": "stderr",
     "output_type": "stream",
     "text": [
      "Processing expanding window:  81%|██████████████████████████▋      | 97/120 [05:48<02:37,  6.84s/it]\u001b[34m\u001b[1mwandb\u001b[0m: Network error (ConnectionError), entering retry loop.\n",
      "/home/sf_afn/usr_sa/anaconda3/envs/prkng_v2_env/lib/python3.11/site-packages/sklearn/metrics/_regression.py:996: UndefinedMetricWarning:\n",
      "\n",
      "R^2 score is not well-defined with less than two samples.\n",
      "\n",
      "/home/sf_afn/usr_sa/anaconda3/envs/prkng_v2_env/lib/python3.11/site-packages/sklearn/metrics/_regression.py:996: UndefinedMetricWarning:\n",
      "\n",
      "R^2 score is not well-defined with less than two samples.\n",
      "\n",
      "Processing expanding window:  82%|██████████████████████████▉      | 98/120 [06:05<03:34,  9.76s/it]"
     ]
    },
    {
     "name": "stdout",
     "output_type": "stream",
     "text": [
      "Step: 49\n"
     ]
    },
    {
     "name": "stderr",
     "output_type": "stream",
     "text": [
      "Processing expanding window:  83%|██████████████████████████▋     | 100/120 [06:06<01:39,  4.96s/it]"
     ]
    },
    {
     "name": "stdout",
     "output_type": "stream",
     "text": [
      "Step: 50\n"
     ]
    },
    {
     "name": "stderr",
     "output_type": "stream",
     "text": [
      "Processing expanding window:  84%|██████████████████████████▉     | 101/120 [06:06<01:07,  3.55s/it]\u001b[34m\u001b[1mwandb\u001b[0m: Network error (ConnectionError), entering retry loop.\n",
      "Processing expanding window:  85%|███████████████████████████▏    | 102/120 [06:14<01:27,  4.89s/it]"
     ]
    },
    {
     "name": "stdout",
     "output_type": "stream",
     "text": [
      "Step: 51\n"
     ]
    },
    {
     "name": "stderr",
     "output_type": "stream",
     "text": [
      "Processing expanding window:  86%|███████████████████████████▍    | 103/120 [06:14<00:59,  3.51s/it]\u001b[34m\u001b[1mwandb\u001b[0m: Network error (ConnectionError), entering retry loop.\n",
      "Processing expanding window:  87%|███████████████████████████▋    | 104/120 [06:24<01:25,  5.36s/it]"
     ]
    },
    {
     "name": "stdout",
     "output_type": "stream",
     "text": [
      "Step: 52\n"
     ]
    },
    {
     "name": "stderr",
     "output_type": "stream",
     "text": [
      "/home/sf_afn/usr_sa/anaconda3/envs/prkng_v2_env/lib/python3.11/site-packages/sklearn/gaussian_process/kernels.py:419: ConvergenceWarning:\n",
      "\n",
      "The optimal value found for dimension 0 of parameter k1__k1__k2__periodicity is close to the specified lower bound 0.1. Decreasing the bound and calling fit again may find a better value.\n",
      "\n",
      "Processing expanding window:  88%|████████████████████████████▎   | 106/120 [06:24<00:39,  2.80s/it]"
     ]
    },
    {
     "name": "stdout",
     "output_type": "stream",
     "text": [
      "Step: 53\n"
     ]
    },
    {
     "name": "stderr",
     "output_type": "stream",
     "text": [
      "/home/sf_afn/usr_sa/anaconda3/envs/prkng_v2_env/lib/python3.11/site-packages/sklearn/gaussian_process/kernels.py:419: ConvergenceWarning:\n",
      "\n",
      "The optimal value found for dimension 0 of parameter k2__periodicity is close to the specified lower bound 0.1. Decreasing the bound and calling fit again may find a better value.\n",
      "\n",
      "Processing expanding window:  89%|████████████████████████████▌   | 107/120 [06:25<00:26,  2.07s/it]/home/sf_afn/usr_sa/anaconda3/envs/prkng_v2_env/lib/python3.11/site-packages/sklearn/metrics/_regression.py:996: UndefinedMetricWarning:\n",
      "\n",
      "R^2 score is not well-defined with less than two samples.\n",
      "\n",
      "/home/sf_afn/usr_sa/anaconda3/envs/prkng_v2_env/lib/python3.11/site-packages/sklearn/metrics/_regression.py:996: UndefinedMetricWarning:\n",
      "\n",
      "R^2 score is not well-defined with less than two samples.\n",
      "\n",
      "Processing expanding window:  90%|████████████████████████████▊   | 108/120 [06:25<00:18,  1.56s/it]"
     ]
    },
    {
     "name": "stdout",
     "output_type": "stream",
     "text": [
      "Step: 54\n"
     ]
    },
    {
     "name": "stderr",
     "output_type": "stream",
     "text": [
      "Processing expanding window:  92%|█████████████████████████████▎  | 110/120 [06:26<00:09,  1.05it/s]"
     ]
    },
    {
     "name": "stdout",
     "output_type": "stream",
     "text": [
      "Step: 55\n"
     ]
    },
    {
     "name": "stderr",
     "output_type": "stream",
     "text": [
      "/home/sf_afn/usr_sa/anaconda3/envs/prkng_v2_env/lib/python3.11/site-packages/sklearn/gaussian_process/kernels.py:429: ConvergenceWarning:\n",
      "\n",
      "The optimal value found for dimension 0 of parameter k1__k1__k2__periodicity is close to the specified upper bound 50.0. Increasing the bound and calling fit again may find a better value.\n",
      "\n",
      "Processing expanding window:  92%|█████████████████████████████▌  | 111/120 [06:26<00:07,  1.24it/s]/home/sf_afn/usr_sa/anaconda3/envs/prkng_v2_env/lib/python3.11/site-packages/sklearn/metrics/_regression.py:996: UndefinedMetricWarning:\n",
      "\n",
      "R^2 score is not well-defined with less than two samples.\n",
      "\n",
      "/home/sf_afn/usr_sa/anaconda3/envs/prkng_v2_env/lib/python3.11/site-packages/sklearn/metrics/_regression.py:996: UndefinedMetricWarning:\n",
      "\n",
      "R^2 score is not well-defined with less than two samples.\n",
      "\n",
      "Processing expanding window:  93%|█████████████████████████████▊  | 112/120 [06:27<00:05,  1.47it/s]"
     ]
    },
    {
     "name": "stdout",
     "output_type": "stream",
     "text": [
      "Step: 56\n"
     ]
    },
    {
     "name": "stderr",
     "output_type": "stream",
     "text": [
      "Processing expanding window:  95%|██████████████████████████████▍ | 114/120 [06:28<00:03,  1.85it/s]"
     ]
    },
    {
     "name": "stdout",
     "output_type": "stream",
     "text": [
      "Step: 57\n"
     ]
    },
    {
     "name": "stderr",
     "output_type": "stream",
     "text": [
      "/home/sf_afn/usr_sa/anaconda3/envs/prkng_v2_env/lib/python3.11/site-packages/sklearn/gaussian_process/kernels.py:429: ConvergenceWarning:\n",
      "\n",
      "The optimal value found for dimension 0 of parameter k1__k1__k1__k2__length_scale is close to the specified upper bound 1000.0. Increasing the bound and calling fit again may find a better value.\n",
      "\n",
      "Processing expanding window:  97%|██████████████████████████████▉ | 116/120 [06:28<00:01,  2.08it/s]"
     ]
    },
    {
     "name": "stdout",
     "output_type": "stream",
     "text": [
      "Step: 58\n"
     ]
    },
    {
     "name": "stderr",
     "output_type": "stream",
     "text": [
      "Processing expanding window:  98%|███████████████████████████████▏| 117/120 [06:29<00:01,  2.07it/s]/home/sf_afn/usr_sa/anaconda3/envs/prkng_v2_env/lib/python3.11/site-packages/sklearn/metrics/_regression.py:996: UndefinedMetricWarning:\n",
      "\n",
      "R^2 score is not well-defined with less than two samples.\n",
      "\n",
      "/home/sf_afn/usr_sa/anaconda3/envs/prkng_v2_env/lib/python3.11/site-packages/sklearn/metrics/_regression.py:996: UndefinedMetricWarning:\n",
      "\n",
      "R^2 score is not well-defined with less than two samples.\n",
      "\n",
      "Processing expanding window:  98%|███████████████████████████████▍| 118/120 [06:29<00:00,  2.25it/s]"
     ]
    },
    {
     "name": "stdout",
     "output_type": "stream",
     "text": [
      "Step: 59\n"
     ]
    },
    {
     "name": "stderr",
     "output_type": "stream",
     "text": [
      "/home/sf_afn/usr_sa/anaconda3/envs/prkng_v2_env/lib/python3.11/site-packages/sklearn/gaussian_process/kernels.py:429: ConvergenceWarning:\n",
      "\n",
      "The optimal value found for dimension 0 of parameter k1__k1__k2__length_scale is close to the specified upper bound 50.0. Increasing the bound and calling fit again may find a better value.\n",
      "\n",
      "Processing expanding window: 100%|████████████████████████████████| 120/120 [06:30<00:00,  3.26s/it]\n"
     ]
    },
    {
     "name": "stdout",
     "output_type": "stream",
     "text": [
      "Step: 60\n",
      "Testing final GPR on test set\n"
     ]
    },
    {
     "data": {
      "application/vnd.jupyter.widget-view+json": {
       "model_id": "65f9245b70ca453b899c3ad6664231b8",
       "version_major": 2,
       "version_minor": 0
      },
      "text/plain": [
       "VBox(children=(Label(value='89.391 MB of 89.397 MB uploaded\\r'), FloatProgress(value=0.9999383929258651, max=1…"
      ]
     },
     "metadata": {},
     "output_type": "display_data"
    },
    {
     "name": "stderr",
     "output_type": "stream",
     "text": [
      "wandb: WARNING Source type is set to 'repo' but some required information is missing from the environment. A job will not be created from this run. See https://docs.wandb.ai/guides/launch/create-job\n"
     ]
    },
    {
     "data": {
      "text/html": [
       "<style>\n",
       "    table.wandb td:nth-child(1) { padding: 0 10px; text-align: left ; width: auto;} td:nth-child(2) {text-align: left ; width: 100%}\n",
       "    .wandb-row { display: flex; flex-direction: row; flex-wrap: wrap; justify-content: flex-start; width: 100% }\n",
       "    .wandb-col { display: flex; flex-direction: column; flex-basis: 100%; flex: 1; padding: 10px; }\n",
       "    </style>\n",
       "<div class=\"wandb-row\"><div class=\"wandb-col\"><h3>Run history:</h3><br/><table class=\"wandb\"><tr><td>LML_test</td><td>▁</td></tr><tr><td>LML_train</td><td>██▇▅▃▅▃▂▃▃▂▃▃▃▃▄▃▄▃▃▂▄▄▂▁▁▁▁▁▁▁▁▁▃▄▄▄▄▄▃</td></tr><tr><td>LML_validate</td><td>██▇▅▃▅▃▂▃▃▂▃▃▃▃▃▃▂▃▃▂▂▄▂▁▁▁▁▁▁▁▁▁▁▄▄▄▄▄▃</td></tr><tr><td>MAE_test</td><td>▁</td></tr><tr><td>MAE_train</td><td>▁▁▁▁█▁▁▁▁▂▂▁▁▁▁▁▁▁▁▁▂▁▁▂▁▁▄▁▅▁▁▁▁▁▁▁▁▁▁▁</td></tr><tr><td>MAE_validate</td><td>▃▃▃▂▂▃▄▂▂▂▂▁▄▂▄▄▁▂▃▁▄█▇▇▄▃▄▄▃▄▄▆▃▅▄▅▂▅▃▂</td></tr><tr><td>MAPE_test</td><td>▁</td></tr><tr><td>MAPE_train</td><td>▁▁▁▁▆▁▁▁▁▂▂▁▁▁▁▁▁▁▁▁▂▁▁▂▁▁█▁▇▁▁▁▁▁▁▁▁▁▁▁</td></tr><tr><td>MAPE_validate</td><td>▂▁▁▁▁▄▆▁▁▁▁▁▂▄▁▁▁▁▁▁▂▁▁▂▁▁▁▂▂▁▁▁▁▂▂▁▁▁▁█</td></tr><tr><td>MSE_test</td><td>▁</td></tr><tr><td>MSE_train</td><td>▁▁▁▁█▁▁▁▁▂▁▁▁▁▁▁▁▁▁▁▁▁▁▁▁▁▄▁▆▁▁▁▁▁▁▁▁▁▁▁</td></tr><tr><td>MSE_validate</td><td>▂▂▂▁▁▂▂▁▁▁▁▁▂▁▂▂▁▁▁▁▃█▆▇▂▂▃▃▂▂▂▄▂▃▂▄▁▃▂▁</td></tr><tr><td>R2_test</td><td>▁</td></tr><tr><td>R2_train</td><td>████▁████▇▇███████████████▇█▆███████████</td></tr><tr><td>R2_validate</td><td> █▆  █ ███ █ █▆  █▁ █   █ ███ █  ████ █▇</td></tr><tr><td>RMSE_test</td><td>▁</td></tr><tr><td>RMSE_train</td><td>▁▁▁▁█▁▁▁▁▃▃▁▁▁▁▁▁▁▁▁▂▁▁▂▁▁▆▁▇▁▁▁▁▁▁▁▁▁▁▁</td></tr><tr><td>RMSE_validate</td><td>▃▃▃▂▂▄▄▂▂▂▂▂▄▃▄▄▁▂▃▁▅█▇▇▄▃▅▅▃▄▄▆▃▅▄▅▂▅▄▃</td></tr><tr><td>step</td><td>▁▁▁▁▂▂▂▂▂▃▃▃▃▃▄▄▄▄▄▅▅▅▅▅▅▆▆▆▆▆▇▇▇▇▇████▁</td></tr></table><br/></div><div class=\"wandb-col\"><h3>Run summary:</h3><br/><table class=\"wandb\"><tr><td>LML_test</td><td>-15.79211</td></tr><tr><td>LML_train</td><td>-15.79211</td></tr><tr><td>LML_validate</td><td>-15.79211</td></tr><tr><td>MAE_test</td><td>10.3496</td></tr><tr><td>MAE_train</td><td>0.0</td></tr><tr><td>MAE_validate</td><td>2.89594</td></tr><tr><td>MAPE_test</td><td>134.34073</td></tr><tr><td>MAPE_train</td><td>0.00091</td></tr><tr><td>MAPE_validate</td><td>2533.20814</td></tr><tr><td>MSE_test</td><td>125.67806</td></tr><tr><td>MSE_train</td><td>0.0</td></tr><tr><td>MSE_validate</td><td>14.37515</td></tr><tr><td>R2_test</td><td>-7.52168</td></tr><tr><td>R2_train</td><td>1.0</td></tr><tr><td>R2_validate</td><td>-51.87165</td></tr><tr><td>RMSE_test</td><td>11.21062</td></tr><tr><td>RMSE_train</td><td>0.0</td></tr><tr><td>RMSE_validate</td><td>3.79146</td></tr><tr><td>step</td><td>1</td></tr></table><br/></div></div>"
      ],
      "text/plain": [
       "<IPython.core.display.HTML object>"
      ]
     },
     "metadata": {},
     "output_type": "display_data"
    },
    {
     "data": {
      "text/html": [
       " View run <strong style=\"color:#cdcd00\">Expanding_Window_35_feature:week</strong> at: <a href='https://wandb.ai/afn-sy/Expanding_Window_GPR/runs/lzl5nz4d' target=\"_blank\">https://wandb.ai/afn-sy/Expanding_Window_GPR/runs/lzl5nz4d</a><br/>Synced 7 W&B file(s), 364 media file(s), 122 artifact file(s) and 4 other file(s)"
      ],
      "text/plain": [
       "<IPython.core.display.HTML object>"
      ]
     },
     "metadata": {},
     "output_type": "display_data"
    },
    {
     "data": {
      "text/html": [
       "Find logs at: <code>./wandb/run-20240122_182530-lzl5nz4d/logs</code>"
      ],
      "text/plain": [
       "<IPython.core.display.HTML object>"
      ]
     },
     "metadata": {},
     "output_type": "display_data"
    }
   ],
   "source": [
    "\n",
    "datetime_str = now.strftime(\"%m/%d_%H:%M:%S\")\n",
    "\n",
    "# Initialize wandb run\n",
    "run = wandb.init(project=\"Expanding_Window_GPR\",\n",
    "                 name=f\"Expanding_Window_{experiment_num}_feature:week\")\n",
    "# Configuration parameters (this could be extended depending on what you'd like to track)\n",
    "config = wandb.config\n",
    "config.ini_train_win_len = 24\n",
    "config.valid_win_len = 24\n",
    "config.step_size = 1 # 24 hours or 1 day\n",
    "\n",
    "# Call the expanding window function\n",
    "y_pred, y_std, gpr = expanding_window_gpr_process(\n",
    "                                                run,\n",
    "                                                train,\n",
    "                                                gpr,\n",
    "                                                test,\n",
    "                                                ini_train_win_len=config.ini_train_win_len, \n",
    "                                                valid_win_len=config.valid_win_len,\n",
    "                                                features='day_of_week',\n",
    "                                                target='centered_car_count',\n",
    "                                                agg_func='mean'\n",
    "                                                )\n",
    "\n",
    "# Close the wandb run\n",
    "wandb.finish()\n"
   ]
  },
  {
   "cell_type": "code",
   "execution_count": 24,
   "metadata": {},
   "outputs": [
    {
     "data": {
      "text/html": [
       "Tracking run with wandb version 0.15.12"
      ],
      "text/plain": [
       "<IPython.core.display.HTML object>"
      ]
     },
     "metadata": {},
     "output_type": "display_data"
    },
    {
     "data": {
      "text/html": [
       "Run data is saved locally in <code>/home/sf_afn/Insync/sofiaa720@gmail.com/Google Drive/masters_thesis/code_v1/msc_parking/univrses/notebooks/wandb/run-20231107_214338-1ra7lamb</code>"
      ],
      "text/plain": [
       "<IPython.core.display.HTML object>"
      ]
     },
     "metadata": {},
     "output_type": "display_data"
    },
    {
     "data": {
      "text/html": [
       "Syncing run <strong><a href='https://wandb.ai/afn-sy/Expanding_Window_GPR/runs/1ra7lamb' target=\"_blank\">Expanding_Window_34_feature:month</a></strong> to <a href='https://wandb.ai/afn-sy/Expanding_Window_GPR' target=\"_blank\">Weights & Biases</a> (<a href='https://wandb.me/run' target=\"_blank\">docs</a>)<br/>"
      ],
      "text/plain": [
       "<IPython.core.display.HTML object>"
      ]
     },
     "metadata": {},
     "output_type": "display_data"
    },
    {
     "data": {
      "text/html": [
       " View project at <a href='https://wandb.ai/afn-sy/Expanding_Window_GPR' target=\"_blank\">https://wandb.ai/afn-sy/Expanding_Window_GPR</a>"
      ],
      "text/plain": [
       "<IPython.core.display.HTML object>"
      ]
     },
     "metadata": {},
     "output_type": "display_data"
    },
    {
     "data": {
      "text/html": [
       " View run at <a href='https://wandb.ai/afn-sy/Expanding_Window_GPR/runs/1ra7lamb' target=\"_blank\">https://wandb.ai/afn-sy/Expanding_Window_GPR/runs/1ra7lamb</a>"
      ],
      "text/plain": [
       "<IPython.core.display.HTML object>"
      ]
     },
     "metadata": {},
     "output_type": "display_data"
    },
    {
     "name": "stderr",
     "output_type": "stream",
     "text": [
      "Processing expanding window:   2%|▋                                  | 1/50 [00:00<00:08,  5.49it/s]/home/sf_afn/usr_sa/anaconda3/envs/prkng_v2_env/lib/python3.11/site-packages/sklearn/metrics/_regression.py:996: UndefinedMetricWarning:\n",
      "\n",
      "R^2 score is not well-defined with less than two samples.\n",
      "\n",
      "/home/sf_afn/usr_sa/anaconda3/envs/prkng_v2_env/lib/python3.11/site-packages/sklearn/metrics/_regression.py:996: UndefinedMetricWarning:\n",
      "\n",
      "R^2 score is not well-defined with less than two samples.\n",
      "\n",
      "Processing expanding window:   4%|█▍                                 | 2/50 [00:00<00:14,  3.38it/s]/home/sf_afn/usr_sa/anaconda3/envs/prkng_v2_env/lib/python3.11/site-packages/sklearn/gaussian_process/kernels.py:419: ConvergenceWarning:\n",
      "\n",
      "The optimal value found for dimension 0 of parameter k1__k1__k2__length_scale is close to the specified lower bound 0.1. Decreasing the bound and calling fit again may find a better value.\n",
      "\n",
      "/home/sf_afn/usr_sa/anaconda3/envs/prkng_v2_env/lib/python3.11/site-packages/sklearn/gaussian_process/kernels.py:419: ConvergenceWarning:\n",
      "\n",
      "The optimal value found for dimension 0 of parameter k2__length_scale is close to the specified lower bound 0.1. Decreasing the bound and calling fit again may find a better value.\n",
      "\n",
      "Processing expanding window:   6%|██                                 | 3/50 [00:00<00:11,  4.17it/s]"
     ]
    },
    {
     "name": "stdout",
     "output_type": "stream",
     "text": [
      "Step: 1\n"
     ]
    },
    {
     "name": "stderr",
     "output_type": "stream",
     "text": [
      "Processing expanding window:   8%|██▊                                | 4/50 [00:01<00:13,  3.51it/s]"
     ]
    },
    {
     "name": "stdout",
     "output_type": "stream",
     "text": [
      "Step: 2\n"
     ]
    },
    {
     "name": "stderr",
     "output_type": "stream",
     "text": [
      "/home/sf_afn/usr_sa/anaconda3/envs/prkng_v2_env/lib/python3.11/site-packages/sklearn/gaussian_process/kernels.py:419: ConvergenceWarning:\n",
      "\n",
      "The optimal value found for dimension 0 of parameter k1__k1__k2__length_scale is close to the specified lower bound 0.1. Decreasing the bound and calling fit again may find a better value.\n",
      "\n",
      "Processing expanding window:  12%|████▏                              | 6/50 [00:01<00:14,  3.10it/s]/home/sf_afn/usr_sa/anaconda3/envs/prkng_v2_env/lib/python3.11/site-packages/sklearn/gaussian_process/kernels.py:429: ConvergenceWarning:\n",
      "\n",
      "The optimal value found for dimension 0 of parameter k1__k1__k1__k2__length_scale is close to the specified upper bound 1000.0. Increasing the bound and calling fit again may find a better value.\n",
      "\n",
      "/home/sf_afn/usr_sa/anaconda3/envs/prkng_v2_env/lib/python3.11/site-packages/sklearn/gaussian_process/kernels.py:419: ConvergenceWarning:\n",
      "\n",
      "The optimal value found for dimension 0 of parameter k1__k2__noise_level is close to the specified lower bound 1e-10. Decreasing the bound and calling fit again may find a better value.\n",
      "\n",
      "Processing expanding window:  14%|████▉                              | 7/50 [00:01<00:11,  3.61it/s]"
     ]
    },
    {
     "name": "stdout",
     "output_type": "stream",
     "text": [
      "Step: 3\n"
     ]
    },
    {
     "name": "stderr",
     "output_type": "stream",
     "text": [
      "/home/sf_afn/usr_sa/anaconda3/envs/prkng_v2_env/lib/python3.11/site-packages/sklearn/metrics/_regression.py:996: UndefinedMetricWarning:\n",
      "\n",
      "R^2 score is not well-defined with less than two samples.\n",
      "\n",
      "/home/sf_afn/usr_sa/anaconda3/envs/prkng_v2_env/lib/python3.11/site-packages/sklearn/metrics/_regression.py:996: UndefinedMetricWarning:\n",
      "\n",
      "R^2 score is not well-defined with less than two samples.\n",
      "\n",
      "Processing expanding window:  16%|█████▌                             | 8/50 [00:02<00:12,  3.35it/s]"
     ]
    },
    {
     "name": "stdout",
     "output_type": "stream",
     "text": [
      "Step: 4\n"
     ]
    },
    {
     "name": "stderr",
     "output_type": "stream",
     "text": [
      "/home/sf_afn/usr_sa/anaconda3/envs/prkng_v2_env/lib/python3.11/site-packages/sklearn/gaussian_process/kernels.py:419: ConvergenceWarning:\n",
      "\n",
      "The optimal value found for dimension 0 of parameter k1__k1__k2__length_scale is close to the specified lower bound 0.1. Decreasing the bound and calling fit again may find a better value.\n",
      "\n",
      "/home/sf_afn/usr_sa/anaconda3/envs/prkng_v2_env/lib/python3.11/site-packages/sklearn/gaussian_process/kernels.py:419: ConvergenceWarning:\n",
      "\n",
      "The optimal value found for dimension 0 of parameter k1__k2__noise_level is close to the specified lower bound 1e-10. Decreasing the bound and calling fit again may find a better value.\n",
      "\n",
      "/home/sf_afn/usr_sa/anaconda3/envs/prkng_v2_env/lib/python3.11/site-packages/sklearn/gaussian_process/kernels.py:419: ConvergenceWarning:\n",
      "\n",
      "The optimal value found for dimension 0 of parameter k2__length_scale is close to the specified lower bound 0.1. Decreasing the bound and calling fit again may find a better value.\n",
      "\n",
      "Processing expanding window:  20%|██████▊                           | 10/50 [00:03<00:13,  2.86it/s]"
     ]
    },
    {
     "name": "stdout",
     "output_type": "stream",
     "text": [
      "Step: 5\n"
     ]
    },
    {
     "name": "stderr",
     "output_type": "stream",
     "text": [
      "Processing expanding window:  24%|████████▏                         | 12/50 [00:03<00:12,  3.01it/s]"
     ]
    },
    {
     "name": "stdout",
     "output_type": "stream",
     "text": [
      "Step: 6\n"
     ]
    },
    {
     "name": "stderr",
     "output_type": "stream",
     "text": [
      "/home/sf_afn/usr_sa/anaconda3/envs/prkng_v2_env/lib/python3.11/site-packages/sklearn/gaussian_process/kernels.py:429: ConvergenceWarning:\n",
      "\n",
      "The optimal value found for dimension 0 of parameter k2__length_scale is close to the specified upper bound 50.0. Increasing the bound and calling fit again may find a better value.\n",
      "\n",
      "Processing expanding window:  28%|█████████▌                        | 14/50 [00:04<00:12,  2.89it/s]"
     ]
    },
    {
     "name": "stdout",
     "output_type": "stream",
     "text": [
      "Step: 7\n"
     ]
    },
    {
     "name": "stderr",
     "output_type": "stream",
     "text": [
      "Processing expanding window:  32%|██████████▉                       | 16/50 [00:05<00:11,  2.97it/s]"
     ]
    },
    {
     "name": "stdout",
     "output_type": "stream",
     "text": [
      "Step: 8\n"
     ]
    },
    {
     "name": "stderr",
     "output_type": "stream",
     "text": [
      "/home/sf_afn/usr_sa/anaconda3/envs/prkng_v2_env/lib/python3.11/site-packages/sklearn/gaussian_process/kernels.py:429: ConvergenceWarning:\n",
      "\n",
      "The optimal value found for dimension 0 of parameter k2__periodicity is close to the specified upper bound 50.0. Increasing the bound and calling fit again may find a better value.\n",
      "\n",
      "Processing expanding window:  38%|████████████▉                     | 19/50 [00:05<00:08,  3.52it/s]"
     ]
    },
    {
     "name": "stdout",
     "output_type": "stream",
     "text": [
      "Step: 9\n"
     ]
    },
    {
     "name": "stderr",
     "output_type": "stream",
     "text": [
      "/home/sf_afn/usr_sa/anaconda3/envs/prkng_v2_env/lib/python3.11/site-packages/sklearn/metrics/_regression.py:996: UndefinedMetricWarning:\n",
      "\n",
      "R^2 score is not well-defined with less than two samples.\n",
      "\n",
      "/home/sf_afn/usr_sa/anaconda3/envs/prkng_v2_env/lib/python3.11/site-packages/sklearn/metrics/_regression.py:996: UndefinedMetricWarning:\n",
      "\n",
      "R^2 score is not well-defined with less than two samples.\n",
      "\n",
      "Processing expanding window:  40%|█████████████▌                    | 20/50 [00:06<00:09,  3.19it/s]"
     ]
    },
    {
     "name": "stdout",
     "output_type": "stream",
     "text": [
      "Step: 10\n"
     ]
    },
    {
     "name": "stderr",
     "output_type": "stream",
     "text": [
      "Processing expanding window:  44%|██████████████▉                   | 22/50 [00:06<00:08,  3.20it/s]"
     ]
    },
    {
     "name": "stdout",
     "output_type": "stream",
     "text": [
      "Step: 11\n"
     ]
    },
    {
     "name": "stderr",
     "output_type": "stream",
     "text": [
      "Processing expanding window:  48%|████████████████▎                 | 24/50 [00:07<00:08,  2.90it/s]"
     ]
    },
    {
     "name": "stdout",
     "output_type": "stream",
     "text": [
      "Step: 12\n"
     ]
    },
    {
     "name": "stderr",
     "output_type": "stream",
     "text": [
      "/home/sf_afn/usr_sa/anaconda3/envs/prkng_v2_env/lib/python3.11/site-packages/sklearn/gaussian_process/kernels.py:429: ConvergenceWarning:\n",
      "\n",
      "The optimal value found for dimension 0 of parameter k1__k1__k1__k2__length_scale is close to the specified upper bound 1000.0. Increasing the bound and calling fit again may find a better value.\n",
      "\n",
      "/home/sf_afn/usr_sa/anaconda3/envs/prkng_v2_env/lib/python3.11/site-packages/sklearn/gaussian_process/kernels.py:419: ConvergenceWarning:\n",
      "\n",
      "The optimal value found for dimension 0 of parameter k1__k2__noise_level is close to the specified lower bound 1e-10. Decreasing the bound and calling fit again may find a better value.\n",
      "\n",
      "Processing expanding window:  50%|█████████████████                 | 25/50 [00:07<00:08,  2.95it/s]/home/sf_afn/usr_sa/anaconda3/envs/prkng_v2_env/lib/python3.11/site-packages/sklearn/metrics/_regression.py:996: UndefinedMetricWarning:\n",
      "\n",
      "R^2 score is not well-defined with less than two samples.\n",
      "\n",
      "/home/sf_afn/usr_sa/anaconda3/envs/prkng_v2_env/lib/python3.11/site-packages/sklearn/metrics/_regression.py:996: UndefinedMetricWarning:\n",
      "\n",
      "R^2 score is not well-defined with less than two samples.\n",
      "\n",
      "Processing expanding window:  52%|█████████████████▋                | 26/50 [00:08<00:08,  2.80it/s]"
     ]
    },
    {
     "name": "stdout",
     "output_type": "stream",
     "text": [
      "Step: 13\n"
     ]
    },
    {
     "name": "stderr",
     "output_type": "stream",
     "text": [
      "Processing expanding window:  56%|███████████████████               | 28/50 [00:08<00:07,  2.90it/s]"
     ]
    },
    {
     "name": "stdout",
     "output_type": "stream",
     "text": [
      "Step: 14\n"
     ]
    },
    {
     "name": "stderr",
     "output_type": "stream",
     "text": [
      "Processing expanding window:  60%|████████████████████▍             | 30/50 [00:09<00:08,  2.47it/s]"
     ]
    },
    {
     "name": "stdout",
     "output_type": "stream",
     "text": [
      "Step: 15\n"
     ]
    },
    {
     "name": "stderr",
     "output_type": "stream",
     "text": [
      "/home/sf_afn/usr_sa/anaconda3/envs/prkng_v2_env/lib/python3.11/site-packages/sklearn/gaussian_process/kernels.py:429: ConvergenceWarning:\n",
      "\n",
      "The optimal value found for dimension 0 of parameter k1__k1__k1__k2__length_scale is close to the specified upper bound 1000.0. Increasing the bound and calling fit again may find a better value.\n",
      "\n",
      "Processing expanding window:  64%|█████████████████████▊            | 32/50 [00:10<00:07,  2.48it/s]"
     ]
    },
    {
     "name": "stdout",
     "output_type": "stream",
     "text": [
      "Step: 16\n"
     ]
    },
    {
     "name": "stderr",
     "output_type": "stream",
     "text": [
      "Processing expanding window:  66%|██████████████████████▍           | 33/50 [00:11<00:06,  2.45it/s]/home/sf_afn/usr_sa/anaconda3/envs/prkng_v2_env/lib/python3.11/site-packages/sklearn/metrics/_regression.py:996: UndefinedMetricWarning:\n",
      "\n",
      "R^2 score is not well-defined with less than two samples.\n",
      "\n",
      "/home/sf_afn/usr_sa/anaconda3/envs/prkng_v2_env/lib/python3.11/site-packages/sklearn/metrics/_regression.py:996: UndefinedMetricWarning:\n",
      "\n",
      "R^2 score is not well-defined with less than two samples.\n",
      "\n",
      "Processing expanding window:  68%|███████████████████████           | 34/50 [00:11<00:06,  2.52it/s]"
     ]
    },
    {
     "name": "stdout",
     "output_type": "stream",
     "text": [
      "Step: 17\n"
     ]
    },
    {
     "name": "stderr",
     "output_type": "stream",
     "text": [
      "/home/sf_afn/usr_sa/anaconda3/envs/prkng_v2_env/lib/python3.11/site-packages/sklearn/gaussian_process/kernels.py:429: ConvergenceWarning:\n",
      "\n",
      "The optimal value found for dimension 0 of parameter k1__k2__noise_level is close to the specified upper bound 10.0. Increasing the bound and calling fit again may find a better value.\n",
      "\n",
      "Processing expanding window:  72%|████████████████████████▍         | 36/50 [00:12<00:05,  2.39it/s]"
     ]
    },
    {
     "name": "stdout",
     "output_type": "stream",
     "text": [
      "Step: 18\n"
     ]
    },
    {
     "name": "stderr",
     "output_type": "stream",
     "text": [
      "Processing expanding window:  74%|█████████████████████████▏        | 37/50 [00:12<00:06,  2.15it/s]/home/sf_afn/usr_sa/anaconda3/envs/prkng_v2_env/lib/python3.11/site-packages/sklearn/metrics/_regression.py:996: UndefinedMetricWarning:\n",
      "\n",
      "R^2 score is not well-defined with less than two samples.\n",
      "\n",
      "/home/sf_afn/usr_sa/anaconda3/envs/prkng_v2_env/lib/python3.11/site-packages/sklearn/metrics/_regression.py:996: UndefinedMetricWarning:\n",
      "\n",
      "R^2 score is not well-defined with less than two samples.\n",
      "\n",
      "Processing expanding window:  76%|█████████████████████████▊        | 38/50 [00:13<00:05,  2.29it/s]"
     ]
    },
    {
     "name": "stdout",
     "output_type": "stream",
     "text": [
      "Step: 19\n"
     ]
    },
    {
     "name": "stderr",
     "output_type": "stream",
     "text": [
      "Processing expanding window:  80%|███████████████████████████▏      | 40/50 [00:14<00:04,  2.38it/s]"
     ]
    },
    {
     "name": "stdout",
     "output_type": "stream",
     "text": [
      "Step: 20\n"
     ]
    },
    {
     "name": "stderr",
     "output_type": "stream",
     "text": [
      "Processing expanding window:  82%|███████████████████████████▉      | 41/50 [00:14<00:03,  2.28it/s]/home/sf_afn/usr_sa/anaconda3/envs/prkng_v2_env/lib/python3.11/site-packages/sklearn/metrics/_regression.py:996: UndefinedMetricWarning:\n",
      "\n",
      "R^2 score is not well-defined with less than two samples.\n",
      "\n",
      "/home/sf_afn/usr_sa/anaconda3/envs/prkng_v2_env/lib/python3.11/site-packages/sklearn/metrics/_regression.py:996: UndefinedMetricWarning:\n",
      "\n",
      "R^2 score is not well-defined with less than two samples.\n",
      "\n",
      "Processing expanding window:  84%|████████████████████████████▌     | 42/50 [00:15<00:03,  2.34it/s]"
     ]
    },
    {
     "name": "stdout",
     "output_type": "stream",
     "text": [
      "Step: 21\n"
     ]
    },
    {
     "name": "stderr",
     "output_type": "stream",
     "text": [
      "/home/sf_afn/usr_sa/anaconda3/envs/prkng_v2_env/lib/python3.11/site-packages/sklearn/gaussian_process/kernels.py:419: ConvergenceWarning:\n",
      "\n",
      "The optimal value found for dimension 0 of parameter k2__length_scale is close to the specified lower bound 0.1. Decreasing the bound and calling fit again may find a better value.\n",
      "\n",
      "Processing expanding window:  88%|█████████████████████████████▉    | 44/50 [00:15<00:02,  2.59it/s]"
     ]
    },
    {
     "name": "stdout",
     "output_type": "stream",
     "text": [
      "Step: 22\n"
     ]
    },
    {
     "name": "stderr",
     "output_type": "stream",
     "text": [
      "Processing expanding window:  90%|██████████████████████████████▌   | 45/50 [00:16<00:02,  2.38it/s]/home/sf_afn/usr_sa/anaconda3/envs/prkng_v2_env/lib/python3.11/site-packages/sklearn/metrics/_regression.py:996: UndefinedMetricWarning:\n",
      "\n",
      "R^2 score is not well-defined with less than two samples.\n",
      "\n",
      "/home/sf_afn/usr_sa/anaconda3/envs/prkng_v2_env/lib/python3.11/site-packages/sklearn/metrics/_regression.py:996: UndefinedMetricWarning:\n",
      "\n",
      "R^2 score is not well-defined with less than two samples.\n",
      "\n",
      "Processing expanding window:  92%|███████████████████████████████▎  | 46/50 [00:16<00:01,  2.45it/s]"
     ]
    },
    {
     "name": "stdout",
     "output_type": "stream",
     "text": [
      "Step: 23\n"
     ]
    },
    {
     "name": "stderr",
     "output_type": "stream",
     "text": [
      "Processing expanding window:  96%|████████████████████████████████▋ | 48/50 [00:17<00:00,  2.50it/s]"
     ]
    },
    {
     "name": "stdout",
     "output_type": "stream",
     "text": [
      "Step: 24\n"
     ]
    },
    {
     "name": "stderr",
     "output_type": "stream",
     "text": [
      "/home/sf_afn/usr_sa/anaconda3/envs/prkng_v2_env/lib/python3.11/site-packages/sklearn/gaussian_process/kernels.py:419: ConvergenceWarning:\n",
      "\n",
      "The optimal value found for dimension 0 of parameter k2__length_scale is close to the specified lower bound 0.1. Decreasing the bound and calling fit again may find a better value.\n",
      "\n",
      "Processing expanding window: 100%|██████████████████████████████████| 50/50 [00:18<00:00,  2.75it/s]\n"
     ]
    },
    {
     "name": "stdout",
     "output_type": "stream",
     "text": [
      "Step: 25\n",
      "Testing final GPR on test set\n"
     ]
    },
    {
     "data": {
      "text/html": [
       "Waiting for W&B process to finish... <strong style=\"color:green\">(success).</strong>"
      ],
      "text/plain": [
       "<IPython.core.display.HTML object>"
      ]
     },
     "metadata": {},
     "output_type": "display_data"
    },
    {
     "name": "stderr",
     "output_type": "stream",
     "text": [
      "wandb: WARNING Source type is set to 'repo' but some required information is missing from the environment. A job will not be created from this run. See https://docs.wandb.ai/guides/launch/create-job\n"
     ]
    },
    {
     "data": {
      "text/html": [
       "<style>\n",
       "    table.wandb td:nth-child(1) { padding: 0 10px; text-align: left ; width: auto;} td:nth-child(2) {text-align: left ; width: 100%}\n",
       "    .wandb-row { display: flex; flex-direction: row; flex-wrap: wrap; justify-content: flex-start; width: 100% }\n",
       "    .wandb-col { display: flex; flex-direction: column; flex-basis: 100%; flex: 1; padding: 10px; }\n",
       "    </style>\n",
       "<div class=\"wandb-row\"><div class=\"wandb-col\"><h3>Run history:</h3><br/><table class=\"wandb\"><tr><td>LML_test</td><td>▁</td></tr><tr><td>LML_train</td><td>██▇▇▇▇▆▆▅▄▄▄▄▄▃▃▂▂▁▁▁▁▁▁▁▁</td></tr><tr><td>LML_validate</td><td>██▇▇▇▇▆▆▅▄▄▄▄▄▃▃▂▂▁▁▁▁▁▁▁</td></tr><tr><td>MAE_test</td><td>▁</td></tr><tr><td>MAE_train</td><td>▁▁▁▁▁▁▁▁▁▁▁▁▁▁▁▁▁█▁▂▁▁▁▁▁▁</td></tr><tr><td>MAE_validate</td><td>▃▄▄▄▂▅▄▅▄█▂▂▁▂▅▅▁▄▁▂▁▂▁▂▄</td></tr><tr><td>MAPE_test</td><td>▁</td></tr><tr><td>MAPE_train</td><td>▁▁▁▁▁▁▁▁▁▁▁▁▁▁▁▁▁█▁▂▁▁▁▁▁▁</td></tr><tr><td>MAPE_validate</td><td>▂▂█▂▂▂▂▂▂▂▁▁▁▂▅▂▁▁▁▁▁▁▁▁█</td></tr><tr><td>MSE_test</td><td>▁</td></tr><tr><td>MSE_train</td><td>▁▁▁▁▁▁▁▁▁▁▁▁▁▁▁▁▁█▁▁▁▁▁▁▁▁</td></tr><tr><td>MSE_validate</td><td>▁▃▃▂▁▄▂▃▂█▁▁▁▁▃▃▁▂▁▁▁▁▁▁▃</td></tr><tr><td>R2_test</td><td>▁</td></tr><tr><td>R2_train</td><td>█████████████████▁████████</td></tr><tr><td>R2_validate</td><td> █▁ █████ ██ ██▅ ▆ █ ▇ ██</td></tr><tr><td>RMSE_test</td><td>▁</td></tr><tr><td>RMSE_train</td><td>▁▁▁▁▁▁▁▁▁▁▁▁▁▁▁▁▁█▁▂▁▁▁▁▁▁</td></tr><tr><td>RMSE_validate</td><td>▃▅▅▄▂▅▄▅▄█▂▂▁▂▅▅▁▄▁▂▁▂▁▂▄</td></tr><tr><td>step</td><td>▁▁▁▁▂▂▂▂▂▂▃▃▃▃▄▄▄▄▄▅▅▅▅▅▅▆▆▆▆▆▇▇▇▇▇▇███▁</td></tr></table><br/></div><div class=\"wandb-col\"><h3>Run summary:</h3><br/><table class=\"wandb\"><tr><td>LML_test</td><td>-64.89015</td></tr><tr><td>LML_train</td><td>-64.89015</td></tr><tr><td>LML_validate</td><td>-64.89015</td></tr><tr><td>MAE_test</td><td>10.95619</td></tr><tr><td>MAE_train</td><td>2e-05</td></tr><tr><td>MAE_validate</td><td>10.83771</td></tr><tr><td>MAPE_test</td><td>140.6591</td></tr><tr><td>MAPE_train</td><td>0.00049</td></tr><tr><td>MAPE_validate</td><td>1047.75192</td></tr><tr><td>MSE_test</td><td>154.8453</td></tr><tr><td>MSE_train</td><td>0.0</td></tr><tr><td>MSE_validate</td><td>136.39612</td></tr><tr><td>R2_test</td><td>-0.97977</td></tr><tr><td>R2_train</td><td>1.0</td></tr><tr><td>R2_validate</td><td>-4.40425</td></tr><tr><td>RMSE_test</td><td>12.44369</td></tr><tr><td>RMSE_train</td><td>3e-05</td></tr><tr><td>RMSE_validate</td><td>11.67887</td></tr><tr><td>step</td><td>1</td></tr></table><br/></div></div>"
      ],
      "text/plain": [
       "<IPython.core.display.HTML object>"
      ]
     },
     "metadata": {},
     "output_type": "display_data"
    },
    {
     "data": {
      "text/html": [
       " View run <strong style=\"color:#cdcd00\">Expanding_Window_34_feature:month</strong> at: <a href='https://wandb.ai/afn-sy/Expanding_Window_GPR/runs/1ra7lamb' target=\"_blank\">https://wandb.ai/afn-sy/Expanding_Window_GPR/runs/1ra7lamb</a><br/>Synced 7 W&B file(s), 154 media file(s), 51 artifact file(s) and 4 other file(s)"
      ],
      "text/plain": [
       "<IPython.core.display.HTML object>"
      ]
     },
     "metadata": {},
     "output_type": "display_data"
    },
    {
     "data": {
      "text/html": [
       "Find logs at: <code>./wandb/run-20231107_214338-1ra7lamb/logs</code>"
      ],
      "text/plain": [
       "<IPython.core.display.HTML object>"
      ]
     },
     "metadata": {},
     "output_type": "display_data"
    }
   ],
   "source": [
    "\n",
    "datetime_str = now.strftime(\"%m/%d_%H:%M:%S\")\n",
    "\n",
    "\n",
    "# Initialize wandb run\n",
    "run = wandb.init(project=\"Expanding_Window_GPR\", name=f\"Expanding_Window_{experiment_num}_feature:month\")\n",
    "# Configuration parameters (this could be extended depending on what you'd like to track)\n",
    "config = wandb.config\n",
    "# config.ini_train_win_len = 24\n",
    "config.ini_train_win_len = 24 * 7\n",
    "config.valid_win_len = 24\n",
    "# config.valid_win_len = 24 *7\n",
    "config.step_size = 1 # 24 hours or 1 day\n",
    "\n",
    "# Call the expanding window function\n",
    "y_pred, y_std, gpr = expanding_window_gpr_process(\n",
    "                                                run,\n",
    "                                                train,\n",
    "                                                gpr,\n",
    "                                                test,\n",
    "                                                ini_train_win_len=config.ini_train_win_len, \n",
    "                                                valid_win_len=config.valid_win_len,\n",
    "                                                features='day',\n",
    "                                                target='centered_car_count',\n",
    "                                                agg_func='mean'\n",
    "                                                )\n",
    "\n",
    "# Close the wandb run\n",
    "wandb.finish()\n"
   ]
  },
  {
   "cell_type": "code",
   "execution_count": null,
   "metadata": {},
   "outputs": [],
   "source": []
  }
 ],
 "metadata": {
  "kernelspec": {
   "display_name": "prkng_v2_env",
   "language": "python",
   "name": "python3"
  },
  "language_info": {
   "codemirror_mode": {
    "name": "ipython",
    "version": 3
   },
   "file_extension": ".py",
   "mimetype": "text/x-python",
   "name": "python",
   "nbconvert_exporter": "python",
   "pygments_lexer": "ipython3",
   "version": "3.11.4"
  }
 },
 "nbformat": 4,
 "nbformat_minor": 2
}
