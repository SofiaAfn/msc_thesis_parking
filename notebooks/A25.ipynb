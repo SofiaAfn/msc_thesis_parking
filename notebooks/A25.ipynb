{
 "cells": [
  {
   "cell_type": "code",
   "execution_count": 1,
   "metadata": {},
   "outputs": [],
   "source": [
    "from helper_functions import *\n",
    "import plotly.graph_objects as go\n",
    "import numpy as np\n",
    "\n",
    "import matplotlib.pyplot as plt\n",
    "import pandas as pd\n",
    "import wandb"
   ]
  },
  {
   "cell_type": "code",
   "execution_count": 2,
   "metadata": {},
   "outputs": [
    {
     "data": {
      "text/plain": [
       "'01/22_06:42:48'"
      ]
     },
     "execution_count": 2,
     "metadata": {},
     "output_type": "execute_result"
    }
   ],
   "source": [
    "from datetime import datetime\n",
    "now = datetime.now()\n",
    "datetime_str = now.strftime(\"%m/%d_%H:%M:%S\")\n",
    "datetime_str"
   ]
  },
  {
   "cell_type": "code",
   "execution_count": 3,
   "metadata": {},
   "outputs": [
    {
     "data": {
      "text/html": [
       "<div>\n",
       "<style scoped>\n",
       "    .dataframe tbody tr th:only-of-type {\n",
       "        vertical-align: middle;\n",
       "    }\n",
       "\n",
       "    .dataframe tbody tr th {\n",
       "        vertical-align: top;\n",
       "    }\n",
       "\n",
       "    .dataframe thead th {\n",
       "        text-align: right;\n",
       "    }\n",
       "</style>\n",
       "<table border=\"1\" class=\"dataframe\">\n",
       "  <thead>\n",
       "    <tr style=\"text-align: right;\">\n",
       "      <th></th>\n",
       "      <th>image name</th>\n",
       "      <th>car_count</th>\n",
       "      <th>timestamp_true</th>\n",
       "    </tr>\n",
       "  </thead>\n",
       "  <tbody>\n",
       "    <tr>\n",
       "      <th>0</th>\n",
       "      <td>Kris_1206-1423.png</td>\n",
       "      <td>31</td>\n",
       "      <td>2023-06-12 14:23:00</td>\n",
       "    </tr>\n",
       "    <tr>\n",
       "      <th>1</th>\n",
       "      <td>Kris_1008-0950.png</td>\n",
       "      <td>32</td>\n",
       "      <td>2023-08-10 09:50:00</td>\n",
       "    </tr>\n",
       "    <tr>\n",
       "      <th>2</th>\n",
       "      <td>Kris_1108-0124.png</td>\n",
       "      <td>8</td>\n",
       "      <td>2023-08-11 01:24:00</td>\n",
       "    </tr>\n",
       "    <tr>\n",
       "      <th>3</th>\n",
       "      <td>Kris_2406-2128.png</td>\n",
       "      <td>6</td>\n",
       "      <td>2023-06-24 21:28:00</td>\n",
       "    </tr>\n",
       "    <tr>\n",
       "      <th>4</th>\n",
       "      <td>Kris_1006-0136.png</td>\n",
       "      <td>7</td>\n",
       "      <td>2023-06-10 01:36:00</td>\n",
       "    </tr>\n",
       "    <tr>\n",
       "      <th>...</th>\n",
       "      <td>...</td>\n",
       "      <td>...</td>\n",
       "      <td>...</td>\n",
       "    </tr>\n",
       "    <tr>\n",
       "      <th>963</th>\n",
       "      <td>Kris_1206-1252.png</td>\n",
       "      <td>24</td>\n",
       "      <td>2023-06-12 12:52:00</td>\n",
       "    </tr>\n",
       "    <tr>\n",
       "      <th>964</th>\n",
       "      <td>Kris_1006-1111.png</td>\n",
       "      <td>12</td>\n",
       "      <td>2023-06-10 11:11:00</td>\n",
       "    </tr>\n",
       "    <tr>\n",
       "      <th>965</th>\n",
       "      <td>Kris_0308-0805.png</td>\n",
       "      <td>0</td>\n",
       "      <td>2023-08-03 08:05:00</td>\n",
       "    </tr>\n",
       "    <tr>\n",
       "      <th>966</th>\n",
       "      <td>Kris_0806-2233.png</td>\n",
       "      <td>5</td>\n",
       "      <td>2023-06-08 22:33:00</td>\n",
       "    </tr>\n",
       "    <tr>\n",
       "      <th>967</th>\n",
       "      <td>Kris_0706-0712.png</td>\n",
       "      <td>13</td>\n",
       "      <td>2023-06-07 07:12:00</td>\n",
       "    </tr>\n",
       "  </tbody>\n",
       "</table>\n",
       "<p>968 rows × 3 columns</p>\n",
       "</div>"
      ],
      "text/plain": [
       "             image name  car_count      timestamp_true\n",
       "0    Kris_1206-1423.png         31 2023-06-12 14:23:00\n",
       "1    Kris_1008-0950.png         32 2023-08-10 09:50:00\n",
       "2    Kris_1108-0124.png          8 2023-08-11 01:24:00\n",
       "3    Kris_2406-2128.png          6 2023-06-24 21:28:00\n",
       "4    Kris_1006-0136.png          7 2023-06-10 01:36:00\n",
       "..                  ...        ...                 ...\n",
       "963  Kris_1206-1252.png         24 2023-06-12 12:52:00\n",
       "964  Kris_1006-1111.png         12 2023-06-10 11:11:00\n",
       "965  Kris_0308-0805.png          0 2023-08-03 08:05:00\n",
       "966  Kris_0806-2233.png          5 2023-06-08 22:33:00\n",
       "967  Kris_0706-0712.png         13 2023-06-07 07:12:00\n",
       "\n",
       "[968 rows x 3 columns]"
      ]
     },
     "execution_count": 3,
     "metadata": {},
     "output_type": "execute_result"
    }
   ],
   "source": [
    "\n",
    "data_df = pd.read_pickle(\"Kris_updated_yolov8.pkl\")\n",
    "data_df"
   ]
  },
  {
   "cell_type": "code",
   "execution_count": 4,
   "metadata": {},
   "outputs": [],
   "source": [
    "data_df = preprocess_data(data_df)"
   ]
  },
  {
   "cell_type": "code",
   "execution_count": 5,
   "metadata": {},
   "outputs": [],
   "source": [
    "# Load current experiment number\n",
    "try:\n",
    "    with open('experiment_counter.txt', 'r') as f:\n",
    "        experiment_num = int(f.read())\n",
    "except:\n",
    "    experiment_num = 1\n",
    "\n",
    "# Increment and save the updated experiment number\n",
    "with open('experiment_counter.txt', 'w') as f:\n",
    "    f.write(str(experiment_num + 1))"
   ]
  },
  {
   "cell_type": "code",
   "execution_count": 6,
   "metadata": {},
   "outputs": [
    {
     "data": {
      "text/html": [
       "<div>\n",
       "<style scoped>\n",
       "    .dataframe tbody tr th:only-of-type {\n",
       "        vertical-align: middle;\n",
       "    }\n",
       "\n",
       "    .dataframe tbody tr th {\n",
       "        vertical-align: top;\n",
       "    }\n",
       "\n",
       "    .dataframe thead th {\n",
       "        text-align: right;\n",
       "    }\n",
       "</style>\n",
       "<table border=\"1\" class=\"dataframe\">\n",
       "  <thead>\n",
       "    <tr style=\"text-align: right;\">\n",
       "      <th></th>\n",
       "      <th>car_count</th>\n",
       "      <th>num_timestamp</th>\n",
       "      <th>month_no</th>\n",
       "      <th>month_name</th>\n",
       "      <th>day</th>\n",
       "      <th>day_of_week</th>\n",
       "      <th>day_of_week_name</th>\n",
       "      <th>is_weekend</th>\n",
       "      <th>hour_of_day</th>\n",
       "      <th>minutes</th>\n",
       "      <th>min_of_day</th>\n",
       "      <th>week_no</th>\n",
       "      <th>combined</th>\n",
       "      <th>centered_car_count</th>\n",
       "    </tr>\n",
       "    <tr>\n",
       "      <th>timestamp_true</th>\n",
       "      <th></th>\n",
       "      <th></th>\n",
       "      <th></th>\n",
       "      <th></th>\n",
       "      <th></th>\n",
       "      <th></th>\n",
       "      <th></th>\n",
       "      <th></th>\n",
       "      <th></th>\n",
       "      <th></th>\n",
       "      <th></th>\n",
       "      <th></th>\n",
       "      <th></th>\n",
       "      <th></th>\n",
       "    </tr>\n",
       "  </thead>\n",
       "  <tbody>\n",
       "    <tr>\n",
       "      <th>2023-06-06 20:36:00</th>\n",
       "      <td>5</td>\n",
       "      <td>28101396</td>\n",
       "      <td>6</td>\n",
       "      <td>June</td>\n",
       "      <td>6</td>\n",
       "      <td>1</td>\n",
       "      <td>Tuesday</td>\n",
       "      <td>0</td>\n",
       "      <td>20</td>\n",
       "      <td>36</td>\n",
       "      <td>1236</td>\n",
       "      <td>1</td>\n",
       "      <td>06062036</td>\n",
       "      <td>-8.046488</td>\n",
       "    </tr>\n",
       "    <tr>\n",
       "      <th>2023-06-06 21:06:00</th>\n",
       "      <td>9</td>\n",
       "      <td>28101426</td>\n",
       "      <td>6</td>\n",
       "      <td>June</td>\n",
       "      <td>6</td>\n",
       "      <td>1</td>\n",
       "      <td>Tuesday</td>\n",
       "      <td>0</td>\n",
       "      <td>21</td>\n",
       "      <td>6</td>\n",
       "      <td>1266</td>\n",
       "      <td>1</td>\n",
       "      <td>06062106</td>\n",
       "      <td>-4.046488</td>\n",
       "    </tr>\n",
       "    <tr>\n",
       "      <th>2023-06-06 21:37:00</th>\n",
       "      <td>4</td>\n",
       "      <td>28101457</td>\n",
       "      <td>6</td>\n",
       "      <td>June</td>\n",
       "      <td>6</td>\n",
       "      <td>1</td>\n",
       "      <td>Tuesday</td>\n",
       "      <td>0</td>\n",
       "      <td>21</td>\n",
       "      <td>37</td>\n",
       "      <td>1297</td>\n",
       "      <td>1</td>\n",
       "      <td>06062137</td>\n",
       "      <td>-9.046488</td>\n",
       "    </tr>\n",
       "    <tr>\n",
       "      <th>2023-06-06 22:07:00</th>\n",
       "      <td>7</td>\n",
       "      <td>28101487</td>\n",
       "      <td>6</td>\n",
       "      <td>June</td>\n",
       "      <td>6</td>\n",
       "      <td>1</td>\n",
       "      <td>Tuesday</td>\n",
       "      <td>0</td>\n",
       "      <td>22</td>\n",
       "      <td>7</td>\n",
       "      <td>1327</td>\n",
       "      <td>1</td>\n",
       "      <td>06062207</td>\n",
       "      <td>-6.046488</td>\n",
       "    </tr>\n",
       "    <tr>\n",
       "      <th>2023-06-06 22:37:00</th>\n",
       "      <td>6</td>\n",
       "      <td>28101517</td>\n",
       "      <td>6</td>\n",
       "      <td>June</td>\n",
       "      <td>6</td>\n",
       "      <td>1</td>\n",
       "      <td>Tuesday</td>\n",
       "      <td>0</td>\n",
       "      <td>22</td>\n",
       "      <td>37</td>\n",
       "      <td>1357</td>\n",
       "      <td>1</td>\n",
       "      <td>06062237</td>\n",
       "      <td>-7.046488</td>\n",
       "    </tr>\n",
       "  </tbody>\n",
       "</table>\n",
       "</div>"
      ],
      "text/plain": [
       "                     car_count  num_timestamp  month_no month_name  day  \\\n",
       "timestamp_true                                                            \n",
       "2023-06-06 20:36:00          5       28101396         6       June    6   \n",
       "2023-06-06 21:06:00          9       28101426         6       June    6   \n",
       "2023-06-06 21:37:00          4       28101457         6       June    6   \n",
       "2023-06-06 22:07:00          7       28101487         6       June    6   \n",
       "2023-06-06 22:37:00          6       28101517         6       June    6   \n",
       "\n",
       "                     day_of_week day_of_week_name  is_weekend  hour_of_day  \\\n",
       "timestamp_true                                                               \n",
       "2023-06-06 20:36:00            1          Tuesday           0           20   \n",
       "2023-06-06 21:06:00            1          Tuesday           0           21   \n",
       "2023-06-06 21:37:00            1          Tuesday           0           21   \n",
       "2023-06-06 22:07:00            1          Tuesday           0           22   \n",
       "2023-06-06 22:37:00            1          Tuesday           0           22   \n",
       "\n",
       "                     minutes  min_of_day  week_no  combined  \\\n",
       "timestamp_true                                                \n",
       "2023-06-06 20:36:00       36        1236        1  06062036   \n",
       "2023-06-06 21:06:00        6        1266        1  06062106   \n",
       "2023-06-06 21:37:00       37        1297        1  06062137   \n",
       "2023-06-06 22:07:00        7        1327        1  06062207   \n",
       "2023-06-06 22:37:00       37        1357        1  06062237   \n",
       "\n",
       "                     centered_car_count  \n",
       "timestamp_true                           \n",
       "2023-06-06 20:36:00           -8.046488  \n",
       "2023-06-06 21:06:00           -4.046488  \n",
       "2023-06-06 21:37:00           -9.046488  \n",
       "2023-06-06 22:07:00           -6.046488  \n",
       "2023-06-06 22:37:00           -7.046488  "
      ]
     },
     "execution_count": 6,
     "metadata": {},
     "output_type": "execute_result"
    }
   ],
   "source": [
    "data_df.head()"
   ]
  },
  {
   "cell_type": "code",
   "execution_count": 7,
   "metadata": {},
   "outputs": [
    {
     "name": "stdout",
     "output_type": "stream",
     "text": [
      "<class 'pandas.core.frame.DataFrame'>\n",
      "DatetimeIndex: 968 entries, 2023-06-06 20:36:00 to 2023-08-14 13:26:00\n",
      "Data columns (total 14 columns):\n",
      " #   Column              Non-Null Count  Dtype  \n",
      "---  ------              --------------  -----  \n",
      " 0   car_count           968 non-null    int64  \n",
      " 1   num_timestamp       968 non-null    int64  \n",
      " 2   month_no            968 non-null    int32  \n",
      " 3   month_name          968 non-null    object \n",
      " 4   day                 968 non-null    int32  \n",
      " 5   day_of_week         968 non-null    int32  \n",
      " 6   day_of_week_name    968 non-null    object \n",
      " 7   is_weekend          968 non-null    int64  \n",
      " 8   hour_of_day         968 non-null    int32  \n",
      " 9   minutes             968 non-null    int32  \n",
      " 10  min_of_day          968 non-null    int32  \n",
      " 11  week_no             968 non-null    int32  \n",
      " 12  combined            968 non-null    object \n",
      " 13  centered_car_count  968 non-null    float64\n",
      "dtypes: float64(1), int32(7), int64(3), object(3)\n",
      "memory usage: 87.0+ KB\n"
     ]
    }
   ],
   "source": [
    "data_df.info()"
   ]
  },
  {
   "cell_type": "markdown",
   "metadata": {},
   "source": [
    "<h2> Exp 2: Num timestamp Revisited "
   ]
  },
  {
   "cell_type": "code",
   "execution_count": 8,
   "metadata": {},
   "outputs": [],
   "source": [
    "# as long as the time remains in a series, gaps will remain\n",
    "# differences in the "
   ]
  },
  {
   "cell_type": "code",
   "execution_count": 9,
   "metadata": {},
   "outputs": [],
   "source": [
    "# Create a reference timestamp, which can be the first timestamp in the dataframe\n",
    "reference_timestamp = data_df.index[0]\n",
    "\n",
    "# Compute time deltas relative to the reference timestamp\n",
    "data_df['time_delta'] = data_df.index - reference_timestamp\n"
   ]
  },
  {
   "cell_type": "code",
   "execution_count": 10,
   "metadata": {},
   "outputs": [],
   "source": [
    "data_df['lag_time'] = data_df['num_timestamp'].diff()"
   ]
  },
  {
   "cell_type": "code",
   "execution_count": 11,
   "metadata": {},
   "outputs": [
    {
     "data": {
      "text/plain": [
       "array([       nan, 3.0000e+01, 3.1000e+01, 8.5100e+02, 2.5600e+02,\n",
       "       8.3400e+02, 3.7000e+01, 4.3810e+03, 1.5520e+03, 1.0000e+00,\n",
       "       1.9000e+01, 4.9000e+01, 1.0000e+01, 9.0000e+00, 2.4000e+01,\n",
       "       1.5000e+01, 2.0000e+00, 4.0000e+01, 2.7000e+01, 4.3000e+01,\n",
       "       6.0000e+01, 8.0000e+00, 3.8000e+01, 2.9000e+01, 2.5000e+01,\n",
       "       3.5000e+01, 4.5000e+01, 1.8000e+01, 2.8000e+01, 3.9000e+01,\n",
       "       5.2000e+01, 6.0000e+00, 3.0000e+00, 5.7000e+01, 5.9000e+01,\n",
       "       5.3000e+01, 5.5000e+01, 2.1000e+01, 2.6000e+01, 4.0000e+00,\n",
       "       5.0000e+00, 1.3000e+01, 1.4000e+01, 4.6000e+01, 1.1000e+01,\n",
       "       1.6000e+01, 3.3000e+01, 5.8000e+01, 5.4000e+01, 7.0000e+00,\n",
       "       1.7000e+01, 5.3810e+03, 4.4000e+01, 2.3000e+01, 2.2000e+01,\n",
       "       3.4000e+01, 5.6000e+01, 4.8000e+01, 5.1000e+01, 4.7000e+01,\n",
       "       3.2000e+01, 2.0000e+01, 4.1000e+01, 4.2000e+01, 5.2907e+04,\n",
       "       1.2680e+03, 9.5000e+01, 2.7530e+03])"
      ]
     },
     "execution_count": 11,
     "metadata": {},
     "output_type": "execute_result"
    }
   ],
   "source": [
    "data_df['lag_time'].unique()"
   ]
  },
  {
   "cell_type": "code",
   "execution_count": 12,
   "metadata": {},
   "outputs": [],
   "source": [
    "# Splitting the data into training (70%), validation (15%), and test (15%) sets\n",
    "data_length = len(data_df)\n",
    "train = data_df.iloc[:int(0.7 * data_length)]\n",
    "valid = data_df.iloc[int(0.7 * data_length):int(0.8 * data_length)]\n",
    "test = data_df.iloc[int(0.8 * data_length):]\n",
    "\n",
    "X_train_norm  = train['num_timestamp'].values.reshape(-1,1)\n",
    "y_train_norm  = train['centered_car_count']\n",
    "X_valid_norm  = valid['num_timestamp'].values.reshape(-1,1)\n",
    "y_valid_norm  = valid['centered_car_count']\n",
    "X_test_norm  = test['num_timestamp'].values.reshape(-1,1)\n",
    "y_test_norm  = test['centered_car_count']\n"
   ]
  },
  {
   "cell_type": "code",
   "execution_count": 13,
   "metadata": {},
   "outputs": [],
   "source": [
    "# Splitting the data into training (70%), validation (15%), and test (15%) sets\n",
    "\n",
    "short_data_df= data_df[:200]\n",
    "data_length = len(short_data_df)\n",
    "train = short_data_df.iloc[:int(0.7 * data_length)]\n",
    "valid = short_data_df.iloc[int(0.7 * data_length):int(0.8 * data_length)]\n",
    "test = short_data_df.iloc[int(0.8 * data_length):]\n",
    "\n",
    "X_train_norm  = train['num_timestamp'].values.reshape(-1,1)\n",
    "y_train_norm  = train['centered_car_count']\n",
    "X_valid_norm  = valid['num_timestamp'].values.reshape(-1,1)\n",
    "y_valid_norm  = valid['centered_car_count']\n",
    "X_test_norm  = test['num_timestamp'].values.reshape(-1,1)\n",
    "y_test_norm  = test['centered_car_count']\n"
   ]
  },
  {
   "cell_type": "code",
   "execution_count": 14,
   "metadata": {},
   "outputs": [],
   "source": [
    "from sklearn.gaussian_process.kernels import RationalQuadratic\n",
    "from sklearn.gaussian_process.kernels import RBF, WhiteKernel, ExpSineSquared, ConstantKernel, Matern as C\n",
    "from sklearn.gaussian_process.kernels import Matern\n",
    "\n",
    "k1 = 1.0 * RationalQuadratic(length_scale=1, alpha=0.5, alpha_bounds=(1e-5, 1e5))\n",
    "\n",
    "# # White kernel to account for noise\n",
    "# k2 = WhiteKernel(noise_level=0.2, noise_level_bounds=(1e-10, 1e+1))\n",
    "\n",
    "# #Periodic kernel\n",
    "# k3 = ExpSineSquared(length_scale=0.9,\n",
    "#                     length_scale_bounds=(1e-1, 10) ,\n",
    "#                     periodicity=0.2,\n",
    "#                     periodicity_bounds= (1e-1, 10))\n",
    "\n",
    "# RBF kernel with a length scale of 1.0\n",
    "# k4 = 10.0 * RBF(length_scale=1, length_scale_bounds=(1e-1, 1e4))\n",
    "\n",
    "# k5 = 1.0 * Matern(length_scale=1.0, nu=2)\n",
    "\n",
    "# Combined kernel\n",
    "kernel = k1 \n",
    "\n",
    "\n",
    "gpr = GaussianProcessRegressor(kernel=kernel, random_state= 42, n_restarts_optimizer= 10)\n"
   ]
  },
  {
   "cell_type": "code",
   "execution_count": 15,
   "metadata": {},
   "outputs": [],
   "source": [
    "# properly initiate a wandb exp run\n",
    "# plot_gpr_samples_plotly(gpr, 5, X_train_norm, y_train_norm)\n"
   ]
  },
  {
   "cell_type": "code",
   "execution_count": 16,
   "metadata": {},
   "outputs": [],
   "source": [
    "\n",
    "# y_pred, y_std, gpr_model = gpr_train( gpr, X_train_norm ,y_train_norm, X_test_norm, y_test_norm)"
   ]
  },
  {
   "cell_type": "code",
   "execution_count": 17,
   "metadata": {},
   "outputs": [],
   "source": [
    "def split_and_aggregate(data_df, features, target, agg_func='mean', train_ratio=0.6, valid_ratio=0.2):\n",
    "    \"\"\"\n",
    "    Prepares time series data for training a model. \n",
    "    The function splits the original data into train, validate, and test subsets, \n",
    "    aggregates them based on the specified function, and returns the X and y splits for each subset.\n",
    "    \n",
    "    Parameters:\n",
    "    - data_df: DataFrame containing the time series data\n",
    "    - features: list of feature column names\n",
    "    - target: target column name\n",
    "    - aggregation_func: function to use for aggregation, default is 'mean'\n",
    "    - train_ratio: fraction of data to be used for training\n",
    "    - valid_ratio: fraction of data to be used for validation\n",
    "    \n",
    "    Returns:\n",
    "    - X_train, y_train, X_valid, y_valid, X_test, y_test\n",
    "    \"\"\"\n",
    "    # filter features \n",
    "    data_df = data_df[['car_count', 'month_no', 'day', 'day_of_week', 'hour_of_day', 'min_of_day', 'centered_car_count','combined']]\n",
    "    \n",
    "    # Calculating the split indices\n",
    "    train_idx = int(train_ratio * len(data_df))\n",
    "    valid_idx = train_idx + int(valid_ratio * len(data_df))\n",
    "    \n",
    "    # Splitting the original dataframe\n",
    "    train_df = data_df.iloc[:train_idx]\n",
    "    valid_df = data_df.iloc[train_idx:valid_idx]\n",
    "    test_df = data_df.iloc[valid_idx:]\n",
    "    \n",
    "    # Aggregate dataframes\n",
    "    if agg_func == 'mean':\n",
    "        train_agg = train_df.groupby(features).mean().reset_index()\n",
    "        valid_agg = valid_df.groupby(features).mean().reset_index()\n",
    "        test_agg = test_df.groupby(features).mean().reset_index()\n",
    "        \n",
    "    # Separate X and y\n",
    "    X_train = train_agg[features].values.reshape(-1, 1)\n",
    "    y_train = train_agg[target].values\n",
    "    X_valid = valid_agg[features].values.reshape(-1, 1)\n",
    "    y_valid = valid_agg[target].values\n",
    "    X_test = test_agg[features].values.reshape(-1, 1)\n",
    "    y_test = test_agg[target].values\n",
    "    \n",
    "    return X_train, y_train, X_valid, y_valid, X_test, y_test, train_agg, valid_agg,test_agg\n"
   ]
  },
  {
   "cell_type": "code",
   "execution_count": 18,
   "metadata": {},
   "outputs": [],
   "source": [
    "train_ratio=0.6\n",
    "valid_ratio=0.2\n",
    "# filter features \n",
    "data_df = data_df[['car_count', 'month_no', 'day', 'day_of_week', 'hour_of_day', 'min_of_day', 'centered_car_count','combined']]\n",
    "\n",
    "# Calculating the split indices\n",
    "train_idx = int(train_ratio * len(data_df))\n",
    "valid_idx = train_idx + int(valid_ratio * len(data_df))\n",
    "\n",
    "# Splitting the original dataframe\n",
    "train_df = data_df.iloc[:train_idx]\n",
    "valid_df = data_df.iloc[train_idx:valid_idx]\n",
    "test_df = data_df.iloc[valid_idx:]"
   ]
  },
  {
   "cell_type": "code",
   "execution_count": 19,
   "metadata": {},
   "outputs": [],
   "source": [
    "def time_lagged_cross_validation(gpr, X_train, y_train, X_valid, y_valid, step=1):\n",
    "    \"\"\"\n",
    "    Perform time-lagged cross-validation on given train and validate data.\n",
    "    \n",
    "    Parameters:\n",
    "    - gpr: Gaussian Process Regressor model to be trained\n",
    "    - X_train: Training data features\n",
    "    - y_train: Training data target\n",
    "    - X_valid: Validation data features\n",
    "    - y_valid: Validation data target\n",
    "    - step: step size for sliding window\n",
    "    \n",
    "    Returns:\n",
    "    - List of metrics (e.g., MAE) for each validation step\n",
    "    \"\"\"\n",
    "    metrics_list = []\n",
    "    \n",
    "    # Determine the total size of train and validation data\n",
    "    total_size = X_train.shape[0] + X_valid.shape[0]\n",
    "    \n",
    "    # Define a function to compute the desired metric, e.g., MAE\n",
    "    def compute_metric(y_true, y_pred):\n",
    "        return mean_absolute_error(y_true, y_pred)\n",
    "    \n",
    "    for end_train_idx in range(X_train.shape[0], total_size, step):\n",
    "        # Split data into current train and validation subsets\n",
    "        current_X_train = X_train[:end_train_idx]\n",
    "        current_y_train = y_train[:end_train_idx]\n",
    "        \n",
    "        start_valid_idx = end_train_idx - X_train.shape[0]\n",
    "        current_X_valid = X_valid[start_valid_idx : start_valid_idx + step]\n",
    "        current_y_valid = y_valid[start_valid_idx : start_valid_idx + step]\n",
    "        \n",
    "        # Train the GPR model\n",
    "        gpr.fit(current_X_train, current_y_train)\n",
    "        \n",
    "        # Predict on the current validation set\n",
    "        y_pred = gpr.predict(current_X_valid)\n",
    "        \n",
    "        # Compute the metric and append to the list\n",
    "        metric_value = compute_metric(current_y_valid, y_pred)\n",
    "        metrics_list.append(metric_value)\n",
    "        \n",
    "    return metrics_list\n"
   ]
  },
  {
   "cell_type": "markdown",
   "metadata": {},
   "source": [
    "<h2>Exp 4: Agg on hour_of_day"
   ]
  },
  {
   "cell_type": "code",
   "execution_count": 20,
   "metadata": {},
   "outputs": [],
   "source": [
    "X_train, y_train, X_valid, y_valid, X_test, y_test ,train_agg, valid_agg,test_agg = split_and_aggregate(data_df, 'hour_of_day', 'centered_car_count', agg_func='mean',train_ratio=0.6,valid_ratio=0.2)\n"
   ]
  },
  {
   "cell_type": "code",
   "execution_count": 21,
   "metadata": {},
   "outputs": [
    {
     "data": {
      "text/html": [
       "<div>\n",
       "<style scoped>\n",
       "    .dataframe tbody tr th:only-of-type {\n",
       "        vertical-align: middle;\n",
       "    }\n",
       "\n",
       "    .dataframe tbody tr th {\n",
       "        vertical-align: top;\n",
       "    }\n",
       "\n",
       "    .dataframe thead th {\n",
       "        text-align: right;\n",
       "    }\n",
       "</style>\n",
       "<table border=\"1\" class=\"dataframe\">\n",
       "  <thead>\n",
       "    <tr style=\"text-align: right;\">\n",
       "      <th></th>\n",
       "      <th>hour_of_day</th>\n",
       "      <th>car_count</th>\n",
       "      <th>month_no</th>\n",
       "      <th>day</th>\n",
       "      <th>day_of_week</th>\n",
       "      <th>min_of_day</th>\n",
       "      <th>centered_car_count</th>\n",
       "      <th>combined</th>\n",
       "    </tr>\n",
       "  </thead>\n",
       "  <tbody>\n",
       "    <tr>\n",
       "      <th>0</th>\n",
       "      <td>0</td>\n",
       "      <td>6.913043</td>\n",
       "      <td>6.173913</td>\n",
       "      <td>14.608696</td>\n",
       "      <td>3.043478</td>\n",
       "      <td>29.695652</td>\n",
       "      <td>-6.133444</td>\n",
       "      <td>2639133939434948134801219005117734675746536887...</td>\n",
       "    </tr>\n",
       "    <tr>\n",
       "      <th>1</th>\n",
       "      <td>1</td>\n",
       "      <td>7.272727</td>\n",
       "      <td>6.181818</td>\n",
       "      <td>14.318182</td>\n",
       "      <td>3.409091</td>\n",
       "      <td>87.500000</td>\n",
       "      <td>-5.773760</td>\n",
       "      <td>2759140027591541150359942353162167688692007543...</td>\n",
       "    </tr>\n",
       "    <tr>\n",
       "      <th>2</th>\n",
       "      <td>2</td>\n",
       "      <td>6.250000</td>\n",
       "      <td>6.166667</td>\n",
       "      <td>14.625000</td>\n",
       "      <td>2.750000</td>\n",
       "      <td>149.291667</td>\n",
       "      <td>-6.796488</td>\n",
       "      <td>2529253775292662827217706711628852609835290231...</td>\n",
       "    </tr>\n",
       "    <tr>\n",
       "      <th>3</th>\n",
       "      <td>3</td>\n",
       "      <td>10.142857</td>\n",
       "      <td>6.190476</td>\n",
       "      <td>13.809524</td>\n",
       "      <td>3.285714</td>\n",
       "      <td>208.142857</td>\n",
       "      <td>-2.903630</td>\n",
       "      <td>2890623838430190909436371856221651458299178975...</td>\n",
       "    </tr>\n",
       "    <tr>\n",
       "      <th>4</th>\n",
       "      <td>4</td>\n",
       "      <td>14.750000</td>\n",
       "      <td>6.200000</td>\n",
       "      <td>13.250000</td>\n",
       "      <td>3.150000</td>\n",
       "      <td>268.400000</td>\n",
       "      <td>1.703512</td>\n",
       "      <td>3035205030352205476883158001889859255780948298...</td>\n",
       "    </tr>\n",
       "    <tr>\n",
       "      <th>5</th>\n",
       "      <td>5</td>\n",
       "      <td>15.047619</td>\n",
       "      <td>6.190476</td>\n",
       "      <td>13.571429</td>\n",
       "      <td>3.047619</td>\n",
       "      <td>329.380952</td>\n",
       "      <td>2.001131</td>\n",
       "      <td>2890719552716862265115357476170864274009233811...</td>\n",
       "    </tr>\n",
       "    <tr>\n",
       "      <th>6</th>\n",
       "      <td>6</td>\n",
       "      <td>13.476190</td>\n",
       "      <td>6.190476</td>\n",
       "      <td>13.523810</td>\n",
       "      <td>3.333333</td>\n",
       "      <td>390.285714</td>\n",
       "      <td>0.429703</td>\n",
       "      <td>2890767171764962370924538395179032877455765854...</td>\n",
       "    </tr>\n",
       "    <tr>\n",
       "      <th>7</th>\n",
       "      <td>7</td>\n",
       "      <td>11.090909</td>\n",
       "      <td>6.181818</td>\n",
       "      <td>14.363636</td>\n",
       "      <td>3.136364</td>\n",
       "      <td>450.818182</td>\n",
       "      <td>-1.955579</td>\n",
       "      <td>2759414573048827427047763386652591941903061788...</td>\n",
       "    </tr>\n",
       "    <tr>\n",
       "      <th>8</th>\n",
       "      <td>8</td>\n",
       "      <td>15.333333</td>\n",
       "      <td>6.190476</td>\n",
       "      <td>13.523810</td>\n",
       "      <td>3.333333</td>\n",
       "      <td>510.095238</td>\n",
       "      <td>2.286846</td>\n",
       "      <td>2890863362242109371576233654256192570118644576...</td>\n",
       "    </tr>\n",
       "    <tr>\n",
       "      <th>9</th>\n",
       "      <td>9</td>\n",
       "      <td>19.720000</td>\n",
       "      <td>6.160000</td>\n",
       "      <td>14.360000</td>\n",
       "      <td>2.760000</td>\n",
       "      <td>568.600000</td>\n",
       "      <td>6.673512</td>\n",
       "      <td>2428365224283776168776153520468601028980832495...</td>\n",
       "    </tr>\n",
       "    <tr>\n",
       "      <th>10</th>\n",
       "      <td>10</td>\n",
       "      <td>20.954545</td>\n",
       "      <td>6.181818</td>\n",
       "      <td>14.136364</td>\n",
       "      <td>2.909091</td>\n",
       "      <td>627.454545</td>\n",
       "      <td>7.908058</td>\n",
       "      <td>2759551845777472762126925145192912862716844617...</td>\n",
       "    </tr>\n",
       "    <tr>\n",
       "      <th>11</th>\n",
       "      <td>11</td>\n",
       "      <td>22.740741</td>\n",
       "      <td>6.148148</td>\n",
       "      <td>15.851852</td>\n",
       "      <td>2.666667</td>\n",
       "      <td>689.888889</td>\n",
       "      <td>9.694253</td>\n",
       "      <td>2248560763226463152366206134304643467267362002...</td>\n",
       "    </tr>\n",
       "    <tr>\n",
       "      <th>12</th>\n",
       "      <td>12</td>\n",
       "      <td>19.681818</td>\n",
       "      <td>6.181818</td>\n",
       "      <td>12.954545</td>\n",
       "      <td>3.318182</td>\n",
       "      <td>751.681818</td>\n",
       "      <td>6.635331</td>\n",
       "      <td>2759643209414750137190808570727622216818754357...</td>\n",
       "    </tr>\n",
       "    <tr>\n",
       "      <th>13</th>\n",
       "      <td>13</td>\n",
       "      <td>22.037037</td>\n",
       "      <td>6.296296</td>\n",
       "      <td>13.000000</td>\n",
       "      <td>2.777778</td>\n",
       "      <td>809.370370</td>\n",
       "      <td>8.990549</td>\n",
       "      <td>2248635578042022660141684083985274280091408218...</td>\n",
       "    </tr>\n",
       "    <tr>\n",
       "      <th>14</th>\n",
       "      <td>14</td>\n",
       "      <td>21.151515</td>\n",
       "      <td>6.242424</td>\n",
       "      <td>14.515152</td>\n",
       "      <td>2.696970</td>\n",
       "      <td>871.333333</td>\n",
       "      <td>8.105028</td>\n",
       "      <td>1839823048701354697695217512621518707905252002...</td>\n",
       "    </tr>\n",
       "    <tr>\n",
       "      <th>15</th>\n",
       "      <td>15</td>\n",
       "      <td>21.333333</td>\n",
       "      <td>6.296296</td>\n",
       "      <td>13.555556</td>\n",
       "      <td>2.814815</td>\n",
       "      <td>931.888889</td>\n",
       "      <td>8.286846</td>\n",
       "      <td>2248710022487211550975440496878099558044143037...</td>\n",
       "    </tr>\n",
       "    <tr>\n",
       "      <th>16</th>\n",
       "      <td>16</td>\n",
       "      <td>21.481481</td>\n",
       "      <td>6.148148</td>\n",
       "      <td>14.333333</td>\n",
       "      <td>2.703704</td>\n",
       "      <td>991.555556</td>\n",
       "      <td>8.434994</td>\n",
       "      <td>2248747059524622481946107833859724522791788855...</td>\n",
       "    </tr>\n",
       "    <tr>\n",
       "      <th>17</th>\n",
       "      <td>17</td>\n",
       "      <td>21.560000</td>\n",
       "      <td>6.160000</td>\n",
       "      <td>14.520000</td>\n",
       "      <td>2.640000</td>\n",
       "      <td>1049.600000</td>\n",
       "      <td>8.513512</td>\n",
       "      <td>2428687224286992238914550672504210814401359413...</td>\n",
       "    </tr>\n",
       "    <tr>\n",
       "      <th>18</th>\n",
       "      <td>18</td>\n",
       "      <td>17.250000</td>\n",
       "      <td>6.166667</td>\n",
       "      <td>14.083333</td>\n",
       "      <td>2.791667</td>\n",
       "      <td>1107.291667</td>\n",
       "      <td>4.203512</td>\n",
       "      <td>2529924191966037518790801472638999582920523391...</td>\n",
       "    </tr>\n",
       "    <tr>\n",
       "      <th>19</th>\n",
       "      <td>19</td>\n",
       "      <td>14.416667</td>\n",
       "      <td>6.166667</td>\n",
       "      <td>14.583333</td>\n",
       "      <td>3.000000</td>\n",
       "      <td>1166.125000</td>\n",
       "      <td>1.370179</td>\n",
       "      <td>2529966275299787441881607428341617290003829888...</td>\n",
       "    </tr>\n",
       "    <tr>\n",
       "      <th>20</th>\n",
       "      <td>20</td>\n",
       "      <td>11.821429</td>\n",
       "      <td>6.142857</td>\n",
       "      <td>14.464286</td>\n",
       "      <td>2.821429</td>\n",
       "      <td>1225.285714</td>\n",
       "      <td>-1.225059</td>\n",
       "      <td>2165012878828642972437808540445027068878268388...</td>\n",
       "    </tr>\n",
       "    <tr>\n",
       "      <th>21</th>\n",
       "      <td>21</td>\n",
       "      <td>12.040000</td>\n",
       "      <td>6.160000</td>\n",
       "      <td>12.080000</td>\n",
       "      <td>3.000000</td>\n",
       "      <td>1286.400000</td>\n",
       "      <td>-1.006488</td>\n",
       "      <td>2424842424248548292090553231114151124790405242...</td>\n",
       "    </tr>\n",
       "    <tr>\n",
       "      <th>22</th>\n",
       "      <td>22</td>\n",
       "      <td>9.925926</td>\n",
       "      <td>6.148148</td>\n",
       "      <td>12.962963</td>\n",
       "      <td>3.148148</td>\n",
       "      <td>1347.259259</td>\n",
       "      <td>-3.120562</td>\n",
       "      <td>2245261874304581526308204631642868529398049765...</td>\n",
       "    </tr>\n",
       "    <tr>\n",
       "      <th>23</th>\n",
       "      <td>23</td>\n",
       "      <td>6.863636</td>\n",
       "      <td>6.181818</td>\n",
       "      <td>13.136364</td>\n",
       "      <td>2.863636</td>\n",
       "      <td>1406.181818</td>\n",
       "      <td>-6.182851</td>\n",
       "      <td>2755594118465172944873648365611000427790189123...</td>\n",
       "    </tr>\n",
       "  </tbody>\n",
       "</table>\n",
       "</div>"
      ],
      "text/plain": [
       "    hour_of_day  car_count  month_no        day  day_of_week   min_of_day  \\\n",
       "0             0   6.913043  6.173913  14.608696     3.043478    29.695652   \n",
       "1             1   7.272727  6.181818  14.318182     3.409091    87.500000   \n",
       "2             2   6.250000  6.166667  14.625000     2.750000   149.291667   \n",
       "3             3  10.142857  6.190476  13.809524     3.285714   208.142857   \n",
       "4             4  14.750000  6.200000  13.250000     3.150000   268.400000   \n",
       "5             5  15.047619  6.190476  13.571429     3.047619   329.380952   \n",
       "6             6  13.476190  6.190476  13.523810     3.333333   390.285714   \n",
       "7             7  11.090909  6.181818  14.363636     3.136364   450.818182   \n",
       "8             8  15.333333  6.190476  13.523810     3.333333   510.095238   \n",
       "9             9  19.720000  6.160000  14.360000     2.760000   568.600000   \n",
       "10           10  20.954545  6.181818  14.136364     2.909091   627.454545   \n",
       "11           11  22.740741  6.148148  15.851852     2.666667   689.888889   \n",
       "12           12  19.681818  6.181818  12.954545     3.318182   751.681818   \n",
       "13           13  22.037037  6.296296  13.000000     2.777778   809.370370   \n",
       "14           14  21.151515  6.242424  14.515152     2.696970   871.333333   \n",
       "15           15  21.333333  6.296296  13.555556     2.814815   931.888889   \n",
       "16           16  21.481481  6.148148  14.333333     2.703704   991.555556   \n",
       "17           17  21.560000  6.160000  14.520000     2.640000  1049.600000   \n",
       "18           18  17.250000  6.166667  14.083333     2.791667  1107.291667   \n",
       "19           19  14.416667  6.166667  14.583333     3.000000  1166.125000   \n",
       "20           20  11.821429  6.142857  14.464286     2.821429  1225.285714   \n",
       "21           21  12.040000  6.160000  12.080000     3.000000  1286.400000   \n",
       "22           22   9.925926  6.148148  12.962963     3.148148  1347.259259   \n",
       "23           23   6.863636  6.181818  13.136364     2.863636  1406.181818   \n",
       "\n",
       "    centered_car_count                                           combined  \n",
       "0            -6.133444  2639133939434948134801219005117734675746536887...  \n",
       "1            -5.773760  2759140027591541150359942353162167688692007543...  \n",
       "2            -6.796488  2529253775292662827217706711628852609835290231...  \n",
       "3            -2.903630  2890623838430190909436371856221651458299178975...  \n",
       "4             1.703512  3035205030352205476883158001889859255780948298...  \n",
       "5             2.001131  2890719552716862265115357476170864274009233811...  \n",
       "6             0.429703  2890767171764962370924538395179032877455765854...  \n",
       "7            -1.955579  2759414573048827427047763386652591941903061788...  \n",
       "8             2.286846  2890863362242109371576233654256192570118644576...  \n",
       "9             6.673512  2428365224283776168776153520468601028980832495...  \n",
       "10            7.908058  2759551845777472762126925145192912862716844617...  \n",
       "11            9.694253  2248560763226463152366206134304643467267362002...  \n",
       "12            6.635331  2759643209414750137190808570727622216818754357...  \n",
       "13            8.990549  2248635578042022660141684083985274280091408218...  \n",
       "14            8.105028  1839823048701354697695217512621518707905252002...  \n",
       "15            8.286846  2248710022487211550975440496878099558044143037...  \n",
       "16            8.434994  2248747059524622481946107833859724522791788855...  \n",
       "17            8.513512  2428687224286992238914550672504210814401359413...  \n",
       "18            4.203512  2529924191966037518790801472638999582920523391...  \n",
       "19            1.370179  2529966275299787441881607428341617290003829888...  \n",
       "20           -1.225059  2165012878828642972437808540445027068878268388...  \n",
       "21           -1.006488  2424842424248548292090553231114151124790405242...  \n",
       "22           -3.120562  2245261874304581526308204631642868529398049765...  \n",
       "23           -6.182851  2755594118465172944873648365611000427790189123...  "
      ]
     },
     "execution_count": 21,
     "metadata": {},
     "output_type": "execute_result"
    }
   ],
   "source": [
    "train_agg"
   ]
  },
  {
   "cell_type": "code",
   "execution_count": 22,
   "metadata": {},
   "outputs": [
    {
     "data": {
      "text/html": [
       "<div>\n",
       "<style scoped>\n",
       "    .dataframe tbody tr th:only-of-type {\n",
       "        vertical-align: middle;\n",
       "    }\n",
       "\n",
       "    .dataframe tbody tr th {\n",
       "        vertical-align: top;\n",
       "    }\n",
       "\n",
       "    .dataframe thead th {\n",
       "        text-align: right;\n",
       "    }\n",
       "</style>\n",
       "<table border=\"1\" class=\"dataframe\">\n",
       "  <thead>\n",
       "    <tr style=\"text-align: right;\">\n",
       "      <th></th>\n",
       "      <th>hour_of_day</th>\n",
       "      <th>car_count</th>\n",
       "      <th>month_no</th>\n",
       "      <th>day</th>\n",
       "      <th>day_of_week</th>\n",
       "      <th>min_of_day</th>\n",
       "      <th>centered_car_count</th>\n",
       "      <th>combined</th>\n",
       "    </tr>\n",
       "  </thead>\n",
       "  <tbody>\n",
       "    <tr>\n",
       "      <th>0</th>\n",
       "      <td>0</td>\n",
       "      <td>1.857143</td>\n",
       "      <td>8.0</td>\n",
       "      <td>5.428571</td>\n",
       "      <td>4.428571</td>\n",
       "      <td>26.714286</td>\n",
       "      <td>-11.189345</td>\n",
       "      <td>1148572868628628694076549069603277755032768983...</td>\n",
       "    </tr>\n",
       "    <tr>\n",
       "      <th>1</th>\n",
       "      <td>1</td>\n",
       "      <td>3.000000</td>\n",
       "      <td>8.0</td>\n",
       "      <td>5.750000</td>\n",
       "      <td>4.000000</td>\n",
       "      <td>83.500000</td>\n",
       "      <td>-10.046488</td>\n",
       "      <td>1005013760050175045522963013077515641449158701...</td>\n",
       "    </tr>\n",
       "    <tr>\n",
       "      <th>2</th>\n",
       "      <td>2</td>\n",
       "      <td>2.750000</td>\n",
       "      <td>8.0</td>\n",
       "      <td>5.750000</td>\n",
       "      <td>4.000000</td>\n",
       "      <td>143.875000</td>\n",
       "      <td>-10.296488</td>\n",
       "      <td>1005026260050300143630950962302295588087775110...</td>\n",
       "    </tr>\n",
       "    <tr>\n",
       "      <th>3</th>\n",
       "      <td>3</td>\n",
       "      <td>2.000000</td>\n",
       "      <td>8.0</td>\n",
       "      <td>5.750000</td>\n",
       "      <td>4.000000</td>\n",
       "      <td>204.125000</td>\n",
       "      <td>-11.046488</td>\n",
       "      <td>1005038760050426383537093076294980381355167080...</td>\n",
       "    </tr>\n",
       "    <tr>\n",
       "      <th>4</th>\n",
       "      <td>4</td>\n",
       "      <td>3.375000</td>\n",
       "      <td>8.0</td>\n",
       "      <td>5.750000</td>\n",
       "      <td>4.000000</td>\n",
       "      <td>264.250000</td>\n",
       "      <td>-9.671488</td>\n",
       "      <td>1005051385050551338490614669830396309726434695...</td>\n",
       "    </tr>\n",
       "    <tr>\n",
       "      <th>5</th>\n",
       "      <td>5</td>\n",
       "      <td>4.875000</td>\n",
       "      <td>8.0</td>\n",
       "      <td>5.750000</td>\n",
       "      <td>4.000000</td>\n",
       "      <td>324.500000</td>\n",
       "      <td>-8.171488</td>\n",
       "      <td>1005063885050676322418787202578385771702173549...</td>\n",
       "    </tr>\n",
       "    <tr>\n",
       "      <th>6</th>\n",
       "      <td>6</td>\n",
       "      <td>4.625000</td>\n",
       "      <td>8.0</td>\n",
       "      <td>5.750000</td>\n",
       "      <td>4.000000</td>\n",
       "      <td>384.875000</td>\n",
       "      <td>-8.421488</td>\n",
       "      <td>1005076385050801306346959735326375233677912402...</td>\n",
       "    </tr>\n",
       "    <tr>\n",
       "      <th>7</th>\n",
       "      <td>7</td>\n",
       "      <td>7.375000</td>\n",
       "      <td>8.0</td>\n",
       "      <td>5.750000</td>\n",
       "      <td>4.000000</td>\n",
       "      <td>445.125000</td>\n",
       "      <td>-5.671488</td>\n",
       "      <td>1005088885050927546253101849319060026945304371...</td>\n",
       "    </tr>\n",
       "    <tr>\n",
       "      <th>8</th>\n",
       "      <td>8</td>\n",
       "      <td>8.375000</td>\n",
       "      <td>8.0</td>\n",
       "      <td>5.750000</td>\n",
       "      <td>4.000000</td>\n",
       "      <td>505.375000</td>\n",
       "      <td>-4.671488</td>\n",
       "      <td>1005101510051052615386438859331266439979449543...</td>\n",
       "    </tr>\n",
       "    <tr>\n",
       "      <th>9</th>\n",
       "      <td>9</td>\n",
       "      <td>9.750000</td>\n",
       "      <td>8.0</td>\n",
       "      <td>5.750000</td>\n",
       "      <td>4.000000</td>\n",
       "      <td>565.500000</td>\n",
       "      <td>-3.296488</td>\n",
       "      <td>1005114010051177599314611392079255901955188396...</td>\n",
       "    </tr>\n",
       "    <tr>\n",
       "      <th>10</th>\n",
       "      <td>10</td>\n",
       "      <td>10.375000</td>\n",
       "      <td>8.0</td>\n",
       "      <td>5.750000</td>\n",
       "      <td>4.000000</td>\n",
       "      <td>625.875000</td>\n",
       "      <td>-2.671488</td>\n",
       "      <td>1005126510051302583242783924827245363930927250...</td>\n",
       "    </tr>\n",
       "    <tr>\n",
       "      <th>11</th>\n",
       "      <td>11</td>\n",
       "      <td>11.500000</td>\n",
       "      <td>8.0</td>\n",
       "      <td>5.750000</td>\n",
       "      <td>4.000000</td>\n",
       "      <td>686.125000</td>\n",
       "      <td>-1.546488</td>\n",
       "      <td>1005139010051428823148926038819930157198319219...</td>\n",
       "    </tr>\n",
       "    <tr>\n",
       "      <th>12</th>\n",
       "      <td>12</td>\n",
       "      <td>11.375000</td>\n",
       "      <td>8.0</td>\n",
       "      <td>5.750000</td>\n",
       "      <td>4.000000</td>\n",
       "      <td>746.500000</td>\n",
       "      <td>-1.671488</td>\n",
       "      <td>1005151635051553892282263048832136570232464390...</td>\n",
       "    </tr>\n",
       "    <tr>\n",
       "      <th>13</th>\n",
       "      <td>13</td>\n",
       "      <td>9.142857</td>\n",
       "      <td>8.0</td>\n",
       "      <td>5.428571</td>\n",
       "      <td>4.428571</td>\n",
       "      <td>805.714286</td>\n",
       "      <td>-3.903630</td>\n",
       "      <td>1148759011487632939441355138801225742151447030...</td>\n",
       "    </tr>\n",
       "    <tr>\n",
       "      <th>14</th>\n",
       "      <td>14</td>\n",
       "      <td>7.625000</td>\n",
       "      <td>8.0</td>\n",
       "      <td>5.500000</td>\n",
       "      <td>3.750000</td>\n",
       "      <td>872.875000</td>\n",
       "      <td>-5.421488</td>\n",
       "      <td>1005176635051803860138608114328115494183942098...</td>\n",
       "    </tr>\n",
       "    <tr>\n",
       "      <th>15</th>\n",
       "      <td>15</td>\n",
       "      <td>10.000000</td>\n",
       "      <td>8.0</td>\n",
       "      <td>5.500000</td>\n",
       "      <td>3.750000</td>\n",
       "      <td>932.375000</td>\n",
       "      <td>-3.046488</td>\n",
       "      <td>1005189260051921393404127636872149919468168576...</td>\n",
       "    </tr>\n",
       "    <tr>\n",
       "      <th>16</th>\n",
       "      <td>16</td>\n",
       "      <td>7.500000</td>\n",
       "      <td>8.0</td>\n",
       "      <td>5.000000</td>\n",
       "      <td>3.600000</td>\n",
       "      <td>989.900000</td>\n",
       "      <td>-5.546488</td>\n",
       "      <td>8031608080316380317091786746589855440622698352...</td>\n",
       "    </tr>\n",
       "    <tr>\n",
       "      <th>17</th>\n",
       "      <td>17</td>\n",
       "      <td>7.000000</td>\n",
       "      <td>8.0</td>\n",
       "      <td>4.888889</td>\n",
       "      <td>3.333333</td>\n",
       "      <td>1047.888889</td>\n",
       "      <td>-6.046488</td>\n",
       "      <td>8924120089241533503387447396687222345453838673...</td>\n",
       "    </tr>\n",
       "    <tr>\n",
       "      <th>18</th>\n",
       "      <td>18</td>\n",
       "      <td>5.750000</td>\n",
       "      <td>8.0</td>\n",
       "      <td>4.750000</td>\n",
       "      <td>3.000000</td>\n",
       "      <td>1109.250000</td>\n",
       "      <td>-7.296488</td>\n",
       "      <td>1003976010039797555320220513208660886133939426...</td>\n",
       "    </tr>\n",
       "    <tr>\n",
       "      <th>19</th>\n",
       "      <td>19</td>\n",
       "      <td>7.125000</td>\n",
       "      <td>8.0</td>\n",
       "      <td>4.750000</td>\n",
       "      <td>3.000000</td>\n",
       "      <td>1169.500000</td>\n",
       "      <td>-5.921488</td>\n",
       "      <td>1003988510039922653428208462433440832772555836...</td>\n",
       "    </tr>\n",
       "    <tr>\n",
       "      <th>20</th>\n",
       "      <td>20</td>\n",
       "      <td>5.750000</td>\n",
       "      <td>8.0</td>\n",
       "      <td>4.750000</td>\n",
       "      <td>3.000000</td>\n",
       "      <td>1229.875000</td>\n",
       "      <td>-7.296488</td>\n",
       "      <td>1004001135040048864359699637213552092435476567...</td>\n",
       "    </tr>\n",
       "    <tr>\n",
       "      <th>21</th>\n",
       "      <td>21</td>\n",
       "      <td>1.500000</td>\n",
       "      <td>8.0</td>\n",
       "      <td>4.750000</td>\n",
       "      <td>3.000000</td>\n",
       "      <td>1290.000000</td>\n",
       "      <td>-11.546488</td>\n",
       "      <td>1004013635040173848287872169961541554411215420...</td>\n",
       "    </tr>\n",
       "    <tr>\n",
       "      <th>22</th>\n",
       "      <td>22</td>\n",
       "      <td>1.250000</td>\n",
       "      <td>8.0</td>\n",
       "      <td>4.750000</td>\n",
       "      <td>3.000000</td>\n",
       "      <td>1350.375000</td>\n",
       "      <td>-11.796488</td>\n",
       "      <td>1004026135040298832216044702709531016386954274...</td>\n",
       "    </tr>\n",
       "    <tr>\n",
       "      <th>23</th>\n",
       "      <td>23</td>\n",
       "      <td>1.625000</td>\n",
       "      <td>8.0</td>\n",
       "      <td>4.750000</td>\n",
       "      <td>3.000000</td>\n",
       "      <td>1410.625000</td>\n",
       "      <td>-11.421488</td>\n",
       "      <td>1004038635040425072122186816702215809654346243...</td>\n",
       "    </tr>\n",
       "  </tbody>\n",
       "</table>\n",
       "</div>"
      ],
      "text/plain": [
       "    hour_of_day  car_count  month_no       day  day_of_week   min_of_day  \\\n",
       "0             0   1.857143       8.0  5.428571     4.428571    26.714286   \n",
       "1             1   3.000000       8.0  5.750000     4.000000    83.500000   \n",
       "2             2   2.750000       8.0  5.750000     4.000000   143.875000   \n",
       "3             3   2.000000       8.0  5.750000     4.000000   204.125000   \n",
       "4             4   3.375000       8.0  5.750000     4.000000   264.250000   \n",
       "5             5   4.875000       8.0  5.750000     4.000000   324.500000   \n",
       "6             6   4.625000       8.0  5.750000     4.000000   384.875000   \n",
       "7             7   7.375000       8.0  5.750000     4.000000   445.125000   \n",
       "8             8   8.375000       8.0  5.750000     4.000000   505.375000   \n",
       "9             9   9.750000       8.0  5.750000     4.000000   565.500000   \n",
       "10           10  10.375000       8.0  5.750000     4.000000   625.875000   \n",
       "11           11  11.500000       8.0  5.750000     4.000000   686.125000   \n",
       "12           12  11.375000       8.0  5.750000     4.000000   746.500000   \n",
       "13           13   9.142857       8.0  5.428571     4.428571   805.714286   \n",
       "14           14   7.625000       8.0  5.500000     3.750000   872.875000   \n",
       "15           15  10.000000       8.0  5.500000     3.750000   932.375000   \n",
       "16           16   7.500000       8.0  5.000000     3.600000   989.900000   \n",
       "17           17   7.000000       8.0  4.888889     3.333333  1047.888889   \n",
       "18           18   5.750000       8.0  4.750000     3.000000  1109.250000   \n",
       "19           19   7.125000       8.0  4.750000     3.000000  1169.500000   \n",
       "20           20   5.750000       8.0  4.750000     3.000000  1229.875000   \n",
       "21           21   1.500000       8.0  4.750000     3.000000  1290.000000   \n",
       "22           22   1.250000       8.0  4.750000     3.000000  1350.375000   \n",
       "23           23   1.625000       8.0  4.750000     3.000000  1410.625000   \n",
       "\n",
       "    centered_car_count                                           combined  \n",
       "0           -11.189345  1148572868628628694076549069603277755032768983...  \n",
       "1           -10.046488  1005013760050175045522963013077515641449158701...  \n",
       "2           -10.296488  1005026260050300143630950962302295588087775110...  \n",
       "3           -11.046488  1005038760050426383537093076294980381355167080...  \n",
       "4            -9.671488  1005051385050551338490614669830396309726434695...  \n",
       "5            -8.171488  1005063885050676322418787202578385771702173549...  \n",
       "6            -8.421488  1005076385050801306346959735326375233677912402...  \n",
       "7            -5.671488  1005088885050927546253101849319060026945304371...  \n",
       "8            -4.671488  1005101510051052615386438859331266439979449543...  \n",
       "9            -3.296488  1005114010051177599314611392079255901955188396...  \n",
       "10           -2.671488  1005126510051302583242783924827245363930927250...  \n",
       "11           -1.546488  1005139010051428823148926038819930157198319219...  \n",
       "12           -1.671488  1005151635051553892282263048832136570232464390...  \n",
       "13           -3.903630  1148759011487632939441355138801225742151447030...  \n",
       "14           -5.421488  1005176635051803860138608114328115494183942098...  \n",
       "15           -3.046488  1005189260051921393404127636872149919468168576...  \n",
       "16           -5.546488  8031608080316380317091786746589855440622698352...  \n",
       "17           -6.046488  8924120089241533503387447396687222345453838673...  \n",
       "18           -7.296488  1003976010039797555320220513208660886133939426...  \n",
       "19           -5.921488  1003988510039922653428208462433440832772555836...  \n",
       "20           -7.296488  1004001135040048864359699637213552092435476567...  \n",
       "21          -11.546488  1004013635040173848287872169961541554411215420...  \n",
       "22          -11.796488  1004026135040298832216044702709531016386954274...  \n",
       "23          -11.421488  1004038635040425072122186816702215809654346243...  "
      ]
     },
     "execution_count": 22,
     "metadata": {},
     "output_type": "execute_result"
    }
   ],
   "source": [
    "valid_agg"
   ]
  },
  {
   "cell_type": "code",
   "execution_count": 23,
   "metadata": {},
   "outputs": [
    {
     "data": {
      "text/html": [
       "<div>\n",
       "<style scoped>\n",
       "    .dataframe tbody tr th:only-of-type {\n",
       "        vertical-align: middle;\n",
       "    }\n",
       "\n",
       "    .dataframe tbody tr th {\n",
       "        vertical-align: top;\n",
       "    }\n",
       "\n",
       "    .dataframe thead th {\n",
       "        text-align: right;\n",
       "    }\n",
       "</style>\n",
       "<table border=\"1\" class=\"dataframe\">\n",
       "  <thead>\n",
       "    <tr style=\"text-align: right;\">\n",
       "      <th></th>\n",
       "      <th>hour_of_day</th>\n",
       "      <th>car_count</th>\n",
       "      <th>month_no</th>\n",
       "      <th>day</th>\n",
       "      <th>day_of_week</th>\n",
       "      <th>min_of_day</th>\n",
       "      <th>centered_car_count</th>\n",
       "      <th>combined</th>\n",
       "    </tr>\n",
       "  </thead>\n",
       "  <tbody>\n",
       "    <tr>\n",
       "      <th>0</th>\n",
       "      <td>0</td>\n",
       "      <td>6.625000</td>\n",
       "      <td>8.0</td>\n",
       "      <td>11.000000</td>\n",
       "      <td>2.250000</td>\n",
       "      <td>32.500000</td>\n",
       "      <td>-6.421488</td>\n",
       "      <td>1011250760112545110254861439571103902995548054...</td>\n",
       "    </tr>\n",
       "    <tr>\n",
       "      <th>1</th>\n",
       "      <td>1</td>\n",
       "      <td>5.100000</td>\n",
       "      <td>8.0</td>\n",
       "      <td>11.400000</td>\n",
       "      <td>3.000000</td>\n",
       "      <td>92.500000</td>\n",
       "      <td>-7.946488</td>\n",
       "      <td>8090106080901360100986303457935264613138003813...</td>\n",
       "    </tr>\n",
       "    <tr>\n",
       "      <th>2</th>\n",
       "      <td>2</td>\n",
       "      <td>5.500000</td>\n",
       "      <td>8.0</td>\n",
       "      <td>11.400000</td>\n",
       "      <td>3.000000</td>\n",
       "      <td>152.600000</td>\n",
       "      <td>-7.546488</td>\n",
       "      <td>8090206080902361205041350356888848855791240858...</td>\n",
       "    </tr>\n",
       "    <tr>\n",
       "      <th>3</th>\n",
       "      <td>3</td>\n",
       "      <td>5.222222</td>\n",
       "      <td>8.0</td>\n",
       "      <td>11.444444</td>\n",
       "      <td>2.888889</td>\n",
       "      <td>210.777778</td>\n",
       "      <td>-7.824265</td>\n",
       "      <td>8989230089892633553799202900887185891560204058...</td>\n",
       "    </tr>\n",
       "    <tr>\n",
       "      <th>4</th>\n",
       "      <td>4</td>\n",
       "      <td>6.000000</td>\n",
       "      <td>8.0</td>\n",
       "      <td>11.500000</td>\n",
       "      <td>2.750000</td>\n",
       "      <td>271.750000</td>\n",
       "      <td>-7.046488</td>\n",
       "      <td>1011300885113046387150685629071974033248562902...</td>\n",
       "    </tr>\n",
       "    <tr>\n",
       "      <th>5</th>\n",
       "      <td>5</td>\n",
       "      <td>8.500000</td>\n",
       "      <td>8.0</td>\n",
       "      <td>11.500000</td>\n",
       "      <td>2.750000</td>\n",
       "      <td>331.875000</td>\n",
       "      <td>-4.546488</td>\n",
       "      <td>1011313385113171371078858161819963495224301755...</td>\n",
       "    </tr>\n",
       "    <tr>\n",
       "      <th>6</th>\n",
       "      <td>6</td>\n",
       "      <td>12.375000</td>\n",
       "      <td>8.0</td>\n",
       "      <td>11.500000</td>\n",
       "      <td>2.750000</td>\n",
       "      <td>392.000000</td>\n",
       "      <td>-0.671488</td>\n",
       "      <td>1011325885113296355007030694567952957200040609...</td>\n",
       "    </tr>\n",
       "    <tr>\n",
       "      <th>7</th>\n",
       "      <td>7</td>\n",
       "      <td>11.375000</td>\n",
       "      <td>8.0</td>\n",
       "      <td>11.500000</td>\n",
       "      <td>2.750000</td>\n",
       "      <td>452.500000</td>\n",
       "      <td>-1.671488</td>\n",
       "      <td>1011338510113422565938521869348064216862961340...</td>\n",
       "    </tr>\n",
       "    <tr>\n",
       "      <th>8</th>\n",
       "      <td>8</td>\n",
       "      <td>14.000000</td>\n",
       "      <td>8.0</td>\n",
       "      <td>11.500000</td>\n",
       "      <td>2.750000</td>\n",
       "      <td>512.750000</td>\n",
       "      <td>0.953512</td>\n",
       "      <td>1011351010113547549866694402096053678838700193...</td>\n",
       "    </tr>\n",
       "    <tr>\n",
       "      <th>9</th>\n",
       "      <td>9</td>\n",
       "      <td>14.500000</td>\n",
       "      <td>8.0</td>\n",
       "      <td>11.500000</td>\n",
       "      <td>2.750000</td>\n",
       "      <td>573.000000</td>\n",
       "      <td>1.453512</td>\n",
       "      <td>1011363510113672647974682351320833625477316603...</td>\n",
       "    </tr>\n",
       "    <tr>\n",
       "      <th>10</th>\n",
       "      <td>10</td>\n",
       "      <td>15.125000</td>\n",
       "      <td>8.0</td>\n",
       "      <td>11.500000</td>\n",
       "      <td>2.750000</td>\n",
       "      <td>633.125000</td>\n",
       "      <td>2.078512</td>\n",
       "      <td>1011376010113798887880824465313518418744708572...</td>\n",
       "    </tr>\n",
       "    <tr>\n",
       "      <th>11</th>\n",
       "      <td>11</td>\n",
       "      <td>15.875000</td>\n",
       "      <td>8.0</td>\n",
       "      <td>11.500000</td>\n",
       "      <td>2.750000</td>\n",
       "      <td>693.625000</td>\n",
       "      <td>2.828512</td>\n",
       "      <td>1011388635113923842834346058848934347115976188...</td>\n",
       "    </tr>\n",
       "    <tr>\n",
       "      <th>12</th>\n",
       "      <td>12</td>\n",
       "      <td>12.000000</td>\n",
       "      <td>8.0</td>\n",
       "      <td>11.500000</td>\n",
       "      <td>2.750000</td>\n",
       "      <td>753.875000</td>\n",
       "      <td>-1.046488</td>\n",
       "      <td>1011401135114048826762518591596923809091715041...</td>\n",
       "    </tr>\n",
       "    <tr>\n",
       "      <th>13</th>\n",
       "      <td>13</td>\n",
       "      <td>19.375000</td>\n",
       "      <td>8.0</td>\n",
       "      <td>10.750000</td>\n",
       "      <td>2.875000</td>\n",
       "      <td>811.125000</td>\n",
       "      <td>6.328512</td>\n",
       "      <td>1010166635114136307536369585357698373442716250...</td>\n",
       "    </tr>\n",
       "    <tr>\n",
       "      <th>14</th>\n",
       "      <td>14</td>\n",
       "      <td>22.750000</td>\n",
       "      <td>8.0</td>\n",
       "      <td>10.000000</td>\n",
       "      <td>3.000000</td>\n",
       "      <td>868.500000</td>\n",
       "      <td>9.703512</td>\n",
       "      <td>1010175385101791327084467282949368479403052785...</td>\n",
       "    </tr>\n",
       "    <tr>\n",
       "      <th>15</th>\n",
       "      <td>15</td>\n",
       "      <td>22.250000</td>\n",
       "      <td>8.0</td>\n",
       "      <td>10.000000</td>\n",
       "      <td>3.000000</td>\n",
       "      <td>928.625000</td>\n",
       "      <td>9.203512</td>\n",
       "      <td>1010187885101916311012639815697357941378791639...</td>\n",
       "    </tr>\n",
       "    <tr>\n",
       "      <th>16</th>\n",
       "      <td>16</td>\n",
       "      <td>17.000000</td>\n",
       "      <td>8.0</td>\n",
       "      <td>10.142857</td>\n",
       "      <td>3.142857</td>\n",
       "      <td>987.571429</td>\n",
       "      <td>3.953512</td>\n",
       "      <td>1154514868688048603307749983848737712097375640...</td>\n",
       "    </tr>\n",
       "    <tr>\n",
       "      <th>17</th>\n",
       "      <td>17</td>\n",
       "      <td>20.285714</td>\n",
       "      <td>8.0</td>\n",
       "      <td>10.142857</td>\n",
       "      <td>3.142857</td>\n",
       "      <td>1052.714286</td>\n",
       "      <td>7.239227</td>\n",
       "      <td>1154529154402477135469970082367400497235122897...</td>\n",
       "    </tr>\n",
       "    <tr>\n",
       "      <th>18</th>\n",
       "      <td>18</td>\n",
       "      <td>23.000000</td>\n",
       "      <td>8.0</td>\n",
       "      <td>10.000000</td>\n",
       "      <td>3.000000</td>\n",
       "      <td>1110.625000</td>\n",
       "      <td>9.953512</td>\n",
       "      <td>1010225510102292603980291472450238609656067633...</td>\n",
       "    </tr>\n",
       "    <tr>\n",
       "      <th>19</th>\n",
       "      <td>19</td>\n",
       "      <td>20.750000</td>\n",
       "      <td>8.0</td>\n",
       "      <td>10.000000</td>\n",
       "      <td>3.000000</td>\n",
       "      <td>1171.000000</td>\n",
       "      <td>7.703512</td>\n",
       "      <td>1010238010102418843886433586442923402923459602...</td>\n",
       "    </tr>\n",
       "    <tr>\n",
       "      <th>20</th>\n",
       "      <td>20</td>\n",
       "      <td>16.125000</td>\n",
       "      <td>8.0</td>\n",
       "      <td>10.000000</td>\n",
       "      <td>3.000000</td>\n",
       "      <td>1231.375000</td>\n",
       "      <td>3.078512</td>\n",
       "      <td>1010250635102543798839955179978339331294727217...</td>\n",
       "    </tr>\n",
       "    <tr>\n",
       "      <th>21</th>\n",
       "      <td>21</td>\n",
       "      <td>9.625000</td>\n",
       "      <td>8.0</td>\n",
       "      <td>10.000000</td>\n",
       "      <td>3.000000</td>\n",
       "      <td>1291.500000</td>\n",
       "      <td>-3.421488</td>\n",
       "      <td>1010263135102668896947943129203119277933343627...</td>\n",
       "    </tr>\n",
       "    <tr>\n",
       "      <th>22</th>\n",
       "      <td>22</td>\n",
       "      <td>6.125000</td>\n",
       "      <td>8.0</td>\n",
       "      <td>10.000000</td>\n",
       "      <td>3.000000</td>\n",
       "      <td>1351.750000</td>\n",
       "      <td>-6.921488</td>\n",
       "      <td>1010275635102793880876115661951108739909082480...</td>\n",
       "    </tr>\n",
       "    <tr>\n",
       "      <th>23</th>\n",
       "      <td>23</td>\n",
       "      <td>5.875000</td>\n",
       "      <td>8.0</td>\n",
       "      <td>10.000000</td>\n",
       "      <td>3.000000</td>\n",
       "      <td>1412.125000</td>\n",
       "      <td>-7.171488</td>\n",
       "      <td>1010288260102920091807606836731219999572003211...</td>\n",
       "    </tr>\n",
       "  </tbody>\n",
       "</table>\n",
       "</div>"
      ],
      "text/plain": [
       "    hour_of_day  car_count  month_no        day  day_of_week   min_of_day  \\\n",
       "0             0   6.625000       8.0  11.000000     2.250000    32.500000   \n",
       "1             1   5.100000       8.0  11.400000     3.000000    92.500000   \n",
       "2             2   5.500000       8.0  11.400000     3.000000   152.600000   \n",
       "3             3   5.222222       8.0  11.444444     2.888889   210.777778   \n",
       "4             4   6.000000       8.0  11.500000     2.750000   271.750000   \n",
       "5             5   8.500000       8.0  11.500000     2.750000   331.875000   \n",
       "6             6  12.375000       8.0  11.500000     2.750000   392.000000   \n",
       "7             7  11.375000       8.0  11.500000     2.750000   452.500000   \n",
       "8             8  14.000000       8.0  11.500000     2.750000   512.750000   \n",
       "9             9  14.500000       8.0  11.500000     2.750000   573.000000   \n",
       "10           10  15.125000       8.0  11.500000     2.750000   633.125000   \n",
       "11           11  15.875000       8.0  11.500000     2.750000   693.625000   \n",
       "12           12  12.000000       8.0  11.500000     2.750000   753.875000   \n",
       "13           13  19.375000       8.0  10.750000     2.875000   811.125000   \n",
       "14           14  22.750000       8.0  10.000000     3.000000   868.500000   \n",
       "15           15  22.250000       8.0  10.000000     3.000000   928.625000   \n",
       "16           16  17.000000       8.0  10.142857     3.142857   987.571429   \n",
       "17           17  20.285714       8.0  10.142857     3.142857  1052.714286   \n",
       "18           18  23.000000       8.0  10.000000     3.000000  1110.625000   \n",
       "19           19  20.750000       8.0  10.000000     3.000000  1171.000000   \n",
       "20           20  16.125000       8.0  10.000000     3.000000  1231.375000   \n",
       "21           21   9.625000       8.0  10.000000     3.000000  1291.500000   \n",
       "22           22   6.125000       8.0  10.000000     3.000000  1351.750000   \n",
       "23           23   5.875000       8.0  10.000000     3.000000  1412.125000   \n",
       "\n",
       "    centered_car_count                                           combined  \n",
       "0            -6.421488  1011250760112545110254861439571103902995548054...  \n",
       "1            -7.946488  8090106080901360100986303457935264613138003813...  \n",
       "2            -7.546488  8090206080902361205041350356888848855791240858...  \n",
       "3            -7.824265  8989230089892633553799202900887185891560204058...  \n",
       "4            -7.046488  1011300885113046387150685629071974033248562902...  \n",
       "5            -4.546488  1011313385113171371078858161819963495224301755...  \n",
       "6            -0.671488  1011325885113296355007030694567952957200040609...  \n",
       "7            -1.671488  1011338510113422565938521869348064216862961340...  \n",
       "8             0.953512  1011351010113547549866694402096053678838700193...  \n",
       "9             1.453512  1011363510113672647974682351320833625477316603...  \n",
       "10            2.078512  1011376010113798887880824465313518418744708572...  \n",
       "11            2.828512  1011388635113923842834346058848934347115976188...  \n",
       "12           -1.046488  1011401135114048826762518591596923809091715041...  \n",
       "13            6.328512  1010166635114136307536369585357698373442716250...  \n",
       "14            9.703512  1010175385101791327084467282949368479403052785...  \n",
       "15            9.203512  1010187885101916311012639815697357941378791639...  \n",
       "16            3.953512  1154514868688048603307749983848737712097375640...  \n",
       "17            7.239227  1154529154402477135469970082367400497235122897...  \n",
       "18            9.953512  1010225510102292603980291472450238609656067633...  \n",
       "19            7.703512  1010238010102418843886433586442923402923459602...  \n",
       "20            3.078512  1010250635102543798839955179978339331294727217...  \n",
       "21           -3.421488  1010263135102668896947943129203119277933343627...  \n",
       "22           -6.921488  1010275635102793880876115661951108739909082480...  \n",
       "23           -7.171488  1010288260102920091807606836731219999572003211...  "
      ]
     },
     "execution_count": 23,
     "metadata": {},
     "output_type": "execute_result"
    }
   ],
   "source": [
    "test_agg"
   ]
  },
  {
   "cell_type": "code",
   "execution_count": 24,
   "metadata": {},
   "outputs": [
    {
     "data": {
      "application/vnd.plotly.v1+json": {
       "config": {
        "plotlyServerURL": "https://plot.ly"
       },
       "data": [
        {
         "mode": "markers+lines",
         "name": "Training ",
         "type": "scatter",
         "x": [
          0,
          1,
          2,
          3,
          4,
          5,
          6,
          7,
          8,
          9,
          10,
          11,
          12,
          13,
          14,
          15,
          16,
          17,
          18,
          19,
          20,
          21,
          22,
          23
         ],
         "y": [
          -6.133444125044915,
          -5.773760330578512,
          -6.796487603305785,
          -2.903630460448642,
          1.7035123966942152,
          2.0011314443132626,
          0.42970287288469133,
          -1.955578512396694,
          2.2868457300275487,
          6.673512396694215,
          7.90805785123967,
          9.694253137434956,
          6.635330578512398,
          8.990549433731253,
          8.105027548209367,
          8.286845730027549,
          8.434993878175696,
          8.513512396694216,
          4.203512396694215,
          1.370179063360882,
          -1.2250590318772134,
          -1.0064876033057848,
          -3.120561677379859,
          -6.182851239669421
         ]
        },
        {
         "mode": "markers+lines",
         "name": "Validate",
         "type": "scatter",
         "x": [
          0,
          1,
          2,
          3,
          4,
          5,
          6,
          7,
          8,
          9,
          10,
          11,
          12,
          13,
          14,
          15,
          16,
          17,
          18,
          19,
          20,
          21,
          22,
          23
         ],
         "y": [
          -11.189344746162927,
          -10.046487603305785,
          -10.296487603305785,
          -11.046487603305785,
          -9.671487603305785,
          -8.171487603305785,
          -8.421487603305785,
          -5.671487603305785,
          -4.671487603305785,
          -3.296487603305785,
          -2.671487603305785,
          -1.5464876033057848,
          -1.6714876033057848,
          -3.903630460448642,
          -5.421487603305785,
          -3.046487603305785,
          -5.546487603305785,
          -6.046487603305785,
          -7.296487603305785,
          -5.921487603305785,
          -7.296487603305785,
          -11.546487603305785,
          -11.796487603305785,
          -11.421487603305785
         ]
        },
        {
         "mode": "markers+lines",
         "name": "Test",
         "type": "scatter",
         "x": [
          0,
          1,
          2,
          3,
          4,
          5,
          6,
          7,
          8,
          9,
          10,
          11,
          12,
          13,
          14,
          15,
          16,
          17,
          18,
          19,
          20,
          21,
          22,
          23
         ],
         "y": [
          -6.421487603305785,
          -7.946487603305785,
          -7.546487603305785,
          -7.824265381083563,
          -7.046487603305785,
          -4.546487603305785,
          -0.6714876033057848,
          -1.6714876033057848,
          0.9535123966942152,
          1.4535123966942152,
          2.078512396694215,
          2.828512396694215,
          -1.0464876033057848,
          6.328512396694215,
          9.703512396694215,
          9.203512396694215,
          3.953512396694215,
          7.239226682408501,
          9.953512396694215,
          7.703512396694215,
          3.078512396694215,
          -3.421487603305785,
          -6.921487603305785,
          -7.171487603305785
         ]
        }
       ],
       "layout": {
        "legend": {
         "title": {
          "text": "Subsets"
         }
        },
        "template": {
         "data": {
          "bar": [
           {
            "error_x": {
             "color": "#2a3f5f"
            },
            "error_y": {
             "color": "#2a3f5f"
            },
            "marker": {
             "line": {
              "color": "#E5ECF6",
              "width": 0.5
             },
             "pattern": {
              "fillmode": "overlay",
              "size": 10,
              "solidity": 0.2
             }
            },
            "type": "bar"
           }
          ],
          "barpolar": [
           {
            "marker": {
             "line": {
              "color": "#E5ECF6",
              "width": 0.5
             },
             "pattern": {
              "fillmode": "overlay",
              "size": 10,
              "solidity": 0.2
             }
            },
            "type": "barpolar"
           }
          ],
          "carpet": [
           {
            "aaxis": {
             "endlinecolor": "#2a3f5f",
             "gridcolor": "white",
             "linecolor": "white",
             "minorgridcolor": "white",
             "startlinecolor": "#2a3f5f"
            },
            "baxis": {
             "endlinecolor": "#2a3f5f",
             "gridcolor": "white",
             "linecolor": "white",
             "minorgridcolor": "white",
             "startlinecolor": "#2a3f5f"
            },
            "type": "carpet"
           }
          ],
          "choropleth": [
           {
            "colorbar": {
             "outlinewidth": 0,
             "ticks": ""
            },
            "type": "choropleth"
           }
          ],
          "contour": [
           {
            "colorbar": {
             "outlinewidth": 0,
             "ticks": ""
            },
            "colorscale": [
             [
              0,
              "#0d0887"
             ],
             [
              0.1111111111111111,
              "#46039f"
             ],
             [
              0.2222222222222222,
              "#7201a8"
             ],
             [
              0.3333333333333333,
              "#9c179e"
             ],
             [
              0.4444444444444444,
              "#bd3786"
             ],
             [
              0.5555555555555556,
              "#d8576b"
             ],
             [
              0.6666666666666666,
              "#ed7953"
             ],
             [
              0.7777777777777778,
              "#fb9f3a"
             ],
             [
              0.8888888888888888,
              "#fdca26"
             ],
             [
              1,
              "#f0f921"
             ]
            ],
            "type": "contour"
           }
          ],
          "contourcarpet": [
           {
            "colorbar": {
             "outlinewidth": 0,
             "ticks": ""
            },
            "type": "contourcarpet"
           }
          ],
          "heatmap": [
           {
            "colorbar": {
             "outlinewidth": 0,
             "ticks": ""
            },
            "colorscale": [
             [
              0,
              "#0d0887"
             ],
             [
              0.1111111111111111,
              "#46039f"
             ],
             [
              0.2222222222222222,
              "#7201a8"
             ],
             [
              0.3333333333333333,
              "#9c179e"
             ],
             [
              0.4444444444444444,
              "#bd3786"
             ],
             [
              0.5555555555555556,
              "#d8576b"
             ],
             [
              0.6666666666666666,
              "#ed7953"
             ],
             [
              0.7777777777777778,
              "#fb9f3a"
             ],
             [
              0.8888888888888888,
              "#fdca26"
             ],
             [
              1,
              "#f0f921"
             ]
            ],
            "type": "heatmap"
           }
          ],
          "heatmapgl": [
           {
            "colorbar": {
             "outlinewidth": 0,
             "ticks": ""
            },
            "colorscale": [
             [
              0,
              "#0d0887"
             ],
             [
              0.1111111111111111,
              "#46039f"
             ],
             [
              0.2222222222222222,
              "#7201a8"
             ],
             [
              0.3333333333333333,
              "#9c179e"
             ],
             [
              0.4444444444444444,
              "#bd3786"
             ],
             [
              0.5555555555555556,
              "#d8576b"
             ],
             [
              0.6666666666666666,
              "#ed7953"
             ],
             [
              0.7777777777777778,
              "#fb9f3a"
             ],
             [
              0.8888888888888888,
              "#fdca26"
             ],
             [
              1,
              "#f0f921"
             ]
            ],
            "type": "heatmapgl"
           }
          ],
          "histogram": [
           {
            "marker": {
             "pattern": {
              "fillmode": "overlay",
              "size": 10,
              "solidity": 0.2
             }
            },
            "type": "histogram"
           }
          ],
          "histogram2d": [
           {
            "colorbar": {
             "outlinewidth": 0,
             "ticks": ""
            },
            "colorscale": [
             [
              0,
              "#0d0887"
             ],
             [
              0.1111111111111111,
              "#46039f"
             ],
             [
              0.2222222222222222,
              "#7201a8"
             ],
             [
              0.3333333333333333,
              "#9c179e"
             ],
             [
              0.4444444444444444,
              "#bd3786"
             ],
             [
              0.5555555555555556,
              "#d8576b"
             ],
             [
              0.6666666666666666,
              "#ed7953"
             ],
             [
              0.7777777777777778,
              "#fb9f3a"
             ],
             [
              0.8888888888888888,
              "#fdca26"
             ],
             [
              1,
              "#f0f921"
             ]
            ],
            "type": "histogram2d"
           }
          ],
          "histogram2dcontour": [
           {
            "colorbar": {
             "outlinewidth": 0,
             "ticks": ""
            },
            "colorscale": [
             [
              0,
              "#0d0887"
             ],
             [
              0.1111111111111111,
              "#46039f"
             ],
             [
              0.2222222222222222,
              "#7201a8"
             ],
             [
              0.3333333333333333,
              "#9c179e"
             ],
             [
              0.4444444444444444,
              "#bd3786"
             ],
             [
              0.5555555555555556,
              "#d8576b"
             ],
             [
              0.6666666666666666,
              "#ed7953"
             ],
             [
              0.7777777777777778,
              "#fb9f3a"
             ],
             [
              0.8888888888888888,
              "#fdca26"
             ],
             [
              1,
              "#f0f921"
             ]
            ],
            "type": "histogram2dcontour"
           }
          ],
          "mesh3d": [
           {
            "colorbar": {
             "outlinewidth": 0,
             "ticks": ""
            },
            "type": "mesh3d"
           }
          ],
          "parcoords": [
           {
            "line": {
             "colorbar": {
              "outlinewidth": 0,
              "ticks": ""
             }
            },
            "type": "parcoords"
           }
          ],
          "pie": [
           {
            "automargin": true,
            "type": "pie"
           }
          ],
          "scatter": [
           {
            "fillpattern": {
             "fillmode": "overlay",
             "size": 10,
             "solidity": 0.2
            },
            "type": "scatter"
           }
          ],
          "scatter3d": [
           {
            "line": {
             "colorbar": {
              "outlinewidth": 0,
              "ticks": ""
             }
            },
            "marker": {
             "colorbar": {
              "outlinewidth": 0,
              "ticks": ""
             }
            },
            "type": "scatter3d"
           }
          ],
          "scattercarpet": [
           {
            "marker": {
             "colorbar": {
              "outlinewidth": 0,
              "ticks": ""
             }
            },
            "type": "scattercarpet"
           }
          ],
          "scattergeo": [
           {
            "marker": {
             "colorbar": {
              "outlinewidth": 0,
              "ticks": ""
             }
            },
            "type": "scattergeo"
           }
          ],
          "scattergl": [
           {
            "marker": {
             "colorbar": {
              "outlinewidth": 0,
              "ticks": ""
             }
            },
            "type": "scattergl"
           }
          ],
          "scattermapbox": [
           {
            "marker": {
             "colorbar": {
              "outlinewidth": 0,
              "ticks": ""
             }
            },
            "type": "scattermapbox"
           }
          ],
          "scatterpolar": [
           {
            "marker": {
             "colorbar": {
              "outlinewidth": 0,
              "ticks": ""
             }
            },
            "type": "scatterpolar"
           }
          ],
          "scatterpolargl": [
           {
            "marker": {
             "colorbar": {
              "outlinewidth": 0,
              "ticks": ""
             }
            },
            "type": "scatterpolargl"
           }
          ],
          "scatterternary": [
           {
            "marker": {
             "colorbar": {
              "outlinewidth": 0,
              "ticks": ""
             }
            },
            "type": "scatterternary"
           }
          ],
          "surface": [
           {
            "colorbar": {
             "outlinewidth": 0,
             "ticks": ""
            },
            "colorscale": [
             [
              0,
              "#0d0887"
             ],
             [
              0.1111111111111111,
              "#46039f"
             ],
             [
              0.2222222222222222,
              "#7201a8"
             ],
             [
              0.3333333333333333,
              "#9c179e"
             ],
             [
              0.4444444444444444,
              "#bd3786"
             ],
             [
              0.5555555555555556,
              "#d8576b"
             ],
             [
              0.6666666666666666,
              "#ed7953"
             ],
             [
              0.7777777777777778,
              "#fb9f3a"
             ],
             [
              0.8888888888888888,
              "#fdca26"
             ],
             [
              1,
              "#f0f921"
             ]
            ],
            "type": "surface"
           }
          ],
          "table": [
           {
            "cells": {
             "fill": {
              "color": "#EBF0F8"
             },
             "line": {
              "color": "white"
             }
            },
            "header": {
             "fill": {
              "color": "#C8D4E3"
             },
             "line": {
              "color": "white"
             }
            },
            "type": "table"
           }
          ]
         },
         "layout": {
          "annotationdefaults": {
           "arrowcolor": "#2a3f5f",
           "arrowhead": 0,
           "arrowwidth": 1
          },
          "autotypenumbers": "strict",
          "coloraxis": {
           "colorbar": {
            "outlinewidth": 0,
            "ticks": ""
           }
          },
          "colorscale": {
           "diverging": [
            [
             0,
             "#8e0152"
            ],
            [
             0.1,
             "#c51b7d"
            ],
            [
             0.2,
             "#de77ae"
            ],
            [
             0.3,
             "#f1b6da"
            ],
            [
             0.4,
             "#fde0ef"
            ],
            [
             0.5,
             "#f7f7f7"
            ],
            [
             0.6,
             "#e6f5d0"
            ],
            [
             0.7,
             "#b8e186"
            ],
            [
             0.8,
             "#7fbc41"
            ],
            [
             0.9,
             "#4d9221"
            ],
            [
             1,
             "#276419"
            ]
           ],
           "sequential": [
            [
             0,
             "#0d0887"
            ],
            [
             0.1111111111111111,
             "#46039f"
            ],
            [
             0.2222222222222222,
             "#7201a8"
            ],
            [
             0.3333333333333333,
             "#9c179e"
            ],
            [
             0.4444444444444444,
             "#bd3786"
            ],
            [
             0.5555555555555556,
             "#d8576b"
            ],
            [
             0.6666666666666666,
             "#ed7953"
            ],
            [
             0.7777777777777778,
             "#fb9f3a"
            ],
            [
             0.8888888888888888,
             "#fdca26"
            ],
            [
             1,
             "#f0f921"
            ]
           ],
           "sequentialminus": [
            [
             0,
             "#0d0887"
            ],
            [
             0.1111111111111111,
             "#46039f"
            ],
            [
             0.2222222222222222,
             "#7201a8"
            ],
            [
             0.3333333333333333,
             "#9c179e"
            ],
            [
             0.4444444444444444,
             "#bd3786"
            ],
            [
             0.5555555555555556,
             "#d8576b"
            ],
            [
             0.6666666666666666,
             "#ed7953"
            ],
            [
             0.7777777777777778,
             "#fb9f3a"
            ],
            [
             0.8888888888888888,
             "#fdca26"
            ],
            [
             1,
             "#f0f921"
            ]
           ]
          },
          "colorway": [
           "#636efa",
           "#EF553B",
           "#00cc96",
           "#ab63fa",
           "#FFA15A",
           "#19d3f3",
           "#FF6692",
           "#B6E880",
           "#FF97FF",
           "#FECB52"
          ],
          "font": {
           "color": "#2a3f5f"
          },
          "geo": {
           "bgcolor": "white",
           "lakecolor": "white",
           "landcolor": "#E5ECF6",
           "showlakes": true,
           "showland": true,
           "subunitcolor": "white"
          },
          "hoverlabel": {
           "align": "left"
          },
          "hovermode": "closest",
          "mapbox": {
           "style": "light"
          },
          "paper_bgcolor": "white",
          "plot_bgcolor": "#E5ECF6",
          "polar": {
           "angularaxis": {
            "gridcolor": "white",
            "linecolor": "white",
            "ticks": ""
           },
           "bgcolor": "#E5ECF6",
           "radialaxis": {
            "gridcolor": "white",
            "linecolor": "white",
            "ticks": ""
           }
          },
          "scene": {
           "xaxis": {
            "backgroundcolor": "#E5ECF6",
            "gridcolor": "white",
            "gridwidth": 2,
            "linecolor": "white",
            "showbackground": true,
            "ticks": "",
            "zerolinecolor": "white"
           },
           "yaxis": {
            "backgroundcolor": "#E5ECF6",
            "gridcolor": "white",
            "gridwidth": 2,
            "linecolor": "white",
            "showbackground": true,
            "ticks": "",
            "zerolinecolor": "white"
           },
           "zaxis": {
            "backgroundcolor": "#E5ECF6",
            "gridcolor": "white",
            "gridwidth": 2,
            "linecolor": "white",
            "showbackground": true,
            "ticks": "",
            "zerolinecolor": "white"
           }
          },
          "shapedefaults": {
           "line": {
            "color": "#2a3f5f"
           }
          },
          "ternary": {
           "aaxis": {
            "gridcolor": "white",
            "linecolor": "white",
            "ticks": ""
           },
           "baxis": {
            "gridcolor": "white",
            "linecolor": "white",
            "ticks": ""
           },
           "bgcolor": "#E5ECF6",
           "caxis": {
            "gridcolor": "white",
            "linecolor": "white",
            "ticks": ""
           }
          },
          "title": {
           "x": 0.05
          },
          "xaxis": {
           "automargin": true,
           "gridcolor": "white",
           "linecolor": "white",
           "ticks": "",
           "title": {
            "standoff": 15
           },
           "zerolinecolor": "white",
           "zerolinewidth": 2
          },
          "yaxis": {
           "automargin": true,
           "gridcolor": "white",
           "linecolor": "white",
           "ticks": "",
           "title": {
            "standoff": 15
           },
           "zerolinecolor": "white",
           "zerolinewidth": 2
          }
         }
        },
        "title": {
         "text": "Standard train, validate and test subsets"
        },
        "xaxis": {
         "title": {
          "text": "Hours"
         }
        },
        "yaxis": {
         "title": {
          "text": "Count"
         }
        }
       }
      }
     },
     "metadata": {},
     "output_type": "display_data"
    }
   ],
   "source": [
    "fig = go.Figure()\n",
    "fig.add_trace(go.Scatter(x= train_agg['hour_of_day'],\n",
    "                         y=train_agg['centered_car_count'],\n",
    "                         mode='markers+lines',\n",
    "                         name=\"Training \"))\n",
    "fig.add_trace(go.Scatter(x=valid_agg['hour_of_day'],\n",
    "                         y=valid_agg['centered_car_count'],\n",
    "                         mode='markers+lines',\n",
    "                         name='Validate'))\n",
    "fig.add_trace(go.Scatter(x=test_agg['hour_of_day'],\n",
    "                         y=test_agg['centered_car_count'],\n",
    "                         mode='markers+lines',\n",
    "                         name='Test'))\n",
    "\n",
    "# Update layout for better visualization\n",
    "fig.update_layout(title='Standard train, validate and test subsets',\n",
    "                  xaxis_title='Hours',\n",
    "                  yaxis_title='Count',\n",
    "                  legend_title='Subsets')"
   ]
  },
  {
   "cell_type": "code",
   "execution_count": 25,
   "metadata": {},
   "outputs": [],
   "source": [
    "data_df_day = data_df[['car_count', 'month_no', 'day', 'day_of_week', 'hour_of_day', 'min_of_day', 'centered_car_count','combined']]\n",
    "\n",
    "day_mean_df = data_df_day.groupby('hour_of_day').mean().reset_index()\n",
    "day_med_df = data_df_day.groupby('hour_of_day').median().reset_index()"
   ]
  },
  {
   "cell_type": "code",
   "execution_count": 26,
   "metadata": {},
   "outputs": [],
   "source": [
    "\n",
    "# # Create a new figure\n",
    "# fig = go.Figure()\n",
    "\n",
    "# # Add a trace for day_mean_df's centered_car_count\n",
    "# fig.add_trace(go.Scatter(x=day_mean_df['hour_of_day'], \n",
    "#                          y=day_mean_df['centered_car_count'], \n",
    "#                          mode='markers+lines', \n",
    "#                          name='Mean Centered Car Count'))\n",
    "\n",
    "\n",
    "\n",
    "# # Add a trace for day_med_df's centered_car_count\n",
    "# fig.add_trace(go.Scatter(x=day_med_df['hour_of_day'], \n",
    "#                          y=day_med_df['centered_car_count'], \n",
    "#                          mode='markers+lines', \n",
    "#                          name='Median Centered Car Count'))\n",
    "\n",
    "# # Update layout for better visualization\n",
    "# fig.update_layout(title='Comparison of Mean and Median Aggregations',\n",
    "#                   xaxis_title='Hour of Day',\n",
    "#                   yaxis_title='Count',\n",
    "#                   legend_title='Aggregations')\n",
    "\n",
    "# fig.show()\n"
   ]
  },
  {
   "cell_type": "code",
   "execution_count": 27,
   "metadata": {},
   "outputs": [
    {
     "name": "stdout",
     "output_type": "stream",
     "text": [
      "ADF Statistic: -1.8307958779034694\n",
      "p-value: 0.36528309622415844\n",
      "Critical Values: {'1%': -4.01203360058309, '5%': -3.1041838775510207, '10%': -2.6909873469387753}\n",
      "The series is not stationary.\n"
     ]
    }
   ],
   "source": [
    "ad_fuller_test(day_mean_df['centered_car_count'])\n",
    "# ad_fuller_test(month_med_df['centered_car_count'])"
   ]
  },
  {
   "cell_type": "code",
   "execution_count": 28,
   "metadata": {},
   "outputs": [],
   "source": [
    "X_hour_avg =  day_mean_df['hour_of_day'].values.reshape(-1,1)\n",
    "y_hour_avg = day_mean_df['centered_car_count'].values.reshape(-1,1)"
   ]
  },
  {
   "cell_type": "code",
   "execution_count": 29,
   "metadata": {},
   "outputs": [],
   "source": [
    "from sklearn.gaussian_process.kernels import RBF, WhiteKernel, ExpSineSquared, ConstantKernel as C\n",
    "\n",
    "# RBF kernel with a length scale of 1.0\n",
    "k1 = 1 * RBF(length_scale=0.5, length_scale_bounds=(1e-3, 1e3))\n",
    "\n",
    "# White kernel to account for noise\n",
    "k2 = WhiteKernel(noise_level=1, noise_level_bounds=(1e-10, 1e+1))\n",
    "\n",
    "# Periodic kernel\n",
    "k3 = ExpSineSquared(length_scale=1.0,\n",
    "                    length_scale_bounds=(1e-1, 50) ,\n",
    "                    periodicity=1,\n",
    "                    periodicity_bounds= (1e-1, 50))\n",
    "\n",
    "# Combined kernel\n",
    "kernel = k1 + k2 + k3\n",
    "\n",
    "gpr = GaussianProcessRegressor(kernel=kernel, n_restarts_optimizer= 10)"
   ]
  },
  {
   "cell_type": "code",
   "execution_count": 30,
   "metadata": {},
   "outputs": [
    {
     "ename": "AttributeError",
     "evalue": "module 'wandb' has no attribute 'init'",
     "output_type": "error",
     "traceback": [
      "\u001b[0;31m---------------------------------------------------------------------------\u001b[0m",
      "\u001b[0;31mAttributeError\u001b[0m                            Traceback (most recent call last)",
      "Cell \u001b[0;32mIn[30], line 3\u001b[0m\n\u001b[1;32m      1\u001b[0m \u001b[38;5;66;03m# start a new wandb run to track this script\u001b[39;00m\n\u001b[0;32m----> 3\u001b[0m run \u001b[38;5;241m=\u001b[39m wandb\u001b[38;5;241m.\u001b[39minit(\n\u001b[1;32m      4\u001b[0m     \u001b[38;5;66;03m# set the wandb project where this run will be logged\u001b[39;00m\n\u001b[1;32m      5\u001b[0m     project\u001b[38;5;241m=\u001b[39m\u001b[38;5;124m\"\u001b[39m\u001b[38;5;124mGPR\u001b[39m\u001b[38;5;124m\"\u001b[39m,\n\u001b[1;32m      6\u001b[0m     name\u001b[38;5;241m=\u001b[39m \u001b[38;5;124mf\u001b[39m\u001b[38;5;124m\"\u001b[39m\u001b[38;5;124mhour_of_day_agg_4.\u001b[39m\u001b[38;5;132;01m{\u001b[39;00mexperiment_num\u001b[38;5;132;01m}\u001b[39;00m\u001b[38;5;124m_\u001b[39m\u001b[38;5;132;01m{\u001b[39;00mdatetime_str\u001b[38;5;132;01m}\u001b[39;00m\u001b[38;5;124m\"\u001b[39m\n\u001b[1;32m      7\u001b[0m )\n\u001b[1;32m      8\u001b[0m y_pred, y_std \u001b[38;5;241m=\u001b[39m gpr_train(gpr\u001b[38;5;241m=\u001b[39mgpr,n_samples\u001b[38;5;241m=\u001b[39m \u001b[38;5;241m5\u001b[39m,x_train\u001b[38;5;241m=\u001b[39mX_hour_avg,y_train\u001b[38;5;241m=\u001b[39my_hour_avg, run\u001b[38;5;241m=\u001b[39mrun)\n\u001b[1;32m      9\u001b[0m \u001b[38;5;66;03m# log_data(gpr_score_card(gpr, y_month_mean, y_std))\u001b[39;00m\n",
      "\u001b[0;31mAttributeError\u001b[0m: module 'wandb' has no attribute 'init'"
     ]
    }
   ],
   "source": [
    "# start a new wandb run to track this script\n",
    "\n",
    "run = wandb.init(\n",
    "    # set the wandb project where this run will be logged\n",
    "    project=\"GPR\",\n",
    "    name= f\"hour_of_day_agg_4.{experiment_num}_{datetime_str}\"\n",
    ")\n",
    "y_pred, y_std = gpr_train(gpr=gpr,n_samples= 5,x_train=X_hour_avg,y_train=y_hour_avg, run=run)\n",
    "# log_data(gpr_score_card(gpr, y_month_mean, y_std))\n",
    "wandb.finish()"
   ]
  },
  {
   "cell_type": "markdown",
   "metadata": {},
   "source": [
    "<h2> Exp 5 : Rolling statistics"
   ]
  },
  {
   "cell_type": "code",
   "execution_count": 51,
   "metadata": {},
   "outputs": [
    {
     "name": "stderr",
     "output_type": "stream",
     "text": [
      "/tmp/ipykernel_18040/2488354281.py:1: SettingWithCopyWarning:\n",
      "\n",
      "\n",
      "A value is trying to be set on a copy of a slice from a DataFrame.\n",
      "Try using .loc[row_indexer,col_indexer] = value instead\n",
      "\n",
      "See the caveats in the documentation: https://pandas.pydata.org/pandas-docs/stable/user_guide/indexing.html#returning-a-view-versus-a-copy\n",
      "\n"
     ]
    }
   ],
   "source": [
    "data_df['rw_hrs'] = data_df['centered_car_count'].rolling(window=5).mean()"
   ]
  },
  {
   "cell_type": "code",
   "execution_count": 52,
   "metadata": {},
   "outputs": [
    {
     "data": {
      "application/vnd.plotly.v1+json": {
       "config": {
        "plotlyServerURL": "https://plot.ly"
       },
       "data": [
        {
         "mode": "lines",
         "name": "Original Data",
         "type": "scatter",
         "x": [
          "2023-06-06T20:36:00",
          "2023-06-06T21:06:00",
          "2023-06-06T21:37:00",
          "2023-06-06T22:07:00",
          "2023-06-06T22:37:00",
          "2023-06-06T23:07:00",
          "2023-06-06T23:38:00",
          "2023-06-07T00:08:00",
          "2023-06-07T00:38:00",
          "2023-06-07T01:08:00",
          "2023-06-07T01:39:00",
          "2023-06-07T02:09:00",
          "2023-06-07T02:39:00",
          "2023-06-07T03:10:00",
          "2023-06-07T03:40:00",
          "2023-06-07T04:10:00",
          "2023-06-07T04:41:00",
          "2023-06-07T05:11:00",
          "2023-06-07T05:41:00",
          "2023-06-07T06:11:00",
          "2023-06-07T06:42:00",
          "2023-06-07T07:12:00",
          "2023-06-07T07:42:00",
          "2023-06-07T08:13:00",
          "2023-06-07T08:43:00",
          "2023-06-07T09:13:00",
          "2023-06-07T09:44:00",
          "2023-06-07T10:14:00",
          "2023-06-07T10:44:00",
          "2023-06-07T11:14:00",
          "2023-06-07T11:45:00",
          "2023-06-07T12:15:00",
          "2023-06-07T12:45:00",
          "2023-06-07T13:16:00",
          "2023-06-07T13:46:00",
          "2023-06-07T14:16:00",
          "2023-06-07T14:47:00",
          "2023-06-07T15:17:00",
          "2023-06-07T15:47:00",
          "2023-06-07T16:17:00",
          "2023-06-07T16:48:00",
          "2023-06-07T17:18:00",
          "2023-06-07T17:48:00",
          "2023-06-07T18:18:00",
          "2023-06-07T18:49:00",
          "2023-06-07T19:19:00",
          "2023-06-07T19:49:00",
          "2023-06-07T20:20:00",
          "2023-06-07T20:50:00",
          "2023-06-07T21:20:00",
          "2023-06-07T21:51:00",
          "2023-06-07T22:21:00",
          "2023-06-07T22:51:00",
          "2023-06-07T23:22:00",
          "2023-06-07T23:52:00",
          "2023-06-08T00:22:00",
          "2023-06-08T00:52:00",
          "2023-06-08T01:23:00",
          "2023-06-08T01:53:00",
          "2023-06-08T02:23:00",
          "2023-06-08T02:53:00",
          "2023-06-08T03:24:00",
          "2023-06-08T03:54:00",
          "2023-06-08T04:24:00",
          "2023-06-08T04:54:00",
          "2023-06-08T05:25:00",
          "2023-06-08T05:55:00",
          "2023-06-08T06:25:00",
          "2023-06-08T06:55:00",
          "2023-06-08T07:26:00",
          "2023-06-08T07:56:00",
          "2023-06-08T08:26:00",
          "2023-06-08T08:57:00",
          "2023-06-08T09:27:00",
          "2023-06-08T09:57:00",
          "2023-06-08T10:27:00",
          "2023-06-08T10:57:00",
          "2023-06-08T11:28:00",
          "2023-06-08T11:58:00",
          "2023-06-08T12:28:00",
          "2023-06-08T12:58:00",
          "2023-06-08T13:29:00",
          "2023-06-08T13:59:00",
          "2023-06-08T14:29:00",
          "2023-06-08T14:59:00",
          "2023-06-08T15:30:00",
          "2023-06-08T16:00:00",
          "2023-06-08T16:30:00",
          "2023-06-08T17:01:00",
          "2023-06-08T17:31:00",
          "2023-06-08T18:01:00",
          "2023-06-08T18:31:00",
          "2023-06-08T19:02:00",
          "2023-06-08T19:32:00",
          "2023-06-08T20:02:00",
          "2023-06-08T20:33:00",
          "2023-06-08T21:03:00",
          "2023-06-08T21:33:00",
          "2023-06-08T22:03:00",
          "2023-06-08T22:33:00",
          "2023-06-09T12:44:00",
          "2023-06-09T13:15:00",
          "2023-06-09T13:45:00",
          "2023-06-09T14:15:00",
          "2023-06-09T14:46:00",
          "2023-06-09T15:16:00",
          "2023-06-09T15:46:00",
          "2023-06-09T16:17:00",
          "2023-06-09T16:47:00",
          "2023-06-09T21:03:00",
          "2023-06-09T21:34:00",
          "2023-06-09T22:04:00",
          "2023-06-09T22:34:00",
          "2023-06-09T23:04:00",
          "2023-06-09T23:35:00",
          "2023-06-10T00:05:00",
          "2023-06-10T00:35:00",
          "2023-06-10T01:05:00",
          "2023-06-10T01:36:00",
          "2023-06-10T02:06:00",
          "2023-06-10T02:36:00",
          "2023-06-10T03:07:00",
          "2023-06-10T03:37:00",
          "2023-06-10T04:07:00",
          "2023-06-10T04:37:00",
          "2023-06-10T05:08:00",
          "2023-06-10T05:38:00",
          "2023-06-10T06:08:00",
          "2023-06-10T06:38:00",
          "2023-06-10T07:09:00",
          "2023-06-10T07:39:00",
          "2023-06-10T08:09:00",
          "2023-06-10T08:40:00",
          "2023-06-10T09:10:00",
          "2023-06-10T09:40:00",
          "2023-06-10T10:10:00",
          "2023-06-10T10:40:00",
          "2023-06-10T11:11:00",
          "2023-06-10T11:41:00",
          "2023-06-10T12:11:00",
          "2023-06-10T12:41:00",
          "2023-06-10T13:12:00",
          "2023-06-10T13:42:00",
          "2023-06-10T14:12:00",
          "2023-06-10T14:42:00",
          "2023-06-10T15:13:00",
          "2023-06-10T15:43:00",
          "2023-06-10T16:13:00",
          "2023-06-10T16:43:00",
          "2023-06-10T17:14:00",
          "2023-06-10T17:44:00",
          "2023-06-10T18:14:00",
          "2023-06-10T18:44:00",
          "2023-06-10T19:15:00",
          "2023-06-10T19:45:00",
          "2023-06-10T20:15:00",
          "2023-06-10T20:45:00",
          "2023-06-10T21:15:00",
          "2023-06-10T21:46:00",
          "2023-06-10T22:16:00",
          "2023-06-10T22:46:00",
          "2023-06-10T23:16:00",
          "2023-06-10T23:46:00",
          "2023-06-11T00:17:00",
          "2023-06-11T00:47:00",
          "2023-06-11T01:17:00",
          "2023-06-11T01:48:00",
          "2023-06-11T02:18:00",
          "2023-06-11T02:48:00",
          "2023-06-11T03:19:00",
          "2023-06-11T03:49:00",
          "2023-06-11T04:19:00",
          "2023-06-11T04:49:00",
          "2023-06-11T05:20:00",
          "2023-06-11T05:50:00",
          "2023-06-11T06:20:00",
          "2023-06-11T06:50:00",
          "2023-06-11T07:21:00",
          "2023-06-11T07:51:00",
          "2023-06-11T08:21:00",
          "2023-06-11T08:51:00",
          "2023-06-11T09:22:00",
          "2023-06-11T09:52:00",
          "2023-06-11T10:22:00",
          "2023-06-11T10:52:00",
          "2023-06-11T11:23:00",
          "2023-06-11T11:53:00",
          "2023-06-11T12:23:00",
          "2023-06-11T12:53:00",
          "2023-06-11T13:24:00",
          "2023-06-11T13:54:00",
          "2023-06-11T14:24:00",
          "2023-06-11T14:54:00",
          "2023-06-11T15:25:00",
          "2023-06-11T15:55:00",
          "2023-06-11T16:25:00",
          "2023-06-11T16:56:00",
          "2023-06-11T17:26:00",
          "2023-06-11T17:56:00",
          "2023-06-11T18:26:00",
          "2023-06-11T18:56:00",
          "2023-06-11T19:27:00",
          "2023-06-11T19:57:00",
          "2023-06-11T20:27:00",
          "2023-06-11T20:57:00",
          "2023-06-11T21:27:00",
          "2023-06-11T21:58:00",
          "2023-06-11T22:28:00",
          "2023-06-11T22:58:00",
          "2023-06-12T12:52:00",
          "2023-06-12T13:23:00",
          "2023-06-12T13:53:00",
          "2023-06-12T14:23:00",
          "2023-06-12T14:54:00",
          "2023-06-12T15:24:00",
          "2023-06-12T15:54:00",
          "2023-06-12T16:24:00",
          "2023-06-12T17:01:00",
          "2023-06-12T17:31:00",
          "2023-06-12T18:02:00",
          "2023-06-12T18:32:00",
          "2023-06-12T19:02:00",
          "2023-06-12T19:33:00",
          "2023-06-12T20:03:00",
          "2023-06-12T20:33:00",
          "2023-06-12T21:03:00",
          "2023-06-12T21:34:00",
          "2023-06-12T22:04:00",
          "2023-06-12T22:34:00",
          "2023-06-12T23:04:00",
          "2023-06-12T23:35:00",
          "2023-06-13T00:05:00",
          "2023-06-13T00:35:00",
          "2023-06-13T01:06:00",
          "2023-06-13T01:36:00",
          "2023-06-13T02:06:00",
          "2023-06-13T02:36:00",
          "2023-06-13T03:07:00",
          "2023-06-13T03:37:00",
          "2023-06-13T04:07:00",
          "2023-06-13T04:38:00",
          "2023-06-13T05:08:00",
          "2023-06-13T05:38:00",
          "2023-06-13T06:08:00",
          "2023-06-13T06:39:00",
          "2023-06-13T07:09:00",
          "2023-06-13T07:39:00",
          "2023-06-13T08:10:00",
          "2023-06-13T08:40:00",
          "2023-06-13T09:10:00",
          "2023-06-13T09:40:00",
          "2023-06-13T10:11:00",
          "2023-06-13T10:41:00",
          "2023-06-13T11:11:00",
          "2023-06-13T11:42:00",
          "2023-06-13T12:12:00",
          "2023-06-13T12:42:00",
          "2023-06-13T13:12:00",
          "2023-06-13T13:43:00",
          "2023-06-13T14:13:00",
          "2023-06-13T14:43:00",
          "2023-06-13T15:14:00",
          "2023-06-13T15:44:00",
          "2023-06-13T16:14:00",
          "2023-06-13T16:44:00",
          "2023-06-13T17:15:00",
          "2023-06-13T17:45:00",
          "2023-06-13T18:16:00",
          "2023-06-13T18:47:00",
          "2023-06-13T19:17:00",
          "2023-06-13T19:47:00",
          "2023-06-13T20:17:00",
          "2023-06-13T20:48:00",
          "2023-06-13T21:18:00",
          "2023-06-13T21:48:00",
          "2023-06-13T22:19:00",
          "2023-06-13T22:49:00",
          "2023-06-13T23:19:00",
          "2023-06-13T23:49:00",
          "2023-06-14T00:20:00",
          "2023-06-14T00:50:00",
          "2023-06-14T01:20:00",
          "2023-06-14T01:50:00",
          "2023-06-14T02:21:00",
          "2023-06-14T02:51:00",
          "2023-06-14T03:21:00",
          "2023-06-14T03:52:00",
          "2023-06-14T04:22:00",
          "2023-06-14T04:52:00",
          "2023-06-14T05:22:00",
          "2023-06-14T05:53:00",
          "2023-06-14T06:23:00",
          "2023-06-14T06:53:00",
          "2023-06-14T07:24:00",
          "2023-06-14T07:54:00",
          "2023-06-14T08:24:00",
          "2023-06-14T08:54:00",
          "2023-06-14T09:25:00",
          "2023-06-14T09:55:00",
          "2023-06-14T10:25:00",
          "2023-06-14T10:56:00",
          "2023-06-14T11:26:00",
          "2023-06-14T11:56:00",
          "2023-06-14T12:26:00",
          "2023-06-14T12:57:00",
          "2023-06-14T13:27:00",
          "2023-06-14T13:57:00",
          "2023-06-17T14:58:00",
          "2023-06-17T15:29:00",
          "2023-06-17T15:59:00",
          "2023-06-17T16:29:00",
          "2023-06-17T16:59:00",
          "2023-06-17T17:30:00",
          "2023-06-17T18:00:00",
          "2023-06-17T18:30:00",
          "2023-06-17T19:01:00",
          "2023-06-17T19:31:00",
          "2023-06-17T20:01:00",
          "2023-06-17T20:31:00",
          "2023-06-17T21:02:00",
          "2023-06-17T21:32:00",
          "2023-06-17T22:02:00",
          "2023-06-17T22:32:00",
          "2023-06-17T23:03:00",
          "2023-06-17T23:33:00",
          "2023-06-18T00:03:00",
          "2023-06-18T00:34:00",
          "2023-06-18T01:04:00",
          "2023-06-18T01:34:00",
          "2023-06-18T02:05:00",
          "2023-06-18T02:35:00",
          "2023-06-18T03:05:00",
          "2023-06-18T03:36:00",
          "2023-06-18T04:06:00",
          "2023-06-18T04:36:00",
          "2023-06-18T05:06:00",
          "2023-06-18T05:37:00",
          "2023-06-18T06:07:00",
          "2023-06-18T06:37:00",
          "2023-06-18T07:07:00",
          "2023-06-18T07:38:00",
          "2023-06-18T08:08:00",
          "2023-06-18T08:38:00",
          "2023-06-18T09:09:00",
          "2023-06-18T09:39:00",
          "2023-06-18T10:09:00",
          "2023-06-18T10:40:00",
          "2023-06-18T11:10:00",
          "2023-06-18T11:40:00",
          "2023-06-18T12:10:00",
          "2023-06-18T12:41:00",
          "2023-06-19T14:33:00",
          "2023-06-19T14:34:00",
          "2023-06-19T14:53:00",
          "2023-06-19T15:42:00",
          "2023-06-19T16:12:00",
          "2023-06-19T16:22:00",
          "2023-06-19T16:31:00",
          "2023-06-19T16:55:00",
          "2023-06-19T17:10:00",
          "2023-06-19T17:12:00",
          "2023-06-19T17:52:00",
          "2023-06-19T18:07:00",
          "2023-06-19T18:34:00",
          "2023-06-19T19:17:00",
          "2023-06-19T20:17:00",
          "2023-06-19T20:18:00",
          "2023-06-19T20:26:00",
          "2023-06-19T20:34:00",
          "2023-06-19T21:12:00",
          "2023-06-19T21:41:00",
          "2023-06-19T22:06:00",
          "2023-06-19T22:41:00",
          "2023-06-19T23:26:00",
          "2023-06-19T23:44:00",
          "2023-06-20T00:12:00",
          "2023-06-20T00:51:00",
          "2023-06-20T01:21:00",
          "2023-06-20T02:13:00",
          "2023-06-20T02:41:00",
          "2023-06-20T02:47:00",
          "2023-06-20T02:50:00",
          "2023-06-20T03:05:00",
          "2023-06-20T04:02:00",
          "2023-06-20T05:01:00",
          "2023-06-20T05:54:00",
          "2023-06-20T06:24:00",
          "2023-06-20T06:52:00",
          "2023-06-20T07:22:00",
          "2023-06-20T08:17:00",
          "2023-06-20T08:38:00",
          "2023-06-20T09:04:00",
          "2023-06-20T09:13:00",
          "2023-06-20T09:17:00",
          "2023-06-20T09:22:00",
          "2023-06-20T09:24:00",
          "2023-06-20T09:37:00",
          "2023-06-20T09:51:00",
          "2023-06-20T10:00:00",
          "2023-06-20T10:21:00",
          "2023-06-20T11:07:00",
          "2023-06-20T11:18:00",
          "2023-06-20T11:34:00",
          "2023-06-20T11:47:00",
          "2023-06-20T12:39:00",
          "2023-06-20T13:12:00",
          "2023-06-20T14:04:00",
          "2023-06-20T14:15:00",
          "2023-06-20T14:41:00",
          "2023-06-20T14:57:00",
          "2023-06-20T15:55:00",
          "2023-06-20T16:44:00",
          "2023-06-20T17:38:00",
          "2023-06-20T17:45:00",
          "2023-06-20T18:28:00",
          "2023-06-20T18:55:00",
          "2023-06-20T19:21:00",
          "2023-06-20T20:21:00",
          "2023-06-20T20:38:00",
          "2023-06-24T14:19:00",
          "2023-06-24T14:59:00",
          "2023-06-24T15:06:00",
          "2023-06-24T15:14:00",
          "2023-06-24T16:09:00",
          "2023-06-24T16:53:00",
          "2023-06-24T17:16:00",
          "2023-06-24T17:32:00",
          "2023-06-24T17:54:00",
          "2023-06-24T18:38:00",
          "2023-06-24T19:37:00",
          "2023-06-24T20:11:00",
          "2023-06-24T20:32:00",
          "2023-06-24T21:28:00",
          "2023-06-24T22:16:00",
          "2023-06-24T22:38:00",
          "2023-06-24T22:57:00",
          "2023-06-24T23:46:00",
          "2023-06-25T00:44:00",
          "2023-06-25T00:51:00",
          "2023-06-25T01:09:00",
          "2023-06-25T01:38:00",
          "2023-06-25T01:56:00",
          "2023-06-25T02:42:00",
          "2023-06-25T03:16:00",
          "2023-06-25T03:30:00",
          "2023-06-25T04:29:00",
          "2023-06-25T05:23:00",
          "2023-06-25T06:22:00",
          "2023-06-25T06:26:00",
          "2023-06-25T07:17:00",
          "2023-06-25T07:33:00",
          "2023-06-25T08:28:00",
          "2023-06-25T08:57:00",
          "2023-06-25T09:49:00",
          "2023-06-25T10:45:00",
          "2023-06-25T11:32:00",
          "2023-06-25T11:58:00",
          "2023-06-25T12:20:00",
          "2023-06-25T12:29:00",
          "2023-06-25T13:01:00",
          "2023-06-25T13:15:00",
          "2023-06-25T13:19:00",
          "2023-06-25T14:10:00",
          "2023-06-25T14:17:00",
          "2023-06-25T14:57:00",
          "2023-06-25T15:57:00",
          "2023-06-25T16:55:00",
          "2023-06-25T17:51:00",
          "2023-06-25T18:36:00",
          "2023-06-25T18:55:00",
          "2023-06-25T19:04:00",
          "2023-06-25T19:43:00",
          "2023-06-25T19:48:00",
          "2023-06-25T20:05:00",
          "2023-06-25T20:14:00",
          "2023-06-25T20:40:00",
          "2023-06-25T21:36:00",
          "2023-06-25T21:37:00",
          "2023-06-25T22:30:00",
          "2023-06-25T22:34:00",
          "2023-06-25T23:11:00",
          "2023-06-25T23:18:00",
          "2023-06-25T23:32:00",
          "2023-06-26T00:27:00",
          "2023-06-26T00:40:00",
          "2023-06-26T00:50:00",
          "2023-06-26T01:16:00",
          "2023-06-26T01:48:00",
          "2023-06-26T02:05:00",
          "2023-06-26T02:28:00",
          "2023-06-26T02:53:00",
          "2023-06-26T03:49:00",
          "2023-06-26T03:55:00",
          "2023-06-26T04:44:00",
          "2023-06-26T04:52:00",
          "2023-06-26T05:30:00",
          "2023-06-26T05:57:00",
          "2023-06-26T06:56:00",
          "2023-06-26T07:40:00",
          "2023-06-26T07:47:00",
          "2023-06-26T07:52:00",
          "2023-06-26T08:17:00",
          "2023-06-26T09:13:00",
          "2023-06-26T10:07:00",
          "2023-06-26T10:17:00",
          "2023-06-26T10:24:00",
          "2023-06-26T11:09:00",
          "2023-06-26T11:12:00",
          "2023-06-26T11:22:00",
          "2023-06-26T11:32:00",
          "2023-06-26T11:36:00",
          "2023-06-26T12:08:00",
          "2023-06-26T13:06:00",
          "2023-06-26T13:22:00",
          "2023-06-26T13:53:00",
          "2023-06-26T14:02:00",
          "2023-06-26T14:22:00",
          "2023-06-26T15:03:00",
          "2023-06-26T15:35:00",
          "2023-06-26T15:57:00",
          "2023-06-26T16:30:00",
          "2023-06-26T16:43:00",
          "2023-06-26T17:36:00",
          "2023-06-26T18:02:00",
          "2023-06-26T19:02:00",
          "2023-06-26T19:44:00",
          "2023-08-02T13:31:00",
          "2023-08-02T13:33:00",
          "2023-08-02T14:01:00",
          "2023-08-02T14:31:00",
          "2023-08-02T15:01:00",
          "2023-08-02T15:31:00",
          "2023-08-02T16:01:00",
          "2023-08-02T16:31:00",
          "2023-08-02T17:02:00",
          "2023-08-02T17:32:00",
          "2023-08-02T18:02:00",
          "2023-08-02T18:32:00",
          "2023-08-02T19:02:00",
          "2023-08-02T19:32:00",
          "2023-08-02T20:02:00",
          "2023-08-02T20:32:00",
          "2023-08-02T21:03:00",
          "2023-08-02T21:33:00",
          "2023-08-02T22:03:00",
          "2023-08-02T22:33:00",
          "2023-08-02T23:03:00",
          "2023-08-02T23:33:00",
          "2023-08-03T00:03:00",
          "2023-08-03T00:34:00",
          "2023-08-03T01:04:00",
          "2023-08-03T01:34:00",
          "2023-08-03T02:04:00",
          "2023-08-03T02:34:00",
          "2023-08-03T03:04:00",
          "2023-08-03T03:34:00",
          "2023-08-03T04:04:00",
          "2023-08-03T04:35:00",
          "2023-08-03T05:05:00",
          "2023-08-03T05:35:00",
          "2023-08-03T06:05:00",
          "2023-08-03T06:35:00",
          "2023-08-03T07:05:00",
          "2023-08-03T07:35:00",
          "2023-08-03T08:05:00",
          "2023-08-03T08:36:00",
          "2023-08-03T09:06:00",
          "2023-08-03T09:36:00",
          "2023-08-03T10:06:00",
          "2023-08-03T10:36:00",
          "2023-08-03T11:06:00",
          "2023-08-03T11:36:00",
          "2023-08-03T12:06:00",
          "2023-08-03T12:37:00",
          "2023-08-03T13:07:00",
          "2023-08-03T13:37:00",
          "2023-08-03T14:07:00",
          "2023-08-03T14:37:00",
          "2023-08-03T15:07:00",
          "2023-08-03T15:37:00",
          "2023-08-03T16:08:00",
          "2023-08-03T16:38:00",
          "2023-08-03T17:08:00",
          "2023-08-03T17:38:00",
          "2023-08-03T18:08:00",
          "2023-08-03T18:38:00",
          "2023-08-03T19:08:00",
          "2023-08-03T19:38:00",
          "2023-08-03T20:09:00",
          "2023-08-03T20:39:00",
          "2023-08-03T21:09:00",
          "2023-08-03T21:39:00",
          "2023-08-03T22:09:00",
          "2023-08-03T22:39:00",
          "2023-08-03T23:09:00",
          "2023-08-03T23:40:00",
          "2023-08-04T00:10:00",
          "2023-08-04T00:40:00",
          "2023-08-04T01:10:00",
          "2023-08-04T01:40:00",
          "2023-08-04T02:10:00",
          "2023-08-04T02:40:00",
          "2023-08-04T03:10:00",
          "2023-08-04T03:41:00",
          "2023-08-04T04:11:00",
          "2023-08-04T04:41:00",
          "2023-08-04T05:11:00",
          "2023-08-04T05:41:00",
          "2023-08-04T06:11:00",
          "2023-08-04T06:41:00",
          "2023-08-04T07:11:00",
          "2023-08-04T07:42:00",
          "2023-08-04T08:12:00",
          "2023-08-04T08:42:00",
          "2023-08-04T09:12:00",
          "2023-08-04T09:42:00",
          "2023-08-04T10:12:00",
          "2023-08-04T10:42:00",
          "2023-08-04T11:12:00",
          "2023-08-04T11:43:00",
          "2023-08-04T12:13:00",
          "2023-08-04T12:43:00",
          "2023-08-04T13:13:00",
          "2023-08-04T13:43:00",
          "2023-08-04T14:13:00",
          "2023-08-04T14:43:00",
          "2023-08-04T15:14:00",
          "2023-08-04T15:37:00",
          "2023-08-04T16:07:00",
          "2023-08-04T16:37:00",
          "2023-08-04T17:07:00",
          "2023-08-04T17:37:00",
          "2023-08-04T18:07:00",
          "2023-08-04T18:37:00",
          "2023-08-04T19:08:00",
          "2023-08-04T19:38:00",
          "2023-08-04T20:08:00",
          "2023-08-04T20:38:00",
          "2023-08-04T21:08:00",
          "2023-08-04T21:38:00",
          "2023-08-04T22:08:00",
          "2023-08-04T22:39:00",
          "2023-08-04T23:09:00",
          "2023-08-04T23:39:00",
          "2023-08-05T00:09:00",
          "2023-08-05T00:39:00",
          "2023-08-05T01:09:00",
          "2023-08-05T01:39:00",
          "2023-08-05T02:09:00",
          "2023-08-05T02:40:00",
          "2023-08-05T03:10:00",
          "2023-08-05T03:40:00",
          "2023-08-05T04:10:00",
          "2023-08-05T04:40:00",
          "2023-08-05T05:10:00",
          "2023-08-05T05:40:00",
          "2023-08-05T06:10:00",
          "2023-08-05T06:41:00",
          "2023-08-05T07:11:00",
          "2023-08-05T07:41:00",
          "2023-08-05T08:11:00",
          "2023-08-05T08:41:00",
          "2023-08-05T09:11:00",
          "2023-08-05T09:41:00",
          "2023-08-05T10:11:00",
          "2023-08-05T10:42:00",
          "2023-08-05T11:12:00",
          "2023-08-05T11:42:00",
          "2023-08-05T12:12:00",
          "2023-08-05T12:42:00",
          "2023-08-05T13:12:00",
          "2023-08-05T13:42:00",
          "2023-08-05T14:12:00",
          "2023-08-05T14:43:00",
          "2023-08-05T15:13:00",
          "2023-08-05T15:43:00",
          "2023-08-05T16:13:00",
          "2023-08-05T16:43:00",
          "2023-08-05T17:13:00",
          "2023-08-05T17:43:00",
          "2023-08-05T18:14:00",
          "2023-08-05T18:44:00",
          "2023-08-05T19:14:00",
          "2023-08-05T19:44:00",
          "2023-08-05T20:14:00",
          "2023-08-05T20:44:00",
          "2023-08-05T21:14:00",
          "2023-08-05T21:44:00",
          "2023-08-05T22:15:00",
          "2023-08-05T22:45:00",
          "2023-08-05T23:15:00",
          "2023-08-05T23:45:00",
          "2023-08-06T00:15:00",
          "2023-08-06T00:45:00",
          "2023-08-06T01:15:00",
          "2023-08-06T01:45:00",
          "2023-08-06T02:16:00",
          "2023-08-06T02:46:00",
          "2023-08-06T03:16:00",
          "2023-08-06T03:46:00",
          "2023-08-06T04:16:00",
          "2023-08-06T04:46:00",
          "2023-08-06T05:16:00",
          "2023-08-06T05:46:00",
          "2023-08-06T06:17:00",
          "2023-08-06T06:47:00",
          "2023-08-06T07:17:00",
          "2023-08-06T07:47:00",
          "2023-08-06T08:17:00",
          "2023-08-06T08:47:00",
          "2023-08-06T09:17:00",
          "2023-08-06T09:47:00",
          "2023-08-06T10:18:00",
          "2023-08-06T10:48:00",
          "2023-08-06T11:18:00",
          "2023-08-06T11:48:00",
          "2023-08-06T12:18:00",
          "2023-08-06T12:48:00",
          "2023-08-06T13:18:00",
          "2023-08-06T13:49:00",
          "2023-08-06T14:19:00",
          "2023-08-06T14:49:00",
          "2023-08-06T15:19:00",
          "2023-08-06T15:49:00",
          "2023-08-06T16:19:00",
          "2023-08-06T16:49:00",
          "2023-08-06T17:19:00",
          "2023-08-07T14:27:00",
          "2023-08-07T14:57:00",
          "2023-08-07T15:27:00",
          "2023-08-07T15:57:00",
          "2023-08-07T16:27:00",
          "2023-08-07T16:58:00",
          "2023-08-07T17:28:00",
          "2023-08-07T17:58:00",
          "2023-08-07T18:28:00",
          "2023-08-07T18:58:00",
          "2023-08-07T19:28:00",
          "2023-08-07T19:58:00",
          "2023-08-07T20:28:00",
          "2023-08-07T20:59:00",
          "2023-08-07T21:29:00",
          "2023-08-07T21:59:00",
          "2023-08-07T22:29:00",
          "2023-08-07T22:59:00",
          "2023-08-07T23:29:00",
          "2023-08-07T23:59:00",
          "2023-08-08T00:29:00",
          "2023-08-08T01:00:00",
          "2023-08-08T01:30:00",
          "2023-08-08T02:00:00",
          "2023-08-08T02:30:00",
          "2023-08-08T03:00:00",
          "2023-08-08T03:30:00",
          "2023-08-08T04:00:00",
          "2023-08-08T04:30:00",
          "2023-08-08T05:01:00",
          "2023-08-08T05:31:00",
          "2023-08-08T06:01:00",
          "2023-08-08T06:31:00",
          "2023-08-08T07:01:00",
          "2023-08-08T07:31:00",
          "2023-08-08T08:01:00",
          "2023-08-08T08:32:00",
          "2023-08-08T09:02:00",
          "2023-08-08T09:32:00",
          "2023-08-08T10:02:00",
          "2023-08-08T10:32:00",
          "2023-08-08T11:02:00",
          "2023-08-08T11:32:00",
          "2023-08-08T12:03:00",
          "2023-08-08T12:33:00",
          "2023-08-08T13:03:00",
          "2023-08-08T13:33:00",
          "2023-08-08T14:03:00",
          "2023-08-08T14:33:00",
          "2023-08-08T15:03:00",
          "2023-08-08T15:33:00",
          "2023-08-08T16:04:00",
          "2023-08-08T16:34:00",
          "2023-08-08T17:04:00",
          "2023-08-08T17:34:00",
          "2023-08-08T18:04:00",
          "2023-08-08T18:34:00",
          "2023-08-08T19:04:00",
          "2023-08-08T19:35:00",
          "2023-08-08T20:05:00",
          "2023-08-08T20:35:00",
          "2023-08-08T21:05:00",
          "2023-08-08T21:35:00",
          "2023-08-08T22:05:00",
          "2023-08-08T22:35:00",
          "2023-08-08T23:06:00",
          "2023-08-08T23:36:00",
          "2023-08-09T00:06:00",
          "2023-08-09T00:36:00",
          "2023-08-09T01:06:00",
          "2023-08-09T01:36:00",
          "2023-08-09T02:06:00",
          "2023-08-09T02:36:00",
          "2023-08-09T03:07:00",
          "2023-08-09T03:37:00",
          "2023-08-09T04:07:00",
          "2023-08-09T04:37:00",
          "2023-08-09T05:07:00",
          "2023-08-09T05:37:00",
          "2023-08-09T06:07:00",
          "2023-08-09T06:37:00",
          "2023-08-09T07:08:00",
          "2023-08-09T07:38:00",
          "2023-08-09T08:08:00",
          "2023-08-09T08:38:00",
          "2023-08-09T09:08:00",
          "2023-08-09T09:38:00",
          "2023-08-09T10:08:00",
          "2023-08-09T10:39:00",
          "2023-08-09T11:09:00",
          "2023-08-09T11:39:00",
          "2023-08-09T12:09:00",
          "2023-08-09T12:39:00",
          "2023-08-09T13:09:00",
          "2023-08-09T13:39:00",
          "2023-08-09T14:10:00",
          "2023-08-09T14:40:00",
          "2023-08-09T15:10:00",
          "2023-08-09T15:40:00",
          "2023-08-09T16:10:00",
          "2023-08-09T17:45:00",
          "2023-08-09T18:15:00",
          "2023-08-09T18:46:00",
          "2023-08-09T19:16:00",
          "2023-08-09T19:46:00",
          "2023-08-09T20:16:00",
          "2023-08-09T20:46:00",
          "2023-08-09T21:16:00",
          "2023-08-09T21:46:00",
          "2023-08-09T22:17:00",
          "2023-08-09T22:47:00",
          "2023-08-09T23:17:00",
          "2023-08-09T23:47:00",
          "2023-08-10T00:17:00",
          "2023-08-10T00:47:00",
          "2023-08-10T01:17:00",
          "2023-08-10T01:48:00",
          "2023-08-10T02:18:00",
          "2023-08-10T02:48:00",
          "2023-08-10T03:18:00",
          "2023-08-10T03:48:00",
          "2023-08-10T04:18:00",
          "2023-08-10T04:48:00",
          "2023-08-10T05:18:00",
          "2023-08-10T05:49:00",
          "2023-08-10T06:19:00",
          "2023-08-10T06:49:00",
          "2023-08-10T07:19:00",
          "2023-08-10T07:49:00",
          "2023-08-10T08:19:00",
          "2023-08-10T08:49:00",
          "2023-08-10T09:20:00",
          "2023-08-10T09:50:00",
          "2023-08-10T10:20:00",
          "2023-08-10T10:50:00",
          "2023-08-10T11:20:00",
          "2023-08-10T11:50:00",
          "2023-08-10T12:20:00",
          "2023-08-10T12:51:00",
          "2023-08-10T13:21:00",
          "2023-08-10T13:51:00",
          "2023-08-10T14:21:00",
          "2023-08-10T14:51:00",
          "2023-08-10T15:21:00",
          "2023-08-10T15:51:00",
          "2023-08-10T16:21:00",
          "2023-08-10T16:52:00",
          "2023-08-10T17:22:00",
          "2023-08-10T17:52:00",
          "2023-08-10T18:22:00",
          "2023-08-10T18:52:00",
          "2023-08-10T19:22:00",
          "2023-08-10T19:52:00",
          "2023-08-10T20:22:00",
          "2023-08-10T20:53:00",
          "2023-08-10T21:23:00",
          "2023-08-10T21:53:00",
          "2023-08-10T22:23:00",
          "2023-08-10T22:53:00",
          "2023-08-10T23:23:00",
          "2023-08-10T23:53:00",
          "2023-08-11T00:24:00",
          "2023-08-11T00:54:00",
          "2023-08-11T01:24:00",
          "2023-08-11T01:54:00",
          "2023-08-11T02:24:00",
          "2023-08-11T02:54:00",
          "2023-08-11T03:24:00",
          "2023-08-13T01:17:00",
          "2023-08-13T01:47:00",
          "2023-08-13T02:17:00",
          "2023-08-13T02:47:00",
          "2023-08-13T03:18:00",
          "2023-08-13T03:48:00",
          "2023-08-13T04:18:00",
          "2023-08-13T04:48:00",
          "2023-08-13T05:18:00",
          "2023-08-13T05:48:00",
          "2023-08-13T06:18:00",
          "2023-08-13T06:48:00",
          "2023-08-13T07:18:00",
          "2023-08-13T07:49:00",
          "2023-08-13T08:19:00",
          "2023-08-13T08:49:00",
          "2023-08-13T09:19:00",
          "2023-08-13T09:49:00",
          "2023-08-13T10:19:00",
          "2023-08-13T10:49:00",
          "2023-08-13T11:19:00",
          "2023-08-13T11:50:00",
          "2023-08-13T12:20:00",
          "2023-08-13T12:50:00",
          "2023-08-13T13:20:00",
          "2023-08-13T13:50:00",
          "2023-08-13T14:20:00",
          "2023-08-13T14:50:00",
          "2023-08-13T15:20:00",
          "2023-08-13T15:51:00",
          "2023-08-13T16:21:00",
          "2023-08-13T16:51:00",
          "2023-08-13T17:21:00",
          "2023-08-13T17:51:00",
          "2023-08-13T18:21:00",
          "2023-08-13T18:51:00",
          "2023-08-13T19:21:00",
          "2023-08-13T19:52:00",
          "2023-08-13T20:22:00",
          "2023-08-13T20:52:00",
          "2023-08-13T21:22:00",
          "2023-08-13T21:52:00",
          "2023-08-13T22:22:00",
          "2023-08-13T22:52:00",
          "2023-08-13T23:22:00",
          "2023-08-13T23:53:00",
          "2023-08-14T00:23:00",
          "2023-08-14T00:53:00",
          "2023-08-14T01:23:00",
          "2023-08-14T01:53:00",
          "2023-08-14T02:23:00",
          "2023-08-14T02:53:00",
          "2023-08-14T03:23:00",
          "2023-08-14T03:54:00",
          "2023-08-14T04:24:00",
          "2023-08-14T04:54:00",
          "2023-08-14T05:24:00",
          "2023-08-14T05:54:00",
          "2023-08-14T06:24:00",
          "2023-08-14T06:54:00",
          "2023-08-14T07:24:00",
          "2023-08-14T07:55:00",
          "2023-08-14T08:25:00",
          "2023-08-14T08:55:00",
          "2023-08-14T09:25:00",
          "2023-08-14T09:55:00",
          "2023-08-14T10:25:00",
          "2023-08-14T10:55:00",
          "2023-08-14T11:26:00",
          "2023-08-14T11:56:00",
          "2023-08-14T12:26:00",
          "2023-08-14T12:56:00",
          "2023-08-14T13:26:00"
         ],
         "y": [
          -8.046487603305785,
          -4.046487603305785,
          -9.046487603305785,
          -6.046487603305785,
          -7.046487603305785,
          -8.046487603305785,
          -8.046487603305785,
          -10.046487603305785,
          -10.046487603305785,
          -10.046487603305785,
          -10.046487603305785,
          -9.046487603305785,
          -10.046487603305785,
          -8.046487603305785,
          -3.046487603305785,
          5.953512396694215,
          1.9535123966942152,
          3.953512396694215,
          -0.04648760330578483,
          -0.04648760330578483,
          -6.046487603305785,
          -0.04648760330578483,
          -5.046487603305785,
          5.953512396694215,
          10.953512396694215,
          5.953512396694215,
          11.953512396694215,
          7.953512396694215,
          9.953512396694215,
          13.953512396694215,
          14.953512396694215,
          11.953512396694215,
          18.953512396694215,
          25.953512396694215,
          16.953512396694215,
          14.953512396694215,
          21.953512396694215,
          20.953512396694215,
          22.953512396694215,
          19.953512396694215,
          25.953512396694215,
          8.953512396694215,
          11.953512396694215,
          3.953512396694215,
          4.953512396694215,
          2.953512396694215,
          -6.046487603305785,
          -3.046487603305785,
          -7.046487603305785,
          1.9535123966942152,
          -10.046487603305785,
          0.9535123966942152,
          -3.046487603305785,
          -3.046487603305785,
          -4.046487603305785,
          -3.046487603305785,
          -2.046487603305785,
          -3.046487603305785,
          -4.046487603305785,
          -5.046487603305785,
          -1.0464876033057848,
          2.953512396694215,
          7.953512396694215,
          13.953512396694215,
          14.953512396694215,
          13.953512396694215,
          5.953512396694215,
          3.953512396694215,
          3.953512396694215,
          4.953512396694215,
          2.953512396694215,
          3.953512396694215,
          8.953512396694215,
          12.953512396694215,
          12.953512396694215,
          18.953512396694215,
          20.953512396694215,
          14.953512396694215,
          11.953512396694215,
          15.953512396694215,
          11.953512396694215,
          13.953512396694215,
          11.953512396694215,
          14.953512396694215,
          11.953512396694215,
          13.953512396694215,
          14.953512396694215,
          11.953512396694215,
          11.953512396694215,
          14.953512396694215,
          15.953512396694215,
          6.953512396694215,
          1.9535123966942152,
          2.953512396694215,
          -4.046487603305785,
          -7.046487603305785,
          -4.046487603305785,
          -4.046487603305785,
          -5.046487603305785,
          -8.046487603305785,
          -10.046487603305785,
          -8.046487603305785,
          -6.046487603305785,
          -8.046487603305785,
          -4.046487603305785,
          -7.046487603305785,
          -11.046487603305785,
          -8.046487603305785,
          -9.046487603305785,
          -12.046487603305785,
          -12.046487603305785,
          -11.046487603305785,
          -10.046487603305785,
          -8.046487603305785,
          -10.046487603305785,
          -8.046487603305785,
          -9.046487603305785,
          -5.046487603305785,
          -6.046487603305785,
          -8.046487603305785,
          -10.046487603305785,
          -4.046487603305785,
          -8.046487603305785,
          -12.046487603305785,
          -7.046487603305785,
          -6.046487603305785,
          -9.046487603305785,
          -9.046487603305785,
          -10.046487603305785,
          -11.046487603305785,
          -11.046487603305785,
          -8.046487603305785,
          -7.046487603305785,
          -8.046487603305785,
          -10.046487603305785,
          -0.04648760330578483,
          6.953512396694215,
          -1.0464876033057848,
          1.9535123966942152,
          2.953512396694215,
          4.953512396694215,
          12.953512396694215,
          10.953512396694215,
          12.953512396694215,
          6.953512396694215,
          3.953512396694215,
          2.953512396694215,
          -2.046487603305785,
          -0.04648760330578483,
          1.9535123966942152,
          7.953512396694215,
          -2.046487603305785,
          1.9535123966942152,
          -7.046487603305785,
          -5.046487603305785,
          -3.046487603305785,
          -8.046487603305785,
          3.953512396694215,
          8.953512396694215,
          9.953512396694215,
          -4.046487603305785,
          -0.04648760330578483,
          -4.046487603305785,
          -2.046487603305785,
          -6.046487603305785,
          -2.046487603305785,
          -2.046487603305785,
          -2.046487603305785,
          -3.046487603305785,
          -2.046487603305785,
          5.953512396694215,
          7.953512396694215,
          5.953512396694215,
          6.953512396694215,
          4.953512396694215,
          3.953512396694215,
          -1.0464876033057848,
          -7.046487603305785,
          -5.046487603305785,
          -3.046487603305785,
          -0.04648760330578483,
          -0.04648760330578483,
          1.9535123966942152,
          1.9535123966942152,
          2.953512396694215,
          4.953512396694215,
          6.953512396694215,
          -0.04648760330578483,
          -2.046487603305785,
          14.953512396694215,
          8.953512396694215,
          10.953512396694215,
          5.953512396694215,
          -3.046487603305785,
          3.953512396694215,
          5.953512396694215,
          3.953512396694215,
          7.953512396694215,
          -1.0464876033057848,
          2.953512396694215,
          0.9535123966942152,
          -1.0464876033057848,
          -0.04648760330578483,
          0.9535123966942152,
          -5.046487603305785,
          -2.046487603305785,
          -4.046487603305785,
          -1.0464876033057848,
          -4.046487603305785,
          10.953512396694215,
          24.953512396694215,
          22.953512396694215,
          17.953512396694215,
          19.953512396694215,
          16.953512396694215,
          12.953512396694215,
          7.953512396694215,
          6.953512396694215,
          11.953512396694215,
          1.9535123966942152,
          -1.0464876033057848,
          -2.046487603305785,
          -0.04648760330578483,
          -0.04648760330578483,
          -7.046487603305785,
          -3.046487603305785,
          1.9535123966942152,
          -3.046487603305785,
          3.953512396694215,
          -3.046487603305785,
          -1.0464876033057848,
          -2.046487603305785,
          1.9535123966942152,
          -3.046487603305785,
          0.9535123966942152,
          -0.04648760330578483,
          -1.0464876033057848,
          -3.046487603305785,
          3.953512396694215,
          5.953512396694215,
          4.953512396694215,
          4.953512396694215,
          -1.0464876033057848,
          -1.0464876033057848,
          3.953512396694215,
          1.9535123966942152,
          5.953512396694215,
          1.9535123966942152,
          1.9535123966942152,
          5.953512396694215,
          9.953512396694215,
          11.953512396694215,
          15.953512396694215,
          14.953512396694215,
          17.953512396694215,
          9.953512396694215,
          12.953512396694215,
          18.953512396694215,
          16.953512396694215,
          6.953512396694215,
          19.953512396694215,
          22.953512396694215,
          26.953512396694215,
          10.953512396694215,
          10.953512396694215,
          17.953512396694215,
          15.953512396694215,
          9.953512396694215,
          8.953512396694215,
          -3.046487603305785,
          -2.046487603305785,
          -4.046487603305785,
          -7.046487603305785,
          3.953512396694215,
          3.953512396694215,
          -2.046487603305785,
          -6.046487603305785,
          -6.046487603305785,
          -6.046487603305785,
          -7.046487603305785,
          -6.046487603305785,
          -6.046487603305785,
          -8.046487603305785,
          -9.046487603305785,
          -3.046487603305785,
          -0.04648760330578483,
          1.9535123966942152,
          8.953512396694215,
          8.953512396694215,
          8.953512396694215,
          5.953512396694215,
          8.953512396694215,
          7.953512396694215,
          -5.046487603305785,
          3.953512396694215,
          1.9535123966942152,
          10.953512396694215,
          10.953512396694215,
          7.953512396694215,
          10.953512396694215,
          5.953512396694215,
          7.953512396694215,
          14.953512396694215,
          5.953512396694215,
          4.953512396694215,
          11.953512396694215,
          17.953512396694215,
          19.953512396694215,
          21.953512396694215,
          19.953512396694215,
          14.953512396694215,
          9.953512396694215,
          28.953512396694215,
          18.953512396694215,
          -13.046487603305785,
          16.953512396694215,
          27.953512396694215,
          21.953512396694215,
          18.953512396694215,
          11.953512396694215,
          17.953512396694215,
          8.953512396694215,
          -2.046487603305785,
          -7.046487603305785,
          -2.046487603305785,
          -4.046487603305785,
          -7.046487603305785,
          -4.046487603305785,
          -13.046487603305785,
          -9.046487603305785,
          -6.046487603305785,
          -7.046487603305785,
          -7.046487603305785,
          -9.046487603305785,
          -5.046487603305785,
          -1.0464876033057848,
          4.953512396694215,
          -0.04648760330578483,
          1.9535123966942152,
          -13.046487603305785,
          2.953512396694215,
          3.953512396694215,
          4.953512396694215,
          4.953512396694215,
          10.953512396694215,
          5.953512396694215,
          18.953512396694215,
          12.953512396694215,
          21.953512396694215,
          16.953512396694215,
          21.953512396694215,
          -9.046487603305785,
          12.953512396694215,
          19.953512396694215,
          21.953512396694215,
          13.953512396694215,
          18.953512396694215,
          14.953512396694215,
          20.953512396694215,
          9.953512396694215,
          14.953512396694215,
          9.953512396694215,
          5.953512396694215,
          15.953512396694215,
          18.953512396694215,
          9.953512396694215,
          14.953512396694215,
          13.953512396694215,
          7.953512396694215,
          5.953512396694215,
          17.953512396694215,
          3.953512396694215,
          1.9535123966942152,
          -10.046487603305785,
          -10.046487603305785,
          -11.046487603305785,
          -11.046487603305785,
          -10.046487603305785,
          -9.046487603305785,
          -10.046487603305785,
          -11.046487603305785,
          -10.046487603305785,
          -11.046487603305785,
          5.953512396694215,
          11.953512396694215,
          13.953512396694215,
          14.953512396694215,
          15.953512396694215,
          10.953512396694215,
          18.953512396694215,
          17.953512396694215,
          17.953512396694215,
          14.953512396694215,
          10.953512396694215,
          11.953512396694215,
          9.953512396694215,
          13.953512396694215,
          22.953512396694215,
          7.953512396694215,
          17.953512396694215,
          12.953512396694215,
          17.953512396694215,
          16.953512396694215,
          18.953512396694215,
          11.953512396694215,
          12.953512396694215,
          18.953512396694215,
          20.953512396694215,
          17.953512396694215,
          12.953512396694215,
          12.953512396694215,
          20.953512396694215,
          23.953512396694215,
          22.953512396694215,
          13.953512396694215,
          18.953512396694215,
          14.953512396694215,
          -1.0464876033057848,
          1.9535123966942152,
          -4.046487603305785,
          0.9535123966942152,
          1.9535123966942152,
          3.953512396694215,
          6.953512396694215,
          3.953512396694215,
          -2.046487603305785,
          -5.046487603305785,
          -5.046487603305785,
          -6.046487603305785,
          -10.046487603305785,
          -11.046487603305785,
          -9.046487603305785,
          -7.046487603305785,
          -5.046487603305785,
          0.9535123966942152,
          -10.046487603305785,
          -3.046487603305785,
          -1.0464876033057848,
          -1.0464876033057848,
          -1.0464876033057848,
          -5.046487603305785,
          -1.0464876033057848,
          -2.046487603305785,
          -6.046487603305785,
          -3.046487603305785,
          -2.046487603305785,
          -4.046487603305785,
          -0.04648760330578483,
          -1.0464876033057848,
          -2.046487603305785,
          -5.046487603305785,
          -5.046487603305785,
          -1.0464876033057848,
          1.9535123966942152,
          -1.0464876033057848,
          0.9535123966942152,
          3.953512396694215,
          -0.04648760330578483,
          3.953512396694215,
          -2.046487603305785,
          -3.046487603305785,
          0.9535123966942152,
          0.9535123966942152,
          3.953512396694215,
          7.953512396694215,
          5.953512396694215,
          1.9535123966942152,
          -3.046487603305785,
          -2.046487603305785,
          -4.046487603305785,
          -5.046487603305785,
          -9.046487603305785,
          -7.046487603305785,
          -5.046487603305785,
          -5.046487603305785,
          -7.046487603305785,
          -4.046487603305785,
          -3.046487603305785,
          -2.046487603305785,
          -2.046487603305785,
          -4.046487603305785,
          -6.046487603305785,
          -8.046487603305785,
          -5.046487603305785,
          -6.046487603305785,
          -7.046487603305785,
          -7.046487603305785,
          -4.046487603305785,
          -5.046487603305785,
          -7.046487603305785,
          -7.046487603305785,
          1.9535123966942152,
          0.9535123966942152,
          3.953512396694215,
          3.953512396694215,
          1.9535123966942152,
          -2.046487603305785,
          -3.046487603305785,
          2.953512396694215,
          3.953512396694215,
          4.953512396694215,
          4.953512396694215,
          5.953512396694215,
          10.953512396694215,
          7.953512396694215,
          9.953512396694215,
          11.953512396694215,
          8.953512396694215,
          10.953512396694215,
          11.953512396694215,
          6.953512396694215,
          12.953512396694215,
          8.953512396694215,
          11.953512396694215,
          17.953512396694215,
          17.953512396694215,
          14.953512396694215,
          18.953512396694215,
          15.953512396694215,
          8.953512396694215,
          11.953512396694215,
          15.953512396694215,
          21.953512396694215,
          21.953512396694215,
          15.953512396694215,
          10.953512396694215,
          -10.046487603305785,
          7.953512396694215,
          -11.046487603305785,
          -6.046487603305785,
          -7.046487603305785,
          -6.046487603305785,
          -10.046487603305785,
          -11.046487603305785,
          -11.046487603305785,
          -11.046487603305785,
          -12.046487603305785,
          -13.046487603305785,
          -11.046487603305785,
          -12.046487603305785,
          -10.046487603305785,
          -13.046487603305785,
          -13.046487603305785,
          -12.046487603305785,
          -11.046487603305785,
          -12.046487603305785,
          -12.046487603305785,
          -12.046487603305785,
          -12.046487603305785,
          -12.046487603305785,
          -11.046487603305785,
          -12.046487603305785,
          -13.046487603305785,
          -12.046487603305785,
          -12.046487603305785,
          -12.046487603305785,
          -12.046487603305785,
          -12.046487603305785,
          -11.046487603305785,
          -12.046487603305785,
          -12.046487603305785,
          -13.046487603305785,
          -12.046487603305785,
          -12.046487603305785,
          -13.046487603305785,
          -12.046487603305785,
          -11.046487603305785,
          -11.046487603305785,
          -11.046487603305785,
          -8.046487603305785,
          -10.046487603305785,
          -10.046487603305785,
          -10.046487603305785,
          -11.046487603305785,
          -9.046487603305785,
          -10.046487603305785,
          -13.046487603305785,
          -13.046487603305785,
          -11.046487603305785,
          -12.046487603305785,
          -10.046487603305785,
          -11.046487603305785,
          -13.046487603305785,
          -13.046487603305785,
          -13.046487603305785,
          -13.046487603305785,
          -12.046487603305785,
          -12.046487603305785,
          -13.046487603305785,
          -12.046487603305785,
          -13.046487603305785,
          -13.046487603305785,
          -13.046487603305785,
          -13.046487603305785,
          -11.046487603305785,
          -12.046487603305785,
          -12.046487603305785,
          -12.046487603305785,
          -12.046487603305785,
          -10.046487603305785,
          -10.046487603305785,
          -10.046487603305785,
          -10.046487603305785,
          -10.046487603305785,
          -10.046487603305785,
          -9.046487603305785,
          -13.046487603305785,
          -13.046487603305785,
          -11.046487603305785,
          -13.046487603305785,
          -10.046487603305785,
          -7.046487603305785,
          -11.046487603305785,
          -12.046487603305785,
          -12.046487603305785,
          -12.046487603305785,
          -11.046487603305785,
          -11.046487603305785,
          -9.046487603305785,
          -10.046487603305785,
          -11.046487603305785,
          -9.046487603305785,
          -9.046487603305785,
          -10.046487603305785,
          -13.046487603305785,
          -11.046487603305785,
          -12.046487603305785,
          -12.046487603305785,
          -12.046487603305785,
          -12.046487603305785,
          -12.046487603305785,
          -12.046487603305785,
          -13.046487603305785,
          -13.046487603305785,
          -11.046487603305785,
          -13.046487603305785,
          -13.046487603305785,
          -13.046487603305785,
          -13.046487603305785,
          -13.046487603305785,
          -13.046487603305785,
          -13.046487603305785,
          -12.046487603305785,
          -12.046487603305785,
          -12.046487603305785,
          -10.046487603305785,
          -11.046487603305785,
          -9.046487603305785,
          -7.046487603305785,
          -11.046487603305785,
          -12.046487603305785,
          -12.046487603305785,
          -12.046487603305785,
          -9.046487603305785,
          -12.046487603305785,
          -11.046487603305785,
          -12.046487603305785,
          -12.046487603305785,
          -10.046487603305785,
          -11.046487603305785,
          -11.046487603305785,
          -12.046487603305785,
          -10.046487603305785,
          -10.046487603305785,
          -10.046487603305785,
          -12.046487603305785,
          -11.046487603305785,
          -11.046487603305785,
          -10.046487603305785,
          -10.046487603305785,
          -9.046487603305785,
          -6.046487603305785,
          -5.046487603305785,
          -11.046487603305785,
          -9.046487603305785,
          -11.046487603305785,
          -13.046487603305785,
          -13.046487603305785,
          -12.046487603305785,
          -13.046487603305785,
          -13.046487603305785,
          -11.046487603305785,
          -13.046487603305785,
          -13.046487603305785,
          -13.046487603305785,
          -13.046487603305785,
          -13.046487603305785,
          -13.046487603305785,
          -12.046487603305785,
          -13.046487603305785,
          -11.046487603305785,
          -12.046487603305785,
          -12.046487603305785,
          -10.046487603305785,
          -12.046487603305785,
          -12.046487603305785,
          -12.046487603305785,
          -12.046487603305785,
          -8.046487603305785,
          -11.046487603305785,
          -11.046487603305785,
          -10.046487603305785,
          -8.046487603305785,
          -8.046487603305785,
          -8.046487603305785,
          -6.046487603305785,
          -8.046487603305785,
          -8.046487603305785,
          -7.046487603305785,
          -6.046487603305785,
          -5.046487603305785,
          -6.046487603305785,
          -8.046487603305785,
          -7.046487603305785,
          -7.046487603305785,
          -7.046487603305785,
          -8.046487603305785,
          -8.046487603305785,
          -8.046487603305785,
          -4.046487603305785,
          -6.046487603305785,
          -8.046487603305785,
          -8.046487603305785,
          -6.046487603305785,
          -5.046487603305785,
          -9.046487603305785,
          -8.046487603305785,
          -10.046487603305785,
          20.953512396694215,
          19.953512396694215,
          13.953512396694215,
          11.953512396694215,
          17.953512396694215,
          16.953512396694215,
          11.953512396694215,
          7.953512396694215,
          9.953512396694215,
          12.953512396694215,
          13.953512396694215,
          13.953512396694215,
          4.953512396694215,
          -5.046487603305785,
          -9.046487603305785,
          -9.046487603305785,
          -8.046487603305785,
          -10.046487603305785,
          -11.046487603305785,
          -10.046487603305785,
          -6.046487603305785,
          -8.046487603305785,
          -9.046487603305785,
          -11.046487603305785,
          -13.046487603305785,
          -12.046487603305785,
          -11.046487603305785,
          -5.046487603305785,
          -1.0464876033057848,
          0.9535123966942152,
          -0.04648760330578483,
          -5.046487603305785,
          2.953512396694215,
          5.953512396694215,
          6.953512396694215,
          14.953512396694215,
          13.953512396694215,
          14.953512396694215,
          28.953512396694215,
          8.953512396694215,
          25.953512396694215,
          16.953512396694215,
          22.953512396694215,
          19.953512396694215,
          18.953512396694215,
          19.953512396694215,
          14.953512396694215,
          18.953512396694215,
          18.953512396694215,
          16.953512396694215,
          9.953512396694215,
          15.953512396694215,
          12.953512396694215,
          14.953512396694215,
          16.953512396694215,
          10.953512396694215,
          20.953512396694215,
          16.953512396694215,
          4.953512396694215,
          1.9535123966942152,
          8.953512396694215,
          -2.046487603305785,
          -7.046487603305785,
          -5.046487603305785,
          -7.046487603305785,
          -10.046487603305785,
          -6.046487603305785,
          -8.046487603305785,
          -10.046487603305785,
          -8.046487603305785,
          -6.046487603305785,
          -7.046487603305785,
          -7.046487603305785,
          -7.046487603305785,
          -7.046487603305785,
          -5.046487603305785,
          -1.0464876033057848,
          4.953512396694215,
          10.953512396694215,
          9.953512396694215,
          9.953512396694215,
          4.953512396694215,
          8.953512396694215,
          10.953512396694215,
          9.953512396694215,
          17.953512396694215,
          13.953512396694215,
          9.953512396694215,
          10.953512396694215,
          26.953512396694215,
          4.953512396694215,
          7.953512396694215,
          14.953512396694215,
          19.953512396694215,
          19.953512396694215,
          13.953512396694215,
          21.953512396694215,
          12.953512396694215,
          -2.046487603305785,
          4.953512396694215,
          23.953512396694215,
          10.953512396694215,
          11.953512396694215,
          0.9535123966942152,
          8.953512396694215,
          4.953512396694215,
          -0.04648760330578483,
          -5.046487603305785,
          -4.046487603305785,
          -2.046487603305785,
          -4.046487603305785,
          -2.046487603305785,
          -2.046487603305785,
          -3.046487603305785,
          -1.0464876033057848,
          -3.046487603305785,
          -4.046487603305785,
          -4.046487603305785,
          -4.046487603305785,
          -2.046487603305785,
          -3.046487603305785,
          2.953512396694215,
          0.9535123966942152,
          2.953512396694215,
          10.953512396694215,
          6.953512396694215,
          4.953512396694215,
          13.953512396694215,
          15.953512396694215,
          13.953512396694215,
          11.953512396694215,
          18.953512396694215,
          17.953512396694215,
          18.953512396694215,
          17.953512396694215,
          14.953512396694215,
          10.953512396694215,
          14.953512396694215,
          15.953512396694215,
          16.953512396694215,
          13.953512396694215,
          21.953512396694215,
          17.953512396694215,
          10.953512396694215,
          8.953512396694215,
          20.953512396694215,
          20.953512396694215,
          22.953512396694215,
          20.953512396694215,
          21.953512396694215,
          19.953512396694215,
          16.953512396694215,
          14.953512396694215,
          14.953512396694215,
          2.953512396694215,
          -6.046487603305785,
          -5.046487603305785,
          -6.046487603305785,
          -4.046487603305785,
          -4.046487603305785,
          -3.046487603305785,
          -3.046487603305785,
          -5.046487603305785,
          -3.046487603305785,
          -5.046487603305785,
          -2.046487603305785,
          -3.046487603305785,
          -13.046487603305785,
          -13.046487603305785,
          -13.046487603305785,
          -13.046487603305785,
          -13.046487603305785,
          -13.046487603305785,
          -13.046487603305785,
          -13.046487603305785,
          -13.046487603305785,
          -13.046487603305785,
          -13.046487603305785,
          -13.046487603305785,
          -13.046487603305785,
          -13.046487603305785,
          -13.046487603305785,
          -13.046487603305785,
          -13.046487603305785,
          -13.046487603305785,
          -13.046487603305785,
          -13.046487603305785,
          -13.046487603305785,
          -13.046487603305785,
          -13.046487603305785,
          -13.046487603305785,
          -13.046487603305785,
          -13.046487603305785,
          -13.046487603305785,
          -13.046487603305785,
          -13.046487603305785,
          -13.046487603305785,
          -13.046487603305785,
          -13.046487603305785,
          -13.046487603305785,
          -13.046487603305785,
          -13.046487603305785,
          -13.046487603305785,
          -13.046487603305785,
          -13.046487603305785,
          -13.046487603305785,
          -13.046487603305785,
          -13.046487603305785,
          -13.046487603305785,
          -13.046487603305785,
          -13.046487603305785,
          -13.046487603305785,
          -13.046487603305785,
          -13.046487603305785,
          -13.046487603305785,
          -13.046487603305785,
          -10.046487603305785,
          -11.046487603305785,
          -10.046487603305785,
          -11.046487603305785,
          -10.046487603305785,
          -10.046487603305785,
          -8.046487603305785,
          -9.046487603305785,
          -9.046487603305785,
          -9.046487603305785,
          -9.046487603305785,
          -11.046487603305785,
          -10.046487603305785,
          -9.046487603305785,
          -7.046487603305785,
          -11.046487603305785,
          -10.046487603305785,
          -10.046487603305785,
          -8.046487603305785,
          -11.046487603305785,
          -11.046487603305785,
          -11.046487603305785,
          -10.046487603305785,
          -11.046487603305785
         ]
        },
        {
         "mode": "lines",
         "name": "Rolling",
         "type": "scatter",
         "x": [
          "2023-06-06T20:36:00",
          "2023-06-06T21:06:00",
          "2023-06-06T21:37:00",
          "2023-06-06T22:07:00",
          "2023-06-06T22:37:00",
          "2023-06-06T23:07:00",
          "2023-06-06T23:38:00",
          "2023-06-07T00:08:00",
          "2023-06-07T00:38:00",
          "2023-06-07T01:08:00",
          "2023-06-07T01:39:00",
          "2023-06-07T02:09:00",
          "2023-06-07T02:39:00",
          "2023-06-07T03:10:00",
          "2023-06-07T03:40:00",
          "2023-06-07T04:10:00",
          "2023-06-07T04:41:00",
          "2023-06-07T05:11:00",
          "2023-06-07T05:41:00",
          "2023-06-07T06:11:00",
          "2023-06-07T06:42:00",
          "2023-06-07T07:12:00",
          "2023-06-07T07:42:00",
          "2023-06-07T08:13:00",
          "2023-06-07T08:43:00",
          "2023-06-07T09:13:00",
          "2023-06-07T09:44:00",
          "2023-06-07T10:14:00",
          "2023-06-07T10:44:00",
          "2023-06-07T11:14:00",
          "2023-06-07T11:45:00",
          "2023-06-07T12:15:00",
          "2023-06-07T12:45:00",
          "2023-06-07T13:16:00",
          "2023-06-07T13:46:00",
          "2023-06-07T14:16:00",
          "2023-06-07T14:47:00",
          "2023-06-07T15:17:00",
          "2023-06-07T15:47:00",
          "2023-06-07T16:17:00",
          "2023-06-07T16:48:00",
          "2023-06-07T17:18:00",
          "2023-06-07T17:48:00",
          "2023-06-07T18:18:00",
          "2023-06-07T18:49:00",
          "2023-06-07T19:19:00",
          "2023-06-07T19:49:00",
          "2023-06-07T20:20:00",
          "2023-06-07T20:50:00",
          "2023-06-07T21:20:00",
          "2023-06-07T21:51:00",
          "2023-06-07T22:21:00",
          "2023-06-07T22:51:00",
          "2023-06-07T23:22:00",
          "2023-06-07T23:52:00",
          "2023-06-08T00:22:00",
          "2023-06-08T00:52:00",
          "2023-06-08T01:23:00",
          "2023-06-08T01:53:00",
          "2023-06-08T02:23:00",
          "2023-06-08T02:53:00",
          "2023-06-08T03:24:00",
          "2023-06-08T03:54:00",
          "2023-06-08T04:24:00",
          "2023-06-08T04:54:00",
          "2023-06-08T05:25:00",
          "2023-06-08T05:55:00",
          "2023-06-08T06:25:00",
          "2023-06-08T06:55:00",
          "2023-06-08T07:26:00",
          "2023-06-08T07:56:00",
          "2023-06-08T08:26:00",
          "2023-06-08T08:57:00",
          "2023-06-08T09:27:00",
          "2023-06-08T09:57:00",
          "2023-06-08T10:27:00",
          "2023-06-08T10:57:00",
          "2023-06-08T11:28:00",
          "2023-06-08T11:58:00",
          "2023-06-08T12:28:00",
          "2023-06-08T12:58:00",
          "2023-06-08T13:29:00",
          "2023-06-08T13:59:00",
          "2023-06-08T14:29:00",
          "2023-06-08T14:59:00",
          "2023-06-08T15:30:00",
          "2023-06-08T16:00:00",
          "2023-06-08T16:30:00",
          "2023-06-08T17:01:00",
          "2023-06-08T17:31:00",
          "2023-06-08T18:01:00",
          "2023-06-08T18:31:00",
          "2023-06-08T19:02:00",
          "2023-06-08T19:32:00",
          "2023-06-08T20:02:00",
          "2023-06-08T20:33:00",
          "2023-06-08T21:03:00",
          "2023-06-08T21:33:00",
          "2023-06-08T22:03:00",
          "2023-06-08T22:33:00",
          "2023-06-09T12:44:00",
          "2023-06-09T13:15:00",
          "2023-06-09T13:45:00",
          "2023-06-09T14:15:00",
          "2023-06-09T14:46:00",
          "2023-06-09T15:16:00",
          "2023-06-09T15:46:00",
          "2023-06-09T16:17:00",
          "2023-06-09T16:47:00",
          "2023-06-09T21:03:00",
          "2023-06-09T21:34:00",
          "2023-06-09T22:04:00",
          "2023-06-09T22:34:00",
          "2023-06-09T23:04:00",
          "2023-06-09T23:35:00",
          "2023-06-10T00:05:00",
          "2023-06-10T00:35:00",
          "2023-06-10T01:05:00",
          "2023-06-10T01:36:00",
          "2023-06-10T02:06:00",
          "2023-06-10T02:36:00",
          "2023-06-10T03:07:00",
          "2023-06-10T03:37:00",
          "2023-06-10T04:07:00",
          "2023-06-10T04:37:00",
          "2023-06-10T05:08:00",
          "2023-06-10T05:38:00",
          "2023-06-10T06:08:00",
          "2023-06-10T06:38:00",
          "2023-06-10T07:09:00",
          "2023-06-10T07:39:00",
          "2023-06-10T08:09:00",
          "2023-06-10T08:40:00",
          "2023-06-10T09:10:00",
          "2023-06-10T09:40:00",
          "2023-06-10T10:10:00",
          "2023-06-10T10:40:00",
          "2023-06-10T11:11:00",
          "2023-06-10T11:41:00",
          "2023-06-10T12:11:00",
          "2023-06-10T12:41:00",
          "2023-06-10T13:12:00",
          "2023-06-10T13:42:00",
          "2023-06-10T14:12:00",
          "2023-06-10T14:42:00",
          "2023-06-10T15:13:00",
          "2023-06-10T15:43:00",
          "2023-06-10T16:13:00",
          "2023-06-10T16:43:00",
          "2023-06-10T17:14:00",
          "2023-06-10T17:44:00",
          "2023-06-10T18:14:00",
          "2023-06-10T18:44:00",
          "2023-06-10T19:15:00",
          "2023-06-10T19:45:00",
          "2023-06-10T20:15:00",
          "2023-06-10T20:45:00",
          "2023-06-10T21:15:00",
          "2023-06-10T21:46:00",
          "2023-06-10T22:16:00",
          "2023-06-10T22:46:00",
          "2023-06-10T23:16:00",
          "2023-06-10T23:46:00",
          "2023-06-11T00:17:00",
          "2023-06-11T00:47:00",
          "2023-06-11T01:17:00",
          "2023-06-11T01:48:00",
          "2023-06-11T02:18:00",
          "2023-06-11T02:48:00",
          "2023-06-11T03:19:00",
          "2023-06-11T03:49:00",
          "2023-06-11T04:19:00",
          "2023-06-11T04:49:00",
          "2023-06-11T05:20:00",
          "2023-06-11T05:50:00",
          "2023-06-11T06:20:00",
          "2023-06-11T06:50:00",
          "2023-06-11T07:21:00",
          "2023-06-11T07:51:00",
          "2023-06-11T08:21:00",
          "2023-06-11T08:51:00",
          "2023-06-11T09:22:00",
          "2023-06-11T09:52:00",
          "2023-06-11T10:22:00",
          "2023-06-11T10:52:00",
          "2023-06-11T11:23:00",
          "2023-06-11T11:53:00",
          "2023-06-11T12:23:00",
          "2023-06-11T12:53:00",
          "2023-06-11T13:24:00",
          "2023-06-11T13:54:00",
          "2023-06-11T14:24:00",
          "2023-06-11T14:54:00",
          "2023-06-11T15:25:00",
          "2023-06-11T15:55:00",
          "2023-06-11T16:25:00",
          "2023-06-11T16:56:00",
          "2023-06-11T17:26:00",
          "2023-06-11T17:56:00",
          "2023-06-11T18:26:00",
          "2023-06-11T18:56:00",
          "2023-06-11T19:27:00",
          "2023-06-11T19:57:00",
          "2023-06-11T20:27:00",
          "2023-06-11T20:57:00",
          "2023-06-11T21:27:00",
          "2023-06-11T21:58:00",
          "2023-06-11T22:28:00",
          "2023-06-11T22:58:00",
          "2023-06-12T12:52:00",
          "2023-06-12T13:23:00",
          "2023-06-12T13:53:00",
          "2023-06-12T14:23:00",
          "2023-06-12T14:54:00",
          "2023-06-12T15:24:00",
          "2023-06-12T15:54:00",
          "2023-06-12T16:24:00",
          "2023-06-12T17:01:00",
          "2023-06-12T17:31:00",
          "2023-06-12T18:02:00",
          "2023-06-12T18:32:00",
          "2023-06-12T19:02:00",
          "2023-06-12T19:33:00",
          "2023-06-12T20:03:00",
          "2023-06-12T20:33:00",
          "2023-06-12T21:03:00",
          "2023-06-12T21:34:00",
          "2023-06-12T22:04:00",
          "2023-06-12T22:34:00",
          "2023-06-12T23:04:00",
          "2023-06-12T23:35:00",
          "2023-06-13T00:05:00",
          "2023-06-13T00:35:00",
          "2023-06-13T01:06:00",
          "2023-06-13T01:36:00",
          "2023-06-13T02:06:00",
          "2023-06-13T02:36:00",
          "2023-06-13T03:07:00",
          "2023-06-13T03:37:00",
          "2023-06-13T04:07:00",
          "2023-06-13T04:38:00",
          "2023-06-13T05:08:00",
          "2023-06-13T05:38:00",
          "2023-06-13T06:08:00",
          "2023-06-13T06:39:00",
          "2023-06-13T07:09:00",
          "2023-06-13T07:39:00",
          "2023-06-13T08:10:00",
          "2023-06-13T08:40:00",
          "2023-06-13T09:10:00",
          "2023-06-13T09:40:00",
          "2023-06-13T10:11:00",
          "2023-06-13T10:41:00",
          "2023-06-13T11:11:00",
          "2023-06-13T11:42:00",
          "2023-06-13T12:12:00",
          "2023-06-13T12:42:00",
          "2023-06-13T13:12:00",
          "2023-06-13T13:43:00",
          "2023-06-13T14:13:00",
          "2023-06-13T14:43:00",
          "2023-06-13T15:14:00",
          "2023-06-13T15:44:00",
          "2023-06-13T16:14:00",
          "2023-06-13T16:44:00",
          "2023-06-13T17:15:00",
          "2023-06-13T17:45:00",
          "2023-06-13T18:16:00",
          "2023-06-13T18:47:00",
          "2023-06-13T19:17:00",
          "2023-06-13T19:47:00",
          "2023-06-13T20:17:00",
          "2023-06-13T20:48:00",
          "2023-06-13T21:18:00",
          "2023-06-13T21:48:00",
          "2023-06-13T22:19:00",
          "2023-06-13T22:49:00",
          "2023-06-13T23:19:00",
          "2023-06-13T23:49:00",
          "2023-06-14T00:20:00",
          "2023-06-14T00:50:00",
          "2023-06-14T01:20:00",
          "2023-06-14T01:50:00",
          "2023-06-14T02:21:00",
          "2023-06-14T02:51:00",
          "2023-06-14T03:21:00",
          "2023-06-14T03:52:00",
          "2023-06-14T04:22:00",
          "2023-06-14T04:52:00",
          "2023-06-14T05:22:00",
          "2023-06-14T05:53:00",
          "2023-06-14T06:23:00",
          "2023-06-14T06:53:00",
          "2023-06-14T07:24:00",
          "2023-06-14T07:54:00",
          "2023-06-14T08:24:00",
          "2023-06-14T08:54:00",
          "2023-06-14T09:25:00",
          "2023-06-14T09:55:00",
          "2023-06-14T10:25:00",
          "2023-06-14T10:56:00",
          "2023-06-14T11:26:00",
          "2023-06-14T11:56:00",
          "2023-06-14T12:26:00",
          "2023-06-14T12:57:00",
          "2023-06-14T13:27:00",
          "2023-06-14T13:57:00",
          "2023-06-17T14:58:00",
          "2023-06-17T15:29:00",
          "2023-06-17T15:59:00",
          "2023-06-17T16:29:00",
          "2023-06-17T16:59:00",
          "2023-06-17T17:30:00",
          "2023-06-17T18:00:00",
          "2023-06-17T18:30:00",
          "2023-06-17T19:01:00",
          "2023-06-17T19:31:00",
          "2023-06-17T20:01:00",
          "2023-06-17T20:31:00",
          "2023-06-17T21:02:00",
          "2023-06-17T21:32:00",
          "2023-06-17T22:02:00",
          "2023-06-17T22:32:00",
          "2023-06-17T23:03:00",
          "2023-06-17T23:33:00",
          "2023-06-18T00:03:00",
          "2023-06-18T00:34:00",
          "2023-06-18T01:04:00",
          "2023-06-18T01:34:00",
          "2023-06-18T02:05:00",
          "2023-06-18T02:35:00",
          "2023-06-18T03:05:00",
          "2023-06-18T03:36:00",
          "2023-06-18T04:06:00",
          "2023-06-18T04:36:00",
          "2023-06-18T05:06:00",
          "2023-06-18T05:37:00",
          "2023-06-18T06:07:00",
          "2023-06-18T06:37:00",
          "2023-06-18T07:07:00",
          "2023-06-18T07:38:00",
          "2023-06-18T08:08:00",
          "2023-06-18T08:38:00",
          "2023-06-18T09:09:00",
          "2023-06-18T09:39:00",
          "2023-06-18T10:09:00",
          "2023-06-18T10:40:00",
          "2023-06-18T11:10:00",
          "2023-06-18T11:40:00",
          "2023-06-18T12:10:00",
          "2023-06-18T12:41:00",
          "2023-06-19T14:33:00",
          "2023-06-19T14:34:00",
          "2023-06-19T14:53:00",
          "2023-06-19T15:42:00",
          "2023-06-19T16:12:00",
          "2023-06-19T16:22:00",
          "2023-06-19T16:31:00",
          "2023-06-19T16:55:00",
          "2023-06-19T17:10:00",
          "2023-06-19T17:12:00",
          "2023-06-19T17:52:00",
          "2023-06-19T18:07:00",
          "2023-06-19T18:34:00",
          "2023-06-19T19:17:00",
          "2023-06-19T20:17:00",
          "2023-06-19T20:18:00",
          "2023-06-19T20:26:00",
          "2023-06-19T20:34:00",
          "2023-06-19T21:12:00",
          "2023-06-19T21:41:00",
          "2023-06-19T22:06:00",
          "2023-06-19T22:41:00",
          "2023-06-19T23:26:00",
          "2023-06-19T23:44:00",
          "2023-06-20T00:12:00",
          "2023-06-20T00:51:00",
          "2023-06-20T01:21:00",
          "2023-06-20T02:13:00",
          "2023-06-20T02:41:00",
          "2023-06-20T02:47:00",
          "2023-06-20T02:50:00",
          "2023-06-20T03:05:00",
          "2023-06-20T04:02:00",
          "2023-06-20T05:01:00",
          "2023-06-20T05:54:00",
          "2023-06-20T06:24:00",
          "2023-06-20T06:52:00",
          "2023-06-20T07:22:00",
          "2023-06-20T08:17:00",
          "2023-06-20T08:38:00",
          "2023-06-20T09:04:00",
          "2023-06-20T09:13:00",
          "2023-06-20T09:17:00",
          "2023-06-20T09:22:00",
          "2023-06-20T09:24:00",
          "2023-06-20T09:37:00",
          "2023-06-20T09:51:00",
          "2023-06-20T10:00:00",
          "2023-06-20T10:21:00",
          "2023-06-20T11:07:00",
          "2023-06-20T11:18:00",
          "2023-06-20T11:34:00",
          "2023-06-20T11:47:00",
          "2023-06-20T12:39:00",
          "2023-06-20T13:12:00",
          "2023-06-20T14:04:00",
          "2023-06-20T14:15:00",
          "2023-06-20T14:41:00",
          "2023-06-20T14:57:00",
          "2023-06-20T15:55:00",
          "2023-06-20T16:44:00",
          "2023-06-20T17:38:00",
          "2023-06-20T17:45:00",
          "2023-06-20T18:28:00",
          "2023-06-20T18:55:00",
          "2023-06-20T19:21:00",
          "2023-06-20T20:21:00",
          "2023-06-20T20:38:00",
          "2023-06-24T14:19:00",
          "2023-06-24T14:59:00",
          "2023-06-24T15:06:00",
          "2023-06-24T15:14:00",
          "2023-06-24T16:09:00",
          "2023-06-24T16:53:00",
          "2023-06-24T17:16:00",
          "2023-06-24T17:32:00",
          "2023-06-24T17:54:00",
          "2023-06-24T18:38:00",
          "2023-06-24T19:37:00",
          "2023-06-24T20:11:00",
          "2023-06-24T20:32:00",
          "2023-06-24T21:28:00",
          "2023-06-24T22:16:00",
          "2023-06-24T22:38:00",
          "2023-06-24T22:57:00",
          "2023-06-24T23:46:00",
          "2023-06-25T00:44:00",
          "2023-06-25T00:51:00",
          "2023-06-25T01:09:00",
          "2023-06-25T01:38:00",
          "2023-06-25T01:56:00",
          "2023-06-25T02:42:00",
          "2023-06-25T03:16:00",
          "2023-06-25T03:30:00",
          "2023-06-25T04:29:00",
          "2023-06-25T05:23:00",
          "2023-06-25T06:22:00",
          "2023-06-25T06:26:00",
          "2023-06-25T07:17:00",
          "2023-06-25T07:33:00",
          "2023-06-25T08:28:00",
          "2023-06-25T08:57:00",
          "2023-06-25T09:49:00",
          "2023-06-25T10:45:00",
          "2023-06-25T11:32:00",
          "2023-06-25T11:58:00",
          "2023-06-25T12:20:00",
          "2023-06-25T12:29:00",
          "2023-06-25T13:01:00",
          "2023-06-25T13:15:00",
          "2023-06-25T13:19:00",
          "2023-06-25T14:10:00",
          "2023-06-25T14:17:00",
          "2023-06-25T14:57:00",
          "2023-06-25T15:57:00",
          "2023-06-25T16:55:00",
          "2023-06-25T17:51:00",
          "2023-06-25T18:36:00",
          "2023-06-25T18:55:00",
          "2023-06-25T19:04:00",
          "2023-06-25T19:43:00",
          "2023-06-25T19:48:00",
          "2023-06-25T20:05:00",
          "2023-06-25T20:14:00",
          "2023-06-25T20:40:00",
          "2023-06-25T21:36:00",
          "2023-06-25T21:37:00",
          "2023-06-25T22:30:00",
          "2023-06-25T22:34:00",
          "2023-06-25T23:11:00",
          "2023-06-25T23:18:00",
          "2023-06-25T23:32:00",
          "2023-06-26T00:27:00",
          "2023-06-26T00:40:00",
          "2023-06-26T00:50:00",
          "2023-06-26T01:16:00",
          "2023-06-26T01:48:00",
          "2023-06-26T02:05:00",
          "2023-06-26T02:28:00",
          "2023-06-26T02:53:00",
          "2023-06-26T03:49:00",
          "2023-06-26T03:55:00",
          "2023-06-26T04:44:00",
          "2023-06-26T04:52:00",
          "2023-06-26T05:30:00",
          "2023-06-26T05:57:00",
          "2023-06-26T06:56:00",
          "2023-06-26T07:40:00",
          "2023-06-26T07:47:00",
          "2023-06-26T07:52:00",
          "2023-06-26T08:17:00",
          "2023-06-26T09:13:00",
          "2023-06-26T10:07:00",
          "2023-06-26T10:17:00",
          "2023-06-26T10:24:00",
          "2023-06-26T11:09:00",
          "2023-06-26T11:12:00",
          "2023-06-26T11:22:00",
          "2023-06-26T11:32:00",
          "2023-06-26T11:36:00",
          "2023-06-26T12:08:00",
          "2023-06-26T13:06:00",
          "2023-06-26T13:22:00",
          "2023-06-26T13:53:00",
          "2023-06-26T14:02:00",
          "2023-06-26T14:22:00",
          "2023-06-26T15:03:00",
          "2023-06-26T15:35:00",
          "2023-06-26T15:57:00",
          "2023-06-26T16:30:00",
          "2023-06-26T16:43:00",
          "2023-06-26T17:36:00",
          "2023-06-26T18:02:00",
          "2023-06-26T19:02:00",
          "2023-06-26T19:44:00",
          "2023-08-02T13:31:00",
          "2023-08-02T13:33:00",
          "2023-08-02T14:01:00",
          "2023-08-02T14:31:00",
          "2023-08-02T15:01:00",
          "2023-08-02T15:31:00",
          "2023-08-02T16:01:00",
          "2023-08-02T16:31:00",
          "2023-08-02T17:02:00",
          "2023-08-02T17:32:00",
          "2023-08-02T18:02:00",
          "2023-08-02T18:32:00",
          "2023-08-02T19:02:00",
          "2023-08-02T19:32:00",
          "2023-08-02T20:02:00",
          "2023-08-02T20:32:00",
          "2023-08-02T21:03:00",
          "2023-08-02T21:33:00",
          "2023-08-02T22:03:00",
          "2023-08-02T22:33:00",
          "2023-08-02T23:03:00",
          "2023-08-02T23:33:00",
          "2023-08-03T00:03:00",
          "2023-08-03T00:34:00",
          "2023-08-03T01:04:00",
          "2023-08-03T01:34:00",
          "2023-08-03T02:04:00",
          "2023-08-03T02:34:00",
          "2023-08-03T03:04:00",
          "2023-08-03T03:34:00",
          "2023-08-03T04:04:00",
          "2023-08-03T04:35:00",
          "2023-08-03T05:05:00",
          "2023-08-03T05:35:00",
          "2023-08-03T06:05:00",
          "2023-08-03T06:35:00",
          "2023-08-03T07:05:00",
          "2023-08-03T07:35:00",
          "2023-08-03T08:05:00",
          "2023-08-03T08:36:00",
          "2023-08-03T09:06:00",
          "2023-08-03T09:36:00",
          "2023-08-03T10:06:00",
          "2023-08-03T10:36:00",
          "2023-08-03T11:06:00",
          "2023-08-03T11:36:00",
          "2023-08-03T12:06:00",
          "2023-08-03T12:37:00",
          "2023-08-03T13:07:00",
          "2023-08-03T13:37:00",
          "2023-08-03T14:07:00",
          "2023-08-03T14:37:00",
          "2023-08-03T15:07:00",
          "2023-08-03T15:37:00",
          "2023-08-03T16:08:00",
          "2023-08-03T16:38:00",
          "2023-08-03T17:08:00",
          "2023-08-03T17:38:00",
          "2023-08-03T18:08:00",
          "2023-08-03T18:38:00",
          "2023-08-03T19:08:00",
          "2023-08-03T19:38:00",
          "2023-08-03T20:09:00",
          "2023-08-03T20:39:00",
          "2023-08-03T21:09:00",
          "2023-08-03T21:39:00",
          "2023-08-03T22:09:00",
          "2023-08-03T22:39:00",
          "2023-08-03T23:09:00",
          "2023-08-03T23:40:00",
          "2023-08-04T00:10:00",
          "2023-08-04T00:40:00",
          "2023-08-04T01:10:00",
          "2023-08-04T01:40:00",
          "2023-08-04T02:10:00",
          "2023-08-04T02:40:00",
          "2023-08-04T03:10:00",
          "2023-08-04T03:41:00",
          "2023-08-04T04:11:00",
          "2023-08-04T04:41:00",
          "2023-08-04T05:11:00",
          "2023-08-04T05:41:00",
          "2023-08-04T06:11:00",
          "2023-08-04T06:41:00",
          "2023-08-04T07:11:00",
          "2023-08-04T07:42:00",
          "2023-08-04T08:12:00",
          "2023-08-04T08:42:00",
          "2023-08-04T09:12:00",
          "2023-08-04T09:42:00",
          "2023-08-04T10:12:00",
          "2023-08-04T10:42:00",
          "2023-08-04T11:12:00",
          "2023-08-04T11:43:00",
          "2023-08-04T12:13:00",
          "2023-08-04T12:43:00",
          "2023-08-04T13:13:00",
          "2023-08-04T13:43:00",
          "2023-08-04T14:13:00",
          "2023-08-04T14:43:00",
          "2023-08-04T15:14:00",
          "2023-08-04T15:37:00",
          "2023-08-04T16:07:00",
          "2023-08-04T16:37:00",
          "2023-08-04T17:07:00",
          "2023-08-04T17:37:00",
          "2023-08-04T18:07:00",
          "2023-08-04T18:37:00",
          "2023-08-04T19:08:00",
          "2023-08-04T19:38:00",
          "2023-08-04T20:08:00",
          "2023-08-04T20:38:00",
          "2023-08-04T21:08:00",
          "2023-08-04T21:38:00",
          "2023-08-04T22:08:00",
          "2023-08-04T22:39:00",
          "2023-08-04T23:09:00",
          "2023-08-04T23:39:00",
          "2023-08-05T00:09:00",
          "2023-08-05T00:39:00",
          "2023-08-05T01:09:00",
          "2023-08-05T01:39:00",
          "2023-08-05T02:09:00",
          "2023-08-05T02:40:00",
          "2023-08-05T03:10:00",
          "2023-08-05T03:40:00",
          "2023-08-05T04:10:00",
          "2023-08-05T04:40:00",
          "2023-08-05T05:10:00",
          "2023-08-05T05:40:00",
          "2023-08-05T06:10:00",
          "2023-08-05T06:41:00",
          "2023-08-05T07:11:00",
          "2023-08-05T07:41:00",
          "2023-08-05T08:11:00",
          "2023-08-05T08:41:00",
          "2023-08-05T09:11:00",
          "2023-08-05T09:41:00",
          "2023-08-05T10:11:00",
          "2023-08-05T10:42:00",
          "2023-08-05T11:12:00",
          "2023-08-05T11:42:00",
          "2023-08-05T12:12:00",
          "2023-08-05T12:42:00",
          "2023-08-05T13:12:00",
          "2023-08-05T13:42:00",
          "2023-08-05T14:12:00",
          "2023-08-05T14:43:00",
          "2023-08-05T15:13:00",
          "2023-08-05T15:43:00",
          "2023-08-05T16:13:00",
          "2023-08-05T16:43:00",
          "2023-08-05T17:13:00",
          "2023-08-05T17:43:00",
          "2023-08-05T18:14:00",
          "2023-08-05T18:44:00",
          "2023-08-05T19:14:00",
          "2023-08-05T19:44:00",
          "2023-08-05T20:14:00",
          "2023-08-05T20:44:00",
          "2023-08-05T21:14:00",
          "2023-08-05T21:44:00",
          "2023-08-05T22:15:00",
          "2023-08-05T22:45:00",
          "2023-08-05T23:15:00",
          "2023-08-05T23:45:00",
          "2023-08-06T00:15:00",
          "2023-08-06T00:45:00",
          "2023-08-06T01:15:00",
          "2023-08-06T01:45:00",
          "2023-08-06T02:16:00",
          "2023-08-06T02:46:00",
          "2023-08-06T03:16:00",
          "2023-08-06T03:46:00",
          "2023-08-06T04:16:00",
          "2023-08-06T04:46:00",
          "2023-08-06T05:16:00",
          "2023-08-06T05:46:00",
          "2023-08-06T06:17:00",
          "2023-08-06T06:47:00",
          "2023-08-06T07:17:00",
          "2023-08-06T07:47:00",
          "2023-08-06T08:17:00",
          "2023-08-06T08:47:00",
          "2023-08-06T09:17:00",
          "2023-08-06T09:47:00",
          "2023-08-06T10:18:00",
          "2023-08-06T10:48:00",
          "2023-08-06T11:18:00",
          "2023-08-06T11:48:00",
          "2023-08-06T12:18:00",
          "2023-08-06T12:48:00",
          "2023-08-06T13:18:00",
          "2023-08-06T13:49:00",
          "2023-08-06T14:19:00",
          "2023-08-06T14:49:00",
          "2023-08-06T15:19:00",
          "2023-08-06T15:49:00",
          "2023-08-06T16:19:00",
          "2023-08-06T16:49:00",
          "2023-08-06T17:19:00",
          "2023-08-07T14:27:00",
          "2023-08-07T14:57:00",
          "2023-08-07T15:27:00",
          "2023-08-07T15:57:00",
          "2023-08-07T16:27:00",
          "2023-08-07T16:58:00",
          "2023-08-07T17:28:00",
          "2023-08-07T17:58:00",
          "2023-08-07T18:28:00",
          "2023-08-07T18:58:00",
          "2023-08-07T19:28:00",
          "2023-08-07T19:58:00",
          "2023-08-07T20:28:00",
          "2023-08-07T20:59:00",
          "2023-08-07T21:29:00",
          "2023-08-07T21:59:00",
          "2023-08-07T22:29:00",
          "2023-08-07T22:59:00",
          "2023-08-07T23:29:00",
          "2023-08-07T23:59:00",
          "2023-08-08T00:29:00",
          "2023-08-08T01:00:00",
          "2023-08-08T01:30:00",
          "2023-08-08T02:00:00",
          "2023-08-08T02:30:00",
          "2023-08-08T03:00:00",
          "2023-08-08T03:30:00",
          "2023-08-08T04:00:00",
          "2023-08-08T04:30:00",
          "2023-08-08T05:01:00",
          "2023-08-08T05:31:00",
          "2023-08-08T06:01:00",
          "2023-08-08T06:31:00",
          "2023-08-08T07:01:00",
          "2023-08-08T07:31:00",
          "2023-08-08T08:01:00",
          "2023-08-08T08:32:00",
          "2023-08-08T09:02:00",
          "2023-08-08T09:32:00",
          "2023-08-08T10:02:00",
          "2023-08-08T10:32:00",
          "2023-08-08T11:02:00",
          "2023-08-08T11:32:00",
          "2023-08-08T12:03:00",
          "2023-08-08T12:33:00",
          "2023-08-08T13:03:00",
          "2023-08-08T13:33:00",
          "2023-08-08T14:03:00",
          "2023-08-08T14:33:00",
          "2023-08-08T15:03:00",
          "2023-08-08T15:33:00",
          "2023-08-08T16:04:00",
          "2023-08-08T16:34:00",
          "2023-08-08T17:04:00",
          "2023-08-08T17:34:00",
          "2023-08-08T18:04:00",
          "2023-08-08T18:34:00",
          "2023-08-08T19:04:00",
          "2023-08-08T19:35:00",
          "2023-08-08T20:05:00",
          "2023-08-08T20:35:00",
          "2023-08-08T21:05:00",
          "2023-08-08T21:35:00",
          "2023-08-08T22:05:00",
          "2023-08-08T22:35:00",
          "2023-08-08T23:06:00",
          "2023-08-08T23:36:00",
          "2023-08-09T00:06:00",
          "2023-08-09T00:36:00",
          "2023-08-09T01:06:00",
          "2023-08-09T01:36:00",
          "2023-08-09T02:06:00",
          "2023-08-09T02:36:00",
          "2023-08-09T03:07:00",
          "2023-08-09T03:37:00",
          "2023-08-09T04:07:00",
          "2023-08-09T04:37:00",
          "2023-08-09T05:07:00",
          "2023-08-09T05:37:00",
          "2023-08-09T06:07:00",
          "2023-08-09T06:37:00",
          "2023-08-09T07:08:00",
          "2023-08-09T07:38:00",
          "2023-08-09T08:08:00",
          "2023-08-09T08:38:00",
          "2023-08-09T09:08:00",
          "2023-08-09T09:38:00",
          "2023-08-09T10:08:00",
          "2023-08-09T10:39:00",
          "2023-08-09T11:09:00",
          "2023-08-09T11:39:00",
          "2023-08-09T12:09:00",
          "2023-08-09T12:39:00",
          "2023-08-09T13:09:00",
          "2023-08-09T13:39:00",
          "2023-08-09T14:10:00",
          "2023-08-09T14:40:00",
          "2023-08-09T15:10:00",
          "2023-08-09T15:40:00",
          "2023-08-09T16:10:00",
          "2023-08-09T17:45:00",
          "2023-08-09T18:15:00",
          "2023-08-09T18:46:00",
          "2023-08-09T19:16:00",
          "2023-08-09T19:46:00",
          "2023-08-09T20:16:00",
          "2023-08-09T20:46:00",
          "2023-08-09T21:16:00",
          "2023-08-09T21:46:00",
          "2023-08-09T22:17:00",
          "2023-08-09T22:47:00",
          "2023-08-09T23:17:00",
          "2023-08-09T23:47:00",
          "2023-08-10T00:17:00",
          "2023-08-10T00:47:00",
          "2023-08-10T01:17:00",
          "2023-08-10T01:48:00",
          "2023-08-10T02:18:00",
          "2023-08-10T02:48:00",
          "2023-08-10T03:18:00",
          "2023-08-10T03:48:00",
          "2023-08-10T04:18:00",
          "2023-08-10T04:48:00",
          "2023-08-10T05:18:00",
          "2023-08-10T05:49:00",
          "2023-08-10T06:19:00",
          "2023-08-10T06:49:00",
          "2023-08-10T07:19:00",
          "2023-08-10T07:49:00",
          "2023-08-10T08:19:00",
          "2023-08-10T08:49:00",
          "2023-08-10T09:20:00",
          "2023-08-10T09:50:00",
          "2023-08-10T10:20:00",
          "2023-08-10T10:50:00",
          "2023-08-10T11:20:00",
          "2023-08-10T11:50:00",
          "2023-08-10T12:20:00",
          "2023-08-10T12:51:00",
          "2023-08-10T13:21:00",
          "2023-08-10T13:51:00",
          "2023-08-10T14:21:00",
          "2023-08-10T14:51:00",
          "2023-08-10T15:21:00",
          "2023-08-10T15:51:00",
          "2023-08-10T16:21:00",
          "2023-08-10T16:52:00",
          "2023-08-10T17:22:00",
          "2023-08-10T17:52:00",
          "2023-08-10T18:22:00",
          "2023-08-10T18:52:00",
          "2023-08-10T19:22:00",
          "2023-08-10T19:52:00",
          "2023-08-10T20:22:00",
          "2023-08-10T20:53:00",
          "2023-08-10T21:23:00",
          "2023-08-10T21:53:00",
          "2023-08-10T22:23:00",
          "2023-08-10T22:53:00",
          "2023-08-10T23:23:00",
          "2023-08-10T23:53:00",
          "2023-08-11T00:24:00",
          "2023-08-11T00:54:00",
          "2023-08-11T01:24:00",
          "2023-08-11T01:54:00",
          "2023-08-11T02:24:00",
          "2023-08-11T02:54:00",
          "2023-08-11T03:24:00",
          "2023-08-13T01:17:00",
          "2023-08-13T01:47:00",
          "2023-08-13T02:17:00",
          "2023-08-13T02:47:00",
          "2023-08-13T03:18:00",
          "2023-08-13T03:48:00",
          "2023-08-13T04:18:00",
          "2023-08-13T04:48:00",
          "2023-08-13T05:18:00",
          "2023-08-13T05:48:00",
          "2023-08-13T06:18:00",
          "2023-08-13T06:48:00",
          "2023-08-13T07:18:00",
          "2023-08-13T07:49:00",
          "2023-08-13T08:19:00",
          "2023-08-13T08:49:00",
          "2023-08-13T09:19:00",
          "2023-08-13T09:49:00",
          "2023-08-13T10:19:00",
          "2023-08-13T10:49:00",
          "2023-08-13T11:19:00",
          "2023-08-13T11:50:00",
          "2023-08-13T12:20:00",
          "2023-08-13T12:50:00",
          "2023-08-13T13:20:00",
          "2023-08-13T13:50:00",
          "2023-08-13T14:20:00",
          "2023-08-13T14:50:00",
          "2023-08-13T15:20:00",
          "2023-08-13T15:51:00",
          "2023-08-13T16:21:00",
          "2023-08-13T16:51:00",
          "2023-08-13T17:21:00",
          "2023-08-13T17:51:00",
          "2023-08-13T18:21:00",
          "2023-08-13T18:51:00",
          "2023-08-13T19:21:00",
          "2023-08-13T19:52:00",
          "2023-08-13T20:22:00",
          "2023-08-13T20:52:00",
          "2023-08-13T21:22:00",
          "2023-08-13T21:52:00",
          "2023-08-13T22:22:00",
          "2023-08-13T22:52:00",
          "2023-08-13T23:22:00",
          "2023-08-13T23:53:00",
          "2023-08-14T00:23:00",
          "2023-08-14T00:53:00",
          "2023-08-14T01:23:00",
          "2023-08-14T01:53:00",
          "2023-08-14T02:23:00",
          "2023-08-14T02:53:00",
          "2023-08-14T03:23:00",
          "2023-08-14T03:54:00",
          "2023-08-14T04:24:00",
          "2023-08-14T04:54:00",
          "2023-08-14T05:24:00",
          "2023-08-14T05:54:00",
          "2023-08-14T06:24:00",
          "2023-08-14T06:54:00",
          "2023-08-14T07:24:00",
          "2023-08-14T07:55:00",
          "2023-08-14T08:25:00",
          "2023-08-14T08:55:00",
          "2023-08-14T09:25:00",
          "2023-08-14T09:55:00",
          "2023-08-14T10:25:00",
          "2023-08-14T10:55:00",
          "2023-08-14T11:26:00",
          "2023-08-14T11:56:00",
          "2023-08-14T12:26:00",
          "2023-08-14T12:56:00",
          "2023-08-14T13:26:00"
         ],
         "y": [
          null,
          null,
          null,
          null,
          -6.846487603305785,
          -6.846487603305785,
          -7.6464876033057845,
          -7.846487603305785,
          -8.646487603305784,
          -9.246487603305784,
          -9.646487603305784,
          -9.846487603305786,
          -9.846487603305786,
          -9.446487603305785,
          -8.046487603305785,
          -4.846487603305785,
          -2.646487603305785,
          0.15351239669421518,
          1.7535123966942152,
          2.353512396694215,
          -0.04648760330578483,
          -0.44648760330578485,
          -2.246487603305785,
          -1.0464876033057848,
          1.1535123966942151,
          3.5535123966942153,
          5.953512396694215,
          8.553512396694215,
          9.353512396694216,
          9.953512396694215,
          11.753512396694216,
          11.753512396694216,
          13.953512396694213,
          17.153512396694214,
          17.753512396694216,
          17.753512396694212,
          19.753512396694216,
          20.153512396694214,
          19.553512396694217,
          20.153512396694214,
          22.353512396694217,
          19.753512396694212,
          17.953512396694215,
          14.153512396694214,
          11.153512396694214,
          6.553512396694215,
          3.5535123966942153,
          0.5535123966942151,
          -1.646487603305785,
          -2.246487603305785,
          -4.846487603305785,
          -3.4464876033057847,
          -3.4464876033057847,
          -2.646487603305785,
          -3.8464876033057847,
          -2.4464876033057847,
          -3.046487603305785,
          -3.046487603305785,
          -3.246487603305785,
          -3.4464876033057847,
          -3.046487603305785,
          -2.046487603305785,
          0.15351239669421518,
          3.753512396694215,
          7.753512396694215,
          10.753512396694216,
          11.353512396694216,
          10.553512396694215,
          8.553512396694215,
          6.553512396694215,
          4.3535123966942155,
          3.953512396694215,
          4.953512396694215,
          6.753512396694215,
          8.353512396694216,
          11.553512396694215,
          14.953512396694213,
          16.153512396694218,
          15.953512396694213,
          16.553512396694217,
          15.153512396694214,
          13.753512396694214,
          13.153512396694214,
          13.753512396694214,
          12.953512396694213,
          13.353512396694214,
          13.553512396694213,
          13.553512396694213,
          12.953512396694213,
          13.553512396694213,
          13.953512396694213,
          12.353512396694216,
          10.353512396694216,
          8.553512396694215,
          4.753512396694215,
          0.15351239669421518,
          -2.046487603305785,
          -3.246487603305785,
          -4.846487603305785,
          -5.6464876033057845,
          -6.246487603305785,
          -7.046487603305785,
          -7.446487603305785,
          -8.046487603305785,
          -7.246487603305785,
          -6.6464876033057845,
          -7.246487603305785,
          -7.6464876033057845,
          -7.846487603305785,
          -9.446487603305785,
          -10.446487603305785,
          -10.446487603305785,
          -10.846487603305786,
          -10.646487603305784,
          -10.246487603305784,
          -9.446487603305785,
          -9.046487603305785,
          -8.046487603305785,
          -7.6464876033057845,
          -7.246487603305785,
          -7.6464876033057845,
          -6.6464876033057845,
          -7.246487603305785,
          -8.446487603305785,
          -8.246487603305784,
          -7.446487603305785,
          -8.446487603305785,
          -8.646487603305784,
          -8.246487603305784,
          -9.046487603305785,
          -10.046487603305785,
          -9.846487603305786,
          -9.446487603305785,
          -9.046487603305785,
          -8.846487603305786,
          -6.6464876033057845,
          -3.646487603305785,
          -2.4464876033057847,
          -0.44648760330578485,
          2.1535123966942153,
          3.1535123966942153,
          4.3535123966942155,
          6.753512396694215,
          8.953512396694215,
          9.753512396694216,
          9.553512396694215,
          7.553512396694215,
          4.953512396694215,
          2.353512396694215,
          1.353512396694215,
          2.1535123966942153,
          1.1535123966942151,
          1.9535123966942152,
          0.5535123966942151,
          -0.8464876033057849,
          -3.046487603305785,
          -4.246487603305785,
          -3.8464876033057847,
          -0.6464876033057848,
          2.353512396694215,
          2.1535123966942153,
          3.753512396694215,
          2.1535123966942153,
          -0.04648760330578483,
          -3.246487603305785,
          -2.8464876033057847,
          -3.246487603305785,
          -2.8464876033057847,
          -3.046487603305785,
          -2.246487603305785,
          -0.6464876033057848,
          1.353512396694215,
          2.953512396694215,
          4.953512396694215,
          6.3535123966942155,
          5.953512396694215,
          4.153512396694215,
          1.5535123966942153,
          -0.8464876033057849,
          -2.4464876033057847,
          -3.246487603305785,
          -3.046487603305785,
          -1.2464876033057848,
          0.15351239669421518,
          1.353512396694215,
          2.353512396694215,
          3.753512396694215,
          3.353512396694215,
          2.5535123966942153,
          4.953512396694215,
          5.753512396694215,
          6.553512396694215,
          7.753512396694215,
          7.553512396694215,
          5.3535123966942155,
          4.753512396694215,
          3.353512396694215,
          3.753512396694215,
          4.153512396694215,
          3.953512396694215,
          2.953512396694215,
          1.9535123966942152,
          0.3535123966942152,
          0.7535123966942152,
          -0.8464876033057849,
          -1.4464876033057847,
          -2.046487603305785,
          -2.246487603305785,
          -3.246487603305785,
          -0.04648760330578483,
          5.3535123966942155,
          10.753512396694216,
          14.553512396694213,
          19.353512396694217,
          20.553512396694213,
          18.153512396694218,
          15.153512396694214,
          12.953512396694213,
          11.353512396694216,
          8.353512396694216,
          5.553512396694215,
          3.5535123966942153,
          2.1535123966942153,
          -0.24648760330578484,
          -2.046487603305785,
          -2.4464876033057847,
          -1.646487603305785,
          -2.246487603305785,
          -1.4464876033057847,
          -0.6464876033057848,
          -0.24648760330578484,
          -1.0464876033057848,
          -0.04648760330578483,
          -1.4464876033057847,
          -0.6464876033057848,
          -0.44648760330578485,
          -0.24648760330578484,
          -1.2464876033057848,
          0.15351239669421518,
          1.1535123966942151,
          2.1535123966942153,
          3.353512396694215,
          3.753512396694215,
          2.753512396694215,
          2.353512396694215,
          1.7535123966942152,
          1.9535123966942152,
          2.5535123966942153,
          3.1535123966942153,
          3.5535123966942153,
          5.153512396694215,
          6.3535123966942155,
          9.153512396694214,
          11.753512396694216,
          14.153512396694214,
          14.153512396694214,
          14.353512396694214,
          14.953512396694213,
          15.353512396694214,
          13.153512396694214,
          15.153512396694214,
          17.153512396694214,
          18.753512396694216,
          17.553512396694213,
          18.353512396694217,
          17.953512396694215,
          16.553512396694217,
          13.153512396694214,
          12.753512396694216,
          9.953512396694215,
          5.953512396694215,
          1.9535123966942152,
          -1.4464876033057847,
          -2.4464876033057847,
          -1.0464876033057848,
          -1.0464876033057848,
          -1.4464876033057847,
          -1.2464876033057848,
          -3.246487603305785,
          -5.446487603305785,
          -6.246487603305785,
          -6.246487603305785,
          -6.6464876033057845,
          -7.246487603305785,
          -6.446487603305785,
          -5.246487603305785,
          -3.646487603305785,
          -0.24648760330578484,
          3.353512396694215,
          5.753512396694215,
          6.953512396694215,
          8.353512396694216,
          8.153512396694214,
          5.3535123966942155,
          4.3535123966942155,
          3.5535123966942153,
          3.953512396694215,
          4.553512396694215,
          7.153512396694215,
          8.553512396694215,
          9.353512396694216,
          8.753512396694216,
          9.553512396694215,
          9.153512396694214,
          7.953512396694215,
          9.153512396694214,
          11.153512396694214,
          12.153512396694214,
          15.353512396694214,
          18.353512396694217,
          18.953512396694215,
          17.353512396694217,
          19.153512396694214,
          18.553512396694217,
          11.953512396694215,
          12.353512396694216,
          15.953512396694213,
          14.553512396694213,
          14.553512396694213,
          19.553512396694217,
          19.753512396694212,
          15.953512396694217,
          11.153512396694214,
          5.953512396694215,
          3.1535123966942153,
          -1.2464876033057848,
          -4.446487603305785,
          -4.846487603305785,
          -6.046487603305785,
          -7.446487603305785,
          -7.846487603305785,
          -7.846487603305785,
          -8.446487603305785,
          -7.6464876033057845,
          -6.846487603305785,
          -5.846487603305785,
          -3.4464876033057847,
          -2.046487603305785,
          0.15351239669421518,
          -1.4464876033057847,
          -0.6464876033057848,
          -0.8464876033057849,
          0.15351239669421518,
          0.7535123966942152,
          5.553512396694215,
          6.153512396694215,
          9.153512396694214,
          10.753512396694216,
          14.153512396694214,
          15.353512396694214,
          18.553512396694217,
          12.953512396694213,
          12.953512396694213,
          12.553512396694215,
          13.553512396694213,
          11.953512396694215,
          17.553512396694213,
          17.953512396694215,
          18.153512396694214,
          15.753512396694216,
          15.953512396694213,
          14.153512396694214,
          12.353512396694216,
          11.353512396694216,
          13.153512396694214,
          12.153512396694214,
          13.153512396694214,
          14.753512396694214,
          13.153512396694214,
          10.553512396694215,
          12.153512396694214,
          9.953512396694215,
          7.553512396694215,
          3.953512396694215,
          0.7535123966942152,
          -5.046487603305785,
          -8.046487603305785,
          -10.446487603305785,
          -10.246487603305784,
          -10.246487603305784,
          -10.246487603305784,
          -10.046487603305785,
          -10.246487603305784,
          -7.246487603305785,
          -2.8464876033057847,
          2.1535123966942153,
          7.153512396694215,
          12.553512396694215,
          13.553512396694213,
          14.953512396694213,
          15.753512396694214,
          16.353512396694214,
          16.153512396694218,
          16.153512396694214,
          14.753512396694214,
          13.153512396694214,
          12.353512396694216,
          13.953512396694213,
          13.353512396694214,
          14.553512396694213,
          15.153512396694214,
          15.953512396694213,
          14.753512396694214,
          16.953512396694215,
          15.753512396694214,
          15.753512396694216,
          15.953512396694213,
          16.753512396694212,
          16.553512396694217,
          16.753512396694212,
          16.753512396694216,
          17.153512396694214,
          17.753512396694216,
          18.753512396694212,
          18.953512396694215,
          20.153512396694214,
          18.953512396694215,
          13.953512396694213,
          9.753512396694216,
          6.153512396694215,
          2.5535123966942153,
          -0.04648760330578483,
          0.9535123966942152,
          1.9535123966942152,
          3.5535123966942153,
          2.953512396694215,
          1.5535123966942153,
          -0.24648760330578484,
          -2.8464876033057847,
          -5.6464876033057845,
          -7.446487603305785,
          -8.246487603305784,
          -8.646487603305784,
          -8.446487603305785,
          -6.246487603305785,
          -6.046487603305785,
          -4.846487603305785,
          -3.646487603305785,
          -2.8464876033057847,
          -3.246487603305785,
          -2.246487603305785,
          -1.8464876033057849,
          -2.046487603305785,
          -3.046487603305785,
          -3.4464876033057847,
          -2.8464876033057847,
          -3.4464876033057847,
          -3.046487603305785,
          -2.046487603305785,
          -1.8464876033057849,
          -2.4464876033057847,
          -2.646487603305785,
          -2.8464876033057847,
          -2.246487603305785,
          -2.046487603305785,
          -0.8464876033057849,
          0.9535123966942152,
          1.1535123966942151,
          1.5535123966942153,
          1.353512396694215,
          0.5535123966942151,
          -0.04648760330578483,
          0.15351239669421518,
          0.15351239669421518,
          2.1535123966942153,
          3.953512396694215,
          4.153512396694215,
          3.353512396694215,
          2.1535123966942153,
          -0.24648760330578484,
          -2.4464876033057847,
          -4.6464876033057845,
          -5.446487603305785,
          -6.046487603305785,
          -6.246487603305785,
          -6.6464876033057845,
          -5.6464876033057845,
          -4.846487603305785,
          -4.246487603305785,
          -3.646487603305785,
          -3.046487603305785,
          -3.4464876033057847,
          -4.446487603305785,
          -5.046487603305785,
          -5.846487603305785,
          -6.446487603305785,
          -6.6464876033057845,
          -5.846487603305785,
          -5.846487603305785,
          -6.046487603305785,
          -6.046487603305785,
          -4.246487603305785,
          -3.246487603305785,
          -1.4464876033057847,
          0.7535123966942152,
          2.5535123966942153,
          1.7535123966942152,
          0.9535123966942152,
          0.7535123966942152,
          0.7535123966942152,
          1.353512396694215,
          2.753512396694215,
          4.553512396694215,
          6.153512396694215,
          6.953512396694215,
          7.953512396694215,
          9.353512396694216,
          9.953512396694215,
          9.953512396694215,
          10.753512396694216,
          10.153512396694214,
          10.353512396694216,
          10.353512396694216,
          10.553512396694215,
          11.753512396694216,
          13.953512396694213,
          14.353512396694214,
          16.353512396694214,
          17.153512396694218,
          15.353512396694214,
          14.153512396694214,
          14.353512396694214,
          14.953512396694213,
          16.153512396694214,
          17.553512396694217,
          17.353512396694214,
          12.153512396694216,
          9.353512396694216,
          2.753512396694215,
          -1.646487603305785,
          -5.246487603305785,
          -4.446487603305785,
          -8.046487603305785,
          -8.046487603305785,
          -9.046487603305785,
          -9.846487603305786,
          -11.046487603305785,
          -11.646487603305784,
          -11.646487603305784,
          -11.846487603305786,
          -11.646487603305784,
          -11.846487603305786,
          -11.846487603305786,
          -12.046487603305785,
          -11.846487603305786,
          -12.246487603305784,
          -12.046487603305785,
          -11.846487603305786,
          -11.846487603305786,
          -12.046487603305785,
          -11.846487603305786,
          -11.846487603305786,
          -12.046487603305785,
          -12.046487603305785,
          -12.046487603305785,
          -12.246487603305784,
          -12.246487603305784,
          -12.046487603305785,
          -11.846487603305786,
          -11.846487603305786,
          -11.846487603305786,
          -12.046487603305785,
          -12.046487603305785,
          -12.246487603305784,
          -12.446487603305785,
          -12.446487603305785,
          -12.046487603305785,
          -11.846487603305786,
          -11.646487603305784,
          -10.646487603305784,
          -10.246487603305784,
          -10.046487603305785,
          -9.846487603305786,
          -9.846487603305786,
          -10.046487603305785,
          -10.046487603305785,
          -10.646487603305784,
          -11.246487603305784,
          -11.246487603305784,
          -11.846487603305786,
          -11.846487603305786,
          -11.446487603305785,
          -11.446487603305785,
          -11.846487603305786,
          -12.046487603305785,
          -12.646487603305784,
          -12.846487603305786,
          -12.646487603305784,
          -12.646487603305784,
          -12.446487603305785,
          -12.446487603305785,
          -12.646487603305784,
          -12.846487603305786,
          -12.846487603305786,
          -12.646487603305784,
          -12.446487603305785,
          -12.246487603305784,
          -12.046487603305785,
          -11.846487603305786,
          -11.646487603305784,
          -11.246487603305784,
          -10.846487603305786,
          -10.446487603305785,
          -10.046487603305785,
          -10.046487603305785,
          -9.846487603305786,
          -10.446487603305785,
          -11.046487603305785,
          -11.246487603305784,
          -11.846487603305786,
          -12.046487603305785,
          -10.846487603305786,
          -10.446487603305785,
          -10.646487603305784,
          -10.446487603305785,
          -10.846487603305786,
          -11.646487603305784,
          -11.646487603305784,
          -11.046487603305785,
          -10.646487603305784,
          -10.446487603305785,
          -10.046487603305785,
          -9.646487603305784,
          -9.846487603305786,
          -10.446487603305785,
          -10.446487603305785,
          -11.046487603305785,
          -11.646487603305784,
          -12.046487603305785,
          -11.846487603305786,
          -12.046487603305785,
          -12.046487603305785,
          -12.246487603305784,
          -12.446487603305785,
          -12.246487603305784,
          -12.446487603305785,
          -12.646487603305784,
          -12.646487603305784,
          -12.646487603305784,
          -13.046487603305785,
          -13.046487603305785,
          -13.046487603305785,
          -12.846487603305786,
          -12.646487603305784,
          -12.446487603305785,
          -11.846487603305786,
          -11.446487603305785,
          -10.846487603305786,
          -9.846487603305786,
          -9.646487603305784,
          -10.046487603305785,
          -10.246487603305784,
          -10.846487603305786,
          -11.246487603305784,
          -11.446487603305785,
          -11.246487603305784,
          -11.246487603305784,
          -11.246487603305784,
          -11.446487603305785,
          -11.246487603305784,
          -11.246487603305784,
          -11.246487603305784,
          -10.846487603305786,
          -10.846487603305786,
          -10.646487603305784,
          -10.846487603305786,
          -10.646487603305784,
          -10.846487603305786,
          -10.846487603305786,
          -10.846487603305786,
          -10.246487603305784,
          -9.246487603305784,
          -8.046487603305785,
          -8.246487603305784,
          -8.046487603305785,
          -8.446487603305785,
          -9.846487603305786,
          -11.446487603305785,
          -11.646487603305784,
          -12.446487603305785,
          -12.846487603305786,
          -12.446487603305785,
          -12.446487603305785,
          -12.646487603305784,
          -12.646487603305784,
          -12.646487603305784,
          -13.046487603305785,
          -13.046487603305785,
          -12.846487603305786,
          -12.846487603305786,
          -12.446487603305785,
          -12.246487603305784,
          -12.046487603305785,
          -11.646487603305784,
          -11.446487603305785,
          -11.646487603305784,
          -11.646487603305784,
          -11.646487603305784,
          -11.246487603305784,
          -11.046487603305785,
          -10.846487603305786,
          -10.446487603305785,
          -9.646487603305784,
          -9.646487603305784,
          -9.046487603305785,
          -8.046487603305785,
          -7.6464876033057845,
          -7.6464876033057845,
          -7.446487603305785,
          -7.046487603305785,
          -6.846487603305785,
          -6.446487603305785,
          -6.446487603305785,
          -6.446487603305785,
          -6.6464876033057845,
          -7.046487603305785,
          -7.446487603305785,
          -7.446487603305785,
          -7.6464876033057845,
          -7.046487603305785,
          -6.846487603305785,
          -6.846487603305785,
          -6.846487603305785,
          -6.446487603305785,
          -6.6464876033057845,
          -7.246487603305785,
          -7.246487603305785,
          -7.6464876033057845,
          -2.246487603305785,
          2.753512396694215,
          7.3535123966942155,
          11.353512396694216,
          16.953512396694215,
          16.153512396694214,
          14.553512396694213,
          13.353512396694214,
          12.953512396694213,
          11.953512396694215,
          11.353512396694216,
          11.753512396694216,
          11.153512396694214,
          8.153512396694214,
          3.753512396694215,
          -0.8464876033057849,
          -5.246487603305785,
          -8.246487603305784,
          -9.446487603305785,
          -9.646487603305784,
          -9.046487603305785,
          -9.046487603305785,
          -8.846487603305786,
          -8.846487603305786,
          -9.446487603305785,
          -10.646487603305784,
          -11.246487603305784,
          -10.446487603305785,
          -8.446487603305785,
          -5.6464876033057845,
          -3.246487603305785,
          -2.046487603305785,
          -0.44648760330578485,
          0.9535123966942152,
          2.1535123966942153,
          5.153512396694215,
          8.953512396694215,
          11.353512396694216,
          15.953512396694213,
          16.353512396694217,
          18.553512396694213,
          19.153512396694218,
          20.753512396694212,
          18.953512396694215,
          20.953512396694215,
          19.753512396694216,
          19.353512396694214,
          18.553512396694217,
          18.353512396694214,
          17.953512396694215,
          15.953512396694213,
          16.153512396694218,
          14.953512396694213,
          14.153512396694214,
          14.153512396694214,
          14.353512396694214,
          15.353512396694214,
          16.153512396694214,
          14.153512396694216,
          11.153512396694214,
          10.753512396694216,
          6.153512396694215,
          1.353512396694215,
          -0.6464876033057848,
          -2.4464876033057847,
          -6.246487603305785,
          -7.046487603305785,
          -7.246487603305785,
          -8.246487603305784,
          -8.446487603305785,
          -7.6464876033057845,
          -7.846487603305785,
          -7.6464876033057845,
          -7.046487603305785,
          -6.846487603305785,
          -6.6464876033057845,
          -5.446487603305785,
          -3.046487603305785,
          0.5535123966942151,
          3.953512396694215,
          6.953512396694215,
          8.153512396694214,
          8.953512396694215,
          8.953512396694215,
          8.953512396694215,
          10.553512396694215,
          12.353512396694216,
          12.553512396694215,
          12.553512396694215,
          15.953512396694213,
          13.353512396694214,
          12.153512396694214,
          13.153512396694214,
          14.953512396694213,
          13.553512396694213,
          15.353512396694214,
          18.153512396694218,
          17.753512396694212,
          13.353512396694217,
          10.353512396694216,
          12.353512396694216,
          10.153512396694214,
          9.953512396694215,
          10.553512396694215,
          11.353512396694216,
          7.553512396694215,
          5.3535123966942155,
          1.9535123966942152,
          0.9535123966942152,
          -1.2464876033057848,
          -3.046487603305785,
          -3.4464876033057847,
          -2.8464876033057847,
          -2.646487603305785,
          -2.4464876033057847,
          -2.246487603305785,
          -2.646487603305785,
          -3.046487603305785,
          -3.246487603305785,
          -3.4464876033057847,
          -3.4464876033057847,
          -2.046487603305785,
          -1.0464876033057848,
          0.3535123966942152,
          2.953512396694215,
          4.953512396694215,
          5.3535123966942155,
          7.953512396694215,
          10.553512396694215,
          11.153512396694214,
          12.153512396694214,
          14.953512396694213,
          15.753512396694214,
          16.353512396694214,
          17.153512396694218,
          17.753512396694212,
          16.153512396694218,
          15.553512396694213,
          14.953512396694213,
          14.753512396694214,
          14.553512396694213,
          16.753512396694212,
          17.353512396694217,
          16.353512396694214,
          14.753512396694216,
          16.153512396694214,
          15.953512396694213,
          16.953512396694215,
          18.953512396694215,
          21.553512396694213,
          21.353512396694217,
          20.553512396694213,
          18.953512396694215,
          17.753512396694212,
          13.953512396694217,
          8.753512396694216,
          4.3535123966942155,
          0.15351239669421518,
          -3.646487603305785,
          -5.046487603305785,
          -4.446487603305785,
          -4.046487603305785,
          -3.8464876033057847,
          -3.646487603305785,
          -3.8464876033057847,
          -3.646487603305785,
          -3.646487603305785,
          -5.246487603305785,
          -7.246487603305785,
          -8.846487603305786,
          -11.046487603305785,
          -13.046487603305785,
          -13.046487603305785,
          -13.046487603305785,
          -13.046487603305785,
          -13.046487603305785,
          -13.046487603305785,
          -13.046487603305785,
          -13.046487603305785,
          -13.046487603305785,
          -13.046487603305785,
          -13.046487603305785,
          -13.046487603305785,
          -13.046487603305785,
          -13.046487603305785,
          -13.046487603305785,
          -13.046487603305785,
          -13.046487603305785,
          -13.046487603305785,
          -13.046487603305785,
          -13.046487603305785,
          -13.046487603305785,
          -13.046487603305785,
          -13.046487603305785,
          -13.046487603305785,
          -13.046487603305785,
          -13.046487603305785,
          -13.046487603305785,
          -13.046487603305785,
          -13.046487603305785,
          -13.046487603305785,
          -13.046487603305785,
          -13.046487603305785,
          -13.046487603305785,
          -13.046487603305785,
          -13.046487603305785,
          -13.046487603305785,
          -13.046487603305785,
          -13.046487603305785,
          -13.046487603305785,
          -13.046487603305785,
          -13.046487603305785,
          -13.046487603305785,
          -13.046487603305785,
          -13.046487603305785,
          -13.046487603305785,
          -12.446487603305785,
          -12.046487603305785,
          -11.446487603305785,
          -11.046487603305785,
          -10.446487603305785,
          -10.446487603305785,
          -9.846487603305786,
          -9.646487603305784,
          -9.246487603305784,
          -9.046487603305785,
          -8.846487603305786,
          -9.446487603305785,
          -9.646487603305784,
          -9.646487603305784,
          -9.246487603305784,
          -9.646487603305784,
          -9.446487603305785,
          -9.446487603305785,
          -9.246487603305784,
          -10.046487603305785,
          -10.046487603305785,
          -10.246487603305784,
          -10.246487603305784,
          -10.846487603305786
         ]
        }
       ],
       "layout": {
        "height": 800,
        "template": {
         "data": {
          "bar": [
           {
            "error_x": {
             "color": "#2a3f5f"
            },
            "error_y": {
             "color": "#2a3f5f"
            },
            "marker": {
             "line": {
              "color": "#E5ECF6",
              "width": 0.5
             },
             "pattern": {
              "fillmode": "overlay",
              "size": 10,
              "solidity": 0.2
             }
            },
            "type": "bar"
           }
          ],
          "barpolar": [
           {
            "marker": {
             "line": {
              "color": "#E5ECF6",
              "width": 0.5
             },
             "pattern": {
              "fillmode": "overlay",
              "size": 10,
              "solidity": 0.2
             }
            },
            "type": "barpolar"
           }
          ],
          "carpet": [
           {
            "aaxis": {
             "endlinecolor": "#2a3f5f",
             "gridcolor": "white",
             "linecolor": "white",
             "minorgridcolor": "white",
             "startlinecolor": "#2a3f5f"
            },
            "baxis": {
             "endlinecolor": "#2a3f5f",
             "gridcolor": "white",
             "linecolor": "white",
             "minorgridcolor": "white",
             "startlinecolor": "#2a3f5f"
            },
            "type": "carpet"
           }
          ],
          "choropleth": [
           {
            "colorbar": {
             "outlinewidth": 0,
             "ticks": ""
            },
            "type": "choropleth"
           }
          ],
          "contour": [
           {
            "colorbar": {
             "outlinewidth": 0,
             "ticks": ""
            },
            "colorscale": [
             [
              0,
              "#0d0887"
             ],
             [
              0.1111111111111111,
              "#46039f"
             ],
             [
              0.2222222222222222,
              "#7201a8"
             ],
             [
              0.3333333333333333,
              "#9c179e"
             ],
             [
              0.4444444444444444,
              "#bd3786"
             ],
             [
              0.5555555555555556,
              "#d8576b"
             ],
             [
              0.6666666666666666,
              "#ed7953"
             ],
             [
              0.7777777777777778,
              "#fb9f3a"
             ],
             [
              0.8888888888888888,
              "#fdca26"
             ],
             [
              1,
              "#f0f921"
             ]
            ],
            "type": "contour"
           }
          ],
          "contourcarpet": [
           {
            "colorbar": {
             "outlinewidth": 0,
             "ticks": ""
            },
            "type": "contourcarpet"
           }
          ],
          "heatmap": [
           {
            "colorbar": {
             "outlinewidth": 0,
             "ticks": ""
            },
            "colorscale": [
             [
              0,
              "#0d0887"
             ],
             [
              0.1111111111111111,
              "#46039f"
             ],
             [
              0.2222222222222222,
              "#7201a8"
             ],
             [
              0.3333333333333333,
              "#9c179e"
             ],
             [
              0.4444444444444444,
              "#bd3786"
             ],
             [
              0.5555555555555556,
              "#d8576b"
             ],
             [
              0.6666666666666666,
              "#ed7953"
             ],
             [
              0.7777777777777778,
              "#fb9f3a"
             ],
             [
              0.8888888888888888,
              "#fdca26"
             ],
             [
              1,
              "#f0f921"
             ]
            ],
            "type": "heatmap"
           }
          ],
          "heatmapgl": [
           {
            "colorbar": {
             "outlinewidth": 0,
             "ticks": ""
            },
            "colorscale": [
             [
              0,
              "#0d0887"
             ],
             [
              0.1111111111111111,
              "#46039f"
             ],
             [
              0.2222222222222222,
              "#7201a8"
             ],
             [
              0.3333333333333333,
              "#9c179e"
             ],
             [
              0.4444444444444444,
              "#bd3786"
             ],
             [
              0.5555555555555556,
              "#d8576b"
             ],
             [
              0.6666666666666666,
              "#ed7953"
             ],
             [
              0.7777777777777778,
              "#fb9f3a"
             ],
             [
              0.8888888888888888,
              "#fdca26"
             ],
             [
              1,
              "#f0f921"
             ]
            ],
            "type": "heatmapgl"
           }
          ],
          "histogram": [
           {
            "marker": {
             "pattern": {
              "fillmode": "overlay",
              "size": 10,
              "solidity": 0.2
             }
            },
            "type": "histogram"
           }
          ],
          "histogram2d": [
           {
            "colorbar": {
             "outlinewidth": 0,
             "ticks": ""
            },
            "colorscale": [
             [
              0,
              "#0d0887"
             ],
             [
              0.1111111111111111,
              "#46039f"
             ],
             [
              0.2222222222222222,
              "#7201a8"
             ],
             [
              0.3333333333333333,
              "#9c179e"
             ],
             [
              0.4444444444444444,
              "#bd3786"
             ],
             [
              0.5555555555555556,
              "#d8576b"
             ],
             [
              0.6666666666666666,
              "#ed7953"
             ],
             [
              0.7777777777777778,
              "#fb9f3a"
             ],
             [
              0.8888888888888888,
              "#fdca26"
             ],
             [
              1,
              "#f0f921"
             ]
            ],
            "type": "histogram2d"
           }
          ],
          "histogram2dcontour": [
           {
            "colorbar": {
             "outlinewidth": 0,
             "ticks": ""
            },
            "colorscale": [
             [
              0,
              "#0d0887"
             ],
             [
              0.1111111111111111,
              "#46039f"
             ],
             [
              0.2222222222222222,
              "#7201a8"
             ],
             [
              0.3333333333333333,
              "#9c179e"
             ],
             [
              0.4444444444444444,
              "#bd3786"
             ],
             [
              0.5555555555555556,
              "#d8576b"
             ],
             [
              0.6666666666666666,
              "#ed7953"
             ],
             [
              0.7777777777777778,
              "#fb9f3a"
             ],
             [
              0.8888888888888888,
              "#fdca26"
             ],
             [
              1,
              "#f0f921"
             ]
            ],
            "type": "histogram2dcontour"
           }
          ],
          "mesh3d": [
           {
            "colorbar": {
             "outlinewidth": 0,
             "ticks": ""
            },
            "type": "mesh3d"
           }
          ],
          "parcoords": [
           {
            "line": {
             "colorbar": {
              "outlinewidth": 0,
              "ticks": ""
             }
            },
            "type": "parcoords"
           }
          ],
          "pie": [
           {
            "automargin": true,
            "type": "pie"
           }
          ],
          "scatter": [
           {
            "fillpattern": {
             "fillmode": "overlay",
             "size": 10,
             "solidity": 0.2
            },
            "type": "scatter"
           }
          ],
          "scatter3d": [
           {
            "line": {
             "colorbar": {
              "outlinewidth": 0,
              "ticks": ""
             }
            },
            "marker": {
             "colorbar": {
              "outlinewidth": 0,
              "ticks": ""
             }
            },
            "type": "scatter3d"
           }
          ],
          "scattercarpet": [
           {
            "marker": {
             "colorbar": {
              "outlinewidth": 0,
              "ticks": ""
             }
            },
            "type": "scattercarpet"
           }
          ],
          "scattergeo": [
           {
            "marker": {
             "colorbar": {
              "outlinewidth": 0,
              "ticks": ""
             }
            },
            "type": "scattergeo"
           }
          ],
          "scattergl": [
           {
            "marker": {
             "colorbar": {
              "outlinewidth": 0,
              "ticks": ""
             }
            },
            "type": "scattergl"
           }
          ],
          "scattermapbox": [
           {
            "marker": {
             "colorbar": {
              "outlinewidth": 0,
              "ticks": ""
             }
            },
            "type": "scattermapbox"
           }
          ],
          "scatterpolar": [
           {
            "marker": {
             "colorbar": {
              "outlinewidth": 0,
              "ticks": ""
             }
            },
            "type": "scatterpolar"
           }
          ],
          "scatterpolargl": [
           {
            "marker": {
             "colorbar": {
              "outlinewidth": 0,
              "ticks": ""
             }
            },
            "type": "scatterpolargl"
           }
          ],
          "scatterternary": [
           {
            "marker": {
             "colorbar": {
              "outlinewidth": 0,
              "ticks": ""
             }
            },
            "type": "scatterternary"
           }
          ],
          "surface": [
           {
            "colorbar": {
             "outlinewidth": 0,
             "ticks": ""
            },
            "colorscale": [
             [
              0,
              "#0d0887"
             ],
             [
              0.1111111111111111,
              "#46039f"
             ],
             [
              0.2222222222222222,
              "#7201a8"
             ],
             [
              0.3333333333333333,
              "#9c179e"
             ],
             [
              0.4444444444444444,
              "#bd3786"
             ],
             [
              0.5555555555555556,
              "#d8576b"
             ],
             [
              0.6666666666666666,
              "#ed7953"
             ],
             [
              0.7777777777777778,
              "#fb9f3a"
             ],
             [
              0.8888888888888888,
              "#fdca26"
             ],
             [
              1,
              "#f0f921"
             ]
            ],
            "type": "surface"
           }
          ],
          "table": [
           {
            "cells": {
             "fill": {
              "color": "#EBF0F8"
             },
             "line": {
              "color": "white"
             }
            },
            "header": {
             "fill": {
              "color": "#C8D4E3"
             },
             "line": {
              "color": "white"
             }
            },
            "type": "table"
           }
          ]
         },
         "layout": {
          "annotationdefaults": {
           "arrowcolor": "#2a3f5f",
           "arrowhead": 0,
           "arrowwidth": 1
          },
          "autotypenumbers": "strict",
          "coloraxis": {
           "colorbar": {
            "outlinewidth": 0,
            "ticks": ""
           }
          },
          "colorscale": {
           "diverging": [
            [
             0,
             "#8e0152"
            ],
            [
             0.1,
             "#c51b7d"
            ],
            [
             0.2,
             "#de77ae"
            ],
            [
             0.3,
             "#f1b6da"
            ],
            [
             0.4,
             "#fde0ef"
            ],
            [
             0.5,
             "#f7f7f7"
            ],
            [
             0.6,
             "#e6f5d0"
            ],
            [
             0.7,
             "#b8e186"
            ],
            [
             0.8,
             "#7fbc41"
            ],
            [
             0.9,
             "#4d9221"
            ],
            [
             1,
             "#276419"
            ]
           ],
           "sequential": [
            [
             0,
             "#0d0887"
            ],
            [
             0.1111111111111111,
             "#46039f"
            ],
            [
             0.2222222222222222,
             "#7201a8"
            ],
            [
             0.3333333333333333,
             "#9c179e"
            ],
            [
             0.4444444444444444,
             "#bd3786"
            ],
            [
             0.5555555555555556,
             "#d8576b"
            ],
            [
             0.6666666666666666,
             "#ed7953"
            ],
            [
             0.7777777777777778,
             "#fb9f3a"
            ],
            [
             0.8888888888888888,
             "#fdca26"
            ],
            [
             1,
             "#f0f921"
            ]
           ],
           "sequentialminus": [
            [
             0,
             "#0d0887"
            ],
            [
             0.1111111111111111,
             "#46039f"
            ],
            [
             0.2222222222222222,
             "#7201a8"
            ],
            [
             0.3333333333333333,
             "#9c179e"
            ],
            [
             0.4444444444444444,
             "#bd3786"
            ],
            [
             0.5555555555555556,
             "#d8576b"
            ],
            [
             0.6666666666666666,
             "#ed7953"
            ],
            [
             0.7777777777777778,
             "#fb9f3a"
            ],
            [
             0.8888888888888888,
             "#fdca26"
            ],
            [
             1,
             "#f0f921"
            ]
           ]
          },
          "colorway": [
           "#636efa",
           "#EF553B",
           "#00cc96",
           "#ab63fa",
           "#FFA15A",
           "#19d3f3",
           "#FF6692",
           "#B6E880",
           "#FF97FF",
           "#FECB52"
          ],
          "font": {
           "color": "#2a3f5f"
          },
          "geo": {
           "bgcolor": "white",
           "lakecolor": "white",
           "landcolor": "#E5ECF6",
           "showlakes": true,
           "showland": true,
           "subunitcolor": "white"
          },
          "hoverlabel": {
           "align": "left"
          },
          "hovermode": "closest",
          "mapbox": {
           "style": "light"
          },
          "paper_bgcolor": "white",
          "plot_bgcolor": "#E5ECF6",
          "polar": {
           "angularaxis": {
            "gridcolor": "white",
            "linecolor": "white",
            "ticks": ""
           },
           "bgcolor": "#E5ECF6",
           "radialaxis": {
            "gridcolor": "white",
            "linecolor": "white",
            "ticks": ""
           }
          },
          "scene": {
           "xaxis": {
            "backgroundcolor": "#E5ECF6",
            "gridcolor": "white",
            "gridwidth": 2,
            "linecolor": "white",
            "showbackground": true,
            "ticks": "",
            "zerolinecolor": "white"
           },
           "yaxis": {
            "backgroundcolor": "#E5ECF6",
            "gridcolor": "white",
            "gridwidth": 2,
            "linecolor": "white",
            "showbackground": true,
            "ticks": "",
            "zerolinecolor": "white"
           },
           "zaxis": {
            "backgroundcolor": "#E5ECF6",
            "gridcolor": "white",
            "gridwidth": 2,
            "linecolor": "white",
            "showbackground": true,
            "ticks": "",
            "zerolinecolor": "white"
           }
          },
          "shapedefaults": {
           "line": {
            "color": "#2a3f5f"
           }
          },
          "ternary": {
           "aaxis": {
            "gridcolor": "white",
            "linecolor": "white",
            "ticks": ""
           },
           "baxis": {
            "gridcolor": "white",
            "linecolor": "white",
            "ticks": ""
           },
           "bgcolor": "#E5ECF6",
           "caxis": {
            "gridcolor": "white",
            "linecolor": "white",
            "ticks": ""
           }
          },
          "title": {
           "x": 0.05
          },
          "xaxis": {
           "automargin": true,
           "gridcolor": "white",
           "linecolor": "white",
           "ticks": "",
           "title": {
            "standoff": 15
           },
           "zerolinecolor": "white",
           "zerolinewidth": 2
          },
          "yaxis": {
           "automargin": true,
           "gridcolor": "white",
           "linecolor": "white",
           "ticks": "",
           "title": {
            "standoff": 15
           },
           "zerolinecolor": "white",
           "zerolinewidth": 2
          }
         }
        },
        "title": {
         "text": "Rolling Statistics Plot"
        },
        "xaxis": {
         "title": {
          "text": "Timestamp"
         }
        },
        "yaxis": {
         "title": {
          "text": "Car Count"
         }
        }
       }
      }
     },
     "metadata": {},
     "output_type": "display_data"
    }
   ],
   "source": [
    "fig = go.Figure()\n",
    "# Original data\n",
    "fig.add_trace(go.Scatter(x=data_df.index, y=data_df['centered_car_count'], mode='lines', name='Original Data'))\n",
    "fig.add_trace(go.Scatter(x=data_df.index, y=data_df['rw_hrs'], mode='lines', name='Rolling'))  \n",
    "fig.update_layout(title='Rolling Statistics Plot', xaxis_title='Timestamp', yaxis_title='Car Count', height=800)\n",
    "fig.show()"
   ]
  },
  {
   "cell_type": "markdown",
   "metadata": {},
   "source": [
    "<h2> Exp 6: Agg on month"
   ]
  },
  {
   "cell_type": "code",
   "execution_count": 68,
   "metadata": {},
   "outputs": [
    {
     "ename": "KeyError",
     "evalue": "\"['day_of_week_name'] not in index\"",
     "output_type": "error",
     "traceback": [
      "\u001b[0;31m---------------------------------------------------------------------------\u001b[0m",
      "\u001b[0;31mKeyError\u001b[0m                                  Traceback (most recent call last)",
      "Cell \u001b[0;32mIn[68], line 1\u001b[0m\n\u001b[0;32m----> 1\u001b[0m data_df_trunc \u001b[38;5;241m=\u001b[39m data_df[[\u001b[38;5;124m'\u001b[39m\u001b[38;5;124mcar_count\u001b[39m\u001b[38;5;124m'\u001b[39m, \u001b[38;5;124m'\u001b[39m\u001b[38;5;124mmonth_no\u001b[39m\u001b[38;5;124m'\u001b[39m, \u001b[38;5;124m'\u001b[39m\u001b[38;5;124mday\u001b[39m\u001b[38;5;124m'\u001b[39m, \u001b[38;5;124m'\u001b[39m\u001b[38;5;124mday_of_week\u001b[39m\u001b[38;5;124m'\u001b[39m,\u001b[38;5;124m'\u001b[39m\u001b[38;5;124mday_of_week_name\u001b[39m\u001b[38;5;124m'\u001b[39m, \u001b[38;5;124m'\u001b[39m\u001b[38;5;124mhour_of_day\u001b[39m\u001b[38;5;124m'\u001b[39m, \u001b[38;5;124m'\u001b[39m\u001b[38;5;124mmin_of_day\u001b[39m\u001b[38;5;124m'\u001b[39m, \u001b[38;5;124m'\u001b[39m\u001b[38;5;124mcentered_car_count\u001b[39m\u001b[38;5;124m'\u001b[39m,\u001b[38;5;124m'\u001b[39m\u001b[38;5;124mcombined\u001b[39m\u001b[38;5;124m'\u001b[39m]]\n\u001b[1;32m      3\u001b[0m month_mean_df \u001b[38;5;241m=\u001b[39m data_df_trunc\u001b[38;5;241m.\u001b[39mgroupby(\u001b[38;5;124m'\u001b[39m\u001b[38;5;124mday\u001b[39m\u001b[38;5;124m'\u001b[39m)\u001b[38;5;241m.\u001b[39mmean()\u001b[38;5;241m.\u001b[39mreset_index()\n\u001b[1;32m      4\u001b[0m month_med_df \u001b[38;5;241m=\u001b[39m data_df_trunc\u001b[38;5;241m.\u001b[39mgroupby(\u001b[38;5;124m'\u001b[39m\u001b[38;5;124mday\u001b[39m\u001b[38;5;124m'\u001b[39m)\u001b[38;5;241m.\u001b[39mmedian()\u001b[38;5;241m.\u001b[39mreset_index()\n",
      "File \u001b[0;32m~/usr_sa/anaconda3/envs/prkng_v2_env/lib/python3.11/site-packages/pandas/core/frame.py:3767\u001b[0m, in \u001b[0;36mDataFrame.__getitem__\u001b[0;34m(self, key)\u001b[0m\n\u001b[1;32m   3765\u001b[0m     \u001b[38;5;28;01mif\u001b[39;00m is_iterator(key):\n\u001b[1;32m   3766\u001b[0m         key \u001b[38;5;241m=\u001b[39m \u001b[38;5;28mlist\u001b[39m(key)\n\u001b[0;32m-> 3767\u001b[0m     indexer \u001b[38;5;241m=\u001b[39m \u001b[38;5;28mself\u001b[39m\u001b[38;5;241m.\u001b[39mcolumns\u001b[38;5;241m.\u001b[39m_get_indexer_strict(key, \u001b[38;5;124m\"\u001b[39m\u001b[38;5;124mcolumns\u001b[39m\u001b[38;5;124m\"\u001b[39m)[\u001b[38;5;241m1\u001b[39m]\n\u001b[1;32m   3769\u001b[0m \u001b[38;5;66;03m# take() does not accept boolean indexers\u001b[39;00m\n\u001b[1;32m   3770\u001b[0m \u001b[38;5;28;01mif\u001b[39;00m \u001b[38;5;28mgetattr\u001b[39m(indexer, \u001b[38;5;124m\"\u001b[39m\u001b[38;5;124mdtype\u001b[39m\u001b[38;5;124m\"\u001b[39m, \u001b[38;5;28;01mNone\u001b[39;00m) \u001b[38;5;241m==\u001b[39m \u001b[38;5;28mbool\u001b[39m:\n",
      "File \u001b[0;32m~/usr_sa/anaconda3/envs/prkng_v2_env/lib/python3.11/site-packages/pandas/core/indexes/base.py:5877\u001b[0m, in \u001b[0;36mIndex._get_indexer_strict\u001b[0;34m(self, key, axis_name)\u001b[0m\n\u001b[1;32m   5874\u001b[0m \u001b[38;5;28;01melse\u001b[39;00m:\n\u001b[1;32m   5875\u001b[0m     keyarr, indexer, new_indexer \u001b[38;5;241m=\u001b[39m \u001b[38;5;28mself\u001b[39m\u001b[38;5;241m.\u001b[39m_reindex_non_unique(keyarr)\n\u001b[0;32m-> 5877\u001b[0m \u001b[38;5;28mself\u001b[39m\u001b[38;5;241m.\u001b[39m_raise_if_missing(keyarr, indexer, axis_name)\n\u001b[1;32m   5879\u001b[0m keyarr \u001b[38;5;241m=\u001b[39m \u001b[38;5;28mself\u001b[39m\u001b[38;5;241m.\u001b[39mtake(indexer)\n\u001b[1;32m   5880\u001b[0m \u001b[38;5;28;01mif\u001b[39;00m \u001b[38;5;28misinstance\u001b[39m(key, Index):\n\u001b[1;32m   5881\u001b[0m     \u001b[38;5;66;03m# GH 42790 - Preserve name from an Index\u001b[39;00m\n",
      "File \u001b[0;32m~/usr_sa/anaconda3/envs/prkng_v2_env/lib/python3.11/site-packages/pandas/core/indexes/base.py:5941\u001b[0m, in \u001b[0;36mIndex._raise_if_missing\u001b[0;34m(self, key, indexer, axis_name)\u001b[0m\n\u001b[1;32m   5938\u001b[0m     \u001b[38;5;28;01mraise\u001b[39;00m \u001b[38;5;167;01mKeyError\u001b[39;00m(\u001b[38;5;124mf\u001b[39m\u001b[38;5;124m\"\u001b[39m\u001b[38;5;124mNone of [\u001b[39m\u001b[38;5;132;01m{\u001b[39;00mkey\u001b[38;5;132;01m}\u001b[39;00m\u001b[38;5;124m] are in the [\u001b[39m\u001b[38;5;132;01m{\u001b[39;00maxis_name\u001b[38;5;132;01m}\u001b[39;00m\u001b[38;5;124m]\u001b[39m\u001b[38;5;124m\"\u001b[39m)\n\u001b[1;32m   5940\u001b[0m not_found \u001b[38;5;241m=\u001b[39m \u001b[38;5;28mlist\u001b[39m(ensure_index(key)[missing_mask\u001b[38;5;241m.\u001b[39mnonzero()[\u001b[38;5;241m0\u001b[39m]]\u001b[38;5;241m.\u001b[39munique())\n\u001b[0;32m-> 5941\u001b[0m \u001b[38;5;28;01mraise\u001b[39;00m \u001b[38;5;167;01mKeyError\u001b[39;00m(\u001b[38;5;124mf\u001b[39m\u001b[38;5;124m\"\u001b[39m\u001b[38;5;132;01m{\u001b[39;00mnot_found\u001b[38;5;132;01m}\u001b[39;00m\u001b[38;5;124m not in index\u001b[39m\u001b[38;5;124m\"\u001b[39m)\n",
      "\u001b[0;31mKeyError\u001b[0m: \"['day_of_week_name'] not in index\""
     ]
    }
   ],
   "source": [
    "data_df_trunc = data_df[['car_count', 'month_no', 'day', 'day_of_week', 'hour_of_day', 'min_of_day', 'centered_car_count','combined']]\n",
    "\n",
    "month_mean_df = data_df_trunc.groupby('day').mean().reset_index()\n",
    "month_med_df = data_df_trunc.groupby('day').median().reset_index()"
   ]
  },
  {
   "cell_type": "code",
   "execution_count": 54,
   "metadata": {},
   "outputs": [
    {
     "name": "stdout",
     "output_type": "stream",
     "text": [
      "ADF Statistic: -1.277011587326327\n",
      "p-value: 0.6396228286558957\n",
      "Critical Values: {'1%': -4.223238279489106, '5%': -3.189368925619835, '10%': -2.729839421487603}\n",
      "The series is not stationary.\n"
     ]
    }
   ],
   "source": [
    "ad_fuller_test(month_mean_df['centered_car_count'])\n",
    "# ad_fuller_test(month_med_df['centered_car_count'])"
   ]
  },
  {
   "cell_type": "code",
   "execution_count": 55,
   "metadata": {},
   "outputs": [
    {
     "data": {
      "text/plain": [
       "array([ 2,  3,  4,  5,  6,  7,  8,  9, 10, 11, 12, 13, 14, 17, 18, 19, 20,\n",
       "       24, 25, 26], dtype=int32)"
      ]
     },
     "execution_count": 55,
     "metadata": {},
     "output_type": "execute_result"
    }
   ],
   "source": [
    "month_mean_df['day'].unique()"
   ]
  },
  {
   "cell_type": "code",
   "execution_count": 56,
   "metadata": {},
   "outputs": [
    {
     "data": {
      "application/vnd.plotly.v1+json": {
       "config": {
        "plotlyServerURL": "https://plot.ly"
       },
       "data": [
        {
         "mode": "markers+lines",
         "name": "Mean Centered Car Count",
         "type": "scatter",
         "x": [
          2,
          3,
          4,
          5,
          6,
          7,
          8,
          9,
          10,
          11,
          12,
          13,
          14,
          17,
          18,
          19,
          20,
          24,
          25,
          26
         ],
         "y": [
          -9.955578512396693,
          -11.796487603305785,
          -11.442320936639119,
          -11.129820936639119,
          -8.070297127115309,
          4.806453573164803,
          6.660034135824651,
          1.7567910852188051,
          3.453512396694215,
          0.7270973023545926,
          6.40805785123967,
          -3.3443599437313165,
          -2.773760330578512,
          13.064623507805326,
          1.8381277813095998,
          10.286845730027549,
          10.180785123966944,
          -3.268709825528007,
          -1.981270212001437,
          6.720954257159332
         ]
        },
        {
         "mode": "markers+lines",
         "name": "Median Centered Car Count",
         "type": "scatter",
         "x": [
          2,
          3,
          4,
          5,
          6,
          7,
          8,
          9,
          10,
          11,
          12,
          13,
          14,
          17,
          18,
          19,
          20,
          24,
          25,
          26
         ],
         "y": [
          -11.046487603305785,
          -12.046487603305785,
          -12.046487603305785,
          -11.046487603305785,
          -8.046487603305785,
          4.953512396694215,
          8.453512396694215,
          -2.046487603305785,
          1.9535123966942152,
          -1.0464876033057848,
          2.953512396694215,
          -6.546487603305785,
          -8.046487603305785,
          17.453512396694215,
          0.9535123966942152,
          13.453512396694215,
          13.453512396694215,
          -4.546487603305785,
          -2.046487603305785,
          7.953512396694215
         ]
        }
       ],
       "layout": {
        "legend": {
         "title": {
          "text": "Aggregations"
         }
        },
        "template": {
         "data": {
          "bar": [
           {
            "error_x": {
             "color": "#2a3f5f"
            },
            "error_y": {
             "color": "#2a3f5f"
            },
            "marker": {
             "line": {
              "color": "#E5ECF6",
              "width": 0.5
             },
             "pattern": {
              "fillmode": "overlay",
              "size": 10,
              "solidity": 0.2
             }
            },
            "type": "bar"
           }
          ],
          "barpolar": [
           {
            "marker": {
             "line": {
              "color": "#E5ECF6",
              "width": 0.5
             },
             "pattern": {
              "fillmode": "overlay",
              "size": 10,
              "solidity": 0.2
             }
            },
            "type": "barpolar"
           }
          ],
          "carpet": [
           {
            "aaxis": {
             "endlinecolor": "#2a3f5f",
             "gridcolor": "white",
             "linecolor": "white",
             "minorgridcolor": "white",
             "startlinecolor": "#2a3f5f"
            },
            "baxis": {
             "endlinecolor": "#2a3f5f",
             "gridcolor": "white",
             "linecolor": "white",
             "minorgridcolor": "white",
             "startlinecolor": "#2a3f5f"
            },
            "type": "carpet"
           }
          ],
          "choropleth": [
           {
            "colorbar": {
             "outlinewidth": 0,
             "ticks": ""
            },
            "type": "choropleth"
           }
          ],
          "contour": [
           {
            "colorbar": {
             "outlinewidth": 0,
             "ticks": ""
            },
            "colorscale": [
             [
              0,
              "#0d0887"
             ],
             [
              0.1111111111111111,
              "#46039f"
             ],
             [
              0.2222222222222222,
              "#7201a8"
             ],
             [
              0.3333333333333333,
              "#9c179e"
             ],
             [
              0.4444444444444444,
              "#bd3786"
             ],
             [
              0.5555555555555556,
              "#d8576b"
             ],
             [
              0.6666666666666666,
              "#ed7953"
             ],
             [
              0.7777777777777778,
              "#fb9f3a"
             ],
             [
              0.8888888888888888,
              "#fdca26"
             ],
             [
              1,
              "#f0f921"
             ]
            ],
            "type": "contour"
           }
          ],
          "contourcarpet": [
           {
            "colorbar": {
             "outlinewidth": 0,
             "ticks": ""
            },
            "type": "contourcarpet"
           }
          ],
          "heatmap": [
           {
            "colorbar": {
             "outlinewidth": 0,
             "ticks": ""
            },
            "colorscale": [
             [
              0,
              "#0d0887"
             ],
             [
              0.1111111111111111,
              "#46039f"
             ],
             [
              0.2222222222222222,
              "#7201a8"
             ],
             [
              0.3333333333333333,
              "#9c179e"
             ],
             [
              0.4444444444444444,
              "#bd3786"
             ],
             [
              0.5555555555555556,
              "#d8576b"
             ],
             [
              0.6666666666666666,
              "#ed7953"
             ],
             [
              0.7777777777777778,
              "#fb9f3a"
             ],
             [
              0.8888888888888888,
              "#fdca26"
             ],
             [
              1,
              "#f0f921"
             ]
            ],
            "type": "heatmap"
           }
          ],
          "heatmapgl": [
           {
            "colorbar": {
             "outlinewidth": 0,
             "ticks": ""
            },
            "colorscale": [
             [
              0,
              "#0d0887"
             ],
             [
              0.1111111111111111,
              "#46039f"
             ],
             [
              0.2222222222222222,
              "#7201a8"
             ],
             [
              0.3333333333333333,
              "#9c179e"
             ],
             [
              0.4444444444444444,
              "#bd3786"
             ],
             [
              0.5555555555555556,
              "#d8576b"
             ],
             [
              0.6666666666666666,
              "#ed7953"
             ],
             [
              0.7777777777777778,
              "#fb9f3a"
             ],
             [
              0.8888888888888888,
              "#fdca26"
             ],
             [
              1,
              "#f0f921"
             ]
            ],
            "type": "heatmapgl"
           }
          ],
          "histogram": [
           {
            "marker": {
             "pattern": {
              "fillmode": "overlay",
              "size": 10,
              "solidity": 0.2
             }
            },
            "type": "histogram"
           }
          ],
          "histogram2d": [
           {
            "colorbar": {
             "outlinewidth": 0,
             "ticks": ""
            },
            "colorscale": [
             [
              0,
              "#0d0887"
             ],
             [
              0.1111111111111111,
              "#46039f"
             ],
             [
              0.2222222222222222,
              "#7201a8"
             ],
             [
              0.3333333333333333,
              "#9c179e"
             ],
             [
              0.4444444444444444,
              "#bd3786"
             ],
             [
              0.5555555555555556,
              "#d8576b"
             ],
             [
              0.6666666666666666,
              "#ed7953"
             ],
             [
              0.7777777777777778,
              "#fb9f3a"
             ],
             [
              0.8888888888888888,
              "#fdca26"
             ],
             [
              1,
              "#f0f921"
             ]
            ],
            "type": "histogram2d"
           }
          ],
          "histogram2dcontour": [
           {
            "colorbar": {
             "outlinewidth": 0,
             "ticks": ""
            },
            "colorscale": [
             [
              0,
              "#0d0887"
             ],
             [
              0.1111111111111111,
              "#46039f"
             ],
             [
              0.2222222222222222,
              "#7201a8"
             ],
             [
              0.3333333333333333,
              "#9c179e"
             ],
             [
              0.4444444444444444,
              "#bd3786"
             ],
             [
              0.5555555555555556,
              "#d8576b"
             ],
             [
              0.6666666666666666,
              "#ed7953"
             ],
             [
              0.7777777777777778,
              "#fb9f3a"
             ],
             [
              0.8888888888888888,
              "#fdca26"
             ],
             [
              1,
              "#f0f921"
             ]
            ],
            "type": "histogram2dcontour"
           }
          ],
          "mesh3d": [
           {
            "colorbar": {
             "outlinewidth": 0,
             "ticks": ""
            },
            "type": "mesh3d"
           }
          ],
          "parcoords": [
           {
            "line": {
             "colorbar": {
              "outlinewidth": 0,
              "ticks": ""
             }
            },
            "type": "parcoords"
           }
          ],
          "pie": [
           {
            "automargin": true,
            "type": "pie"
           }
          ],
          "scatter": [
           {
            "fillpattern": {
             "fillmode": "overlay",
             "size": 10,
             "solidity": 0.2
            },
            "type": "scatter"
           }
          ],
          "scatter3d": [
           {
            "line": {
             "colorbar": {
              "outlinewidth": 0,
              "ticks": ""
             }
            },
            "marker": {
             "colorbar": {
              "outlinewidth": 0,
              "ticks": ""
             }
            },
            "type": "scatter3d"
           }
          ],
          "scattercarpet": [
           {
            "marker": {
             "colorbar": {
              "outlinewidth": 0,
              "ticks": ""
             }
            },
            "type": "scattercarpet"
           }
          ],
          "scattergeo": [
           {
            "marker": {
             "colorbar": {
              "outlinewidth": 0,
              "ticks": ""
             }
            },
            "type": "scattergeo"
           }
          ],
          "scattergl": [
           {
            "marker": {
             "colorbar": {
              "outlinewidth": 0,
              "ticks": ""
             }
            },
            "type": "scattergl"
           }
          ],
          "scattermapbox": [
           {
            "marker": {
             "colorbar": {
              "outlinewidth": 0,
              "ticks": ""
             }
            },
            "type": "scattermapbox"
           }
          ],
          "scatterpolar": [
           {
            "marker": {
             "colorbar": {
              "outlinewidth": 0,
              "ticks": ""
             }
            },
            "type": "scatterpolar"
           }
          ],
          "scatterpolargl": [
           {
            "marker": {
             "colorbar": {
              "outlinewidth": 0,
              "ticks": ""
             }
            },
            "type": "scatterpolargl"
           }
          ],
          "scatterternary": [
           {
            "marker": {
             "colorbar": {
              "outlinewidth": 0,
              "ticks": ""
             }
            },
            "type": "scatterternary"
           }
          ],
          "surface": [
           {
            "colorbar": {
             "outlinewidth": 0,
             "ticks": ""
            },
            "colorscale": [
             [
              0,
              "#0d0887"
             ],
             [
              0.1111111111111111,
              "#46039f"
             ],
             [
              0.2222222222222222,
              "#7201a8"
             ],
             [
              0.3333333333333333,
              "#9c179e"
             ],
             [
              0.4444444444444444,
              "#bd3786"
             ],
             [
              0.5555555555555556,
              "#d8576b"
             ],
             [
              0.6666666666666666,
              "#ed7953"
             ],
             [
              0.7777777777777778,
              "#fb9f3a"
             ],
             [
              0.8888888888888888,
              "#fdca26"
             ],
             [
              1,
              "#f0f921"
             ]
            ],
            "type": "surface"
           }
          ],
          "table": [
           {
            "cells": {
             "fill": {
              "color": "#EBF0F8"
             },
             "line": {
              "color": "white"
             }
            },
            "header": {
             "fill": {
              "color": "#C8D4E3"
             },
             "line": {
              "color": "white"
             }
            },
            "type": "table"
           }
          ]
         },
         "layout": {
          "annotationdefaults": {
           "arrowcolor": "#2a3f5f",
           "arrowhead": 0,
           "arrowwidth": 1
          },
          "autotypenumbers": "strict",
          "coloraxis": {
           "colorbar": {
            "outlinewidth": 0,
            "ticks": ""
           }
          },
          "colorscale": {
           "diverging": [
            [
             0,
             "#8e0152"
            ],
            [
             0.1,
             "#c51b7d"
            ],
            [
             0.2,
             "#de77ae"
            ],
            [
             0.3,
             "#f1b6da"
            ],
            [
             0.4,
             "#fde0ef"
            ],
            [
             0.5,
             "#f7f7f7"
            ],
            [
             0.6,
             "#e6f5d0"
            ],
            [
             0.7,
             "#b8e186"
            ],
            [
             0.8,
             "#7fbc41"
            ],
            [
             0.9,
             "#4d9221"
            ],
            [
             1,
             "#276419"
            ]
           ],
           "sequential": [
            [
             0,
             "#0d0887"
            ],
            [
             0.1111111111111111,
             "#46039f"
            ],
            [
             0.2222222222222222,
             "#7201a8"
            ],
            [
             0.3333333333333333,
             "#9c179e"
            ],
            [
             0.4444444444444444,
             "#bd3786"
            ],
            [
             0.5555555555555556,
             "#d8576b"
            ],
            [
             0.6666666666666666,
             "#ed7953"
            ],
            [
             0.7777777777777778,
             "#fb9f3a"
            ],
            [
             0.8888888888888888,
             "#fdca26"
            ],
            [
             1,
             "#f0f921"
            ]
           ],
           "sequentialminus": [
            [
             0,
             "#0d0887"
            ],
            [
             0.1111111111111111,
             "#46039f"
            ],
            [
             0.2222222222222222,
             "#7201a8"
            ],
            [
             0.3333333333333333,
             "#9c179e"
            ],
            [
             0.4444444444444444,
             "#bd3786"
            ],
            [
             0.5555555555555556,
             "#d8576b"
            ],
            [
             0.6666666666666666,
             "#ed7953"
            ],
            [
             0.7777777777777778,
             "#fb9f3a"
            ],
            [
             0.8888888888888888,
             "#fdca26"
            ],
            [
             1,
             "#f0f921"
            ]
           ]
          },
          "colorway": [
           "#636efa",
           "#EF553B",
           "#00cc96",
           "#ab63fa",
           "#FFA15A",
           "#19d3f3",
           "#FF6692",
           "#B6E880",
           "#FF97FF",
           "#FECB52"
          ],
          "font": {
           "color": "#2a3f5f"
          },
          "geo": {
           "bgcolor": "white",
           "lakecolor": "white",
           "landcolor": "#E5ECF6",
           "showlakes": true,
           "showland": true,
           "subunitcolor": "white"
          },
          "hoverlabel": {
           "align": "left"
          },
          "hovermode": "closest",
          "mapbox": {
           "style": "light"
          },
          "paper_bgcolor": "white",
          "plot_bgcolor": "#E5ECF6",
          "polar": {
           "angularaxis": {
            "gridcolor": "white",
            "linecolor": "white",
            "ticks": ""
           },
           "bgcolor": "#E5ECF6",
           "radialaxis": {
            "gridcolor": "white",
            "linecolor": "white",
            "ticks": ""
           }
          },
          "scene": {
           "xaxis": {
            "backgroundcolor": "#E5ECF6",
            "gridcolor": "white",
            "gridwidth": 2,
            "linecolor": "white",
            "showbackground": true,
            "ticks": "",
            "zerolinecolor": "white"
           },
           "yaxis": {
            "backgroundcolor": "#E5ECF6",
            "gridcolor": "white",
            "gridwidth": 2,
            "linecolor": "white",
            "showbackground": true,
            "ticks": "",
            "zerolinecolor": "white"
           },
           "zaxis": {
            "backgroundcolor": "#E5ECF6",
            "gridcolor": "white",
            "gridwidth": 2,
            "linecolor": "white",
            "showbackground": true,
            "ticks": "",
            "zerolinecolor": "white"
           }
          },
          "shapedefaults": {
           "line": {
            "color": "#2a3f5f"
           }
          },
          "ternary": {
           "aaxis": {
            "gridcolor": "white",
            "linecolor": "white",
            "ticks": ""
           },
           "baxis": {
            "gridcolor": "white",
            "linecolor": "white",
            "ticks": ""
           },
           "bgcolor": "#E5ECF6",
           "caxis": {
            "gridcolor": "white",
            "linecolor": "white",
            "ticks": ""
           }
          },
          "title": {
           "x": 0.05
          },
          "xaxis": {
           "automargin": true,
           "gridcolor": "white",
           "linecolor": "white",
           "ticks": "",
           "title": {
            "standoff": 15
           },
           "zerolinecolor": "white",
           "zerolinewidth": 2
          },
          "yaxis": {
           "automargin": true,
           "gridcolor": "white",
           "linecolor": "white",
           "ticks": "",
           "title": {
            "standoff": 15
           },
           "zerolinecolor": "white",
           "zerolinewidth": 2
          }
         }
        },
        "title": {
         "text": "Comparison of Mean and Median Aggregations by Month"
        },
        "xaxis": {
         "title": {
          "text": "Day of Month"
         }
        },
        "yaxis": {
         "title": {
          "text": "Count"
         }
        }
       }
      }
     },
     "metadata": {},
     "output_type": "display_data"
    }
   ],
   "source": [
    "# Create a new figure\n",
    "fig = go.Figure()\n",
    "\n",
    "\n",
    "\n",
    "# Add a trace for day_mean_df's centered_car_count\n",
    "fig.add_trace(go.Scatter(x=month_mean_df['day'], \n",
    "                         y=month_mean_df['centered_car_count'], \n",
    "                         mode='markers+lines', \n",
    "                         name='Mean Centered Car Count'))\n",
    "\n",
    "\n",
    "# Add a trace for day_med_df's centered_car_count\n",
    "fig.add_trace(go.Scatter(x=month_med_df['day'], \n",
    "                         y=month_med_df['centered_car_count'], \n",
    "                         mode='markers+lines', \n",
    "                         name='Median Centered Car Count'))\n",
    "\n",
    "# Update layout for better visualization\n",
    "fig.update_layout(title='Comparison of Mean and Median Aggregations by Month',\n",
    "                  xaxis_title='Day of Month',\n",
    "                  yaxis_title='Count',\n",
    "                  legend_title='Aggregations')\n",
    "\n",
    "fig.show()\n"
   ]
  },
  {
   "cell_type": "code",
   "execution_count": 57,
   "metadata": {},
   "outputs": [],
   "source": [
    "X_month_mean=  month_mean_df['day'].values.reshape(-1,1)\n",
    "y_month_mean = month_mean_df['centered_car_count'].values.reshape(-1,1)"
   ]
  },
  {
   "cell_type": "code",
   "execution_count": 58,
   "metadata": {},
   "outputs": [],
   "source": [
    "from sklearn.gaussian_process.kernels import RBF, WhiteKernel, ExpSineSquared\n",
    "from sklearn.gaussian_process.kernels import (RationalQuadratic,Exponentiation)\n",
    "\n",
    "# RBF or SE kernel with a length scale of 1.0\n",
    "k1 = 10 * RBF(length_scale=0.3, length_scale_bounds=(1e-4, 1e4))\n",
    "\n",
    "# # White kernel to account for noise\n",
    "# k2 = WhiteKernel(noise_level=1, noise_level_bounds=(1e-10, 1e+20))\n",
    "\n",
    "# Periodic kernel\n",
    "k3 = ExpSineSquared(length_scale=1.0,\n",
    "                    length_scale_bounds=(1e-1,1e02 ) ,\n",
    "                    periodicity=0.2,\n",
    "                    periodicity_bounds= (1e-1, 1e02))\n",
    "\n",
    "k4 = 1.0 * RationalQuadratic(length_scale=0.5, alpha=0.5, alpha_bounds=(1e-03, 1e02))\n",
    "\n",
    "# ExponentiatedQuadratic -> locally periodic exponentiation(quadratic)\n",
    "#k5 = Exponentiation(Quadratic(), exponent= 2)\n",
    "\n",
    "\n",
    "# Combined kernel:\n",
    "kernel = k1 * k3\n",
    "\n",
    "gpr = GaussianProcessRegressor(kernel=kernel, n_restarts_optimizer= 10)"
   ]
  },
  {
   "cell_type": "code",
   "execution_count": 40,
   "metadata": {},
   "outputs": [
    {
     "ename": "AttributeError",
     "evalue": "module 'wandb' has no attribute 'init'",
     "output_type": "error",
     "traceback": [
      "\u001b[0;31m---------------------------------------------------------------------------\u001b[0m",
      "\u001b[0;31mAttributeError\u001b[0m                            Traceback (most recent call last)",
      "Cell \u001b[0;32mIn[40], line 3\u001b[0m\n\u001b[1;32m      1\u001b[0m \u001b[38;5;66;03m# start a new wandb run to track this script\u001b[39;00m\n\u001b[0;32m----> 3\u001b[0m run \u001b[38;5;241m=\u001b[39m wandb\u001b[38;5;241m.\u001b[39minit(\n\u001b[1;32m      4\u001b[0m     \u001b[38;5;66;03m# set the wandb project where this run will be logged\u001b[39;00m\n\u001b[1;32m      5\u001b[0m     project\u001b[38;5;241m=\u001b[39m\u001b[38;5;124m\"\u001b[39m\u001b[38;5;124mGPR\u001b[39m\u001b[38;5;124m\"\u001b[39m,\n\u001b[1;32m      6\u001b[0m     name\u001b[38;5;241m=\u001b[39m \u001b[38;5;124mf\u001b[39m\u001b[38;5;124m\"\u001b[39m\u001b[38;5;124mmonth_agg_6.\u001b[39m\u001b[38;5;132;01m{\u001b[39;00mexperiment_num\u001b[38;5;132;01m}\u001b[39;00m\u001b[38;5;124m_\u001b[39m\u001b[38;5;132;01m{\u001b[39;00mdatetime_str\u001b[38;5;132;01m}\u001b[39;00m\u001b[38;5;124m\"\u001b[39m\n\u001b[1;32m      7\u001b[0m )\n\u001b[1;32m      8\u001b[0m y_pred, y_std \u001b[38;5;241m=\u001b[39m gpr_train(gpr\u001b[38;5;241m=\u001b[39mgpr,n_samples\u001b[38;5;241m=\u001b[39m \u001b[38;5;241m5\u001b[39m,x_train\u001b[38;5;241m=\u001b[39mX_month_mean,y_train\u001b[38;5;241m=\u001b[39my_month_mean, run\u001b[38;5;241m=\u001b[39mrun)\n\u001b[1;32m      9\u001b[0m \u001b[38;5;66;03m# log_data(gpr_score_card(gpr, y_month_mean, y_std))\u001b[39;00m\n",
      "\u001b[0;31mAttributeError\u001b[0m: module 'wandb' has no attribute 'init'"
     ]
    }
   ],
   "source": [
    "# start a new wandb run to track this script\n",
    "\n",
    "run = wandb.init(\n",
    "    # set the wandb project where this run will be logged\n",
    "    project=\"GPR\",\n",
    "    name= f\"month_agg_6.{experiment_num}_{datetime_str}\"\n",
    ")\n",
    "y_pred, y_std = gpr_train(gpr=gpr,n_samples= 5,x_train=X_month_mean,y_train=y_month_mean, run=run)\n",
    "# log_data(gpr_score_card(gpr, y_month_mean, y_std))\n",
    "wandb.finish()"
   ]
  },
  {
   "cell_type": "code",
   "execution_count": 59,
   "metadata": {},
   "outputs": [],
   "source": [
    "\n",
    "# gpr.fit(X_month_mean ,y_month_mean)\n",
    "\n",
    "# y_pred, y_std = gpr.predict(X_month_mean, return_std=True)\n",
    "\n",
    "# plot_gpr_samples_plotly(gpr, 5, X_month_mean,y_month_mean)\n",
    "# log_data(gpr_score_card(gpr, y_month_mean, y_std))\n",
    "\n"
   ]
  },
  {
   "cell_type": "code",
   "execution_count": null,
   "metadata": {},
   "outputs": [],
   "source": [
    "\n"
   ]
  },
  {
   "cell_type": "markdown",
   "metadata": {},
   "source": [
    "<h2> Exp 6: Agg on Week"
   ]
  },
  {
   "cell_type": "code",
   "execution_count": 60,
   "metadata": {},
   "outputs": [],
   "source": [
    "week_mean_df = data_df_trunc.groupby('day_of_week').agg({'centered_car_count':'mean'}).reset_index()\n",
    "week_med_df = data_df_trunc.groupby('day_of_week').agg({'centered_car_count':'median'}).reset_index()"
   ]
  },
  {
   "cell_type": "code",
   "execution_count": 61,
   "metadata": {},
   "outputs": [],
   "source": [
    "X_week_mean=  week_mean_df['day_of_week'].values.reshape(-1,1)\n",
    "y_week_mean = week_mean_df['centered_car_count'].values.reshape(-1,1)"
   ]
  },
  {
   "cell_type": "code",
   "execution_count": 62,
   "metadata": {},
   "outputs": [
    {
     "data": {
      "text/plain": [
       "array([[0],\n",
       "       [1],\n",
       "       [2],\n",
       "       [3],\n",
       "       [4],\n",
       "       [5],\n",
       "       [6]], dtype=int32)"
      ]
     },
     "execution_count": 62,
     "metadata": {},
     "output_type": "execute_result"
    }
   ],
   "source": [
    "X_week_mean"
   ]
  },
  {
   "cell_type": "code",
   "execution_count": 63,
   "metadata": {},
   "outputs": [
    {
     "name": "stdout",
     "output_type": "stream",
     "text": [
      "ADF Statistic: -1.2315497591578144\n",
      "p-value: 0.6598787282104795\n",
      "Critical Values: {'1%': -5.354256481481482, '5%': -3.6462381481481483, '10%': -2.901197777777778}\n",
      "The series is not stationary.\n"
     ]
    }
   ],
   "source": [
    "ad_fuller_test(week_mean_df['centered_car_count'])\n",
    "# ad_fuller_test(week_med_df['centered_car_count'])"
   ]
  },
  {
   "cell_type": "code",
   "execution_count": 64,
   "metadata": {},
   "outputs": [
    {
     "data": {
      "application/vnd.plotly.v1+json": {
       "config": {
        "plotlyServerURL": "https://plot.ly"
       },
       "data": [
        {
         "mode": "markers+lines",
         "name": "Mean Centered Car Count",
         "type": "scatter",
         "x": [
          0,
          1,
          2,
          3,
          4,
          5,
          6
         ],
         "y": [
          3.791747690811862,
          6.775430204913394,
          2.4882346189164375,
          1.230108141375066,
          -10.117916174734356,
          -3.478305785123967,
          -4.3680956435067895
         ]
        },
        {
         "mode": "markers+lines",
         "name": "Median Centered Car Count",
         "type": "scatter",
         "x": [
          0,
          1,
          2,
          3,
          4,
          5,
          6
         ],
         "y": [
          4.453512396694215,
          8.953512396694215,
          1.9535123966942152,
          -2.046487603305785,
          -11.046487603305785,
          -7.046487603305785,
          -5.046487603305785
         ]
        }
       ],
       "layout": {
        "legend": {
         "title": {
          "text": "Aggregations"
         }
        },
        "template": {
         "data": {
          "bar": [
           {
            "error_x": {
             "color": "#2a3f5f"
            },
            "error_y": {
             "color": "#2a3f5f"
            },
            "marker": {
             "line": {
              "color": "#E5ECF6",
              "width": 0.5
             },
             "pattern": {
              "fillmode": "overlay",
              "size": 10,
              "solidity": 0.2
             }
            },
            "type": "bar"
           }
          ],
          "barpolar": [
           {
            "marker": {
             "line": {
              "color": "#E5ECF6",
              "width": 0.5
             },
             "pattern": {
              "fillmode": "overlay",
              "size": 10,
              "solidity": 0.2
             }
            },
            "type": "barpolar"
           }
          ],
          "carpet": [
           {
            "aaxis": {
             "endlinecolor": "#2a3f5f",
             "gridcolor": "white",
             "linecolor": "white",
             "minorgridcolor": "white",
             "startlinecolor": "#2a3f5f"
            },
            "baxis": {
             "endlinecolor": "#2a3f5f",
             "gridcolor": "white",
             "linecolor": "white",
             "minorgridcolor": "white",
             "startlinecolor": "#2a3f5f"
            },
            "type": "carpet"
           }
          ],
          "choropleth": [
           {
            "colorbar": {
             "outlinewidth": 0,
             "ticks": ""
            },
            "type": "choropleth"
           }
          ],
          "contour": [
           {
            "colorbar": {
             "outlinewidth": 0,
             "ticks": ""
            },
            "colorscale": [
             [
              0,
              "#0d0887"
             ],
             [
              0.1111111111111111,
              "#46039f"
             ],
             [
              0.2222222222222222,
              "#7201a8"
             ],
             [
              0.3333333333333333,
              "#9c179e"
             ],
             [
              0.4444444444444444,
              "#bd3786"
             ],
             [
              0.5555555555555556,
              "#d8576b"
             ],
             [
              0.6666666666666666,
              "#ed7953"
             ],
             [
              0.7777777777777778,
              "#fb9f3a"
             ],
             [
              0.8888888888888888,
              "#fdca26"
             ],
             [
              1,
              "#f0f921"
             ]
            ],
            "type": "contour"
           }
          ],
          "contourcarpet": [
           {
            "colorbar": {
             "outlinewidth": 0,
             "ticks": ""
            },
            "type": "contourcarpet"
           }
          ],
          "heatmap": [
           {
            "colorbar": {
             "outlinewidth": 0,
             "ticks": ""
            },
            "colorscale": [
             [
              0,
              "#0d0887"
             ],
             [
              0.1111111111111111,
              "#46039f"
             ],
             [
              0.2222222222222222,
              "#7201a8"
             ],
             [
              0.3333333333333333,
              "#9c179e"
             ],
             [
              0.4444444444444444,
              "#bd3786"
             ],
             [
              0.5555555555555556,
              "#d8576b"
             ],
             [
              0.6666666666666666,
              "#ed7953"
             ],
             [
              0.7777777777777778,
              "#fb9f3a"
             ],
             [
              0.8888888888888888,
              "#fdca26"
             ],
             [
              1,
              "#f0f921"
             ]
            ],
            "type": "heatmap"
           }
          ],
          "heatmapgl": [
           {
            "colorbar": {
             "outlinewidth": 0,
             "ticks": ""
            },
            "colorscale": [
             [
              0,
              "#0d0887"
             ],
             [
              0.1111111111111111,
              "#46039f"
             ],
             [
              0.2222222222222222,
              "#7201a8"
             ],
             [
              0.3333333333333333,
              "#9c179e"
             ],
             [
              0.4444444444444444,
              "#bd3786"
             ],
             [
              0.5555555555555556,
              "#d8576b"
             ],
             [
              0.6666666666666666,
              "#ed7953"
             ],
             [
              0.7777777777777778,
              "#fb9f3a"
             ],
             [
              0.8888888888888888,
              "#fdca26"
             ],
             [
              1,
              "#f0f921"
             ]
            ],
            "type": "heatmapgl"
           }
          ],
          "histogram": [
           {
            "marker": {
             "pattern": {
              "fillmode": "overlay",
              "size": 10,
              "solidity": 0.2
             }
            },
            "type": "histogram"
           }
          ],
          "histogram2d": [
           {
            "colorbar": {
             "outlinewidth": 0,
             "ticks": ""
            },
            "colorscale": [
             [
              0,
              "#0d0887"
             ],
             [
              0.1111111111111111,
              "#46039f"
             ],
             [
              0.2222222222222222,
              "#7201a8"
             ],
             [
              0.3333333333333333,
              "#9c179e"
             ],
             [
              0.4444444444444444,
              "#bd3786"
             ],
             [
              0.5555555555555556,
              "#d8576b"
             ],
             [
              0.6666666666666666,
              "#ed7953"
             ],
             [
              0.7777777777777778,
              "#fb9f3a"
             ],
             [
              0.8888888888888888,
              "#fdca26"
             ],
             [
              1,
              "#f0f921"
             ]
            ],
            "type": "histogram2d"
           }
          ],
          "histogram2dcontour": [
           {
            "colorbar": {
             "outlinewidth": 0,
             "ticks": ""
            },
            "colorscale": [
             [
              0,
              "#0d0887"
             ],
             [
              0.1111111111111111,
              "#46039f"
             ],
             [
              0.2222222222222222,
              "#7201a8"
             ],
             [
              0.3333333333333333,
              "#9c179e"
             ],
             [
              0.4444444444444444,
              "#bd3786"
             ],
             [
              0.5555555555555556,
              "#d8576b"
             ],
             [
              0.6666666666666666,
              "#ed7953"
             ],
             [
              0.7777777777777778,
              "#fb9f3a"
             ],
             [
              0.8888888888888888,
              "#fdca26"
             ],
             [
              1,
              "#f0f921"
             ]
            ],
            "type": "histogram2dcontour"
           }
          ],
          "mesh3d": [
           {
            "colorbar": {
             "outlinewidth": 0,
             "ticks": ""
            },
            "type": "mesh3d"
           }
          ],
          "parcoords": [
           {
            "line": {
             "colorbar": {
              "outlinewidth": 0,
              "ticks": ""
             }
            },
            "type": "parcoords"
           }
          ],
          "pie": [
           {
            "automargin": true,
            "type": "pie"
           }
          ],
          "scatter": [
           {
            "fillpattern": {
             "fillmode": "overlay",
             "size": 10,
             "solidity": 0.2
            },
            "type": "scatter"
           }
          ],
          "scatter3d": [
           {
            "line": {
             "colorbar": {
              "outlinewidth": 0,
              "ticks": ""
             }
            },
            "marker": {
             "colorbar": {
              "outlinewidth": 0,
              "ticks": ""
             }
            },
            "type": "scatter3d"
           }
          ],
          "scattercarpet": [
           {
            "marker": {
             "colorbar": {
              "outlinewidth": 0,
              "ticks": ""
             }
            },
            "type": "scattercarpet"
           }
          ],
          "scattergeo": [
           {
            "marker": {
             "colorbar": {
              "outlinewidth": 0,
              "ticks": ""
             }
            },
            "type": "scattergeo"
           }
          ],
          "scattergl": [
           {
            "marker": {
             "colorbar": {
              "outlinewidth": 0,
              "ticks": ""
             }
            },
            "type": "scattergl"
           }
          ],
          "scattermapbox": [
           {
            "marker": {
             "colorbar": {
              "outlinewidth": 0,
              "ticks": ""
             }
            },
            "type": "scattermapbox"
           }
          ],
          "scatterpolar": [
           {
            "marker": {
             "colorbar": {
              "outlinewidth": 0,
              "ticks": ""
             }
            },
            "type": "scatterpolar"
           }
          ],
          "scatterpolargl": [
           {
            "marker": {
             "colorbar": {
              "outlinewidth": 0,
              "ticks": ""
             }
            },
            "type": "scatterpolargl"
           }
          ],
          "scatterternary": [
           {
            "marker": {
             "colorbar": {
              "outlinewidth": 0,
              "ticks": ""
             }
            },
            "type": "scatterternary"
           }
          ],
          "surface": [
           {
            "colorbar": {
             "outlinewidth": 0,
             "ticks": ""
            },
            "colorscale": [
             [
              0,
              "#0d0887"
             ],
             [
              0.1111111111111111,
              "#46039f"
             ],
             [
              0.2222222222222222,
              "#7201a8"
             ],
             [
              0.3333333333333333,
              "#9c179e"
             ],
             [
              0.4444444444444444,
              "#bd3786"
             ],
             [
              0.5555555555555556,
              "#d8576b"
             ],
             [
              0.6666666666666666,
              "#ed7953"
             ],
             [
              0.7777777777777778,
              "#fb9f3a"
             ],
             [
              0.8888888888888888,
              "#fdca26"
             ],
             [
              1,
              "#f0f921"
             ]
            ],
            "type": "surface"
           }
          ],
          "table": [
           {
            "cells": {
             "fill": {
              "color": "#EBF0F8"
             },
             "line": {
              "color": "white"
             }
            },
            "header": {
             "fill": {
              "color": "#C8D4E3"
             },
             "line": {
              "color": "white"
             }
            },
            "type": "table"
           }
          ]
         },
         "layout": {
          "annotationdefaults": {
           "arrowcolor": "#2a3f5f",
           "arrowhead": 0,
           "arrowwidth": 1
          },
          "autotypenumbers": "strict",
          "coloraxis": {
           "colorbar": {
            "outlinewidth": 0,
            "ticks": ""
           }
          },
          "colorscale": {
           "diverging": [
            [
             0,
             "#8e0152"
            ],
            [
             0.1,
             "#c51b7d"
            ],
            [
             0.2,
             "#de77ae"
            ],
            [
             0.3,
             "#f1b6da"
            ],
            [
             0.4,
             "#fde0ef"
            ],
            [
             0.5,
             "#f7f7f7"
            ],
            [
             0.6,
             "#e6f5d0"
            ],
            [
             0.7,
             "#b8e186"
            ],
            [
             0.8,
             "#7fbc41"
            ],
            [
             0.9,
             "#4d9221"
            ],
            [
             1,
             "#276419"
            ]
           ],
           "sequential": [
            [
             0,
             "#0d0887"
            ],
            [
             0.1111111111111111,
             "#46039f"
            ],
            [
             0.2222222222222222,
             "#7201a8"
            ],
            [
             0.3333333333333333,
             "#9c179e"
            ],
            [
             0.4444444444444444,
             "#bd3786"
            ],
            [
             0.5555555555555556,
             "#d8576b"
            ],
            [
             0.6666666666666666,
             "#ed7953"
            ],
            [
             0.7777777777777778,
             "#fb9f3a"
            ],
            [
             0.8888888888888888,
             "#fdca26"
            ],
            [
             1,
             "#f0f921"
            ]
           ],
           "sequentialminus": [
            [
             0,
             "#0d0887"
            ],
            [
             0.1111111111111111,
             "#46039f"
            ],
            [
             0.2222222222222222,
             "#7201a8"
            ],
            [
             0.3333333333333333,
             "#9c179e"
            ],
            [
             0.4444444444444444,
             "#bd3786"
            ],
            [
             0.5555555555555556,
             "#d8576b"
            ],
            [
             0.6666666666666666,
             "#ed7953"
            ],
            [
             0.7777777777777778,
             "#fb9f3a"
            ],
            [
             0.8888888888888888,
             "#fdca26"
            ],
            [
             1,
             "#f0f921"
            ]
           ]
          },
          "colorway": [
           "#636efa",
           "#EF553B",
           "#00cc96",
           "#ab63fa",
           "#FFA15A",
           "#19d3f3",
           "#FF6692",
           "#B6E880",
           "#FF97FF",
           "#FECB52"
          ],
          "font": {
           "color": "#2a3f5f"
          },
          "geo": {
           "bgcolor": "white",
           "lakecolor": "white",
           "landcolor": "#E5ECF6",
           "showlakes": true,
           "showland": true,
           "subunitcolor": "white"
          },
          "hoverlabel": {
           "align": "left"
          },
          "hovermode": "closest",
          "mapbox": {
           "style": "light"
          },
          "paper_bgcolor": "white",
          "plot_bgcolor": "#E5ECF6",
          "polar": {
           "angularaxis": {
            "gridcolor": "white",
            "linecolor": "white",
            "ticks": ""
           },
           "bgcolor": "#E5ECF6",
           "radialaxis": {
            "gridcolor": "white",
            "linecolor": "white",
            "ticks": ""
           }
          },
          "scene": {
           "xaxis": {
            "backgroundcolor": "#E5ECF6",
            "gridcolor": "white",
            "gridwidth": 2,
            "linecolor": "white",
            "showbackground": true,
            "ticks": "",
            "zerolinecolor": "white"
           },
           "yaxis": {
            "backgroundcolor": "#E5ECF6",
            "gridcolor": "white",
            "gridwidth": 2,
            "linecolor": "white",
            "showbackground": true,
            "ticks": "",
            "zerolinecolor": "white"
           },
           "zaxis": {
            "backgroundcolor": "#E5ECF6",
            "gridcolor": "white",
            "gridwidth": 2,
            "linecolor": "white",
            "showbackground": true,
            "ticks": "",
            "zerolinecolor": "white"
           }
          },
          "shapedefaults": {
           "line": {
            "color": "#2a3f5f"
           }
          },
          "ternary": {
           "aaxis": {
            "gridcolor": "white",
            "linecolor": "white",
            "ticks": ""
           },
           "baxis": {
            "gridcolor": "white",
            "linecolor": "white",
            "ticks": ""
           },
           "bgcolor": "#E5ECF6",
           "caxis": {
            "gridcolor": "white",
            "linecolor": "white",
            "ticks": ""
           }
          },
          "title": {
           "x": 0.05
          },
          "xaxis": {
           "automargin": true,
           "gridcolor": "white",
           "linecolor": "white",
           "ticks": "",
           "title": {
            "standoff": 15
           },
           "zerolinecolor": "white",
           "zerolinewidth": 2
          },
          "yaxis": {
           "automargin": true,
           "gridcolor": "white",
           "linecolor": "white",
           "ticks": "",
           "title": {
            "standoff": 15
           },
           "zerolinecolor": "white",
           "zerolinewidth": 2
          }
         }
        },
        "title": {
         "text": "Comparison of Mean and Median Aggregations by Week"
        },
        "xaxis": {
         "title": {
          "text": "Day of Week"
         }
        },
        "yaxis": {
         "title": {
          "text": "Count"
         }
        }
       }
      }
     },
     "metadata": {},
     "output_type": "display_data"
    }
   ],
   "source": [
    "# Create a new figure\n",
    "fig = go.Figure()\n",
    "\n",
    "# Add a trace for day_mean_df's centered_car_count\n",
    "fig.add_trace(go.Scatter(x=week_mean_df['day_of_week'], \n",
    "                         y=week_mean_df['centered_car_count'], \n",
    "                         mode='markers+lines', \n",
    "                         name='Mean Centered Car Count'))\n",
    "\n",
    "\n",
    "# Add a trace for day_med_df's centered_car_count\n",
    "fig.add_trace(go.Scatter(x=week_med_df['day_of_week'], \n",
    "                         y=week_med_df['centered_car_count'], \n",
    "                         mode='markers+lines', \n",
    "                         name='Median Centered Car Count'))\n",
    "\n",
    "# Update layout for better visualization\n",
    "fig.update_layout(title='Comparison of Mean and Median Aggregations by Week',\n",
    "                  xaxis_title='Day of Week',\n",
    "                  yaxis_title='Count',\n",
    "                  legend_title='Aggregations')\n",
    "\n",
    "fig.show()"
   ]
  },
  {
   "cell_type": "code",
   "execution_count": 65,
   "metadata": {},
   "outputs": [
    {
     "data": {
      "application/vnd.plotly.v1+json": {
       "config": {
        "plotlyServerURL": "https://plot.ly"
       },
       "data": [
        {
         "mode": "markers+lines",
         "name": "Hourly Mean Centered Car Count",
         "type": "scatter",
         "x": [
          0,
          1,
          2,
          3,
          4,
          5,
          6,
          7,
          8,
          9,
          10,
          11,
          12,
          13,
          14,
          15,
          16,
          17,
          18,
          19,
          20,
          21,
          22,
          23
         ],
         "y": [
          -7.125434971726837,
          -7.171487603305785,
          -7.641725698543881,
          -5.783329708568942,
          -2.768709825528007,
          -1.6140551708733524,
          -1.7221632789814605,
          -2.678066550674206,
          0.4940529372347557,
          3.7096099576698247,
          4.453512396694215,
          6.325605419950029,
          3.269301870378426,
          6.334464777646596,
          6.157594029347277,
          6.348861233903517,
          4.544421487603306,
          5.0998538601088494,
          3.0535123966942153,
          1.1785123966942153,
          -1.5464876033057848,
          -3.5342924813545653,
          -5.441836440515087,
          -7.493856024358416
         ]
        },
        {
         "mode": "markers+lines",
         "name": "Hourly Median Centered Car Count",
         "type": "scatter",
         "x": [
          0,
          1,
          2,
          3,
          4,
          5,
          6,
          7,
          8,
          9,
          10,
          11,
          12,
          13,
          14,
          15,
          16,
          17,
          18,
          19,
          20,
          21,
          22,
          23
         ],
         "y": [
          -7.046487603305785,
          -7.546487603305785,
          -9.046487603305785,
          -7.046487603305785,
          -5.046487603305785,
          -1.0464876033057848,
          -1.0464876033057848,
          -5.046487603305785,
          1.9535123966942152,
          5.953512396694215,
          7.453512396694215,
          10.953512396694215,
          4.953512396694215,
          11.453512396694215,
          10.953512396694215,
          8.953512396694215,
          7.453512396694215,
          7.953512396694215,
          3.453512396694215,
          -1.5464876033057848,
          -4.546487603305785,
          -4.046487603305785,
          -5.046487603305785,
          -8.046487603305785
         ]
        },
        {
         "mode": "markers+lines",
         "name": "Day of month Mean Centered Car Count",
         "type": "scatter",
         "x": [
          2,
          3,
          4,
          5,
          6,
          7,
          8,
          9,
          10,
          11,
          12,
          13,
          14,
          17,
          18,
          19,
          20,
          24,
          25,
          26
         ],
         "y": [
          -9.955578512396693,
          -11.796487603305785,
          -11.442320936639119,
          -11.129820936639119,
          -8.070297127115309,
          4.806453573164803,
          6.660034135824651,
          1.7567910852188051,
          3.453512396694215,
          0.7270973023545926,
          6.40805785123967,
          -3.3443599437313165,
          -2.773760330578512,
          13.064623507805326,
          1.8381277813095998,
          10.286845730027549,
          10.180785123966944,
          -3.268709825528007,
          -1.981270212001437,
          6.720954257159332
         ]
        },
        {
         "mode": "markers+lines",
         "name": "Day of month Median Centered Car Count",
         "type": "scatter",
         "x": [
          2,
          3,
          4,
          5,
          6,
          7,
          8,
          9,
          10,
          11,
          12,
          13,
          14,
          17,
          18,
          19,
          20,
          24,
          25,
          26
         ],
         "y": [
          -11.046487603305785,
          -12.046487603305785,
          -12.046487603305785,
          -11.046487603305785,
          -8.046487603305785,
          4.953512396694215,
          8.453512396694215,
          -2.046487603305785,
          1.9535123966942152,
          -1.0464876033057848,
          2.953512396694215,
          -6.546487603305785,
          -8.046487603305785,
          17.453512396694215,
          0.9535123966942152,
          13.453512396694215,
          13.453512396694215,
          -4.546487603305785,
          -2.046487603305785,
          7.953512396694215
         ]
        },
        {
         "mode": "markers+lines",
         "name": "Week Mean Centered Car Count",
         "type": "scatter",
         "x": [
          0,
          1,
          2,
          3,
          4,
          5,
          6
         ],
         "y": [
          3.791747690811862,
          6.775430204913394,
          2.4882346189164375,
          1.230108141375066,
          -10.117916174734356,
          -3.478305785123967,
          -4.3680956435067895
         ]
        },
        {
         "mode": "markers+lines",
         "name": "Week Median Centered Car Count",
         "type": "scatter",
         "x": [
          0,
          1,
          2,
          3,
          4,
          5,
          6
         ],
         "y": [
          4.453512396694215,
          8.953512396694215,
          1.9535123966942152,
          -2.046487603305785,
          -11.046487603305785,
          -7.046487603305785,
          -5.046487603305785
         ]
        }
       ],
       "layout": {
        "legend": {
         "title": {
          "text": "Aggregations"
         }
        },
        "template": {
         "data": {
          "bar": [
           {
            "error_x": {
             "color": "#2a3f5f"
            },
            "error_y": {
             "color": "#2a3f5f"
            },
            "marker": {
             "line": {
              "color": "#E5ECF6",
              "width": 0.5
             },
             "pattern": {
              "fillmode": "overlay",
              "size": 10,
              "solidity": 0.2
             }
            },
            "type": "bar"
           }
          ],
          "barpolar": [
           {
            "marker": {
             "line": {
              "color": "#E5ECF6",
              "width": 0.5
             },
             "pattern": {
              "fillmode": "overlay",
              "size": 10,
              "solidity": 0.2
             }
            },
            "type": "barpolar"
           }
          ],
          "carpet": [
           {
            "aaxis": {
             "endlinecolor": "#2a3f5f",
             "gridcolor": "white",
             "linecolor": "white",
             "minorgridcolor": "white",
             "startlinecolor": "#2a3f5f"
            },
            "baxis": {
             "endlinecolor": "#2a3f5f",
             "gridcolor": "white",
             "linecolor": "white",
             "minorgridcolor": "white",
             "startlinecolor": "#2a3f5f"
            },
            "type": "carpet"
           }
          ],
          "choropleth": [
           {
            "colorbar": {
             "outlinewidth": 0,
             "ticks": ""
            },
            "type": "choropleth"
           }
          ],
          "contour": [
           {
            "colorbar": {
             "outlinewidth": 0,
             "ticks": ""
            },
            "colorscale": [
             [
              0,
              "#0d0887"
             ],
             [
              0.1111111111111111,
              "#46039f"
             ],
             [
              0.2222222222222222,
              "#7201a8"
             ],
             [
              0.3333333333333333,
              "#9c179e"
             ],
             [
              0.4444444444444444,
              "#bd3786"
             ],
             [
              0.5555555555555556,
              "#d8576b"
             ],
             [
              0.6666666666666666,
              "#ed7953"
             ],
             [
              0.7777777777777778,
              "#fb9f3a"
             ],
             [
              0.8888888888888888,
              "#fdca26"
             ],
             [
              1,
              "#f0f921"
             ]
            ],
            "type": "contour"
           }
          ],
          "contourcarpet": [
           {
            "colorbar": {
             "outlinewidth": 0,
             "ticks": ""
            },
            "type": "contourcarpet"
           }
          ],
          "heatmap": [
           {
            "colorbar": {
             "outlinewidth": 0,
             "ticks": ""
            },
            "colorscale": [
             [
              0,
              "#0d0887"
             ],
             [
              0.1111111111111111,
              "#46039f"
             ],
             [
              0.2222222222222222,
              "#7201a8"
             ],
             [
              0.3333333333333333,
              "#9c179e"
             ],
             [
              0.4444444444444444,
              "#bd3786"
             ],
             [
              0.5555555555555556,
              "#d8576b"
             ],
             [
              0.6666666666666666,
              "#ed7953"
             ],
             [
              0.7777777777777778,
              "#fb9f3a"
             ],
             [
              0.8888888888888888,
              "#fdca26"
             ],
             [
              1,
              "#f0f921"
             ]
            ],
            "type": "heatmap"
           }
          ],
          "heatmapgl": [
           {
            "colorbar": {
             "outlinewidth": 0,
             "ticks": ""
            },
            "colorscale": [
             [
              0,
              "#0d0887"
             ],
             [
              0.1111111111111111,
              "#46039f"
             ],
             [
              0.2222222222222222,
              "#7201a8"
             ],
             [
              0.3333333333333333,
              "#9c179e"
             ],
             [
              0.4444444444444444,
              "#bd3786"
             ],
             [
              0.5555555555555556,
              "#d8576b"
             ],
             [
              0.6666666666666666,
              "#ed7953"
             ],
             [
              0.7777777777777778,
              "#fb9f3a"
             ],
             [
              0.8888888888888888,
              "#fdca26"
             ],
             [
              1,
              "#f0f921"
             ]
            ],
            "type": "heatmapgl"
           }
          ],
          "histogram": [
           {
            "marker": {
             "pattern": {
              "fillmode": "overlay",
              "size": 10,
              "solidity": 0.2
             }
            },
            "type": "histogram"
           }
          ],
          "histogram2d": [
           {
            "colorbar": {
             "outlinewidth": 0,
             "ticks": ""
            },
            "colorscale": [
             [
              0,
              "#0d0887"
             ],
             [
              0.1111111111111111,
              "#46039f"
             ],
             [
              0.2222222222222222,
              "#7201a8"
             ],
             [
              0.3333333333333333,
              "#9c179e"
             ],
             [
              0.4444444444444444,
              "#bd3786"
             ],
             [
              0.5555555555555556,
              "#d8576b"
             ],
             [
              0.6666666666666666,
              "#ed7953"
             ],
             [
              0.7777777777777778,
              "#fb9f3a"
             ],
             [
              0.8888888888888888,
              "#fdca26"
             ],
             [
              1,
              "#f0f921"
             ]
            ],
            "type": "histogram2d"
           }
          ],
          "histogram2dcontour": [
           {
            "colorbar": {
             "outlinewidth": 0,
             "ticks": ""
            },
            "colorscale": [
             [
              0,
              "#0d0887"
             ],
             [
              0.1111111111111111,
              "#46039f"
             ],
             [
              0.2222222222222222,
              "#7201a8"
             ],
             [
              0.3333333333333333,
              "#9c179e"
             ],
             [
              0.4444444444444444,
              "#bd3786"
             ],
             [
              0.5555555555555556,
              "#d8576b"
             ],
             [
              0.6666666666666666,
              "#ed7953"
             ],
             [
              0.7777777777777778,
              "#fb9f3a"
             ],
             [
              0.8888888888888888,
              "#fdca26"
             ],
             [
              1,
              "#f0f921"
             ]
            ],
            "type": "histogram2dcontour"
           }
          ],
          "mesh3d": [
           {
            "colorbar": {
             "outlinewidth": 0,
             "ticks": ""
            },
            "type": "mesh3d"
           }
          ],
          "parcoords": [
           {
            "line": {
             "colorbar": {
              "outlinewidth": 0,
              "ticks": ""
             }
            },
            "type": "parcoords"
           }
          ],
          "pie": [
           {
            "automargin": true,
            "type": "pie"
           }
          ],
          "scatter": [
           {
            "fillpattern": {
             "fillmode": "overlay",
             "size": 10,
             "solidity": 0.2
            },
            "type": "scatter"
           }
          ],
          "scatter3d": [
           {
            "line": {
             "colorbar": {
              "outlinewidth": 0,
              "ticks": ""
             }
            },
            "marker": {
             "colorbar": {
              "outlinewidth": 0,
              "ticks": ""
             }
            },
            "type": "scatter3d"
           }
          ],
          "scattercarpet": [
           {
            "marker": {
             "colorbar": {
              "outlinewidth": 0,
              "ticks": ""
             }
            },
            "type": "scattercarpet"
           }
          ],
          "scattergeo": [
           {
            "marker": {
             "colorbar": {
              "outlinewidth": 0,
              "ticks": ""
             }
            },
            "type": "scattergeo"
           }
          ],
          "scattergl": [
           {
            "marker": {
             "colorbar": {
              "outlinewidth": 0,
              "ticks": ""
             }
            },
            "type": "scattergl"
           }
          ],
          "scattermapbox": [
           {
            "marker": {
             "colorbar": {
              "outlinewidth": 0,
              "ticks": ""
             }
            },
            "type": "scattermapbox"
           }
          ],
          "scatterpolar": [
           {
            "marker": {
             "colorbar": {
              "outlinewidth": 0,
              "ticks": ""
             }
            },
            "type": "scatterpolar"
           }
          ],
          "scatterpolargl": [
           {
            "marker": {
             "colorbar": {
              "outlinewidth": 0,
              "ticks": ""
             }
            },
            "type": "scatterpolargl"
           }
          ],
          "scatterternary": [
           {
            "marker": {
             "colorbar": {
              "outlinewidth": 0,
              "ticks": ""
             }
            },
            "type": "scatterternary"
           }
          ],
          "surface": [
           {
            "colorbar": {
             "outlinewidth": 0,
             "ticks": ""
            },
            "colorscale": [
             [
              0,
              "#0d0887"
             ],
             [
              0.1111111111111111,
              "#46039f"
             ],
             [
              0.2222222222222222,
              "#7201a8"
             ],
             [
              0.3333333333333333,
              "#9c179e"
             ],
             [
              0.4444444444444444,
              "#bd3786"
             ],
             [
              0.5555555555555556,
              "#d8576b"
             ],
             [
              0.6666666666666666,
              "#ed7953"
             ],
             [
              0.7777777777777778,
              "#fb9f3a"
             ],
             [
              0.8888888888888888,
              "#fdca26"
             ],
             [
              1,
              "#f0f921"
             ]
            ],
            "type": "surface"
           }
          ],
          "table": [
           {
            "cells": {
             "fill": {
              "color": "#EBF0F8"
             },
             "line": {
              "color": "white"
             }
            },
            "header": {
             "fill": {
              "color": "#C8D4E3"
             },
             "line": {
              "color": "white"
             }
            },
            "type": "table"
           }
          ]
         },
         "layout": {
          "annotationdefaults": {
           "arrowcolor": "#2a3f5f",
           "arrowhead": 0,
           "arrowwidth": 1
          },
          "autotypenumbers": "strict",
          "coloraxis": {
           "colorbar": {
            "outlinewidth": 0,
            "ticks": ""
           }
          },
          "colorscale": {
           "diverging": [
            [
             0,
             "#8e0152"
            ],
            [
             0.1,
             "#c51b7d"
            ],
            [
             0.2,
             "#de77ae"
            ],
            [
             0.3,
             "#f1b6da"
            ],
            [
             0.4,
             "#fde0ef"
            ],
            [
             0.5,
             "#f7f7f7"
            ],
            [
             0.6,
             "#e6f5d0"
            ],
            [
             0.7,
             "#b8e186"
            ],
            [
             0.8,
             "#7fbc41"
            ],
            [
             0.9,
             "#4d9221"
            ],
            [
             1,
             "#276419"
            ]
           ],
           "sequential": [
            [
             0,
             "#0d0887"
            ],
            [
             0.1111111111111111,
             "#46039f"
            ],
            [
             0.2222222222222222,
             "#7201a8"
            ],
            [
             0.3333333333333333,
             "#9c179e"
            ],
            [
             0.4444444444444444,
             "#bd3786"
            ],
            [
             0.5555555555555556,
             "#d8576b"
            ],
            [
             0.6666666666666666,
             "#ed7953"
            ],
            [
             0.7777777777777778,
             "#fb9f3a"
            ],
            [
             0.8888888888888888,
             "#fdca26"
            ],
            [
             1,
             "#f0f921"
            ]
           ],
           "sequentialminus": [
            [
             0,
             "#0d0887"
            ],
            [
             0.1111111111111111,
             "#46039f"
            ],
            [
             0.2222222222222222,
             "#7201a8"
            ],
            [
             0.3333333333333333,
             "#9c179e"
            ],
            [
             0.4444444444444444,
             "#bd3786"
            ],
            [
             0.5555555555555556,
             "#d8576b"
            ],
            [
             0.6666666666666666,
             "#ed7953"
            ],
            [
             0.7777777777777778,
             "#fb9f3a"
            ],
            [
             0.8888888888888888,
             "#fdca26"
            ],
            [
             1,
             "#f0f921"
            ]
           ]
          },
          "colorway": [
           "#636efa",
           "#EF553B",
           "#00cc96",
           "#ab63fa",
           "#FFA15A",
           "#19d3f3",
           "#FF6692",
           "#B6E880",
           "#FF97FF",
           "#FECB52"
          ],
          "font": {
           "color": "#2a3f5f"
          },
          "geo": {
           "bgcolor": "white",
           "lakecolor": "white",
           "landcolor": "#E5ECF6",
           "showlakes": true,
           "showland": true,
           "subunitcolor": "white"
          },
          "hoverlabel": {
           "align": "left"
          },
          "hovermode": "closest",
          "mapbox": {
           "style": "light"
          },
          "paper_bgcolor": "white",
          "plot_bgcolor": "#E5ECF6",
          "polar": {
           "angularaxis": {
            "gridcolor": "white",
            "linecolor": "white",
            "ticks": ""
           },
           "bgcolor": "#E5ECF6",
           "radialaxis": {
            "gridcolor": "white",
            "linecolor": "white",
            "ticks": ""
           }
          },
          "scene": {
           "xaxis": {
            "backgroundcolor": "#E5ECF6",
            "gridcolor": "white",
            "gridwidth": 2,
            "linecolor": "white",
            "showbackground": true,
            "ticks": "",
            "zerolinecolor": "white"
           },
           "yaxis": {
            "backgroundcolor": "#E5ECF6",
            "gridcolor": "white",
            "gridwidth": 2,
            "linecolor": "white",
            "showbackground": true,
            "ticks": "",
            "zerolinecolor": "white"
           },
           "zaxis": {
            "backgroundcolor": "#E5ECF6",
            "gridcolor": "white",
            "gridwidth": 2,
            "linecolor": "white",
            "showbackground": true,
            "ticks": "",
            "zerolinecolor": "white"
           }
          },
          "shapedefaults": {
           "line": {
            "color": "#2a3f5f"
           }
          },
          "ternary": {
           "aaxis": {
            "gridcolor": "white",
            "linecolor": "white",
            "ticks": ""
           },
           "baxis": {
            "gridcolor": "white",
            "linecolor": "white",
            "ticks": ""
           },
           "bgcolor": "#E5ECF6",
           "caxis": {
            "gridcolor": "white",
            "linecolor": "white",
            "ticks": ""
           }
          },
          "title": {
           "x": 0.05
          },
          "xaxis": {
           "automargin": true,
           "gridcolor": "white",
           "linecolor": "white",
           "ticks": "",
           "title": {
            "standoff": 15
           },
           "zerolinecolor": "white",
           "zerolinewidth": 2
          },
          "yaxis": {
           "automargin": true,
           "gridcolor": "white",
           "linecolor": "white",
           "ticks": "",
           "title": {
            "standoff": 15
           },
           "zerolinecolor": "white",
           "zerolinewidth": 2
          }
         }
        },
        "title": {
         "text": "Comparison of Mean and Median Aggregations by Week"
        },
        "xaxis": {
         "title": {
          "text": "Days of Month"
         }
        },
        "yaxis": {
         "title": {
          "text": "Count"
         }
        }
       }
      }
     },
     "metadata": {},
     "output_type": "display_data"
    }
   ],
   "source": [
    "\n",
    "# Create a new figure\n",
    "fig = go.Figure()\n",
    "\n",
    "# Add a trace for day_mean_df's centered_car_count\n",
    "fig.add_trace(go.Scatter(x=day_mean_df['hour_of_day'], \n",
    "                         y=day_mean_df['centered_car_count'], \n",
    "                         mode='markers+lines', \n",
    "                         name='Hourly Mean Centered Car Count'))\n",
    "\n",
    "\n",
    "\n",
    "# Add a trace for day_med_df's centered_car_count\n",
    "fig.add_trace(go.Scatter(x=day_med_df['hour_of_day'], \n",
    "                         y=day_med_df['centered_car_count'], \n",
    "                         mode='markers+lines', \n",
    "                         name='Hourly Median Centered Car Count'))\n",
    "\n",
    "\n",
    "# Add a trace for day_mean_df's centered_car_count\n",
    "fig.add_trace(go.Scatter(x=month_mean_df['day'], \n",
    "                         y=month_mean_df['centered_car_count'], \n",
    "                         mode='markers+lines', \n",
    "                         name='Day of month Mean Centered Car Count'))\n",
    "\n",
    "\n",
    "# Add a trace for day_med_df's centered_car_count\n",
    "fig.add_trace(go.Scatter(x=month_med_df['day'], \n",
    "                         y=month_med_df['centered_car_count'], \n",
    "                         mode='markers+lines', \n",
    "                         name='Day of month Median Centered Car Count'))\n",
    "\n",
    "\n",
    "# Add a trace for day_mean_df's centered_car_count\n",
    "fig.add_trace(go.Scatter(x=week_mean_df['day_of_week'], \n",
    "                         y=week_mean_df['centered_car_count'], \n",
    "                         mode='markers+lines', \n",
    "                         name='Week Mean Centered Car Count'))\n",
    "\n",
    "\n",
    "# Add a trace for day_med_df's centered_car_count\n",
    "fig.add_trace(go.Scatter(x=week_med_df['day_of_week'], \n",
    "                         y=week_med_df['centered_car_count'], \n",
    "                         mode='markers+lines', \n",
    "                         name='Week Median Centered Car Count'))\n",
    "\n",
    "# Update layout for better visualization\n",
    "fig.update_layout(title='Comparison of Mean and Median Aggregations by Week',\n",
    "                  xaxis_title='Days of Month',\n",
    "                  yaxis_title='Count',\n",
    "                  legend_title='Aggregations')\n",
    "\n",
    "fig.show()"
   ]
  },
  {
   "cell_type": "code",
   "execution_count": 67,
   "metadata": {},
   "outputs": [
    {
     "data": {
      "text/html": [
       "<div>\n",
       "<style scoped>\n",
       "    .dataframe tbody tr th:only-of-type {\n",
       "        vertical-align: middle;\n",
       "    }\n",
       "\n",
       "    .dataframe tbody tr th {\n",
       "        vertical-align: top;\n",
       "    }\n",
       "\n",
       "    .dataframe thead th {\n",
       "        text-align: right;\n",
       "    }\n",
       "</style>\n",
       "<table border=\"1\" class=\"dataframe\">\n",
       "  <thead>\n",
       "    <tr style=\"text-align: right;\">\n",
       "      <th></th>\n",
       "      <th>day_of_week</th>\n",
       "      <th>centered_car_count</th>\n",
       "    </tr>\n",
       "  </thead>\n",
       "  <tbody>\n",
       "    <tr>\n",
       "      <th>0</th>\n",
       "      <td>0</td>\n",
       "      <td>3.791748</td>\n",
       "    </tr>\n",
       "    <tr>\n",
       "      <th>1</th>\n",
       "      <td>1</td>\n",
       "      <td>6.775430</td>\n",
       "    </tr>\n",
       "    <tr>\n",
       "      <th>2</th>\n",
       "      <td>2</td>\n",
       "      <td>2.488235</td>\n",
       "    </tr>\n",
       "    <tr>\n",
       "      <th>3</th>\n",
       "      <td>3</td>\n",
       "      <td>1.230108</td>\n",
       "    </tr>\n",
       "    <tr>\n",
       "      <th>4</th>\n",
       "      <td>4</td>\n",
       "      <td>-10.117916</td>\n",
       "    </tr>\n",
       "    <tr>\n",
       "      <th>5</th>\n",
       "      <td>5</td>\n",
       "      <td>-3.478306</td>\n",
       "    </tr>\n",
       "    <tr>\n",
       "      <th>6</th>\n",
       "      <td>6</td>\n",
       "      <td>-4.368096</td>\n",
       "    </tr>\n",
       "  </tbody>\n",
       "</table>\n",
       "</div>"
      ],
      "text/plain": [
       "   day_of_week  centered_car_count\n",
       "0            0            3.791748\n",
       "1            1            6.775430\n",
       "2            2            2.488235\n",
       "3            3            1.230108\n",
       "4            4          -10.117916\n",
       "5            5           -3.478306\n",
       "6            6           -4.368096"
      ]
     },
     "execution_count": 67,
     "metadata": {},
     "output_type": "execute_result"
    }
   ],
   "source": [
    "week_mean_df"
   ]
  },
  {
   "cell_type": "code",
   "execution_count": 66,
   "metadata": {},
   "outputs": [
    {
     "ename": "KeyError",
     "evalue": "'day_of_week_name'",
     "output_type": "error",
     "traceback": [
      "\u001b[0;31m---------------------------------------------------------------------------\u001b[0m",
      "\u001b[0;31mKeyError\u001b[0m                                  Traceback (most recent call last)",
      "File \u001b[0;32m~/usr_sa/anaconda3/envs/prkng_v2_env/lib/python3.11/site-packages/pandas/core/indexes/base.py:3653\u001b[0m, in \u001b[0;36mIndex.get_loc\u001b[0;34m(self, key)\u001b[0m\n\u001b[1;32m   3652\u001b[0m \u001b[38;5;28;01mtry\u001b[39;00m:\n\u001b[0;32m-> 3653\u001b[0m     \u001b[38;5;28;01mreturn\u001b[39;00m \u001b[38;5;28mself\u001b[39m\u001b[38;5;241m.\u001b[39m_engine\u001b[38;5;241m.\u001b[39mget_loc(casted_key)\n\u001b[1;32m   3654\u001b[0m \u001b[38;5;28;01mexcept\u001b[39;00m \u001b[38;5;167;01mKeyError\u001b[39;00m \u001b[38;5;28;01mas\u001b[39;00m err:\n",
      "File \u001b[0;32m~/usr_sa/anaconda3/envs/prkng_v2_env/lib/python3.11/site-packages/pandas/_libs/index.pyx:147\u001b[0m, in \u001b[0;36mpandas._libs.index.IndexEngine.get_loc\u001b[0;34m()\u001b[0m\n",
      "File \u001b[0;32m~/usr_sa/anaconda3/envs/prkng_v2_env/lib/python3.11/site-packages/pandas/_libs/index.pyx:176\u001b[0m, in \u001b[0;36mpandas._libs.index.IndexEngine.get_loc\u001b[0;34m()\u001b[0m\n",
      "File \u001b[0;32mpandas/_libs/hashtable_class_helper.pxi:7080\u001b[0m, in \u001b[0;36mpandas._libs.hashtable.PyObjectHashTable.get_item\u001b[0;34m()\u001b[0m\n",
      "File \u001b[0;32mpandas/_libs/hashtable_class_helper.pxi:7088\u001b[0m, in \u001b[0;36mpandas._libs.hashtable.PyObjectHashTable.get_item\u001b[0;34m()\u001b[0m\n",
      "\u001b[0;31mKeyError\u001b[0m: 'day_of_week_name'",
      "\nThe above exception was the direct cause of the following exception:\n",
      "\u001b[0;31mKeyError\u001b[0m                                  Traceback (most recent call last)",
      "Cell \u001b[0;32mIn[66], line 53\u001b[0m\n\u001b[1;32m     44\u001b[0m \u001b[38;5;66;03m# Weekly aggregation\u001b[39;00m\n\u001b[1;32m     45\u001b[0m fig\u001b[38;5;241m.\u001b[39madd_trace(go\u001b[38;5;241m.\u001b[39mScatter(x\u001b[38;5;241m=\u001b[39mweek_mean_df[\u001b[38;5;124m'\u001b[39m\u001b[38;5;124mday_of_week\u001b[39m\u001b[38;5;124m'\u001b[39m], \n\u001b[1;32m     46\u001b[0m                          y\u001b[38;5;241m=\u001b[39mweek_mean_df[\u001b[38;5;124m'\u001b[39m\u001b[38;5;124mcentered_car_count\u001b[39m\u001b[38;5;124m'\u001b[39m], \n\u001b[1;32m     47\u001b[0m                          mode\u001b[38;5;241m=\u001b[39m\u001b[38;5;124m'\u001b[39m\u001b[38;5;124mlines\u001b[39m\u001b[38;5;124m'\u001b[39m,\n\u001b[0;32m   (...)\u001b[0m\n\u001b[1;32m     50\u001b[0m                           showlegend\u001b[38;5;241m=\u001b[39m \u001b[38;5;28;01mFalse\u001b[39;00m,\n\u001b[1;32m     51\u001b[0m                          line\u001b[38;5;241m=\u001b[39m\u001b[38;5;28mdict\u001b[39m(color\u001b[38;5;241m=\u001b[39mcolor_mean)), row\u001b[38;5;241m=\u001b[39m\u001b[38;5;241m3\u001b[39m, col\u001b[38;5;241m=\u001b[39m\u001b[38;5;241m1\u001b[39m)\n\u001b[0;32m---> 53\u001b[0m fig\u001b[38;5;241m.\u001b[39madd_trace(go\u001b[38;5;241m.\u001b[39mScatter(x\u001b[38;5;241m=\u001b[39mweek_med_df[\u001b[38;5;124m'\u001b[39m\u001b[38;5;124mday_of_week_name\u001b[39m\u001b[38;5;124m'\u001b[39m], \n\u001b[1;32m     54\u001b[0m                          y\u001b[38;5;241m=\u001b[39mweek_med_df[\u001b[38;5;124m'\u001b[39m\u001b[38;5;124mcentered_car_count\u001b[39m\u001b[38;5;124m'\u001b[39m], \n\u001b[1;32m     55\u001b[0m                          mode\u001b[38;5;241m=\u001b[39m\u001b[38;5;124m'\u001b[39m\u001b[38;5;124mlines\u001b[39m\u001b[38;5;124m'\u001b[39m, \n\u001b[1;32m     56\u001b[0m                          legendgroup\u001b[38;5;241m=\u001b[39m\u001b[38;5;124m\"\u001b[39m\u001b[38;5;124mmedian\u001b[39m\u001b[38;5;124m\"\u001b[39m,\n\u001b[1;32m     57\u001b[0m                          name\u001b[38;5;241m=\u001b[39m\u001b[38;5;124m'\u001b[39m\u001b[38;5;124mWeek Median\u001b[39m\u001b[38;5;124m'\u001b[39m,\n\u001b[1;32m     58\u001b[0m                           showlegend\u001b[38;5;241m=\u001b[39m \u001b[38;5;28;01mFalse\u001b[39;00m,\n\u001b[1;32m     59\u001b[0m                          line\u001b[38;5;241m=\u001b[39m\u001b[38;5;28mdict\u001b[39m(color\u001b[38;5;241m=\u001b[39mcolor_median, dash\u001b[38;5;241m=\u001b[39m\u001b[38;5;124m'\u001b[39m\u001b[38;5;124mdash\u001b[39m\u001b[38;5;124m'\u001b[39m)), row\u001b[38;5;241m=\u001b[39m\u001b[38;5;241m3\u001b[39m, col\u001b[38;5;241m=\u001b[39m\u001b[38;5;241m1\u001b[39m)\n\u001b[1;32m     61\u001b[0m \u001b[38;5;66;03m# Labeling x-axes for each subplot\u001b[39;00m\n\u001b[1;32m     62\u001b[0m fig\u001b[38;5;241m.\u001b[39mupdate_xaxes(title_text\u001b[38;5;241m=\u001b[39m\u001b[38;5;124m\"\u001b[39m\u001b[38;5;124mHours of Day\u001b[39m\u001b[38;5;124m\"\u001b[39m, row\u001b[38;5;241m=\u001b[39m\u001b[38;5;241m1\u001b[39m, col\u001b[38;5;241m=\u001b[39m\u001b[38;5;241m1\u001b[39m)\n",
      "File \u001b[0;32m~/usr_sa/anaconda3/envs/prkng_v2_env/lib/python3.11/site-packages/pandas/core/frame.py:3761\u001b[0m, in \u001b[0;36mDataFrame.__getitem__\u001b[0;34m(self, key)\u001b[0m\n\u001b[1;32m   3759\u001b[0m \u001b[38;5;28;01mif\u001b[39;00m \u001b[38;5;28mself\u001b[39m\u001b[38;5;241m.\u001b[39mcolumns\u001b[38;5;241m.\u001b[39mnlevels \u001b[38;5;241m>\u001b[39m \u001b[38;5;241m1\u001b[39m:\n\u001b[1;32m   3760\u001b[0m     \u001b[38;5;28;01mreturn\u001b[39;00m \u001b[38;5;28mself\u001b[39m\u001b[38;5;241m.\u001b[39m_getitem_multilevel(key)\n\u001b[0;32m-> 3761\u001b[0m indexer \u001b[38;5;241m=\u001b[39m \u001b[38;5;28mself\u001b[39m\u001b[38;5;241m.\u001b[39mcolumns\u001b[38;5;241m.\u001b[39mget_loc(key)\n\u001b[1;32m   3762\u001b[0m \u001b[38;5;28;01mif\u001b[39;00m is_integer(indexer):\n\u001b[1;32m   3763\u001b[0m     indexer \u001b[38;5;241m=\u001b[39m [indexer]\n",
      "File \u001b[0;32m~/usr_sa/anaconda3/envs/prkng_v2_env/lib/python3.11/site-packages/pandas/core/indexes/base.py:3655\u001b[0m, in \u001b[0;36mIndex.get_loc\u001b[0;34m(self, key)\u001b[0m\n\u001b[1;32m   3653\u001b[0m     \u001b[38;5;28;01mreturn\u001b[39;00m \u001b[38;5;28mself\u001b[39m\u001b[38;5;241m.\u001b[39m_engine\u001b[38;5;241m.\u001b[39mget_loc(casted_key)\n\u001b[1;32m   3654\u001b[0m \u001b[38;5;28;01mexcept\u001b[39;00m \u001b[38;5;167;01mKeyError\u001b[39;00m \u001b[38;5;28;01mas\u001b[39;00m err:\n\u001b[0;32m-> 3655\u001b[0m     \u001b[38;5;28;01mraise\u001b[39;00m \u001b[38;5;167;01mKeyError\u001b[39;00m(key) \u001b[38;5;28;01mfrom\u001b[39;00m \u001b[38;5;21;01merr\u001b[39;00m\n\u001b[1;32m   3656\u001b[0m \u001b[38;5;28;01mexcept\u001b[39;00m \u001b[38;5;167;01mTypeError\u001b[39;00m:\n\u001b[1;32m   3657\u001b[0m     \u001b[38;5;66;03m# If we have a listlike key, _check_indexing_error will raise\u001b[39;00m\n\u001b[1;32m   3658\u001b[0m     \u001b[38;5;66;03m#  InvalidIndexError. Otherwise we fall through and re-raise\u001b[39;00m\n\u001b[1;32m   3659\u001b[0m     \u001b[38;5;66;03m#  the TypeError.\u001b[39;00m\n\u001b[1;32m   3660\u001b[0m     \u001b[38;5;28mself\u001b[39m\u001b[38;5;241m.\u001b[39m_check_indexing_error(key)\n",
      "\u001b[0;31mKeyError\u001b[0m: 'day_of_week_name'"
     ]
    }
   ],
   "source": [
    "from plotly.subplots import make_subplots\n",
    "\n",
    "# Create a 3-row subplot figure\n",
    "fig = make_subplots(rows=3, cols=1, \n",
    "                    subplot_titles=('Hourly Aggregation', 'Daily Aggregation', 'Weekly Aggregation'),\n",
    "                    vertical_spacing=0.1)\n",
    "\n",
    "# Define colors for consistency\n",
    "color_mean = 'blue'\n",
    "color_median = 'red'\n",
    "\n",
    "# Hourly aggregation\n",
    "fig.add_trace(go.Scatter(x=day_mean_df['hour_of_day'], \n",
    "                         y=day_mean_df['centered_car_count'], \n",
    "                         mode='lines', \n",
    "                         name=' Mean',\n",
    "                         legendgroup= 'mean',\n",
    "                         line=dict(color=color_mean)), row=1, col=1)\n",
    "\n",
    "fig.add_trace(go.Scatter(x=day_med_df['hour_of_day'], \n",
    "                         y=day_med_df['centered_car_count'], \n",
    "                         mode='lines',\n",
    "                         legendgroup=\"median\" ,\n",
    "                         name='Median',\n",
    "                         line=dict(color=color_median, dash='dash')), row=1, col=1)\n",
    "\n",
    "# Daily aggregation\n",
    "fig.add_trace(go.Scatter(x=month_mean_df['day'], \n",
    "                         y=month_mean_df['centered_car_count'], \n",
    "                         mode='lines', \n",
    "                        legendgroup= 'mean',\n",
    "                         showlegend= False,\n",
    "                         name='Day of Month Mean',\n",
    "                         line=dict(color=color_mean)), row=2, col=1)\n",
    "\n",
    "fig.add_trace(go.Scatter(x=month_med_df['day'], \n",
    "                         y=month_med_df['centered_car_count'], \n",
    "                         mode='lines',\n",
    "                         legendgroup=\"median\" ,\n",
    "                         name='Day of Month Median',\n",
    "                          showlegend= False,\n",
    "                         line=dict(color=color_median, dash='dash')), row=2, col=1)\n",
    "\n",
    "# Weekly aggregation\n",
    "fig.add_trace(go.Scatter(x=week_mean_df['day_of_week'], \n",
    "                         y=week_mean_df['centered_car_count'], \n",
    "                         mode='lines',\n",
    "                        legendgroup= 'mean' ,\n",
    "                         name='Week Mean',\n",
    "                          showlegend= False,\n",
    "                         line=dict(color=color_mean)), row=3, col=1)\n",
    "\n",
    "fig.add_trace(go.Scatter(x=week_med_df['day_of_week_name'], \n",
    "                         y=week_med_df['centered_car_count'], \n",
    "                         mode='lines', \n",
    "                         legendgroup=\"median\",\n",
    "                         name='Week Median',\n",
    "                          showlegend= False,\n",
    "                         line=dict(color=color_median, dash='dash')), row=3, col=1)\n",
    "\n",
    "# Labeling x-axes for each subplot\n",
    "fig.update_xaxes(title_text=\"Hours of Day\", row=1, col=1)\n",
    "fig.update_xaxes(title_text=\"Days of Month\", row=2, col=1)\n",
    "fig.update_xaxes(title_text=\"Days of Week\", row=3, col=1)\n",
    "\n",
    "# Labeling y-axes for each subplot\n",
    "# If you want individual y-axis titles:\n",
    "fig.update_yaxes(title_text=\"Count\", row=1, col=1)\n",
    "fig.update_yaxes(title_text=\"Count\", row=2, col=1)\n",
    "fig.update_yaxes(title_text=\"Count\", row=3, col=1)\n",
    "\n",
    "# Add a combined y-axis label using an annotation\n",
    "fig.update_layout(\n",
    "    legend_title='Aggregations',\n",
    "    title='Comparison of Mean and Median Aggregations',\n",
    "    height= 1000,\n",
    "   \n",
    "    annotations=[dict(text=\"Count\",\n",
    "                                    xref=\"paper\", yref=\"paper\",\n",
    "                                    x=-0.05, y=0.5, showarrow=False,\n",
    "                                    font=dict(size=14))]\n",
    "                  )\n",
    "\n",
    "fig.show()\n"
   ]
  },
  {
   "cell_type": "code",
   "execution_count": null,
   "metadata": {},
   "outputs": [],
   "source": []
  }
 ],
 "metadata": {
  "kernelspec": {
   "display_name": "prkng_v2_env",
   "language": "python",
   "name": "python3"
  },
  "language_info": {
   "codemirror_mode": {
    "name": "ipython",
    "version": 3
   },
   "file_extension": ".py",
   "mimetype": "text/x-python",
   "name": "python",
   "nbconvert_exporter": "python",
   "pygments_lexer": "ipython3",
   "version": "3.11.4"
  }
 },
 "nbformat": 4,
 "nbformat_minor": 2
}
