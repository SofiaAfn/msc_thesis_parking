{
 "cells": [
  {
   "cell_type": "code",
   "execution_count": 1,
   "metadata": {},
   "outputs": [
    {
     "name": "stdout",
     "output_type": "stream",
     "text": [
      "Loading detections\n"
     ]
    },
    {
     "name": "stderr",
     "output_type": "stream",
     "text": [
      "100%|██████████| 17562/17562 [00:09<00:00, 1915.23it/s]\n"
     ]
    }
   ],
   "source": [
    "import h5py\n",
    "import jaxlie\n",
    "import numpy as np\n",
    "import bisect\n",
    "import matplotlib.pyplot as plt\n",
    "import matplotlib.pylab as pl\n",
    "from tqdm import tqdm\n",
    "%matplotlib inline\n",
    "sequence_f_path = \"../data/univrses/record_2022-04-22_07-17-55.hdf5\"\n",
    "\n",
    "\n",
    "sequence_f = h5py.File(sequence_f_path, 'r')\n",
    "image_height = sequence_f[\"YUV420 Images\"].attrs[\"image_height\"]\n",
    "image_width = sequence_f[\"YUV420 Images\"].attrs[\"image_width\"]\n",
    "\n",
    "import pandas as pd\n",
    "import h5py\n",
    "sequence_f_path = \"../data/univrses/record_2022-04-22_07-17-55.hdf5\"\n",
    "\n",
    "vehicle_detection_f = h5py.File(\n",
    "            sequence_f_path.replace(\".hdf5\", '_vehicle_detections.hdf5'), 'r')\n",
    "h5py.File(\n",
    "            sequence_f_path.replace(\".hdf5\", '_vehicle_detections.hdf5'), 'r')\n",
    "\n",
    "print(\"Loading detections\")\n",
    "\n",
    "detections = pd.DataFrame(list(map(lambda d: {\"timestamp\": int(d[0]), \"type\": d[1], \"uuid\": d[2],\n",
    "                                                           \"confidence\": d[3], \"top\": d[4], \"bottom\": d[5],\n",
    "                                                           \"left\": d[6], \"right\": d[7]}, tqdm(vehicle_detection_f[\"Detection\"]))))\n",
    "\n",
    "\n",
    "\n"
   ]
  },
  {
   "cell_type": "code",
   "execution_count": 2,
   "metadata": {},
   "outputs": [
    {
     "name": "stderr",
     "output_type": "stream",
     "text": [
      "100%|██████████| 7915/7915 [00:00<00:00, 3122158.95it/s]\n"
     ]
    }
   ],
   "source": [
    "# Load images\n",
    "image_timestamps = list(tqdm(sequence_f[\"YUV420 Images\"][\"timestamp\"]))\n"
   ]
  },
  {
   "cell_type": "code",
   "execution_count": 3,
   "metadata": {},
   "outputs": [
    {
     "name": "stdout",
     "output_type": "stream",
     "text": [
      "[659517232112, 659583724787, 659616971125]\n"
     ]
    }
   ],
   "source": [
    "print(image_timestamps[:3])"
   ]
  },
  {
   "cell_type": "code",
   "execution_count": 4,
   "metadata": {},
   "outputs": [
    {
     "name": "stdout",
     "output_type": "stream",
     "text": [
      "Image height: 720, Image width: 1280\n",
      "       timestamp  type      uuid  confidence  top  bottom  left  right\n",
      "90  660781003526    29   [0, 91]    0.847656  446     486   404    477\n",
      "91  660781003526    29   [0, 92]    0.656250  444     488   294    384\n",
      "92  660781003526    29   [0, 93]    0.640625  461     534  1136   1251\n",
      "93  660814249864    29   [0, 94]    0.796875  443     486   403    486\n",
      "94  660814249864    29   [0, 95]    0.718750  418     506   763    930\n",
      "95  660814249864    29   [0, 96]    0.621094  466     532  1135   1257\n",
      "96  660847496202    29   [0, 97]    0.816406  444     485   393    480\n",
      "97  660847496202    29   [0, 98]    0.640625  438     483   302    407\n",
      "98  660880724430    29   [0, 99]    0.867188  439     485   302    410\n",
      "99  660913970768    29  [0, 100]    0.656250  438     484   303    413\n"
     ]
    }
   ],
   "source": [
    "print( f\"Image height: {image_height}, Image width: {image_width}\")\n",
    "print(detections.head(100)[90:])"
   ]
  },
  {
   "cell_type": "code",
   "execution_count": 5,
   "metadata": {},
   "outputs": [],
   "source": [
    "n_poses = len(sequence_f[\"FusionTimestampedPose\"])\n",
    "def get_pose_at_timestamp(timestamp):\n",
    "    # Get camera extrinsics at timestamp\n",
    "    pose_idx = bisect.bisect_left(\n",
    "        sequence_f[\"FusionTimestampedPose\"][\"timestamp\"], timestamp)\n",
    "    if pose_idx >= n_poses:\n",
    "        return None\n",
    "    pose = sequence_f[\"FusionTimestampedPose\"][pose_idx]\n",
    "    # Interpolate between poses if timestamp is not exact\n",
    "    if pose[\"timestamp\"] != timestamp and pose_idx > 0:\n",
    "\n",
    "        pose_idx -= 1\n",
    "        pose = sequence_f[\"FusionTimestampedPose\"][pose_idx]\n",
    "        next_pose = sequence_f[\"FusionTimestampedPose\"][pose_idx + 1]\n",
    "        alpha = (timestamp - pose[\"timestamp\"]) / \\\n",
    "            (next_pose[\"timestamp\"] - pose[\"timestamp\"])\n",
    "        pose = [\n",
    "            timestamp,\n",
    "            (1 - alpha) * pose[1] + alpha * next_pose[1],\n",
    "            \"-\"\n",
    "        ]\n",
    "    return pose"
   ]
  },
  {
   "cell_type": "code",
   "execution_count": 6,
   "metadata": {},
   "outputs": [],
   "source": [
    "import cv2 \n",
    "def get_image_at_timestamp(query_timestamp):\n",
    "    image_idx = bisect.bisect_left(image_timestamps, query_timestamp)\n",
    "    assert(image_timestamps[image_idx] == query_timestamp)\n",
    "    image_byte_array_yuv = sequence_f['YUV420 Images'][image_idx][\"bytes\"]\n",
    "\n",
    "    '''\n",
    "    YUV420 with interleaved U and V , with uv_row_stride = y_row_stride = image_width.\n",
    "    For more details look at N12 or N21: https://www.fourcc.org/pixel-format/yuv-nv12/\n",
    "    '''\n",
    "    e = image_width * image_height\n",
    "    Y = image_byte_array_yuv[0:e]\n",
    "    Y = np.reshape(Y, (image_height, image_width))\n",
    "    V = image_byte_array_yuv[e::2]\n",
    "    V = np.repeat(V, 2, 0)\n",
    "    V = np.reshape(V, (int(image_height/2), image_width))\n",
    "    V = np.repeat(V, 2, 0)\n",
    "    U = image_byte_array_yuv[e+1::2]\n",
    "    U = np.repeat(U, 2, 0)\n",
    "    U = np.reshape(U, (int(image_height/2), image_width))\n",
    "    U = np.repeat(U, 2, 0)\n",
    "\n",
    "    RGBMatrix = (np.dstack([Y, U, V])).astype(np.uint8)\n",
    "    RGBMatrix = cv2.cvtColor(RGBMatrix, cv2.COLOR_YUV2RGB, 3)\n",
    "    return RGBMatrix"
   ]
  },
  {
   "cell_type": "code",
   "execution_count": 7,
   "metadata": {},
   "outputs": [],
   "source": [
    "import math\n",
    "def get_trajectory(start_timestamp: int = None, end_timestamp: int = None):\n",
    "\n",
    "        if start_timestamp is None:\n",
    "            start_timestamp = -math.inf\n",
    "        if end_timestamp is None:\n",
    "            end_timestamp = math.inf\n",
    "\n",
    "        pose = []\n",
    "        for data in sequence_f[\"FusionTimestampedPose\"]:\n",
    "            if data[0] < start_timestamp:\n",
    "                continue\n",
    "            if data[0] > end_timestamp:\n",
    "                break\n",
    "            pose.append([data[0], jaxlie.SE3.exp(data[1])])\n",
    "        return np.array(pose)"
   ]
  },
  {
   "cell_type": "code",
   "execution_count": 8,
   "metadata": {},
   "outputs": [],
   "source": [
    "# Camera intrinsics\n",
    "fx = sequence_f[\"CameraModel\"].attrs['fx'] \n",
    "fy = sequence_f[\"CameraModel\"].attrs['fy']\n",
    "cx = sequence_f[\"CameraModel\"].attrs['cx']\n",
    "cy = sequence_f[\"CameraModel\"].attrs['cy']\n",
    "\n",
    "# Distortion coefficients\n",
    "k1 = sequence_f[\"CameraModel\"].attrs['k1']\n",
    "k2 = sequence_f[\"CameraModel\"].attrs['k2']\n",
    "p1 = sequence_f[\"CameraModel\"].attrs['p1']\n",
    "p2 = sequence_f[\"CameraModel\"].attrs['p2']\n",
    "K = np.array([[fx, 0, cx], [0, fy, cy], [0, 0, 1]])\n",
    "K_2D = np.array([[fx, cx], [0, 1]])\n",
    "camera_to_system = jaxlie.SE3.from_matrix( np.array([[0, -1,  0,  0 ],\n",
    "[0,  0, -1,  0 ],\n",
    "[1,  0,  0,  0 ],\n",
    "[0,  0,  0,  1]])\n",
    ")"
   ]
  },
  {
   "cell_type": "code",
   "execution_count": 27,
   "metadata": {},
   "outputs": [],
   "source": [
    "def camera_ray_to_pixel(ray: np.array, se3: jaxlie.SE3):\n",
    "    if ray.shape != (3,):\n",
    "        print(f\"Invalid dimensions {ray.shape}\")\n",
    "        return\n",
    "    \n",
    "    camera_coordinates = se3.inverse() @ ray\n",
    "    system_coordinates = camera_to_system @ camera_coordinates\n",
    "    pixel_coordinates = K @ system_coordinates\n",
    "    return pixel_coordinates / pixel_coordinates[-1]\n",
    "\n",
    "\n"
   ]
  },
  {
   "cell_type": "code",
   "execution_count": 10,
   "metadata": {},
   "outputs": [
    {
     "name": "stdout",
     "output_type": "stream",
     "text": [
      "[[890.19610596   0.         640.        ]\n",
      " [  0.         890.19610596 360.        ]\n",
      " [  0.           0.           1.        ]]\n"
     ]
    }
   ],
   "source": [
    "print(K)"
   ]
  },
  {
   "cell_type": "code",
   "execution_count": 11,
   "metadata": {},
   "outputs": [],
   "source": [
    "def pixel_to_3D_ray( pose, px: int, py: int, ray_length: int = 10, frame: str = \"global\"):\n",
    "\n",
    "       \n",
    "\n",
    "        # TODO: What to do at boundaries?\n",
    "        se3 = jaxlie.SE3.exp(pose[1])\n",
    "        R = se3.rotation()\n",
    "        # X0 = se3.translation()\n",
    "        image_pixel_coordinates = np.array([px, py, 1])\n",
    "\n",
    "        # Pixel to camera coordinates\n",
    "        camera_coordinates = np.linalg.inv(K) @ image_pixel_coordinates\n",
    "        # Pick a point on the ray\n",
    "        camera_coordinates = camera_coordinates / np.linalg.norm(camera_coordinates)\n",
    "        camera_coordinates *= ray_length\n",
    "        # Convert to homogeneous coordinates\n",
    "        # camera_coordinates = np.append(camera_coordinates, 1) # 0 removes translation\n",
    "\n",
    "        if frame == \"local\":\n",
    "                # The camera has a different coordinate system to how we want to represent the image,\n",
    "                # x forward, y left, z up translated into x right, y down, z forward (correct?)\n",
    "                return camera_to_system.inverse() @ camera_coordinates\n",
    "\n",
    "        \n",
    "\n",
    "        camera_coordinates = camera_to_system.inverse() @ camera_coordinates\n",
    "        # Describe in world coordinates\n",
    "        world_coordinates =  se3 @ camera_coordinates\n",
    "\n",
    "        \n",
    "\n",
    "\n",
    "\n",
    "        return world_coordinates "
   ]
  },
  {
   "cell_type": "code",
   "execution_count": 29,
   "metadata": {},
   "outputs": [
    {
     "ename": "ValueError",
     "evalue": "matmul: Input operand 1 does not have enough dimensions (has 0, gufunc core with signature (n?,k),(k,m?)->(n?,m?) requires 1)",
     "output_type": "error",
     "traceback": [
      "\u001b[0;31m---------------------------------------------------------------------------\u001b[0m",
      "\u001b[0;31mValueError\u001b[0m                                Traceback (most recent call last)",
      "\u001b[0;32m/var/folders/gf/s6jrb_5n1478lr347ypzlh9h0000gn/T/ipykernel_72038/3040279457.py\u001b[0m in \u001b[0;36m<module>\u001b[0;34m\u001b[0m\n\u001b[1;32m      2\u001b[0m \u001b[0mog_pixel\u001b[0m \u001b[0;34m=\u001b[0m \u001b[0;34m(\u001b[0m\u001b[0;36m100\u001b[0m\u001b[0;34m,\u001b[0m \u001b[0;36m100\u001b[0m\u001b[0;34m)\u001b[0m\u001b[0;34m\u001b[0m\u001b[0;34m\u001b[0m\u001b[0m\n\u001b[1;32m      3\u001b[0m \u001b[0mray\u001b[0m \u001b[0;34m=\u001b[0m \u001b[0mpixel_to_3D_ray\u001b[0m\u001b[0;34m(\u001b[0m\u001b[0mpose\u001b[0m\u001b[0;34m,\u001b[0m \u001b[0mog_pixel\u001b[0m\u001b[0;34m[\u001b[0m\u001b[0;36m0\u001b[0m\u001b[0;34m]\u001b[0m\u001b[0;34m,\u001b[0m \u001b[0mog_pixel\u001b[0m\u001b[0;34m[\u001b[0m\u001b[0;36m1\u001b[0m\u001b[0;34m]\u001b[0m\u001b[0;34m,\u001b[0m \u001b[0mframe\u001b[0m\u001b[0;34m=\u001b[0m\u001b[0;34m\"global\"\u001b[0m\u001b[0;34m)\u001b[0m\u001b[0;34m\u001b[0m\u001b[0;34m\u001b[0m\u001b[0m\n\u001b[0;32m----> 4\u001b[0;31m \u001b[0mpixel\u001b[0m \u001b[0;34m=\u001b[0m \u001b[0mcamera_ray_to_pixel\u001b[0m\u001b[0;34m(\u001b[0m\u001b[0mray\u001b[0m\u001b[0;34m,\u001b[0m \u001b[0mjaxlie\u001b[0m\u001b[0;34m.\u001b[0m\u001b[0mSE3\u001b[0m\u001b[0;34m.\u001b[0m\u001b[0mexp\u001b[0m\u001b[0;34m(\u001b[0m\u001b[0mpose\u001b[0m\u001b[0;34m[\u001b[0m\u001b[0;36m1\u001b[0m\u001b[0;34m]\u001b[0m\u001b[0;34m)\u001b[0m\u001b[0;34m)\u001b[0m\u001b[0;34m\u001b[0m\u001b[0;34m\u001b[0m\u001b[0m\n\u001b[0m\u001b[1;32m      5\u001b[0m \u001b[0mprint\u001b[0m\u001b[0;34m(\u001b[0m\u001b[0mog_pixel\u001b[0m\u001b[0;34m)\u001b[0m\u001b[0;34m\u001b[0m\u001b[0;34m\u001b[0m\u001b[0m\n\u001b[1;32m      6\u001b[0m \u001b[0mprint\u001b[0m\u001b[0;34m(\u001b[0m\u001b[0mpixel\u001b[0m\u001b[0;34m)\u001b[0m\u001b[0;34m\u001b[0m\u001b[0;34m\u001b[0m\u001b[0m\n",
      "\u001b[0;32m/var/folders/gf/s6jrb_5n1478lr347ypzlh9h0000gn/T/ipykernel_72038/735391414.py\u001b[0m in \u001b[0;36mcamera_ray_to_pixel\u001b[0;34m(ray, se3)\u001b[0m\n\u001b[1;32m      5\u001b[0m \u001b[0;34m\u001b[0m\u001b[0m\n\u001b[1;32m      6\u001b[0m     \u001b[0;31m# Camera coordinates to pixel\u001b[0m\u001b[0;34m\u001b[0m\u001b[0;34m\u001b[0m\u001b[0m\n\u001b[0;32m----> 7\u001b[0;31m     \u001b[0mx\u001b[0m \u001b[0;34m=\u001b[0m \u001b[0mK\u001b[0m \u001b[0;34m@\u001b[0m \u001b[0mse3\u001b[0m\u001b[0;34m.\u001b[0m\u001b[0minverse\u001b[0m\u001b[0;34m(\u001b[0m\u001b[0;34m)\u001b[0m \u001b[0;34m@\u001b[0m \u001b[0mnp\u001b[0m\u001b[0;34m.\u001b[0m\u001b[0mappend\u001b[0m\u001b[0;34m(\u001b[0m\u001b[0mray\u001b[0m\u001b[0;34m,\u001b[0m \u001b[0;36m1\u001b[0m\u001b[0;34m)\u001b[0m\u001b[0;34m\u001b[0m\u001b[0;34m\u001b[0m\u001b[0m\n\u001b[0m\u001b[1;32m      8\u001b[0m     \u001b[0;32mreturn\u001b[0m \u001b[0mx\u001b[0m \u001b[0;34m/\u001b[0m \u001b[0mx\u001b[0m\u001b[0;34m[\u001b[0m\u001b[0;34m-\u001b[0m\u001b[0;36m1\u001b[0m\u001b[0;34m]\u001b[0m\u001b[0;34m\u001b[0m\u001b[0;34m\u001b[0m\u001b[0m\n",
      "\u001b[0;31mValueError\u001b[0m: matmul: Input operand 1 does not have enough dimensions (has 0, gufunc core with signature (n?,k),(k,m?)->(n?,m?) requires 1)"
     ]
    }
   ],
   "source": [
    "pose = get_pose_at_timestamp(0)\n",
    "og_pixel = (100, 100)\n",
    "ray = pixel_to_3D_ray(pose, og_pixel[0], og_pixel[1], frame=\"global\")\n",
    "pixel = camera_ray_to_pixel(ray, jaxlie.SE3.exp(pose[1]))\n",
    "print(og_pixel)\n",
    "print(pixel)"
   ]
  },
  {
   "cell_type": "code",
   "execution_count": 12,
   "metadata": {},
   "outputs": [],
   "source": [
    "trajectory = get_trajectory()\n",
    "\n",
    "tx, ty, tz = np.array([[t[1].translation()[0], t[1].translation()[1], t[1].translation()[2]] for t in trajectory]).T\n",
    "\n"
   ]
  },
  {
   "cell_type": "code",
   "execution_count": 13,
   "metadata": {},
   "outputs": [
    {
     "data": {
      "text/plain": [
       "<matplotlib.legend.Legend at 0x7faac8b591c0>"
      ]
     },
     "execution_count": 13,
     "metadata": {},
     "output_type": "execute_result"
    },
    {
     "data": {
      "image/png": "[encoded data removed]",
      "text/plain": [
       "<Figure size 720x720 with 1 Axes>"
      ]
     },
     "metadata": {
      "needs_background": "light"
     },
     "output_type": "display_data"
    }
   ],
   "source": [
    "# Plot benchmark trajectory\n",
    "fig = plt.figure(\"trajectory_global\", figsize=(10, 10), )\n",
    "ax = fig.add_subplot(111, projection='3d')\n",
    "ax.plot(tx, ty, tz, label=\"Trajectory\")\n",
    "ax.set_zlim(-10, 10)\n",
    "ax.legend()\n",
    "\n"
   ]
  },
  {
   "cell_type": "code",
   "execution_count": 14,
   "metadata": {},
   "outputs": [],
   "source": [
    "run_nr = 0"
   ]
  },
  {
   "cell_type": "code",
   "execution_count": null,
   "metadata": {},
   "outputs": [],
   "source": []
  },
  {
   "cell_type": "code",
   "execution_count": null,
   "metadata": {},
   "outputs": [
    {
     "name": "stdout",
     "output_type": "stream",
     "text": [
      "completion: 13.33%\n",
      "ETA: 0m 14s\n"
     ]
    },
    {
     "ename": "",
     "evalue": "",
     "output_type": "error",
     "traceback": [
      "\u001b[1;31mThe Kernel crashed while executing code in the the current cell or a previous cell. Please review the code in the cell(s) to identify a possible cause of the failure. Click <a href='https://aka.ms/vscodeJupyterKernelCrash'>here</a> for more info. View Jupyter <a href='command:jupyter.viewOutput'>log</a> for further details."
     ]
    }
   ],
   "source": [
    "import mpl_toolkits.mplot3d.axes3d as p3\n",
    "from tqdm import tqdm\n",
    "from IPython.display import clear_output\n",
    "import time\n",
    "from functools import partial\n",
    "\n",
    "# Plot according to the vehicle coordinate system\n",
    "\n",
    "fig = plt.figure(\"trajectory\", figsize=(20, 20), )\n",
    "\n",
    "\n",
    "\n",
    "\n",
    "ax = fig.add_subplot(121, projection='3d')\n",
    "\n",
    "image_ax = fig.add_subplot(122)\n",
    "# Equal axis\n",
    "ax.set_aspect('auto')\n",
    "%matplotlib qt\n",
    "plt.show()\n",
    "\n",
    "\n",
    "# n_timesteps = len(sequence_f[\"YUV420 Images\"])\n",
    "n_timesteps = 30\n",
    "\n",
    "timestep_indices= list(map(lambda x: int(x), np.linspace(0, len(sequence_f[\"YUV420 Images\"]) - 1, n_timesteps)))\n",
    "first_se3 = jaxlie.SE3.exp(sequence_f[\"FusionTimestampedPose\"][\"timestamp\" == timestep_indices[0]][1])\n",
    "\n",
    "\n",
    "\n",
    "# Heading will be fixed\n",
    "heading = np.array([1, 0, 0]) * 10\n",
    "\n",
    "# Save rays\n",
    "rays = []\n",
    "\n",
    "\n",
    "axis_lim = 300\n",
    "\n",
    "iteration_times = []\n",
    "\n",
    "detection_ray_length = 120\n",
    "\n",
    "\n",
    "# Rotate view\n",
    "# ax.view_init(azim=180, elev=20)\n",
    "\n",
    "ax.plot3D(tx, ty, tz, 'b-', label=\"trajectory\")\n",
    "\n",
    "\n",
    "def animate(i: int, args): \n",
    "    start = args[0]\n",
    "    index = timestep_indices[i]\n",
    "    timestamp = sequence_f[\"YUV420 Images\"][index][0]\n",
    "    image = get_image_at_timestamp(timestamp)\n",
    "\n",
    "\n",
    "   \n",
    "\n",
    "    # Get camera extrinsics at timestamp\n",
    "    pose = get_pose_at_timestamp(timestamp)\n",
    "    if not pose:\n",
    "\n",
    "        return ax, image_ax\n",
    "\n",
    "    #  # Clear figures\n",
    "    # ax.clear()\n",
    "    # image_ax.clear()\n",
    "\n",
    "\n",
    "    ax.set_title(f\"Timestamp: {timestamp}\")\n",
    "    se3 = jaxlie.SE3.exp(pose[1])\n",
    "\n",
    "    # inverse_transformation = se3.inverse()\n",
    "   \n",
    "    # Transform trajectory to the camera coordinate system\n",
    "    # _tx, _ty, _tz = np.array([ inverse_transformation @ np.array([x, y, z]) for x, y, z in zip(tx, ty, tz)]).reshape(-1, 3).T\n",
    "    # _tx, _ty, _tz = np.array(list(map(lambda t: (inverse_transformation @ t).translation(), trajectory[:, 1]))).reshape(-1, 3).T\n",
    " \n",
    "\n",
    "    # Get left and right bound of camera \n",
    "    # TOP_LEFT = pixel_to_3D_ray(pose, 0, 0, frame=\"global\", ray_length=100)\n",
    "    # TOP_RIGHT = pixel_to_3D_ray(pose, image_width, 0, frame=\"global\", ray_length=100)\n",
    "    # BOTTOM_RIGHT = pixel_to_3D_ray(pose, image_width, image_height, frame=\"global\", ray_length=100)\n",
    "    # BOTTOM_LEFT = pixel_to_3D_ray(pose, 0, image_height, frame=\"global\", ray_length=100)\n",
    "\n",
    "    #  # Plot camera viewport\n",
    "    # ax.plot3D([x, TOP_LEFT[0]], [y, TOP_LEFT[1]], [z, TOP_LEFT[2]], 'm-', linewidth=5)\n",
    "    # ax.plot3D([x, TOP_RIGHT[0]], [y, TOP_RIGHT[1]], [z, TOP_RIGHT[2]], 'm-', linewidth=5)\n",
    "    # ax.plot3D([x, BOTTOM_RIGHT[0]], [y, BOTTOM_RIGHT[1]],[ z, BOTTOM_RIGHT[2]], 'm-', linewidth=5)\n",
    "    # ax.plot3D([x, BOTTOM_LEFT[0]], [y, BOTTOM_LEFT[1]],[ z, BOTTOM_LEFT[2]], 'm-', linewidth=5, label=\"viewport\")\n",
    "\n",
    "\n",
    "    \n",
    "\n",
    "    x, y, z = se3.translation()\n",
    "    # Plot the camera\n",
    "    # ax.plot3D(x, y, z, 'ro')\n",
    "\n",
    "\n",
    "    # # Show direction\n",
    "    # rotation_matrix = se3.rotation().as_matrix()\n",
    "    # heading = rotation_matrix @ np.array([1, 0, 0])\n",
    "    # heading = heading / np.linalg.norm(heading) * 30\n",
    "    # heading = heading + np.array([x, y, z])\n",
    "    # ax.plot3D([x, heading[0]], [y, heading[1]], [z, heading[2]], 'r-', label=\"heading\")\n",
    "\n",
    "\n",
    "\n",
    "\n",
    "\n",
    "\n",
    "    image_ax.set_title(f\"Timestamp: {timestamp}\")\n",
    "\n",
    "    # Get the closest detection (in time) to the image\n",
    "    # d_index = bisect.bisect_left(detections[\"timestamp\"], timestamp)\n",
    "    # d_timestamp = detections.iloc[d_index][\"timestamp\"]\n",
    "    current_detections = detections[detections[\"timestamp\"] == timestamp]\n",
    "    colors = pl.cm.jet(np.linspace(0,1,len(current_detections)))\n",
    "    color_i = 0\n",
    "\n",
    "\n",
    " \n",
    "\n",
    "    \n",
    "\n",
    "    \n",
    "    # Get rays to the bounding boxes\n",
    "    for _, d in current_detections.iterrows():\n",
    "        # Get the center of the bounding box\n",
    "        width = d.right - d.left\n",
    "        height = d.bottom - d.top\n",
    "\n",
    "        center = pixel_to_3D_ray(pose, d.left + width / 2, d.top + height / 2, frame=\"global\", ray_length=detection_ray_length)\n",
    "        # Plot the center of the bounding box\n",
    "        # rays.append({\"origin\": [x, y, z], \"point\": center})\n",
    "        ax.plot3D([x, center[0]], [y, center[1]], [z, center[2]], '-', color=colors[color_i])\n",
    "        # top_left = pixel_to_3D_ray(pose, d.left, d.top,  frame=\"global\", ray_length=detection_ray_length)\n",
    "        # top_right = pixel_to_3D_ray(pose, d.right, d.top,  frame=\"global\", ray_length=detection_ray_length)\n",
    "        # bottom_left = pixel_to_3D_ray(pose, d.left, d.bottom,  frame=\"global\", ray_length=detection_ray_length)\n",
    "        # bottom_right = pixel_to_3D_ray(pose, d.right, d.bottom,  frame=\"global\", ray_length=detection_ray_length)\n",
    "\n",
    "        # # Plot rays to the corners of the bounding box\n",
    "\n",
    "        # ax.plot3D([x, top_left[0]],     [y, top_left[1]],     [z, top_left[2]], '-', color=colors[color_i])\n",
    "        # ax.plot3D([x, top_right[0]],    [y, top_right[1]],    [z, top_right[2]], '-', color=colors[color_i])\n",
    "        # ax.plot3D([x, bottom_right[0]], [y, bottom_right[1]], [z, bottom_right[2]], '-', color=colors[color_i])\n",
    "        # ax.plot3D([x, bottom_left[0]],  [y, bottom_left[1]],  [z, bottom_left[2]], '-', color=colors[color_i], label=\"bounding box\")\n",
    "\n",
    "        # Draw detections on image\n",
    "        rect = plt.Rectangle((d[\"left\"], d[\"top\"]), d[\"right\"] -\n",
    "                                 d[\"left\"], d[\"bottom\"] - d[\"top\"], fill=False, color=colors[color_i])\n",
    "        image_ax.add_patch(rect)\n",
    "        break\n",
    "        color_i +=1\n",
    "        \n",
    "\n",
    "\n",
    "   \n",
    "    # for line in rays:\n",
    "    #     origin = line[\"origin\"]\n",
    "    #     ray = line[\"point\"]\n",
    "    #     ax.plot3D([origin[0], ray[0]], [origin[1], ray[1]], [origin[2], ray[2]], '-', color=\"black\")\n",
    "\n",
    "    # Plot trajectory\n",
    "\n",
    "  \n",
    "\n",
    "    ax.set_xlim(-axis_lim, axis_lim)\n",
    "    ax.set_ylim(-axis_lim, axis_lim)\n",
    "    ax.set_zlim(-axis_lim, axis_lim)\n",
    "    # ax.set_position([-.25, 0, 1, 1])\n",
    "    # image_ax.set_position([.55, .3, .4, .4])\n",
    "\n",
    "\n",
    "\n",
    "\n",
    "\n",
    "\n",
    "\n",
    "\n",
    "\n",
    "    # ax.legend()\n",
    "\n",
    "\n",
    "    # image_ax.imshow(image)\n",
    "    clear_output(wait=True)\n",
    "    print(f\"completion: {i / len(timestep_indices) * 100:.2f}%\")\n",
    "    execution_time = time.time() - start\n",
    "    \n",
    "    \n",
    "    \n",
    "    args[0] = time.time()\n",
    "    iteration_times.append(execution_time)\n",
    "    if len(iteration_times) > 10:\n",
    "        iteration_times.pop(0)\n",
    "    mean_time = np.mean(iteration_times)\n",
    "    # Estimate time to finish \n",
    "    time_to_finish = (n_timesteps - i) * mean_time\n",
    "    time_to_finish_minutes = int(time_to_finish / 60)\n",
    "    time_to_finish_seconds = int(time_to_finish % 60)\n",
    "    print(f\"ETA: {time_to_finish_minutes}m {time_to_finish_seconds}s\")\n",
    "    return ax, image_ax\n",
    "\n",
    "    plt.show()\n",
    "    plt.pause(5)\n",
    "\n",
    "\n",
    "\n",
    "\n",
    "save_movie = True\n",
    "\n",
    "if save_movie:\n",
    "\n",
    "    import matplotlib.animation as animation\n",
    "\n",
    "\n",
    "    start = time.time()\n",
    "    # creating animation\n",
    "    ani = animation.FuncAnimation(fig,partial(animate, args=[start]), n_timesteps,interval=30)\n",
    "    writer = animation.writers['ffmpeg'](fps=24)\n",
    "    run_nr += 1\n",
    "    ani.save(f'triangulation{run_nr}.mp4',writer=writer,dpi=100)\n",
    "else:\n",
    "    %matplotlib qt\n",
    "    start = time.time()\n",
    "    for i in range(n_timesteps):\n",
    "        animate(i, args=[start])\n",
    "        fig.canvas.draw()\n",
    "        plt.show()\n",
    "\n",
    "\n",
    "\n",
    "\n",
    "\n"
   ]
  },
  {
   "cell_type": "code",
   "execution_count": null,
   "metadata": {},
   "outputs": [],
   "source": [
    "_pose = get_pose_at_timestamp(0)\n",
    "ray = pixel_to_3D_ray(_pose, image_width, image_height)\n",
    "print(ray)\n",
    "pixel = camera_ray_to_pixel(ray)\n",
    "print(pixel)\n"
   ]
  },
  {
   "cell_type": "code",
   "execution_count": null,
   "metadata": {},
   "outputs": [],
   "source": [
    "trajectory = get_trajectory()\n",
    "tx, ty = [t[1].translation()[0] for t in trajectory],[t[1].translation()[1] for t in trajectory]\n"
   ]
  },
  {
   "cell_type": "code",
   "execution_count": 27,
   "metadata": {},
   "outputs": [],
   "source": [
    "def plot_traj_and_camera_viewport_at_timestep(timestamp, ax: plt.Axes = None):\n",
    "        if ax is None:\n",
    "                fig, ax = plt.subplots()\n",
    "        # Get camera extrinsics at timestamp\n",
    "        pose = get_pose_at_timestamp(timestamp)\n",
    "        se3 = jaxlie.SE3.exp(pose[1])\n",
    "        timeStep_idx = bisect.bisect_left(trajectory[:, 0], timestamp)\n",
    "        position = trajectory[timeStep_idx]\n",
    "        px, py = position[1].translation()[0], position[1].translation()[1]\n",
    "\n",
    "        # Plot trajectory\n",
    "        ax.plot(tx,\n",
    "                ty )\n",
    "        # Put red point at camera position\n",
    "        ax.plot(px,\n",
    "                 py, \"ro\")\n",
    "        \n",
    "\n",
    "\n",
    "        \n",
    "        # Plot vehicle heading\n",
    "        rotation_matrix = se3.rotation().as_matrix()\n",
    "        heading = rotation_matrix @ np.array([1, 0, 0])\n",
    "        heading = heading / np.linalg.norm(heading) * 60\n",
    "\n",
    "        \n",
    "        ax.arrow(px,py, heading[0], heading[1], head_width=1, head_length=1, fc='k', ec='k',)\n",
    "\n",
    "        # Add camera viewport\n",
    "        left_bound  = pixel_to_3D_ray(pose, 0, image_height, frame=\"global\", ray_length=100)\n",
    "        right_bound = pixel_to_3D_ray(pose, image_width, image_height, frame=\"global\", ray_length=100)\n",
    "        # print(left_bound)\n",
    "        # print(right_bound)\n",
    "\n",
    "     \n",
    "\n",
    "        # Plot camera viewport\n",
    "        ax.plot([px, left_bound[0]], [py,  left_bound[1]], \"r-\")\n",
    "        ax.plot([px, right_bound[0]], [py,  right_bound[1]], \"g-\")\n",
    "\n",
    "\n",
    "\n",
    "\n",
    "\n",
    "        # print({\"left_bound\": left_bound, \"right_bound\": right_bound})\n",
    "\n",
    "\n",
    "        \n",
    "        \n",
    "        \n",
    "\n",
    "\n",
    "        # plt.show()\n",
    "        if ax is None:\n",
    "                plt.show()\n",
    "        \n",
    "        return ax"
   ]
  },
  {
   "cell_type": "code",
   "execution_count": 29,
   "metadata": {},
   "outputs": [
    {
     "data": {
      "text/plain": [
       "<AxesSubplot:>"
      ]
     },
     "execution_count": 29,
     "metadata": {},
     "output_type": "execute_result"
    }
   ],
   "source": [
    "%matplotlib qt\n",
    "\n",
    "plot_traj_and_camera_viewport_at_timestep(713711463541)\n",
    "\n",
    "\n"
   ]
  },
  {
   "cell_type": "code",
   "execution_count": null,
   "metadata": {},
   "outputs": [],
   "source": []
  },
  {
   "cell_type": "code",
   "execution_count": null,
   "metadata": {},
   "outputs": [
    {
     "name": "stdout",
     "output_type": "stream",
     "text": [
      "timestep: 813791288189 64.0% done\n"
     ]
    }
   ],
   "source": [
    "# importing movie py libraries\n",
    "import matplotlib.animation as animation\n",
    "from moviepy.video.io.bindings import mplfig_to_npimage\n",
    "from IPython.display import clear_output\n",
    "\n",
    "\n",
    "n_frames = 100\n",
    "# Create a video of the trajectory and camera viewport\n",
    "fig, ax = plt.subplots()\n",
    "ax.set_aspect('equal')\n",
    "ax.get_xaxis().set_visible(False)\n",
    "ax.get_yaxis().set_visible(False)\n",
    "fig.set_size_inches([5,5])\n",
    "\n",
    "timesteps_indices = list(map(lambda x: int(x), np.linspace(0, len(np.array(sequence_f[\"FusionTimestampedPose\"][\"timestamp\"])) - 1, n_frames)))\n",
    "\n",
    "im = ax.imshow(255 * np.ones((image_height, image_width, 3)))\n",
    "def animate(i):\n",
    "    ax.clear()\n",
    "    ax.set_aspect('equal')\n",
    "    ax.get_xaxis().set_visible(False)\n",
    "    ax.get_yaxis().set_visible(False)\n",
    "\n",
    "    idx = timesteps_indices[i]\n",
    "    timestep = sequence_f[\"FusionTimestampedPose\"][idx][0]\n",
    "    clear_output(wait=True)\n",
    "    print(f\"timestep: {timestep} {round(i/n_frames*100, 2)}% done\")\n",
    "    plot_traj_and_camera_viewport_at_timestep(timestep, ax=ax)\n",
    "    image = mplfig_to_npimage(fig)\n",
    "    im.set_data(image)\n",
    "\n",
    "\n",
    "    return im\n",
    "\n",
    "# creating animation\n",
    "ani = animation.FuncAnimation(fig,animate,n_frames,interval=30)\n",
    "writer = animation.writers['ffmpeg'](fps=5)\n",
    "\n",
    "ani.save('demo.mp4',writer=writer,dpi=100)\n"
   ]
  },
  {
   "cell_type": "code",
   "execution_count": null,
   "metadata": {},
   "outputs": [],
   "source": []
  },
  {
   "cell_type": "code",
   "execution_count": null,
   "metadata": {},
   "outputs": [],
   "source": [
    "\n",
    "\n",
    "\n",
    "\n",
    "\n"
   ]
  },
  {
   "attachments": {},
   "cell_type": "markdown",
   "metadata": {},
   "source": [
    "# Triangulation\n",
    "\n",
    "\n",
    "Camera pose\n",
    "\n"
   ]
  },
  {
   "cell_type": "code",
   "execution_count": 7,
   "metadata": {},
   "outputs": [],
   "source": [
    "from vehicle import System\n",
    "sys = System(\n",
    "\n",
    "        \"/Users/emanuelwreeby/Plugg/Terminer/Exjobb/src/data/univrses/record_2022-04-22_07-17-55.hdf5\")\n",
    "\n"
   ]
  },
  {
   "cell_type": "code",
   "execution_count": 8,
   "metadata": {},
   "outputs": [],
   "source": [
    "\n",
    "sys.load_detections()"
   ]
  },
  {
   "cell_type": "code",
   "execution_count": 3,
   "metadata": {},
   "outputs": [],
   "source": [
    "import numpy as np\n",
    "random_detection = sys.detections[sys.detections[\"uuid\"][:, -1] == 3203][0]"
   ]
  },
  {
   "cell_type": "code",
   "execution_count": 4,
   "metadata": {},
   "outputs": [
    {
     "data": {
      "text/plain": [
       "(693660749650, 29, [   0, 3203], 0.6875, 394, 518, 531, 866, 693660749650)"
      ]
     },
     "execution_count": 4,
     "metadata": {},
     "output_type": "execute_result"
    }
   ],
   "source": [
    "random_detection"
   ]
  },
  {
   "cell_type": "code",
   "execution_count": 5,
   "metadata": {},
   "outputs": [
    {
     "name": "stdout",
     "output_type": "stream",
     "text": [
      "[698.5 456. ]\n",
      "[698.5 456. ]\n"
     ]
    }
   ],
   "source": [
    "box_center = np.array([random_detection[\"left\"] + (random_detection[\"right\"] - random_detection[\"left\"])/2, random_detection[\"top\"] + (random_detection[\"bottom\"] - random_detection[\"top\"])/2])\n",
    "\n",
    "se3 = sys.get_pose_at_timestamp(random_detection[\"timestamp\"])[\"se3\"]\n",
    "ray = sys.camera.ray_cast(se3, box_center)\n",
    "\n",
    "# ray_direction = ray[0, 3:] - ray[0, :3]\n",
    "# ray_direction = ray_direction / np.linalg.norm(ray_direction)\n",
    "# point = ray_direction * 100010\n",
    "point = np.array(ray[0][3:])\n",
    "\n",
    "# Project the ray back to the image plane\n",
    "pixel = sys.camera.project_onto_camera(se3,  point)\n",
    "print(box_center)\n",
    "print(pixel)"
   ]
  },
  {
   "cell_type": "code",
   "execution_count": 11,
   "metadata": {},
   "outputs": [
    {
     "name": "stdout",
     "output_type": "stream",
     "text": [
      "140158091331232\n",
      "140158091331232\n"
     ]
    }
   ],
   "source": [
    "print(id(sys))\n",
    "test = sys\n",
    "print(id(test))"
   ]
  },
  {
   "cell_type": "markdown",
   "metadata": {},
   "source": []
  }
 ],
 "metadata": {
  "kernelspec": {
   "display_name": "Python 3.8.10 64-bit",
   "language": "python",
   "name": "python3"
  },
  "language_info": {
   "codemirror_mode": {
    "name": "ipython",
    "version": 3
   },
   "file_extension": ".py",
   "mimetype": "text/x-python",
   "name": "python",
   "nbconvert_exporter": "python",
   "pygments_lexer": "ipython3",
   "version": "3.9.7"
  },
  "orig_nbformat": 4,
  "vscode": {
   "interpreter": {
    "hash": "916dbcbb3f70747c44a77c7bcd40155683ae19c65e1c03b4aa3499c5328201f1"
   }
  }
 },
 "nbformat": 4,
 "nbformat_minor": 2
}
