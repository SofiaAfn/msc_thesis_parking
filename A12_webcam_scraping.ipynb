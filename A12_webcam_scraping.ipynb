{
 "cells": [
  {
   "cell_type": "code",
   "execution_count": 1,
   "metadata": {},
   "outputs": [],
   "source": [
    "from selenium import webdriver\n",
    "import time\n",
    "import os\n",
    "\n",
    "# import beepr\n",
    "\n",
    "from webdriver_manager.chrome import ChromeDriverManager\n",
    "\n",
    "# driver = webdriver.Chrome(ChromeDriverManager().install())"
   ]
  },
  {
   "cell_type": "code",
   "execution_count": null,
   "metadata": {},
   "outputs": [],
   "source": [
    "# Initialize the Chrome webdriver\n",
    "driver = webdriver.Chrome(\"/home/sf_afn/Downloads/chromedriver\")\n",
    "\n",
    "\n",
    "driver.maximize_window()  # For maximizing window\n",
    "driver.implicitly_wait(10)  # gives an implicit wait for 20 seconds\n",
    "\n",
    "# The URLs of the websites you want to capture and the CSS selector of the element\n",
    "websites = [\n",
    "    {\n",
    "        \"url\": \"https://www.youtube.com/live/bkvaeX5EoUs?feature=share\",\n",
    "        \"selector\": \"#cinematics\",\n",
    "    },\n",
    "    {\n",
    "        \"url\": \"https://www.youtube.com/watch?v=v7wWIO7brSM&ab_channel=BredbandiKristianstadAB\",\n",
    "        \"selector\": \"#cinematics\",\n",
    "    },\n",
    "]"
   ]
  },
  {
   "cell_type": "code",
   "execution_count": null,
   "metadata": {},
   "outputs": [],
   "source": [
    "# The loop will run indefinitely\n",
    "while True:\n",
    "    for website in websites:\n",
    "        # Navigate to the website\n",
    "        driver.get(website[\"url\"])\n",
    "\n",
    "        # Create a directory for the website if it doesn't exist\n",
    "        directory = (\n",
    "            website[\"url\"]\n",
    "            .replace(\"http://\", \"\")\n",
    "            .replace(\"https://\", \"\")\n",
    "            .replace(\".\", \"_\")\n",
    "        )\n",
    "        if not os.path.exists(directory):\n",
    "            os.makedirs(directory)\n",
    "\n",
    "        # Find the element\n",
    "        element = driver.find_element_by_css_selector(website[\"selector\"])\n",
    "\n",
    "        # Take screenshot of the element and save it with the current timestamp\n",
    "        timestamp = time.strftime(\"%Y%m%d-%H%M%S\")\n",
    "        element.screenshot(f\"{directory}/screenshot-{timestamp}.png\")\n",
    "\n",
    "    # Wait for 5 minutes (300 seconds)\n",
    "    time.sleep(300)"
   ]
  },
  {
   "cell_type": "code",
   "execution_count": null,
   "metadata": {},
   "outputs": [],
   "source": [
    "# Close the webdriver\n",
    "driver.quit()\n"
   ]
  },
  {
   "cell_type": "code",
   "execution_count": null,
   "metadata": {},
   "outputs": [],
   "source": []
  },
  {
   "cell_type": "code",
   "execution_count": null,
   "metadata": {},
   "outputs": [],
   "source": [
    "driver.maximize_window()  # For maximizing window\n",
    "driver.implicitly_wait(10)  # gives an implicit wait for 20 seconds\n",
    "\n",
    "# The URLs of the websites you want to capture and the CSS selector of the element\n",
    "websites = [\n",
    "    {\n",
    "        \"url\": \"https://www.youtube.com/live/bkvaeX5EoUs?feature=share\",\n",
    "        \"selector\": \"#cinematics\",\n",
    "    },\n",
    "    {\n",
    "        \"url\": \"https://www.youtube.com/watch?v=v7wWIO7brSM&ab_channel=BredbandiKristianstadAB\",\n",
    "        \"selector\": \"#cinematics\",\n",
    "    },\n",
    "    {\"url\": \"http://example3.com\", \"selector\": \"div > span.element3\"},\n",
    "]\n",
    "\n",
    "for website in websites:\n",
    "    # Navigate to the website\n",
    "    driver.get(website[\"url\"])\n",
    "\n",
    "    # Create a directory for the website if it doesn't exist\n",
    "    directory = (\n",
    "        website[\"url\"].replace(\"http://\", \"\").replace(\"https://\", \"\").replace(\".\", \"_\")\n",
    "    )\n",
    "    if not os.path.exists(directory):\n",
    "        os.makedirs(directory)\n",
    "\n",
    "    # Find the element\n",
    "    element = driver.find_element_by_css_selector(website[\"selector\"])\n",
    "\n",
    "    # Take screenshot of the element and save it\n",
    "    element.screenshot(f\"{directory}/screenshot.png\")\n",
    "\n",
    "# Close the webdriver\n",
    "driver.quit()"
   ]
  },
  {
   "cell_type": "code",
   "execution_count": 3,
   "metadata": {},
   "outputs": [
    {
     "ename": "KeyboardInterrupt",
     "evalue": "",
     "output_type": "error",
     "traceback": [
      "\u001b[0;31m---------------------------------------------------------------------------\u001b[0m",
      "\u001b[0;31mKeyboardInterrupt\u001b[0m                         Traceback (most recent call last)",
      "Cell \u001b[0;32mIn[3], line 40\u001b[0m\n\u001b[1;32m     37\u001b[0m         driver\u001b[39m.\u001b[39mquit()\n\u001b[1;32m     39\u001b[0m     \u001b[39m# Wait for 5 minutes (300 seconds)\u001b[39;00m\n\u001b[0;32m---> 40\u001b[0m     time\u001b[39m.\u001b[39;49msleep(\u001b[39m15\u001b[39;49m)\n\u001b[1;32m     41\u001b[0m \u001b[39mexcept\u001b[39;00m \u001b[39mException\u001b[39;00m \u001b[39mas\u001b[39;00m e:\n\u001b[1;32m     42\u001b[0m     \u001b[39m# If an error occurs, make a beep sound and print the error\u001b[39;00m\n\u001b[1;32m     43\u001b[0m     \u001b[39m#beep.beep(frequency=440, secs=1, volume=100)\u001b[39;00m\n\u001b[1;32m     44\u001b[0m     \u001b[39mprint\u001b[39m(\u001b[39mf\u001b[39m\u001b[39m'\u001b[39m\u001b[39mAn error occurred: \u001b[39m\u001b[39m{\u001b[39;00me\u001b[39m}\u001b[39;00m\u001b[39m'\u001b[39m)\n",
      "\u001b[0;31mKeyboardInterrupt\u001b[0m: "
     ]
    }
   ],
   "source": [
    "# The URLs of the websites you want to capture and the CSS selector of the element\n",
    "# websites = [{'url': 'https://www.youtube.com/live/bkvaeX5EoUs?feature=share', 'selector': '#cinematics'},\n",
    "# {'url': 'https://www.youtube.com/watch?v=v7wWIO7brSM&ab_channel=BredbandiKristianstadAB', 'selector': '#cinematics'}]\n",
    "\n",
    "website = {\n",
    "    \"url\": \"http://www.webbkameror.se/byggkameror/stockholmsstad/stockholm_5_1280.php\",\n",
    "    \"selector\": \".bild-border\",\n",
    "}\n",
    "\n",
    "# Create a directory for the website if it doesn't exist\n",
    "directory = \"Slaughter_House_area2\"\n",
    "if not os.path.exists(directory):\n",
    "    os.makedirs(directory)\n",
    "\n",
    "# Counter for memory management\n",
    "counter = 0\n",
    "\n",
    "# The loop will run indefinitely\n",
    "while True:\n",
    "    try:\n",
    "        # Initialize the Chrome webdriver\n",
    "        driver = webdriver.Chrome(\"/home/sf_afn/Downloads/chromedriver\")\n",
    "\n",
    "        driver.maximize_window()  # For maximizing window\n",
    "        driver.implicitly_wait(10)  # gives an implicit wait for 20 seconds\n",
    "\n",
    "        # Navigate to the website\n",
    "        driver.get(website[\"url\"])\n",
    "\n",
    "        # Find the element\n",
    "        element = driver.find_element_by_css_selector(website[\"selector\"])\n",
    "\n",
    "        # Take screenshot of the element and save it with the current timestamp\n",
    "        timestamp = time.strftime(\"%Y%m%d-%H%M%S\")\n",
    "        element.screenshot(f\"{directory}/Slaughterhouse-{timestamp}.png\")\n",
    "\n",
    "        # Close the webdriver every 100 iterations to free up memory\n",
    "        counter += 1\n",
    "        if counter % 100 == 0:\n",
    "            driver.quit()\n",
    "\n",
    "        # Wait for 5 minutes (300 seconds)\n",
    "        time.sleep(15)\n",
    "    except Exception as e:\n",
    "        # If an error occurs, make a beep sound and print the error\n",
    "        # beep.beep(frequency=440, secs=1, volume=100)\n",
    "        print(f\"An error occurred: {e}\")"
   ]
  },
  {
   "cell_type": "code",
   "execution_count": 4,
   "metadata": {},
   "outputs": [],
   "source": [
    "# Close the webdriver if an error occurs\n",
    "driver.quit()\n"
   ]
  },
  {
   "cell_type": "code",
   "execution_count": null,
   "metadata": {},
   "outputs": [],
   "source": []
  },
  {
   "cell_type": "code",
   "execution_count": null,
   "metadata": {},
   "outputs": [],
   "source": []
  }
 ],
 "metadata": {
  "kernelspec": {
   "display_name": "prkng_v2_env",
   "language": "python",
   "name": "python3"
  },
  "language_info": {
   "codemirror_mode": {
    "name": "ipython",
    "version": 3
   },
   "file_extension": ".py",
   "mimetype": "text/x-python",
   "name": "python",
   "nbconvert_exporter": "python",
   "pygments_lexer": "ipython3",
   "version": "3.10.10"
  },
  "orig_nbformat": 4
 },
 "nbformat": 4,
 "nbformat_minor": 2
}
